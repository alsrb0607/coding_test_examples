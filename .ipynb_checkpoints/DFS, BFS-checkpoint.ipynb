{
 "cells": [
  {
   "cell_type": "code",
   "execution_count": null,
   "id": "3853265a",
   "metadata": {},
   "outputs": [],
   "source": [
    "# 그래프의 표현 예시 (1)\n",
    "0: 1, 2\n",
    "1: 0, 2\n",
    "2: 0, 1, 3\n",
    "3: 2\n",
    "4: 5, 6\n",
    "5: 4, 6\n",
    "6: 4, 5"
   ]
  },
  {
   "cell_type": "code",
   "execution_count": 13,
   "id": "4f77969a",
   "metadata": {},
   "outputs": [],
   "source": [
    "g = [[1,2],[0,2],[0,1,3],[2],[5,6],[4,6],[4,5]]\n",
    "visit = [False]*len(g)\n",
    "def dfs(graph, start, visit):\n",
    "    visit[start] = True\n",
    "    print(start, end = ' ')\n",
    "    for i in graph[start]:\n",
    "        if not visit[i]:\n",
    "            dfs(graph, i, visit)\n"
   ]
  },
  {
   "cell_type": "code",
   "execution_count": 14,
   "id": "5bab7516",
   "metadata": {},
   "outputs": [
    {
     "name": "stdout",
     "output_type": "stream",
     "text": [
      "2 0 1 3 "
     ]
    }
   ],
   "source": [
    "dfs(g, 2, visit)"
   ]
  },
  {
   "cell_type": "code",
   "execution_count": 4,
   "id": "8db6c36a",
   "metadata": {},
   "outputs": [
    {
     "name": "stdout",
     "output_type": "stream",
     "text": [
      "5 4 6 "
     ]
    }
   ],
   "source": [
    "dfs(g, 5, visit)"
   ]
  },
  {
   "cell_type": "code",
   "execution_count": 23,
   "id": "52fdf0df",
   "metadata": {},
   "outputs": [],
   "source": [
    "from collections import deque\n",
    "\n",
    "g = [[1,2],[0,2],[0,1,3],[2],[5,6],[4,6],[4,5]]\n",
    "visit = [False]*len(g)\n",
    "\n",
    "def bfs(graph, start, visit):\n",
    "    q= deque([start])\n",
    "    visit[start] = True\n",
    "    while q:\n",
    "        now = q.popleft()\n",
    "        print(now, end=' ')\n",
    "        for i in graph[now]:\n",
    "            if not visit[i]:\n",
    "                q.append(i)\n",
    "                visit[i] = True"
   ]
  },
  {
   "cell_type": "code",
   "execution_count": 22,
   "id": "b9c6eeae",
   "metadata": {},
   "outputs": [
    {
     "name": "stdout",
     "output_type": "stream",
     "text": [
      "3 2 0 1 "
     ]
    }
   ],
   "source": [
    "bfs(g, 3, visit)"
   ]
  },
  {
   "cell_type": "code",
   "execution_count": 24,
   "id": "6c5a44af",
   "metadata": {},
   "outputs": [
    {
     "name": "stdout",
     "output_type": "stream",
     "text": [
      "6 4 5 "
     ]
    }
   ],
   "source": [
    "bfs(g, 6, visit)"
   ]
  },
  {
   "cell_type": "code",
   "execution_count": null,
   "id": "a47dd000",
   "metadata": {},
   "outputs": [],
   "source": []
  }
 ],
 "metadata": {
  "kernelspec": {
   "display_name": "Python 3",
   "language": "python",
   "name": "python3"
  },
  "language_info": {
   "codemirror_mode": {
    "name": "ipython",
    "version": 3
   },
   "file_extension": ".py",
   "mimetype": "text/x-python",
   "name": "python",
   "nbconvert_exporter": "python",
   "pygments_lexer": "ipython3",
   "version": "3.8.8"
  },
  "toc": {
   "base_numbering": 1,
   "nav_menu": {},
   "number_sections": true,
   "sideBar": true,
   "skip_h1_title": false,
   "title_cell": "Table of Contents",
   "title_sidebar": "Contents",
   "toc_cell": false,
   "toc_position": {},
   "toc_section_display": true,
   "toc_window_display": false
  }
 },
 "nbformat": 4,
 "nbformat_minor": 5
}
