{
 "cells": [
  {
   "cell_type": "code",
   "execution_count": 6,
   "id": "8e03887d",
   "metadata": {},
   "outputs": [
    {
     "name": "stdout",
     "output_type": "stream",
     "text": [
      "102\n",
      "210\n"
     ]
    }
   ],
   "source": [
    "n=input()\n",
    "if '0' not in n or sum((m:=list(map(int, list(n)))))%3:\n",
    "    print(-1)\n",
    "else:\n",
    "    m.sort(reverse=True)\n",
    "    print(''.join(map(str,m)))"
   ]
  },
  {
   "cell_type": "code",
   "execution_count": null,
   "id": "18efb41d",
   "metadata": {},
   "outputs": [],
   "source": []
  }
 ],
 "metadata": {
  "kernelspec": {
   "display_name": "Python 3",
   "language": "python",
   "name": "python3"
  },
  "language_info": {
   "codemirror_mode": {
    "name": "ipython",
    "version": 3
   },
   "file_extension": ".py",
   "mimetype": "text/x-python",
   "name": "python",
   "nbconvert_exporter": "python",
   "pygments_lexer": "ipython3",
   "version": "3.8.8"
  },
  "toc": {
   "base_numbering": 1,
   "nav_menu": {},
   "number_sections": true,
   "sideBar": true,
   "skip_h1_title": false,
   "title_cell": "Table of Contents",
   "title_sidebar": "Contents",
   "toc_cell": false,
   "toc_position": {},
   "toc_section_display": true,
   "toc_window_display": false
  }
 },
 "nbformat": 4,
 "nbformat_minor": 5
}
