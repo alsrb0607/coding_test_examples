{
 "cells": [
  {
   "cell_type": "code",
   "execution_count": null,
   "id": "262f915d",
   "metadata": {},
   "outputs": [],
   "source": [
    "import sympy as sym\n",
    "from sympy.abc import x,y,e"
   ]
  },
  {
   "cell_type": "code",
   "execution_count": 37,
   "id": "bf049d5f",
   "metadata": {},
   "outputs": [
    {
     "data": {
      "text/latex": [
       "$\\displaystyle \\operatorname{Poly}{\\left( 1.0 x^{8}y^{2}, x, y, domain=\\mathbb{C} \\right)}$"
      ],
      "text/plain": [
       "Poly(1.0*x**8*y**2, x, y, domain='CC')"
      ]
     },
     "execution_count": 37,
     "metadata": {},
     "output_type": "execute_result"
    }
   ],
   "source": [
    "sym.poly((x**2**2*y)**2, domain=\"C\")"
   ]
  },
  {
   "cell_type": "code",
   "execution_count": 14,
   "id": "7190b095",
   "metadata": {},
   "outputs": [
    {
     "data": {
      "text/latex": [
       "$\\displaystyle \\operatorname{Poly}{\\left( 2 x, x, domain=\\mathbb{Z} \\right)}$"
      ],
      "text/plain": [
       "Poly(2*x, x, domain='ZZ')"
      ]
     },
     "execution_count": 14,
     "metadata": {},
     "output_type": "execute_result"
    }
   ],
   "source": [
    "sym.diff(sym.poly(x**2), x)"
   ]
  },
  {
   "cell_type": "code",
   "execution_count": 15,
   "id": "f9b29d9b",
   "metadata": {},
   "outputs": [
    {
     "data": {
      "text/latex": [
       "$\\displaystyle - 2 x \\sin{\\left(x^{2} \\right)}$"
      ],
      "text/plain": [
       "-2*x*sin(x**2)"
      ]
     },
     "execution_count": 15,
     "metadata": {},
     "output_type": "execute_result"
    }
   ],
   "source": [
    "sym.diff(sym.cos(x**2), x)"
   ]
  },
  {
   "cell_type": "code",
   "execution_count": 16,
   "id": "6db91899",
   "metadata": {},
   "outputs": [
    {
     "data": {
      "text/latex": [
       "$\\displaystyle - e^{x} \\log{\\left(e \\right)} \\sin{\\left(e^{x} \\right)}$"
      ],
      "text/plain": [
       "-e**x*log(e)*sin(e**x)"
      ]
     },
     "execution_count": 16,
     "metadata": {},
     "output_type": "execute_result"
    }
   ],
   "source": [
    "sym.diff(sym.cos(e**x), x)"
   ]
  },
  {
   "cell_type": "code",
   "execution_count": 17,
   "id": "06a71eb0",
   "metadata": {},
   "outputs": [
    {
     "data": {
      "text/latex": [
       "$\\displaystyle - \\left(3 x^{2} + y\\right) \\sin{\\left(x^{3} + x y + y^{2} \\right)}$"
      ],
      "text/plain": [
       "-(3*x**2 + y)*sin(x**3 + x*y + y**2)"
      ]
     },
     "execution_count": 17,
     "metadata": {},
     "output_type": "execute_result"
    }
   ],
   "source": [
    "sym.diff(sym.cos(y**2 + x**3 + x*y), x)"
   ]
  },
  {
   "cell_type": "code",
   "execution_count": 18,
   "id": "950022ec",
   "metadata": {},
   "outputs": [
    {
     "data": {
      "text/latex": [
       "$\\displaystyle - \\left(x + 2 y\\right) \\sin{\\left(x^{3} + x y + y^{2} \\right)}$"
      ],
      "text/plain": [
       "-(x + 2*y)*sin(x**3 + x*y + y**2)"
      ]
     },
     "execution_count": 18,
     "metadata": {},
     "output_type": "execute_result"
    }
   ],
   "source": [
    "sym.diff(sym.cos(y**2 + x**3 + x*y), y)"
   ]
  },
  {
   "cell_type": "code",
   "execution_count": 24,
   "id": "328799f4",
   "metadata": {},
   "outputs": [
    {
     "data": {
      "text/latex": [
       "$\\displaystyle - \\frac{y \\left(2 x + 1\\right)}{x^{2} + x - 2 y}$"
      ],
      "text/plain": [
       "-y*(2*x + 1)/(x**2 + x - 2*y)"
      ]
     },
     "execution_count": 24,
     "metadata": {},
     "output_type": "execute_result"
    }
   ],
   "source": [
    "sym.idiff((x**2)*y + x*y - y**2, y , x)"
   ]
  },
  {
   "cell_type": "code",
   "execution_count": 38,
   "id": "c156e5f9",
   "metadata": {},
   "outputs": [
    {
     "data": {
      "text/latex": [
       "$\\displaystyle \\int \\cos{\\left(x^{3} + x y + y^{2} \\right)}\\, dx$"
      ],
      "text/plain": [
       "Integral(cos(x**3 + x*y + y**2), x)"
      ]
     },
     "execution_count": 38,
     "metadata": {},
     "output_type": "execute_result"
    }
   ],
   "source": [
    "sym.integrate(sym.cos(y**2 + x**3 + x*y), x)"
   ]
  },
  {
   "cell_type": "code",
   "execution_count": 41,
   "id": "8adedf46",
   "metadata": {},
   "outputs": [
    {
     "data": {
      "text/latex": [
       "$\\displaystyle \\operatorname{Poly}{\\left( \\frac{1}{3} x^{3} + \\frac{1}{2} x^{2} - 2 x, x, domain=\\mathbb{Q} \\right)}$"
      ],
      "text/plain": [
       "Poly(1/3*x**3 + 1/2*x**2 - 2*x, x, domain='QQ')"
      ]
     },
     "execution_count": 41,
     "metadata": {},
     "output_type": "execute_result"
    }
   ],
   "source": [
    "sym.poly(x**2 + x - 2).integrate()"
   ]
  },
  {
   "cell_type": "code",
   "execution_count": 44,
   "id": "08ebc3fe",
   "metadata": {},
   "outputs": [
    {
     "data": {
      "text/latex": [
       "$\\displaystyle \\begin{cases} \\frac{e^{x^{2}}}{2 \\log{\\left(e \\right)}} & \\text{for}\\: 2 \\log{\\left(e \\right)} \\neq 0 \\\\\\frac{x^{2}}{2} & \\text{otherwise} \\end{cases}$"
      ],
      "text/plain": [
       "Piecewise((e**(x**2)/(2*log(e)), Ne(2*log(e), 0)), (x**2/2, True))"
      ]
     },
     "execution_count": 44,
     "metadata": {},
     "output_type": "execute_result"
    }
   ],
   "source": [
    "sym.integrate(x*e**(x**2), x)"
   ]
  },
  {
   "cell_type": "code",
   "execution_count": 46,
   "id": "d8be0360",
   "metadata": {},
   "outputs": [
    {
     "data": {
      "text/latex": [
       "$\\displaystyle \\operatorname{Poly}{\\left( 720 x^{7} + 360 x^{2} + 6, x, domain=\\mathbb{Z} \\right)}$"
      ],
      "text/plain": [
       "Poly(720*x**7 + 360*x**2 + 6, x, domain='ZZ')"
      ]
     },
     "execution_count": 46,
     "metadata": {},
     "output_type": "execute_result"
    }
   ],
   "source": [
    "sym.diff(sym.poly(x**10 + 6*x**5 + x**3), x,x,x)"
   ]
  },
  {
   "cell_type": "code",
   "execution_count": null,
   "id": "f25bab1c",
   "metadata": {},
   "outputs": [],
   "source": []
  }
 ],
 "metadata": {
  "kernelspec": {
   "display_name": "Python 3",
   "language": "python",
   "name": "python3"
  },
  "language_info": {
   "codemirror_mode": {
    "name": "ipython",
    "version": 3
   },
   "file_extension": ".py",
   "mimetype": "text/x-python",
   "name": "python",
   "nbconvert_exporter": "python",
   "pygments_lexer": "ipython3",
   "version": "3.8.8"
  },
  "toc": {
   "base_numbering": 1,
   "nav_menu": {},
   "number_sections": true,
   "sideBar": true,
   "skip_h1_title": false,
   "title_cell": "Table of Contents",
   "title_sidebar": "Contents",
   "toc_cell": false,
   "toc_position": {},
   "toc_section_display": true,
   "toc_window_display": false
  }
 },
 "nbformat": 4,
 "nbformat_minor": 5
}
