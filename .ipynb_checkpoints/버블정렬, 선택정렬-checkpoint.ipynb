{
 "cells": [
  {
   "cell_type": "markdown",
   "id": "7e249ed7",
   "metadata": {},
   "source": [
    "# 버블 정렬"
   ]
  },
  {
   "cell_type": "code",
   "execution_count": 9,
   "id": "63859d19",
   "metadata": {},
   "outputs": [],
   "source": [
    "def bubble_sort(list):\n",
    "    m = len(list)\n",
    "    while m != 0:\n",
    "        m-=1\n",
    "        for n in range(m):\n",
    "            if list[n] > list[n+1]:\n",
    "                list[n], list[n+1] = list[n+1], list[n]\n",
    "    return list"
   ]
  },
  {
   "cell_type": "code",
   "execution_count": 10,
   "id": "cba124cf",
   "metadata": {},
   "outputs": [
    {
     "data": {
      "text/plain": [
       "[1, 3, 5, 6, 9]"
      ]
     },
     "execution_count": 10,
     "metadata": {},
     "output_type": "execute_result"
    }
   ],
   "source": [
    "bubble_sort([3,5,6,9,1])"
   ]
  },
  {
   "cell_type": "markdown",
   "id": "185e4538",
   "metadata": {},
   "source": [
    "# 선택 정렬"
   ]
  },
  {
   "cell_type": "code",
   "execution_count": 17,
   "id": "23930883",
   "metadata": {},
   "outputs": [],
   "source": [
    "def selection_sort(list):\n",
    "    m = len(list)\n",
    "    i=-1\n",
    "    while i != m-1:\n",
    "        i+=1\n",
    "        tmp = i\n",
    "        for n in range(i+1,m):\n",
    "            if list[tmp] > list[n]:\n",
    "                tmp = n\n",
    "        list[i], list[tmp] = list[tmp], list[i]\n",
    "    return list"
   ]
  },
  {
   "cell_type": "code",
   "execution_count": 18,
   "id": "fe34f5f4",
   "metadata": {},
   "outputs": [
    {
     "data": {
      "text/plain": [
       "[1, 3, 5, 6, 9]"
      ]
     },
     "execution_count": 18,
     "metadata": {},
     "output_type": "execute_result"
    }
   ],
   "source": [
    "selection_sort([3,5,6,9,1])"
   ]
  },
  {
   "cell_type": "code",
   "execution_count": null,
   "id": "cb0a686f",
   "metadata": {},
   "outputs": [],
   "source": []
  }
 ],
 "metadata": {
  "kernelspec": {
   "display_name": "Python 3",
   "language": "python",
   "name": "python3"
  },
  "language_info": {
   "codemirror_mode": {
    "name": "ipython",
    "version": 3
   },
   "file_extension": ".py",
   "mimetype": "text/x-python",
   "name": "python",
   "nbconvert_exporter": "python",
   "pygments_lexer": "ipython3",
   "version": "3.8.8"
  },
  "toc": {
   "base_numbering": 1,
   "nav_menu": {},
   "number_sections": true,
   "sideBar": true,
   "skip_h1_title": false,
   "title_cell": "Table of Contents",
   "title_sidebar": "Contents",
   "toc_cell": false,
   "toc_position": {},
   "toc_section_display": true,
   "toc_window_display": false
  }
 },
 "nbformat": 4,
 "nbformat_minor": 5
}
