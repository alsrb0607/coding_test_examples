{
 "cells": [
  {
   "cell_type": "code",
   "execution_count": 8,
   "id": "0cf0aab7",
   "metadata": {},
   "outputs": [],
   "source": [
    "def binary(n):\n",
    "    binary = ''\n",
    "    while n:\n",
    "        binary = str(n%2) + binary\n",
    "        n //= 2\n",
    "    return binary"
   ]
  },
  {
   "cell_type": "code",
   "execution_count": 11,
   "id": "b9cfbfb7",
   "metadata": {},
   "outputs": [
    {
     "data": {
      "text/plain": [
       "'10111'"
      ]
     },
     "execution_count": 11,
     "metadata": {},
     "output_type": "execute_result"
    }
   ],
   "source": [
    "binary(23)"
   ]
  },
  {
   "cell_type": "code",
   "execution_count": 6,
   "id": "cc5177d0",
   "metadata": {},
   "outputs": [
    {
     "data": {
      "text/plain": [
       "23"
      ]
     },
     "execution_count": 6,
     "metadata": {},
     "output_type": "execute_result"
    }
   ],
   "source": [
    "int('10111' , 2)"
   ]
  },
  {
   "cell_type": "code",
   "execution_count": 25,
   "id": "867e7bbe",
   "metadata": {},
   "outputs": [],
   "source": [
    "def binary(n):\n",
    "    binary = ''\n",
    "    while n:\n",
    "        binary = str(n%2) + binary\n",
    "        n //= 2\n",
    "    return binary\n",
    "def solution(n):\n",
    "    k = binary(n).count('1')\n",
    "    n+=1\n",
    "    while binary(n).count('1') != k:\n",
    "        n+=1\n",
    "    return n"
   ]
  },
  {
   "cell_type": "code",
   "execution_count": 28,
   "id": "05d881b4",
   "metadata": {},
   "outputs": [
    {
     "data": {
      "text/plain": [
       "83"
      ]
     },
     "execution_count": 28,
     "metadata": {},
     "output_type": "execute_result"
    }
   ],
   "source": [
    "solution(78)"
   ]
  },
  {
   "cell_type": "code",
   "execution_count": 22,
   "id": "e8a51c7e",
   "metadata": {},
   "outputs": [
    {
     "data": {
      "text/plain": [
       "4"
      ]
     },
     "execution_count": 22,
     "metadata": {},
     "output_type": "execute_result"
    }
   ],
   "source": [
    "binary(83).count('1')"
   ]
  },
  {
   "cell_type": "code",
   "execution_count": 27,
   "id": "23f94eec",
   "metadata": {},
   "outputs": [],
   "source": [
    "def solution(n):\n",
    "    k = bin(n).count('1')\n",
    "    n+=1\n",
    "    while bin(n).count('1') != k:\n",
    "        n+=1\n",
    "    return n"
   ]
  },
  {
   "cell_type": "code",
   "execution_count": 32,
   "id": "e4b51a19",
   "metadata": {},
   "outputs": [
    {
     "data": {
      "text/plain": [
       "'0b1001110'"
      ]
     },
     "execution_count": 32,
     "metadata": {},
     "output_type": "execute_result"
    }
   ],
   "source": [
    "bin(78)"
   ]
  },
  {
   "cell_type": "code",
   "execution_count": null,
   "id": "eb6db65e",
   "metadata": {},
   "outputs": [],
   "source": []
  }
 ],
 "metadata": {
  "kernelspec": {
   "display_name": "Python 3",
   "language": "python",
   "name": "python3"
  },
  "language_info": {
   "codemirror_mode": {
    "name": "ipython",
    "version": 3
   },
   "file_extension": ".py",
   "mimetype": "text/x-python",
   "name": "python",
   "nbconvert_exporter": "python",
   "pygments_lexer": "ipython3",
   "version": "3.8.11"
  },
  "toc": {
   "base_numbering": 1,
   "nav_menu": {},
   "number_sections": true,
   "sideBar": true,
   "skip_h1_title": false,
   "title_cell": "Table of Contents",
   "title_sidebar": "Contents",
   "toc_cell": false,
   "toc_position": {},
   "toc_section_display": true,
   "toc_window_display": false
  }
 },
 "nbformat": 4,
 "nbformat_minor": 5
}
