{
 "cells": [
  {
   "cell_type": "code",
   "execution_count": 8,
   "id": "355467ac",
   "metadata": {},
   "outputs": [],
   "source": [
    "from itertools import combinations\n",
    "number = \"1231234\"\t\n",
    "k = 3\n",
    "\n",
    "tmp = list(combinations(range(len(number)) , len(number)-k))"
   ]
  },
  {
   "cell_type": "code",
   "execution_count": 17,
   "id": "318b6554",
   "metadata": {},
   "outputs": [],
   "source": [
    "answer = [''.join([number[i] for i in t]) for t in tmp]"
   ]
  },
  {
   "cell_type": "code",
   "execution_count": 19,
   "id": "891acb5d",
   "metadata": {},
   "outputs": [
    {
     "data": {
      "text/plain": [
       "'3234'"
      ]
     },
     "execution_count": 19,
     "metadata": {},
     "output_type": "execute_result"
    }
   ],
   "source": [
    "max(answer)"
   ]
  },
  {
   "cell_type": "code",
   "execution_count": null,
   "id": "91f0b2f2",
   "metadata": {},
   "outputs": [],
   "source": [
    "from itertools import combinations\n",
    "def solution(number, k):\n",
    "    tmp = list(combinations(range(len(number)) , len(number)-k))\n",
    "    return max([''.join([number[i] for i in t]) for t in tmp])"
   ]
  },
  {
   "cell_type": "code",
   "execution_count": null,
   "id": "a8ee8a65",
   "metadata": {},
   "outputs": [],
   "source": [
    "# 시간초과 2\n",
    "from itertools import combinations\n",
    "def solution(number, k):\n",
    "    cnt = number[:len(number) - k]\n",
    "    start = 0\n",
    "    for i in range(k):\n",
    "        if cnt > number[i+1:i+len(number) - k+1]:\n",
    "            continue\n",
    "        else:\n",
    "            cnt = number[i+1:i+len(number) - k+1]\n",
    "            start = i+1\n",
    "    tmp = list(combinations(range(start+1, len(number)) , len(number)-k-1))\n",
    "    return number[start] + max([''.join([number[i] for i in t]) for t in tmp])"
   ]
  },
  {
   "cell_type": "code",
   "execution_count": 1,
   "id": "991da1da",
   "metadata": {},
   "outputs": [],
   "source": [
    "number = \"4177252841\"\t\n",
    "k = 4\n",
    "cnt = number[:len(number) - k]\n",
    "tmp = []\n",
    "start = 0"
   ]
  },
  {
   "cell_type": "code",
   "execution_count": 2,
   "id": "462ba444",
   "metadata": {},
   "outputs": [],
   "source": [
    "for i in range(len(number) - k):\n",
    "    if i == k+1:\n",
    "        break\n",
    "    if cnt > number[i+1:i+len(number) - k+1]:\n",
    "        continue\n",
    "    else:\n",
    "        cnt = number[i+1:i+len(number) - k+1]\n",
    "        start = i+1"
   ]
  },
  {
   "cell_type": "code",
   "execution_count": 3,
   "id": "442f0566",
   "metadata": {},
   "outputs": [
    {
     "data": {
      "text/plain": [
       "2"
      ]
     },
     "execution_count": 3,
     "metadata": {},
     "output_type": "execute_result"
    }
   ],
   "source": [
    "start"
   ]
  },
  {
   "cell_type": "code",
   "execution_count": 131,
   "id": "733b1854",
   "metadata": {},
   "outputs": [],
   "source": [
    "tmp = number[start+1:]\n",
    "check = 0\n",
    "answer = number[start]\n",
    "for i in range(len(tmp)):\n",
    "    if check == len(tmp) - (len(number) - k):\n",
    "        answer += tmp[i:]\n",
    "        break\n",
    "    elif len(answer) == (len(number) - k):\n",
    "        break\n",
    "    if tmp > tmp[:i] + tmp[i+1:]:\n",
    "        answer += tmp[i]\n",
    "    else:\n",
    "        check += 1"
   ]
  },
  {
   "cell_type": "code",
   "execution_count": 132,
   "id": "d1207e34",
   "metadata": {},
   "outputs": [
    {
     "data": {
      "text/plain": [
       "'775841'"
      ]
     },
     "execution_count": 132,
     "metadata": {},
     "output_type": "execute_result"
    }
   ],
   "source": [
    "answer"
   ]
  },
  {
   "cell_type": "code",
   "execution_count": 129,
   "id": "7f728fe7",
   "metadata": {},
   "outputs": [
    {
     "data": {
      "text/plain": [
       "False"
      ]
     },
     "execution_count": 129,
     "metadata": {},
     "output_type": "execute_result"
    }
   ],
   "source": [
    "\"77252841\" < \"7252841\"."
   ]
  },
  {
   "cell_type": "code",
   "execution_count": 63,
   "id": "598bb780",
   "metadata": {},
   "outputs": [
    {
     "data": {
      "text/plain": [
       "'752841'"
      ]
     },
     "execution_count": 63,
     "metadata": {},
     "output_type": "execute_result"
    }
   ],
   "source": [
    "solution(\"4177252841\", 4)"
   ]
  },
  {
   "cell_type": "code",
   "execution_count": 5,
   "id": "7d9d1479",
   "metadata": {},
   "outputs": [
    {
     "data": {
      "text/plain": [
       "'3'"
      ]
     },
     "execution_count": 5,
     "metadata": {},
     "output_type": "execute_result"
    }
   ],
   "source": [
    "max(['1','2','3','3'])"
   ]
  },
  {
   "cell_type": "code",
   "execution_count": 20,
   "id": "426e8c4f",
   "metadata": {},
   "outputs": [],
   "source": [
    "# 8, 10 시간초과\n",
    "def solution(number, k):\n",
    "    length = len(number) - k\n",
    "    answer = ''\n",
    "    i = -1\n",
    "    while len(answer) < length:\n",
    "        i +=1\n",
    "        tmp = max(set(number[i:i+k+1]))\n",
    "        if number[i] == tmp:\n",
    "            answer += number[i]\n",
    "        elif number[i] != tmp:\n",
    "            k -=1\n",
    "        if k ==0:\n",
    "            answer += number[i+1:] \n",
    "        \n",
    "    return answer"
   ]
  },
  {
   "cell_type": "code",
   "execution_count": 64,
   "id": "de66e114",
   "metadata": {},
   "outputs": [],
   "source": [
    "# 10 시간초과\n",
    "def solution(number, k):\n",
    "    length = len(number) - k\n",
    "    answer = ''\n",
    "    i = 0\n",
    "    while len(answer) < length:\n",
    "        tmp = number[i:i+k+1]\n",
    "        num = max(tmp)\n",
    "        answer += num\n",
    "        j = tmp.find(num)\n",
    "        k -= j\n",
    "        i += j + 1\n",
    "        if k ==0:\n",
    "            answer += number[i:] \n",
    "            break\n",
    "    return answer"
   ]
  },
  {
   "cell_type": "code",
   "execution_count": null,
   "id": "36fac1df",
   "metadata": {},
   "outputs": [],
   "source": [
    "# 통과\n",
    "from collections import deque\n",
    "def solution(number, k):\n",
    "    length = len(number) - k\n",
    "    answer = deque()\n",
    "    while len(answer) < length:\n",
    "        i = 0 \n",
    "        num = \"-1\"\n",
    "        for x in range(i, i+k+1):\n",
    "            if num == '9':\n",
    "                break\n",
    "            if num < number[x]:\n",
    "                num = number[x]\n",
    "        answer.append(num)\n",
    "        j = number.find(num)\n",
    "        k -= j\n",
    "        i += j + 1\n",
    "        number = number[i:]\n",
    "        if k ==0:\n",
    "            answer.append(number)\n",
    "            break\n",
    "    return ''.join(answer)"
   ]
  },
  {
   "cell_type": "code",
   "execution_count": 185,
   "id": "55c2a52e",
   "metadata": {},
   "outputs": [],
   "source": [
    "# 통과\n",
    "def solution(number, k):\n",
    "    length = len(number) - k\n",
    "    answer = ''\n",
    "    while len(answer) < length:\n",
    "        i = 0 \n",
    "        num = \"-1\"\n",
    "        for x in range(i, i+k+1):\n",
    "            if num == '9':\n",
    "                break\n",
    "            if num < number[x]:\n",
    "                num = number[x]\n",
    "        answer += num\n",
    "        j = number.find(num)\n",
    "        k -= j\n",
    "        i += j + 1\n",
    "        number = number[i:]\n",
    "        if k ==0:\n",
    "            answer += number\n",
    "            break\n",
    "    return answer"
   ]
  },
  {
   "cell_type": "code",
   "execution_count": 183,
   "id": "e974d856",
   "metadata": {},
   "outputs": [
    {
     "data": {
      "text/plain": [
       "'7775841'"
      ]
     },
     "execution_count": 183,
     "metadata": {},
     "output_type": "execute_result"
    }
   ],
   "source": [
    "solution(\"41777252841\", 4)"
   ]
  },
  {
   "cell_type": "code",
   "execution_count": 136,
   "id": "9f316311",
   "metadata": {},
   "outputs": [
    {
     "data": {
      "text/plain": [
       "(12, 16)"
      ]
     },
     "execution_count": 136,
     "metadata": {},
     "output_type": "execute_result"
    }
   ],
   "source": [
    "len('999999977841'), len(\"9999994177252841\")"
   ]
  },
  {
   "cell_type": "code",
   "execution_count": 186,
   "id": "1baeeeba",
   "metadata": {},
   "outputs": [
    {
     "data": {
      "text/plain": [
       "'999999775841'"
      ]
     },
     "execution_count": 186,
     "metadata": {},
     "output_type": "execute_result"
    }
   ],
   "source": [
    "solution(\"9999994177252841\", 4)"
   ]
  },
  {
   "cell_type": "code",
   "execution_count": null,
   "id": "2e1b4ec6",
   "metadata": {},
   "outputs": [],
   "source": [
    "# 스택 활용\n",
    "def solution(number, k):\n",
    "    stack = [number[0]]\n",
    "    for num in number[1:]:\n",
    "        while len(stack) > 0 and stack[-1] < num and k > 0:\n",
    "            k -= 1\n",
    "            stack.pop()\n",
    "        stack.append(num)\n",
    "    if k != 0:\n",
    "        stack = stack[:-k]\n",
    "    return ''.join(stack)\n"
   ]
  }
 ],
 "metadata": {
  "kernelspec": {
   "display_name": "Python 3",
   "language": "python",
   "name": "python3"
  },
  "language_info": {
   "codemirror_mode": {
    "name": "ipython",
    "version": 3
   },
   "file_extension": ".py",
   "mimetype": "text/x-python",
   "name": "python",
   "nbconvert_exporter": "python",
   "pygments_lexer": "ipython3",
   "version": "3.8.11"
  },
  "toc": {
   "base_numbering": 1,
   "nav_menu": {},
   "number_sections": true,
   "sideBar": true,
   "skip_h1_title": false,
   "title_cell": "Table of Contents",
   "title_sidebar": "Contents",
   "toc_cell": false,
   "toc_position": {},
   "toc_section_display": true,
   "toc_window_display": false
  }
 },
 "nbformat": 4,
 "nbformat_minor": 5
}
