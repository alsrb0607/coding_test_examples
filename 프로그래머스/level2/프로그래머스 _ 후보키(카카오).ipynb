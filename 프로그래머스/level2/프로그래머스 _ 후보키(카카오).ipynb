{
 "cells": [
  {
   "cell_type": "code",
   "execution_count": 46,
   "id": "abea40c2",
   "metadata": {},
   "outputs": [],
   "source": [
    "ex = [[\"100\",\"ryan\",\"music\",\"2\"],[\"200\",\"apeach\",\"math\",\"2\"],\n",
    " [\"300\",\"tube\",\"computer\",\"3\"],[\"400\",\"con\",\"computer\",\"4\"],\n",
    " [\"500\",\"muzi\",\"music\",\"3\"],[\"600\",\"apeach\",\"music\",\"2\"]]"
   ]
  },
  {
   "cell_type": "code",
   "execution_count": 43,
   "id": "d69d4220",
   "metadata": {},
   "outputs": [
    {
     "data": {
      "text/plain": [
       "[[0, 1, 2, 3]]"
      ]
     },
     "execution_count": 43,
     "metadata": {},
     "output_type": "execute_result"
    }
   ],
   "source": [
    "targets = [[i for i in range(len(ex[0]))]]\n",
    "targets"
   ]
  },
  {
   "cell_type": "code",
   "execution_count": 44,
   "id": "568063aa",
   "metadata": {},
   "outputs": [
    {
     "data": {
      "text/plain": [
       "0"
      ]
     },
     "execution_count": 44,
     "metadata": {},
     "output_type": "execute_result"
    }
   ],
   "source": [
    "targets = [0,1,2,3]\n",
    "targets.pop(0)"
   ]
  },
  {
   "cell_type": "code",
   "execution_count": 33,
   "id": "3fe69839",
   "metadata": {},
   "outputs": [
    {
     "name": "stdout",
     "output_type": "stream",
     "text": [
      "ryanmusic2\n",
      "apeachmath2\n",
      "tubecomputer3\n",
      "concomputer4\n",
      "muzimusic3\n",
      "apeachmusic2\n",
      "['ryanmusic2', 'apeachmath2', 'tubecomputer3', 'concomputer4', 'muzimusic3', 'apeachmusic2']\n",
      "---\n",
      "100music2\n",
      "200math2\n",
      "300computer3\n",
      "400computer4\n",
      "500music3\n",
      "600music2\n",
      "['100music2', '200math2', '300computer3', '400computer4', '500music3', '600music2']\n",
      "---\n",
      "100ryan2\n",
      "200apeach2\n",
      "300tube3\n",
      "400con4\n",
      "500muzi3\n",
      "600apeach2\n",
      "['100ryan2', '200apeach2', '300tube3', '400con4', '500muzi3', '600apeach2']\n",
      "---\n",
      "100ryanmusic\n",
      "200apeachmath\n",
      "300tubecomputer\n",
      "400concomputer\n",
      "500muzimusic\n",
      "600apeachmusic\n",
      "['100ryanmusic', '200apeachmath', '300tubecomputer', '400concomputer', '500muzimusic', '600apeachmusic']\n",
      "---\n"
     ]
    },
    {
     "data": {
      "text/plain": [
       "[[1, 2, 3], [0, 2, 3], [0, 1, 3], [0, 1, 2]]"
      ]
     },
     "execution_count": 33,
     "metadata": {},
     "output_type": "execute_result"
    }
   ],
   "source": [
    "goal = []\n",
    "for i in range(len(tmp)):\n",
    "    lst = []\n",
    "    for leng in range(len(ex)):\n",
    "        a = tmp.copy()\n",
    "        a.remove(i)\n",
    "        b = ''\n",
    "        for x in a:\n",
    "            b += ex[leng][x]\n",
    "        lst.append(b)\n",
    "        print(b)\n",
    "    print(lst)\n",
    "    print('---')\n",
    "    if len(set(lst)) == len(lst):\n",
    "        goal.append(a)\n",
    "goal"
   ]
  },
  {
   "cell_type": "code",
   "execution_count": 87,
   "id": "1c9fcbb9",
   "metadata": {},
   "outputs": [],
   "source": [
    "# 함수화, 통과\n",
    "def solution(relations):\n",
    "    answer = []\n",
    "    targets = [[i for i in range(len(relations[0]))]]\n",
    "    while targets:\n",
    "        check = 0\n",
    "        tmp = targets.pop(0)\n",
    "        for i in range(len(tmp)):\n",
    "            lst = []\n",
    "            for leng in range(len(relations)):\n",
    "                a = tmp.copy()\n",
    "                a.remove(tmp[i])\n",
    "                b = ''\n",
    "                for x in a:\n",
    "                    b += relations[leng][x]\n",
    "                lst.append(b)\n",
    "            if (len(set(lst)) == len(lst)) and (a not in targets):\n",
    "                targets.append(a)\n",
    "            elif (len(set(lst)) != len(lst)):\n",
    "                check +=1\n",
    "        if check ==len(tmp):\n",
    "            answer.append(tmp)\n",
    "    return len(answer)"
   ]
  },
  {
   "cell_type": "code",
   "execution_count": 88,
   "id": "6d404ae8",
   "metadata": {},
   "outputs": [
    {
     "data": {
      "text/plain": [
       "2"
      ]
     },
     "execution_count": 88,
     "metadata": {},
     "output_type": "execute_result"
    }
   ],
   "source": [
    "solution(ex)"
   ]
  },
  {
   "cell_type": "code",
   "execution_count": null,
   "id": "5fae67f4",
   "metadata": {},
   "outputs": [],
   "source": []
  }
 ],
 "metadata": {
  "kernelspec": {
   "display_name": "Python 3",
   "language": "python",
   "name": "python3"
  },
  "language_info": {
   "codemirror_mode": {
    "name": "ipython",
    "version": 3
   },
   "file_extension": ".py",
   "mimetype": "text/x-python",
   "name": "python",
   "nbconvert_exporter": "python",
   "pygments_lexer": "ipython3",
   "version": "3.8.11"
  },
  "toc": {
   "base_numbering": 1,
   "nav_menu": {},
   "number_sections": true,
   "sideBar": true,
   "skip_h1_title": false,
   "title_cell": "Table of Contents",
   "title_sidebar": "Contents",
   "toc_cell": false,
   "toc_position": {},
   "toc_section_display": true,
   "toc_window_display": false
  }
 },
 "nbformat": 4,
 "nbformat_minor": 5
}
