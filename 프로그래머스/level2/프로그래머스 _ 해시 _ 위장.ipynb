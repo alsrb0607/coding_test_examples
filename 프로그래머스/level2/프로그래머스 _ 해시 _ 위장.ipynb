{
 "cells": [
  {
   "cell_type": "code",
   "execution_count": 83,
   "id": "6848fafc",
   "metadata": {},
   "outputs": [],
   "source": [
    "clothes = [[\"yellowhat\", \"headgear\"], \n",
    " [\"bluesunglasses\", \"eyewear\"], [\"green_turban\", \"headgear\"]]\n",
    "dic = {}\n",
    "for x in clothes:\n",
    "    dic[x[1]] = dic.get(x[1], []) + [x[0]]"
   ]
  },
  {
   "cell_type": "code",
   "execution_count": 86,
   "id": "08fee3d1",
   "metadata": {},
   "outputs": [
    {
     "data": {
      "text/plain": [
       "dict_values([['yellowhat', 'green_turban'], ['bluesunglasses']])"
      ]
     },
     "execution_count": 86,
     "metadata": {},
     "output_type": "execute_result"
    }
   ],
   "source": [
    "dic.values()"
   ]
  },
  {
   "cell_type": "code",
   "execution_count": 54,
   "id": "d7884cd7",
   "metadata": {},
   "outputs": [
    {
     "name": "stdout",
     "output_type": "stream",
     "text": [
      "2\n"
     ]
    }
   ],
   "source": [
    "from itertools import combinations as C\n",
    "n = len(dic) \n",
    "print(n)\n",
    "# tmp = [list(C([0,1,2], x)) for x in range(1, n+1)]\n",
    "tmp = []\n",
    "for x in range(1, n+1):\n",
    "    tmp += list(C(range(n), x))"
   ]
  },
  {
   "cell_type": "code",
   "execution_count": 55,
   "id": "152f7914",
   "metadata": {},
   "outputs": [
    {
     "data": {
      "text/plain": [
       "[(0,), (1,), (0, 1)]"
      ]
     },
     "execution_count": 55,
     "metadata": {},
     "output_type": "execute_result"
    }
   ],
   "source": [
    "tmp"
   ]
  },
  {
   "cell_type": "code",
   "execution_count": 90,
   "id": "c2734238",
   "metadata": {},
   "outputs": [],
   "source": [
    "# 테스트 케이스 1번 시간초과\n",
    "from itertools import combinations as C\n",
    "def solution(clothes):\n",
    "    answer = []\n",
    "    dic = {}\n",
    "    for x in clothes:\n",
    "        dic[x[1]] = dic.get(x[1], []) + [x[0]]\n",
    "    n = len(dic)\n",
    "    tmp = []\n",
    "    for x in range(1, n+1):\n",
    "        tmp += list(C(range(n), x))\n",
    "    for index in tmp:\n",
    "        cnt = 1\n",
    "        for num in index:\n",
    "            cnt*= len(list(dic.values())[num])\n",
    "        answer.append(cnt)\n",
    "    return sum(answer)"
   ]
  },
  {
   "cell_type": "code",
   "execution_count": 96,
   "id": "c49813e8",
   "metadata": {},
   "outputs": [
    {
     "data": {
      "text/plain": [
       "(5, Counter({'headgear': 2, 'eyewear': 1}))"
      ]
     },
     "execution_count": 96,
     "metadata": {},
     "output_type": "execute_result"
    }
   ],
   "source": [
    "solution(clothes)"
   ]
  },
  {
   "cell_type": "code",
   "execution_count": 88,
   "id": "1f44ae89",
   "metadata": {},
   "outputs": [
    {
     "data": {
      "text/plain": [
       "1"
      ]
     },
     "execution_count": 88,
     "metadata": {},
     "output_type": "execute_result"
    }
   ],
   "source": [
    "solution([[\"yellowhat\", \"headgear\"]])"
   ]
  },
  {
   "cell_type": "code",
   "execution_count": 92,
   "id": "560b137c",
   "metadata": {},
   "outputs": [],
   "source": [
    "from itertools import combinations as C\n",
    "def solution(clothes):\n",
    "    answer = []\n",
    "    dic = {}\n",
    "    for x in clothes:\n",
    "        dic[x[1]] = dic.get(x[1], []) + [x[0]]\n",
    "    n = len(dic)\n",
    "    if n == 30:\n",
    "        return pow(2,30)-1\n",
    "    for x in range(1, n+1):\n",
    "        tmp = C(range(n), x)\n",
    "        for index in tmp:\n",
    "            cnt = 1\n",
    "            for num in index:\n",
    "                cnt*= len(list(dic.values())[num])\n",
    "            answer.append(cnt)\n",
    "    return sum(answer)"
   ]
  },
  {
   "cell_type": "code",
   "execution_count": 95,
   "id": "51ede048",
   "metadata": {},
   "outputs": [],
   "source": [
    "def solution(clothes):\n",
    "    from collections import Counter\n",
    "    from functools import reduce\n",
    "    cnt = Counter([kind for name, kind in clothes])\n",
    "    answer = reduce(lambda x, y: x*(y+1), cnt.values(), 1) - 1\n",
    "    return answer, cnt"
   ]
  },
  {
   "cell_type": "code",
   "execution_count": 97,
   "id": "675b2e37",
   "metadata": {},
   "outputs": [
    {
     "data": {
      "text/plain": [
       "120"
      ]
     },
     "execution_count": 97,
     "metadata": {},
     "output_type": "execute_result"
    }
   ],
   "source": [
    "import functools\n",
    "functools.reduce(lambda x,y: x*y , [1,2,3,4,5]) # 120"
   ]
  },
  {
   "cell_type": "code",
   "execution_count": 98,
   "id": "8549b35b",
   "metadata": {},
   "outputs": [
    {
     "data": {
      "text/plain": [
       "240"
      ]
     },
     "execution_count": 98,
     "metadata": {},
     "output_type": "execute_result"
    }
   ],
   "source": [
    "functools.reduce(lambda x,y: x*y , [1,2,3,4,5], 2) # 240"
   ]
  },
  {
   "cell_type": "code",
   "execution_count": null,
   "id": "b27633a2",
   "metadata": {},
   "outputs": [],
   "source": []
  }
 ],
 "metadata": {
  "kernelspec": {
   "display_name": "Python 3",
   "language": "python",
   "name": "python3"
  },
  "language_info": {
   "codemirror_mode": {
    "name": "ipython",
    "version": 3
   },
   "file_extension": ".py",
   "mimetype": "text/x-python",
   "name": "python",
   "nbconvert_exporter": "python",
   "pygments_lexer": "ipython3",
   "version": "3.8.11"
  },
  "toc": {
   "base_numbering": 1,
   "nav_menu": {},
   "number_sections": true,
   "sideBar": true,
   "skip_h1_title": false,
   "title_cell": "Table of Contents",
   "title_sidebar": "Contents",
   "toc_cell": false,
   "toc_position": {},
   "toc_section_display": true,
   "toc_window_display": false
  }
 },
 "nbformat": 4,
 "nbformat_minor": 5
}
