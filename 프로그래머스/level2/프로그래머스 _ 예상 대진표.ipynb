{
 "cells": [
  {
   "cell_type": "code",
   "execution_count": 71,
   "id": "4db0dd71",
   "metadata": {},
   "outputs": [],
   "source": [
    "def solution(n,a,b):\n",
    "    a -= 1; b -= 1; div = 2**(n-1)\n",
    "    while True:\n",
    "        tmp1 = a // div; tmp2 = b // div\n",
    "        if tmp1 != tmp2:\n",
    "            break\n",
    "        if (tmp1 >0) and (tmp1 >0):\n",
    "            a -= div; b-= div\n",
    "            div //= 2\n",
    "            n -= 1\n",
    "        else:\n",
    "            n -= 1\n",
    "            div //= 2\n",
    "    return n"
   ]
  },
  {
   "cell_type": "code",
   "execution_count": 76,
   "id": "2dc4b226",
   "metadata": {},
   "outputs": [
    {
     "data": {
      "text/plain": [
       "5"
      ]
     },
     "execution_count": 76,
     "metadata": {},
     "output_type": "execute_result"
    }
   ],
   "source": [
    "solution(5,15,19)"
   ]
  },
  {
   "cell_type": "code",
   "execution_count": 25,
   "id": "1266924e",
   "metadata": {},
   "outputs": [
    {
     "data": {
      "text/plain": [
       "64"
      ]
     },
     "execution_count": 25,
     "metadata": {},
     "output_type": "execute_result"
    }
   ],
   "source": [
    "pow(8,2)"
   ]
  },
  {
   "cell_type": "code",
   "execution_count": 75,
   "id": "fa8e592f",
   "metadata": {},
   "outputs": [],
   "source": [
    "def solution(n,a,b):\n",
    "    a -= 1; b -= 1\n",
    "    cnt = 1\n",
    "    while True:\n",
    "        if a//2 == b//2:\n",
    "            return cnt\n",
    "        else:\n",
    "            a //= 2; b//=2\n",
    "            cnt +=1 \n"
   ]
  },
  {
   "cell_type": "code",
   "execution_count": null,
   "id": "3a990295",
   "metadata": {},
   "outputs": [],
   "source": []
  }
 ],
 "metadata": {
  "kernelspec": {
   "display_name": "Python 3",
   "language": "python",
   "name": "python3"
  },
  "language_info": {
   "codemirror_mode": {
    "name": "ipython",
    "version": 3
   },
   "file_extension": ".py",
   "mimetype": "text/x-python",
   "name": "python",
   "nbconvert_exporter": "python",
   "pygments_lexer": "ipython3",
   "version": "3.8.8"
  },
  "toc": {
   "base_numbering": 1,
   "nav_menu": {},
   "number_sections": true,
   "sideBar": true,
   "skip_h1_title": false,
   "title_cell": "Table of Contents",
   "title_sidebar": "Contents",
   "toc_cell": false,
   "toc_position": {},
   "toc_section_display": true,
   "toc_window_display": false
  }
 },
 "nbformat": 4,
 "nbformat_minor": 5
}
