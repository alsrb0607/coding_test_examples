{
 "cells": [
  {
   "cell_type": "code",
   "execution_count": 40,
   "id": "09953988",
   "metadata": {},
   "outputs": [
    {
     "data": {
      "text/plain": [
       "2"
      ]
     },
     "execution_count": 40,
     "metadata": {},
     "output_type": "execute_result"
    }
   ],
   "source": [
    "(11 - 3)//3"
   ]
  },
  {
   "cell_type": "code",
   "execution_count": 41,
   "id": "71fe88be",
   "metadata": {},
   "outputs": [
    {
     "data": {
      "text/plain": [
       "3"
      ]
     },
     "execution_count": 41,
     "metadata": {},
     "output_type": "execute_result"
    }
   ],
   "source": [
    "(13 - 3) // 3"
   ]
  },
  {
   "cell_type": "code",
   "execution_count": 43,
   "id": "a781831a",
   "metadata": {},
   "outputs": [
    {
     "data": {
      "text/plain": [
       "1"
      ]
     },
     "execution_count": 43,
     "metadata": {},
     "output_type": "execute_result"
    }
   ],
   "source": [
    "(13 - 9) // 3"
   ]
  },
  {
   "cell_type": "code",
   "execution_count": 67,
   "id": "de265926",
   "metadata": {},
   "outputs": [
    {
     "data": {
      "text/plain": [
       "3"
      ]
     },
     "execution_count": 67,
     "metadata": {},
     "output_type": "execute_result"
    }
   ],
   "source": [
    "digit_(13)"
   ]
  },
  {
   "cell_type": "code",
   "execution_count": 85,
   "id": "f37e79f4",
   "metadata": {},
   "outputs": [
    {
     "data": {
      "text/plain": [
       "'121'"
      ]
     },
     "execution_count": 85,
     "metadata": {},
     "output_type": "execute_result"
    }
   ],
   "source": [
    "solution(16)"
   ]
  },
  {
   "cell_type": "code",
   "execution_count": 119,
   "id": "15b0dec6",
   "metadata": {},
   "outputs": [],
   "source": [
    "def digit_(n):\n",
    "    i = -1\n",
    "    while n>=0 :\n",
    "        i += 1\n",
    "        n = n - 3**i\n",
    "    return i\n",
    "def sum_(x):\n",
    "    return sum([3**i for i in range(x)])\n",
    "def solution(n):\n",
    "    answer = ''\n",
    "    i = digit_(n)\n",
    "    for x in range(i):\n",
    "        if sum_(i) <= n < sum_(i) + 3**(i-1):\n",
    "            answer += '1'\n",
    "            n -= 3**(i-1)\n",
    "        elif sum_(i) + 3**(i-1) <= n < sum_(i) + 2*3**(i-1):\n",
    "            answer += '2'\n",
    "            n -= 2*3**(i-1)\n",
    "        else: \n",
    "            answer += '4'\n",
    "            n -= 3**i\n",
    "        i -=1\n",
    "    return answer"
   ]
  },
  {
   "cell_type": "code",
   "execution_count": 120,
   "id": "9f93c385",
   "metadata": {},
   "outputs": [
    {
     "data": {
      "text/plain": [
       "'442'"
      ]
     },
     "execution_count": 120,
     "metadata": {},
     "output_type": "execute_result"
    }
   ],
   "source": [
    "solution(38)"
   ]
  },
  {
   "cell_type": "code",
   "execution_count": 149,
   "id": "a34679db",
   "metadata": {},
   "outputs": [],
   "source": [
    "def solution(n):\n",
    "    answer = ''\n",
    "    while n:\n",
    "        if n%3 ==0:\n",
    "            answer = str(4) + answer\n",
    "            n = n//3 - 1\n",
    "        else:\n",
    "            answer = str(n%3) + answer\n",
    "            n = n//3\n",
    "    return answer"
   ]
  },
  {
   "cell_type": "code",
   "execution_count": 162,
   "id": "b337efa6",
   "metadata": {},
   "outputs": [
    {
     "name": "stdout",
     "output_type": "stream",
     "text": [
      "13\n",
      "4\n",
      "1\n"
     ]
    },
    {
     "data": {
      "text/plain": [
       "'111'"
      ]
     },
     "execution_count": 162,
     "metadata": {},
     "output_type": "execute_result"
    }
   ],
   "source": [
    "solution(13)"
   ]
  },
  {
   "cell_type": "code",
   "execution_count": 169,
   "id": "92a79b22",
   "metadata": {},
   "outputs": [],
   "source": [
    "def solution(n):\n",
    "    num = ['1','2','4']\n",
    "    answer = \"\"\n",
    "    while n > 0:\n",
    "        n -= 1\n",
    "        answer = num[n % 3] + answer\n",
    "        n //= 3\n",
    "\n",
    "    return answer"
   ]
  },
  {
   "cell_type": "code",
   "execution_count": 170,
   "id": "419934a9",
   "metadata": {},
   "outputs": [
    {
     "name": "stdout",
     "output_type": "stream",
     "text": [
      "9\n",
      "2\n"
     ]
    },
    {
     "data": {
      "text/plain": [
       "'41'"
      ]
     },
     "execution_count": 170,
     "metadata": {},
     "output_type": "execute_result"
    }
   ],
   "source": [
    "solution(10)"
   ]
  },
  {
   "cell_type": "code",
   "execution_count": null,
   "id": "da096d7f",
   "metadata": {},
   "outputs": [],
   "source": []
  }
 ],
 "metadata": {
  "kernelspec": {
   "display_name": "Python 3",
   "language": "python",
   "name": "python3"
  },
  "language_info": {
   "codemirror_mode": {
    "name": "ipython",
    "version": 3
   },
   "file_extension": ".py",
   "mimetype": "text/x-python",
   "name": "python",
   "nbconvert_exporter": "python",
   "pygments_lexer": "ipython3",
   "version": "3.8.11"
  },
  "toc": {
   "base_numbering": 1,
   "nav_menu": {},
   "number_sections": true,
   "sideBar": true,
   "skip_h1_title": false,
   "title_cell": "Table of Contents",
   "title_sidebar": "Contents",
   "toc_cell": false,
   "toc_position": {},
   "toc_section_display": true,
   "toc_window_display": false
  }
 },
 "nbformat": 4,
 "nbformat_minor": 5
}
