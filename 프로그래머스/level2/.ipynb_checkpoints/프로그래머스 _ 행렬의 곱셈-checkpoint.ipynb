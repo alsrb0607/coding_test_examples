{
 "cells": [
  {
   "cell_type": "code",
   "execution_count": 56,
   "id": "1cf865cd",
   "metadata": {},
   "outputs": [],
   "source": [
    "arr1 = [[2, 3, 2], [4, 2, 4], [3, 1, 4]] \n",
    "arr2 = [[5, 4, 3], [2, 4, 1], [3, 1, 1]]\n",
    "n = len(arr1) ; m = len(arr2[0])"
   ]
  },
  {
   "cell_type": "code",
   "execution_count": 57,
   "id": "d4ba952b",
   "metadata": {},
   "outputs": [
    {
     "data": {
      "text/plain": [
       "[[0, 0, 0], [0, 0, 0], [0, 0, 0]]"
      ]
     },
     "execution_count": 57,
     "metadata": {},
     "output_type": "execute_result"
    }
   ],
   "source": [
    "answer = []\n",
    "for i in range(n):\n",
    "    answer.append(list(map( int , list('0'*m))))\n",
    "answer"
   ]
  },
  {
   "cell_type": "code",
   "execution_count": 58,
   "id": "a366fee0",
   "metadata": {},
   "outputs": [],
   "source": [
    "arr2_t = []\n",
    "for i in range(m):\n",
    "    arr2_t.append([arr2[j][i] for j in range(len(arr2))])"
   ]
  },
  {
   "cell_type": "code",
   "execution_count": 59,
   "id": "2dccd741",
   "metadata": {},
   "outputs": [
    {
     "data": {
      "text/plain": [
       "[[5, 2, 3], [4, 4, 1], [3, 1, 1]]"
      ]
     },
     "execution_count": 59,
     "metadata": {},
     "output_type": "execute_result"
    }
   ],
   "source": [
    "arr2_t"
   ]
  },
  {
   "cell_type": "code",
   "execution_count": 60,
   "id": "acc96c13",
   "metadata": {},
   "outputs": [],
   "source": [
    "for j in range(m):\n",
    "    for i in range(n):\n",
    "        answer[i][j] += sum([x*y for x,y in zip(arr1[i], arr2_t[j])])"
   ]
  },
  {
   "cell_type": "code",
   "execution_count": 61,
   "id": "1f53cf39",
   "metadata": {},
   "outputs": [
    {
     "data": {
      "text/plain": [
       "[[22, 22, 11], [36, 28, 18], [29, 20, 14]]"
      ]
     },
     "execution_count": 61,
     "metadata": {},
     "output_type": "execute_result"
    }
   ],
   "source": [
    "answer"
   ]
  },
  {
   "cell_type": "code",
   "execution_count": null,
   "id": "861c6035",
   "metadata": {},
   "outputs": [],
   "source": [
    "def solution(arr1, arr2):\n",
    "    n = len(arr1) ; m = len(arr2[0])\n",
    "    answer = []\n",
    "    for i in range(n):\n",
    "        answer.append(list(map( int , list('0'*m))))\n",
    "    arr2_t = []\n",
    "    for i in range(m):\n",
    "        arr2_t.append([arr2[j][i] for j in range(len(arr2))])\n",
    "    for j in range(m):\n",
    "        for i in range(n):\n",
    "            answer[i][j] += sum([x*y for x,y in zip(arr1[i], arr2_t[j])])\n",
    "    return answer"
   ]
  },
  {
   "cell_type": "code",
   "execution_count": 66,
   "id": "27911b62",
   "metadata": {},
   "outputs": [
    {
     "data": {
      "text/plain": [
       "[(1, 3, 5), (2, 4, 6)]"
      ]
     },
     "execution_count": 66,
     "metadata": {},
     "output_type": "execute_result"
    }
   ],
   "source": [
    "# 일종의 transpose를 구하는 방법이다.\n",
    "list(zip(*[[1,2], [3,4], [5,6]]))"
   ]
  },
  {
   "cell_type": "code",
   "execution_count": null,
   "id": "f51a41be",
   "metadata": {},
   "outputs": [],
   "source": [
    "def solution(A, B):\n",
    "    return [[sum(a*b for a, b in zip(A_row,B_col)) for B_col in zip(*B)] for A_row in A]"
   ]
  }
 ],
 "metadata": {
  "kernelspec": {
   "display_name": "Python 3",
   "language": "python",
   "name": "python3"
  },
  "language_info": {
   "codemirror_mode": {
    "name": "ipython",
    "version": 3
   },
   "file_extension": ".py",
   "mimetype": "text/x-python",
   "name": "python",
   "nbconvert_exporter": "python",
   "pygments_lexer": "ipython3",
   "version": "3.8.11"
  },
  "toc": {
   "base_numbering": 1,
   "nav_menu": {},
   "number_sections": true,
   "sideBar": true,
   "skip_h1_title": false,
   "title_cell": "Table of Contents",
   "title_sidebar": "Contents",
   "toc_cell": false,
   "toc_position": {},
   "toc_section_display": true,
   "toc_window_display": false
  }
 },
 "nbformat": 4,
 "nbformat_minor": 5
}
