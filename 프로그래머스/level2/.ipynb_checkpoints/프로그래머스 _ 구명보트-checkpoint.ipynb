{
 "cells": [
  {
   "cell_type": "code",
   "execution_count": 34,
   "id": "d42dd3f5",
   "metadata": {},
   "outputs": [],
   "source": [
    "def solution(people, limit):\n",
    "    answer = 0\n",
    "    people.sort()\n",
    "    while True:\n",
    "        tmp += people.pop(0)\n",
    "        if not people:\n",
    "            answer +=1\n",
    "            break\n",
    "        elif (tmp + people[0] > limit):\n",
    "            answer +=1\n",
    "            tmp = 0\n",
    "    return answer"
   ]
  },
  {
   "cell_type": "code",
   "execution_count": 69,
   "id": "9221d4a5",
   "metadata": {},
   "outputs": [
    {
     "data": {
      "text/plain": [
       "3"
      ]
     },
     "execution_count": 69,
     "metadata": {},
     "output_type": "execute_result"
    }
   ],
   "source": [
    "solution([70, 50, 80, 50], 100)"
   ]
  },
  {
   "cell_type": "code",
   "execution_count": 70,
   "id": "c9a471ce",
   "metadata": {},
   "outputs": [
    {
     "data": {
      "text/plain": [
       "3"
      ]
     },
     "execution_count": 70,
     "metadata": {},
     "output_type": "execute_result"
    }
   ],
   "source": [
    "solution([70, 80, 50], 100)"
   ]
  },
  {
   "cell_type": "code",
   "execution_count": 64,
   "id": "5e83340a",
   "metadata": {},
   "outputs": [],
   "source": [
    "# 2명 제한 생각 안함\n",
    "def solution(people, limit):\n",
    "    tmp = []\n",
    "    people.sort(reverse = True)\n",
    "    for x in people:\n",
    "        i = 0\n",
    "        while True:\n",
    "            if i == len(tmp):\n",
    "                tmp.append(x)\n",
    "                break\n",
    "            else:\n",
    "                if tmp[i] + x <= limit:\n",
    "                    tmp[i] += x\n",
    "                    break\n",
    "                else:\n",
    "                    i+=1\n",
    "                    \n",
    "    return tmp"
   ]
  },
  {
   "cell_type": "code",
   "execution_count": 67,
   "id": "e0977643",
   "metadata": {},
   "outputs": [
    {
     "data": {
      "text/plain": [
       "3"
      ]
     },
     "execution_count": 67,
     "metadata": {},
     "output_type": "execute_result"
    }
   ],
   "source": [
    "solution([100,500,500,900,950], 1000)"
   ]
  },
  {
   "cell_type": "code",
   "execution_count": 68,
   "id": "0deab197",
   "metadata": {},
   "outputs": [],
   "source": [
    "# 정답\n",
    "def solution(people, limit):\n",
    "    answer = 0 \n",
    "    people.sort(reverse = True)\n",
    "    for x in people:\n",
    "        if x + people[-1] > limit:\n",
    "            answer += 1\n",
    "        else:\n",
    "            people.pop()\n",
    "            answer += 1\n",
    "    return answer"
   ]
  },
  {
   "cell_type": "code",
   "execution_count": null,
   "id": "f0d490e7",
   "metadata": {},
   "outputs": [],
   "source": [
    "def solution(people, limit) :\n",
    "    answer = 0\n",
    "    people.sort()\n",
    "\n",
    "    a = 0\n",
    "    b = len(people) - 1\n",
    "    while a < b :\n",
    "        if people[b] + people[a] <= limit :\n",
    "            a += 1\n",
    "            answer += 1\n",
    "        b -= 1\n",
    "    return len(people) - answer"
   ]
  }
 ],
 "metadata": {
  "kernelspec": {
   "display_name": "Python 3",
   "language": "python",
   "name": "python3"
  },
  "language_info": {
   "codemirror_mode": {
    "name": "ipython",
    "version": 3
   },
   "file_extension": ".py",
   "mimetype": "text/x-python",
   "name": "python",
   "nbconvert_exporter": "python",
   "pygments_lexer": "ipython3",
   "version": "3.8.11"
  },
  "toc": {
   "base_numbering": 1,
   "nav_menu": {},
   "number_sections": true,
   "sideBar": true,
   "skip_h1_title": false,
   "title_cell": "Table of Contents",
   "title_sidebar": "Contents",
   "toc_cell": false,
   "toc_position": {},
   "toc_section_display": true,
   "toc_window_display": false
  }
 },
 "nbformat": 4,
 "nbformat_minor": 5
}
