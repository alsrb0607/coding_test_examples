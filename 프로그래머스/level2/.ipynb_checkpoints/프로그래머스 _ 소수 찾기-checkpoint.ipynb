{
 "cells": [
  {
   "cell_type": "code",
   "execution_count": 1,
   "id": "9edf6813",
   "metadata": {},
   "outputs": [
    {
     "data": {
      "text/plain": [
       "1"
      ]
     },
     "execution_count": 1,
     "metadata": {},
     "output_type": "execute_result"
    }
   ],
   "source": [
    "int('001')"
   ]
  },
  {
   "cell_type": "code",
   "execution_count": 111,
   "id": "ed7df7ab",
   "metadata": {},
   "outputs": [
    {
     "data": {
      "text/plain": [
       "['0', '1', '7']"
      ]
     },
     "execution_count": 111,
     "metadata": {},
     "output_type": "execute_result"
    }
   ],
   "source": [
    "a = [x for x in \"017\"]\n",
    "a"
   ]
  },
  {
   "cell_type": "code",
   "execution_count": 112,
   "id": "6473db9a",
   "metadata": {},
   "outputs": [],
   "source": [
    "from itertools import permutations\n",
    "tmp = []\n",
    "for i in range(1, len(a)+1):\n",
    "    tmp.extend(list(map(lambda x :''.join(x), permutations(a,i))))"
   ]
  },
  {
   "cell_type": "code",
   "execution_count": 113,
   "id": "72068b0a",
   "metadata": {},
   "outputs": [
    {
     "data": {
      "text/plain": [
       "[0, 1, 70, 7, 71, 710, 10, 107, 170, 17, 701]"
      ]
     },
     "execution_count": 113,
     "metadata": {},
     "output_type": "execute_result"
    }
   ],
   "source": [
    "\n",
    "tmp = list(set(map(lambda x : int(x), tmp)))\n",
    "tmp"
   ]
  },
  {
   "cell_type": "code",
   "execution_count": 114,
   "id": "b841c04d",
   "metadata": {},
   "outputs": [],
   "source": [
    "answer = [x for x in tmp if 0 not in ([x%i for i in range(2, x)])]\n",
    "if 1 in answer:\n",
    "    answer.remove(1)"
   ]
  },
  {
   "cell_type": "code",
   "execution_count": 115,
   "id": "64cc3acf",
   "metadata": {},
   "outputs": [
    {
     "data": {
      "text/plain": [
       "[0, 7, 71, 107, 17, 701]"
      ]
     },
     "execution_count": 115,
     "metadata": {},
     "output_type": "execute_result"
    }
   ],
   "source": [
    "answer"
   ]
  },
  {
   "cell_type": "code",
   "execution_count": 90,
   "id": "983f77bd",
   "metadata": {},
   "outputs": [],
   "source": [
    "def solution(numbers):\n",
    "    from itertools import permutations\n",
    "    tmp = []\n",
    "    for i in range(1, len(numbers)+1):\n",
    "        tmp.extend(list(map(lambda x :''.join(x), permutations(numbers,i))))\n",
    "    tmp = list(set(map(lambda x : int(x), tmp)))\n",
    "    answer = [x for x in tmp if 0 not in ([x%i for i in range(2, int(x**(0.5))+1)])]\n",
    "    for num in [0,1]:\n",
    "        if num in answer:\n",
    "            answer.remove(num)\n",
    "    return(len(answer))"
   ]
  },
  {
   "cell_type": "code",
   "execution_count": 121,
   "id": "6bd46143",
   "metadata": {},
   "outputs": [],
   "source": [
    "# 정리\n",
    "def solution(numbers):\n",
    "    from itertools import permutations\n",
    "    tmp = []\n",
    "    for i in range(1, len(numbers)+1):\n",
    "        tmp.extend(list(map(lambda x :''.join(x), permutations(numbers,i))))\n",
    "    tmp = set(map(lambda x : int(x), tmp))\n",
    "    answer = set(x for x in tmp if 0 not in ([x%i for i in range(2, int(x**(0.5))+1)]))\n",
    "    answer -= {0,1}\n",
    "    return(len(answer))"
   ]
  },
  {
   "cell_type": "code",
   "execution_count": null,
   "id": "3610999b",
   "metadata": {},
   "outputs": [],
   "source": [
    "# 에라토스테네스의 체 활용\n",
    "from itertools import permutations\n",
    "def solution(n):\n",
    "    a = set()\n",
    "    for i in range(len(n)):\n",
    "        a |= set(map(int, map(\"\".join, permutations(list(n), i + 1))))\n",
    "    a -= set(range(0, 2))\n",
    "    for i in range(2, int(max(a) ** 0.5) + 1):\n",
    "        a -= set(range(i * 2, max(a) + 1, i))\n",
    "    return len(a)"
   ]
  }
 ],
 "metadata": {
  "kernelspec": {
   "display_name": "Python 3",
   "language": "python",
   "name": "python3"
  },
  "language_info": {
   "codemirror_mode": {
    "name": "ipython",
    "version": 3
   },
   "file_extension": ".py",
   "mimetype": "text/x-python",
   "name": "python",
   "nbconvert_exporter": "python",
   "pygments_lexer": "ipython3",
   "version": "3.8.11"
  },
  "toc": {
   "base_numbering": 1,
   "nav_menu": {},
   "number_sections": true,
   "sideBar": true,
   "skip_h1_title": false,
   "title_cell": "Table of Contents",
   "title_sidebar": "Contents",
   "toc_cell": false,
   "toc_position": {},
   "toc_section_display": true,
   "toc_window_display": false
  }
 },
 "nbformat": 4,
 "nbformat_minor": 5
}
