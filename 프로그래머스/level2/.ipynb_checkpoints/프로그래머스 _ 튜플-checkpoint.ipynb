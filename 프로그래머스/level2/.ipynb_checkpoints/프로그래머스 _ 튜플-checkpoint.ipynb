{
 "cells": [
  {
   "cell_type": "code",
   "execution_count": 58,
   "id": "d608034b",
   "metadata": {},
   "outputs": [
    {
     "data": {
      "text/plain": [
       "(1, 2, 3, 4)"
      ]
     },
     "execution_count": 58,
     "metadata": {},
     "output_type": "execute_result"
    }
   ],
   "source": [
    "a = tuple([1,2,3,4])\n",
    "a"
   ]
  },
  {
   "cell_type": "code",
   "execution_count": 61,
   "id": "b1d42c6e",
   "metadata": {},
   "outputs": [],
   "source": [
    "a = \"{{2},{2,1},{2,1,3},{2,1,3,4}}\""
   ]
  },
  {
   "cell_type": "code",
   "execution_count": 50,
   "id": "809253a8",
   "metadata": {},
   "outputs": [],
   "source": [
    "import re\n",
    "b = re.compile(r'\\{[^}]*\\}')\n",
    "c = re.findall(b, a[1:-1])"
   ]
  },
  {
   "cell_type": "code",
   "execution_count": 51,
   "id": "90394f02",
   "metadata": {},
   "outputs": [
    {
     "data": {
      "text/plain": [
       "['{2}', '{2,1}', '{2,1,3}', '{2,1,3,4}']"
      ]
     },
     "execution_count": 51,
     "metadata": {},
     "output_type": "execute_result"
    }
   ],
   "source": [
    "c"
   ]
  },
  {
   "cell_type": "code",
   "execution_count": 53,
   "id": "f8ef7816",
   "metadata": {},
   "outputs": [],
   "source": [
    "d = list(map(lambda x: x.count(',') +1, c))"
   ]
  },
  {
   "cell_type": "code",
   "execution_count": 59,
   "id": "ca85937c",
   "metadata": {},
   "outputs": [
    {
     "data": {
      "text/plain": [
       "['2', '1', '3', '4']"
      ]
     },
     "execution_count": 59,
     "metadata": {},
     "output_type": "execute_result"
    }
   ],
   "source": [
    "answer = c[d.index(max(d))][1:-1].split(',')\n",
    "answer"
   ]
  },
  {
   "cell_type": "code",
   "execution_count": 77,
   "id": "a74c56a5",
   "metadata": {},
   "outputs": [],
   "source": [
    "# 함수화\n",
    "def solution(s):\n",
    "    import re\n",
    "    pattern = re.compile(r'\\{[^}]*\\}')\n",
    "    tmp = re.findall(pattern, s[1:-1])\n",
    "    tmp2 = list(map(lambda x: x.count(',') +1, tmp))\n",
    "    answer = []\n",
    "    for i in range(1, max(tmp2) +1):\n",
    "        num = tmp[tmp2.index(i)][1:-1].split(',')\n",
    "        for x in list(map(int, num)):\n",
    "            if x not in answer:\n",
    "                answer.append(x)\n",
    "    return answer"
   ]
  },
  {
   "cell_type": "code",
   "execution_count": 78,
   "id": "f396e6a6",
   "metadata": {},
   "outputs": [
    {
     "name": "stdout",
     "output_type": "stream",
     "text": [
      "['{4,2,3}', '{3}', '{2,3,4,1}', '{2,3}']\n",
      "1 [3, 1, 4, 2]\n"
     ]
    },
    {
     "data": {
      "text/plain": [
       "[3, 2, 4, 1]"
      ]
     },
     "execution_count": 78,
     "metadata": {},
     "output_type": "execute_result"
    }
   ],
   "source": [
    "solution(\"{{4,2,3},{3},{2,3,4,1},{2,3}}\")"
   ]
  },
  {
   "cell_type": "code",
   "execution_count": 79,
   "id": "c85330a5",
   "metadata": {},
   "outputs": [
    {
     "data": {
      "text/plain": [
       "['4', '2', '3', '3', '2', '3', '4', '1', '2', '3']"
      ]
     },
     "execution_count": 79,
     "metadata": {},
     "output_type": "execute_result"
    }
   ],
   "source": [
    "re.findall('\\d+', \"{{4,2,3},{3},{2,3,4,1},{2,3}}\")"
   ]
  },
  {
   "cell_type": "code",
   "execution_count": null,
   "id": "e4208dfb",
   "metadata": {},
   "outputs": [],
   "source": [
    "def solution(s):\n",
    "    import re\n",
    "    from collections import Counter\n",
    "    s = Counter(re.findall('\\d+', s))\n",
    "    return list(map(int, [k for k, v in sorted(s.items(), key=lambda x: x[1], reverse=True)]))\n"
   ]
  }
 ],
 "metadata": {
  "kernelspec": {
   "display_name": "Python 3",
   "language": "python",
   "name": "python3"
  },
  "language_info": {
   "codemirror_mode": {
    "name": "ipython",
    "version": 3
   },
   "file_extension": ".py",
   "mimetype": "text/x-python",
   "name": "python",
   "nbconvert_exporter": "python",
   "pygments_lexer": "ipython3",
   "version": "3.8.11"
  },
  "toc": {
   "base_numbering": 1,
   "nav_menu": {},
   "number_sections": true,
   "sideBar": true,
   "skip_h1_title": false,
   "title_cell": "Table of Contents",
   "title_sidebar": "Contents",
   "toc_cell": false,
   "toc_position": {},
   "toc_section_display": true,
   "toc_window_display": false
  }
 },
 "nbformat": 4,
 "nbformat_minor": 5
}
