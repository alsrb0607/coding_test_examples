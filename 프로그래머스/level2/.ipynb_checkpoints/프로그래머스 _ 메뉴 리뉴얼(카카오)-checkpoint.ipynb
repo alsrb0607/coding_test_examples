{
 "cells": [
  {
   "cell_type": "code",
   "execution_count": 67,
   "id": "e3396cc7",
   "metadata": {},
   "outputs": [],
   "source": [
    "ex = [\"ABCFG\", \"AC\", \"CDE\", \"ACDE\", \"BCFG\", \"ACDEH\"]"
   ]
  },
  {
   "cell_type": "code",
   "execution_count": 87,
   "id": "8201bbf3",
   "metadata": {},
   "outputs": [],
   "source": [
    "answer = []\n",
    "for x in ex:\n",
    "    for y in ex:\n",
    "        if (x==y) or len(set(x) & set(y))<=1:\n",
    "            continue\n",
    "        else:\n",
    "            tmp = ''.join(sorted(list(set(x) & set(y))))\n",
    "            if tmp not in answer:\n",
    "                answer.append(tmp)"
   ]
  },
  {
   "cell_type": "code",
   "execution_count": 88,
   "id": "457f1cca",
   "metadata": {},
   "outputs": [
    {
     "data": {
      "text/plain": [
       "['AC', 'BCFG', 'CDE', 'ACDE']"
      ]
     },
     "execution_count": 88,
     "metadata": {},
     "output_type": "execute_result"
    }
   ],
   "source": [
    "answer"
   ]
  },
  {
   "cell_type": "code",
   "execution_count": 111,
   "id": "e4b3a36d",
   "metadata": {},
   "outputs": [],
   "source": [
    "ex = [\"ABCDE\", \"AB\", \"CD\", \"ADE\", \"XYZ\", \"XYZ\", \"ACD\"]\n",
    "answer = {}\n",
    "for i in range(len(ex)):\n",
    "    for j in range(len(ex)):\n",
    "        if (i==j) or len(set(ex[i]) & set(ex[j]))<=1:\n",
    "            continue\n",
    "        else:\n",
    "            tmp = ''.join(sorted(list(set(ex[i]) & set(ex[j]))))\n",
    "            if tmp not in answer:\n",
    "                answer[tmp] = 0"
   ]
  },
  {
   "cell_type": "code",
   "execution_count": 112,
   "id": "bfedd360",
   "metadata": {},
   "outputs": [
    {
     "data": {
      "text/plain": [
       "{'AB': 0, 'CD': 0, 'ADE': 0, 'ACD': 0, 'AD': 0, 'XYZ': 0}"
      ]
     },
     "execution_count": 112,
     "metadata": {},
     "output_type": "execute_result"
    }
   ],
   "source": [
    "answer"
   ]
  },
  {
   "cell_type": "code",
   "execution_count": 113,
   "id": "e8fb39f0",
   "metadata": {},
   "outputs": [],
   "source": [
    "for menu in answer:\n",
    "    for x in ex:\n",
    "        if set(menu) & set(x) == set(menu):\n",
    "            answer[menu] += 1"
   ]
  },
  {
   "cell_type": "code",
   "execution_count": 121,
   "id": "afdb82c3",
   "metadata": {},
   "outputs": [
    {
     "data": {
      "text/plain": [
       "{'AB': 2, 'CD': 3, 'ADE': 2, 'ACD': 2, 'AD': 3, 'XYZ': 2}"
      ]
     },
     "execution_count": 121,
     "metadata": {},
     "output_type": "execute_result"
    }
   ],
   "source": [
    "answer"
   ]
  },
  {
   "cell_type": "code",
   "execution_count": 130,
   "id": "ac1a7ada",
   "metadata": {},
   "outputs": [],
   "source": [
    "final = []\n",
    "course = [2,3,4]\n",
    "for num in course:\n",
    "    n = max([k if len(menu)== num else 0 for menu, k in answer.items() ])\n",
    "    for menu, k in answer.items():\n",
    "        if (len(menu) == num) and k == n:\n",
    "            final.append(menu)"
   ]
  },
  {
   "cell_type": "code",
   "execution_count": 132,
   "id": "2c650706",
   "metadata": {},
   "outputs": [
    {
     "data": {
      "text/plain": [
       "['ACD', 'AD', 'ADE', 'CD', 'XYZ']"
      ]
     },
     "execution_count": 132,
     "metadata": {},
     "output_type": "execute_result"
    }
   ],
   "source": [
    "sorted(final)"
   ]
  },
  {
   "cell_type": "code",
   "execution_count": 133,
   "id": "9f61109a",
   "metadata": {},
   "outputs": [],
   "source": [
    "# 문제 이해 잘못함, 실패\n",
    "def solution(orders, course):\n",
    "    answer = {}\n",
    "    for i in range(len(orders)):\n",
    "        for j in range(len(orders)):\n",
    "            if (i==j) or len(set(orders[i]) & set(orders[j]))<=1:\n",
    "                continue\n",
    "            else:\n",
    "                tmp = ''.join(sorted(list(set(orders[i]) & set(orders[j]))))\n",
    "                if tmp not in answer:\n",
    "                    answer[tmp] = 0\n",
    "    for menu in answer:\n",
    "        for x in orders:\n",
    "            if set(menu) & set(x) == set(menu):\n",
    "                answer[menu] += 1\n",
    "    final = []\n",
    "    for num in course:\n",
    "        n = max([k if len(menu)== num else 0 for menu, k in answer.items() ])\n",
    "        for menu, k in answer.items():\n",
    "            if (len(menu) == num) and k == n:\n",
    "                final.append(menu)\n",
    "    return sorted(final)\n",
    "# 다음의 케이스 통과 X - 문제 해석이 잘못됨\n",
    "# solution([\"ABCD\", \"ABCD\", \"ABCD\"], [2,3,4])"
   ]
  },
  {
   "cell_type": "code",
   "execution_count": 136,
   "id": "5992bca6",
   "metadata": {},
   "outputs": [
    {
     "data": {
      "text/plain": [
       "['AB']"
      ]
     },
     "execution_count": 136,
     "metadata": {},
     "output_type": "execute_result"
    }
   ],
   "source": [
    "solution([\"ABCDE\", \"AB\", \"CDAB\", \"ABDE\", \"XABYZ\", \"ABXYZ\", \"ABCD\", \"ABCDE\", \"ABCDE\", \"ABCDE\", \"AB\", \"AB\", \"AB\", \"AB\", \"AB\", \"AB\", \"AB\", \"AB\", \"AB\", \"AB\"],[2])"
   ]
  },
  {
   "cell_type": "code",
   "execution_count": 137,
   "id": "b1906690",
   "metadata": {},
   "outputs": [
    {
     "data": {
      "text/plain": [
       "['ABCD']"
      ]
     },
     "execution_count": 137,
     "metadata": {},
     "output_type": "execute_result"
    }
   ],
   "source": [
    "solution([\"ABCD\", \"ABCD\", \"ABCD\"], [2,3,4])"
   ]
  },
  {
   "cell_type": "code",
   "execution_count": 155,
   "id": "6e74296b",
   "metadata": {},
   "outputs": [],
   "source": [
    "# 예시\n",
    "from itertools import combinations\n",
    "from collections import Counter\n",
    "ex = [\"ABCFG\", \"AC\", \"CDE\", \"ACDE\", \"BCFG\", \"ACDEH\"]\n",
    "answer = []\n",
    "for num in [2,3,4]:\n",
    "    tmp = []\n",
    "    for menu in ex:\n",
    "        if len(menu) >= num:\n",
    "            tmp.extend(list(combinations(menu, num)))\n",
    "    max_num = sorted(Counter(tmp).items(), key = lambda x: x[1], reverse = True)[0][1]\n",
    "    for i , j in Counter(tmp).items():\n",
    "        if j == max_num:\n",
    "            answer.append(''.join(i))"
   ]
  },
  {
   "cell_type": "code",
   "execution_count": 156,
   "id": "e50be714",
   "metadata": {},
   "outputs": [
    {
     "data": {
      "text/plain": [
       "['AC', 'CDE', 'BCFG', 'ACDE']"
      ]
     },
     "execution_count": 156,
     "metadata": {},
     "output_type": "execute_result"
    }
   ],
   "source": [
    "answer"
   ]
  },
  {
   "cell_type": "code",
   "execution_count": 171,
   "id": "12f638f9",
   "metadata": {},
   "outputs": [],
   "source": [
    "# 함수화\n",
    "from itertools import combinations\n",
    "from collections import Counter\n",
    "def solution(orders, course):\n",
    "    answer = []\n",
    "    for num in course:\n",
    "        if num > len(max(orders, key = len)):\n",
    "            break\n",
    "        tmp = []\n",
    "        for menu in orders:\n",
    "            menu = sorted(menu)\n",
    "            if len(menu) >= num:\n",
    "                tmp.extend(list(combinations(menu, num)))\n",
    "        max_num = sorted(Counter(tmp).items(), key = lambda x: x[1], reverse = True)[0][1]\n",
    "        for i , j in Counter(tmp).items():\n",
    "            if (j == max_num) and (max_num > 1):\n",
    "                answer.append(''.join(i))\n",
    "    return sorted(answer)"
   ]
  },
  {
   "cell_type": "code",
   "execution_count": 195,
   "id": "365aaf9e",
   "metadata": {},
   "outputs": [
    {
     "data": {
      "text/plain": [
       "['AB', 'ABC', 'ABCD', 'ABD', 'AC', 'ACD', 'AD', 'BC', 'BCD', 'BD', 'CD']"
      ]
     },
     "execution_count": 195,
     "metadata": {},
     "output_type": "execute_result"
    }
   ],
   "source": [
    "solution([\"ABCD\", \"ABCD\", \"ABCD\"], [2,3,4])"
   ]
  },
  {
   "cell_type": "code",
   "execution_count": 194,
   "id": "cb89d24c",
   "metadata": {},
   "outputs": [
    {
     "data": {
      "text/plain": [
       "['ACD', 'AD', 'ADE', 'CD', 'XYZ']"
      ]
     },
     "execution_count": 194,
     "metadata": {},
     "output_type": "execute_result"
    }
   ],
   "source": [
    "solution([\"ABCDE\", \"AB\", \"CD\", \"ADE\", \"XYZ\", \"XYZ\", \"ACD\"] , [2,3,5])"
   ]
  },
  {
   "cell_type": "code",
   "execution_count": 201,
   "id": "7a0bd9e6",
   "metadata": {},
   "outputs": [
    {
     "data": {
      "text/plain": [
       "['WX', 'XY']"
      ]
     },
     "execution_count": 201,
     "metadata": {},
     "output_type": "execute_result"
    }
   ],
   "source": [
    "solution([\"XYZ\", \"XWY\", \"WXA\"] , [2,3,4])"
   ]
  },
  {
   "cell_type": "code",
   "execution_count": 200,
   "id": "7a6cdbce",
   "metadata": {},
   "outputs": [],
   "source": [
    "# most_common 이용\n",
    "from itertools import combinations\n",
    "from collections import Counter\n",
    "def solution(orders, course):\n",
    "    answer = []\n",
    "    for num in course:\n",
    "        if num > len(max(orders, key = len)):\n",
    "            break\n",
    "        tmp = []\n",
    "        for menu in orders:\n",
    "            menu = sorted(menu)\n",
    "            if len(menu) >= num:\n",
    "                tmp.extend(list(combinations(menu, num)))\n",
    "        max_num =Counter(tmp).most_common(1)[0][1]\n",
    "        answer += [''.join(i) for i , j in Counter(tmp).items() if (j == max_num) and (max_num > 1)]\n",
    "    return sorted(answer)"
   ]
  },
  {
   "cell_type": "code",
   "execution_count": null,
   "id": "3f550f12",
   "metadata": {},
   "outputs": [],
   "source": []
  }
 ],
 "metadata": {
  "kernelspec": {
   "display_name": "Python 3",
   "language": "python",
   "name": "python3"
  },
  "language_info": {
   "codemirror_mode": {
    "name": "ipython",
    "version": 3
   },
   "file_extension": ".py",
   "mimetype": "text/x-python",
   "name": "python",
   "nbconvert_exporter": "python",
   "pygments_lexer": "ipython3",
   "version": "3.8.11"
  },
  "toc": {
   "base_numbering": 1,
   "nav_menu": {},
   "number_sections": true,
   "sideBar": true,
   "skip_h1_title": false,
   "title_cell": "Table of Contents",
   "title_sidebar": "Contents",
   "toc_cell": false,
   "toc_position": {},
   "toc_section_display": true,
   "toc_window_display": false
  }
 },
 "nbformat": 4,
 "nbformat_minor": 5
}
