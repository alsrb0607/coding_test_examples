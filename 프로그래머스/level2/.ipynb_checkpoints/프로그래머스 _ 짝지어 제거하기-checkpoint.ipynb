{
 "cells": [
  {
   "cell_type": "code",
   "execution_count": 15,
   "id": "50b51670",
   "metadata": {},
   "outputs": [],
   "source": [
    "# 예시\n",
    "import re\n",
    "before = 'baabaaaaaaaacaaaaac'\n",
    "target = ['a','b','c','d','e','f','g','h','i','j','k','l','m','n','o','p','q',\n",
    "         'r','s','t','u','v','w','x','y','z']\n",
    "for i in target:\n",
    "    pattern = re.compile('[a]{2,}')\n",
    "    after = re.sub(pattern,'' ,before)\n",
    "    re.findall"
   ]
  },
  {
   "cell_type": "code",
   "execution_count": 20,
   "id": "52c411cb",
   "metadata": {},
   "outputs": [
    {
     "data": {
      "text/plain": [
       "{'a', 'b', 'c'}"
      ]
     },
     "execution_count": 20,
     "metadata": {},
     "output_type": "execute_result"
    }
   ],
   "source": [
    "set(before)"
   ]
  },
  {
   "cell_type": "code",
   "execution_count": 29,
   "id": "1ce15890",
   "metadata": {},
   "outputs": [],
   "source": [
    "# 함수화, 50% 정답, 뭐가 문제?\n",
    "def solution(before):\n",
    "    import re\n",
    "    after = 'after'\n",
    "    while True:\n",
    "        tmp = before\n",
    "        for alpha in set(tmp):\n",
    "            pattern = re.compile(f'[{alpha}]'+'{2,}')\n",
    "            tmp = re.sub(pattern,'' ,tmp)\n",
    "        after = tmp\n",
    "        if (after == before) and after != '':\n",
    "            return 0\n",
    "        elif after == '':\n",
    "            return 1\n",
    "        before = after"
   ]
  },
  {
   "cell_type": "code",
   "execution_count": 31,
   "id": "cd9543ce",
   "metadata": {},
   "outputs": [
    {
     "data": {
      "text/plain": [
       "1"
      ]
     },
     "execution_count": 31,
     "metadata": {},
     "output_type": "execute_result"
    }
   ],
   "source": [
    "solution('fabbcdaadcaf')"
   ]
  },
  {
   "cell_type": "code",
   "execution_count": 34,
   "id": "199782f6",
   "metadata": {},
   "outputs": [
    {
     "data": {
      "text/plain": [
       "'efacddcafe'"
      ]
     },
     "execution_count": 34,
     "metadata": {},
     "output_type": "execute_result"
    }
   ],
   "source": [
    "before = 'efabbcdaadcafe'\n",
    "for alpha in set(before):\n",
    "    pattern = re.compile(f'[{alpha}]'+'{2,}')\n",
    "    before = re.sub(pattern,'' ,before)\n",
    "before"
   ]
  },
  {
   "cell_type": "code",
   "execution_count": 99,
   "id": "05a08815",
   "metadata": {},
   "outputs": [],
   "source": [
    "# 짝수개 제거 후 대칭인지 확인, 짝수개 연속을 제거해도 부분적으로 대칭이 아닐 수 있다.\n",
    "def solution(s):\n",
    "    import re\n",
    "    for alpha in set(s):\n",
    "        pattern = re.compile(f'[{alpha}]'+'{2,}')\n",
    "        s = re.sub(pattern,'' ,s)\n",
    "    return int(s[:(len(s)+1)//2] == ''.join((reversed(s[(len(s)+1)//2:])))) or 0"
   ]
  },
  {
   "cell_type": "code",
   "execution_count": 55,
   "id": "c71b2e36",
   "metadata": {},
   "outputs": [
    {
     "data": {
      "text/plain": [
       "(10, 'facacddccf')"
      ]
     },
     "execution_count": 55,
     "metadata": {},
     "output_type": "execute_result"
    }
   ],
   "source": [
    "s = 'fabbcacdaadcaaacf'\n",
    "for alpha in set(s):\n",
    "    pattern = re.compile(f'[{alpha}]'+'{2,}')\n",
    "    s = re.sub(pattern,'' ,s)\n",
    "len(s), s"
   ]
  },
  {
   "cell_type": "code",
   "execution_count": 109,
   "id": "82720c4f",
   "metadata": {},
   "outputs": [
    {
     "data": {
      "text/plain": [
       "['a', 'b', 'c', 'd', 'e', 'd', 'c', 'b', 'a']"
      ]
     },
     "execution_count": 109,
     "metadata": {},
     "output_type": "execute_result"
    }
   ],
   "source": [
    "s = 'abcdefggfedcba'\n",
    "for alpha in set(s):\n",
    "    pattern = re.compile(f'[{alpha}]'+'{2,}')\n",
    "    s = re.sub(pattern,'' ,s)\n",
    "tmp = []\n",
    "for i in range(len(s)-1):\n",
    "    if s[i] == s[i+1]:\n",
    "        continue\n",
    "    else:\n",
    "        tmp.append(s[i])\n",
    "tmp.append(s[-1])\n",
    "tmp"
   ]
  },
  {
   "cell_type": "code",
   "execution_count": 112,
   "id": "2ba6eb10",
   "metadata": {},
   "outputs": [
    {
     "name": "stdout",
     "output_type": "stream",
     "text": [
      "aa\n"
     ]
    },
    {
     "data": {
      "text/plain": [
       "['a']"
      ]
     },
     "execution_count": 112,
     "metadata": {},
     "output_type": "execute_result"
    }
   ],
   "source": [
    "s = 'abbcdaadca'\n",
    "for alpha in set(s):\n",
    "    pattern = re.compile(f'[{alpha}]'+'{2,}')\n",
    "    s = re.sub(pattern,'' ,s)\n",
    "print(s)\n",
    "tmp = []\n",
    "for i in range(len(s)-1):\n",
    "    if s[i] == s[i+1]:\n",
    "        continue\n",
    "    else:\n",
    "        tmp.append(s[i])\n",
    "tmp.append(s[-1])\n",
    "tmp"
   ]
  },
  {
   "cell_type": "code",
   "execution_count": 119,
   "id": "d4be1382",
   "metadata": {},
   "outputs": [
    {
     "data": {
      "text/plain": [
       "['a', 'b', 'c', 'd', 'e']"
      ]
     },
     "execution_count": 119,
     "metadata": {},
     "output_type": "execute_result"
    }
   ],
   "source": [
    "list((reversed(s[len(s)//2:])))"
   ]
  },
  {
   "cell_type": "code",
   "execution_count": 115,
   "id": "bc409400",
   "metadata": {},
   "outputs": [
    {
     "data": {
      "text/plain": [
       "['a', 'b', 'c', 'd', 'e']"
      ]
     },
     "execution_count": 115,
     "metadata": {},
     "output_type": "execute_result"
    }
   ],
   "source": [
    "s[:(len(s)+1)//2]"
   ]
  },
  {
   "cell_type": "code",
   "execution_count": 114,
   "id": "6bb0532b",
   "metadata": {},
   "outputs": [
    {
     "data": {
      "text/plain": [
       "0"
      ]
     },
     "execution_count": 114,
     "metadata": {},
     "output_type": "execute_result"
    }
   ],
   "source": [
    "s = ['a', 'b', 'c', 'd', 'e', 'd', 'c', 'b', 'a']\n",
    "int(s[:(len(s)+1)//2] == list((reversed(s[len(s)//2:]))))"
   ]
  },
  {
   "cell_type": "code",
   "execution_count": 120,
   "id": "ab15839e",
   "metadata": {},
   "outputs": [],
   "source": [
    "# 짝수개 제거 후 대칭인지 확인, 짝수개 연속을 제거해도 부분적으로 대칭이 아닐 수 있다.\n",
    "def solution(s):\n",
    "    import re\n",
    "    for alpha in set(s):\n",
    "        pattern = re.compile(f'[{alpha}]'+'{2}')\n",
    "        s = re.sub(pattern,'' ,s)\n",
    "    if not len(s)%2:\n",
    "        return int(s[:len(s)//2] == ''.join((reversed(s[len(s)//2:])))) or 0\n",
    "    else:\n",
    "        tmp = []\n",
    "        for i in range(len(s)-1):\n",
    "            if s[i] == s[i+1]:\n",
    "                continue\n",
    "            else:\n",
    "                tmp.append(s[i])\n",
    "        tmp.append(s[-1])\n",
    "        return int(tmp[:(len(tmp)+1)//2] == list((reversed(tmp[len(tmp)//2:])))) or 0"
   ]
  },
  {
   "cell_type": "code",
   "execution_count": 126,
   "id": "8d715f64",
   "metadata": {},
   "outputs": [],
   "source": [
    "# 짝수개 제거 후 대칭인지 확인, 짝수개 연속을 제거해도 부분적으로 대칭이 아닐 수 있다.\n",
    "def solution(s):\n",
    "    import re\n",
    "    for alpha in set(s):\n",
    "        pattern = re.compile(f'[{alpha}]'+'{2}')\n",
    "        s = re.sub(pattern,'' ,s)\n",
    "    return s"
   ]
  },
  {
   "cell_type": "code",
   "execution_count": 203,
   "id": "f557afc3",
   "metadata": {},
   "outputs": [
    {
     "data": {
      "text/plain": [
       "0"
      ]
     },
     "execution_count": 203,
     "metadata": {},
     "output_type": "execute_result"
    }
   ],
   "source": [
    "solution('abaabaaaeffeaagaagattatt')"
   ]
  },
  {
   "cell_type": "code",
   "execution_count": 149,
   "id": "4828a3d6",
   "metadata": {},
   "outputs": [
    {
     "data": {
      "text/plain": [
       "'abbaeffeggattatt'"
      ]
     },
     "execution_count": 149,
     "metadata": {},
     "output_type": "execute_result"
    }
   ],
   "source": [
    "''.join(s.split('aa'))"
   ]
  },
  {
   "cell_type": "code",
   "execution_count": 160,
   "id": "ef31a0f7",
   "metadata": {},
   "outputs": [],
   "source": [
    "def temp_(s):\n",
    "    cnt = 0\n",
    "    while True:\n",
    "        cnt+=1\n",
    "        if cnt*2 > len(s):\n",
    "            return 0 \n",
    "        word = s[:cnt*2]\n",
    "        if word[:len(word)//2] == ''.join((reversed(word[len(word)//2:]))):\n",
    "            return s[cnt*2:]"
   ]
  },
  {
   "cell_type": "code",
   "execution_count": 163,
   "id": "2ca232cd",
   "metadata": {},
   "outputs": [
    {
     "data": {
      "text/plain": [
       "0"
      ]
     },
     "execution_count": 163,
     "metadata": {},
     "output_type": "execute_result"
    }
   ],
   "source": [
    "temp_('att')"
   ]
  },
  {
   "cell_type": "code",
   "execution_count": 172,
   "id": "5c557c3d",
   "metadata": {},
   "outputs": [],
   "source": [
    "# 함수화, 50% 정답, 뭐가 문제?\n",
    "def temp_(s):\n",
    "    cnt = 0\n",
    "    while True:\n",
    "        cnt+=1\n",
    "        if cnt > len(s):\n",
    "            return 0 \n",
    "        word = s[:cnt*2]\n",
    "        if word[:len(word)//2] == ''.join((reversed(word[len(word)//2:]))):\n",
    "            return s[cnt*2:]\n",
    "        \n",
    "def solution(s):\n",
    "    cnt = 0\n",
    "    while s:\n",
    "        cnt+=1\n",
    "        if cnt > len(s)/2:\n",
    "            return 0 \n",
    "        word = s[:cnt*2]\n",
    "        if word[:len(word)//2] == ''.join((reversed(word[len(word)//2:]))):\n",
    "            s = s[cnt*2:]\n",
    "    return 1"
   ]
  },
  {
   "cell_type": "code",
   "execution_count": 204,
   "id": "11bb1519",
   "metadata": {},
   "outputs": [
    {
     "data": {
      "text/plain": [
       "1"
      ]
     },
     "execution_count": 204,
     "metadata": {},
     "output_type": "execute_result"
    }
   ],
   "source": [
    "solution('baabaa')"
   ]
  },
  {
   "cell_type": "code",
   "execution_count": 224,
   "id": "66b82d96",
   "metadata": {},
   "outputs": [
    {
     "data": {
      "text/plain": [
       "0"
      ]
     },
     "execution_count": 224,
     "metadata": {},
     "output_type": "execute_result"
    }
   ],
   "source": [
    "s = 'abaabaaaeffeaaggattattz'\n",
    "solution(s)"
   ]
  },
  {
   "cell_type": "code",
   "execution_count": 213,
   "id": "e53ff4cb",
   "metadata": {},
   "outputs": [],
   "source": [
    "# 함수화, 50% 정답, 뭐가 문제?\n",
    "def temp_(s):\n",
    "    cnt = 0\n",
    "    while True:\n",
    "        cnt+=1\n",
    "        if cnt*2 > len(s):\n",
    "            return 0 \n",
    "        word = s[:cnt*2]\n",
    "        if word[:len(word)//2] == ''.join((reversed(word[len(word)//2:]))):\n",
    "            return s[cnt*2:]\n",
    "        \n",
    "def solution(s):\n",
    "    while s:\n",
    "        s = temp_(s)\n",
    "    if s ==0:\n",
    "        return 0\n",
    "    else:\n",
    "        return 1"
   ]
  },
  {
   "cell_type": "code",
   "execution_count": 225,
   "id": "54731ae6",
   "metadata": {},
   "outputs": [],
   "source": [
    "# 스택, 통과\n",
    "def solution(s):\n",
    "    answer = [s[0]]\n",
    "    if len(s)%2:\n",
    "        return 0\n",
    "    for alpha in s[1:]:\n",
    "        if answer:\n",
    "            if answer[-1] == alpha:\n",
    "                answer.pop()\n",
    "        elif not answer:\n",
    "            answer.append(alpha)\n",
    "        else:\n",
    "            answer.append(alpha)\n",
    "    if answer:\n",
    "        return 0\n",
    "    elif not answer:\n",
    "        return 1"
   ]
  },
  {
   "cell_type": "code",
   "execution_count": null,
   "id": "1c5c6d19",
   "metadata": {},
   "outputs": [],
   "source": []
  }
 ],
 "metadata": {
  "kernelspec": {
   "display_name": "Python 3",
   "language": "python",
   "name": "python3"
  },
  "language_info": {
   "codemirror_mode": {
    "name": "ipython",
    "version": 3
   },
   "file_extension": ".py",
   "mimetype": "text/x-python",
   "name": "python",
   "nbconvert_exporter": "python",
   "pygments_lexer": "ipython3",
   "version": "3.8.11"
  },
  "toc": {
   "base_numbering": 1,
   "nav_menu": {},
   "number_sections": true,
   "sideBar": true,
   "skip_h1_title": false,
   "title_cell": "Table of Contents",
   "title_sidebar": "Contents",
   "toc_cell": false,
   "toc_position": {},
   "toc_section_display": true,
   "toc_window_display": false
  }
 },
 "nbformat": 4,
 "nbformat_minor": 5
}
