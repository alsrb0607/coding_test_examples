{
 "cells": [
  {
   "cell_type": "code",
   "execution_count": 17,
   "id": "cba03350",
   "metadata": {},
   "outputs": [
    {
     "data": {
      "text/plain": [
       "1"
      ]
     },
     "execution_count": 17,
     "metadata": {},
     "output_type": "execute_result"
    }
   ],
   "source": [
    "a = [1, 2, 3, 9, 10, 12]\n",
    "a.pop(0)"
   ]
  },
  {
   "cell_type": "code",
   "execution_count": 9,
   "id": "e340a1cb",
   "metadata": {},
   "outputs": [],
   "source": [
    "a.insert( 0, 10 )"
   ]
  },
  {
   "cell_type": "code",
   "execution_count": 10,
   "id": "c8e2a44d",
   "metadata": {},
   "outputs": [
    {
     "data": {
      "text/plain": [
       "[10, 3, 9, 10, 12, 0]"
      ]
     },
     "execution_count": 10,
     "metadata": {},
     "output_type": "execute_result"
    }
   ],
   "source": [
    "a"
   ]
  },
  {
   "cell_type": "code",
   "execution_count": 20,
   "id": "ddd4e8e2",
   "metadata": {},
   "outputs": [],
   "source": [
    "# 90% 정답, 시간초과\n",
    "import bisect\n",
    "def solution(scoville, K):\n",
    "    answer = 0\n",
    "    while (scoville[0] < K):\n",
    "        scoville.sort()\n",
    "        tmp = scoville.pop(0) + scoville.pop(0)*2\n",
    "        scoville.insert(bisect.bisect(scoville,tmp), tmp)\n",
    "        answer += 1\n",
    "        if (len(scoville)<2) and (scoville[0] < K):\n",
    "            return -1\n",
    "    return answer"
   ]
  },
  {
   "cell_type": "code",
   "execution_count": 37,
   "id": "58b00bf1",
   "metadata": {},
   "outputs": [
    {
     "data": {
      "text/plain": [
       "4"
      ]
     },
     "execution_count": 37,
     "metadata": {},
     "output_type": "execute_result"
    }
   ],
   "source": [
    "solution([1, 2, 3, 9, 10, 12], 15)"
   ]
  },
  {
   "cell_type": "code",
   "execution_count": 31,
   "id": "815071c6",
   "metadata": {},
   "outputs": [
    {
     "data": {
      "text/plain": [
       "[1, 2, 9, 13, 3, 10, 12]"
      ]
     },
     "execution_count": 31,
     "metadata": {},
     "output_type": "execute_result"
    }
   ],
   "source": [
    "import heapq\n",
    "a = [13, 2, 9, 1, 3, 10,12]\n",
    "heapq.heapify(a)\n",
    "a"
   ]
  },
  {
   "cell_type": "code",
   "execution_count": 36,
   "id": "2ce9ccf8",
   "metadata": {},
   "outputs": [],
   "source": [
    "# 통과\n",
    "import heapq\n",
    "def solution(scoville, K):\n",
    "    answer = 0\n",
    "    heapq.heapify(scoville)\n",
    "    while (scoville[0] < K):\n",
    "        heapq.heappush(scoville, heapq.heappop(scoville) + heapq.heappop(scoville)*2)\n",
    "        answer += 1\n",
    "        if (len(scoville)<2) and (scoville[0] < K):\n",
    "            return -1\n",
    "    return answer"
   ]
  },
  {
   "cell_type": "code",
   "execution_count": 46,
   "id": "99458ce1",
   "metadata": {},
   "outputs": [
    {
     "data": {
      "text/plain": [
       "[1, 2, 3]"
      ]
     },
     "execution_count": 46,
     "metadata": {},
     "output_type": "execute_result"
    }
   ],
   "source": [
    "heapq.nlargest(3, a, key=lambda x: -x)"
   ]
  },
  {
   "cell_type": "code",
   "execution_count": 47,
   "id": "75233db0",
   "metadata": {},
   "outputs": [],
   "source": [
    "import heapq\n",
    "\n",
    "nums = [5, 6, 2, 1, 7, 4, 10, 15]\n",
    "heap = []\n",
    "\n",
    "for num in nums:\n",
    "    heapq.heappush(heap, (-num, num))  # (우선 순위, 값)"
   ]
  },
  {
   "cell_type": "code",
   "execution_count": 48,
   "id": "02150181",
   "metadata": {},
   "outputs": [
    {
     "data": {
      "text/plain": [
       "[(-15, 15), (-10, 10), (-7, 7), (-6, 6), (-5, 5), (-2, 2), (-4, 4), (-1, 1)]"
      ]
     },
     "execution_count": 48,
     "metadata": {},
     "output_type": "execute_result"
    }
   ],
   "source": [
    "heap"
   ]
  },
  {
   "cell_type": "code",
   "execution_count": null,
   "id": "70e141de",
   "metadata": {},
   "outputs": [],
   "source": []
  }
 ],
 "metadata": {
  "kernelspec": {
   "display_name": "Python 3",
   "language": "python",
   "name": "python3"
  },
  "language_info": {
   "codemirror_mode": {
    "name": "ipython",
    "version": 3
   },
   "file_extension": ".py",
   "mimetype": "text/x-python",
   "name": "python",
   "nbconvert_exporter": "python",
   "pygments_lexer": "ipython3",
   "version": "3.8.11"
  },
  "toc": {
   "base_numbering": 1,
   "nav_menu": {},
   "number_sections": true,
   "sideBar": true,
   "skip_h1_title": false,
   "title_cell": "Table of Contents",
   "title_sidebar": "Contents",
   "toc_cell": false,
   "toc_position": {},
   "toc_section_display": true,
   "toc_window_display": false
  }
 },
 "nbformat": 4,
 "nbformat_minor": 5
}
