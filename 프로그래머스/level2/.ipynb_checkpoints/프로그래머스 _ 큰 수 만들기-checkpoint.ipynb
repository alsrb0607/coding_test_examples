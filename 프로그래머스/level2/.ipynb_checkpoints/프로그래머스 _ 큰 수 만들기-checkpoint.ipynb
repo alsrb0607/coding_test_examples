{
 "cells": [
  {
   "cell_type": "code",
   "execution_count": 8,
   "id": "355467ac",
   "metadata": {},
   "outputs": [],
   "source": [
    "from itertools import combinations\n",
    "number = \"1231234\"\t\n",
    "k = 3\n",
    "\n",
    "tmp = list(combinations(range(len(number)) , len(number)-k))"
   ]
  },
  {
   "cell_type": "code",
   "execution_count": 17,
   "id": "318b6554",
   "metadata": {},
   "outputs": [],
   "source": [
    "answer = [''.join([number[i] for i in t]) for t in tmp]"
   ]
  },
  {
   "cell_type": "code",
   "execution_count": 19,
   "id": "891acb5d",
   "metadata": {},
   "outputs": [
    {
     "data": {
      "text/plain": [
       "'3234'"
      ]
     },
     "execution_count": 19,
     "metadata": {},
     "output_type": "execute_result"
    }
   ],
   "source": [
    "max(answer)"
   ]
  },
  {
   "cell_type": "code",
   "execution_count": null,
   "id": "91f0b2f2",
   "metadata": {},
   "outputs": [],
   "source": [
    "from itertools import combinations\n",
    "def solution(number, k):\n",
    "    tmp = list(combinations(range(len(number)) , len(number)-k))\n",
    "    return max([''.join([number[i] for i in t]) for t in tmp])"
   ]
  },
  {
   "cell_type": "code",
   "execution_count": null,
   "id": "a8ee8a65",
   "metadata": {},
   "outputs": [],
   "source": [
    "# 시간초과 2\n",
    "from itertools import combinations\n",
    "def solution(number, k):\n",
    "    cnt = number[:len(number) - k]\n",
    "    start = 0\n",
    "    for i in range(k):\n",
    "        if cnt > number[i+1:i+len(number) - k+1]:\n",
    "            continue\n",
    "        else:\n",
    "            cnt = number[i+1:i+len(number) - k+1]\n",
    "            start = i+1\n",
    "    tmp = list(combinations(range(start+1, len(number)) , len(number)-k-1))\n",
    "    return number[start] + max([''.join([number[i] for i in t]) for t in tmp])"
   ]
  },
  {
   "cell_type": "code",
   "execution_count": 126,
   "id": "991da1da",
   "metadata": {},
   "outputs": [],
   "source": [
    "number = \"4177252841\"\t\n",
    "k = 4\n",
    "cnt = number[:len(number) - k]\n",
    "tmp = []\n",
    "start = 0"
   ]
  },
  {
   "cell_type": "code",
   "execution_count": 127,
   "id": "462ba444",
   "metadata": {},
   "outputs": [],
   "source": [
    "for i in range(len(number) - k):\n",
    "    if cnt > number[i+1:i+len(number) - k+1]:\n",
    "        continue\n",
    "    else:\n",
    "        cnt = number[i+1:i+len(number) - k+1]\n",
    "        start = i+1"
   ]
  },
  {
   "cell_type": "code",
   "execution_count": 131,
   "id": "733b1854",
   "metadata": {},
   "outputs": [],
   "source": [
    "tmp = number[start+1:]\n",
    "check = 0\n",
    "answer = number[start]\n",
    "for i in range(len(tmp)):\n",
    "    if check == len(tmp) - (len(number) - k):\n",
    "        answer += tmp[i:]\n",
    "        break\n",
    "    elif len(answer) == (len(number) - k):\n",
    "        break\n",
    "    if tmp > tmp[:i] + tmp[i+1:]:\n",
    "        answer += tmp[i]\n",
    "    else:\n",
    "        check += 1"
   ]
  },
  {
   "cell_type": "code",
   "execution_count": 132,
   "id": "d1207e34",
   "metadata": {},
   "outputs": [
    {
     "data": {
      "text/plain": [
       "'775841'"
      ]
     },
     "execution_count": 132,
     "metadata": {},
     "output_type": "execute_result"
    }
   ],
   "source": [
    "answer"
   ]
  },
  {
   "cell_type": "code",
   "execution_count": 129,
   "id": "7f728fe7",
   "metadata": {},
   "outputs": [
    {
     "data": {
      "text/plain": [
       "False"
      ]
     },
     "execution_count": 129,
     "metadata": {},
     "output_type": "execute_result"
    }
   ],
   "source": [
    "\"77252841\" < \"7252841\"."
   ]
  },
  {
   "cell_type": "code",
   "execution_count": 152,
   "id": "598bb780",
   "metadata": {},
   "outputs": [
    {
     "name": "stdout",
     "output_type": "stream",
     "text": [
      "4177252841111111111 19\n",
      "72528411111111111111 7725284111111111111\n",
      "1 7758411111111111111\n"
     ]
    },
    {
     "data": {
      "text/plain": [
       "'7758411111111111111'"
      ]
     },
     "execution_count": 152,
     "metadata": {},
     "output_type": "execute_result"
    }
   ],
   "source": [
    "solution(\"41772528411111111111111\", 4)"
   ]
  },
  {
   "cell_type": "code",
   "execution_count": 153,
   "id": "7d9d1479",
   "metadata": {},
   "outputs": [
    {
     "data": {
      "text/plain": [
       "True"
      ]
     },
     "execution_count": 153,
     "metadata": {},
     "output_type": "execute_result"
    }
   ],
   "source": [
    "[1,2,3] < [4,5]"
   ]
  },
  {
   "cell_type": "code",
   "execution_count": null,
   "id": "426e8c4f",
   "metadata": {},
   "outputs": [],
   "source": [
    "def solution(number, k):\n",
    "    cnt = number[:len(number) - k]\n",
    "    start = 0\n",
    "    for i in range(k):\n",
    "        if cnt > number[i+1:i+len(number) - k+1]:\n",
    "            continue\n",
    "        else:\n",
    "            cnt = number[i+1:i+len(number) - k+1]\n",
    "            start = i+1\n",
    "    tmp = number[start+1:]\n",
    "    check = 0\n",
    "    answer = number[start]\n",
    "    for i in range(len(tmp)):\n",
    "        if check == len(tmp)+1 - (len(number) - k):\n",
    "            answer += tmp[i:]\n",
    "            break\n",
    "        elif len(answer) == (len(number) - k):\n",
    "            break\n",
    "        if tmp > tmp[:i] + tmp[i+1:]:\n",
    "            answer += tmp[i]\n",
    "        else:\n",
    "            check += 1\n",
    "    return answer"
   ]
  }
 ],
 "metadata": {
  "kernelspec": {
   "display_name": "Python 3",
   "language": "python",
   "name": "python3"
  },
  "language_info": {
   "codemirror_mode": {
    "name": "ipython",
    "version": 3
   },
   "file_extension": ".py",
   "mimetype": "text/x-python",
   "name": "python",
   "nbconvert_exporter": "python",
   "pygments_lexer": "ipython3",
   "version": "3.8.11"
  },
  "toc": {
   "base_numbering": 1,
   "nav_menu": {},
   "number_sections": true,
   "sideBar": true,
   "skip_h1_title": false,
   "title_cell": "Table of Contents",
   "title_sidebar": "Contents",
   "toc_cell": false,
   "toc_position": {},
   "toc_section_display": true,
   "toc_window_display": false
  }
 },
 "nbformat": 4,
 "nbformat_minor": 5
}
