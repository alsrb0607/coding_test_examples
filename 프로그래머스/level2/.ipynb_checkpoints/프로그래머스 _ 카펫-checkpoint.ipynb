{
 "cells": [
  {
   "cell_type": "code",
   "execution_count": 8,
   "id": "ea9598bf",
   "metadata": {},
   "outputs": [],
   "source": [
    "n = 48\n",
    "lst = []\n",
    "for x in range(3, int(n**(0.5))+1):\n",
    "    if 48%x ==0:\n",
    "        lst.append((int(48/x), x))"
   ]
  },
  {
   "cell_type": "code",
   "execution_count": 11,
   "id": "e9d4b76f",
   "metadata": {},
   "outputs": [
    {
     "data": {
      "text/plain": [
       "[(16, 3), (12, 4), (8, 6)]"
      ]
     },
     "execution_count": 11,
     "metadata": {},
     "output_type": "execute_result"
    }
   ],
   "source": [
    "lst"
   ]
  },
  {
   "cell_type": "code",
   "execution_count": 12,
   "id": "ac0842cb",
   "metadata": {},
   "outputs": [
    {
     "name": "stdout",
     "output_type": "stream",
     "text": [
      "[8, 6]\n"
     ]
    }
   ],
   "source": [
    "for i, j in lst:\n",
    "    if (i-2)*(j-2)==24:\n",
    "        print([i,j])"
   ]
  },
  {
   "cell_type": "code",
   "execution_count": 14,
   "id": "c55af3bc",
   "metadata": {},
   "outputs": [],
   "source": [
    "# 함수화\n",
    "def solution(brown, yellow):\n",
    "    lst = []\n",
    "    for x in range(3, int((brown+yellow)**(0.5))+1):\n",
    "        if (brown+yellow)%x ==0:\n",
    "            lst.append((int((brown+yellow)/x), x))\n",
    "    for i, j in lst:\n",
    "        if (i-2)*(j-2) == yellow:\n",
    "            return [i,j]\n"
   ]
  },
  {
   "cell_type": "code",
   "execution_count": null,
   "id": "02141dc7",
   "metadata": {},
   "outputs": [],
   "source": [
    "solution()"
   ]
  }
 ],
 "metadata": {
  "kernelspec": {
   "display_name": "Python 3",
   "language": "python",
   "name": "python3"
  },
  "language_info": {
   "codemirror_mode": {
    "name": "ipython",
    "version": 3
   },
   "file_extension": ".py",
   "mimetype": "text/x-python",
   "name": "python",
   "nbconvert_exporter": "python",
   "pygments_lexer": "ipython3",
   "version": "3.8.11"
  },
  "toc": {
   "base_numbering": 1,
   "nav_menu": {},
   "number_sections": true,
   "sideBar": true,
   "skip_h1_title": false,
   "title_cell": "Table of Contents",
   "title_sidebar": "Contents",
   "toc_cell": false,
   "toc_position": {},
   "toc_section_display": true,
   "toc_window_display": false
  }
 },
 "nbformat": 4,
 "nbformat_minor": 5
}
