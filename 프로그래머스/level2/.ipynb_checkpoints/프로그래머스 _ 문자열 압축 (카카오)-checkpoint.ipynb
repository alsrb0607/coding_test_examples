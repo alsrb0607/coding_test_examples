{
 "cells": [
  {
   "cell_type": "code",
   "execution_count": 5,
   "id": "91d17fc8",
   "metadata": {},
   "outputs": [
    {
     "data": {
      "text/plain": [
       "16"
      ]
     },
     "execution_count": 5,
     "metadata": {},
     "output_type": "execute_result"
    }
   ],
   "source": [
    "s = \"ababcdcdababcdcd\"\n",
    "len(s)"
   ]
  },
  {
   "cell_type": "code",
   "execution_count": 33,
   "id": "6f395cf7",
   "metadata": {},
   "outputs": [
    {
     "data": {
      "text/plain": [
       "[['a',\n",
       "  'b',\n",
       "  'a',\n",
       "  'b',\n",
       "  'c',\n",
       "  'd',\n",
       "  'c',\n",
       "  'd',\n",
       "  'a',\n",
       "  'b',\n",
       "  'a',\n",
       "  'b',\n",
       "  'c',\n",
       "  'd',\n",
       "  'c',\n",
       "  'd'],\n",
       " ['ab', 'ab', 'cd', 'cd', 'ab', 'ab', 'cd', 'cd'],\n",
       " ['aba', 'bcd', 'cda', 'bab', 'cdc', 'd'],\n",
       " ['abab', 'cdcd', 'abab', 'cdcd'],\n",
       " ['ababc', 'dcdab', 'abcdc', 'd'],\n",
       " ['ababcd', 'cdabab', 'cdcd'],\n",
       " ['ababcdc', 'dababcd', 'cd'],\n",
       " ['ababcdcd', 'ababcdcd']]"
      ]
     },
     "execution_count": 33,
     "metadata": {},
     "output_type": "execute_result"
    }
   ],
   "source": [
    "tmp =[[s[i:i+j] for i in range(0,len(s),j)] for j in range(1, len(s)//2+1)]\n",
    "tmp"
   ]
  },
  {
   "cell_type": "code",
   "execution_count": 34,
   "id": "a70f30ac",
   "metadata": {},
   "outputs": [],
   "source": [
    "answers = []\n",
    "for x in tmp:\n",
    "    tmp1 = [0]\n",
    "    tmp2 = [x[0]]\n",
    "    i = 0\n",
    "    while x:\n",
    "        if x[0] == tmp2[-1]:\n",
    "            tmp1[i] +=1\n",
    "            x.pop(0)\n",
    "        else:\n",
    "            tmp1.append(1)\n",
    "            tmp2.append(x.pop(0))\n",
    "            i +=1\n",
    "    answer = ''\n",
    "    for num, x in zip(tmp1, tmp2):\n",
    "        if num == 1:\n",
    "            answer += x\n",
    "        else:\n",
    "            answer += str(num) + x\n",
    "    answers.append(answer)"
   ]
  },
  {
   "cell_type": "code",
   "execution_count": 35,
   "id": "d21a2158",
   "metadata": {},
   "outputs": [
    {
     "data": {
      "text/plain": [
       "['ababcdcdababcdcd',\n",
       " '2ab2cd2ab2cd',\n",
       " 'ababcdcdababcdcd',\n",
       " 'ababcdcdababcdcd',\n",
       " 'ababcdcdababcdcd',\n",
       " 'ababcdcdababcdcd',\n",
       " 'ababcdcdababcdcd',\n",
       " '2ababcdcd']"
      ]
     },
     "execution_count": 35,
     "metadata": {},
     "output_type": "execute_result"
    }
   ],
   "source": [
    "answers"
   ]
  },
  {
   "cell_type": "code",
   "execution_count": null,
   "id": "3869d457",
   "metadata": {},
   "outputs": [],
   "source": [
    "def solution(s):\n",
    "    if len(s) ==1:\n",
    "        return 1\n",
    "    tmp =[[s[i:i+j] for i in range(0,len(s),j)] for j in range(1, len(s)//2+1)]\n",
    "    answers = []\n",
    "    for x in tmp:\n",
    "        tmp1 = [0]\n",
    "        tmp2 = [x[0]]\n",
    "        i = 0\n",
    "        while x:\n",
    "            if x[0] == tmp2[-1]:\n",
    "                tmp1[i] +=1\n",
    "                x.pop(0)\n",
    "            else:\n",
    "                tmp1.append(1)\n",
    "                tmp2.append(x.pop(0))\n",
    "                i +=1\n",
    "        answer = ''\n",
    "        for num, x in zip(tmp1, tmp2):\n",
    "            if num == 1:\n",
    "                answer += x\n",
    "            else:\n",
    "                answer += str(num) + x\n",
    "        answers.append(len(answer))\n",
    "    return min(answers)"
   ]
  },
  {
   "cell_type": "code",
   "execution_count": null,
   "id": "91c1921b",
   "metadata": {},
   "outputs": [],
   "source": [
    "def compress(text, tok_len):\n",
    "    words = [text[i:i+tok_len] for i in range(0, len(text), tok_len)]\n",
    "    res = []\n",
    "    cur_word = words[0]\n",
    "    cur_cnt = 1\n",
    "    for a, b in zip(words, words[1:] + ['']):\n",
    "        if a == b:\n",
    "            cur_cnt += 1\n",
    "        else:\n",
    "            res.append([cur_word, cur_cnt])\n",
    "            cur_word = b\n",
    "            cur_cnt = 1\n",
    "    return sum(len(word) + (len(str(cnt)) if cnt > 1 else 0) for word, cnt in res)\n",
    "\n",
    "def solution(text):\n",
    "    return min(compress(text, tok_len) for tok_len in list(range(1, int(len(text)/2) + 1)) + [len(text)])"
   ]
  }
 ],
 "metadata": {
  "kernelspec": {
   "display_name": "Python 3",
   "language": "python",
   "name": "python3"
  },
  "language_info": {
   "codemirror_mode": {
    "name": "ipython",
    "version": 3
   },
   "file_extension": ".py",
   "mimetype": "text/x-python",
   "name": "python",
   "nbconvert_exporter": "python",
   "pygments_lexer": "ipython3",
   "version": "3.8.11"
  },
  "toc": {
   "base_numbering": 1,
   "nav_menu": {},
   "number_sections": true,
   "sideBar": true,
   "skip_h1_title": false,
   "title_cell": "Table of Contents",
   "title_sidebar": "Contents",
   "toc_cell": false,
   "toc_position": {},
   "toc_section_display": true,
   "toc_window_display": false
  }
 },
 "nbformat": 4,
 "nbformat_minor": 5
}
