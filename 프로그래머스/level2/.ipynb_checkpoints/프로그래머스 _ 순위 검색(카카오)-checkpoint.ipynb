{
 "cells": [
  {
   "cell_type": "code",
   "execution_count": 190,
   "id": "4fc56eb5",
   "metadata": {},
   "outputs": [],
   "source": [
    "info = [\"java backend junior pizza 150\",\"python frontend senior chicken 210\",\"python frontend senior chicken 150\",\n",
    "        \"cpp backend senior pizza 260\",\"java backend junior chicken 80\",\"python backend senior chicken 50\"]\n",
    "query = [\"java and backend and junior and pizza 100\",\"python and frontend and senior and chicken 200\",\n",
    " \"cpp and - and senior and pizza 250\",\"- and backend and senior and - 150\",\"- and - and - and chicken 100\",\n",
    " \"- and - and - and - 150\"]"
   ]
  },
  {
   "cell_type": "code",
   "execution_count": 45,
   "id": "81759881",
   "metadata": {},
   "outputs": [],
   "source": [
    "# 정확도 100%, 효율성 실패\n",
    "def info_to_dict(info):\n",
    "    def to_dict(x):\n",
    "        x = x.split()\n",
    "        tmp = dict()\n",
    "        for i in range(len(x)):\n",
    "            tmp[i] = x[i]\n",
    "        return tmp\n",
    "    return map(to_dict, info)\n",
    "\n",
    "def query_to_list(query):\n",
    "    def to_list(x):\n",
    "        x = x.replace(\"and\", \"\").split()\n",
    "        return x\n",
    "    return map(to_list, query)\n",
    "\n",
    "def query_to_score(query, info):\n",
    "    info = list(filter(lambda y: int(y[4]) >= int(query[-1]), info))\n",
    "    for i, x in enumerate(query[:-1]):\n",
    "        if x == '-':\n",
    "            pass\n",
    "        else:\n",
    "            info = list(filter(lambda y: y[i] == x, info))\n",
    "    return len(info)\n",
    "\n",
    "def solution(info, query):\n",
    "    answer = [query_to_score(x, info_to_dict(info)) for x in query_to_list(query)]\n",
    "    return answer"
   ]
  },
  {
   "cell_type": "code",
   "execution_count": null,
   "id": "4cb5f0c5",
   "metadata": {},
   "outputs": [],
   "source": [
    "# 정확도 100%, 효율성 실패\n",
    "def info_to_dict(info):\n",
    "    def to_dict(x):\n",
    "        x = x.split()\n",
    "        tmp = dict()\n",
    "        for i in range(len(x)):\n",
    "            tmp[i] = x[i]\n",
    "        return tmp\n",
    "    return map(to_dict, info)\n",
    "\n",
    "def query_to_list(query):\n",
    "    def to_list(x):\n",
    "        x = x.replace(\"and\", \"\").split()\n",
    "        return x\n",
    "    return map(to_list, query)\n",
    "\n",
    "def query_to_score(query, info):\n",
    "    info = list(filter(lambda y: int(y[4]) >= int(query[-1]), info))\n",
    "    for i, x in enumerate(query[:-1]):\n",
    "        if x == '-':\n",
    "            pass\n",
    "        else:\n",
    "            info = list(filter(lambda y: y[i] == x, info))\n",
    "    return len(info)\n",
    "\n",
    "def solution(info, query):\n",
    "    answer = [query_to_score(x, info_to_dict(info)) for x in query_to_list(query)]\n",
    "    return answer"
   ]
  },
  {
   "cell_type": "code",
   "execution_count": 46,
   "id": "c2110298",
   "metadata": {},
   "outputs": [
    {
     "data": {
      "text/plain": [
       "[1, 1, 1, 1, 2, 4]"
      ]
     },
     "execution_count": 46,
     "metadata": {},
     "output_type": "execute_result"
    }
   ],
   "source": [
    "solution(info, query)"
   ]
  },
  {
   "cell_type": "code",
   "execution_count": 15,
   "id": "54f32b47",
   "metadata": {},
   "outputs": [
    {
     "data": {
      "text/plain": [
       "[{0: 'java', 1: 'backend', 2: 'junior', 3: 'pizza', 4: '150'},\n",
       " {0: 'python', 1: 'frontend', 2: 'senior', 3: 'chicken', 4: '210'},\n",
       " {0: 'python', 1: 'frontend', 2: 'senior', 3: 'chicken', 4: '150'},\n",
       " {0: 'cpp', 1: 'backend', 2: 'senior', 3: 'pizza', 4: '260'},\n",
       " {0: 'java', 1: 'backend', 2: 'junior', 3: 'chicken', 4: '80'},\n",
       " {0: 'python', 1: 'backend', 2: 'senior', 3: 'chicken', 4: '50'}]"
      ]
     },
     "execution_count": 15,
     "metadata": {},
     "output_type": "execute_result"
    }
   ],
   "source": [
    "info_to_dict(info)"
   ]
  },
  {
   "cell_type": "code",
   "execution_count": 16,
   "id": "c3c61e6e",
   "metadata": {},
   "outputs": [
    {
     "data": {
      "text/plain": [
       "[{0: 'java', 1: 'backend', 2: 'junior', 3: 'pizza', 4: '150'},\n",
       " {0: 'java', 1: 'backend', 2: 'junior', 3: 'chicken', 4: '80'}]"
      ]
     },
     "execution_count": 16,
     "metadata": {},
     "output_type": "execute_result"
    }
   ],
   "source": [
    "list(filter(lambda x: x[0] == 'java', info_to_dict(info)))"
   ]
  },
  {
   "cell_type": "code",
   "execution_count": 17,
   "id": "57b97cac",
   "metadata": {},
   "outputs": [
    {
     "data": {
      "text/plain": [
       "[{0: 'java', 1: 'backend', 2: 'junior', 3: 'pizza', 4: '150'},\n",
       " {0: 'python', 1: 'frontend', 2: 'senior', 3: 'chicken', 4: '210'},\n",
       " {0: 'python', 1: 'frontend', 2: 'senior', 3: 'chicken', 4: '150'},\n",
       " {0: 'cpp', 1: 'backend', 2: 'senior', 3: 'pizza', 4: '260'},\n",
       " {0: 'java', 1: 'backend', 2: 'junior', 3: 'chicken', 4: '80'},\n",
       " {0: 'python', 1: 'backend', 2: 'senior', 3: 'chicken', 4: '50'}]"
      ]
     },
     "execution_count": 17,
     "metadata": {},
     "output_type": "execute_result"
    }
   ],
   "source": [
    "info_to_dict(info)"
   ]
  },
  {
   "cell_type": "code",
   "execution_count": 108,
   "id": "522b588d",
   "metadata": {},
   "outputs": [
    {
     "data": {
      "text/plain": [
       "[1, 1, 1, 1, 2, 4]"
      ]
     },
     "execution_count": 108,
     "metadata": {},
     "output_type": "execute_result"
    }
   ],
   "source": [
    "answer"
   ]
  },
  {
   "cell_type": "code",
   "execution_count": 178,
   "id": "d0e49ca0",
   "metadata": {},
   "outputs": [],
   "source": [
    "# 정확도 100%, 효율성 실패\n",
    "from itertools import product\n",
    "from bisect import bisect_left\n",
    "def info_to_str(info):\n",
    "    def to_str(x):\n",
    "        tmp = x.split()\n",
    "        x = map(lambda y: [\"-\", y], tmp[:-1])\n",
    "        return [map(''.join, product(*x)), tmp[-1]]\n",
    "    info = map(to_str, info)\n",
    "    tmp = dict()\n",
    "    for x in info:\n",
    "        for y in x[0]:\n",
    "            tmp[y] = tmp.get(y,[]) + [int(x[1])]\n",
    "    for x in tmp:\n",
    "        tmp[x] = sorted(tmp.get(x))\n",
    "    return tmp\n",
    "\n",
    "def query_to_list(query):\n",
    "    def to_list(x):\n",
    "        x = x.replace(\"and\", \"\").split()\n",
    "        return [''.join(x[:-1]), int(x[-1])]\n",
    "    return map(to_list, query)\n",
    "\n",
    "def solution(info, query):\n",
    "    answer = []\n",
    "    info = info_to_str(info)\n",
    "    query = query_to_list(query)\n",
    "    for q in query:\n",
    "        if q[0] in info:\n",
    "            n = bisect_left(info[q[0]], (q[1]))\n",
    "            answer.append(len(info[q[0]]) - n)\n",
    "        else:\n",
    "            answer.append(0)\n",
    "    return answer"
   ]
  },
  {
   "cell_type": "code",
   "execution_count": 196,
   "id": "f6f74bf1",
   "metadata": {},
   "outputs": [
    {
     "data": {
      "text/plain": [
       "{'': [50, 80, 150, 150, 210, 260],\n",
       " 'java': [80, 150],\n",
       " 'backend': [50, 80, 150, 260],\n",
       " 'junior': [80, 150],\n",
       " 'pizza': [150, 260],\n",
       " 'javabackend': [80, 150],\n",
       " 'javajunior': [80, 150],\n",
       " 'javapizza': [150],\n",
       " 'backendjunior': [80, 150],\n",
       " 'backendpizza': [150, 260],\n",
       " 'juniorpizza': [150],\n",
       " 'javabackendjunior': [80, 150],\n",
       " 'javabackendpizza': [150],\n",
       " 'javajuniorpizza': [150],\n",
       " 'backendjuniorpizza': [150],\n",
       " 'javabackendjuniorpizza': [150],\n",
       " 'python': [50, 150, 210],\n",
       " 'frontend': [150, 210],\n",
       " 'senior': [50, 150, 210, 260],\n",
       " 'chicken': [50, 80, 150, 210],\n",
       " 'pythonfrontend': [150, 210],\n",
       " 'pythonsenior': [50, 150, 210],\n",
       " 'pythonchicken': [50, 150, 210],\n",
       " 'frontendsenior': [150, 210],\n",
       " 'frontendchicken': [150, 210],\n",
       " 'seniorchicken': [50, 150, 210],\n",
       " 'pythonfrontendsenior': [150, 210],\n",
       " 'pythonfrontendchicken': [150, 210],\n",
       " 'pythonseniorchicken': [50, 150, 210],\n",
       " 'frontendseniorchicken': [150, 210],\n",
       " 'pythonfrontendseniorchicken': [150, 210],\n",
       " 'cpp': [260],\n",
       " 'cppbackend': [260],\n",
       " 'cppsenior': [260],\n",
       " 'cpppizza': [260],\n",
       " 'backendsenior': [50, 260],\n",
       " 'seniorpizza': [260],\n",
       " 'cppbackendsenior': [260],\n",
       " 'cppbackendpizza': [260],\n",
       " 'cppseniorpizza': [260],\n",
       " 'backendseniorpizza': [260],\n",
       " 'cppbackendseniorpizza': [260],\n",
       " 'javachicken': [80],\n",
       " 'backendchicken': [50, 80],\n",
       " 'juniorchicken': [80],\n",
       " 'javabackendchicken': [80],\n",
       " 'javajuniorchicken': [80],\n",
       " 'backendjuniorchicken': [80],\n",
       " 'javabackendjuniorchicken': [80],\n",
       " 'pythonbackend': [50],\n",
       " 'pythonbackendsenior': [50],\n",
       " 'pythonbackendchicken': [50],\n",
       " 'backendseniorchicken': [50],\n",
       " 'pythonbackendseniorchicken': [50]}"
      ]
     },
     "execution_count": 196,
     "metadata": {},
     "output_type": "execute_result"
    }
   ],
   "source": [
    "info_to_str(info)"
   ]
  },
  {
   "cell_type": "code",
   "execution_count": 197,
   "id": "d6e1b23b",
   "metadata": {},
   "outputs": [
    {
     "data": {
      "text/plain": [
       "<map at 0x2690bc3d3d0>"
      ]
     },
     "execution_count": 197,
     "metadata": {},
     "output_type": "execute_result"
    }
   ],
   "source": [
    "query_to_list(query)"
   ]
  },
  {
   "cell_type": "code",
   "execution_count": 198,
   "id": "00a09dc2",
   "metadata": {},
   "outputs": [
    {
     "data": {
      "text/plain": [
       "[1, 1, 1, 1, 2, 4]"
      ]
     },
     "execution_count": 198,
     "metadata": {},
     "output_type": "execute_result"
    }
   ],
   "source": [
    "solution(info, query)"
   ]
  },
  {
   "cell_type": "code",
   "execution_count": 180,
   "id": "c55cf2db",
   "metadata": {},
   "outputs": [],
   "source": [
    "from itertools import combinations\n",
    "from bisect import bisect_left\n",
    "\n",
    "\n",
    "def solution(info, query):\n",
    "    answer = []\n",
    "    info_dict = {}\n",
    "\n",
    "    for i in range(len(info)):\n",
    "        infol = info[i].split()  # info안의 문자열을 공백을 기준으로 분리\n",
    "        mykey = infol[:-1]  # info의 점수제외부분을 key로 분류\n",
    "        myval = infol[-1]  # info의 점수부분을 value로 분류\n",
    "\n",
    "        for j in range(5):  # key들로 만들 수 있는 모든 조합 생성\n",
    "            for c in combinations(mykey, j):\n",
    "                tmp = ''.join(c)\n",
    "                if tmp in info_dict:\n",
    "                    info_dict[tmp].append(int(myval))  # 그 조합의 key값에 점수 추가\n",
    "                else:\n",
    "                    info_dict[tmp] = [int(myval)]\n",
    "                    \n",
    "    for k in info_dict:\n",
    "        info_dict[k].sort()  # dict안의 조합들을 점수순으로 정렬\n",
    "\n",
    "    for qu in query:  # query도 마찬가지로 key와 value로 분리\n",
    "        myqu = qu.split(' ')\n",
    "        qu_key = myqu[:-1]\n",
    "        qu_val = myqu[-1]\n",
    "\n",
    "        while 'and' in qu_key:  # and 제거\n",
    "            qu_key.remove('and')\n",
    "        while '-' in qu_key:  # - 제거\n",
    "            qu_key.remove('-')\n",
    "        qu_key = ''.join(qu_key)  # dict의 key처럼 문자열로 변경\n",
    "\n",
    "        if qu_key in info_dict:  # query의 key가 info_dict의 key로 존재하면\n",
    "            scores = info_dict[qu_key]\n",
    "\n",
    "            if scores:  # score리스트에 값이 존재하면\n",
    "                enter = bisect_left(scores, int(qu_val))\n",
    "\n",
    "                answer.append(len(scores) - enter)\n",
    "        else:\n",
    "            answer.append(0)\n",
    "\n",
    "    return answer"
   ]
  },
  {
   "cell_type": "code",
   "execution_count": null,
   "id": "6aaad75f",
   "metadata": {},
   "outputs": [],
   "source": []
  }
 ],
 "metadata": {
  "kernelspec": {
   "display_name": "Python 3",
   "language": "python",
   "name": "python3"
  },
  "language_info": {
   "codemirror_mode": {
    "name": "ipython",
    "version": 3
   },
   "file_extension": ".py",
   "mimetype": "text/x-python",
   "name": "python",
   "nbconvert_exporter": "python",
   "pygments_lexer": "ipython3",
   "version": "3.8.8"
  },
  "toc": {
   "base_numbering": 1,
   "nav_menu": {},
   "number_sections": true,
   "sideBar": true,
   "skip_h1_title": false,
   "title_cell": "Table of Contents",
   "title_sidebar": "Contents",
   "toc_cell": false,
   "toc_position": {},
   "toc_section_display": true,
   "toc_window_display": false
  }
 },
 "nbformat": 4,
 "nbformat_minor": 5
}
