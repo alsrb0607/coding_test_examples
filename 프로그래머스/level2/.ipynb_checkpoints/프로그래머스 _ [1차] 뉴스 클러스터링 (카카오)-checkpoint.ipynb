{
 "cells": [
  {
   "cell_type": "code",
   "execution_count": 15,
   "id": "447283b7",
   "metadata": {},
   "outputs": [],
   "source": [
    "str1 = \"FRANCE\"; str2 = 'french'"
   ]
  },
  {
   "cell_type": "code",
   "execution_count": 16,
   "id": "b6d560ec",
   "metadata": {},
   "outputs": [],
   "source": [
    "answer = []\n",
    "for x in [str1, str2]:\n",
    "    x = x.lower()\n",
    "    tmp = set()\n",
    "    for i in range(len(x)-1):\n",
    "        if x[i:i+2].isalpha():\n",
    "            tmp.add(x[i:i+2])\n",
    "    answer.append(tmp)"
   ]
  },
  {
   "cell_type": "code",
   "execution_count": 18,
   "id": "a043b366",
   "metadata": {},
   "outputs": [
    {
     "data": {
      "text/plain": [
       "{'an', 'ce', 'ch', 'en', 'fr', 'nc', 'ra', 're'}"
      ]
     },
     "execution_count": 18,
     "metadata": {},
     "output_type": "execute_result"
    }
   ],
   "source": [
    "answer[0].union(answer[1])"
   ]
  },
  {
   "cell_type": "code",
   "execution_count": 22,
   "id": "dc1463e9",
   "metadata": {},
   "outputs": [
    {
     "data": {
      "text/plain": [
       "0.25"
      ]
     },
     "execution_count": 22,
     "metadata": {},
     "output_type": "execute_result"
    }
   ],
   "source": [
    "len(answer[0].intersection(answer[1])) / len(answer[0].union(answer[1]))"
   ]
  },
  {
   "cell_type": "code",
   "execution_count": 121,
   "id": "bb75b31f",
   "metadata": {},
   "outputs": [],
   "source": [
    "def intersection(lst):\n",
    "    lst.sort(key = len)\n",
    "    tmp = lst.copy()\n",
    "    for x in tmp[0].copy():\n",
    "        if x in tmp[1].copy():\n",
    "            tmp[1].remove(x)\n",
    "        else:\n",
    "            tmp[0].remove(x)\n",
    "    return tmp[0]\n",
    "\n",
    "def union(lst):\n",
    "    tmp = lst[0] + lst[1]\n",
    "    b = intersection(lst)\n",
    "    for x in b:\n",
    "        tmp.remove(x)\n",
    "    return  b, tmp\n",
    "\n",
    "def solution(str1, str2):\n",
    "    answer = []\n",
    "    for x in [str1, str2]:\n",
    "        x = x.lower()\n",
    "        tmp = []\n",
    "        for i in range(len(x)-1):\n",
    "            if x[i:i+2].isalpha():\n",
    "                tmp.append(x[i:i+2])\n",
    "        answer.append(tmp)\n",
    "        print(answer)\n",
    "    x, y = union(answer)\n",
    "    print(x, y)\n",
    "    if len(x) == len(y):\n",
    "        return 65536\n",
    "    return int(len(x) / len(y) * 65536)"
   ]
  },
  {
   "cell_type": "code",
   "execution_count": 114,
   "id": "25d4789d",
   "metadata": {},
   "outputs": [
    {
     "data": {
      "text/plain": [
       "43690"
      ]
     },
     "execution_count": 114,
     "metadata": {},
     "output_type": "execute_result"
    }
   ],
   "source": [
    "solution(\"aa1+aa2\", 'AAAA12')"
   ]
  },
  {
   "cell_type": "code",
   "execution_count": 115,
   "id": "19666c4e",
   "metadata": {},
   "outputs": [
    {
     "data": {
      "text/plain": [
       "65536"
      ]
     },
     "execution_count": 115,
     "metadata": {},
     "output_type": "execute_result"
    }
   ],
   "source": [
    "solution(\"E=M*C^2\", 'e=m*c^2')"
   ]
  },
  {
   "cell_type": "code",
   "execution_count": 122,
   "id": "342b3888",
   "metadata": {},
   "outputs": [
    {
     "name": "stdout",
     "output_type": "stream",
     "text": [
      "[['fr', 'ra', 'an', 'nc', 'ce']]\n",
      "[['fr', 'ra', 'an', 'nc', 'ce'], ['fr', 're', 'en', 'nc', 'ch']]\n",
      "['fr', 'nc'] ['ra', 'an', 'ce', 'fr', 're', 'en', 'nc', 'ch']\n"
     ]
    },
    {
     "data": {
      "text/plain": [
       "16384"
      ]
     },
     "execution_count": 122,
     "metadata": {},
     "output_type": "execute_result"
    }
   ],
   "source": [
    "solution(\"FRANCE\", 'french')"
   ]
  },
  {
   "cell_type": "code",
   "execution_count": null,
   "id": "e25248a5",
   "metadata": {},
   "outputs": [],
   "source": []
  }
 ],
 "metadata": {
  "kernelspec": {
   "display_name": "Python 3",
   "language": "python",
   "name": "python3"
  },
  "language_info": {
   "codemirror_mode": {
    "name": "ipython",
    "version": 3
   },
   "file_extension": ".py",
   "mimetype": "text/x-python",
   "name": "python",
   "nbconvert_exporter": "python",
   "pygments_lexer": "ipython3",
   "version": "3.8.11"
  },
  "toc": {
   "base_numbering": 1,
   "nav_menu": {},
   "number_sections": true,
   "sideBar": true,
   "skip_h1_title": false,
   "title_cell": "Table of Contents",
   "title_sidebar": "Contents",
   "toc_cell": false,
   "toc_position": {},
   "toc_section_display": true,
   "toc_window_display": false
  }
 },
 "nbformat": 4,
 "nbformat_minor": 5
}
