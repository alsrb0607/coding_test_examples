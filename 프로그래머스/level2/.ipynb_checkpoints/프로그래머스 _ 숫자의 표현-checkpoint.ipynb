{
 "cells": [
  {
   "cell_type": "code",
   "execution_count": 5,
   "id": "0690e035",
   "metadata": {},
   "outputs": [],
   "source": [
    "def solution(n):\n",
    "    check = 0\n",
    "    for i in range(1, n//2+2):\n",
    "        if i%2 ==0 and (n/i*2) == int(n/i*2) and (n/i - i//2 > 0):\n",
    "            check +=1\n",
    "        elif i%2 and (n/i) == int(n/i) and (n/i - i//2 > 0):\n",
    "            check +=1\n",
    "    return check"
   ]
  },
  {
   "cell_type": "code",
   "execution_count": 14,
   "id": "c390fefe",
   "metadata": {},
   "outputs": [
    {
     "data": {
      "text/plain": [
       "6"
      ]
     },
     "execution_count": 14,
     "metadata": {},
     "output_type": "execute_result"
    }
   ],
   "source": [
    "solution(100)"
   ]
  },
  {
   "cell_type": "code",
   "execution_count": 13,
   "id": "ee743710",
   "metadata": {},
   "outputs": [
    {
     "data": {
      "text/plain": [
       "20022"
      ]
     },
     "execution_count": 13,
     "metadata": {},
     "output_type": "execute_result"
    }
   ],
   "source": [
    "141*142"
   ]
  },
  {
   "cell_type": "code",
   "execution_count": null,
   "id": "410848cd",
   "metadata": {},
   "outputs": [],
   "source": [
    "def solution(n):\n",
    "    check = 0\n",
    "    for i in range(1, min(n//2+2, 141)):\n",
    "        if i%2 ==0 and (n/i) - int(n/i) == 0.5 and (n/i - i//2 > 0):\n",
    "            check +=1\n",
    "        elif i%2 and (n/i) == int(n/i) and (n/i - i//2 > 0):\n",
    "            check +=1\n",
    "    return check"
   ]
  },
  {
   "cell_type": "code",
   "execution_count": null,
   "id": "d53f99ec",
   "metadata": {},
   "outputs": [],
   "source": [
    "def solution(num):\n",
    "    answer = 0\n",
    "    for i in range(1, num + 1):\n",
    "        s = 0\n",
    "        while s < num:\n",
    "            s += i\n",
    "            i += 1\n",
    "        if s == num:\n",
    "            answer += 1\n",
    "    return answer"
   ]
  }
 ],
 "metadata": {
  "kernelspec": {
   "display_name": "Python 3",
   "language": "python",
   "name": "python3"
  },
  "language_info": {
   "codemirror_mode": {
    "name": "ipython",
    "version": 3
   },
   "file_extension": ".py",
   "mimetype": "text/x-python",
   "name": "python",
   "nbconvert_exporter": "python",
   "pygments_lexer": "ipython3",
   "version": "3.8.11"
  },
  "toc": {
   "base_numbering": 1,
   "nav_menu": {},
   "number_sections": true,
   "sideBar": true,
   "skip_h1_title": false,
   "title_cell": "Table of Contents",
   "title_sidebar": "Contents",
   "toc_cell": false,
   "toc_position": {},
   "toc_section_display": true,
   "toc_window_display": false
  }
 },
 "nbformat": 4,
 "nbformat_minor": 5
}
