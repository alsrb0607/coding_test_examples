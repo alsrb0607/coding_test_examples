{
 "cells": [
  {
   "cell_type": "code",
   "execution_count": 43,
   "id": "484de835",
   "metadata": {},
   "outputs": [],
   "source": [
    "expression = \"100-200*300-500+20\" ; result =  60420\n",
    "cal = ['*', '+', '-']"
   ]
  },
  {
   "cell_type": "code",
   "execution_count": 130,
   "id": "85732822",
   "metadata": {},
   "outputs": [
    {
     "data": {
      "text/plain": [
       "-60380"
      ]
     },
     "execution_count": 130,
     "metadata": {},
     "output_type": "execute_result"
    }
   ],
   "source": [
    "eval(\"100-200*300-500+20\")"
   ]
  },
  {
   "cell_type": "code",
   "execution_count": 25,
   "id": "232a8002",
   "metadata": {},
   "outputs": [],
   "source": [
    "# 하나로 해보기\n",
    "import re\n",
    "a = re.compile('[0-9]+\\*[0-9]+')\n",
    "num = re.findall(a, expression)[0].split('*')\n",
    "b = int(num[0]) * int(num[1])\n",
    "expression2 = expression.replace(re.findall(a, expression)[0], str(b))"
   ]
  },
  {
   "cell_type": "code",
   "execution_count": 81,
   "id": "8510e85e",
   "metadata": {
    "scrolled": true
   },
   "outputs": [
    {
     "data": {
      "text/plain": [
       "'*'"
      ]
     },
     "execution_count": 81,
     "metadata": {},
     "output_type": "execute_result"
    }
   ],
   "source": [
    "cal = ['*', '+', '-']\n",
    "cal[0]"
   ]
  },
  {
   "cell_type": "code",
   "execution_count": 115,
   "id": "289574dc",
   "metadata": {},
   "outputs": [
    {
     "name": "stdout",
     "output_type": "stream",
     "text": [
      "294 ['*', '+', '-']\n",
      "294 ['*', '-', '+']\n",
      "294 ['+', '*', '-']\n",
      "300 ['+', '-', '*']\n",
      "300 ['-', '*', '+']\n",
      "300 ['-', '+', '*']\n"
     ]
    }
   ],
   "source": [
    "expression = \"100-200*300-500+20\" ; result =  60420\n",
    "cal = ['*', '+', '-']\n",
    "calc = [0,0,0]\n",
    "order = [(0,1,2),(0,2,1),(1,0,2),(1,2,0),(2,0,1),(2,1,0)]\n",
    "# 연산 실행 코드 만들어보기\n",
    "import re\n",
    "for i,j,k in order:\n",
    "    calc = [cal[i], cal[j], cal[k]]\n",
    "    expression = \"50*6-3*2\"\n",
    "    for act in calc:\n",
    "        while act in expression:\n",
    "            tmp = re.compile('M?[0-9]+\\{0}M?[0-9]+'.format(act))\n",
    "            if not re.findall(tmp, expression):\n",
    "                break\n",
    "            change = re.findall(tmp, expression)[0]\n",
    "            num = change.split(act)\n",
    "            for i in range(2):\n",
    "                if num[i].startswith('M'):\n",
    "                    num[i] = '-' + num[i][1:]\n",
    "            if act == '*':\n",
    "                change_num = int(num[0]) * int(num[1])\n",
    "            elif act == '+':\n",
    "                change_num = int(num[0]) + int(num[1])\n",
    "            elif act == '-':\n",
    "                change_num = int(num[0]) - int(num[1])\n",
    "            if change_num < 0:\n",
    "                change_num = 'M' + str(abs(change_num))\n",
    "            expression = expression.replace(change, str(change_num))\n",
    "    if expression.startswith('M'):\n",
    "        expression = int(expression[1:])\n",
    "    else :\n",
    "        expression = int(expression)\n",
    "    print(expression, calc)"
   ]
  },
  {
   "cell_type": "code",
   "execution_count": 137,
   "id": "9b2df597",
   "metadata": {},
   "outputs": [],
   "source": [
    "# 함수로\n",
    "def solution(expression):\n",
    "    cal = ['*', '+', '-']\n",
    "    calc = [0,0,0]\n",
    "    order = [(0,1,2),(0,2,1),(1,0,2),(1,2,0),(2,0,1),(2,1,0)]\n",
    "    answer = []\n",
    "    original = expression\n",
    "    import re\n",
    "    for i,j,k in order:\n",
    "        calc = [cal[i], cal[j], cal[k]]\n",
    "        expression = original\n",
    "        for act in calc:\n",
    "            while act in expression:\n",
    "                tmp = re.compile('M?[0-9]+\\{0}M?[0-9]+'.format(act))\n",
    "                if not re.findall(tmp, expression):\n",
    "                    break\n",
    "                change = re.findall(tmp, expression)[0]\n",
    "                num = change.split(act)\n",
    "                for i in range(2):\n",
    "                    if num[i].startswith('M'):\n",
    "                        num[i] = '-' + num[i][1:]\n",
    "                if act == '*':\n",
    "                    change_num = int(num[0]) * int(num[1])\n",
    "                elif act == '+':\n",
    "                    change_num = int(num[0]) + int(num[1])\n",
    "                elif act == '-':\n",
    "                    change_num = int(num[0]) - int(num[1])\n",
    "                if change_num < 0:\n",
    "                    change_num = 'M' + str(abs(change_num))\n",
    "                expression = expression.replace(change, str(change_num))\n",
    "        if expression.startswith('M'):\n",
    "            expression = int(expression[1:])\n",
    "        else :\n",
    "            expression = int(expression)\n",
    "        answer.append(expression)\n",
    "    return max(answer)"
   ]
  },
  {
   "cell_type": "code",
   "execution_count": 133,
   "id": "d4fc2555",
   "metadata": {},
   "outputs": [],
   "source": [
    "# eval 활용\n",
    "def solution(expression):\n",
    "    operations = [('+', '-', '*'),('+', '*', '-'),('-', '+', '*'),('-', '*', '+'),('*', '+', '-'),('*', '-', '+')]\n",
    "    answer = []\n",
    "    for op in operations:\n",
    "        a = op[0]\n",
    "        b = op[1]\n",
    "        temp_list = []\n",
    "        for e in expression.split(a):\n",
    "            temp = [f\"({i})\" for i in e.split(b)]\n",
    "#             print(1, temp)\n",
    "            temp_list.append(f'({b.join(temp)})')\n",
    "            print(2, temp_list)\n",
    "#         answer.append(abs(eval(a.join(temp_list))))\n",
    "    return max(answer)"
   ]
  },
  {
   "cell_type": "code",
   "execution_count": 138,
   "id": "676aec9e",
   "metadata": {},
   "outputs": [
    {
     "data": {
      "text/plain": [
       "60420"
      ]
     },
     "execution_count": 138,
     "metadata": {},
     "output_type": "execute_result"
    }
   ],
   "source": [
    "solution(\"100-200*300-500+20\")"
   ]
  },
  {
   "cell_type": "code",
   "execution_count": null,
   "id": "4e7a32c7",
   "metadata": {},
   "outputs": [],
   "source": []
  }
 ],
 "metadata": {
  "kernelspec": {
   "display_name": "Python 3",
   "language": "python",
   "name": "python3"
  },
  "language_info": {
   "codemirror_mode": {
    "name": "ipython",
    "version": 3
   },
   "file_extension": ".py",
   "mimetype": "text/x-python",
   "name": "python",
   "nbconvert_exporter": "python",
   "pygments_lexer": "ipython3",
   "version": "3.8.11"
  },
  "toc": {
   "base_numbering": 1,
   "nav_menu": {},
   "number_sections": true,
   "sideBar": true,
   "skip_h1_title": false,
   "title_cell": "Table of Contents",
   "title_sidebar": "Contents",
   "toc_cell": false,
   "toc_position": {},
   "toc_section_display": true,
   "toc_window_display": false
  }
 },
 "nbformat": 4,
 "nbformat_minor": 5
}
