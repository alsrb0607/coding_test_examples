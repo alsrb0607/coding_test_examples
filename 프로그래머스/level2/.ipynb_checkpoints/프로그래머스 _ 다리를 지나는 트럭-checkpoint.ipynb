{
 "cells": [
  {
   "cell_type": "code",
   "execution_count": 6,
   "id": "0b57070b",
   "metadata": {},
   "outputs": [],
   "source": [
    "bridge_length = 2; weight=10; truck_weights = [7,4,5,6]\n",
    "cnt = 0"
   ]
  },
  {
   "cell_type": "code",
   "execution_count": 8,
   "id": "71b72532",
   "metadata": {},
   "outputs": [],
   "source": [
    "tmp = []\n",
    "while truck_weights:\n",
    "    cnt +=1\n",
    "    if ((sum(tmp) + truck_weights[0]) <= weight) and len(tmp) <= 2:\n",
    "        tmp.append(truck_weights.pop(0))\n",
    "    else:\n",
    "        tmp.append(0)\n",
    "    if cnt >= bridge_length:\n",
    "        tmp.pop(0)\n",
    "    "
   ]
  },
  {
   "cell_type": "code",
   "execution_count": 9,
   "id": "d787a4ae",
   "metadata": {},
   "outputs": [
    {
     "data": {
      "text/plain": [
       "6"
      ]
     },
     "execution_count": 9,
     "metadata": {},
     "output_type": "execute_result"
    }
   ],
   "source": [
    "cnt"
   ]
  },
  {
   "cell_type": "code",
   "execution_count": null,
   "id": "59b7b379",
   "metadata": {},
   "outputs": [],
   "source": [
    "def solution(bridge_length, weight, truck_weights):\n",
    "    tmp = []\n",
    "    cnt = 0\n",
    "    while truck_weights:\n",
    "        cnt +=1\n",
    "        if ((sum(tmp) + truck_weights[0]) <= weight) and len(tmp) <= bridge_length:\n",
    "            tmp.append(truck_weights.pop(0))\n",
    "        else:\n",
    "            tmp.append(0)\n",
    "        if cnt >= bridge_length:\n",
    "            tmp.pop(0)\n",
    "    \n",
    "    return cnt+bridge_length"
   ]
  },
  {
   "cell_type": "code",
   "execution_count": null,
   "id": "dcb685a5",
   "metadata": {},
   "outputs": [],
   "source": [
    "def solution(bridge_length, weight, truck_weights):\n",
    "    tmp = []\n",
    "    cnt = 0\n",
    "    sum_ = 0\n",
    "    while truck_weights:\n",
    "        cnt +=1\n",
    "        if ((sum_ + truck_weights[0]) <= weight) and len(tmp) <= bridge_length:\n",
    "            tmp.append(truck_weights.pop(0))\n",
    "            sum_ += tmp[-1]\n",
    "        else:\n",
    "            tmp.append(0)\n",
    "        if cnt >= bridge_length:\n",
    "            sum_ -= tmp.pop(0)  \n",
    "    return cnt+bridge_length"
   ]
  }
 ],
 "metadata": {
  "kernelspec": {
   "display_name": "Python 3",
   "language": "python",
   "name": "python3"
  },
  "language_info": {
   "codemirror_mode": {
    "name": "ipython",
    "version": 3
   },
   "file_extension": ".py",
   "mimetype": "text/x-python",
   "name": "python",
   "nbconvert_exporter": "python",
   "pygments_lexer": "ipython3",
   "version": "3.8.11"
  },
  "toc": {
   "base_numbering": 1,
   "nav_menu": {},
   "number_sections": true,
   "sideBar": true,
   "skip_h1_title": false,
   "title_cell": "Table of Contents",
   "title_sidebar": "Contents",
   "toc_cell": false,
   "toc_position": {},
   "toc_section_display": true,
   "toc_window_display": false
  }
 },
 "nbformat": 4,
 "nbformat_minor": 5
}
