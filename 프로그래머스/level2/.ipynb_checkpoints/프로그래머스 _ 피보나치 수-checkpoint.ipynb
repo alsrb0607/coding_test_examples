{
 "cells": [
  {
   "cell_type": "code",
   "execution_count": 1,
   "id": "7e16a057",
   "metadata": {},
   "outputs": [],
   "source": [
    "# 시간 초과\n",
    "def solution(n):\n",
    "    if n==0 :\n",
    "        return 0\n",
    "    elif n==1:\n",
    "        return 1\n",
    "    elif n > 1 :\n",
    "        return (solution(n-1) + solution(n-2))%1234567"
   ]
  },
  {
   "cell_type": "code",
   "execution_count": 12,
   "id": "be301848",
   "metadata": {},
   "outputs": [],
   "source": [
    "def solution(n):\n",
    "    answer = [0,1]\n",
    "    for i in range(n-1):\n",
    "        answer.append(answer[i] +answer[i+1])\n",
    "    return answer[-1]%1234567"
   ]
  },
  {
   "cell_type": "code",
   "execution_count": 15,
   "id": "96c0a1bb",
   "metadata": {},
   "outputs": [
    {
     "data": {
      "text/plain": [
       "5"
      ]
     },
     "execution_count": 15,
     "metadata": {},
     "output_type": "execute_result"
    }
   ],
   "source": [
    "solution(5)"
   ]
  },
  {
   "cell_type": "code",
   "execution_count": null,
   "id": "56dce03e",
   "metadata": {},
   "outputs": [],
   "source": [
    "def solution(num):\n",
    "    a,b = 0,1\n",
    "    for i in range(num):\n",
    "        a,b = b,a+b\n",
    "    return a%1234567"
   ]
  }
 ],
 "metadata": {
  "kernelspec": {
   "display_name": "Python 3",
   "language": "python",
   "name": "python3"
  },
  "language_info": {
   "codemirror_mode": {
    "name": "ipython",
    "version": 3
   },
   "file_extension": ".py",
   "mimetype": "text/x-python",
   "name": "python",
   "nbconvert_exporter": "python",
   "pygments_lexer": "ipython3",
   "version": "3.8.11"
  },
  "toc": {
   "base_numbering": 1,
   "nav_menu": {},
   "number_sections": true,
   "sideBar": true,
   "skip_h1_title": false,
   "title_cell": "Table of Contents",
   "title_sidebar": "Contents",
   "toc_cell": false,
   "toc_position": {},
   "toc_section_display": true,
   "toc_window_display": false
  }
 },
 "nbformat": 4,
 "nbformat_minor": 5
}
