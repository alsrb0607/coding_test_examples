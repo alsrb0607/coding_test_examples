{
 "cells": [
  {
   "cell_type": "code",
   "execution_count": 1,
   "id": "ee42c631",
   "metadata": {},
   "outputs": [],
   "source": [
    "record = [\"Enter uid1234 Muzi\", \"Enter uid4567 Prodo\",\n",
    " \"Leave uid1234\",\"Enter uid1234 Prodo\",\"Change uid4567 Ryan\"]"
   ]
  },
  {
   "cell_type": "code",
   "execution_count": 15,
   "id": "006b2121",
   "metadata": {},
   "outputs": [
    {
     "name": "stdout",
     "output_type": "stream",
     "text": [
      "Change uid4567 Ryan\n"
     ]
    }
   ],
   "source": [
    "id_ = {}\n",
    "answer = []\n",
    "for x in record:\n",
    "    if x[:5] == \"Leave\":\n",
    "        action, user = x.split()\n",
    "        answer.append(user +'님이'+' 나갔습니다.')\n",
    "    else:\n",
    "        action, user, name = x.split()\n",
    "        if action ==\"Enter\":\n",
    "            answer.append(user + \"님이\" + ' 들어왔습니다.')\n",
    "            id_[user] = name\n",
    "        else:\n",
    "            print(action, user, name)\n",
    "            id_[user] = name"
   ]
  },
  {
   "cell_type": "code",
   "execution_count": 17,
   "id": "c215e825",
   "metadata": {},
   "outputs": [
    {
     "data": {
      "text/plain": [
       "({'uid1234': 'Prodo', 'uid4567': 'Ryan'},\n",
       " ['uid1234님이 들어왔습니다.',\n",
       "  'uid4567님이 들어왔습니다.',\n",
       "  'uid1234님이 나갔습니다.',\n",
       "  'uid1234님이 들어왔습니다.'])"
      ]
     },
     "execution_count": 17,
     "metadata": {},
     "output_type": "execute_result"
    }
   ],
   "source": [
    "id_ , answer"
   ]
  },
  {
   "cell_type": "code",
   "execution_count": 26,
   "id": "74dc3501",
   "metadata": {},
   "outputs": [],
   "source": [
    "tmp = []\n",
    "while answer:\n",
    "    name = answer.pop()\n",
    "    tmp.append(name.replace(name.split('님')[0], id_[name.split('님')[0]]))"
   ]
  },
  {
   "cell_type": "code",
   "execution_count": 27,
   "id": "92b5a76f",
   "metadata": {},
   "outputs": [
    {
     "data": {
      "text/plain": [
       "['Prodo님이 들어왔습니다.', 'Prodo님이 나갔습니다.', 'Ryan님이 들어왔습니다.', 'Prodo님이 들어왔습니다.']"
      ]
     },
     "execution_count": 27,
     "metadata": {},
     "output_type": "execute_result"
    }
   ],
   "source": [
    "tmp"
   ]
  },
  {
   "cell_type": "code",
   "execution_count": 28,
   "id": "f353492a",
   "metadata": {},
   "outputs": [
    {
     "data": {
      "text/plain": [
       "[]"
      ]
     },
     "execution_count": 28,
     "metadata": {},
     "output_type": "execute_result"
    }
   ],
   "source": [
    "answer"
   ]
  },
  {
   "cell_type": "code",
   "execution_count": 34,
   "id": "848ef8a0",
   "metadata": {},
   "outputs": [],
   "source": [
    "def solution(record):\n",
    "    id_ = {}\n",
    "    answer = []\n",
    "    for x in record:\n",
    "        if x[:5] == \"Leave\":\n",
    "            action, user = x.split()\n",
    "            answer.append(user +'님이'+' 나갔습니다.')\n",
    "        else:\n",
    "            action, user, name = x.split()\n",
    "            if action ==\"Enter\":\n",
    "                answer.append(user + \"님이\" + ' 들어왔습니다.')\n",
    "                id_[user] = name\n",
    "            else:\n",
    "                id_[user] = name\n",
    "    tmp = []\n",
    "    while answer:\n",
    "        name = answer.pop(0)\n",
    "        tmp.append(name.replace(name.split('님')[0], id_[name.split('님')[0]]))\n",
    "    \n",
    "    return tmp"
   ]
  },
  {
   "cell_type": "code",
   "execution_count": 35,
   "id": "76fb76d3",
   "metadata": {},
   "outputs": [
    {
     "name": "stdout",
     "output_type": "stream",
     "text": [
      "['uid1234님이 들어왔습니다.', 'uid4567님이 들어왔습니다.', 'uid1234님이 나갔습니다.', 'uid1234님이 들어왔습니다.']\n"
     ]
    },
    {
     "data": {
      "text/plain": [
       "['Prodo님이 들어왔습니다.', 'Ryan님이 들어왔습니다.', 'Prodo님이 나갔습니다.', 'Prodo님이 들어왔습니다.']"
      ]
     },
     "execution_count": 35,
     "metadata": {},
     "output_type": "execute_result"
    }
   ],
   "source": [
    "solution([\"Enter uid1234 Muzi\", \"Enter uid4567 Prodo\",\n",
    " \"Leave uid1234\",\"Enter uid1234 Prodo\",\"Change uid4567 Ryan\"])"
   ]
  },
  {
   "cell_type": "code",
   "execution_count": null,
   "id": "cf887e3c",
   "metadata": {},
   "outputs": [],
   "source": [
    "def solution(record):\n",
    "    answer = []\n",
    "    namespace = {}\n",
    "    printer = {'Enter':'님이 들어왔습니다.', 'Leave':'님이 나갔습니다.'}\n",
    "    for r in record:\n",
    "        rr = r.split(' ')\n",
    "        if rr[0] in ['Enter', 'Change']:\n",
    "            namespace[rr[1]] = rr[2]\n",
    "\n",
    "    for r in record:\n",
    "        if r.split(' ')[0] != 'Change':\n",
    "            answer.append(namespace[r.split(' ')[1]] + printer[r.split(' ')[0]])\n",
    "\n",
    "    return answer"
   ]
  }
 ],
 "metadata": {
  "kernelspec": {
   "display_name": "Python 3",
   "language": "python",
   "name": "python3"
  },
  "language_info": {
   "codemirror_mode": {
    "name": "ipython",
    "version": 3
   },
   "file_extension": ".py",
   "mimetype": "text/x-python",
   "name": "python",
   "nbconvert_exporter": "python",
   "pygments_lexer": "ipython3",
   "version": "3.8.11"
  },
  "toc": {
   "base_numbering": 1,
   "nav_menu": {},
   "number_sections": true,
   "sideBar": true,
   "skip_h1_title": false,
   "title_cell": "Table of Contents",
   "title_sidebar": "Contents",
   "toc_cell": false,
   "toc_position": {},
   "toc_section_display": true,
   "toc_window_display": false
  }
 },
 "nbformat": 4,
 "nbformat_minor": 5
}
