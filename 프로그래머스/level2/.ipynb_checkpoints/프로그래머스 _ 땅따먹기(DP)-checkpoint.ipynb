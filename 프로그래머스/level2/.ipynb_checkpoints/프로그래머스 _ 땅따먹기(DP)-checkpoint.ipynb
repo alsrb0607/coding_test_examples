{
 "cells": [
  {
   "cell_type": "code",
   "execution_count": 17,
   "id": "bfe48a21",
   "metadata": {},
   "outputs": [],
   "source": [
    "# 다 실패\n",
    "def solution(land):\n",
    "    answer = land[0]\n",
    "    for i in range(4):\n",
    "        index = i\n",
    "        for lst in land[1:]:\n",
    "            tmp = lst.copy()\n",
    "            if lst.index(max(lst)) == index:\n",
    "                answer[i] += sorted(tmp)[-2]\n",
    "                index = lst.index(sorted(tmp)[-2])\n",
    "            else:\n",
    "                answer[i] += max(tmp)\n",
    "                index = tmp.index(max(lst))\n",
    "    return max(answer)"
   ]
  },
  {
   "cell_type": "code",
   "execution_count": 61,
   "id": "79d7fbad",
   "metadata": {},
   "outputs": [
    {
     "name": "stdout",
     "output_type": "stream",
     "text": [
      "[[1, 2, 3, 5], [10, 11, 12, 11], [4, 3, 2, 1]]\n",
      "[[1, 2, 3, 5], [10, 11, 12, 11], [16, 15, 13, 13]]\n"
     ]
    },
    {
     "data": {
      "text/plain": [
       "16"
      ]
     },
     "execution_count": 61,
     "metadata": {},
     "output_type": "execute_result"
    }
   ],
   "source": [
    "solution([[1,2,3,5],[5,6,7,8],[4,3,2,1]])"
   ]
  },
  {
   "cell_type": "code",
   "execution_count": 33,
   "id": "fc193605",
   "metadata": {},
   "outputs": [],
   "source": [
    "# 대실패\n",
    "def solution(land):\n",
    "    answer = 0\n",
    "    check = 0\n",
    "    for i, lst in enumerate(land[:-1]):\n",
    "        if check !=0:\n",
    "            check = 0\n",
    "            answer+= sorted(lst)[-2]\n",
    "            continue\n",
    "        if lst.index(max(lst)) == land[i+1].index(max(land[i+1])):\n",
    "            if sorted(lst)[-1] - sorted(lst)[-2] > sorted(land[i+1])[-1] - sorted(land[i+1])[-2]:\n",
    "                answer += sorted(lst)[-1]\n",
    "                check += 1\n",
    "            else:\n",
    "                answer += sorted(lst)[-2]\n",
    "        else:\n",
    "            answer += sorted(lst)[-1]\n",
    "    if check !=0:\n",
    "        answer+= sorted(land[-1])[-2]\n",
    "    else:\n",
    "        answer+= sorted(land[-1])[-1]\n",
    "    return answer"
   ]
  },
  {
   "cell_type": "code",
   "execution_count": 60,
   "id": "c59cd5a9",
   "metadata": {},
   "outputs": [],
   "source": [
    "# 다른 사람 풀이 참고\n",
    "def solution(land):\n",
    "    for n in range(1, len(land)):\n",
    "        land[n][0] += max(land[n-1][1],land[n-1][2],land[n-1][3])\n",
    "        land[n][1] += max(land[n-1][0],land[n-1][2],land[n-1][3])\n",
    "        land[n][2] += max(land[n-1][0],land[n-1][1],land[n-1][3])\n",
    "        land[n][3] += max(land[n-1][0],land[n-1][1],land[n-1][2])\n",
    "#         print(land) \n",
    "    return max(land[-1])"
   ]
  },
  {
   "cell_type": "code",
   "execution_count": null,
   "id": "8dff61ba",
   "metadata": {},
   "outputs": [],
   "source": [
    "def solution(land):\n",
    "\n",
    "    for i in range(1, len(land)):\n",
    "        for j in range(4):\n",
    "            land[i][j] += max(land[i -1][: j] + land[i - 1][j + 1:])\n",
    "\n",
    "    return max(land[-1])"
   ]
  }
 ],
 "metadata": {
  "kernelspec": {
   "display_name": "Python 3",
   "language": "python",
   "name": "python3"
  },
  "language_info": {
   "codemirror_mode": {
    "name": "ipython",
    "version": 3
   },
   "file_extension": ".py",
   "mimetype": "text/x-python",
   "name": "python",
   "nbconvert_exporter": "python",
   "pygments_lexer": "ipython3",
   "version": "3.8.11"
  },
  "toc": {
   "base_numbering": 1,
   "nav_menu": {},
   "number_sections": true,
   "sideBar": true,
   "skip_h1_title": false,
   "title_cell": "Table of Contents",
   "title_sidebar": "Contents",
   "toc_cell": false,
   "toc_position": {},
   "toc_section_display": true,
   "toc_window_display": false
  }
 },
 "nbformat": 4,
 "nbformat_minor": 5
}
