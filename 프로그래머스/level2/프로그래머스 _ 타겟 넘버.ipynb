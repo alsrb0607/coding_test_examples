{
 "cells": [
  {
   "cell_type": "code",
   "execution_count": 33,
   "id": "e2aa8035",
   "metadata": {},
   "outputs": [],
   "source": [
    "from itertools import combinations"
   ]
  },
  {
   "cell_type": "code",
   "execution_count": 34,
   "id": "ce5ec36a",
   "metadata": {},
   "outputs": [
    {
     "data": {
      "text/plain": [
       "[(0,), (1,), (2,), (3,), (4,), (5,), (6,)]"
      ]
     },
     "execution_count": 34,
     "metadata": {},
     "output_type": "execute_result"
    }
   ],
   "source": [
    "list(combinations([0,1,2,3,4,5,6], 1))"
   ]
  },
  {
   "cell_type": "code",
   "execution_count": 37,
   "id": "1c1477cb",
   "metadata": {},
   "outputs": [],
   "source": [
    "numbers = [1,1,1,1,1]\n",
    "sum_ = sum(numbers)\n",
    "cnt = 0\n",
    "target=3\n",
    "for i in range(len(numbers)):\n",
    "    for x in combinations(list(range(len(numbers))), i):\n",
    "        tmp = 0\n",
    "        for y in x:\n",
    "            tmp += numbers[y]*2\n",
    "        if sum_ - tmp == target:\n",
    "            cnt +=1"
   ]
  },
  {
   "cell_type": "code",
   "execution_count": 36,
   "id": "e6ac9cd5",
   "metadata": {},
   "outputs": [
    {
     "data": {
      "text/plain": [
       "5"
      ]
     },
     "execution_count": 36,
     "metadata": {},
     "output_type": "execute_result"
    }
   ],
   "source": [
    "cnt"
   ]
  },
  {
   "cell_type": "code",
   "execution_count": 38,
   "id": "ce7dd297",
   "metadata": {},
   "outputs": [],
   "source": [
    "from itertools import combinations\n",
    "def solution(numbers, target):\n",
    "    sum_ = sum(numbers)\n",
    "    cnt = 0\n",
    "    for i in range(len(numbers)):\n",
    "        for x in combinations(list(range(len(numbers))), i):\n",
    "            tmp = 0\n",
    "            for y in x:\n",
    "                tmp += numbers[y]*2\n",
    "            if sum_ - tmp == target:\n",
    "                cnt +=1\n",
    "    return cnt"
   ]
  },
  {
   "cell_type": "code",
   "execution_count": 40,
   "id": "ce884f68",
   "metadata": {},
   "outputs": [],
   "source": [
    "from itertools import combinations\n",
    "def solution(numbers, target):\n",
    "    sum_ = sum(numbers)\n",
    "    cnt = 0\n",
    "    for i in range(len(numbers)):\n",
    "        for x in combinations(list(range(len(numbers))), i):\n",
    "            tmp = sum([numbers[y]*2 for y in x])\n",
    "            if sum_ - tmp == target:\n",
    "                cnt +=1\n",
    "    return cnt"
   ]
  },
  {
   "cell_type": "code",
   "execution_count": 68,
   "id": "f410fbb1",
   "metadata": {},
   "outputs": [],
   "source": [
    "from itertools import product\n",
    "def solution(numbers, target):\n",
    "    l = [(x, -x) for x in numbers]\n",
    "    s = list(map(sum, product(*l)))\n",
    "    return s.count(target)\n"
   ]
  },
  {
   "cell_type": "code",
   "execution_count": 69,
   "id": "833a4522",
   "metadata": {},
   "outputs": [
    {
     "data": {
      "text/plain": [
       "5"
      ]
     },
     "execution_count": 69,
     "metadata": {},
     "output_type": "execute_result"
    }
   ],
   "source": [
    "solution([1,2,3,4,5,6], 3)"
   ]
  },
  {
   "cell_type": "code",
   "execution_count": 80,
   "id": "3b828e6b",
   "metadata": {},
   "outputs": [
    {
     "data": {
      "text/plain": [
       "[('a', 'a'),\n",
       " ('a', 'b'),\n",
       " ('a', 'c'),\n",
       " ('b', 'a'),\n",
       " ('b', 'b'),\n",
       " ('b', 'c'),\n",
       " ('c', 'a'),\n",
       " ('c', 'b'),\n",
       " ('c', 'c')]"
      ]
     },
     "execution_count": 80,
     "metadata": {},
     "output_type": "execute_result"
    }
   ],
   "source": [
    "from itertools import product\n",
    "\n",
    "_list = \"abc\"\n",
    "pd = list(product(_list, repeat = 2))\n",
    "pd"
   ]
  },
  {
   "cell_type": "code",
   "execution_count": 71,
   "id": "3a9a3e07",
   "metadata": {},
   "outputs": [
    {
     "data": {
      "text/plain": [
       "[('0', 'a', 'X'),\n",
       " ('0', 'a', 'Y'),\n",
       " ('0', 'b', 'X'),\n",
       " ('0', 'b', 'Y'),\n",
       " ('1', 'a', 'X'),\n",
       " ('1', 'a', 'Y'),\n",
       " ('1', 'b', 'X'),\n",
       " ('1', 'b', 'Y')]"
      ]
     },
     "execution_count": 71,
     "metadata": {},
     "output_type": "execute_result"
    }
   ],
   "source": [
    "from itertools import product\n",
    "\n",
    "_list = [\"01\", \"ab\", \"XY\"]\n",
    "pd = list(product(*_list))\n",
    "pd"
   ]
  },
  {
   "cell_type": "code",
   "execution_count": null,
   "id": "17149668",
   "metadata": {},
   "outputs": [],
   "source": [
    "def solution(numbers, target):\n",
    "    if not numbers and target == 0 :\n",
    "        return 1\n",
    "    elif not numbers:\n",
    "        return 0\n",
    "    else:\n",
    "        return solution(numbers[1:], target-numbers[0]) + solution(numbers[1:], target+numbers[0])"
   ]
  }
 ],
 "metadata": {
  "kernelspec": {
   "display_name": "Python 3",
   "language": "python",
   "name": "python3"
  },
  "language_info": {
   "codemirror_mode": {
    "name": "ipython",
    "version": 3
   },
   "file_extension": ".py",
   "mimetype": "text/x-python",
   "name": "python",
   "nbconvert_exporter": "python",
   "pygments_lexer": "ipython3",
   "version": "3.8.8"
  }
 },
 "nbformat": 4,
 "nbformat_minor": 5
}
