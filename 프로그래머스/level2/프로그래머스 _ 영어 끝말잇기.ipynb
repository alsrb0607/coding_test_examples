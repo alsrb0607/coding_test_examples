{
 "cells": [
  {
   "cell_type": "code",
   "execution_count": 9,
   "id": "2dcd3561",
   "metadata": {},
   "outputs": [],
   "source": [
    "def solution(n, words):\n",
    "    answer = []\n",
    "    return answer"
   ]
  },
  {
   "cell_type": "code",
   "execution_count": 18,
   "id": "54200884",
   "metadata": {},
   "outputs": [],
   "source": [
    "words = [\"hello\", \"one\", \"even\", \"never\", \"now\", \"world\", \"draw\"]\n",
    "\n",
    "words_used = []\n",
    "cnt = -1\n",
    "while words:\n",
    "    word = words.pop(0)\n",
    "    cnt += 1\n",
    "    if not words_used:\n",
    "        words_used.append(word)\n",
    "    else:\n",
    "        if word in words_used:\n",
    "            print(\"중복단어\", f\"범인은 {cnt}번째\")\n",
    "            break\n",
    "        if words_used[-1][-1] != word[0]:\n",
    "            print(\"끝말잇기 실패\", f\"범인은 {cnt}번째\")\n",
    "            break\n",
    "        elif word not in words_used:\n",
    "            words_used.append(word)\n",
    "print(\"끝말잇기 성공\")"
   ]
  },
  {
   "cell_type": "code",
   "execution_count": 20,
   "id": "687101bb",
   "metadata": {},
   "outputs": [],
   "source": [
    "def solution(n, words):\n",
    "    words_used = []\n",
    "    cnt = -1\n",
    "    while words:\n",
    "        word = words.pop(0)\n",
    "        cnt += 1\n",
    "        if not words_used:\n",
    "            words_used.append(word)\n",
    "        else:\n",
    "            if (word in words_used) or (words_used[-1][-1] != word[0]):\n",
    "                return [cnt%n +1, cnt//n + 1]\n",
    "            elif word not in words_used:\n",
    "                words_used.append(word)\n",
    "    return [0,0]"
   ]
  },
  {
   "cell_type": "code",
   "execution_count": null,
   "id": "29b28f7b",
   "metadata": {},
   "outputs": [],
   "source": [
    "def solution(n, words):\n",
    "    for p in range(1, len(words)):\n",
    "        if words[p][0] != words[p-1][-1] or words[p] in words[:p]: \n",
    "            return [(p%n)+1, (p//n)+1]\n",
    "    return [0,0]"
   ]
  }
 ],
 "metadata": {
  "kernelspec": {
   "display_name": "Python 3",
   "language": "python",
   "name": "python3"
  },
  "language_info": {
   "codemirror_mode": {
    "name": "ipython",
    "version": 3
   },
   "file_extension": ".py",
   "mimetype": "text/x-python",
   "name": "python",
   "nbconvert_exporter": "python",
   "pygments_lexer": "ipython3",
   "version": "3.8.8"
  }
 },
 "nbformat": 4,
 "nbformat_minor": 5
}
