{
 "cells": [
  {
   "cell_type": "code",
   "execution_count": 28,
   "id": "33cd7e45",
   "metadata": {},
   "outputs": [],
   "source": [
    "citations = sorted([3, 0, 6, 1, 5]); h=0; cnt = 0 "
   ]
  },
  {
   "cell_type": "code",
   "execution_count": 53,
   "id": "45bd1915",
   "metadata": {},
   "outputs": [
    {
     "data": {
      "text/plain": [
       "4"
      ]
     },
     "execution_count": 53,
     "metadata": {},
     "output_type": "execute_result"
    }
   ],
   "source": [
    "import bisect\n",
    "citations = [0,0,0,0,1, 2]\n",
    "bisect.bisect(citations, 1)"
   ]
  },
  {
   "cell_type": "code",
   "execution_count": 29,
   "id": "00e0f349",
   "metadata": {},
   "outputs": [],
   "source": [
    "def solution(citations):\n",
    "    h = 0\n",
    "    return h"
   ]
  },
  {
   "cell_type": "code",
   "execution_count": 59,
   "id": "fe73761a",
   "metadata": {},
   "outputs": [
    {
     "name": "stdout",
     "output_type": "stream",
     "text": [
      "2\n",
      "3\n"
     ]
    },
    {
     "data": {
      "text/plain": [
       "3"
      ]
     },
     "execution_count": 59,
     "metadata": {},
     "output_type": "execute_result"
    }
   ],
   "source": [
    "solution([3, 0, 6, 1, 5,4])"
   ]
  },
  {
   "cell_type": "code",
   "execution_count": 89,
   "id": "769a1841",
   "metadata": {},
   "outputs": [],
   "source": [
    "# 통과\n",
    "import bisect\n",
    "def solution(citations):\n",
    "    citations.sort()\n",
    "    N = len(citations)\n",
    "    h, b = 0, 0 \n",
    "    for i in range(citations[-1]):\n",
    "        if i in citations:\n",
    "            b =  N - bisect.bisect(citations, i) + citations.count(i)\n",
    "        else:\n",
    "            b =  N - bisect.bisect(citations, i)\n",
    "        if  i <= b:\n",
    "            h = i\n",
    "            print(h)\n",
    "    return h"
   ]
  },
  {
   "cell_type": "code",
   "execution_count": 90,
   "id": "3957d8b5",
   "metadata": {},
   "outputs": [
    {
     "data": {
      "text/plain": [
       "['0', '33356']"
      ]
     },
     "execution_count": 90,
     "metadata": {},
     "output_type": "execute_result"
    }
   ],
   "source": [
    "'0133356'.split('1')"
   ]
  },
  {
   "cell_type": "code",
   "execution_count": 95,
   "id": "0616b078",
   "metadata": {},
   "outputs": [
    {
     "name": "stdout",
     "output_type": "stream",
     "text": [
      "0\n",
      "1\n",
      "2\n"
     ]
    },
    {
     "data": {
      "text/plain": [
       "2"
      ]
     },
     "execution_count": 95,
     "metadata": {},
     "output_type": "execute_result"
    }
   ],
   "source": [
    "solution([0,0,0,0,5, 100])"
   ]
  },
  {
   "cell_type": "code",
   "execution_count": 74,
   "id": "9e04c617",
   "metadata": {},
   "outputs": [],
   "source": [
    "def solution(citations):\n",
    "    citations.sort(reverse=True)\n",
    "    answer = max(map(min, enumerate(citations, start=1)))\n",
    "    return answer"
   ]
  },
  {
   "cell_type": "code",
   "execution_count": 97,
   "id": "4b94fa14",
   "metadata": {},
   "outputs": [
    {
     "data": {
      "text/plain": [
       "[(1, 6), (2, 5), (3, 4), (4, 4), (5, 4), (6, 4), (7, 3), (8, 1), (9, 0)]"
      ]
     },
     "execution_count": 97,
     "metadata": {},
     "output_type": "execute_result"
    }
   ],
   "source": [
    "list(enumerate(sorted([3, 0, 6, 1, 5,4,4,4,4], reverse = True), start=1))"
   ]
  },
  {
   "cell_type": "code",
   "execution_count": 98,
   "id": "d98e65a5",
   "metadata": {},
   "outputs": [
    {
     "data": {
      "text/plain": [
       "[1, 2, 3, 4, 4, 4, 3, 1, 0]"
      ]
     },
     "execution_count": 98,
     "metadata": {},
     "output_type": "execute_result"
    }
   ],
   "source": [
    "list(map(min, enumerate(sorted([3, 0, 6, 1, 5,4,4,4,4], reverse = True), start=1)))"
   ]
  },
  {
   "cell_type": "code",
   "execution_count": null,
   "id": "c293fba1",
   "metadata": {},
   "outputs": [],
   "source": []
  }
 ],
 "metadata": {
  "kernelspec": {
   "display_name": "Python 3",
   "language": "python",
   "name": "python3"
  },
  "language_info": {
   "codemirror_mode": {
    "name": "ipython",
    "version": 3
   },
   "file_extension": ".py",
   "mimetype": "text/x-python",
   "name": "python",
   "nbconvert_exporter": "python",
   "pygments_lexer": "ipython3",
   "version": "3.8.11"
  },
  "toc": {
   "base_numbering": 1,
   "nav_menu": {},
   "number_sections": true,
   "sideBar": true,
   "skip_h1_title": false,
   "title_cell": "Table of Contents",
   "title_sidebar": "Contents",
   "toc_cell": false,
   "toc_position": {},
   "toc_section_display": true,
   "toc_window_display": false
  }
 },
 "nbformat": 4,
 "nbformat_minor": 5
}
