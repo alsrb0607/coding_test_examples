{
 "cells": [
  {
   "cell_type": "code",
   "execution_count": 107,
   "id": "be7f10e5",
   "metadata": {},
   "outputs": [
    {
     "data": {
      "text/plain": [
       "[(0, 2),\n",
       " (0, 3),\n",
       " (0, 4),\n",
       " (1, 0),\n",
       " (1, 2),\n",
       " (1, 4),\n",
       " (2, 0),\n",
       " (2, 2),\n",
       " (2, 3),\n",
       " (2, 4),\n",
       " (3, 0),\n",
       " (3, 1),\n",
       " (3, 2),\n",
       " (3, 4),\n",
       " (4, 4)]"
      ]
     },
     "execution_count": 107,
     "metadata": {},
     "output_type": "execute_result"
    }
   ],
   "source": [
    "# 예시로 \n",
    "maps = [[1,0,1,1,1],[1,0,1,0,1],[1,0,1,1,1],[1,1,1,0,1],[0,0,0,0,1]]\n",
    "a= [(i,j) for i in range(5) for j in range(5) if maps[i][j]]\n",
    "a.remove((0,0))\n",
    "a"
   ]
  },
  {
   "cell_type": "code",
   "execution_count": 108,
   "id": "29eb6592",
   "metadata": {},
   "outputs": [
    {
     "data": {
      "text/plain": [
       "[(1, 0)]"
      ]
     },
     "execution_count": 108,
     "metadata": {},
     "output_type": "execute_result"
    }
   ],
   "source": [
    "# 초기값\n",
    "loc = [(0,0)]\n",
    "next_loc = [x for x in a for now in loc if ((sum(x) == sum(now)+1) and \n",
    "            ((x[0] == now[0] +1) or (x[1] == now[1] +1))) or\n",
    "           ((sum(x) == sum(now)-1) and \n",
    "            ((x[0] == now[0] -1) or (x[1] == now[1] -1)))]\n",
    "next_loc"
   ]
  },
  {
   "cell_type": "code",
   "execution_count": 109,
   "id": "99010f86",
   "metadata": {},
   "outputs": [
    {
     "data": {
      "text/plain": [
       "([(0, 2),\n",
       "  (0, 3),\n",
       "  (0, 4),\n",
       "  (1, 2),\n",
       "  (1, 4),\n",
       "  (2, 0),\n",
       "  (2, 2),\n",
       "  (2, 3),\n",
       "  (2, 4),\n",
       "  (3, 0),\n",
       "  (3, 1),\n",
       "  (3, 2),\n",
       "  (3, 4),\n",
       "  (4, 4)],\n",
       " [[1, 0, 1, 1, 1],\n",
       "  [2, 0, 1, 0, 1],\n",
       "  [1, 0, 1, 1, 1],\n",
       "  [1, 1, 1, 0, 1],\n",
       "  [0, 0, 0, 0, 1]])"
      ]
     },
     "execution_count": 109,
     "metadata": {},
     "output_type": "execute_result"
    }
   ],
   "source": [
    "for now in loc:\n",
    "    for x in next_loc:\n",
    "        i, j = x\n",
    "        maps[i][j] = maps[now[0]][now[1]] +1\n",
    "        if x in a:\n",
    "            a.remove(x) \n",
    "a, maps"
   ]
  },
  {
   "cell_type": "code",
   "execution_count": 121,
   "id": "057cc378",
   "metadata": {},
   "outputs": [
    {
     "data": {
      "text/plain": [
       "([(0, 4), (0, 4), (4, 4)], [])"
      ]
     },
     "execution_count": 121,
     "metadata": {},
     "output_type": "execute_result"
    }
   ],
   "source": [
    "loc = next_loc\n",
    "next_loc = [x for x in a for now in loc if ((sum(x) == sum(now)+1) and \n",
    "            ((x[0] == now[0] +1) or (x[1] == now[1] +1))) or\n",
    "           ((sum(x) == sum(now)-1) and \n",
    "            ((x[0] == now[0] -1) or (x[1] == now[1] -1)))]\n",
    "for now in loc:\n",
    "    for x in next_loc:\n",
    "        i, j = x\n",
    "        maps[i][j] = maps[now[0]][now[1]] +1\n",
    "        if x in a:\n",
    "            a.remove(x) \n",
    "loc, next_loc"
   ]
  },
  {
   "cell_type": "code",
   "execution_count": 137,
   "id": "6dfb3a61",
   "metadata": {},
   "outputs": [],
   "source": [
    "# (0,0)에서 출발, 반복문으로 함수화 -> 정답률 100%, 효율성테스트 실패\n",
    "def solution(maps):\n",
    "    ones= [(i,j) for i in range(len(maps)) for j in range(len(maps[0])) if maps[i][j]]\n",
    "    ones.remove((0,0))\n",
    "    loc = [(0,0)]\n",
    "    next_loc = ['?']\n",
    "    while next_loc:\n",
    "        next_loc = [x for x in ones for now in loc if ((sum(x) == sum(now)+1) and \n",
    "                ((x[0] == now[0] +1) or (x[1] == now[1] +1))) or\n",
    "               ((sum(x) == sum(now)-1) and \n",
    "                ((x[0] == now[0] -1) or (x[1] == now[1] -1)))]\n",
    "        for now in loc:\n",
    "            for x in next_loc:\n",
    "                i, j = x\n",
    "                maps[i][j] = maps[now[0]][now[1]] +1\n",
    "                if x in ones:\n",
    "                    ones.remove(x)\n",
    "        loc = next_loc\n",
    "        if maps[-1][-1] > 1:\n",
    "            break\n",
    "    if maps[-1][-1] == 1:\n",
    "        return -1\n",
    "    else:\n",
    "        return maps[-1][-1] "
   ]
  },
  {
   "cell_type": "code",
   "execution_count": 138,
   "id": "47db977c",
   "metadata": {},
   "outputs": [
    {
     "data": {
      "text/plain": [
       "11"
      ]
     },
     "execution_count": 138,
     "metadata": {},
     "output_type": "execute_result"
    }
   ],
   "source": [
    "solution([[1,0,1,1,1],[1,0,1,0,1],[1,0,1,1,1],[1,1,1,0,1],[0,0,0,0,1]])"
   ]
  },
  {
   "cell_type": "code",
   "execution_count": 160,
   "id": "5c7570b6",
   "metadata": {},
   "outputs": [],
   "source": [
    "# (5,5)에서 출발, 반복문으로 함수화 -> 정답률 100%, 효율성테스트 실패\n",
    "def solution(maps):\n",
    "    ones= [(i,j) for i in range(len(maps)) for j in range(len(maps[0])) if maps[i][j]]\n",
    "    loc = [ones.pop()]\n",
    "    next_loc = ['?']\n",
    "    cnt = 1\n",
    "    while next_loc:\n",
    "        tmp1 = [(i-1, j) for i,j in loc if (i-1, j) in ones]\n",
    "        tmp2 = [(i+1, j) for i,j in loc if (i+1, j) in ones]\n",
    "        tmp3 = [(i, j-1) for i,j in loc if (i, j-1) in ones]\n",
    "        tmp4 = [(i, j+1) for i,j in loc if (i, j+1) in ones]\n",
    "        next_loc = tmp1 +tmp2 +tmp3 + tmp4\n",
    "        cnt +=1\n",
    "        for i,j in next_loc:\n",
    "            maps[i][j] = cnt\n",
    "            if (i,j) in ones:\n",
    "                ones.remove((i,j))\n",
    "        loc = next_loc\n",
    "        if maps[0][0] > 1:\n",
    "            break\n",
    "    if maps[0][0] == 1:\n",
    "        return -1\n",
    "    else:\n",
    "        return maps[0][0] "
   ]
  },
  {
   "cell_type": "code",
   "execution_count": 220,
   "id": "95d356f5",
   "metadata": {},
   "outputs": [
    {
     "data": {
      "text/plain": [
       "11"
      ]
     },
     "execution_count": 220,
     "metadata": {},
     "output_type": "execute_result"
    }
   ],
   "source": [
    "solution([[1,0,1,1,1],[1,0,1,0,1],[1,0,1,1,1],[1,1,1,0,1],[0,0,0,0,1]])"
   ]
  },
  {
   "cell_type": "code",
   "execution_count": 219,
   "id": "d046ecf0",
   "metadata": {},
   "outputs": [],
   "source": [
    "# (5,5)에서 출발, 반복문으로 함수화 -> 정답률 100%, 효율성테스트 실패\n",
    "def solution(maps):\n",
    "    ones= [(i,j) for i in range(len(maps)) \n",
    "                 for j in range(len(maps[0])) if maps[i][j]]\n",
    "    loc = [ones.pop()]\n",
    "    next_loc = ['?']\n",
    "    cnt = 1\n",
    "    while next_loc:\n",
    "        tmp =[]; \n",
    "        cnt +=1\n",
    "        for i,j in loc:\n",
    "            if (i-1, j) in ones:\n",
    "                tmp.append((i-1, j))\n",
    "            if (i+1, j) in ones:\n",
    "                tmp.append((i+1, j))\n",
    "            if (i, j-1) in ones:\n",
    "                tmp.append((i, j-1))\n",
    "            if (i, j+1) in ones:\n",
    "                tmp.append((i, j+1))\n",
    "        next_loc = list(set(tmp))\n",
    "        for i,j in next_loc:\n",
    "            if (i,j) in ones:\n",
    "                ones.remove((i,j))\n",
    "        loc = next_loc\n",
    "        if (0,0) in next_loc:\n",
    "            break\n",
    "    return next_loc and cnt or -1"
   ]
  },
  {
   "cell_type": "code",
   "execution_count": 229,
   "id": "7ab669ad",
   "metadata": {},
   "outputs": [],
   "source": [
    "# (5,5)에서 출발, 반복문으로 함수화 -> 정답률 100%, 효율성테스트 실패\n",
    "def next_(loc, ones):\n",
    "    tmp =[]; \n",
    "    for i,j in loc:\n",
    "        if (i-1, j) in ones:\n",
    "            tmp.append((i-1, j))\n",
    "        if (i+1, j) in ones:\n",
    "            tmp.append((i+1, j))\n",
    "        if (i, j-1) in ones:\n",
    "            tmp.append((i, j-1))\n",
    "        if (i, j+1) in ones:\n",
    "            tmp.append((i, j+1))\n",
    "    return list(set(tmp))\n",
    "def solution(maps):\n",
    "    ones= [(i,j) for i in range(len(maps)) \n",
    "                 for j in range(len(maps[0])) if maps[i][j]]\n",
    "    loc = [ones.pop()]\n",
    "    next_loc = ['?']\n",
    "    cnt = 1\n",
    "    while next_loc:\n",
    "        tmp =[]; \n",
    "        cnt +=1\n",
    "        next_loc = next_(loc, ones)\n",
    "        for i,j in next_loc:\n",
    "            if (i,j) in ones:\n",
    "                ones.remove((i,j))\n",
    "        loc = next_loc\n",
    "        if (0,0) in next_loc:\n",
    "            break\n",
    "    return next_loc and cnt or -1"
   ]
  },
  {
   "cell_type": "code",
   "execution_count": 227,
   "id": "c53de270",
   "metadata": {},
   "outputs": [],
   "source": [
    "# (5,5)에서 출발, 반복문으로 함수화 -> 정답률 100%, 효율성테스트 실패\n",
    "from collections import deque\n",
    "def solution(maps):\n",
    "    n = len(maps); m = len(maps[-1])\n",
    "    loc = [(n-1, m-1)]\n",
    "    next_loc = deque('?')\n",
    "    cnt = 1\n",
    "    while next_loc:\n",
    "        tmp =deque(); \n",
    "        cnt +=1\n",
    "        for i,j in loc:\n",
    "            for t in [(1, 0), (0, 1), (-1, 0), (0, -1)]:\n",
    "                if 0 <= i + t[0] < n and 0 <= j + t[1] < m:\n",
    "                    if maps[i+t[0]][j+t[1]]:\n",
    "                        tmp.append((i+t[0], j+t[1]))\n",
    "        next_loc = tmp \n",
    "        loc = next_loc\n",
    "        if (0,0) in next_loc:\n",
    "            break\n",
    "    return next_loc and cnt or -1"
   ]
  },
  {
   "cell_type": "code",
   "execution_count": 230,
   "id": "13758332",
   "metadata": {},
   "outputs": [
    {
     "data": {
      "text/plain": [
       "11"
      ]
     },
     "execution_count": 230,
     "metadata": {},
     "output_type": "execute_result"
    }
   ],
   "source": [
    "solution([[1,0,1,1,1],[1,0,1,0,1],[1,0,1,1,1],[1,1,1,0,1],[0,0,0,0,1]])"
   ]
  },
  {
   "cell_type": "code",
   "execution_count": null,
   "id": "ed00a916",
   "metadata": {},
   "outputs": [],
   "source": [
    "from collections import deque\n",
    "\n",
    "\n",
    "def next_step(maps, p):\n",
    "    nexts = deque()\n",
    "    n = len(maps) # row size\n",
    "    m = len(maps[0]) # col size\n",
    "\n",
    "    # (down, right, up, left)\n",
    "    for t in [(1, 0), (0, 1), (-1, 0), (0, -1)]:\n",
    "        if 0 <= p[0] + t[0] < n and 0 <= p[1] + t[1] < m:\n",
    "            if maps[p[0]+t[0]][p[1]+t[1]] == 1:\n",
    "                nexts.append((p[0]+t[0], p[1]+t[1]))\n",
    "\n",
    "    return nexts\n",
    "\n",
    "\n",
    "def solution(maps):\n",
    "    answer = -1\n",
    "    n = len(maps)\n",
    "    m = len(maps[0])\n",
    "\n",
    "    end = (n-1, m-1)\n",
    "    begin = (0, 0)\n",
    "    maps[0][0] = 0\n",
    "    begin_item = [begin, 1] # [point, cnt]\n",
    "\n",
    "    q = deque([begin_item])\n",
    "    while q:\n",
    "        current, cnt = q.popleft()\n",
    "\n",
    "        if current == end:\n",
    "            return cnt\n",
    "\n",
    "        nxts = next_step(maps, current)\n",
    "        for nxt in nxts:\n",
    "            q.append([nxt, cnt+1])\n",
    "            maps[nxt[0]][nxt[1]] = 0\n",
    "\n",
    "    return answer"
   ]
  }
 ],
 "metadata": {
  "kernelspec": {
   "display_name": "Python 3",
   "language": "python",
   "name": "python3"
  },
  "language_info": {
   "codemirror_mode": {
    "name": "ipython",
    "version": 3
   },
   "file_extension": ".py",
   "mimetype": "text/x-python",
   "name": "python",
   "nbconvert_exporter": "python",
   "pygments_lexer": "ipython3",
   "version": "3.8.11"
  },
  "toc": {
   "base_numbering": 1,
   "nav_menu": {},
   "number_sections": true,
   "sideBar": true,
   "skip_h1_title": false,
   "title_cell": "Table of Contents",
   "title_sidebar": "Contents",
   "toc_cell": false,
   "toc_position": {},
   "toc_section_display": true,
   "toc_window_display": false
  }
 },
 "nbformat": 4,
 "nbformat_minor": 5
}
