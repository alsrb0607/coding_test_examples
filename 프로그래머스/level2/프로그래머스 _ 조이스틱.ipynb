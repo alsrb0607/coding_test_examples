{
 "cells": [
  {
   "cell_type": "code",
   "execution_count": 5,
   "id": "e5d61d60",
   "metadata": {},
   "outputs": [],
   "source": [
    "alpha = ['A', 'B', 'C', 'D', 'E', 'F', 'G', 'H', 'I', 'J', 'K', 'L', 'M', 'N', 'O', 'P',\n",
    " 'Q', 'R', 'S', 'T', 'U', 'V', 'W', 'X', 'Y', 'Z']"
   ]
  },
  {
   "cell_type": "code",
   "execution_count": 12,
   "id": "ae34758a",
   "metadata": {},
   "outputs": [
    {
     "data": {
      "text/plain": [
       "1"
      ]
     },
     "execution_count": 12,
     "metadata": {},
     "output_type": "execute_result"
    }
   ],
   "source": [
    "min(alpha.index('Z') - alpha.index('A') , 26 - alpha.index('Z'))"
   ]
  },
  {
   "cell_type": "code",
   "execution_count": 15,
   "id": "fc61b656",
   "metadata": {},
   "outputs": [
    {
     "data": {
      "text/plain": [
       "56"
      ]
     },
     "execution_count": 15,
     "metadata": {},
     "output_type": "execute_result"
    }
   ],
   "source": [
    "# 예시 (1)\n",
    "name = \"JEROEN\"\n",
    "tmp = 0\n",
    "for x in name:\n",
    "    tmp += min(alpha.index(x) , 26 - alpha.index(x))\n",
    "tmp + len(name) - 1"
   ]
  },
  {
   "cell_type": "code",
   "execution_count": 32,
   "id": "263a4f97",
   "metadata": {},
   "outputs": [
    {
     "data": {
      "text/plain": [
       "23"
      ]
     },
     "execution_count": 32,
     "metadata": {},
     "output_type": "execute_result"
    }
   ],
   "source": [
    "# 예시 (2)\n",
    "name = \"JAN\"\n",
    "tmp = 0\n",
    "for x in name:\n",
    "    tmp += min(alpha.index(x) , 26 - alpha.index(x))\n",
    "import re\n",
    "pattern = re.compile('[A]+')\n",
    "cnt = 0\n",
    "if re.findall(pattern, name[1:]):\n",
    "    cnt = len(max(re.findall(pattern, name[1:])))\n",
    "tmp + len(name) - 1 - cnt"
   ]
  },
  {
   "cell_type": "code",
   "execution_count": null,
   "id": "5989acd3",
   "metadata": {},
   "outputs": [],
   "source": [
    "# 90% 정답\n",
    "def solution(name):\n",
    "    alpha = ['A', 'B', 'C', 'D', 'E', 'F', 'G', 'H', 'I', 'J', 'K', 'L', 'M', 'N', 'O', 'P',\n",
    " 'Q', 'R', 'S', 'T', 'U', 'V', 'W', 'X', 'Y', 'Z']\n",
    "    import re\n",
    "    tmp = 0 ; cnt1 = 0\n",
    "    for x in name:\n",
    "        tmp += min(alpha.index(x) , 26 - alpha.index(x))\n",
    "    pattern = re.compile('[A]+')\n",
    "    temp = re.findall(pattern, name[1:])\n",
    "    if temp:\n",
    "        cnt1 = len(max(temp))\n",
    "    return tmp + len(name) - 1 - cnt1"
   ]
  },
  {
   "cell_type": "code",
   "execution_count": 126,
   "id": "78dd9907",
   "metadata": {},
   "outputs": [],
   "source": [
    "# 정답\n",
    "def solution(name):\n",
    "    alpha = ['A', 'B', 'C', 'D', 'E', 'F', 'G', 'H', 'I', 'J', 'K', 'L', 'M', 'N', 'O',\n",
    "             'P', 'Q', 'R', 'S', 'T', 'U', 'V', 'W', 'X', 'Y', 'Z']\n",
    "    import re\n",
    "    tmp = 0 ; cnt1 = 0\n",
    "    for x in name:\n",
    "        tmp += min(alpha.index(x) , 26 - alpha.index(x))\n",
    "    pattern = re.compile('[A]+')\n",
    "    temp = re.findall(pattern, name[1:])\n",
    "    if temp:\n",
    "        aa = name[1:].split(max(temp))\n",
    "        # 시작점 기준 양쪽 끝에 A가 최대로 연속된 부분이 존재하는 경우\n",
    "        if '' in aa:\n",
    "            cnt1 = len(max(temp))\n",
    "        # 시작점 기준 양쪽 끝이 아닌 가운데에 A가 최대로 연속된 부분이 존재하는 경우,\n",
    "        # 앞으로 갔다가 왼쪽으로 진행하는 것 vs 한쪽 방향으로 쭉 진행하는 것 사이에 비교 필요\n",
    "        else:\n",
    "            cnt2 = 2*len(aa[0]) + len(aa[-1])\n",
    "            cnt1 = min (cnt2, len(name) - 1 )\n",
    "            return tmp + cnt1\n",
    "    return tmp + len(name) - 1 - cnt1"
   ]
  },
  {
   "cell_type": "code",
   "execution_count": 125,
   "id": "f9a8a018",
   "metadata": {},
   "outputs": [
    {
     "name": "stdout",
     "output_type": "stream",
     "text": [
      "A\n",
      "['EROEN', '']\n"
     ]
    },
    {
     "data": {
      "text/plain": [
       "57"
      ]
     },
     "execution_count": 125,
     "metadata": {},
     "output_type": "execute_result"
    }
   ],
   "source": [
    "solution(\"JEROENA\")"
   ]
  },
  {
   "cell_type": "code",
   "execution_count": 123,
   "id": "798ad338",
   "metadata": {},
   "outputs": [
    {
     "data": {
      "text/plain": [
       "['JEROEN', '']"
      ]
     },
     "execution_count": 123,
     "metadata": {},
     "output_type": "execute_result"
    }
   ],
   "source": [
    "\"JEROENA\".split('A')"
   ]
  },
  {
   "cell_type": "code",
   "execution_count": 112,
   "id": "325811ed",
   "metadata": {},
   "outputs": [
    {
     "data": {
      "text/plain": [
       "58"
      ]
     },
     "execution_count": 112,
     "metadata": {},
     "output_type": "execute_result"
    }
   ],
   "source": [
    "solution(\"JERAAOENAAAAAAAAAA\")"
   ]
  },
  {
   "cell_type": "code",
   "execution_count": 64,
   "id": "50aa9951",
   "metadata": {},
   "outputs": [
    {
     "data": {
      "text/plain": [
       "23"
      ]
     },
     "execution_count": 64,
     "metadata": {},
     "output_type": "execute_result"
    }
   ],
   "source": [
    "solution(\"JAN\")"
   ]
  },
  {
   "cell_type": "code",
   "execution_count": 84,
   "id": "37611a1e",
   "metadata": {},
   "outputs": [
    {
     "name": "stdout",
     "output_type": "stream",
     "text": [
      "['AERAO', 'EN']\n",
      "9 12 9\n"
     ]
    }
   ],
   "source": [
    "solution('JAERAOAAEN')"
   ]
  },
  {
   "cell_type": "code",
   "execution_count": 127,
   "id": "5b2b7d7f",
   "metadata": {},
   "outputs": [
    {
     "name": "stdout",
     "output_type": "stream",
     "text": [
      "AAAAAAAA\n",
      "['XAAD', 'DA']\n"
     ]
    },
    {
     "data": {
      "text/plain": [
       "23"
      ]
     },
     "execution_count": 127,
     "metadata": {},
     "output_type": "execute_result"
    }
   ],
   "source": [
    "# 테스트케이스 5, 11\n",
    "solution('AXAADAAAAAAAADA')"
   ]
  },
  {
   "cell_type": "code",
   "execution_count": 75,
   "id": "7a149090",
   "metadata": {},
   "outputs": [
    {
     "name": "stdout",
     "output_type": "stream",
     "text": [
      "7\n"
     ]
    },
    {
     "data": {
      "text/plain": [
       "15"
      ]
     },
     "execution_count": 75,
     "metadata": {},
     "output_type": "execute_result"
    }
   ],
   "source": [
    "solution('AXAADDA')"
   ]
  },
  {
   "cell_type": "code",
   "execution_count": null,
   "id": "03e4ffe2",
   "metadata": {},
   "outputs": [],
   "source": []
  }
 ],
 "metadata": {
  "kernelspec": {
   "display_name": "Python 3",
   "language": "python",
   "name": "python3"
  },
  "language_info": {
   "codemirror_mode": {
    "name": "ipython",
    "version": 3
   },
   "file_extension": ".py",
   "mimetype": "text/x-python",
   "name": "python",
   "nbconvert_exporter": "python",
   "pygments_lexer": "ipython3",
   "version": "3.8.11"
  },
  "toc": {
   "base_numbering": 1,
   "nav_menu": {},
   "number_sections": true,
   "sideBar": true,
   "skip_h1_title": false,
   "title_cell": "Table of Contents",
   "title_sidebar": "Contents",
   "toc_cell": false,
   "toc_position": {},
   "toc_section_display": true,
   "toc_window_display": false
  }
 },
 "nbformat": 4,
 "nbformat_minor": 5
}
