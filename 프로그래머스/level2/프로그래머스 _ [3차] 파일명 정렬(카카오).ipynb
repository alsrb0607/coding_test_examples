{
 "cells": [
  {
   "cell_type": "code",
   "execution_count": 3,
   "id": "0a8f2dac",
   "metadata": {},
   "outputs": [
    {
     "data": {
      "text/plain": [
       "11"
      ]
     },
     "execution_count": 3,
     "metadata": {},
     "output_type": "execute_result"
    }
   ],
   "source": [
    "int(\"0011\")"
   ]
  },
  {
   "cell_type": "code",
   "execution_count": 16,
   "id": "3d5c7f73",
   "metadata": {},
   "outputs": [],
   "source": [
    "import re\n",
    "a = re.compile(\"[0-9]+\")\n",
    "b = re.compile(\"[^0-9]+\")"
   ]
  },
  {
   "cell_type": "code",
   "execution_count": 17,
   "id": "b3ce7c54",
   "metadata": {},
   "outputs": [
    {
     "data": {
      "text/plain": [
       "'010'"
      ]
     },
     "execution_count": 17,
     "metadata": {},
     "output_type": "execute_result"
    }
   ],
   "source": [
    "re.findall(a, \"foo010bar020.zip\")[0]"
   ]
  },
  {
   "cell_type": "code",
   "execution_count": 18,
   "id": "bb6b2913",
   "metadata": {},
   "outputs": [
    {
     "data": {
      "text/plain": [
       "'foo'"
      ]
     },
     "execution_count": 18,
     "metadata": {},
     "output_type": "execute_result"
    }
   ],
   "source": [
    "re.findall(b, \"foo010bar020.zip\")[0]"
   ]
  },
  {
   "cell_type": "code",
   "execution_count": 20,
   "id": "1259dc33",
   "metadata": {},
   "outputs": [
    {
     "data": {
      "text/plain": [
       "'f-'"
      ]
     },
     "execution_count": 20,
     "metadata": {},
     "output_type": "execute_result"
    }
   ],
   "source": [
    "re.findall(b, \"F-15\")[0].lower()"
   ]
  },
  {
   "cell_type": "code",
   "execution_count": 24,
   "id": "28810946",
   "metadata": {},
   "outputs": [],
   "source": [
    "import re\n",
    "def num(x):\n",
    "    a = re.compile(\"[0-9]+\")\n",
    "    return int(re.findall(a, x)[0])\n",
    "def head(x):\n",
    "    b = re.compile(\"[^0-9]+\")\n",
    "    return re.findall(b, x)[0].lower()\n",
    "def solution(files):\n",
    "    return sorted(files, key = lambda x: (head(x), num(x)))"
   ]
  },
  {
   "cell_type": "code",
   "execution_count": 25,
   "id": "7e904d10",
   "metadata": {},
   "outputs": [
    {
     "data": {
      "text/plain": [
       "['img1.png', 'IMG01.GIF', 'img02.png', 'img2.JPG', 'img10.png', 'img12.png']"
      ]
     },
     "execution_count": 25,
     "metadata": {},
     "output_type": "execute_result"
    }
   ],
   "source": [
    "solution([\"img12.png\", \"img10.png\", \"img02.png\", \"img1.png\", \"IMG01.GIF\", \"img2.JPG\"])"
   ]
  },
  {
   "cell_type": "code",
   "execution_count": null,
   "id": "dae9c980",
   "metadata": {},
   "outputs": [],
   "source": [
    "import re\n",
    "def num(x):\n",
    "    a = re.compile('\\d{1,5}')\n",
    "    return int(re.findall(a, x)[0])\n",
    "def head(x):\n",
    "    b = re.compile(\"[^0-9]+\")\n",
    "    return re.findall(b, x)[0].lower()\n",
    "def solution(files):\n",
    "    return sorted(files, key = lambda x: (head(x), num(x)))"
   ]
  }
 ],
 "metadata": {
  "kernelspec": {
   "display_name": "Python 3",
   "language": "python",
   "name": "python3"
  },
  "language_info": {
   "codemirror_mode": {
    "name": "ipython",
    "version": 3
   },
   "file_extension": ".py",
   "mimetype": "text/x-python",
   "name": "python",
   "nbconvert_exporter": "python",
   "pygments_lexer": "ipython3",
   "version": "3.8.11"
  },
  "toc": {
   "base_numbering": 1,
   "nav_menu": {},
   "number_sections": true,
   "sideBar": true,
   "skip_h1_title": false,
   "title_cell": "Table of Contents",
   "title_sidebar": "Contents",
   "toc_cell": false,
   "toc_position": {},
   "toc_section_display": true,
   "toc_window_display": false
  }
 },
 "nbformat": 4,
 "nbformat_minor": 5
}
