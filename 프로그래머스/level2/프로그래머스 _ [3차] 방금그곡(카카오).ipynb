{
 "cells": [
  {
   "cell_type": "code",
   "execution_count": 50,
   "id": "96edc53a",
   "metadata": {},
   "outputs": [],
   "source": [
    "musicinfos = [\"12:00,12:14,HELLO,C#DEFGAB\", \"13:00,13:05,WORLD,ABCDEF\"]"
   ]
  },
  {
   "cell_type": "code",
   "execution_count": 51,
   "id": "14e0023c",
   "metadata": {},
   "outputs": [],
   "source": [
    "musicinfos = list(map(lambda x: list(x.split(\",\")), musicinfos))"
   ]
  },
  {
   "cell_type": "code",
   "execution_count": 52,
   "id": "7d579efa",
   "metadata": {},
   "outputs": [
    {
     "data": {
      "text/plain": [
       "[['12:00', '12:14', 'HELLO', 'C#DEFGAB'],\n",
       " ['13:00', '13:05', 'WORLD', 'ABCDEF']]"
      ]
     },
     "execution_count": 52,
     "metadata": {},
     "output_type": "execute_result"
    }
   ],
   "source": [
    "musicinfos"
   ]
  },
  {
   "cell_type": "code",
   "execution_count": 53,
   "id": "8a338f16",
   "metadata": {},
   "outputs": [],
   "source": [
    "musics = {}\n",
    "for x in musicinfos:\n",
    "    runtime = (int(x[1].split(\":\")[0]) - int(x[0].split(\":\")[0]))*60 + int(x[1].split(\":\")[1]) - int(x[0].split(\":\")[1])\n",
    "    x[3] = replace(x[3])\n",
    "    musics[x[3]*(runtime//len(x[3]))+x[3][:runtime%len(x[3])]] = (runtime, x[2])"
   ]
  },
  {
   "cell_type": "code",
   "execution_count": 54,
   "id": "63ae6fd5",
   "metadata": {},
   "outputs": [
    {
     "data": {
      "text/plain": [
       "{'UDEFGABUDEFGAB': (14, 'HELLO'), 'ABCDE': (5, 'WORLD')}"
      ]
     },
     "execution_count": 54,
     "metadata": {},
     "output_type": "execute_result"
    }
   ],
   "source": [
    "musics"
   ]
  },
  {
   "cell_type": "code",
   "execution_count": 56,
   "id": "86f0002f",
   "metadata": {},
   "outputs": [],
   "source": [
    "m = \"ABC\"\n",
    "m = replace(m)\n",
    "answers = []\n",
    "for music in musics:\n",
    "    if m in music:\n",
    "        answers.append(musics[music])"
   ]
  },
  {
   "cell_type": "code",
   "execution_count": 49,
   "id": "fb8f22bf",
   "metadata": {},
   "outputs": [],
   "source": [
    "def replace(m):\n",
    "    for a,b in zip([\"A#\", \"C#\", \"D#\", \"F#\", \"G#\"], [\"T\",\"U\",\"I\",\"O\",\"P\"]):\n",
    "        m = m.replace(a,b)\n",
    "    return m"
   ]
  },
  {
   "cell_type": "code",
   "execution_count": 57,
   "id": "7bbe6efd",
   "metadata": {},
   "outputs": [
    {
     "data": {
      "text/plain": [
       "[(5, 'WORLD')]"
      ]
     },
     "execution_count": 57,
     "metadata": {},
     "output_type": "execute_result"
    }
   ],
   "source": [
    "answers"
   ]
  },
  {
   "cell_type": "code",
   "execution_count": 58,
   "id": "2c3d088e",
   "metadata": {},
   "outputs": [],
   "source": [
    "# 80% 정답 -> 재생시간 같은 경우 고려안함, 찾는 곡 없는 경우 고려 안함\n",
    "def replace(m):\n",
    "    for a,b in zip([\"A#\", \"C#\", \"D#\", \"F#\", \"G#\"], [\"T\",\"U\",\"I\",\"O\",\"P\"]):\n",
    "        m = m.replace(a,b)\n",
    "    return m\n",
    "def solution(m, musicinfos):\n",
    "    answers = []\n",
    "    musics = {}\n",
    "    musicinfos = list(map(lambda x: list(x.split(\",\")), musicinfos))\n",
    "    for x in musicinfos:\n",
    "        runtime = (int(x[1].split(\":\")[0]) - int(x[0].split(\":\")[0]))*60 + int(x[1].split(\":\")[1]) - int(x[0].split(\":\")[1])\n",
    "        x[3] = replace(x[3])\n",
    "        musics[x[3]*(runtime//len(x[3]))+x[3][:runtime%len(x[3])]] = (runtime, x[2])\n",
    "    for music in musics:\n",
    "        if replace(m) in music:\n",
    "            answers.append(musics[music])\n",
    "    answers.sort(key = lambda x:x[0])\n",
    "    return answers[-1][1]"
   ]
  },
  {
   "cell_type": "code",
   "execution_count": null,
   "id": "bbf3454e",
   "metadata": {},
   "outputs": [],
   "source": [
    "# 정답\n",
    "def replace(m):\n",
    "    for a,b in zip([\"A#\", \"C#\", \"D#\", \"F#\", \"G#\"], [\"T\",\"U\",\"I\",\"O\",\"P\"]):\n",
    "        m = m.replace(a,b)\n",
    "    return m\n",
    "def solution(m, musicinfos):\n",
    "    answers = []\n",
    "    musics = {}\n",
    "    musicinfos = list(map(lambda x: list(x.split(\",\")), musicinfos))\n",
    "    for x in musicinfos:\n",
    "        runtime = (int(x[1].split(\":\")[0]) - int(x[0].split(\":\")[0]))*60 + int(x[1].split(\":\")[1]) - int(x[0].split(\":\")[1])\n",
    "        x[3] = replace(x[3])\n",
    "        musics[x[3]*(runtime//len(x[3]))+x[3][:runtime%len(x[3])]] = (runtime, x[2])\n",
    "    for music in musics:\n",
    "        if replace(m) in music:\n",
    "            answers.append(musics[music])\n",
    "    answers.sort(key = lambda x:x[0], reverse = True)\n",
    "    return not answers and \"(None)\" or answers[0][1]"
   ]
  },
  {
   "cell_type": "code",
   "execution_count": null,
   "id": "68f79368",
   "metadata": {},
   "outputs": [],
   "source": [
    "def shap_to_lower(s):\n",
    "    s = s.replace('C#','c').replace('D#','d').replace('F#','f').replace('G#','g').replace('A#','a')\n",
    "    return s"
   ]
  }
 ],
 "metadata": {
  "kernelspec": {
   "display_name": "Python 3",
   "language": "python",
   "name": "python3"
  },
  "language_info": {
   "codemirror_mode": {
    "name": "ipython",
    "version": 3
   },
   "file_extension": ".py",
   "mimetype": "text/x-python",
   "name": "python",
   "nbconvert_exporter": "python",
   "pygments_lexer": "ipython3",
   "version": "3.8.8"
  }
 },
 "nbformat": 4,
 "nbformat_minor": 5
}
