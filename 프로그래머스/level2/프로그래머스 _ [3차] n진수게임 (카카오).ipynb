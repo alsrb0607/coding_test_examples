{
 "cells": [
  {
   "cell_type": "code",
   "execution_count": 1,
   "id": "7857e221",
   "metadata": {},
   "outputs": [],
   "source": [
    "def solution(n, t, m, p):\n",
    "    answer = ''\n",
    "    return answer"
   ]
  },
  {
   "cell_type": "code",
   "execution_count": 2,
   "id": "540e1fce",
   "metadata": {},
   "outputs": [],
   "source": [
    "n=2; t=4; m=2; p=1"
   ]
  },
  {
   "cell_type": "code",
   "execution_count": 13,
   "id": "4a225166",
   "metadata": {},
   "outputs": [],
   "source": [
    "# 16진법까지 변경 가능한 함수\n",
    "def change(n, i):\n",
    "    answer = ''\n",
    "    tmp = ['A', \"B\", 'C', 'D','E','F']\n",
    "    while n:\n",
    "        num = n%i\n",
    "        if num < 10:\n",
    "            answer = str(num) + answer \n",
    "        else:\n",
    "            answer = tmp[num-10] + answer \n",
    "        n = n//i\n",
    "    return answer"
   ]
  },
  {
   "cell_type": "code",
   "execution_count": 14,
   "id": "4035ca22",
   "metadata": {},
   "outputs": [
    {
     "data": {
      "text/plain": [
       "'1E'"
      ]
     },
     "execution_count": 14,
     "metadata": {},
     "output_type": "execute_result"
    }
   ],
   "source": [
    "change(29,15)"
   ]
  },
  {
   "cell_type": "code",
   "execution_count": 27,
   "id": "fed12d63",
   "metadata": {},
   "outputs": [],
   "source": [
    "# 16진법까지 변경 가능한 함수\n",
    "def change(n, i):\n",
    "    answer = ''\n",
    "    tmp = ['A', \"B\", 'C', 'D','E','F']\n",
    "    while n:\n",
    "        num = n%i\n",
    "        if num < 10:\n",
    "            answer = str(num) + answer \n",
    "        else:\n",
    "            answer = tmp[num-10] + answer \n",
    "        n = n//i\n",
    "    return answer\n",
    "# 정답\n",
    "def solution(n, t, m, p):\n",
    "    length = 0\n",
    "    i = 1\n",
    "    answer = '0'\n",
    "    answers = ''\n",
    "    while length < t*m:\n",
    "        tmp = change(i, n)\n",
    "        answer += tmp\n",
    "        length += len(tmp)\n",
    "        i += 1\n",
    "    for x in range(p-1, len(answer),m):\n",
    "        answers += answer[x]\n",
    "    return answers[:t]"
   ]
  },
  {
   "cell_type": "code",
   "execution_count": 28,
   "id": "ba55ed15",
   "metadata": {},
   "outputs": [
    {
     "data": {
      "text/plain": [
       "'00111'"
      ]
     },
     "execution_count": 28,
     "metadata": {},
     "output_type": "execute_result"
    }
   ],
   "source": [
    "solution(2,5,3,1)"
   ]
  },
  {
   "cell_type": "code",
   "execution_count": 24,
   "id": "81c93bae",
   "metadata": {},
   "outputs": [
    {
     "data": {
      "text/plain": [
       "'13579BDF01234567'"
      ]
     },
     "execution_count": 24,
     "metadata": {},
     "output_type": "execute_result"
    }
   ],
   "source": [
    "solution(16,16,2,2)"
   ]
  },
  {
   "cell_type": "code",
   "execution_count": null,
   "id": "6990601e",
   "metadata": {},
   "outputs": [],
   "source": []
  }
 ],
 "metadata": {
  "kernelspec": {
   "display_name": "Python 3",
   "language": "python",
   "name": "python3"
  },
  "language_info": {
   "codemirror_mode": {
    "name": "ipython",
    "version": 3
   },
   "file_extension": ".py",
   "mimetype": "text/x-python",
   "name": "python",
   "nbconvert_exporter": "python",
   "pygments_lexer": "ipython3",
   "version": "3.8.11"
  },
  "toc": {
   "base_numbering": 1,
   "nav_menu": {},
   "number_sections": true,
   "sideBar": true,
   "skip_h1_title": false,
   "title_cell": "Table of Contents",
   "title_sidebar": "Contents",
   "toc_cell": false,
   "toc_position": {},
   "toc_section_display": true,
   "toc_window_display": false
  }
 },
 "nbformat": 4,
 "nbformat_minor": 5
}
