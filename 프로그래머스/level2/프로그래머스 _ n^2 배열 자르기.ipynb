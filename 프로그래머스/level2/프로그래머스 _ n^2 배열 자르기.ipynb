{
 "cells": [
  {
   "cell_type": "code",
   "execution_count": 48,
   "id": "7364cf6d",
   "metadata": {},
   "outputs": [],
   "source": [
    "# 시간 초과\n",
    "def solution(n, left, right):\n",
    "    answer = []\n",
    "    for i in range(1, n+1):\n",
    "        answer += ([i]*i + list(range(1, n+1))[i:])\n",
    "    return answer[left:right+1]"
   ]
  },
  {
   "cell_type": "code",
   "execution_count": 59,
   "id": "58d947e4",
   "metadata": {},
   "outputs": [
    {
     "data": {
      "text/plain": [
       "[3, 2, 2, 3]"
      ]
     },
     "execution_count": 59,
     "metadata": {},
     "output_type": "execute_result"
    }
   ],
   "source": [
    "solution(3,2,5)"
   ]
  },
  {
   "cell_type": "code",
   "execution_count": 65,
   "id": "a29fba98",
   "metadata": {},
   "outputs": [],
   "source": [
    "# 통과\n",
    "def solution(n, left, right):\n",
    "    answer = []\n",
    "    a, b = left//n +1, left%n\n",
    "    c, _ = right//n +1, right%n\n",
    "    for i in range(a, c+1):\n",
    "        answer += ([i]*i + list(range(i+1, n+1)))\n",
    "    return answer[b:b+right-left+1]"
   ]
  },
  {
   "cell_type": "code",
   "execution_count": 66,
   "id": "7ac3e045",
   "metadata": {},
   "outputs": [
    {
     "data": {
      "text/plain": [
       "[4, 3, 3, 3, 4, 4, 4, 4]"
      ]
     },
     "execution_count": 66,
     "metadata": {},
     "output_type": "execute_result"
    }
   ],
   "source": [
    "solution(4,7,14)"
   ]
  },
  {
   "cell_type": "code",
   "execution_count": null,
   "id": "1c63ce20",
   "metadata": {},
   "outputs": [],
   "source": []
  }
 ],
 "metadata": {
  "kernelspec": {
   "display_name": "Python 3",
   "language": "python",
   "name": "python3"
  },
  "language_info": {
   "codemirror_mode": {
    "name": "ipython",
    "version": 3
   },
   "file_extension": ".py",
   "mimetype": "text/x-python",
   "name": "python",
   "nbconvert_exporter": "python",
   "pygments_lexer": "ipython3",
   "version": "3.8.8"
  },
  "toc": {
   "base_numbering": 1,
   "nav_menu": {},
   "number_sections": true,
   "sideBar": true,
   "skip_h1_title": false,
   "title_cell": "Table of Contents",
   "title_sidebar": "Contents",
   "toc_cell": false,
   "toc_position": {},
   "toc_section_display": true,
   "toc_window_display": false
  }
 },
 "nbformat": 4,
 "nbformat_minor": 5
}
