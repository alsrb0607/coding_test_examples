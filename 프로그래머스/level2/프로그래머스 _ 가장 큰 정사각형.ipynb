{
 "cells": [
  {
   "cell_type": "code",
   "execution_count": null,
   "id": "573a7ef8",
   "metadata": {},
   "outputs": [],
   "source": [
    "sum(board[i][:j])"
   ]
  },
  {
   "cell_type": "code",
   "execution_count": 201,
   "id": "c09078df",
   "metadata": {},
   "outputs": [],
   "source": [
    "# 예제\n",
    "def solution(board):\n",
    "    board = list(map(lambda x: ''.join((map(str, x))).replace('0', 'x'), board))\n",
    "    length = 3; cnt = 0\n",
    "    for i in range(length):\n",
    "        if board[i][1:1+length+1].isnumeric():\n",
    "            cnt += 1\n",
    "    return board, cnt"
   ]
  },
  {
   "cell_type": "code",
   "execution_count": 262,
   "id": "5f61fc03",
   "metadata": {},
   "outputs": [],
   "source": [
    "# 시작지점 잡고, 체크하기\n",
    "def solution(board):\n",
    "    length = 3 ; cnt = 0\n",
    "    starts = [(i,j) for i in range(len(board)-length+1) for j in range(len(board)-length+1)]\n",
    "    string = list(map(lambda x: ''.join((map(str, x))).replace('0', 'x'), board))\n",
    "    print(starts)\n",
    "    for i,j in starts:\n",
    "        for _ in range(length):\n",
    "            if string[i][j:j+length+1].isnumeric():\n",
    "                cnt += 1\n",
    "        if cnt == length:\n",
    "            break\n",
    "    return string, cnt"
   ]
  },
  {
   "cell_type": "code",
   "execution_count": 731,
   "id": "53012b0b",
   "metadata": {},
   "outputs": [],
   "source": [
    "# 시작지점 잡고, 체크하기 -> 정확도 100%, 시간초과 (1)\n",
    "def solution(board):\n",
    "    check = 0 ; length = min(len(board), len(board[0])) +1\n",
    "    string = list(map(lambda x: ''.join((map(str, x))).replace('0', 'x'), board))\n",
    "    if ''.join(string).isalpha():\n",
    "        return 0\n",
    "    else:\n",
    "        while (check ==0) and (length != 0):\n",
    "            length -= 1 \n",
    "            starts = [(i,j) for i in range(len(board)-length+1) \n",
    "                    for j in range(len(board[0])-length+1)\n",
    "                     if board[i][j] == 1]\n",
    "            for i,j in starts:\n",
    "                cnt = 0\n",
    "                for y in range(i, i+length):\n",
    "                    if 'x' in string[y][j:j+length]:\n",
    "                        break\n",
    "                    else:\n",
    "                        cnt += 1\n",
    "                if cnt == length:\n",
    "                    check+=1\n",
    "                    break\n",
    "    return length**2"
   ]
  },
  {
   "cell_type": "code",
   "execution_count": 763,
   "id": "d001195f",
   "metadata": {},
   "outputs": [],
   "source": [
    "# 시작지점 잡고, 체크하기 -> 정확도 100%, 시간초과(2)\n",
    "def solution(board):\n",
    "    check = 0 ; length = min(len(board), len(board[0])) +1\n",
    "    while check ==0:\n",
    "        length -= 1 \n",
    "        starts = [(i,j) for i in range(len(board)-length+1) for j in range(len(board[0])-length+1)]\n",
    "        for i,j in starts:\n",
    "            cnt = set([set(board[y][j:j+length]) == {1} for y in range(i, i+length)])\n",
    "            if 0 in cnt:\n",
    "                continue\n",
    "            else:\n",
    "                check+=1\n",
    "                break\n",
    "    return length**2"
   ]
  },
  {
   "cell_type": "code",
   "execution_count": 764,
   "id": "b39011ed",
   "metadata": {
    "scrolled": true
   },
   "outputs": [
    {
     "name": "stdout",
     "output_type": "stream",
     "text": [
      "4 4 5\n",
      "4\n",
      "0 0 [False] 4\n",
      "1 0 [True] 4\n"
     ]
    },
    {
     "data": {
      "text/plain": [
       "16"
      ]
     },
     "execution_count": 764,
     "metadata": {},
     "output_type": "execute_result"
    }
   ],
   "source": [
    "solution([[0,1,1,1],[1,1,1,1],[1,1,1,1],[0,0,1,0] ])"
   ]
  },
  {
   "cell_type": "code",
   "execution_count": 765,
   "id": "9b4103e0",
   "metadata": {},
   "outputs": [
    {
     "name": "stdout",
     "output_type": "stream",
     "text": [
      "3 4 4\n",
      "3\n",
      "0 0 [False] 3\n",
      "1 0 [False] 3\n",
      "2 0 [False] 3\n"
     ]
    },
    {
     "ename": "IndexError",
     "evalue": "list index out of range",
     "output_type": "error",
     "traceback": [
      "\u001b[1;31m---------------------------------------------------------------------------\u001b[0m",
      "\u001b[1;31mIndexError\u001b[0m                                Traceback (most recent call last)",
      "\u001b[1;32m<ipython-input-765-13a4bfa88b90>\u001b[0m in \u001b[0;36m<module>\u001b[1;34m\u001b[0m\n\u001b[1;32m----> 1\u001b[1;33m \u001b[0msolution\u001b[0m\u001b[1;33m(\u001b[0m\u001b[1;33m[\u001b[0m\u001b[1;33m[\u001b[0m\u001b[1;36m0\u001b[0m\u001b[1;33m,\u001b[0m\u001b[1;36m0\u001b[0m\u001b[1;33m,\u001b[0m\u001b[1;36m0\u001b[0m\u001b[1;33m,\u001b[0m\u001b[1;36m0\u001b[0m\u001b[1;33m]\u001b[0m\u001b[1;33m,\u001b[0m\u001b[1;33m[\u001b[0m\u001b[1;36m0\u001b[0m\u001b[1;33m,\u001b[0m\u001b[1;36m0\u001b[0m\u001b[1;33m,\u001b[0m\u001b[1;36m0\u001b[0m\u001b[1;33m,\u001b[0m\u001b[1;36m0\u001b[0m\u001b[1;33m]\u001b[0m\u001b[1;33m,\u001b[0m\u001b[1;33m[\u001b[0m\u001b[1;36m0\u001b[0m\u001b[1;33m,\u001b[0m\u001b[1;36m0\u001b[0m\u001b[1;33m,\u001b[0m\u001b[1;36m0\u001b[0m\u001b[1;33m,\u001b[0m\u001b[1;36m0\u001b[0m\u001b[1;33m]\u001b[0m\u001b[1;33m]\u001b[0m\u001b[1;33m)\u001b[0m\u001b[1;33m\u001b[0m\u001b[1;33m\u001b[0m\u001b[0m\n\u001b[0m",
      "\u001b[1;32m<ipython-input-763-dceb8b875ed1>\u001b[0m in \u001b[0;36msolution\u001b[1;34m(board)\u001b[0m\n\u001b[0;32m     12\u001b[0m             \u001b[1;32mwhile\u001b[0m \u001b[1;33m(\u001b[0m\u001b[0mi\u001b[0m \u001b[1;33m<\u001b[0m \u001b[0mlen\u001b[0m\u001b[1;33m(\u001b[0m\u001b[0mboard\u001b[0m\u001b[1;33m)\u001b[0m\u001b[1;33m-\u001b[0m\u001b[0mlength\u001b[0m\u001b[1;33m)\u001b[0m \u001b[1;32mor\u001b[0m \u001b[1;33m(\u001b[0m\u001b[0mcheck\u001b[0m\u001b[1;33m!=\u001b[0m\u001b[1;36m1\u001b[0m\u001b[1;33m)\u001b[0m\u001b[1;33m:\u001b[0m\u001b[1;33m\u001b[0m\u001b[1;33m\u001b[0m\u001b[0m\n\u001b[0;32m     13\u001b[0m                 \u001b[0mi\u001b[0m \u001b[1;33m+=\u001b[0m \u001b[1;36m1\u001b[0m\u001b[1;33m\u001b[0m\u001b[1;33m\u001b[0m\u001b[0m\n\u001b[1;32m---> 14\u001b[1;33m                 \u001b[0mcnt\u001b[0m \u001b[1;33m=\u001b[0m \u001b[1;33m[\u001b[0m\u001b[0mset\u001b[0m\u001b[1;33m(\u001b[0m\u001b[0mboard\u001b[0m\u001b[1;33m[\u001b[0m\u001b[0mi\u001b[0m\u001b[1;33m]\u001b[0m\u001b[1;33m[\u001b[0m\u001b[0mj\u001b[0m\u001b[1;33m:\u001b[0m\u001b[0mj\u001b[0m\u001b[1;33m+\u001b[0m\u001b[0mlength\u001b[0m\u001b[1;33m]\u001b[0m\u001b[1;33m)\u001b[0m \u001b[1;33m==\u001b[0m \u001b[1;33m{\u001b[0m\u001b[1;36m1\u001b[0m\u001b[1;33m}\u001b[0m\u001b[1;33m]\u001b[0m\u001b[1;33m\u001b[0m\u001b[1;33m\u001b[0m\u001b[0m\n\u001b[0m\u001b[0;32m     15\u001b[0m                 \u001b[0mprint\u001b[0m\u001b[1;33m(\u001b[0m\u001b[0mi\u001b[0m\u001b[1;33m,\u001b[0m \u001b[0mj\u001b[0m\u001b[1;33m,\u001b[0m \u001b[0mcnt\u001b[0m\u001b[1;33m,\u001b[0m \u001b[0mlength\u001b[0m\u001b[1;33m)\u001b[0m\u001b[1;33m\u001b[0m\u001b[1;33m\u001b[0m\u001b[0m\n\u001b[0;32m     16\u001b[0m                 \u001b[1;32mif\u001b[0m \u001b[1;36m0\u001b[0m \u001b[1;32min\u001b[0m \u001b[0mcnt\u001b[0m\u001b[1;33m:\u001b[0m\u001b[1;33m\u001b[0m\u001b[1;33m\u001b[0m\u001b[0m\n",
      "\u001b[1;31mIndexError\u001b[0m: list index out of range"
     ]
    }
   ],
   "source": [
    "solution([[0,0,0,0],[0,0,0,0],[0,0,0,0]])"
   ]
  },
  {
   "cell_type": "code",
   "execution_count": 758,
   "id": "e01e24f1",
   "metadata": {},
   "outputs": [
    {
     "name": "stdout",
     "output_type": "stream",
     "text": [
      "4 4 5\n",
      "4\n",
      "0 0 [False] 4\n",
      "3\n",
      "0 0 [False] 3\n",
      "1 0 [True] 3\n",
      "0 1 [True] 3\n"
     ]
    },
    {
     "data": {
      "text/plain": [
       "9"
      ]
     },
     "execution_count": 758,
     "metadata": {},
     "output_type": "execute_result"
    }
   ],
   "source": [
    "solution([[0,1,1,1],[1,1,1,1],[1,1,1,1],[0,0,1,0]])"
   ]
  },
  {
   "cell_type": "code",
   "execution_count": 759,
   "id": "3e54c50b",
   "metadata": {},
   "outputs": [
    {
     "name": "stdout",
     "output_type": "stream",
     "text": [
      "2 4 3\n",
      "2\n",
      "0 0 [False] 2\n",
      "0 1 [False] 2\n",
      "0 2 [True] 2\n",
      "0 3 [True] 2\n"
     ]
    },
    {
     "data": {
      "text/plain": [
       "4"
      ]
     },
     "execution_count": 759,
     "metadata": {},
     "output_type": "execute_result"
    }
   ],
   "source": [
    "solution([[0,0,1,1],[1,1,1,1]])"
   ]
  },
  {
   "cell_type": "code",
   "execution_count": 692,
   "id": "57ad4ff3",
   "metadata": {},
   "outputs": [],
   "source": [
    "# 시작지점 잡고, 체크하기 -> 정확도 100%, 시간초과(2)\n",
    "def solution(board):\n",
    "    check = 0 ; length = min(len(board), len(board[0])) +1\n",
    "    while check ==0:\n",
    "        length -= 1 \n",
    "        starts = [(i,j) for i in range(len(board)-length+1) for j in range(len(board[0])-length+1)]\n",
    "        for i,j in starts:\n",
    "            cnt = set([set(board[y][j:j+length]) == {1} for y in range(i, i+length)])\n",
    "            if 0 in cnt:\n",
    "                continue\n",
    "            else:\n",
    "                check+=1\n",
    "                break\n",
    "    return length**2"
   ]
  },
  {
   "cell_type": "code",
   "execution_count": 447,
   "id": "24f0a050",
   "metadata": {},
   "outputs": [
    {
     "data": {
      "text/plain": [
       "-1"
      ]
     },
     "execution_count": 447,
     "metadata": {},
     "output_type": "execute_result"
    }
   ],
   "source": [
    "'1111'.find('x')"
   ]
  },
  {
   "cell_type": "code",
   "execution_count": 598,
   "id": "f2417ae8",
   "metadata": {},
   "outputs": [],
   "source": [
    "gen = ( x**2 for x in range(3) )"
   ]
  },
  {
   "cell_type": "code",
   "execution_count": null,
   "id": "8dd1df77",
   "metadata": {},
   "outputs": [],
   "source": [
    "# 정답\n",
    "# 동적 프로그래밍(DP_Dynamic Programming)을 활용한 풀이\n",
    "def solution(board):\n",
    "    row = len(board)\n",
    "    col = len(board[0])\n",
    "    for i in range(row):\n",
    "        for j in range(col):\n",
    "            if i == 0 or j == 0:\n",
    "                continue\n",
    "            if board[i][j] != 0:\n",
    "                board[i][j] = min(board[i-1][j-1],min(board[i-1][j],board[i][j-1]))+1\n",
    "    answer=[]\n",
    "    for i in range(row):\n",
    "        answer.append(max(board[i]))\n",
    "    return max(answer)**2"
   ]
  }
 ],
 "metadata": {
  "kernelspec": {
   "display_name": "Python 3",
   "language": "python",
   "name": "python3"
  },
  "language_info": {
   "codemirror_mode": {
    "name": "ipython",
    "version": 3
   },
   "file_extension": ".py",
   "mimetype": "text/x-python",
   "name": "python",
   "nbconvert_exporter": "python",
   "pygments_lexer": "ipython3",
   "version": "3.8.11"
  },
  "toc": {
   "base_numbering": 1,
   "nav_menu": {},
   "number_sections": true,
   "sideBar": true,
   "skip_h1_title": false,
   "title_cell": "Table of Contents",
   "title_sidebar": "Contents",
   "toc_cell": false,
   "toc_position": {},
   "toc_section_display": true,
   "toc_window_display": false
  }
 },
 "nbformat": 4,
 "nbformat_minor": 5
}
