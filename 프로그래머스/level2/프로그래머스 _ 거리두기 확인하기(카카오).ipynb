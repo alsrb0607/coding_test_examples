{
 "cells": [
  {
   "cell_type": "code",
   "execution_count": 100,
   "id": "a0bbe12a",
   "metadata": {},
   "outputs": [
    {
     "name": "stdout",
     "output_type": "stream",
     "text": [
      "[0, 0] 1\n",
      "[0, 3] 1\n",
      "[1, 2] 1\n",
      "[1, 4] 0\n",
      "[2, 0] 1\n",
      "[4, 3] 1\n",
      "[4, 4] 1\n"
     ]
    }
   ],
   "source": [
    "ex = [\"POOPX\", \"OXPXP\", \"PXXXO\", \"OXXXO\", \"OOOPP\"]\n",
    "a = [(i,j) for i in range(5) for j in range(5) if ex[i][j] == 'P']\n",
    "for x in a:\n",
    "    print(list(x), find_(x))"
   ]
  },
  {
   "cell_type": "code",
   "execution_count": 99,
   "id": "1af4d993",
   "metadata": {},
   "outputs": [],
   "source": [
    "# 주변 확인\n",
    "def find_(a):\n",
    "    check = 0\n",
    "    move = [(0,1), (1,0), (-1,0), (0,-1)]\n",
    "    for x in move:\n",
    "        if 0 <= a[0] + x[0] <= 4 and 0 <= a[1] + x[1] <= 4:\n",
    "            if ex[a[0] + x[0]][a[1] + x[1]] == 'X':\n",
    "                pass\n",
    "            elif ex[a[0] + x[0]][a[1] + x[1]] == 'P':\n",
    "                check += 1\n",
    "                break\n",
    "            elif ex[a[0] + x[0]][a[1] + x[1]] == 'O':\n",
    "                for y in move:\n",
    "                    if 0 <= a[0] + x[0] + y[0] <= 4 and 0 <= a[1] + x[1]+ y[1] <= 4 and (x[0] + y[0]!= 0 or x[1]+ y[1]!=0):\n",
    "                        if ex[a[0] + x[0] + y[0]][a[1] + x[1]+ y[1]] == 'P':\n",
    "                            check += 1\n",
    "                            break\n",
    "    return check"
   ]
  },
  {
   "cell_type": "code",
   "execution_count": 74,
   "id": "e15a1eee",
   "metadata": {},
   "outputs": [
    {
     "name": "stdout",
     "output_type": "stream",
     "text": [
      "1\n",
      "1\n",
      "1\n",
      "0\n",
      "1\n",
      "1\n",
      "1\n"
     ]
    }
   ],
   "source": [
    "for x in a:\n",
    "    print(find_(x))"
   ]
  },
  {
   "cell_type": "code",
   "execution_count": 48,
   "id": "04d97ea0",
   "metadata": {},
   "outputs": [
    {
     "data": {
      "text/plain": [
       "[(0, 0), (0, 3), (1, 2), (1, 4), (2, 0), (4, 3), (4, 4)]"
      ]
     },
     "execution_count": 48,
     "metadata": {},
     "output_type": "execute_result"
    }
   ],
   "source": [
    "a"
   ]
  },
  {
   "cell_type": "code",
   "execution_count": 62,
   "id": "e7c0d218",
   "metadata": {},
   "outputs": [
    {
     "name": "stdout",
     "output_type": "stream",
     "text": [
      "[0, 0] 1\n",
      "[0, 3] 1\n",
      "[1, 2] 1\n",
      "[1, 4] 0\n",
      "[2, 0] 1\n",
      "[4, 3] 1\n",
      "[4, 4] 1\n"
     ]
    }
   ],
   "source": [
    "ex = [\"POOPX\", \"OXPXP\", \"PXXXO\", \"OXXXO\", \"OOOPP\"]\n",
    "a = [(i,j) for i in range(5) for j in range(5) if ex[i][j] == 'P']\n",
    "for x in a:\n",
    "    print(list(x), find_(x))"
   ]
  },
  {
   "cell_type": "code",
   "execution_count": 56,
   "id": "dcb4f041",
   "metadata": {},
   "outputs": [
    {
     "data": {
      "text/plain": [
       "0"
      ]
     },
     "execution_count": 56,
     "metadata": {},
     "output_type": "execute_result"
    }
   ],
   "source": [
    "find_((2,0))"
   ]
  },
  {
   "cell_type": "code",
   "execution_count": 111,
   "id": "23e87c1f",
   "metadata": {},
   "outputs": [
    {
     "name": "stdout",
     "output_type": "stream",
     "text": [
      "['POOOP', 'OXXOX', 'OPXPX', 'OOXOX', 'POXXP']\n",
      "0\n",
      "0\n",
      "0\n",
      "0\n",
      "0\n",
      "0\n",
      "['POOPX', 'OXPXP', 'PXXXO', 'OXXXO', 'OOOPP']\n",
      "1\n",
      "['PXOPX', 'OXOXP', 'OXPOX', 'OXXOP', 'PXPOX']\n",
      "0\n",
      "0\n",
      "0\n",
      "0\n",
      "0\n",
      "0\n",
      "0\n",
      "['OOOXX', 'XOOOX', 'OOOXX', 'OXOOX', 'OOOOO']\n",
      "['PXPXP', 'XPXPX', 'PXPXP', 'XPXPX', 'PXPXP']\n",
      "0\n",
      "0\n",
      "0\n",
      "0\n",
      "0\n",
      "0\n",
      "0\n",
      "0\n",
      "0\n",
      "0\n",
      "0\n",
      "0\n",
      "0\n"
     ]
    },
    {
     "data": {
      "text/plain": [
       "[1, 0, 1, 1, 1]"
      ]
     },
     "execution_count": 111,
     "metadata": {},
     "output_type": "execute_result"
    }
   ],
   "source": [
    "solution([[\"POOOP\", \"OXXOX\", \"OPXPX\", \"OOXOX\", \"POXXP\"], [\"POOPX\", \"OXPXP\", \"PXXXO\", \"OXXXO\", \"OOOPP\"], [\"PXOPX\", \"OXOXP\", \"OXPOX\", \"OXXOP\", \"PXPOX\"], [\"OOOXX\", \"XOOOX\", \"OOOXX\", \"OXOOX\", \"OOOOO\"], [\"PXPXP\", \"XPXPX\", \"PXPXP\", \"XPXPX\", \"PXPXP\"]])"
   ]
  },
  {
   "cell_type": "code",
   "execution_count": 110,
   "id": "77ae1736",
   "metadata": {},
   "outputs": [],
   "source": [
    "# 함수화\n",
    "def find_(ex, a):\n",
    "    check = 0\n",
    "    move = [(0,1), (1,0), (-1,0), (0,-1)]\n",
    "    for x in move:\n",
    "        if 0 <= a[0] + x[0] <= 4 and 0 <= a[1] + x[1] <= 4:\n",
    "            if ex[a[0] + x[0]][a[1] + x[1]] == 'X':\n",
    "                pass\n",
    "            elif ex[a[0] + x[0]][a[1] + x[1]] == 'P':\n",
    "                check += 1\n",
    "                break\n",
    "            elif ex[a[0] + x[0]][a[1] + x[1]] == 'O':\n",
    "                for y in move:\n",
    "                    if 0 <= a[0] + x[0] + y[0] <= 4 and 0 <= a[1] + x[1]+ y[1] <= 4 and (x[0] + y[0]!= 0 or x[1]+ y[1]!=0):\n",
    "                        if ex[a[0] + x[0] + y[0]][a[1] + x[1]+ y[1]] == 'P':\n",
    "                            check += 1\n",
    "                            break\n",
    "    return check\n",
    "def solution(places):\n",
    "    answer = []\n",
    "    for line in places:\n",
    "        check = 0\n",
    "        p = [(i,j) for i in range(5) for j in range(5) if line[i][j] == 'P']\n",
    "        for a in p: \n",
    "            check += find_(line, a)\n",
    "            if check > 0:\n",
    "                break        \n",
    "        if check:\n",
    "            answer.append(0)\n",
    "        else:\n",
    "            answer.append(1)\n",
    "    return answer"
   ]
  },
  {
   "cell_type": "code",
   "execution_count": null,
   "id": "0a41a8aa",
   "metadata": {},
   "outputs": [],
   "source": []
  }
 ],
 "metadata": {
  "kernelspec": {
   "display_name": "Python 3",
   "language": "python",
   "name": "python3"
  },
  "language_info": {
   "codemirror_mode": {
    "name": "ipython",
    "version": 3
   },
   "file_extension": ".py",
   "mimetype": "text/x-python",
   "name": "python",
   "nbconvert_exporter": "python",
   "pygments_lexer": "ipython3",
   "version": "3.8.11"
  },
  "toc": {
   "base_numbering": 1,
   "nav_menu": {},
   "number_sections": true,
   "sideBar": true,
   "skip_h1_title": false,
   "title_cell": "Table of Contents",
   "title_sidebar": "Contents",
   "toc_cell": false,
   "toc_position": {},
   "toc_section_display": true,
   "toc_window_display": false
  }
 },
 "nbformat": 4,
 "nbformat_minor": 5
}
