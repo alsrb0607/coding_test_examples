{
 "cells": [
  {
   "cell_type": "code",
   "execution_count": 308,
   "id": "b458f3ad",
   "metadata": {},
   "outputs": [],
   "source": [
    "a = [6, 10, 2, 3, 6]\n",
    "a[1:3] = 2,3"
   ]
  },
  {
   "cell_type": "code",
   "execution_count": 309,
   "id": "3b5a3196",
   "metadata": {},
   "outputs": [
    {
     "data": {
      "text/plain": [
       "[6, 2, 3, 3, 6]"
      ]
     },
     "execution_count": 309,
     "metadata": {},
     "output_type": "execute_result"
    }
   ],
   "source": [
    "a"
   ]
  },
  {
   "cell_type": "code",
   "execution_count": 25,
   "id": "35ca8850",
   "metadata": {},
   "outputs": [],
   "source": [
    "b = [z for y in list(map(lambda x: str(x), a)) for z in y]"
   ]
  },
  {
   "cell_type": "code",
   "execution_count": 27,
   "id": "bdcb25da",
   "metadata": {},
   "outputs": [
    {
     "data": {
      "text/plain": [
       "['6', '6', '3', '2', '1', '0']"
      ]
     },
     "execution_count": 27,
     "metadata": {},
     "output_type": "execute_result"
    }
   ],
   "source": [
    "sorted(b, reverse = True)"
   ]
  },
  {
   "cell_type": "code",
   "execution_count": 28,
   "id": "a8b735e4",
   "metadata": {},
   "outputs": [],
   "source": [
    "# 숫자를 다 쪼개서 틀림\n",
    "def solution(numbers):\n",
    "    return ''.join(sorted([z for y in list(map(lambda x: str(x), numbers)) for z in y], reverse = True))"
   ]
  },
  {
   "cell_type": "code",
   "execution_count": 142,
   "id": "6bc2dbcc",
   "metadata": {},
   "outputs": [],
   "source": [
    "def solution(numbers):\n",
    "    answer = sorted(sorted(numbers, reverse=True), key = lambda x : str(x)[0], reverse = True)\n",
    "    return answer"
   ]
  },
  {
   "cell_type": "code",
   "execution_count": 120,
   "id": "39196fd8",
   "metadata": {},
   "outputs": [
    {
     "data": {
      "text/plain": [
       "[99999, 9, 5, 34, 33, 32, 31, 30, 30, 3, 0, 0]"
      ]
     },
     "execution_count": 120,
     "metadata": {},
     "output_type": "execute_result"
    }
   ],
   "source": [
    "sorted(sorted([3, 99999,30, 34,33,32,31,30, 5, 9,0 ,0 ], reverse=True), key = lambda x : str(x)[0], reverse = True)"
   ]
  },
  {
   "cell_type": "code",
   "execution_count": 184,
   "id": "b7a2ad61",
   "metadata": {},
   "outputs": [
    {
     "data": {
      "text/plain": [
       "True"
      ]
     },
     "execution_count": 184,
     "metadata": {},
     "output_type": "execute_result"
    }
   ],
   "source": [
    "sorting([1,11,10,1,1,10,1,10,1]) != [1,11,10,1,1,10,1,10,1]"
   ]
  },
  {
   "cell_type": "code",
   "execution_count": 175,
   "id": "fbede5fe",
   "metadata": {},
   "outputs": [],
   "source": [
    "def sorting(answer):\n",
    "    for i in range(len(answer)-1):\n",
    "        answer = list(map(lambda x: str(x), answer))\n",
    "        if answer[i] + answer[i+1] < answer[i+1] +  answer[i]:\n",
    "                answer[i:i+2] = answer[i+1], answer[i]\n",
    "    return answer"
   ]
  },
  {
   "cell_type": "code",
   "execution_count": 369,
   "id": "90a4668d",
   "metadata": {},
   "outputs": [],
   "source": [
    "# 시간 초과\n",
    "def solution(answer):\n",
    "    answer = list(map(lambda x: str(x), answer))\n",
    "    answer = sorted(sorted(answer, reverse=True), \n",
    "                    key = lambda x : x[0], reverse = True)\n",
    "    answer = sorted(answer, key = len, reverse = True)\n",
    "    while sorting(answer) !=  answer:\n",
    "        answer = sorting(answer)\n",
    "    return answer\n",
    "def sorting(numbers):\n",
    "    num = numbers.copy()\n",
    "    for i in range(len(numbers)-1):\n",
    "        if len(numbers[i]) > len(numbers[i+1]):\n",
    "            if numbers[i] + numbers[i+1] < numbers[i+1] +  numbers[i]:\n",
    "                num[i:i+2] = numbers[i+1], numbers[i]\n",
    "#     return num\n",
    "    return int(''.join(answer)) == 0 and '0' or ''.join(answer)"
   ]
  },
  {
   "cell_type": "code",
   "execution_count": 327,
   "id": "1816904d",
   "metadata": {},
   "outputs": [
    {
     "data": {
      "text/plain": [
       "['11', '10', '1', '10', '1', '1', '1', '1', '10']"
      ]
     },
     "execution_count": 327,
     "metadata": {},
     "output_type": "execute_result"
    }
   ],
   "source": [
    "a = ['11', '101', '10', '1', '1', '1', '1', '1', '10']\n",
    "sorting(a)"
   ]
  },
  {
   "cell_type": "code",
   "execution_count": 328,
   "id": "75a97615",
   "metadata": {},
   "outputs": [
    {
     "data": {
      "text/plain": [
       "['11', '10', '10', '1', '1', '1', '1', '1', '10']"
      ]
     },
     "execution_count": 328,
     "metadata": {},
     "output_type": "execute_result"
    }
   ],
   "source": [
    "a"
   ]
  },
  {
   "cell_type": "code",
   "execution_count": 329,
   "id": "c49b1097",
   "metadata": {},
   "outputs": [
    {
     "data": {
      "text/plain": [
       "False"
      ]
     },
     "execution_count": 329,
     "metadata": {},
     "output_type": "execute_result"
    }
   ],
   "source": [
    "a == ['11', '10', '1', '1', '1', '1', '1', '10', '10']"
   ]
  },
  {
   "cell_type": "code",
   "execution_count": 306,
   "id": "8dae0194",
   "metadata": {},
   "outputs": [],
   "source": [
    "b = sorting(a) "
   ]
  },
  {
   "cell_type": "code",
   "execution_count": 307,
   "id": "985b718f",
   "metadata": {},
   "outputs": [
    {
     "data": {
      "text/plain": [
       "True"
      ]
     },
     "execution_count": 307,
     "metadata": {},
     "output_type": "execute_result"
    }
   ],
   "source": [
    "a == b"
   ]
  },
  {
   "cell_type": "code",
   "execution_count": 370,
   "id": "d4d2fa6a",
   "metadata": {},
   "outputs": [
    {
     "data": {
      "text/plain": [
       "['105', '101', '12', '11', '10', '1', '1', '1']"
      ]
     },
     "execution_count": 370,
     "metadata": {},
     "output_type": "execute_result"
    }
   ],
   "source": [
    "solution(['11', '101', '10', '12', '1', '1', '1', '105'])"
   ]
  },
  {
   "cell_type": "code",
   "execution_count": 379,
   "id": "82a5902f",
   "metadata": {},
   "outputs": [],
   "source": [
    "z = []\n",
    "for x,y in enumerate(['105', '101', '12', '11', '10', '1', '1', '1']):\n",
    "    z.append((x, y + y[-1]*(3-len(y))))"
   ]
  },
  {
   "cell_type": "code",
   "execution_count": 381,
   "id": "351cfc7f",
   "metadata": {},
   "outputs": [
    {
     "data": {
      "text/plain": [
       "[(2, '122'),\n",
       " (3, '111'),\n",
       " (5, '111'),\n",
       " (6, '111'),\n",
       " (7, '111'),\n",
       " (0, '105'),\n",
       " (1, '101'),\n",
       " (4, '100')]"
      ]
     },
     "execution_count": 381,
     "metadata": {},
     "output_type": "execute_result"
    }
   ],
   "source": [
    "sorted(z, reverse = True, key = lambda x: x[1])"
   ]
  },
  {
   "cell_type": "code",
   "execution_count": 122,
   "id": "b336f428",
   "metadata": {},
   "outputs": [
    {
     "data": {
      "text/plain": [
       "True"
      ]
     },
     "execution_count": 122,
     "metadata": {},
     "output_type": "execute_result"
    }
   ],
   "source": [
    "int(solution([0,0])) == 0"
   ]
  },
  {
   "cell_type": "code",
   "execution_count": 356,
   "id": "87eb7212",
   "metadata": {},
   "outputs": [
    {
     "data": {
      "text/plain": [
       "('1', 2)"
      ]
     },
     "execution_count": 356,
     "metadata": {},
     "output_type": "execute_result"
    }
   ],
   "source": [
    "'11'[1], len('11')"
   ]
  },
  {
   "cell_type": "code",
   "execution_count": 450,
   "id": "5130e2bc",
   "metadata": {},
   "outputs": [],
   "source": [
    "# 통과한 코드\n",
    "def sorting(numbers):\n",
    "    num = numbers.copy()\n",
    "    for i in range(len(numbers)-1):\n",
    "        if len(numbers[i]) > len(numbers[i+1]):\n",
    "            if numbers[i] + numbers[i+1] < numbers[i+1] +  numbers[i]:\n",
    "                num[i:i+2] = numbers[i+1], numbers[i]\n",
    "    return num\n",
    "def solution(answer):\n",
    "    answer = list(map(lambda x: str(x), answer))\n",
    "    answer = sorted(answer, key = len, reverse = True)\n",
    "    original = answer.copy()\n",
    "    temp = [(x, y + y[0]*(4-len(y))) for x,y in enumerate(answer)]\n",
    "    temp = sorted(temp, reverse = True, key = lambda x: x[1])\n",
    "    answer = []\n",
    "    for index, _ in temp:\n",
    "        answer.append(str(original[index]))\n",
    "    while sorting(answer) !=  answer:\n",
    "        answer = sorting(answer)\n",
    "    return int(''.join(answer)) == 0 and '0' or ''.join(answer)"
   ]
  },
  {
   "cell_type": "markdown",
   "id": "ac76d4d8",
   "metadata": {},
   "source": [
    "* 까다로운 케이스들"
   ]
  },
  {
   "cell_type": "code",
   "execution_count": 451,
   "id": "6fc6888c",
   "metadata": {},
   "outputs": [
    {
     "data": {
      "text/plain": [
       "'663212110'"
      ]
     },
     "execution_count": 451,
     "metadata": {},
     "output_type": "execute_result"
    }
   ],
   "source": [
    "solution([6, 2110, 21, 3, 6])"
   ]
  },
  {
   "cell_type": "code",
   "execution_count": 452,
   "id": "39a0ca3b",
   "metadata": {},
   "outputs": [
    {
     "data": {
      "text/plain": [
       "'12121'"
      ]
     },
     "execution_count": 452,
     "metadata": {},
     "output_type": "execute_result"
    }
   ],
   "source": [
    "solution([12, 121])"
   ]
  },
  {
   "cell_type": "code",
   "execution_count": 453,
   "id": "cbabaabf",
   "metadata": {},
   "outputs": [
    {
     "data": {
      "text/plain": [
       "'212212212112121'"
      ]
     },
     "execution_count": 453,
     "metadata": {},
     "output_type": "execute_result"
    }
   ],
   "source": [
    "solution([21, 212,12, 121,212,21])"
   ]
  },
  {
   "cell_type": "code",
   "execution_count": 454,
   "id": "2acabe21",
   "metadata": {},
   "outputs": [
    {
     "data": {
      "text/plain": [
       "'0'"
      ]
     },
     "execution_count": 454,
     "metadata": {},
     "output_type": "execute_result"
    }
   ],
   "source": [
    "solution([0, 0])"
   ]
  },
  {
   "cell_type": "code",
   "execution_count": 443,
   "id": "d9d91ca2",
   "metadata": {},
   "outputs": [],
   "source": [
    "def solution(numbers):\n",
    "    numbers = list(map(str, numbers))\n",
    "    numbers.sort(key=lambda x: x*3, reverse=True)\n",
    "#     print(numbers)\n",
    "    temp = list(map(lambda x: x*3, numbers))\n",
    "#     print(temp)\n",
    "    return str(int(''.join(numbers)))"
   ]
  },
  {
   "cell_type": "code",
   "execution_count": 444,
   "id": "a8b13d9f",
   "metadata": {},
   "outputs": [
    {
     "name": "stdout",
     "output_type": "stream",
     "text": [
      "['212', '212', '21', '21', '12', '121']\n",
      "['212212212', '212212212', '212121', '212121', '121212', '121121121']\n"
     ]
    },
    {
     "data": {
      "text/plain": [
       "'212212212112121'"
      ]
     },
     "execution_count": 444,
     "metadata": {},
     "output_type": "execute_result"
    }
   ],
   "source": [
    "solution([21, 212,12, 121,212,21])"
   ]
  },
  {
   "cell_type": "markdown",
   "id": "d2666e25",
   "metadata": {},
   "source": [
    "* 핵심은 문자열 간의 부등호의 사용"
   ]
  },
  {
   "cell_type": "code",
   "execution_count": 446,
   "id": "60c91f0b",
   "metadata": {},
   "outputs": [
    {
     "data": {
      "text/plain": [
       "True"
      ]
     },
     "execution_count": 446,
     "metadata": {},
     "output_type": "execute_result"
    }
   ],
   "source": [
    "'212212212' < '22'"
   ]
  },
  {
   "cell_type": "code",
   "execution_count": 455,
   "id": "a879d2e7",
   "metadata": {},
   "outputs": [
    {
     "data": {
      "text/plain": [
       "True"
      ]
     },
     "execution_count": 455,
     "metadata": {},
     "output_type": "execute_result"
    }
   ],
   "source": [
    "'aabbcc' < \"abc\""
   ]
  },
  {
   "cell_type": "code",
   "execution_count": null,
   "id": "3bd8ffa8",
   "metadata": {},
   "outputs": [],
   "source": []
  }
 ],
 "metadata": {
  "kernelspec": {
   "display_name": "Python 3",
   "language": "python",
   "name": "python3"
  },
  "language_info": {
   "codemirror_mode": {
    "name": "ipython",
    "version": 3
   },
   "file_extension": ".py",
   "mimetype": "text/x-python",
   "name": "python",
   "nbconvert_exporter": "python",
   "pygments_lexer": "ipython3",
   "version": "3.8.11"
  },
  "toc": {
   "base_numbering": 1,
   "nav_menu": {},
   "number_sections": true,
   "sideBar": true,
   "skip_h1_title": false,
   "title_cell": "Table of Contents",
   "title_sidebar": "Contents",
   "toc_cell": false,
   "toc_position": {},
   "toc_section_display": true,
   "toc_window_display": false
  }
 },
 "nbformat": 4,
 "nbformat_minor": 5
}
