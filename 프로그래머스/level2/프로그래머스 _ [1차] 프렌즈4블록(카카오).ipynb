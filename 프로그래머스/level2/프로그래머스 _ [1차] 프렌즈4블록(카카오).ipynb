{
 "cells": [
  {
   "cell_type": "code",
   "execution_count": 224,
   "id": "d8165cd3",
   "metadata": {},
   "outputs": [],
   "source": [
    "def transpose(board):\n",
    "    return list( zip(*board))\n",
    "\n",
    "def check_square(m,n,board):\n",
    "    empty = set()\n",
    "    for i in range(m-1):\n",
    "        for j in range(n-1):\n",
    "            tmp = board[i][j]\n",
    "            if tmp == '0':\n",
    "                pass\n",
    "            elif (tmp == board[i][j+1] == board[i+1][j] == board[i+1][j+1]):\n",
    "                empty.add((i,j))\n",
    "                empty.add((i+1,j))\n",
    "                empty.add((i,j+1))\n",
    "                empty.add((i+1,j+1))\n",
    "    return empty\n",
    "\n",
    "def shift(board):\n",
    "    board = transpose(board)\n",
    "    for i, x in enumerate(board):\n",
    "        n = x.count('0')\n",
    "        board[i] = n*'0' + ''.join(x).replace('0', '')\n",
    "    return transpose(board)"
   ]
  },
  {
   "cell_type": "code",
   "execution_count": 252,
   "id": "f5ac4cf7",
   "metadata": {},
   "outputs": [
    {
     "data": {
      "text/plain": [
       "11"
      ]
     },
     "execution_count": 252,
     "metadata": {},
     "output_type": "execute_result"
    }
   ],
   "source": [
    "board = [\"TTTANT\", \"RRFACC\", \"RRRFCC\", \"TRRRAA\", \"TTMMMF\", \"TMMTTJ\"]\n",
    "\n",
    "len(check_square(6,6, board))"
   ]
  },
  {
   "cell_type": "code",
   "execution_count": 226,
   "id": "b9ba02c6",
   "metadata": {},
   "outputs": [],
   "source": [
    "board = list(map(list, board))\n",
    "for i,j in check_square(6,6, board):\n",
    "    board[i][j] = \"0\""
   ]
  },
  {
   "cell_type": "code",
   "execution_count": 227,
   "id": "41cabcfb",
   "metadata": {},
   "outputs": [
    {
     "data": {
      "text/plain": [
       "[('T', '0', '0', 'T', 'T', 'T'),\n",
       " ('T', '0', '0', '0', 'T', 'M'),\n",
       " ('T', 'F', '0', '0', 'M', 'M'),\n",
       " ('A', 'A', 'F', 'R', 'M', 'T'),\n",
       " ('N', '0', '0', 'A', 'M', 'T'),\n",
       " ('T', '0', '0', 'A', 'F', 'J')]"
      ]
     },
     "execution_count": 227,
     "metadata": {},
     "output_type": "execute_result"
    }
   ],
   "source": [
    "transpose(board)"
   ]
  },
  {
   "cell_type": "code",
   "execution_count": 228,
   "id": "16ea7a0a",
   "metadata": {},
   "outputs": [],
   "source": [
    "def shift(board):\n",
    "    board = transpose(board)\n",
    "    for i, x in enumerate(board):\n",
    "        n = x.count('0')\n",
    "        board[i] = n*'0' + ''.join(x).replace('0', '')\n",
    "    return transpose(board)"
   ]
  },
  {
   "cell_type": "code",
   "execution_count": 229,
   "id": "d139f354",
   "metadata": {},
   "outputs": [
    {
     "data": {
      "text/plain": [
       "[('0', '0', '0', 'A', '0', '0'),\n",
       " ('0', '0', '0', 'A', '0', '0'),\n",
       " ('T', '0', 'T', 'F', 'N', 'T'),\n",
       " ('T', 'T', 'F', 'R', 'A', 'A'),\n",
       " ('T', 'T', 'M', 'M', 'M', 'F'),\n",
       " ('T', 'M', 'M', 'T', 'T', 'J')]"
      ]
     },
     "execution_count": 229,
     "metadata": {},
     "output_type": "execute_result"
    }
   ],
   "source": [
    "shift(board)"
   ]
  },
  {
   "cell_type": "code",
   "execution_count": 230,
   "id": "0be037cc",
   "metadata": {},
   "outputs": [
    {
     "data": {
      "text/plain": [
       "{(3, 0), (3, 1), (4, 0), (4, 1)}"
      ]
     },
     "execution_count": 230,
     "metadata": {},
     "output_type": "execute_result"
    }
   ],
   "source": [
    "check_square(6,6, shift(board))"
   ]
  },
  {
   "cell_type": "code",
   "execution_count": null,
   "id": "74ad1e8e",
   "metadata": {},
   "outputs": [],
   "source": []
  },
  {
   "cell_type": "code",
   "execution_count": null,
   "id": "9d041df6",
   "metadata": {},
   "outputs": [],
   "source": [
    "def transpose(board):\n",
    "    return list( zip(*board))\n",
    "\n",
    "def check_square(m,n,board):\n",
    "    empty = set()\n",
    "    for i in range(m-1):\n",
    "        for j in range(n-1):\n",
    "            tmp = board[i][j]\n",
    "            if tmp == '0':\n",
    "                pass\n",
    "            elif (tmp == board[i][j+1] == board[i+1][j] == board[i+1][j+1]):\n",
    "                empty.add((i,j))\n",
    "                empty.add((i+1,j))\n",
    "                empty.add((i,j+1))\n",
    "                empty.add((i+1,j+1))\n",
    "    return empty\n",
    "\n",
    "def shift(board):\n",
    "    board = transpose(board)\n",
    "    for i, x in enumerate(board):\n",
    "        n = x.count('0')\n",
    "        board[i] = n*'0' + ''.join(x).replace('0', '')\n",
    "    return transpose(board)\n",
    "\n",
    "def solution(m, n, board):\n",
    "    answer = 0\n",
    "    while True:\n",
    "        if not check_square(m,n,board):\n",
    "            return answer\n",
    "        else:\n",
    "            answer += len(check_square(m,n,board))\n",
    "            board = list(map(list, board))\n",
    "            for i,j in check_square(m,n, board):\n",
    "                board[i][j] = \"0\"\n",
    "            board = shift(board)\n",
    "        \n",
    "    "
   ]
  },
  {
   "cell_type": "code",
   "execution_count": 232,
   "id": "0ba70568",
   "metadata": {},
   "outputs": [
    {
     "data": {
      "text/plain": [
       "15"
      ]
     },
     "execution_count": 232,
     "metadata": {},
     "output_type": "execute_result"
    }
   ],
   "source": [
    "solution(6,6,[\"TTTANT\", \"RRFACC\", \"RRRFCC\", \"TRRRAA\", \"TTMMMF\", \"TMMTTJ\"])"
   ]
  },
  {
   "cell_type": "code",
   "execution_count": 240,
   "id": "36aa525c",
   "metadata": {},
   "outputs": [],
   "source": [
    "A = [\"TTTANT\", \"RRFACC\", \"RRRFCC\", \"TRRRAA\", \"TTMMMF\", \"TMMTTJ\"]"
   ]
  },
  {
   "cell_type": "code",
   "execution_count": 241,
   "id": "95f09c7c",
   "metadata": {},
   "outputs": [
    {
     "data": {
      "text/plain": [
       "[['T', 'R', 'R', 'T', 'T', 'T'],\n",
       " ['T', 'R', 'R', 'R', 'T', 'M'],\n",
       " ['T', 'F', 'R', 'R', 'M', 'M'],\n",
       " ['A', 'A', 'F', 'R', 'M', 'T'],\n",
       " ['N', 'C', 'C', 'A', 'M', 'T'],\n",
       " ['T', 'C', 'C', 'A', 'F', 'J']]"
      ]
     },
     "execution_count": 241,
     "metadata": {},
     "output_type": "execute_result"
    }
   ],
   "source": [
    "[list(x) for x in zip(*A)]"
   ]
  },
  {
   "cell_type": "code",
   "execution_count": 243,
   "id": "7e667c79",
   "metadata": {},
   "outputs": [
    {
     "name": "stdout",
     "output_type": "stream",
     "text": [
      "[[1, 2, 3], [4, 5, 6], [7, 8, 9]]\n"
     ]
    }
   ],
   "source": [
    "a = [[1,2,3], [4,5,6],[7,8,9]]\n",
    "print(a)"
   ]
  },
  {
   "cell_type": "code",
   "execution_count": 251,
   "id": "3861c6fd",
   "metadata": {},
   "outputs": [
    {
     "name": "stdout",
     "output_type": "stream",
     "text": [
      "[[1, 4, 7], [2, 5, 8], [3, 6, 9]]\n"
     ]
    }
   ],
   "source": [
    "a = [[1,2,3], [4,5,6],[7,8,9]]\n",
    "b = [list(x) for x in zip(*a)]\n",
    "print(b)"
   ]
  },
  {
   "cell_type": "code",
   "execution_count": null,
   "id": "4cbaa056",
   "metadata": {},
   "outputs": [],
   "source": []
  }
 ],
 "metadata": {
  "kernelspec": {
   "display_name": "Python 3",
   "language": "python",
   "name": "python3"
  },
  "language_info": {
   "codemirror_mode": {
    "name": "ipython",
    "version": 3
   },
   "file_extension": ".py",
   "mimetype": "text/x-python",
   "name": "python",
   "nbconvert_exporter": "python",
   "pygments_lexer": "ipython3",
   "version": "3.8.8"
  }
 },
 "nbformat": 4,
 "nbformat_minor": 5
}
