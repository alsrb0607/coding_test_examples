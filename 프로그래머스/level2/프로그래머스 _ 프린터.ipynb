{
 "cells": [
  {
   "cell_type": "code",
   "execution_count": 1,
   "id": "834dbd27",
   "metadata": {},
   "outputs": [],
   "source": [
    "from collections import Counter"
   ]
  },
  {
   "cell_type": "code",
   "execution_count": 6,
   "id": "860861a2",
   "metadata": {},
   "outputs": [
    {
     "data": {
      "text/plain": [
       "Counter({1: 5, 9: 1})"
      ]
     },
     "execution_count": 6,
     "metadata": {},
     "output_type": "execute_result"
    }
   ],
   "source": [
    "Counter([1,1,1,9,1,1])"
   ]
  },
  {
   "cell_type": "code",
   "execution_count": 8,
   "id": "ccd64a41",
   "metadata": {},
   "outputs": [
    {
     "data": {
      "text/plain": [
       "0"
      ]
     },
     "execution_count": 8,
     "metadata": {},
     "output_type": "execute_result"
    }
   ],
   "source": [
    "[1,1,1,9,1,1].count(8)"
   ]
  },
  {
   "cell_type": "code",
   "execution_count": 9,
   "id": "dcd00b51",
   "metadata": {},
   "outputs": [],
   "source": [
    "def solution(priorities, location):\n",
    "    answer = 0\n",
    "    return answer"
   ]
  },
  {
   "cell_type": "code",
   "execution_count": 219,
   "id": "ba4274c2",
   "metadata": {},
   "outputs": [],
   "source": [
    "priorities = [1,1,8,1,9,1,1,8,6,5]\n",
    "priorities_copy = priorities.copy()\n",
    "location = 0\n",
    "\n",
    "ind = priorities[location]"
   ]
  },
  {
   "cell_type": "code",
   "execution_count": 220,
   "id": "4fe5ecb9",
   "metadata": {},
   "outputs": [],
   "source": [
    "tmp = 0\n",
    "for i in range(ind+1, 10):\n",
    "    tmp += priorities.count(i)"
   ]
  },
  {
   "cell_type": "code",
   "execution_count": 221,
   "id": "07766b21",
   "metadata": {},
   "outputs": [
    {
     "data": {
      "text/plain": [
       "5"
      ]
     },
     "execution_count": 221,
     "metadata": {},
     "output_type": "execute_result"
    }
   ],
   "source": [
    "tmp"
   ]
  },
  {
   "cell_type": "code",
   "execution_count": 81,
   "id": "6926fef9",
   "metadata": {},
   "outputs": [],
   "source": [
    "for i in range(len(priorities)):\n",
    "    priorities[i] = (-priorities[i],i)"
   ]
  },
  {
   "cell_type": "code",
   "execution_count": 82,
   "id": "690de486",
   "metadata": {},
   "outputs": [
    {
     "data": {
      "text/plain": [
       "[(-1, 0), (-1, 1), (-1, 2), (-9, 3), (-1, 4), (-1, 5)]"
      ]
     },
     "execution_count": 82,
     "metadata": {},
     "output_type": "execute_result"
    }
   ],
   "source": [
    "priorities"
   ]
  },
  {
   "cell_type": "code",
   "execution_count": 83,
   "id": "b22ace52",
   "metadata": {},
   "outputs": [],
   "source": [
    "priorities.sort()"
   ]
  },
  {
   "cell_type": "code",
   "execution_count": 84,
   "id": "ee4144e2",
   "metadata": {},
   "outputs": [
    {
     "data": {
      "text/plain": [
       "[(-9, 3), (-1, 0), (-1, 1), (-1, 2), (-1, 4), (-1, 5)]"
      ]
     },
     "execution_count": 84,
     "metadata": {},
     "output_type": "execute_result"
    }
   ],
   "source": [
    "priorities"
   ]
  },
  {
   "cell_type": "code",
   "execution_count": 85,
   "id": "8e47e508",
   "metadata": {},
   "outputs": [],
   "source": [
    "cnt = 0\n",
    "while True:\n",
    "    tmp = priorities.pop(0)\n",
    "    cnt += 1\n",
    "    if -priorities[0][0] == ind:\n",
    "        num = tmp[1]\n",
    "        break"
   ]
  },
  {
   "cell_type": "code",
   "execution_count": 86,
   "id": "40621343",
   "metadata": {},
   "outputs": [
    {
     "data": {
      "text/plain": [
       "(1, 3)"
      ]
     },
     "execution_count": 86,
     "metadata": {},
     "output_type": "execute_result"
    }
   ],
   "source": [
    "cnt, num"
   ]
  },
  {
   "cell_type": "code",
   "execution_count": 89,
   "id": "63bb6bcc",
   "metadata": {},
   "outputs": [],
   "source": [
    "cnt2= priorities_copy[num:].count(ind)"
   ]
  },
  {
   "cell_type": "code",
   "execution_count": 90,
   "id": "df11d861",
   "metadata": {},
   "outputs": [],
   "source": [
    "cnt3 = priorities_copy[:location+1].count(ind)"
   ]
  },
  {
   "cell_type": "code",
   "execution_count": 91,
   "id": "9264143a",
   "metadata": {},
   "outputs": [
    {
     "data": {
      "text/plain": [
       "4"
      ]
     },
     "execution_count": 91,
     "metadata": {},
     "output_type": "execute_result"
    }
   ],
   "source": [
    "cnt + cnt2 + cnt3"
   ]
  },
  {
   "cell_type": "code",
   "execution_count": 263,
   "id": "b4d0013d",
   "metadata": {},
   "outputs": [],
   "source": [
    "# 75% 정답\n",
    "def solution(priorities, location):\n",
    "    priorities_copy = priorities.copy()\n",
    "    ind = priorities[location]\n",
    "    for i in range(len(priorities)):\n",
    "        priorities[i] = (-priorities[i],i)\n",
    "    priorities.sort()\n",
    "    cnt = 0\n",
    "    while True:\n",
    "        tmp = priorities.pop(0)\n",
    "        cnt += 1\n",
    "#         if tmp[0] != priorities[0][0]:\n",
    "#             num = tmp[1]\n",
    "#             priorities.sort(key = lambda x: x[1] < num)\n",
    "        if -tmp[0]==ind:\n",
    "            while tmp[1] != location:\n",
    "                tmp = priorities.pop(0)\n",
    "                cnt += 1\n",
    "            return cnt\n",
    "        elif -priorities[0][0] == ind:\n",
    "            num = tmp[1]\n",
    "            print()\n",
    "            break\n",
    "    \n",
    "    if num < location:\n",
    "        return cnt + priorities_copy[num:location+1].count(ind)\n",
    "    else:\n",
    "        return cnt + priorities_copy[num:].count(ind) + priorities_copy[:location+1].count(ind)"
   ]
  },
  {
   "cell_type": "code",
   "execution_count": 376,
   "id": "f1efb7d1",
   "metadata": {},
   "outputs": [
    {
     "data": {
      "text/plain": [
       "6"
      ]
     },
     "execution_count": 376,
     "metadata": {},
     "output_type": "execute_result"
    }
   ],
   "source": [
    "solution([2, 3, 3, 2, 9, 3, 3] , 3)"
   ]
  },
  {
   "cell_type": "code",
   "execution_count": 370,
   "id": "50301fab",
   "metadata": {},
   "outputs": [],
   "source": [
    "# 정답\n",
    "def solution(priorities, location):\n",
    "    if len(priorities) ==1:\n",
    "        return 1\n",
    "    for i in range(len(priorities)):\n",
    "        priorities[i] = (priorities[i],i)\n",
    "    cnt = 0\n",
    "    while True:\n",
    "        ind = priorities.index(max(priorities, key = lambda x: x[0]))\n",
    "        priorities = priorities[ind:] + priorities[:ind]\n",
    "        if (priorities[0][1] == location) and (priorities[0][0] == max(priorities, key = lambda x: x[0])[0]):\n",
    "            cnt +=1\n",
    "            return cnt\n",
    "        if ind ==0:\n",
    "            priorities.pop(0)\n",
    "            cnt +=1\n",
    "            continue\n",
    "        else:\n",
    "            priorities.pop(0)\n",
    "            cnt +=1"
   ]
  },
  {
   "cell_type": "code",
   "execution_count": 360,
   "id": "3e417543",
   "metadata": {},
   "outputs": [
    {
     "data": {
      "text/plain": [
       "1"
      ]
     },
     "execution_count": 360,
     "metadata": {},
     "output_type": "execute_result"
    }
   ],
   "source": [
    "solution([1] , 0)"
   ]
  },
  {
   "cell_type": "code",
   "execution_count": 375,
   "id": "3e1225ba",
   "metadata": {},
   "outputs": [
    {
     "data": {
      "text/plain": [
       "4"
      ]
     },
     "execution_count": 375,
     "metadata": {},
     "output_type": "execute_result"
    }
   ],
   "source": [
    "solution([1, 1, 1, 8, 9, 7, 7, 1] , 6)"
   ]
  },
  {
   "cell_type": "code",
   "execution_count": 373,
   "id": "c6b61ab5",
   "metadata": {},
   "outputs": [
    {
     "data": {
      "text/plain": [
       "4"
      ]
     },
     "execution_count": 373,
     "metadata": {},
     "output_type": "execute_result"
    }
   ],
   "source": [
    "solution([9, 3, 2, 1, 1,8,8,9] , 6)"
   ]
  },
  {
   "cell_type": "code",
   "execution_count": 371,
   "id": "9dbe7e06",
   "metadata": {},
   "outputs": [
    {
     "data": {
      "text/plain": [
       "1"
      ]
     },
     "execution_count": 371,
     "metadata": {},
     "output_type": "execute_result"
    }
   ],
   "source": [
    "solution([2, 1, 3, 2] , 2)"
   ]
  },
  {
   "cell_type": "code",
   "execution_count": 372,
   "id": "060ca78c",
   "metadata": {},
   "outputs": [
    {
     "data": {
      "text/plain": [
       "1"
      ]
     },
     "execution_count": 372,
     "metadata": {},
     "output_type": "execute_result"
    }
   ],
   "source": [
    "max([1,1,1])"
   ]
  },
  {
   "cell_type": "code",
   "execution_count": null,
   "id": "d485a256",
   "metadata": {},
   "outputs": [],
   "source": [
    "# any 활용\n",
    "def solution(priorities, location):\n",
    "    queue =  [(i,p) for i,p in enumerate(priorities)]\n",
    "    answer = 0\n",
    "    while True:\n",
    "        cur = queue.pop(0)\n",
    "        if any(cur[1] < q[1] for q in queue):\n",
    "            queue.append(cur)\n",
    "        else:\n",
    "            answer += 1\n",
    "            if cur[0] == location:\n",
    "                return answer"
   ]
  },
  {
   "cell_type": "code",
   "execution_count": 365,
   "id": "653181f7",
   "metadata": {},
   "outputs": [],
   "source": [
    "def solution(priorities, location):\n",
    "    answer = 1\n",
    "    docs = list(range(len(priorities)))\n",
    "    while priorities:\n",
    "        top = priorities.pop(0)\n",
    "        doc = docs.pop(0)\n",
    "        if len(priorities) == 0:\n",
    "            break\n",
    "        if top < max(priorities):\n",
    "            priorities.append(top)\n",
    "            docs.append(doc)\n",
    "        elif doc == location:\n",
    "                break\n",
    "        else:\n",
    "            answer += 1\n",
    "    return answer"
   ]
  },
  {
   "cell_type": "code",
   "execution_count": null,
   "id": "de8d3e67",
   "metadata": {},
   "outputs": [],
   "source": []
  }
 ],
 "metadata": {
  "kernelspec": {
   "display_name": "Python 3",
   "language": "python",
   "name": "python3"
  },
  "language_info": {
   "codemirror_mode": {
    "name": "ipython",
    "version": 3
   },
   "file_extension": ".py",
   "mimetype": "text/x-python",
   "name": "python",
   "nbconvert_exporter": "python",
   "pygments_lexer": "ipython3",
   "version": "3.8.8"
  }
 },
 "nbformat": 4,
 "nbformat_minor": 5
}
