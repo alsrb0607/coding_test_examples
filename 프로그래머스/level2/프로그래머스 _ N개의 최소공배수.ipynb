{
 "cells": [
  {
   "cell_type": "code",
   "execution_count": 1,
   "id": "7c666605",
   "metadata": {},
   "outputs": [
    {
     "data": {
      "text/plain": [
       "1344"
      ]
     },
     "execution_count": 1,
     "metadata": {},
     "output_type": "execute_result"
    }
   ],
   "source": [
    "a = [2,6,8,14]\n",
    "2*6*8*14"
   ]
  },
  {
   "cell_type": "code",
   "execution_count": 3,
   "id": "a000da88",
   "metadata": {},
   "outputs": [
    {
     "data": {
      "text/plain": [
       "168.0"
      ]
     },
     "execution_count": 3,
     "metadata": {},
     "output_type": "execute_result"
    }
   ],
   "source": [
    "2*6*8*14/2/2/2"
   ]
  },
  {
   "cell_type": "code",
   "execution_count": 49,
   "id": "97f542bc",
   "metadata": {},
   "outputs": [
    {
     "data": {
      "text/plain": [
       "28"
      ]
     },
     "execution_count": 49,
     "metadata": {},
     "output_type": "execute_result"
    }
   ],
   "source": [
    "solution([14,14,28])"
   ]
  },
  {
   "cell_type": "code",
   "execution_count": 48,
   "id": "15278e3f",
   "metadata": {},
   "outputs": [],
   "source": [
    "def solution(arr):\n",
    "    original = arr.copy()\n",
    "    while len(set(arr)) != 1:\n",
    "        arr[arr.index(min(arr))] = arr[arr.index(min(arr))] + original[arr.index(min(arr))]\n",
    "    return arr[0]"
   ]
  },
  {
   "cell_type": "code",
   "execution_count": 50,
   "id": "e809b0f0",
   "metadata": {},
   "outputs": [],
   "source": [
    "def gcd(a, b):\n",
    "    if b == 0:\n",
    "        return a\n",
    "    return gcd(b, a%b)\n",
    "\n",
    "def solution(num):      \n",
    "    answer = num[0]\n",
    "    for n in num[1:]:\n",
    "        answer = n * answer / gcd(n, answer)\n",
    "\n",
    "    return answer"
   ]
  },
  {
   "cell_type": "code",
   "execution_count": 51,
   "id": "51b04f7c",
   "metadata": {},
   "outputs": [
    {
     "data": {
      "text/plain": [
       "8"
      ]
     },
     "execution_count": 51,
     "metadata": {},
     "output_type": "execute_result"
    }
   ],
   "source": [
    "gcd(24, 16)"
   ]
  },
  {
   "cell_type": "code",
   "execution_count": 52,
   "id": "c720b9f9",
   "metadata": {},
   "outputs": [
    {
     "data": {
      "text/plain": [
       "8"
      ]
     },
     "execution_count": 52,
     "metadata": {},
     "output_type": "execute_result"
    }
   ],
   "source": [
    "gcd(16, 24)"
   ]
  },
  {
   "cell_type": "code",
   "execution_count": null,
   "id": "df35edf9",
   "metadata": {},
   "outputs": [],
   "source": []
  }
 ],
 "metadata": {
  "kernelspec": {
   "display_name": "Python 3",
   "language": "python",
   "name": "python3"
  },
  "language_info": {
   "codemirror_mode": {
    "name": "ipython",
    "version": 3
   },
   "file_extension": ".py",
   "mimetype": "text/x-python",
   "name": "python",
   "nbconvert_exporter": "python",
   "pygments_lexer": "ipython3",
   "version": "3.8.11"
  },
  "toc": {
   "base_numbering": 1,
   "nav_menu": {},
   "number_sections": true,
   "sideBar": true,
   "skip_h1_title": false,
   "title_cell": "Table of Contents",
   "title_sidebar": "Contents",
   "toc_cell": false,
   "toc_position": {},
   "toc_section_display": true,
   "toc_window_display": false
  }
 },
 "nbformat": 4,
 "nbformat_minor": 5
}
