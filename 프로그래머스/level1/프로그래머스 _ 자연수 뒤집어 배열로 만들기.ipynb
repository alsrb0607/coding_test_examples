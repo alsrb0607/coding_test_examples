{
 "cells": [
  {
   "cell_type": "code",
   "execution_count": 5,
   "id": "6d9378b9",
   "metadata": {},
   "outputs": [],
   "source": [
    "# 문제 잘못 읽음\n",
    "def solution(n):\n",
    "    return list(map(lambda x: int(x), sorted(str(n), reverse = True)))"
   ]
  },
  {
   "cell_type": "code",
   "execution_count": 6,
   "id": "c6c574d1",
   "metadata": {},
   "outputs": [
    {
     "data": {
      "text/plain": [
       "[5, 4, 3, 2, 1]"
      ]
     },
     "execution_count": 6,
     "metadata": {},
     "output_type": "execute_result"
    }
   ],
   "source": [
    "solution(12345)"
   ]
  },
  {
   "cell_type": "code",
   "execution_count": 11,
   "id": "e28db0bd",
   "metadata": {},
   "outputs": [
    {
     "data": {
      "text/plain": [
       "[5, 4, 3, 2, 1]"
      ]
     },
     "execution_count": 11,
     "metadata": {},
     "output_type": "execute_result"
    }
   ],
   "source": [
    "list(solution(12345))"
   ]
  },
  {
   "cell_type": "code",
   "execution_count": 10,
   "id": "2f155655",
   "metadata": {},
   "outputs": [],
   "source": [
    "def solution(n):\n",
    "    return list(map(lambda x: int(x), reversed(str(n))))"
   ]
  },
  {
   "cell_type": "code",
   "execution_count": null,
   "id": "a7ba2922",
   "metadata": {},
   "outputs": [],
   "source": []
  }
 ],
 "metadata": {
  "kernelspec": {
   "display_name": "Python 3",
   "language": "python",
   "name": "python3"
  },
  "language_info": {
   "codemirror_mode": {
    "name": "ipython",
    "version": 3
   },
   "file_extension": ".py",
   "mimetype": "text/x-python",
   "name": "python",
   "nbconvert_exporter": "python",
   "pygments_lexer": "ipython3",
   "version": "3.8.11"
  },
  "toc": {
   "base_numbering": 1,
   "nav_menu": {},
   "number_sections": true,
   "sideBar": true,
   "skip_h1_title": false,
   "title_cell": "Table of Contents",
   "title_sidebar": "Contents",
   "toc_cell": false,
   "toc_position": {},
   "toc_section_display": true,
   "toc_window_display": false
  }
 },
 "nbformat": 4,
 "nbformat_minor": 5
}
