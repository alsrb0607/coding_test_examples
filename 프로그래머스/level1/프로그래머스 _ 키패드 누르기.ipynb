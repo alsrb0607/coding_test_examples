{
 "cells": [
  {
   "cell_type": "code",
   "execution_count": 9,
   "id": "55aa7aca",
   "metadata": {},
   "outputs": [],
   "source": [
    "# 실패, 정교하지 못함\n",
    "def solution(numbers, hand):\n",
    "    answer = ''\n",
    "    left = 10 ; right = 12\n",
    "    for num in numbers:\n",
    "        if num in [1,4,7]:\n",
    "            answer += 'L'\n",
    "            left = num\n",
    "        elif num in [3,6,9]:\n",
    "            answer += 'R'\n",
    "            right = num\n",
    "        elif num in [2,5,8,0]:\n",
    "            i = [2,5,8,0].index(num)\n",
    "            if abs((left-1//3) - i) > abs((right-1//3) - i):\n",
    "                answer += 'R'\n",
    "                right = num\n",
    "            elif abs((left-1//3) - i) < abs((right-1//3) - i):\n",
    "                answer += 'L'\n",
    "                left = num\n",
    "            elif abs((left-1//3) - i) == abs((right-1//3) - i):\n",
    "                answer += hand[0].upper()\n",
    "                if hand == 'right':\n",
    "                    right = num\n",
    "                else:\n",
    "                    left = num\n",
    "    return answer"
   ]
  },
  {
   "cell_type": "code",
   "execution_count": 23,
   "id": "75493fe9",
   "metadata": {},
   "outputs": [],
   "source": [
    "def solution(numbers, hand):\n",
    "    dic = {'*': (0,0), \"0\": (1,0), \"#\": (2,0), '7': (0,1), '8': (1,1), '9': (2,1),\n",
    "          '4': (0,2), '5': (1,2), '6': (2,2), '1': (0,3), '2': (1,3), '3': (2,3)}\n",
    "    answer = ''\n",
    "    index = ['left','right']\n",
    "    start = ['*', '#']\n",
    "    for num in numbers:\n",
    "        if num in [1,4,7]:\n",
    "            answer += 'L'\n",
    "            start[0] = num\n",
    "        elif num in [3,6,9]:\n",
    "            answer += 'R'\n",
    "            start[1] = num\n",
    "        elif num in [2,5,8,0]:\n",
    "            a,b = dic[str(start[0])] \n",
    "            c,d = dic[str(start[1])] \n",
    "            e,f = dic[str(num)]\n",
    "            tmp = [(abs(a-e) + abs(b-f)), (abs(c-e) + abs(d-f))]\n",
    "            if len(set(tmp)) ==1:\n",
    "                answer += hand[0].upper()\n",
    "                start[index.index(hand)] = num\n",
    "            else:\n",
    "                answer += index[tmp.index(min(tmp))][0].upper()\n",
    "                start[tmp.index(min(tmp))] = num\n",
    "    return answer"
   ]
  },
  {
   "cell_type": "code",
   "execution_count": null,
   "id": "44576b31",
   "metadata": {},
   "outputs": [],
   "source": [
    "# 간략화\n",
    "def solution(numbers, hand):\n",
    "    dic = {'*': (0,0), \"0\": (1,0), \"#\": (2,0), '7': (0,1), '8': (1,1), '9': (2,1),\n",
    "          '4': (0,2), '5': (1,2), '6': (2,2), '1': (0,3), '2': (1,3), '3': (2,3)}\n",
    "    answer = ''\n",
    "    index = ['right', 'left']\n",
    "    start = ['#', '*']\n",
    "    for num in numbers:\n",
    "        if num in [2,5,8,0]:\n",
    "            a,b = dic[str(start[1])] \n",
    "            c,d = dic[str(start[0])] \n",
    "            e,f = dic[str(num)]\n",
    "            tmp = [(abs(c-e) + abs(d-f)), (abs(a-e) + abs(b-f))]\n",
    "            if len(set(tmp)) ==1:\n",
    "                answer += hand[0].upper()\n",
    "                start[index.index(hand)] = num\n",
    "            else:\n",
    "                answer += index[tmp.index(min(tmp))][0].upper()\n",
    "                start[tmp.index(min(tmp))] = num\n",
    "        else:\n",
    "            answer += index[num%3][0].upper()\n",
    "            start[num%3] = num\n",
    "    return answer"
   ]
  },
  {
   "cell_type": "code",
   "execution_count": 14,
   "id": "a4d2cb8d",
   "metadata": {},
   "outputs": [
    {
     "data": {
      "text/plain": [
       "2"
      ]
     },
     "execution_count": 14,
     "metadata": {},
     "output_type": "execute_result"
    }
   ],
   "source": [
    "min([2,3])"
   ]
  },
  {
   "cell_type": "code",
   "execution_count": 15,
   "id": "8cb644d4",
   "metadata": {},
   "outputs": [],
   "source": [
    "dic = {'*': (0,0), \"0\": (1,0), \"#\": (2,0), '7': (0,1), '8': (1,1), '9': (2,1),\n",
    "          '4': (0,2), '5': (1,2), '6': (2,2), '1': (0,3), '2': (1,3), '3': (2,3)}"
   ]
  },
  {
   "cell_type": "code",
   "execution_count": 17,
   "id": "4e255b36",
   "metadata": {},
   "outputs": [],
   "source": [
    "a,b = dic[\"4\"]"
   ]
  },
  {
   "cell_type": "code",
   "execution_count": 20,
   "id": "4573998a",
   "metadata": {},
   "outputs": [
    {
     "data": {
      "text/plain": [
       "2"
      ]
     },
     "execution_count": 20,
     "metadata": {},
     "output_type": "execute_result"
    }
   ],
   "source": [
    "abs(a-b)"
   ]
  },
  {
   "cell_type": "code",
   "execution_count": null,
   "id": "16a06079",
   "metadata": {},
   "outputs": [],
   "source": []
  }
 ],
 "metadata": {
  "kernelspec": {
   "display_name": "Python 3",
   "language": "python",
   "name": "python3"
  },
  "language_info": {
   "codemirror_mode": {
    "name": "ipython",
    "version": 3
   },
   "file_extension": ".py",
   "mimetype": "text/x-python",
   "name": "python",
   "nbconvert_exporter": "python",
   "pygments_lexer": "ipython3",
   "version": "3.8.11"
  },
  "toc": {
   "base_numbering": 1,
   "nav_menu": {},
   "number_sections": true,
   "sideBar": true,
   "skip_h1_title": false,
   "title_cell": "Table of Contents",
   "title_sidebar": "Contents",
   "toc_cell": false,
   "toc_position": {},
   "toc_section_display": true,
   "toc_window_display": false
  }
 },
 "nbformat": 4,
 "nbformat_minor": 5
}
