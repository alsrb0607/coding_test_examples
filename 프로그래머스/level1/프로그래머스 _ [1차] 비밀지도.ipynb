{
 "cells": [
  {
   "cell_type": "code",
   "execution_count": 5,
   "id": "6c501e38",
   "metadata": {},
   "outputs": [],
   "source": [
    "a = [9, 20, 28, 18, 11] ; b = [30, 1, 21, 17, 28]; n= 5"
   ]
  },
  {
   "cell_type": "code",
   "execution_count": 16,
   "id": "08554e23",
   "metadata": {},
   "outputs": [],
   "source": [
    "def solution(n, arr1, arr2):\n",
    "    answer = []\n",
    "    for x,y, in zip(arr1,arr2):\n",
    "        tmp = ''\n",
    "        for i in range(n):\n",
    "            res = x%2 + y%2\n",
    "            if res ==0:\n",
    "                tmp= ' ' + tmp\n",
    "            else:\n",
    "                tmp = '#' + tmp\n",
    "            x = x//2\n",
    "            y = y//2\n",
    "        answer.append(tmp)\n",
    "    return answer"
   ]
  },
  {
   "cell_type": "code",
   "execution_count": null,
   "id": "9faea3c3",
   "metadata": {},
   "outputs": [],
   "source": [
    "# 이진연산 bin과 오른쪽 정렬 rjust를 사용\n",
    "def solution(n, arr1, arr2):\n",
    "    answer = []\n",
    "    for i,j in zip(arr1,arr2):\n",
    "        a12 = str(bin(i|j)[2:])\n",
    "        a12=a12.rjust(n,'0')\n",
    "        a12=a12.replace('1','#')\n",
    "        a12=a12.replace('0',' ')\n",
    "        answer.append(a12)\n",
    "    return answer"
   ]
  },
  {
   "cell_type": "code",
   "execution_count": null,
   "id": "de1f60b8",
   "metadata": {},
   "outputs": [],
   "source": [
    "# 숫자 앞을 0으로 채워주는 zfill 함수 활용\n",
    "solution = lambda n, arr1, arr2: ([''.join(map(lambda x: '#' if x=='1' else ' ', \"{0:b}\".format(row).zfill(n))) for row in (a|b for a, b in zip(arr1, arr2))])"
   ]
  }
 ],
 "metadata": {
  "kernelspec": {
   "display_name": "Python 3",
   "language": "python",
   "name": "python3"
  },
  "language_info": {
   "codemirror_mode": {
    "name": "ipython",
    "version": 3
   },
   "file_extension": ".py",
   "mimetype": "text/x-python",
   "name": "python",
   "nbconvert_exporter": "python",
   "pygments_lexer": "ipython3",
   "version": "3.8.11"
  },
  "toc": {
   "base_numbering": 1,
   "nav_menu": {},
   "number_sections": true,
   "sideBar": true,
   "skip_h1_title": false,
   "title_cell": "Table of Contents",
   "title_sidebar": "Contents",
   "toc_cell": false,
   "toc_position": {},
   "toc_section_display": true,
   "toc_window_display": false
  }
 },
 "nbformat": 4,
 "nbformat_minor": 5
}
