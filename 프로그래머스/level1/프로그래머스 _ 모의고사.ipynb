{
 "cells": [
  {
   "cell_type": "code",
   "execution_count": 4,
   "id": "389d8883",
   "metadata": {
    "scrolled": true
   },
   "outputs": [
    {
     "data": {
      "text/plain": [
       "1"
      ]
     },
     "execution_count": 4,
     "metadata": {},
     "output_type": "execute_result"
    }
   ],
   "source": [
    "[num1, num2, num3].index(max(num3, num2, num1))"
   ]
  },
  {
   "cell_type": "code",
   "execution_count": 35,
   "id": "bad51991",
   "metadata": {},
   "outputs": [],
   "source": [
    "hate_math_1 = [1,2,3,4,5] * 2000\n",
    "hate_math_2 = [2,1,2,3,2,4,2,5] * 1250\n",
    "hate_math_3 = [3,3,1,1,2,2,4,4,5,5] * 1000\n",
    "def solution(answers):\n",
    "    answer = []\n",
    "    num = len(answers)\n",
    "    num1 = 0\n",
    "    num2 = 0\n",
    "    num3 = 0\n",
    "    for i in range(num):\n",
    "        if (hate_math_1[i] - answers[i]) ==0:\n",
    "            num1 = num1 + 1\n",
    "        if (hate_math_2[i] - answers[i]) ==0:\n",
    "            num2 = num2 + 1\n",
    "        if (hate_math_3[i] - answers[i]) ==0:\n",
    "            num3 = num3 + 1\n",
    "    max_num = max(num1, num2, num3)\n",
    "    num1 = num1 - max_num\n",
    "    num2 = num2 - max_num\n",
    "    num3 = num3 - max_num\n",
    "    print(num1, num2, num3)\n",
    "    if num1 ==0:\n",
    "        answer.append(1)\n",
    "    if num2 ==0:\n",
    "        answer.append(2)\n",
    "    if num3 ==0:\n",
    "        answer.append(3)\n",
    "    return answer"
   ]
  },
  {
   "cell_type": "code",
   "execution_count": 36,
   "id": "a01059ab",
   "metadata": {},
   "outputs": [
    {
     "name": "stdout",
     "output_type": "stream",
     "text": [
      "0 -3 -5\n"
     ]
    },
    {
     "data": {
      "text/plain": [
       "[1]"
      ]
     },
     "execution_count": 36,
     "metadata": {},
     "output_type": "execute_result"
    }
   ],
   "source": [
    "solution([1,3,2,4,2, 1,3,2,4,2, 1,3,2,4,2, 1,3,2,4,2, 1,3,2,4])"
   ]
  },
  {
   "cell_type": "code",
   "execution_count": null,
   "id": "d020c1ef",
   "metadata": {},
   "outputs": [],
   "source": []
  }
 ],
 "metadata": {
  "kernelspec": {
   "display_name": "Python 3",
   "language": "python",
   "name": "python3"
  },
  "language_info": {
   "codemirror_mode": {
    "name": "ipython",
    "version": 3
   },
   "file_extension": ".py",
   "mimetype": "text/x-python",
   "name": "python",
   "nbconvert_exporter": "python",
   "pygments_lexer": "ipython3",
   "version": "3.8.11"
  },
  "toc": {
   "base_numbering": 1,
   "nav_menu": {},
   "number_sections": true,
   "sideBar": true,
   "skip_h1_title": false,
   "title_cell": "Table of Contents",
   "title_sidebar": "Contents",
   "toc_cell": false,
   "toc_position": {},
   "toc_section_display": true,
   "toc_window_display": false
  }
 },
 "nbformat": 4,
 "nbformat_minor": 5
}
