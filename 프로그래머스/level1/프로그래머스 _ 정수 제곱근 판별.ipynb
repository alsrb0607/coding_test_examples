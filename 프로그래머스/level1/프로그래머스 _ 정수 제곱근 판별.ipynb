{
 "cells": [
  {
   "cell_type": "code",
   "execution_count": 4,
   "id": "b6c0fa8b",
   "metadata": {},
   "outputs": [
    {
     "data": {
      "text/plain": [
       "True"
      ]
     },
     "execution_count": 4,
     "metadata": {},
     "output_type": "execute_result"
    }
   ],
   "source": [
    "int(pow(9,0.5)) == 3"
   ]
  },
  {
   "cell_type": "code",
   "execution_count": 9,
   "id": "456e36b1",
   "metadata": {},
   "outputs": [],
   "source": [
    "def solution(n):\n",
    "    answer = [(pow(n, 0.5) +1)**2 if int(pow(n, 0.5))==pow(n, 0.5) else -1]\n",
    "    return int(answer[0])"
   ]
  },
  {
   "cell_type": "code",
   "execution_count": 27,
   "id": "df7373c4",
   "metadata": {},
   "outputs": [
    {
     "data": {
      "text/plain": [
       "False"
      ]
     },
     "execution_count": 27,
     "metadata": {},
     "output_type": "execute_result"
    }
   ],
   "source": [
    "solution(24)"
   ]
  },
  {
   "cell_type": "code",
   "execution_count": 25,
   "id": "a45df419",
   "metadata": {},
   "outputs": [],
   "source": [
    "def solution(n):\n",
    "    return n == int(n**.5)**2 and int(n**.5+1)**2"
   ]
  },
  {
   "cell_type": "code",
   "execution_count": 23,
   "id": "d9d88bff",
   "metadata": {},
   "outputs": [],
   "source": [
    "def solution(n):\n",
    "    return True and int(n**.5+1)**2 or -1"
   ]
  },
  {
   "cell_type": "code",
   "execution_count": null,
   "id": "db33956a",
   "metadata": {},
   "outputs": [],
   "source": []
  }
 ],
 "metadata": {
  "kernelspec": {
   "display_name": "Python 3",
   "language": "python",
   "name": "python3"
  },
  "language_info": {
   "codemirror_mode": {
    "name": "ipython",
    "version": 3
   },
   "file_extension": ".py",
   "mimetype": "text/x-python",
   "name": "python",
   "nbconvert_exporter": "python",
   "pygments_lexer": "ipython3",
   "version": "3.8.11"
  },
  "toc": {
   "base_numbering": 1,
   "nav_menu": {},
   "number_sections": true,
   "sideBar": true,
   "skip_h1_title": false,
   "title_cell": "Table of Contents",
   "title_sidebar": "Contents",
   "toc_cell": false,
   "toc_position": {},
   "toc_section_display": true,
   "toc_window_display": false
  }
 },
 "nbformat": 4,
 "nbformat_minor": 5
}
