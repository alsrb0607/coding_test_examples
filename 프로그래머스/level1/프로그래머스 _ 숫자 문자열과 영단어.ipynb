{
 "cells": [
  {
   "cell_type": "code",
   "execution_count": 62,
   "id": "dbe68518",
   "metadata": {},
   "outputs": [],
   "source": [
    "a = \"2three45sixsevenone\""
   ]
  },
  {
   "cell_type": "code",
   "execution_count": 63,
   "id": "74ee3d43",
   "metadata": {},
   "outputs": [],
   "source": [
    "import re\n",
    "b = re.compile(r\"[0-9]\")"
   ]
  },
  {
   "cell_type": "code",
   "execution_count": 64,
   "id": "58823b38",
   "metadata": {},
   "outputs": [
    {
     "data": {
      "text/plain": [
       "'2three45sixseven1'"
      ]
     },
     "execution_count": 64,
     "metadata": {},
     "output_type": "execute_result"
    }
   ],
   "source": [
    "a.replace(\"one\", \"1\")"
   ]
  },
  {
   "cell_type": "code",
   "execution_count": 65,
   "id": "447d1b6e",
   "metadata": {},
   "outputs": [
    {
     "data": {
      "text/plain": [
       "'2three45sixsevenone'"
      ]
     },
     "execution_count": 65,
     "metadata": {},
     "output_type": "execute_result"
    }
   ],
   "source": [
    "a"
   ]
  },
  {
   "cell_type": "code",
   "execution_count": 66,
   "id": "f7ba6a18",
   "metadata": {},
   "outputs": [],
   "source": [
    "def solution(s):\n",
    "    dicts = {\"one\" : \"1\", \n",
    "             'two' : \"2\", \n",
    "             'three' : '3',\n",
    "             'four' : '4',\n",
    "             'five' : '5',\n",
    "             \"six\" : '6',\n",
    "             'seven' : '7',\n",
    "             'eight' : '8',\n",
    "             'nine' : '9',\n",
    "             'zero' : '0'}\n",
    "    for keys in dicts.keys():\n",
    "        s = s.replace(keys, dicts[keys])\n",
    "    s = int(s)\n",
    "    return s"
   ]
  },
  {
   "cell_type": "code",
   "execution_count": 67,
   "id": "50d02bcd",
   "metadata": {},
   "outputs": [
    {
     "data": {
      "text/plain": [
       "1478"
      ]
     },
     "execution_count": 67,
     "metadata": {},
     "output_type": "execute_result"
    }
   ],
   "source": [
    "solution(\"one4seveneight\")"
   ]
  },
  {
   "cell_type": "code",
   "execution_count": 68,
   "id": "e49ea1eb",
   "metadata": {},
   "outputs": [
    {
     "data": {
      "text/plain": [
       "123"
      ]
     },
     "execution_count": 68,
     "metadata": {},
     "output_type": "execute_result"
    }
   ],
   "source": [
    "solution(\"123\")"
   ]
  },
  {
   "cell_type": "code",
   "execution_count": 69,
   "id": "9ca56709",
   "metadata": {},
   "outputs": [
    {
     "data": {
      "text/plain": [
       "1478"
      ]
     },
     "execution_count": 69,
     "metadata": {},
     "output_type": "execute_result"
    }
   ],
   "source": [
    "solution(\"one4seveneight\")"
   ]
  },
  {
   "cell_type": "code",
   "execution_count": null,
   "id": "4355577e",
   "metadata": {},
   "outputs": [],
   "source": []
  }
 ],
 "metadata": {
  "kernelspec": {
   "display_name": "Python 3",
   "language": "python",
   "name": "python3"
  },
  "language_info": {
   "codemirror_mode": {
    "name": "ipython",
    "version": 3
   },
   "file_extension": ".py",
   "mimetype": "text/x-python",
   "name": "python",
   "nbconvert_exporter": "python",
   "pygments_lexer": "ipython3",
   "version": "3.8.11"
  },
  "toc": {
   "base_numbering": 1,
   "nav_menu": {},
   "number_sections": true,
   "sideBar": true,
   "skip_h1_title": false,
   "title_cell": "Table of Contents",
   "title_sidebar": "Contents",
   "toc_cell": false,
   "toc_position": {},
   "toc_section_display": true,
   "toc_window_display": false
  }
 },
 "nbformat": 4,
 "nbformat_minor": 5
}
