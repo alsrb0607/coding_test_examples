{
 "cells": [
  {
   "cell_type": "code",
   "execution_count": null,
   "id": "c9245740",
   "metadata": {},
   "outputs": [],
   "source": [
    "def solution(a, b):\n",
    "    return sum(range(min(a,b),max(a,b)+1))"
   ]
  },
  {
   "cell_type": "code",
   "execution_count": null,
   "id": "b234cb58",
   "metadata": {},
   "outputs": [],
   "source": [
    "def solution(a, b):\n",
    "    return (abs(a-b)+1)*(a+b)//2"
   ]
  }
 ],
 "metadata": {
  "kernelspec": {
   "display_name": "Python 3",
   "language": "python",
   "name": "python3"
  },
  "language_info": {
   "codemirror_mode": {
    "name": "ipython",
    "version": 3
   },
   "file_extension": ".py",
   "mimetype": "text/x-python",
   "name": "python",
   "nbconvert_exporter": "python",
   "pygments_lexer": "ipython3",
   "version": "3.8.11"
  },
  "toc": {
   "base_numbering": 1,
   "nav_menu": {},
   "number_sections": true,
   "sideBar": true,
   "skip_h1_title": false,
   "title_cell": "Table of Contents",
   "title_sidebar": "Contents",
   "toc_cell": false,
   "toc_position": {},
   "toc_section_display": true,
   "toc_window_display": false
  }
 },
 "nbformat": 4,
 "nbformat_minor": 5
}
