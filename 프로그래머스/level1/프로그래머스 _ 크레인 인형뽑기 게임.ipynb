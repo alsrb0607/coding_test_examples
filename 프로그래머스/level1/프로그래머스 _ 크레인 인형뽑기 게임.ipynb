{
 "cells": [
  {
   "cell_type": "code",
   "execution_count": 29,
   "id": "f5515039",
   "metadata": {},
   "outputs": [],
   "source": [
    "def solution(board, moves):\n",
    "    answer = [-1]\n",
    "    cnt = 0\n",
    "    for move in moves:\n",
    "        for i in range(len(board)):\n",
    "            if board[i][move-1] !=0:\n",
    "                if board[i][move-1] == answer[-1]:\n",
    "                    answer.pop()\n",
    "                    cnt += 1\n",
    "                else:\n",
    "                    answer.append(board[i][move-1])\n",
    "                board[i][move-1] =0\n",
    "                break\n",
    "#         print(answer, cnt)\n",
    "    return 2*cnt"
   ]
  },
  {
   "cell_type": "code",
   "execution_count": 28,
   "id": "22d8a987",
   "metadata": {},
   "outputs": [
    {
     "name": "stdout",
     "output_type": "stream",
     "text": [
      "[-1, 4] 0\n",
      "[-1, 4, 3] 0\n",
      "[-1, 4, 3, 1] 0\n",
      "[-1, 4, 3] 1\n",
      "[-1, 4] 2\n",
      "[-1, 4, 2] 2\n",
      "[-1, 4, 2] 2\n",
      "[-1, 4, 2, 4] 2\n"
     ]
    },
    {
     "data": {
      "text/plain": [
       "4"
      ]
     },
     "execution_count": 28,
     "metadata": {},
     "output_type": "execute_result"
    }
   ],
   "source": [
    "solution([[0,0,0,0,0],[0,0,1,0,3],[0,2,5,0,1],[4,2,4,4,2],[3,5,1,3,1]], [1,5,3,5,1,2,1,4])"
   ]
  },
  {
   "cell_type": "code",
   "execution_count": null,
   "id": "d4bac229",
   "metadata": {},
   "outputs": [],
   "source": []
  }
 ],
 "metadata": {
  "kernelspec": {
   "display_name": "Python 3",
   "language": "python",
   "name": "python3"
  },
  "language_info": {
   "codemirror_mode": {
    "name": "ipython",
    "version": 3
   },
   "file_extension": ".py",
   "mimetype": "text/x-python",
   "name": "python",
   "nbconvert_exporter": "python",
   "pygments_lexer": "ipython3",
   "version": "3.8.11"
  },
  "toc": {
   "base_numbering": 1,
   "nav_menu": {},
   "number_sections": true,
   "sideBar": true,
   "skip_h1_title": false,
   "title_cell": "Table of Contents",
   "title_sidebar": "Contents",
   "toc_cell": false,
   "toc_position": {},
   "toc_section_display": true,
   "toc_window_display": false
  }
 },
 "nbformat": 4,
 "nbformat_minor": 5
}
