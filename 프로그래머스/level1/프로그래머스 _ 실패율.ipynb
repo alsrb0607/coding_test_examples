{
 "cells": [
  {
   "cell_type": "code",
   "execution_count": 1,
   "id": "492b99fc",
   "metadata": {},
   "outputs": [
    {
     "data": {
      "text/plain": [
       "[100, 5, 5, 5, 4, 3, 1]"
      ]
     },
     "execution_count": 1,
     "metadata": {},
     "output_type": "execute_result"
    }
   ],
   "source": [
    "a = [1,100,3,4,5,5,5]\n",
    "a.sort(reverse = True)\n",
    "a"
   ]
  },
  {
   "cell_type": "code",
   "execution_count": 2,
   "id": "966ebee7",
   "metadata": {},
   "outputs": [
    {
     "data": {
      "text/plain": [
       "[(3, 1000), (2, 100), (1, 50)]"
      ]
     },
     "execution_count": 2,
     "metadata": {},
     "output_type": "execute_result"
    }
   ],
   "source": [
    "aa = [(2, 100), (1, 50), (3, 1000)]\n",
    "aa.sort(reverse = True)\n",
    "aa"
   ]
  },
  {
   "cell_type": "code",
   "execution_count": 3,
   "id": "f45c8538",
   "metadata": {},
   "outputs": [
    {
     "data": {
      "text/plain": [
       "{1, 3, 4, 5, 100}"
      ]
     },
     "execution_count": 3,
     "metadata": {},
     "output_type": "execute_result"
    }
   ],
   "source": [
    "set(a)"
   ]
  },
  {
   "cell_type": "code",
   "execution_count": 4,
   "id": "07ca8f7e",
   "metadata": {},
   "outputs": [],
   "source": [
    "def solution(N, stages):\n",
    "    num = len(stages)\n",
    "    stage = list(set(stages))\n",
    "    answer = []\n",
    "    result = []\n",
    "    for i in range(1, stage[-1]+1):  \n",
    "        fail_ratio = stages.count(i)/num\n",
    "        num = num - stages.count(i)\n",
    "        answer.append(fail_ratio)\n",
    "    if len(answer) == N+1:\n",
    "        answer.remove(answer[-1])\n",
    "    temp = answer.copy()\n",
    "    answer.sort(reverse = True)\n",
    "    for i in range(len(answer)):\n",
    "        index = temp.index(answer[i]) +1\n",
    "        temp[index-1] = -1\n",
    "        result.append(index)\n",
    "    while True:\n",
    "        if max(result) < N:\n",
    "            result.append(max(result)+1)\n",
    "        else:\n",
    "            break\n",
    "    return result"
   ]
  },
  {
   "cell_type": "markdown",
   "id": "f5e7f0dd",
   "metadata": {},
   "source": [
    "강사님버전"
   ]
  },
  {
   "cell_type": "code",
   "execution_count": null,
   "id": "0161c3d6",
   "metadata": {},
   "outputs": [],
   "source": [
    "def solution(N, stage):\n",
    "    answer = []\n",
    "    flr = [0]*N\n",
    "    \n",
    "    for st in range(1,N+1):\n",
    "        p = 0\n",
    "        for usr in stage:\n",
    "            if usr >= st:\n",
    "                p += 1\n",
    "        #try:\n",
    "        if p != 0:\n",
    "            flr[st-1] = stage.count(st)/p\n",
    "        #except ZeroDivisionError:\n",
    "        #    pass\n",
    "    \n",
    "    for _ in range(N):\n",
    "        tmp = flr.index(max(flr))\n",
    "        answer.append(tmp+1)\n",
    "        flr[tmp] = -1\n",
    "    \n",
    "    return answer"
   ]
  }
 ],
 "metadata": {
  "kernelspec": {
   "display_name": "Python 3",
   "language": "python",
   "name": "python3"
  },
  "language_info": {
   "codemirror_mode": {
    "name": "ipython",
    "version": 3
   },
   "file_extension": ".py",
   "mimetype": "text/x-python",
   "name": "python",
   "nbconvert_exporter": "python",
   "pygments_lexer": "ipython3",
   "version": "3.8.11"
  },
  "toc": {
   "base_numbering": 1,
   "nav_menu": {},
   "number_sections": true,
   "sideBar": true,
   "skip_h1_title": false,
   "title_cell": "Table of Contents",
   "title_sidebar": "Contents",
   "toc_cell": false,
   "toc_position": {},
   "toc_section_display": true,
   "toc_window_display": false
  }
 },
 "nbformat": 4,
 "nbformat_minor": 5
}
