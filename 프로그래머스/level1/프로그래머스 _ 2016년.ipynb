{
 "cells": [
  {
   "cell_type": "code",
   "execution_count": 3,
   "id": "63fd2a18",
   "metadata": {},
   "outputs": [
    {
     "data": {
      "text/plain": [
       "[31, 29, 31, 30, 31]"
      ]
     },
     "execution_count": 3,
     "metadata": {},
     "output_type": "execute_result"
    }
   ],
   "source": [
    "[31,29,31,30,31,30,31,31,30,31,30,31][:5]"
   ]
  },
  {
   "cell_type": "code",
   "execution_count": null,
   "id": "a5161516",
   "metadata": {},
   "outputs": [],
   "source": [
    "def solution(a, b):\n",
    "    day = [\"FRI\",\"SAT\",'SUN','MON','TUE','WED','THU']\n",
    "    month = [31,29,31,30,31,30,31,31,30,31,30,31]\n",
    "    return day[(sum(month[:a-1]) +b-1)%7]"
   ]
  }
 ],
 "metadata": {
  "kernelspec": {
   "display_name": "Python 3",
   "language": "python",
   "name": "python3"
  },
  "language_info": {
   "codemirror_mode": {
    "name": "ipython",
    "version": 3
   },
   "file_extension": ".py",
   "mimetype": "text/x-python",
   "name": "python",
   "nbconvert_exporter": "python",
   "pygments_lexer": "ipython3",
   "version": "3.8.11"
  },
  "toc": {
   "base_numbering": 1,
   "nav_menu": {},
   "number_sections": true,
   "sideBar": true,
   "skip_h1_title": false,
   "title_cell": "Table of Contents",
   "title_sidebar": "Contents",
   "toc_cell": false,
   "toc_position": {},
   "toc_section_display": true,
   "toc_window_display": false
  }
 },
 "nbformat": 4,
 "nbformat_minor": 5
}
