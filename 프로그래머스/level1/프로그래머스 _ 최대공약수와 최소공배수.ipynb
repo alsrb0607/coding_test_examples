{
 "cells": [
  {
   "cell_type": "code",
   "execution_count": 2,
   "id": "b4299b2d",
   "metadata": {},
   "outputs": [],
   "source": [
    "def solution(n, m):\n",
    "    gcd = max([y for y in [x for x in range(1,n+1) if not n%x] if not m%y])\n",
    "    return [gcd, n*m/gcd]"
   ]
  },
  {
   "cell_type": "code",
   "execution_count": 3,
   "id": "2e14ad85",
   "metadata": {},
   "outputs": [],
   "source": [
    "def solution(n, m):\n",
    "    gcd = lambda a,b : b if not a%b else gcd(b, a%b)\n",
    "    lcm = lambda a,b : a*b//gcd(a,b)\n",
    "    return [gcd(n, m), lcm(n, m)]"
   ]
  },
  {
   "cell_type": "code",
   "execution_count": null,
   "id": "4260e5a7",
   "metadata": {},
   "outputs": [],
   "source": []
  }
 ],
 "metadata": {
  "kernelspec": {
   "display_name": "Python 3",
   "language": "python",
   "name": "python3"
  },
  "language_info": {
   "codemirror_mode": {
    "name": "ipython",
    "version": 3
   },
   "file_extension": ".py",
   "mimetype": "text/x-python",
   "name": "python",
   "nbconvert_exporter": "python",
   "pygments_lexer": "ipython3",
   "version": "3.8.11"
  },
  "toc": {
   "base_numbering": 1,
   "nav_menu": {},
   "number_sections": true,
   "sideBar": true,
   "skip_h1_title": false,
   "title_cell": "Table of Contents",
   "title_sidebar": "Contents",
   "toc_cell": false,
   "toc_position": {},
   "toc_section_display": true,
   "toc_window_display": false
  }
 },
 "nbformat": 4,
 "nbformat_minor": 5
}
