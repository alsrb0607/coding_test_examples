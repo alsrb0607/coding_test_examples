{
 "cells": [
  {
   "cell_type": "code",
   "execution_count": 45,
   "id": "9b83f6f2",
   "metadata": {},
   "outputs": [
    {
     "data": {
      "text/plain": [
       "5"
      ]
     },
     "execution_count": 45,
     "metadata": {},
     "output_type": "execute_result"
    }
   ],
   "source": [
    "a = [1,3,2,5,4]\n",
    "sorted(a).pop()"
   ]
  },
  {
   "cell_type": "code",
   "execution_count": 44,
   "id": "4ba99580",
   "metadata": {},
   "outputs": [
    {
     "data": {
      "text/plain": [
       "4"
      ]
     },
     "execution_count": 44,
     "metadata": {},
     "output_type": "execute_result"
    }
   ],
   "source": [
    "a.pop()"
   ]
  },
  {
   "cell_type": "code",
   "execution_count": 18,
   "id": "9397c80d",
   "metadata": {},
   "outputs": [],
   "source": [
    "b = sorted(a[:1])"
   ]
  },
  {
   "cell_type": "code",
   "execution_count": 19,
   "id": "f37780d0",
   "metadata": {},
   "outputs": [
    {
     "data": {
      "text/plain": [
       "[1]"
      ]
     },
     "execution_count": 19,
     "metadata": {},
     "output_type": "execute_result"
    }
   ],
   "source": [
    "b"
   ]
  },
  {
   "cell_type": "code",
   "execution_count": 20,
   "id": "b93b3a5a",
   "metadata": {},
   "outputs": [],
   "source": [
    "#실패\n",
    "def solution(d, budget):\n",
    "    i = 1\n",
    "    while sum(sorted(d)[:i]) < budget:\n",
    "        i +=1\n",
    "    return i-1"
   ]
  },
  {
   "cell_type": "code",
   "execution_count": 53,
   "id": "3843ed55",
   "metadata": {},
   "outputs": [
    {
     "name": "stdout",
     "output_type": "stream",
     "text": [
      "6\n",
      "4\n",
      "1\n",
      "-3\n"
     ]
    },
    {
     "data": {
      "text/plain": [
       "3"
      ]
     },
     "execution_count": 53,
     "metadata": {},
     "output_type": "execute_result"
    }
   ],
   "source": [
    "solution([1,3,2,5,4], 7)"
   ]
  },
  {
   "cell_type": "code",
   "execution_count": 54,
   "id": "fa323398",
   "metadata": {},
   "outputs": [
    {
     "name": "stdout",
     "output_type": "stream",
     "text": [
      "-1\n"
     ]
    },
    {
     "data": {
      "text/plain": [
       "0"
      ]
     },
     "execution_count": 54,
     "metadata": {},
     "output_type": "execute_result"
    }
   ],
   "source": [
    "solution([3,3,2,5,4], 1)"
   ]
  },
  {
   "cell_type": "code",
   "execution_count": 41,
   "id": "83af919d",
   "metadata": {},
   "outputs": [],
   "source": [
    "#실패\n",
    "def solution(d, budget):\n",
    "    if sum(d) == budget:\n",
    "        answer = len(d)\n",
    "    else:\n",
    "        for i in range(len(d)):\n",
    "            if sum(sorted(d)[:i+1]) > budget:\n",
    "                answer = i-1\n",
    "    return answer"
   ]
  },
  {
   "cell_type": "code",
   "execution_count": null,
   "id": "aa13d4c7",
   "metadata": {},
   "outputs": [],
   "source": [
    "def solution(d, budget):\n",
    "    if sum(d) <= budget:\n",
    "        cnt = len(d)\n",
    "    else:\n",
    "        cnt = -1\n",
    "        lst = sorted(d, reverse = True)\n",
    "        while (budget >= 0):\n",
    "            budget -= lst.pop()\n",
    "            print(budget)\n",
    "            cnt += 1\n",
    "            if cnt == len(d):\n",
    "                break\n",
    "    return cnt"
   ]
  }
 ],
 "metadata": {
  "kernelspec": {
   "display_name": "Python 3",
   "language": "python",
   "name": "python3"
  },
  "language_info": {
   "codemirror_mode": {
    "name": "ipython",
    "version": 3
   },
   "file_extension": ".py",
   "mimetype": "text/x-python",
   "name": "python",
   "nbconvert_exporter": "python",
   "pygments_lexer": "ipython3",
   "version": "3.8.11"
  },
  "toc": {
   "base_numbering": 1,
   "nav_menu": {},
   "number_sections": true,
   "sideBar": true,
   "skip_h1_title": false,
   "title_cell": "Table of Contents",
   "title_sidebar": "Contents",
   "toc_cell": false,
   "toc_position": {},
   "toc_section_display": true,
   "toc_window_display": false
  }
 },
 "nbformat": 4,
 "nbformat_minor": 5
}
