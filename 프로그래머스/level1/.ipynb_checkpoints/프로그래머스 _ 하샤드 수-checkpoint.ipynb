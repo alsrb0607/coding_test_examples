{
 "cells": [
  {
   "cell_type": "code",
   "execution_count": 2,
   "id": "4402552e",
   "metadata": {},
   "outputs": [
    {
     "data": {
      "text/plain": [
       "['1', '0']"
      ]
     },
     "execution_count": 2,
     "metadata": {},
     "output_type": "execute_result"
    }
   ],
   "source": [
    "list(\"10\")"
   ]
  },
  {
   "cell_type": "code",
   "execution_count": null,
   "id": "043714c0",
   "metadata": {},
   "outputs": [],
   "source": [
    "def solution(x):\n",
    "    return x % sum(map(lambda x: int(x), list(str(x)))) == 0"
   ]
  },
  {
   "cell_type": "code",
   "execution_count": 4,
   "id": "5856818a",
   "metadata": {},
   "outputs": [
    {
     "name": "stdout",
     "output_type": "stream",
     "text": [
      "1 3 4 1 3 1 3 9 4 8 7 8 3 9 0 1 4 7 8 "
     ]
    }
   ],
   "source": [
    "for x in \"1341313948783901478\":\n",
    "    print(x, end = ' ')"
   ]
  },
  {
   "cell_type": "code",
   "execution_count": null,
   "id": "d093d253",
   "metadata": {},
   "outputs": [],
   "source": [
    "def solution(n):\n",
    "    return n % sum([int(c) for c in str(n)]) == 0"
   ]
  }
 ],
 "metadata": {
  "kernelspec": {
   "display_name": "Python 3",
   "language": "python",
   "name": "python3"
  },
  "language_info": {
   "codemirror_mode": {
    "name": "ipython",
    "version": 3
   },
   "file_extension": ".py",
   "mimetype": "text/x-python",
   "name": "python",
   "nbconvert_exporter": "python",
   "pygments_lexer": "ipython3",
   "version": "3.8.11"
  },
  "toc": {
   "base_numbering": 1,
   "nav_menu": {},
   "number_sections": true,
   "sideBar": true,
   "skip_h1_title": false,
   "title_cell": "Table of Contents",
   "title_sidebar": "Contents",
   "toc_cell": false,
   "toc_position": {},
   "toc_section_display": true,
   "toc_window_display": false
  }
 },
 "nbformat": 4,
 "nbformat_minor": 5
}
