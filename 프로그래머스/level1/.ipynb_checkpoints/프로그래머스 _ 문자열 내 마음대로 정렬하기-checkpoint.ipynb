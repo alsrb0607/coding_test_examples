{
 "cells": [
  {
   "cell_type": "code",
   "execution_count": 96,
   "id": "acd3a719",
   "metadata": {},
   "outputs": [],
   "source": [
    "def countdown(n):\n",
    "    if n == 0:\n",
    "        print(\"Blastoff!\")\n",
    "    else:\n",
    "        print(n)\n",
    "        countdown(n-1)"
   ]
  },
  {
   "cell_type": "code",
   "execution_count": 97,
   "id": "1d4f515e",
   "metadata": {},
   "outputs": [
    {
     "name": "stdout",
     "output_type": "stream",
     "text": [
      "3\n",
      "2\n",
      "1\n",
      "Blastoff!\n"
     ]
    }
   ],
   "source": [
    "countdown(3)"
   ]
  },
  {
   "cell_type": "code",
   "execution_count": 55,
   "id": "399e88b5",
   "metadata": {},
   "outputs": [
    {
     "data": {
      "text/plain": [
       "['appqend1', 'appqend2']"
      ]
     },
     "execution_count": 55,
     "metadata": {},
     "output_type": "execute_result"
    }
   ],
   "source": [
    "sorted([\"appqend2\", \"appqend1\"])"
   ]
  },
  {
   "cell_type": "code",
   "execution_count": 59,
   "id": "f6bc0564",
   "metadata": {},
   "outputs": [
    {
     "data": {
      "text/plain": [
       "['b', 'a', 1, 2, 3]"
      ]
     },
     "execution_count": 59,
     "metadata": {},
     "output_type": "execute_result"
    }
   ],
   "source": [
    "d = [\"appqend2\", \"appqend1\",1,2,3]\n",
    "d[0:2] = ['b','a']\n",
    "d"
   ]
  },
  {
   "cell_type": "code",
   "execution_count": 65,
   "id": "f412e5d2",
   "metadata": {},
   "outputs": [
    {
     "data": {
      "text/plain": [
       "False"
      ]
     },
     "execution_count": 65,
     "metadata": {},
     "output_type": "execute_result"
    }
   ],
   "source": [
    "'car' < 'bed'"
   ]
  },
  {
   "cell_type": "code",
   "execution_count": 109,
   "id": "bd06ce35",
   "metadata": {},
   "outputs": [],
   "source": [
    "def solution(strings, n):\n",
    "    for x in range(len(strings)-1):    \n",
    "        i = 0\n",
    "        while i < len(strings)-1:\n",
    "            if strings[i][n] > strings[i+1][n]:\n",
    "                strings[i:i+2] = [strings[i+1], strings[i]]\n",
    "            elif (strings[i][n] == strings[i+1][n]) and (strings[i] > strings[i+1]):\n",
    "                strings[i:i+2] = [strings[i+1], strings[i]]\n",
    "            i += 1\n",
    "    return strings"
   ]
  },
  {
   "cell_type": "code",
   "execution_count": 110,
   "id": "130ec977",
   "metadata": {},
   "outputs": [
    {
     "data": {
      "text/plain": [
       "['car', 'bed', 'sun']"
      ]
     },
     "execution_count": 110,
     "metadata": {},
     "output_type": "execute_result"
    }
   ],
   "source": [
    "solution([\"sun\", \"bed\", \"car\"], 1)"
   ]
  },
  {
   "cell_type": "code",
   "execution_count": 100,
   "id": "dad1cbdc",
   "metadata": {},
   "outputs": [
    {
     "data": {
      "text/plain": [
       "['car', 'bed', 'sun']"
      ]
     },
     "execution_count": 100,
     "metadata": {},
     "output_type": "execute_result"
    }
   ],
   "source": [
    "solution(['bed', 'car', 'sun'], 1)"
   ]
  },
  {
   "cell_type": "code",
   "execution_count": 64,
   "id": "1c38e1f9",
   "metadata": {},
   "outputs": [
    {
     "data": {
      "text/plain": [
       "['abce', 'abcd', 'cdx']"
      ]
     },
     "execution_count": 64,
     "metadata": {},
     "output_type": "execute_result"
    }
   ],
   "source": [
    "solution([\"abce\", \"abcd\", \"cdx\"], 2)"
   ]
  },
  {
   "cell_type": "code",
   "execution_count": 111,
   "id": "6b5b2c26",
   "metadata": {},
   "outputs": [],
   "source": [
    "def solution(strings, n):\n",
    "    return sorted(sorted(strings), key=lambda x: x[n])"
   ]
  },
  {
   "cell_type": "code",
   "execution_count": 117,
   "id": "ed2217b9",
   "metadata": {},
   "outputs": [
    {
     "data": {
      "text/plain": [
       "[(0, 'c'), (1, 'd'), (2, 'a'), (3, 'x'), (4, 'b'), (5, 'i'), (6, 'c')]"
      ]
     },
     "execution_count": 117,
     "metadata": {},
     "output_type": "execute_result"
    }
   ],
   "source": [
    "list(enumerate(\"cdaxbic\"))"
   ]
  },
  {
   "cell_type": "code",
   "execution_count": 118,
   "id": "497c2639",
   "metadata": {
    "scrolled": true
   },
   "outputs": [
    {
     "data": {
      "text/plain": [
       "[(2, 'a'), (4, 'b'), (0, 'c'), (6, 'c'), (1, 'd'), (5, 'i'), (3, 'x')]"
      ]
     },
     "execution_count": 118,
     "metadata": {},
     "output_type": "execute_result"
    }
   ],
   "source": [
    "sorted(list(enumerate(\"cdaxbic\")), key = lambda x: x[1])"
   ]
  },
  {
   "cell_type": "code",
   "execution_count": null,
   "id": "b321eac7",
   "metadata": {},
   "outputs": [],
   "source": []
  }
 ],
 "metadata": {
  "kernelspec": {
   "display_name": "Python 3",
   "language": "python",
   "name": "python3"
  },
  "language_info": {
   "codemirror_mode": {
    "name": "ipython",
    "version": 3
   },
   "file_extension": ".py",
   "mimetype": "text/x-python",
   "name": "python",
   "nbconvert_exporter": "python",
   "pygments_lexer": "ipython3",
   "version": "3.8.11"
  },
  "toc": {
   "base_numbering": 1,
   "nav_menu": {},
   "number_sections": true,
   "sideBar": true,
   "skip_h1_title": false,
   "title_cell": "Table of Contents",
   "title_sidebar": "Contents",
   "toc_cell": false,
   "toc_position": {},
   "toc_section_display": true,
   "toc_window_display": false
  }
 },
 "nbformat": 4,
 "nbformat_minor": 5
}
