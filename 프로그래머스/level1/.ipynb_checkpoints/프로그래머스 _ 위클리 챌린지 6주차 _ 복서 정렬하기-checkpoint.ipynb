{
 "cells": [
  {
   "cell_type": "code",
   "execution_count": 5,
   "id": "5e6c4dae",
   "metadata": {},
   "outputs": [],
   "source": [
    "a = [(2,3),(1,2),(0,10),(0,9),(5,3),(2,7)]\n",
    "b = sorted(a, key = lambda x: (x[0], x[1]))"
   ]
  },
  {
   "cell_type": "code",
   "execution_count": 4,
   "id": "5edf5e4d",
   "metadata": {},
   "outputs": [
    {
     "data": {
      "text/plain": [
       "[(0, 10), (0, 9), (1, 2), (2, 7), (2, 3), (5, 3)]"
      ]
     },
     "execution_count": 4,
     "metadata": {},
     "output_type": "execute_result"
    }
   ],
   "source": [
    "b"
   ]
  },
  {
   "cell_type": "code",
   "execution_count": 43,
   "id": "1e596939",
   "metadata": {},
   "outputs": [],
   "source": [
    "weights = [50,82,75,120]\n",
    "head2head = [\"NLWL\",\"WNLL\",\"LWNW\",\"WWLN\"]"
   ]
  },
  {
   "cell_type": "code",
   "execution_count": 44,
   "id": "068fe423",
   "metadata": {},
   "outputs": [],
   "source": [
    "# 승률\n",
    "def win_rate(x):\n",
    "        if head2head[x-1].count('N') == len(weights):\n",
    "            return 0\n",
    "        else:\n",
    "            return head2head[x-1].count('W') / (len(weights) - head2head[x-1].count('N'))"
   ]
  },
  {
   "cell_type": "code",
   "execution_count": 45,
   "id": "f6980a36",
   "metadata": {},
   "outputs": [
    {
     "data": {
      "text/plain": [
       "-0.75"
      ]
     },
     "execution_count": 45,
     "metadata": {},
     "output_type": "execute_result"
    }
   ],
   "source": [
    "win_rate(1)"
   ]
  },
  {
   "cell_type": "code",
   "execution_count": 27,
   "id": "1a0f1486",
   "metadata": {},
   "outputs": [],
   "source": [
    "# 자기보다 무거운 몸무게 이긴 횟수\n",
    "def weight(x):\n",
    "    cnt = 0\n",
    "    for i in range(len(weights)):\n",
    "        if i == x-1:\n",
    "            pass\n",
    "        elif (weights[x-1] < weights[i]) and (head2head[x-1][i]) == 'W':\n",
    "            cnt += 1\n",
    "    return cnt"
   ]
  },
  {
   "cell_type": "code",
   "execution_count": 28,
   "id": "ca88d9c3",
   "metadata": {},
   "outputs": [
    {
     "name": "stdout",
     "output_type": "stream",
     "text": [
      "1\n",
      "0\n",
      "2\n",
      "0\n"
     ]
    }
   ],
   "source": [
    "for i in num:\n",
    "    print(weight(i))"
   ]
  },
  {
   "cell_type": "code",
   "execution_count": 29,
   "id": "409b80cb",
   "metadata": {},
   "outputs": [
    {
     "data": {
      "text/plain": [
       "[50, 82, 75, 120]"
      ]
     },
     "execution_count": 29,
     "metadata": {},
     "output_type": "execute_result"
    }
   ],
   "source": [
    "# 자신의 몸무게\n",
    "num =list(range(1, len(weights)+1))\n",
    "c = map(lambda x: weights[x-1], num)\n",
    "list(c)"
   ]
  },
  {
   "cell_type": "code",
   "execution_count": 42,
   "id": "63f82cb4",
   "metadata": {},
   "outputs": [],
   "source": [
    "# 승률 연산에 주의해야함\n",
    "def solution(weights, head2head):\n",
    "    def weight(x):\n",
    "        cnt = 0\n",
    "        for i in range(len(weights)):\n",
    "            if i == x-1:\n",
    "                continue\n",
    "            elif (weights[x-1] < weights[i]) and (head2head[x-1][i]) == 'W':\n",
    "                cnt += 1\n",
    "        return cnt\n",
    "    def win_rate(x):\n",
    "        if head2head[x-1].count('N') == len(weights):\n",
    "            return 0\n",
    "        else:\n",
    "            return head2head[x-1].count('W') / (len(weights) - head2head[x-1].count('N'))\n",
    "    num =list(range(1, len(weights)+1))\n",
    "    # key값으로 주는 함수의 중첩\n",
    "    # 마지막 번호는 내림차순이 아니라 오름차순이므로, 음수화\n",
    "    num = sorted(num, key = lambda x: (win_rate(x),\n",
    "                   weight(x), weights[x-1], -x), reverse = True)\n",
    "    return num"
   ]
  },
  {
   "cell_type": "code",
   "execution_count": 41,
   "id": "59832275",
   "metadata": {},
   "outputs": [
    {
     "data": {
      "text/plain": [
       "[3, 4, 1, 2]"
      ]
     },
     "execution_count": 41,
     "metadata": {},
     "output_type": "execute_result"
    }
   ],
   "source": [
    "solution([50,82,75,120], [\"NLWL\",\"WNLL\",\"LWNW\",\"WWLN\"])"
   ]
  },
  {
   "cell_type": "code",
   "execution_count": null,
   "id": "b079d135",
   "metadata": {},
   "outputs": [],
   "source": [
    "# 리스트 정렬이 요소 순으로 정렬함을 이용\n",
    "def solution(weights, head2head):\n",
    "    result = []\n",
    "    l = len(weights)\n",
    "    # 한 번에 정렬해서 풀어봅시다!\n",
    "    ans = [[0 for _ in range(4)] for _ in range(l)] # 승률, 무거운복서 이긴횟수, 자기 몸무게, 번호(음수로)\n",
    "    for i in range(l):\n",
    "        ans[i][2] = weights[i]\n",
    "        ans[i][3] = -(i+1)\n",
    "        cnt = 0 # 판수\n",
    "        for j in range(l):\n",
    "            if head2head[i][j] == 'W':\n",
    "                ans[i][0] += 1 # 일단 이김\n",
    "                cnt += 1\n",
    "                if weights[i] < weights[j]:\n",
    "                    ans[i][1] += 1 # 무거운 복서 이김\n",
    "            elif head2head[i][j] == 'L':\n",
    "                cnt += 1 # 판수만 늘려준다\n",
    "        if cnt == 0:\n",
    "            ans[i][0] = 0\n",
    "        else:\n",
    "            ans[i][0] /= cnt\n",
    "    ans.sort(reverse=True) # 역순으로 정렬하면 모든 조건이 한 번에 정렬된다\n",
    "\n",
    "    for i in range(l):\n",
    "        result.append(-ans[i][3])\n",
    "    return result"
   ]
  },
  {
   "cell_type": "code",
   "execution_count": 46,
   "id": "4fe2ef49",
   "metadata": {},
   "outputs": [
    {
     "data": {
      "text/plain": [
       "[[1, 2, 1], [1, 2, 3], [4, 5, 6], [10, 1, 1], [10, 1, 2], [10, 2, 3]]"
      ]
     },
     "execution_count": 46,
     "metadata": {},
     "output_type": "execute_result"
    }
   ],
   "source": [
    "a = [[10,2,3], [10,1,2], [10,1,1],[1,2,3],[1,2,1],[4,5,6]]\n",
    "a.sort()\n",
    "a"
   ]
  },
  {
   "cell_type": "code",
   "execution_count": null,
   "id": "6679b64c",
   "metadata": {},
   "outputs": [],
   "source": []
  }
 ],
 "metadata": {
  "kernelspec": {
   "display_name": "Python 3",
   "language": "python",
   "name": "python3"
  },
  "language_info": {
   "codemirror_mode": {
    "name": "ipython",
    "version": 3
   },
   "file_extension": ".py",
   "mimetype": "text/x-python",
   "name": "python",
   "nbconvert_exporter": "python",
   "pygments_lexer": "ipython3",
   "version": "3.8.11"
  },
  "toc": {
   "base_numbering": 1,
   "nav_menu": {},
   "number_sections": true,
   "sideBar": true,
   "skip_h1_title": false,
   "title_cell": "Table of Contents",
   "title_sidebar": "Contents",
   "toc_cell": false,
   "toc_position": {},
   "toc_section_display": true,
   "toc_window_display": false
  }
 },
 "nbformat": 4,
 "nbformat_minor": 5
}
