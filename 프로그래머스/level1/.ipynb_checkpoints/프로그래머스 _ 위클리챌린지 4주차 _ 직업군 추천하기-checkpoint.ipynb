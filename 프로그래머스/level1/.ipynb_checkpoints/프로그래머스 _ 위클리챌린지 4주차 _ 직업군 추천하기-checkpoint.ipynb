{
 "cells": [
  {
   "cell_type": "code",
   "execution_count": 2,
   "id": "8702d12b",
   "metadata": {},
   "outputs": [
    {
     "data": {
      "text/plain": [
       "'a'"
      ]
     },
     "execution_count": 2,
     "metadata": {},
     "output_type": "execute_result"
    }
   ],
   "source": [
    "min('a','b')"
   ]
  },
  {
   "cell_type": "code",
   "execution_count": 17,
   "id": "5ef94324",
   "metadata": {},
   "outputs": [],
   "source": [
    "table = [\"SI JAVA JAVASCRIPT SQL PYTHON C#\", \"CONTENTS JAVASCRIPT JAVA PYTHON SQL C++\", \"HARDWARE C C++ PYTHON JAVA JAVASCRIPT\", \"PORTAL JAVA JAVASCRIPT PYTHON KOTLIN PHP\", \"GAME C++ C# JAVASCRIPT C JAVA\"]\n",
    "languages = [\"PYTHON\", \"C++\", \"SQL\"]\n",
    "preference = [7, 5, 5]"
   ]
  },
  {
   "cell_type": "code",
   "execution_count": 7,
   "id": "913dd89e",
   "metadata": {},
   "outputs": [],
   "source": [
    "a = list(map(lambda x: x.split()[1:], table))\n",
    "b = list(map(lambda x: x.split()[0], table))"
   ]
  },
  {
   "cell_type": "code",
   "execution_count": 6,
   "id": "e5957e8e",
   "metadata": {},
   "outputs": [
    {
     "data": {
      "text/plain": [
       "[['JAVA', 'JAVASCRIPT', 'SQL', 'PYTHON', 'C#'],\n",
       " ['JAVASCRIPT', 'JAVA', 'PYTHON', 'SQL', 'C++'],\n",
       " ['C', 'C++', 'PYTHON', 'JAVA', 'JAVASCRIPT'],\n",
       " ['JAVA', 'JAVASCRIPT', 'PYTHON', 'KOTLIN', 'PHP'],\n",
       " ['C++', 'C#', 'JAVASCRIPT', 'C', 'JAVA']]"
      ]
     },
     "execution_count": 6,
     "metadata": {},
     "output_type": "execute_result"
    }
   ],
   "source": [
    "a"
   ]
  },
  {
   "cell_type": "code",
   "execution_count": 8,
   "id": "8909b70f",
   "metadata": {},
   "outputs": [
    {
     "data": {
      "text/plain": [
       "['SI', 'CONTENTS', 'HARDWARE', 'PORTAL', 'GAME']"
      ]
     },
     "execution_count": 8,
     "metadata": {},
     "output_type": "execute_result"
    }
   ],
   "source": [
    "b"
   ]
  },
  {
   "cell_type": "code",
   "execution_count": 15,
   "id": "8a52e091",
   "metadata": {},
   "outputs": [
    {
     "data": {
      "text/plain": [
       "[29, 36, 41, 21, 25]"
      ]
     },
     "execution_count": 15,
     "metadata": {},
     "output_type": "execute_result"
    }
   ],
   "source": [
    "tmp = []\n",
    "for i in range(5):\n",
    "    num = 0\n",
    "    for n, lang in enumerate(languages):\n",
    "        if lang not in a[i]:\n",
    "            pass\n",
    "        else:\n",
    "            num += (5 - a[i].index(lang))*preference[n]\n",
    "    tmp.append(num)"
   ]
  },
  {
   "cell_type": "code",
   "execution_count": 19,
   "id": "40882e01",
   "metadata": {},
   "outputs": [],
   "source": [
    "def solution(table, languages, preference):\n",
    "    lst = list(map(lambda x: x.split()[1:], table))\n",
    "    job = list(map(lambda x: x.split()[0], table))\n",
    "    tmp = []\n",
    "    for i in range(5):\n",
    "        num = 0\n",
    "        for n, lang in enumerate(languages):\n",
    "            if lang not in lst[i]:\n",
    "                pass\n",
    "            else:\n",
    "                num +=  - (5 - lst[i].index(lang))*preference[n]\n",
    "        tmp.append(num)\n",
    "    answer = [[x,y] for x,y in zip(tmp, job)]\n",
    "    return min(sorted(answer))[1]"
   ]
  },
  {
   "cell_type": "code",
   "execution_count": 21,
   "id": "68d73096",
   "metadata": {},
   "outputs": [
    {
     "data": {
      "text/plain": [
       "'HARDWARE'"
      ]
     },
     "execution_count": 21,
     "metadata": {},
     "output_type": "execute_result"
    }
   ],
   "source": [
    "min(sorted(solution(table, languages, preference)))[1]"
   ]
  },
  {
   "cell_type": "code",
   "execution_count": 29,
   "id": "c2498e77",
   "metadata": {},
   "outputs": [],
   "source": [
    "# 사전을 활용한 풀이\n",
    "def solution(table, languages, preference):\n",
    "    score = {}\n",
    "    for t in table:\n",
    "        for lang, pref in zip(languages, preference):\n",
    "            if lang in t.split():\n",
    "                score[t.split()[0]] = score.get(t.split()[0], 0) +  (6 - t.split().index(lang)) * pref\n",
    "    print(score)\n",
    "    return sorted(score.items(), key = lambda item: [-item[1], item[0]])[0][0]"
   ]
  },
  {
   "cell_type": "code",
   "execution_count": 30,
   "id": "78b50668",
   "metadata": {},
   "outputs": [
    {
     "name": "stdout",
     "output_type": "stream",
     "text": [
      "{'SI': 29, 'CONTENTS': 36, 'HARDWARE': 41, 'PORTAL': 21, 'GAME': 25}\n"
     ]
    },
    {
     "data": {
      "text/plain": [
       "'HARDWARE'"
      ]
     },
     "execution_count": 30,
     "metadata": {},
     "output_type": "execute_result"
    }
   ],
   "source": [
    "solution(table, languages, preference)"
   ]
  },
  {
   "cell_type": "code",
   "execution_count": null,
   "id": "787a8c77",
   "metadata": {},
   "outputs": [],
   "source": []
  }
 ],
 "metadata": {
  "kernelspec": {
   "display_name": "Python 3",
   "language": "python",
   "name": "python3"
  },
  "language_info": {
   "codemirror_mode": {
    "name": "ipython",
    "version": 3
   },
   "file_extension": ".py",
   "mimetype": "text/x-python",
   "name": "python",
   "nbconvert_exporter": "python",
   "pygments_lexer": "ipython3",
   "version": "3.8.11"
  },
  "toc": {
   "base_numbering": 1,
   "nav_menu": {},
   "number_sections": true,
   "sideBar": true,
   "skip_h1_title": false,
   "title_cell": "Table of Contents",
   "title_sidebar": "Contents",
   "toc_cell": false,
   "toc_position": {},
   "toc_section_display": true,
   "toc_window_display": false
  }
 },
 "nbformat": 4,
 "nbformat_minor": 5
}
