{
 "cells": [
  {
   "cell_type": "code",
   "execution_count": 44,
   "id": "f39dd666",
   "metadata": {},
   "outputs": [],
   "source": [
    "def solution(n):\n",
    "    lst = []\n",
    "    i = -1\n",
    "    while 3**(i+1) <= n :\n",
    "        i += 1\n",
    "    while i >= 0 :\n",
    "        if n - (3**i)*2 >= 0:\n",
    "            n -= (3**i)*2\n",
    "            lst.append(2)\n",
    "        elif n - (3**i)>= 0:\n",
    "            n -= (3**i)\n",
    "            lst.append(1)\n",
    "        else:\n",
    "            lst.append(0)\n",
    "        i -= 1\n",
    "    cnt = len(lst)\n",
    "    answer = 0\n",
    "    while cnt >= 0 :\n",
    "        cnt -= 1\n",
    "        answer += (3**cnt) * lst[cnt]\n",
    "    return int(answer)"
   ]
  },
  {
   "cell_type": "code",
   "execution_count": 45,
   "id": "f5e39d77",
   "metadata": {},
   "outputs": [
    {
     "data": {
      "text/plain": [
       "229"
      ]
     },
     "execution_count": 45,
     "metadata": {},
     "output_type": "execute_result"
    }
   ],
   "source": [
    "solution(125)"
   ]
  },
  {
   "cell_type": "code",
   "execution_count": 50,
   "id": "b24fa5c4",
   "metadata": {},
   "outputs": [],
   "source": [
    "# 프로그래머스 코드\n",
    "def solution(n):\n",
    "    tmp = ''\n",
    "    while n:\n",
    "        tmp += str(n % 3)\n",
    "        print(\"tmp\", tmp)\n",
    "        n = n // 3\n",
    "        print('n',n)\n",
    "\n",
    "    answer = int(tmp, 3)\n",
    "    return answer"
   ]
  },
  {
   "cell_type": "code",
   "execution_count": 51,
   "id": "cdee17c2",
   "metadata": {},
   "outputs": [
    {
     "name": "stdout",
     "output_type": "stream",
     "text": [
      "tmp 2\n",
      "n 41\n",
      "tmp 22\n",
      "n 13\n",
      "tmp 221\n",
      "n 4\n",
      "tmp 2211\n",
      "n 1\n",
      "tmp 22111\n",
      "n 0\n"
     ]
    },
    {
     "data": {
      "text/plain": [
       "229"
      ]
     },
     "execution_count": 51,
     "metadata": {},
     "output_type": "execute_result"
    }
   ],
   "source": [
    "solution(125)"
   ]
  },
  {
   "cell_type": "code",
   "execution_count": 56,
   "id": "72ffa1c6",
   "metadata": {},
   "outputs": [
    {
     "data": {
      "text/plain": [
       "9"
      ]
     },
     "execution_count": 56,
     "metadata": {},
     "output_type": "execute_result"
    }
   ],
   "source": [
    "int(\"100\",3)"
   ]
  },
  {
   "cell_type": "code",
   "execution_count": null,
   "id": "bc7d4760",
   "metadata": {},
   "outputs": [],
   "source": []
  }
 ],
 "metadata": {
  "kernelspec": {
   "display_name": "Python 3",
   "language": "python",
   "name": "python3"
  },
  "language_info": {
   "codemirror_mode": {
    "name": "ipython",
    "version": 3
   },
   "file_extension": ".py",
   "mimetype": "text/x-python",
   "name": "python",
   "nbconvert_exporter": "python",
   "pygments_lexer": "ipython3",
   "version": "3.8.11"
  },
  "toc": {
   "base_numbering": 1,
   "nav_menu": {},
   "number_sections": true,
   "sideBar": true,
   "skip_h1_title": false,
   "title_cell": "Table of Contents",
   "title_sidebar": "Contents",
   "toc_cell": false,
   "toc_position": {},
   "toc_section_display": true,
   "toc_window_display": false
  }
 },
 "nbformat": 4,
 "nbformat_minor": 5
}
