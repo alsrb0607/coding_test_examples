{
 "cells": [
  {
   "cell_type": "code",
   "execution_count": 9,
   "id": "6706f1b6",
   "metadata": {},
   "outputs": [],
   "source": [
    "[0,1,2,3].remove(0)"
   ]
  },
  {
   "cell_type": "code",
   "execution_count": 90,
   "id": "18853e9c",
   "metadata": {},
   "outputs": [],
   "source": [
    "def solution(n):\n",
    "    answer = [x for x in range(2,n+1) if 0 not in ([x%i for i in range(2, x)])]\n",
    "    return answer"
   ]
  },
  {
   "cell_type": "code",
   "execution_count": 87,
   "id": "2154562f",
   "metadata": {},
   "outputs": [],
   "source": [
    "def solution(n):\n",
    "    answer = [2,3]\n",
    "    for x in range(4,n+1): \n",
    "        cnt = 1\n",
    "        for i in range(2, int(x**(0.5)+1)):\n",
    "            cnt = cnt * (x%i)\n",
    "        if cnt !=0:\n",
    "            answer.append(x)\n",
    "    return answer"
   ]
  },
  {
   "cell_type": "code",
   "execution_count": 91,
   "id": "bdbb1462",
   "metadata": {},
   "outputs": [
    {
     "data": {
      "text/plain": [
       "[2, 3, 5, 7]"
      ]
     },
     "execution_count": 91,
     "metadata": {},
     "output_type": "execute_result"
    }
   ],
   "source": [
    "solution(10)"
   ]
  },
  {
   "cell_type": "code",
   "execution_count": 83,
   "id": "5e3072b5",
   "metadata": {},
   "outputs": [],
   "source": [
    "def solution(n):\n",
    "    prime = []\n",
    "    if n == 1:\n",
    "        pass\n",
    "    else:\n",
    "        for i in range(2, n+1):\n",
    "            cnt = 0\n",
    "            for n in range(2,int(i**(0.5)+1)):\n",
    "                if i%n ==0:\n",
    "                    cnt +=1\n",
    "                    break\n",
    "            if cnt ==0:\n",
    "                prime.append(i)\n",
    "    return(prime)"
   ]
  },
  {
   "cell_type": "code",
   "execution_count": null,
   "id": "439199c2",
   "metadata": {},
   "outputs": [],
   "source": [
    "def solution(n):\n",
    "    num=set(range(2,n+1))\n",
    "\n",
    "    for i in range(2,n+1):\n",
    "        if i in num:\n",
    "            num-=set(range(2*i,n+1,i))\n",
    "    return len(num)"
   ]
  }
 ],
 "metadata": {
  "kernelspec": {
   "display_name": "Python 3",
   "language": "python",
   "name": "python3"
  },
  "language_info": {
   "codemirror_mode": {
    "name": "ipython",
    "version": 3
   },
   "file_extension": ".py",
   "mimetype": "text/x-python",
   "name": "python",
   "nbconvert_exporter": "python",
   "pygments_lexer": "ipython3",
   "version": "3.8.11"
  },
  "toc": {
   "base_numbering": 1,
   "nav_menu": {},
   "number_sections": true,
   "sideBar": true,
   "skip_h1_title": false,
   "title_cell": "Table of Contents",
   "title_sidebar": "Contents",
   "toc_cell": false,
   "toc_position": {},
   "toc_section_display": true,
   "toc_window_display": false
  }
 },
 "nbformat": 4,
 "nbformat_minor": 5
}
