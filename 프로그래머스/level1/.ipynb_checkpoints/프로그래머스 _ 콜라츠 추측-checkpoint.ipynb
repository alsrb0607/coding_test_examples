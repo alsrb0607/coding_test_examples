{
 "cells": [
  {
   "cell_type": "code",
   "execution_count": 1,
   "id": "4a5317de",
   "metadata": {},
   "outputs": [],
   "source": [
    "def solution(num):\n",
    "    cnt = 0\n",
    "    while num != 1:\n",
    "        cnt +=1\n",
    "        if num%2:\n",
    "            num = num*3 +1\n",
    "        else:\n",
    "            num = num/2\n",
    "        if cnt == 500:\n",
    "            break\n",
    "    return cnt ==500 and -1 or cnt"
   ]
  },
  {
   "cell_type": "code",
   "execution_count": 2,
   "id": "0ab1e6cc",
   "metadata": {},
   "outputs": [],
   "source": [
    "def solution(num):\n",
    "    cnt = 0\n",
    "    while num != 1:\n",
    "        cnt +=1\n",
    "        num = num*3 +1  if num%2 else num/2\n",
    "        if cnt == 500:\n",
    "            break\n",
    "    return cnt ==500 and -1 or cnt"
   ]
  },
  {
   "cell_type": "code",
   "execution_count": null,
   "id": "4329d3ce",
   "metadata": {},
   "outputs": [],
   "source": []
  }
 ],
 "metadata": {
  "kernelspec": {
   "display_name": "Python 3",
   "language": "python",
   "name": "python3"
  },
  "language_info": {
   "codemirror_mode": {
    "name": "ipython",
    "version": 3
   },
   "file_extension": ".py",
   "mimetype": "text/x-python",
   "name": "python",
   "nbconvert_exporter": "python",
   "pygments_lexer": "ipython3",
   "version": "3.8.11"
  },
  "toc": {
   "base_numbering": 1,
   "nav_menu": {},
   "number_sections": true,
   "sideBar": true,
   "skip_h1_title": false,
   "title_cell": "Table of Contents",
   "title_sidebar": "Contents",
   "toc_cell": false,
   "toc_position": {},
   "toc_section_display": true,
   "toc_window_display": false
  }
 },
 "nbformat": 4,
 "nbformat_minor": 5
}
