{
 "cells": [
  {
   "cell_type": "code",
   "execution_count": 2,
   "id": "ea271489",
   "metadata": {},
   "outputs": [
    {
     "data": {
      "text/plain": [
       "True"
      ]
     },
     "execution_count": 2,
     "metadata": {},
     "output_type": "execute_result"
    }
   ],
   "source": [
    "3< 4 < 5"
   ]
  },
  {
   "cell_type": "code",
   "execution_count": 14,
   "id": "0c030376",
   "metadata": {},
   "outputs": [],
   "source": [
    "def solution(scores):\n",
    "    score = [[scores[i][j] for i in range(len(scores))] for j in range(len(scores)) ]\n",
    "    # score = [ [i[j] for i in scores] for j in range(len(scores))] 도 같은 표현\n",
    "    tmp = []\n",
    "    for i in range(len(score)):\n",
    "        if not (min(score[i]) < score[i][i] < max(score[i])) and (score[i].count(score[i][i]) == 1):\n",
    "            tmp.append((sum(score[i]) - score[i][i]) /(len(score) - 1))\n",
    "        else:\n",
    "            tmp.append(sum(score[i]) / len(score))\n",
    "    answer = ''\n",
    "    for num in tmp:\n",
    "        if num >= 90:\n",
    "            answer += 'A'\n",
    "        elif num >= 80:\n",
    "            answer += 'B'\n",
    "        elif num >= 70:\n",
    "            answer += 'C'\n",
    "        elif num >= 50:\n",
    "            answer += 'D'\n",
    "        else:\n",
    "            answer += 'F'\n",
    "    return answer"
   ]
  },
  {
   "cell_type": "code",
   "execution_count": 15,
   "id": "973fd8e3",
   "metadata": {},
   "outputs": [
    {
     "data": {
      "text/plain": [
       "'FBABD'"
      ]
     },
     "execution_count": 15,
     "metadata": {},
     "output_type": "execute_result"
    }
   ],
   "source": [
    "solution([[100,90,98,88,65],[50,45,99,85,77],[47,88,95,80,67],[61,57,100,80,65],[24,90,94,75,65]])"
   ]
  },
  {
   "cell_type": "code",
   "execution_count": null,
   "id": "805e62bf",
   "metadata": {},
   "outputs": [],
   "source": [
    "def solution(scores):\n",
    "    score = [[scores[i][j] for i in range(len(scores))] for j in range(len(scores)) ]\n",
    "    # score = [ [i[j] for i in scores] for j in range(len(scores))] 도 같은 표현\n",
    "    tmp = []\n",
    "    for i in range(len(score)):\n",
    "        if not (min(score[i]) < score[i][i] < max(score[i])) and (score[i].count(score[i][i]) == 1):\n",
    "            tmp.append((sum(score[i]) - score[i][i]) /(len(score) - 1))\n",
    "        else:\n",
    "            tmp.append(sum(score[i]) / len(score))\n",
    "    answer = ''\n",
    "    # 서식 지정자의 활용\n",
    "    for avg in tmp:\n",
    "        answer += \"%s\" % (\n",
    "                \"A\" if 90 <= avg else\n",
    "                \"B\" if 80 <= avg else\n",
    "                \"C\" if 70 <= avg else\n",
    "                \"D\" if 50 <= avg else\n",
    "                \"F\"\n",
    "            )\n",
    "    return answer"
   ]
  }
 ],
 "metadata": {
  "kernelspec": {
   "display_name": "Python 3",
   "language": "python",
   "name": "python3"
  },
  "language_info": {
   "codemirror_mode": {
    "name": "ipython",
    "version": 3
   },
   "file_extension": ".py",
   "mimetype": "text/x-python",
   "name": "python",
   "nbconvert_exporter": "python",
   "pygments_lexer": "ipython3",
   "version": "3.8.11"
  },
  "toc": {
   "base_numbering": 1,
   "nav_menu": {},
   "number_sections": true,
   "sideBar": true,
   "skip_h1_title": false,
   "title_cell": "Table of Contents",
   "title_sidebar": "Contents",
   "toc_cell": false,
   "toc_position": {},
   "toc_section_display": true,
   "toc_window_display": false
  }
 },
 "nbformat": 4,
 "nbformat_minor": 5
}
