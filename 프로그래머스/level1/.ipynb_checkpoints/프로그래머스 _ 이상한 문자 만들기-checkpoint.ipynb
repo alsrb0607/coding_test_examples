{
 "cells": [
  {
   "cell_type": "code",
   "execution_count": 79,
   "id": "fd636879",
   "metadata": {},
   "outputs": [
    {
     "name": "stdout",
     "output_type": "stream",
     "text": [
      "0 a\n",
      "1 b\n",
      "2 c\n",
      "3 d\n",
      "4 e\n"
     ]
    }
   ],
   "source": [
    "for a ,b in enumerate('abcde'):\n",
    "    print(a,b)"
   ]
  },
  {
   "cell_type": "code",
   "execution_count": 75,
   "id": "d05f8c44",
   "metadata": {},
   "outputs": [],
   "source": [
    "def solution(s):\n",
    "    answer = []\n",
    "    for word in s.split(' '):\n",
    "        tmp = ''.join([x.upper() if (i+1)%2 else x.lower() for i,x in enumerate(list(word))])\n",
    "        answer.append(tmp)\n",
    "    return ' '.join(answer)"
   ]
  },
  {
   "cell_type": "code",
   "execution_count": 76,
   "id": "90eec5c0",
   "metadata": {},
   "outputs": [
    {
     "data": {
      "text/plain": [
       "'  BbBbBbBb     BbBbBtRy    HeLlO WoRlD In KoR    Ea AaAaAaAaAa'"
      ]
     },
     "execution_count": 76,
     "metadata": {},
     "output_type": "execute_result"
    }
   ],
   "source": [
    "solution(\"  BBBBBBBB     BBBBBtry    hello world in Kor    ea aaaaaaaaaa\")"
   ]
  },
  {
   "cell_type": "code",
   "execution_count": 67,
   "id": "22f561bb",
   "metadata": {},
   "outputs": [
    {
     "data": {
      "text/plain": [
       "'A B C D E Ff GgG Hh EqFwEcQw EdQ Q'"
      ]
     },
     "execution_count": 67,
     "metadata": {},
     "output_type": "execute_result"
    }
   ],
   "source": [
    "solution(\"a b c d e ff ggg hh eqfwecqw edq q\")"
   ]
  },
  {
   "cell_type": "code",
   "execution_count": null,
   "id": "4fbcfc1a",
   "metadata": {},
   "outputs": [],
   "source": [
    "def solution(s):\n",
    "    return \" \".join(map(lambda x: \"\".join([a.lower() if i % 2 else a.upper() for i, a in enumerate(x)]), s.split(\" \")))\n"
   ]
  }
 ],
 "metadata": {
  "kernelspec": {
   "display_name": "Python 3",
   "language": "python",
   "name": "python3"
  },
  "language_info": {
   "codemirror_mode": {
    "name": "ipython",
    "version": 3
   },
   "file_extension": ".py",
   "mimetype": "text/x-python",
   "name": "python",
   "nbconvert_exporter": "python",
   "pygments_lexer": "ipython3",
   "version": "3.8.11"
  },
  "toc": {
   "base_numbering": 1,
   "nav_menu": {},
   "number_sections": true,
   "sideBar": true,
   "skip_h1_title": false,
   "title_cell": "Table of Contents",
   "title_sidebar": "Contents",
   "toc_cell": false,
   "toc_position": {},
   "toc_section_display": true,
   "toc_window_display": false
  }
 },
 "nbformat": 4,
 "nbformat_minor": 5
}
