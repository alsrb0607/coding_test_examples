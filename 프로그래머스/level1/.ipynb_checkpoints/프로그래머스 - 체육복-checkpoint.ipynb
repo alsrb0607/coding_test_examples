{
 "cells": [
  {
   "cell_type": "code",
   "execution_count": 25,
   "id": "c5935b22",
   "metadata": {},
   "outputs": [],
   "source": [
    "# 배치 순서에 따라 달라져 문제가 생김\n",
    "def solution(n, lost, reserve):\n",
    "    lost.sort()\n",
    "    reserve.sort()\n",
    "    for x in reserve:\n",
    "        if x in lost:\n",
    "            lost.remove(x)\n",
    "        elif x-1 in lost:\n",
    "            lost.remove(x-1)\n",
    "        elif x+1 in lost:\n",
    "            lost.remove(x+1)\n",
    "    return n - len(lost)"
   ]
  },
  {
   "cell_type": "code",
   "execution_count": 67,
   "id": "b0709fd2",
   "metadata": {},
   "outputs": [
    {
     "data": {
      "text/plain": [
       "({2}, {1, 3}, [5], [])"
      ]
     },
     "execution_count": 67,
     "metadata": {},
     "output_type": "execute_result"
    }
   ],
   "source": [
    "solution(5, [2,5],[1,3,4])"
   ]
  },
  {
   "cell_type": "code",
   "execution_count": 35,
   "id": "c7b547ab",
   "metadata": {},
   "outputs": [
    {
     "data": {
      "text/plain": [
       "[4, 2]"
      ]
     },
     "execution_count": 35,
     "metadata": {},
     "output_type": "execute_result"
    }
   ],
   "source": [
    "solution(5, [2,4],[1,3])"
   ]
  },
  {
   "cell_type": "code",
   "execution_count": 55,
   "id": "0afcbb05",
   "metadata": {},
   "outputs": [
    {
     "data": {
      "text/plain": [
       "({10}, {8}, [], [])"
      ]
     },
     "execution_count": 55,
     "metadata": {},
     "output_type": "execute_result"
    }
   ],
   "source": [
    "solution(10,[3,9,10],[3,8,9])"
   ]
  },
  {
   "cell_type": "code",
   "execution_count": 18,
   "id": "41287d38",
   "metadata": {},
   "outputs": [
    {
     "data": {
      "text/plain": [
       "[2, 4]"
      ]
     },
     "execution_count": 18,
     "metadata": {},
     "output_type": "execute_result"
    }
   ],
   "source": [
    "sorted([4,2])"
   ]
  },
  {
   "cell_type": "code",
   "execution_count": 63,
   "id": "346c51ac",
   "metadata": {},
   "outputs": [],
   "source": [
    "def solution(n, lost, reserve):\n",
    "    lost ,reserve = set(lost) - set(reserve) , set(reserve) - set(lost)\n",
    "    tmp1 = [x for x in lost if (x-1 in reserve) and (x+1  not in reserve)]\n",
    "    lost ,reserve = set(lost) - set(tmp1) , set(reserve) - set(map(lambda x : x-1, tmp1))\n",
    "    tmp2 = [x for x in lost if (x-1 not in reserve) and (x+1  in reserve)]\n",
    "    lost ,reserve = set(lost) - set(tmp2) , set(reserve) - set(map(lambda x : x+1, tmp2))\n",
    "    tmp3 = [x for x in lost if (x-1 in reserve) or (x+1 in reserve)]\n",
    "    return n - len(lost) + len(tmp3)"
   ]
  },
  {
   "cell_type": "code",
   "execution_count": null,
   "id": "06368cfd",
   "metadata": {},
   "outputs": [],
   "source": [
    "def solution(n, lost, reserve):\n",
    "    lost ,reserve = list(set(lost) - set(reserve)) , list(set(reserve) - set(lost))\n",
    "    for r in reserve:\n",
    "        f = r - 1\n",
    "        b = r + 1\n",
    "        if f in lost:\n",
    "            lost.remove(f)\n",
    "        elif b in lost:\n",
    "            lost.remove(b)\n",
    "    return n - len(lost)"
   ]
  }
 ],
 "metadata": {
  "kernelspec": {
   "display_name": "Python 3",
   "language": "python",
   "name": "python3"
  },
  "language_info": {
   "codemirror_mode": {
    "name": "ipython",
    "version": 3
   },
   "file_extension": ".py",
   "mimetype": "text/x-python",
   "name": "python",
   "nbconvert_exporter": "python",
   "pygments_lexer": "ipython3",
   "version": "3.8.11"
  },
  "toc": {
   "base_numbering": 1,
   "nav_menu": {},
   "number_sections": true,
   "sideBar": true,
   "skip_h1_title": false,
   "title_cell": "Table of Contents",
   "title_sidebar": "Contents",
   "toc_cell": false,
   "toc_position": {},
   "toc_section_display": true,
   "toc_window_display": false
  }
 },
 "nbformat": 4,
 "nbformat_minor": 5
}
