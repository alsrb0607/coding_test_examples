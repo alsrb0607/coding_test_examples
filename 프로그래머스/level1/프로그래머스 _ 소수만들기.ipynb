{
 "cells": [
  {
   "cell_type": "code",
   "execution_count": 1,
   "id": "78d5a3f6",
   "metadata": {},
   "outputs": [],
   "source": [
    "a = [2,5,23,15,17,52,43,51]"
   ]
  },
  {
   "cell_type": "code",
   "execution_count": 2,
   "id": "0b7c9091",
   "metadata": {},
   "outputs": [],
   "source": [
    "a.sort()"
   ]
  },
  {
   "cell_type": "code",
   "execution_count": 75,
   "id": "ffa8d864",
   "metadata": {},
   "outputs": [
    {
     "data": {
      "text/plain": [
       "[2, 5, 15, 17, 23, 43, 51, 52]"
      ]
     },
     "execution_count": 75,
     "metadata": {},
     "output_type": "execute_result"
    }
   ],
   "source": [
    "a"
   ]
  },
  {
   "cell_type": "code",
   "execution_count": 85,
   "id": "d39776a1",
   "metadata": {},
   "outputs": [
    {
     "name": "stdout",
     "output_type": "stream",
     "text": [
      "56\n"
     ]
    }
   ],
   "source": [
    "lst = []\n",
    "for i in range(len(a)):\n",
    "        for j in range(i):\n",
    "            for k in range(j):\n",
    "                lst.append((i,j,k))\n",
    "print(len(lst))"
   ]
  },
  {
   "cell_type": "markdown",
   "id": "086e4205",
   "metadata": {},
   "source": [
    "[문제 설명]\n",
    "\n",
    "주어진 숫자 중 3개의 수를 더했을 때 소수가 되는 경우의 개수를 구하려고 합니다. 숫자들이 들어있는 배열 nums가 매개변수로 주어질 때, nums에 있는 숫자들 중 서로 다른 3개를 골라 더했을 때 소수가 되는 경우의 개수를 return 하도록 solution 함수를 완성해주세요.\n",
    "\n",
    "[제약 조건]\n",
    "\n",
    "nums에 들어있는 숫자의 개수는 3개 이상 50개 이하입니다.\n",
    "nums의 각 원소는 1 이상 1,000 이하의 자연수이며, 중복된 숫자가 들어있지 않습니다."
   ]
  },
  {
   "cell_type": "code",
   "execution_count": 72,
   "id": "e7c689eb",
   "metadata": {},
   "outputs": [],
   "source": [
    "def solution(a):\n",
    "    # 정렬 후 가능한 최소합과 최대합 구하기\n",
    "    a.sort()\n",
    "    minn = sum(a[:2])\n",
    "    minn = min(7, minn)\n",
    "    maxx = sum(a[-3:])\n",
    "    # 소수들의 리스트\n",
    "    prime = []\n",
    "    for i in range(7, maxx+1):\n",
    "        cnt = 0\n",
    "        for n in range(2,i):\n",
    "            if i%n ==0:\n",
    "                cnt +=1\n",
    "        if cnt ==0:\n",
    "            prime.append(i)\n",
    "    print(prime)\n",
    "    # 가능한 3개의 조합(index)\n",
    "    lst = []\n",
    "    for i in range(len(a)):\n",
    "        for j in range(i):\n",
    "            for k in range(j):\n",
    "                lst.append((i,j,k))\n",
    "    print(lst)\n",
    "    # 세기 _ 소수이면 +1\n",
    "    num = 0\n",
    "    for x,y,z in lst:\n",
    "        if a[x]+a[y]+a[z] in prime:\n",
    "            print(a[x]+a[y]+a[z])\n",
    "            num +=1\n",
    "\n",
    "    return num"
   ]
  },
  {
   "cell_type": "code",
   "execution_count": 74,
   "id": "c2f64a47",
   "metadata": {},
   "outputs": [
    {
     "name": "stdout",
     "output_type": "stream",
     "text": [
      "[7, 11, 13, 17]\n",
      "[(2, 1, 0), (3, 1, 0), (3, 2, 0), (3, 2, 1), (4, 1, 0), (4, 2, 0), (4, 2, 1), (4, 3, 0), (4, 3, 1), (4, 3, 2), (5, 1, 0), (5, 2, 0), (5, 2, 1), (5, 3, 0), (5, 3, 1), (5, 3, 2), (5, 4, 0), (5, 4, 1), (5, 4, 2), (5, 4, 3), (6, 1, 0), (6, 2, 0), (6, 2, 1), (6, 3, 0), (6, 3, 1), (6, 3, 2), (6, 4, 0), (6, 4, 1), (6, 4, 2), (6, 4, 3), (6, 5, 0), (6, 5, 1), (6, 5, 2), (6, 5, 3), (6, 5, 4)]\n",
      "7\n",
      "11\n",
      "11\n",
      "11\n",
      "13\n",
      "13\n",
      "11\n",
      "13\n",
      "13\n",
      "17\n"
     ]
    },
    {
     "data": {
      "text/plain": [
       "10"
      ]
     },
     "execution_count": 74,
     "metadata": {},
     "output_type": "execute_result"
    }
   ],
   "source": [
    "solution([1,2,3,4,5,6,7])"
   ]
  },
  {
   "cell_type": "code",
   "execution_count": null,
   "id": "767f7e73",
   "metadata": {},
   "outputs": [],
   "source": []
  }
 ],
 "metadata": {
  "kernelspec": {
   "display_name": "Python 3",
   "language": "python",
   "name": "python3"
  },
  "language_info": {
   "codemirror_mode": {
    "name": "ipython",
    "version": 3
   },
   "file_extension": ".py",
   "mimetype": "text/x-python",
   "name": "python",
   "nbconvert_exporter": "python",
   "pygments_lexer": "ipython3",
   "version": "3.8.11"
  },
  "toc": {
   "base_numbering": 1,
   "nav_menu": {},
   "number_sections": true,
   "sideBar": true,
   "skip_h1_title": false,
   "title_cell": "Table of Contents",
   "title_sidebar": "Contents",
   "toc_cell": false,
   "toc_position": {},
   "toc_section_display": true,
   "toc_window_display": false
  }
 },
 "nbformat": 4,
 "nbformat_minor": 5
}
