{
 "cells": [
  {
   "cell_type": "code",
   "execution_count": 3,
   "id": "8eba6522",
   "metadata": {},
   "outputs": [
    {
     "data": {
      "text/plain": [
       "8"
      ]
     },
     "execution_count": 3,
     "metadata": {},
     "output_type": "execute_result"
    }
   ],
   "source": [
    "pow(2,3)"
   ]
  },
  {
   "cell_type": "code",
   "execution_count": null,
   "id": "fd4b8df6",
   "metadata": {},
   "outputs": [],
   "source": [
    "def solution(dartResult):\n",
    "    dic = ['S','D','T']\n",
    "    answer = []\n",
    "    dartResult = dartResult.replace('10','x')\n",
    "    for i in range(len(dartResult)):\n",
    "        if dartResult[i] in dic:\n",
    "            if dartResult[i-1] == 'x':\n",
    "                answer.append(pow(10, dic.index(dartResult[i])+1))\n",
    "            else:\n",
    "                answer.append(pow(int(dartResult[i-1]), dic.index(dartResult[i])+1))\n",
    "    for i in range(len(dartResult)):\n",
    "        num = i//2\n",
    "        if num == 1:\n",
    "            if dartResult[i] == '*':\n",
    "                answer[0] *= 2 \n",
    "            elif dartResult[i] == '#':\n",
    "                answer[0] *=  - 1 \n",
    "        elif num == 2:\n",
    "            if dartResult[i] == '*':\n",
    "                answer[0] *= 2\n",
    "                answer[1] *= 2\n",
    "            elif dartResult[i] == '#':\n",
    "                answer[1] *=  - 1 \n",
    "        elif (num == 3) or (num == 4):   \n",
    "            if dartResult[i] == '*':\n",
    "                answer[1] *= 2\n",
    "                answer[2] *= 2\n",
    "            elif dartResult[i] == '#':\n",
    "                answer[2] *=  - 1 \n",
    "    return sum(answer)"
   ]
  },
  {
   "cell_type": "code",
   "execution_count": 15,
   "id": "ad50f1b5",
   "metadata": {},
   "outputs": [],
   "source": [
    "dartResult = \"1D2S#10S\"\n",
    "dic = ['S','D','T']\n",
    "# opt = ['*', '#']\n",
    "answer = []\n"
   ]
  },
  {
   "cell_type": "code",
   "execution_count": 16,
   "id": "81fd6ac3",
   "metadata": {},
   "outputs": [
    {
     "data": {
      "text/plain": [
       "[1, -2, 0]"
      ]
     },
     "execution_count": 16,
     "metadata": {},
     "output_type": "execute_result"
    }
   ],
   "source": [
    "answer"
   ]
  },
  {
   "cell_type": "code",
   "execution_count": 27,
   "id": "4741a792",
   "metadata": {},
   "outputs": [
    {
     "data": {
      "text/plain": [
       "True"
      ]
     },
     "execution_count": 27,
     "metadata": {},
     "output_type": "execute_result"
    }
   ],
   "source": [
    "\"10\" in \"1D2S#10S\" "
   ]
  },
  {
   "cell_type": "code",
   "execution_count": 28,
   "id": "3bb02fa8",
   "metadata": {},
   "outputs": [
    {
     "data": {
      "text/plain": [
       "'1D2S#xS'"
      ]
     },
     "execution_count": 28,
     "metadata": {},
     "output_type": "execute_result"
    }
   ],
   "source": [
    "\"1D2S#10S\".replace('10', 'x')"
   ]
  },
  {
   "cell_type": "code",
   "execution_count": 29,
   "id": "39957373",
   "metadata": {},
   "outputs": [
    {
     "name": "stdout",
     "output_type": "stream",
     "text": [
      "['1', 'D', '2', 'S', '#', '10', 'S']\n"
     ]
    }
   ],
   "source": [
    "dartResult = \"1D2S#10S\" \n",
    "point = []\n",
    "answer = []\n",
    "dartResult = dartResult.replace('10','k')\n",
    "point = ['10' if i == 'k' else i for i in dartResult]\n",
    "print(point)"
   ]
  },
  {
   "cell_type": "code",
   "execution_count": 30,
   "id": "aa701a86",
   "metadata": {},
   "outputs": [],
   "source": [
    "import re\n",
    "\n",
    "def solution(dartResult):\n",
    "    bonus = {'S' : 1, 'D' : 2, 'T' : 3}\n",
    "    option = {'' : 1, '*' : 2, '#' : -1}\n",
    "    p = re.compile('(\\d+)([SDT])([*#]?)')\n",
    "    dart = p.findall(dartResult)\n",
    "    print(dart)\n",
    "    for i in range(len(dart)):\n",
    "        if dart[i][2] == '*' and i > 0:\n",
    "            dart[i-1] *= 2\n",
    "        dart[i] = int(dart[i][0]) ** bonus[dart[i][1]] * option[dart[i][2]]\n",
    "\n",
    "    answer = sum(dart)\n",
    "    return answer"
   ]
  },
  {
   "cell_type": "code",
   "execution_count": 31,
   "id": "ae62a6c0",
   "metadata": {},
   "outputs": [
    {
     "name": "stdout",
     "output_type": "stream",
     "text": [
      "[('1', 'D', ''), ('2', 'S', '#'), ('10', 'S', '')]\n"
     ]
    },
    {
     "data": {
      "text/plain": [
       "9"
      ]
     },
     "execution_count": 31,
     "metadata": {},
     "output_type": "execute_result"
    }
   ],
   "source": [
    "solution(\"1D2S#10S\" )"
   ]
  },
  {
   "cell_type": "code",
   "execution_count": null,
   "id": "7be08d7f",
   "metadata": {},
   "outputs": [],
   "source": []
  }
 ],
 "metadata": {
  "kernelspec": {
   "display_name": "Python 3",
   "language": "python",
   "name": "python3"
  },
  "language_info": {
   "codemirror_mode": {
    "name": "ipython",
    "version": 3
   },
   "file_extension": ".py",
   "mimetype": "text/x-python",
   "name": "python",
   "nbconvert_exporter": "python",
   "pygments_lexer": "ipython3",
   "version": "3.8.11"
  },
  "toc": {
   "base_numbering": 1,
   "nav_menu": {},
   "number_sections": true,
   "sideBar": true,
   "skip_h1_title": false,
   "title_cell": "Table of Contents",
   "title_sidebar": "Contents",
   "toc_cell": false,
   "toc_position": {},
   "toc_section_display": true,
   "toc_window_display": false
  }
 },
 "nbformat": 4,
 "nbformat_minor": 5
}
