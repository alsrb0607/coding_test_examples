{
 "cells": [
  {
   "cell_type": "code",
   "execution_count": 72,
   "id": "3ac87fc2",
   "metadata": {},
   "outputs": [],
   "source": [
    "del_list = ['~','!','@','#','$','%','^','&','*','(',')','=','+','[','{',']','}',':','?','<','>','/',\",\"]\n",
    "def solution(new_id):\n",
    "    #소문자화\n",
    "    id_lower = new_id.lower()\n",
    "    #없어야 하는 것 삭제\n",
    "    for pun in del_list:\n",
    "        id_lower = id_lower.replace(pun, '')\n",
    "    # 연속된 . 삭제하기\n",
    "    temp = list(id_lower)\n",
    "    temp_list = []\n",
    "    # . 삭제할 위치 찾고 바꿔주기\n",
    "    for i in range(len(temp)-1):\n",
    "        if temp[i] == '.':\n",
    "            if temp[i+1] =='.':\n",
    "                temp_list.append(i)\n",
    "            else:\n",
    "                pass\n",
    "    for i in temp_list:\n",
    "        temp[i] = ''\n",
    "    # 양 옆의 . 삭제\n",
    "    id_2 = ''.join(temp)\n",
    "    id_3 = id_2.strip('.')\n",
    "    # 비어있다면 a 넣어주기\n",
    "    if len(id_3) == 0:\n",
    "        id_3 = 'a'\n",
    "    else:\n",
    "        pass\n",
    "    # 길이 15 넘으면 줄이기\n",
    "    if len(id_3) > 15:\n",
    "        id_3 = id_3[:15]\n",
    "    else:\n",
    "        pass\n",
    "    id_4 = id_3.strip('.')\n",
    "    # 길이 3보다 작으면 바꿔주기\n",
    "    if len(id_4) == 1:\n",
    "        id_5 = id_4 *3\n",
    "    elif len(id_4) == 2:\n",
    "        id_5 = id_4 + id_4[-1]\n",
    "    else:\n",
    "        id_5 = id_4 \n",
    "    return id_5"
   ]
  },
  {
   "cell_type": "code",
   "execution_count": 80,
   "id": "cadd9e48",
   "metadata": {},
   "outputs": [
    {
     "data": {
      "text/plain": [
       "15"
      ]
     },
     "execution_count": 80,
     "metadata": {},
     "output_type": "execute_result"
    }
   ],
   "source": [
    "len(\"abU..FOI,uir.b.\")"
   ]
  },
  {
   "cell_type": "markdown",
   "id": "12242b4c",
   "metadata": {},
   "source": [
    "재영 버전"
   ]
  },
  {
   "cell_type": "code",
   "execution_count": 110,
   "id": "34495f7f",
   "metadata": {},
   "outputs": [],
   "source": [
    "def solution(new_id):\n",
    "    import re\n",
    "    # 1\n",
    "    new_id = new_id.lower()\n",
    "    # 2\n",
    "    new_id = re.findall('[0-9a-z\\-\\.\\_]',new_id)\n",
    "    new_id = ''.join(new_id)\n",
    "    # 3\n",
    "    new_id = re.sub('\\.{2,1000}','.',new_id)\n",
    "    # 4\n",
    "    new_id = new_id.strip('.')\n",
    "    \n",
    "    # 5\n",
    "    if new_id == '':\n",
    "        new_id = 'a'\n",
    "        \n",
    "    # 6    \n",
    "    if len(new_id) >= 16:\n",
    "        new_id = new_id[:15]\n",
    "        new_id = new_id.strip('.')\n",
    "    \n",
    "    # 7\n",
    "    while True:\n",
    "        if len(new_id) <= 2:\n",
    "            new_id += new_id[len(new_id)-1]\n",
    "            if len(new_id) >= 3:\n",
    "                break\n",
    "        else:\n",
    "            break\n",
    "    \n",
    "    return new_id"
   ]
  },
  {
   "cell_type": "code",
   "execution_count": 93,
   "id": "13129577",
   "metadata": {},
   "outputs": [
    {
     "data": {
      "text/plain": [
       "'.wdqwq.'"
      ]
     },
     "execution_count": 93,
     "metadata": {},
     "output_type": "execute_result"
    }
   ],
   "source": [
    "import re\n",
    "re.sub('\\.{2,1000}','.',\"..............wdqwq................................\")"
   ]
  },
  {
   "cell_type": "code",
   "execution_count": null,
   "id": "b96fd79c",
   "metadata": {},
   "outputs": [],
   "source": []
  }
 ],
 "metadata": {
  "kernelspec": {
   "display_name": "Python 3",
   "language": "python",
   "name": "python3"
  },
  "language_info": {
   "codemirror_mode": {
    "name": "ipython",
    "version": 3
   },
   "file_extension": ".py",
   "mimetype": "text/x-python",
   "name": "python",
   "nbconvert_exporter": "python",
   "pygments_lexer": "ipython3",
   "version": "3.8.11"
  },
  "toc": {
   "base_numbering": 1,
   "nav_menu": {},
   "number_sections": true,
   "sideBar": true,
   "skip_h1_title": false,
   "title_cell": "Table of Contents",
   "title_sidebar": "Contents",
   "toc_cell": false,
   "toc_position": {},
   "toc_section_display": true,
   "toc_window_display": false
  }
 },
 "nbformat": 4,
 "nbformat_minor": 5
}
