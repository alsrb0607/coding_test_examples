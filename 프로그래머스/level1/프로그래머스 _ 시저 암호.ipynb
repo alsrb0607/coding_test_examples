{
 "cells": [
  {
   "cell_type": "code",
   "execution_count": 1,
   "id": "5b256ead",
   "metadata": {},
   "outputs": [],
   "source": [
    "s = 'ABC'"
   ]
  },
  {
   "cell_type": "code",
   "execution_count": 4,
   "id": "674261e3",
   "metadata": {},
   "outputs": [
    {
     "ename": "TypeError",
     "evalue": "'str' object does not support item assignment",
     "output_type": "error",
     "traceback": [
      "\u001b[1;31m---------------------------------------------------------------------------\u001b[0m",
      "\u001b[1;31mTypeError\u001b[0m                                 Traceback (most recent call last)",
      "\u001b[1;32m<ipython-input-4-84e4d04dd5f8>\u001b[0m in \u001b[0;36m<module>\u001b[1;34m\u001b[0m\n\u001b[1;32m----> 1\u001b[1;33m \u001b[0ms\u001b[0m\u001b[1;33m[\u001b[0m\u001b[1;36m1\u001b[0m\u001b[1;33m]\u001b[0m \u001b[1;33m=\u001b[0m \u001b[1;34m'Z'\u001b[0m\u001b[1;33m\u001b[0m\u001b[1;33m\u001b[0m\u001b[0m\n\u001b[0m",
      "\u001b[1;31mTypeError\u001b[0m: 'str' object does not support item assignment"
     ]
    }
   ],
   "source": [
    "s[1] = 'Z'"
   ]
  },
  {
   "cell_type": "code",
   "execution_count": null,
   "id": "481a121a",
   "metadata": {},
   "outputs": [],
   "source": [
    "\"a B z\".replace('a', 'e')"
   ]
  },
  {
   "cell_type": "code",
   "execution_count": 30,
   "id": "c7d3b6bf",
   "metadata": {},
   "outputs": [
    {
     "data": {
      "text/plain": [
       "['a', ' ', 'B', ' ', 'z']"
      ]
     },
     "execution_count": 30,
     "metadata": {},
     "output_type": "execute_result"
    }
   ],
   "source": [
    "list(\"a B z\")."
   ]
  },
  {
   "cell_type": "code",
   "execution_count": 31,
   "id": "09f41aca",
   "metadata": {},
   "outputs": [],
   "source": [
    "def solution(s, n):\n",
    "    alpha = ['a','b','c','d','e','f','g','h','i','j','k','l','m','n','o','p','q','r','s','t','u','v','w','x','y','z']\n",
    "    answer = ''\n",
    "    for x in list(s):\n",
    "        if x == ' ':\n",
    "            answer += x\n",
    "        elif x in alpha:\n",
    "            answer += alpha[(alpha.index(x) + n)%len(alpha)]\n",
    "        elif x.lower() in alpha:\n",
    "            answer += alpha[(alpha.index(x.lower()) + n)%len(alpha)].upper()\n",
    "    return answer"
   ]
  },
  {
   "cell_type": "code",
   "execution_count": 32,
   "id": "163c88ae",
   "metadata": {},
   "outputs": [
    {
     "data": {
      "text/plain": [
       "'e F d'"
      ]
     },
     "execution_count": 32,
     "metadata": {},
     "output_type": "execute_result"
    }
   ],
   "source": [
    "solution(\"a B z\", 4)"
   ]
  },
  {
   "cell_type": "code",
   "execution_count": 39,
   "id": "fdf18e8c",
   "metadata": {},
   "outputs": [
    {
     "name": "stdout",
     "output_type": "stream",
     "text": [
      "d\n"
     ]
    }
   ],
   "source": [
    "print(chr(100))"
   ]
  },
  {
   "cell_type": "code",
   "execution_count": 41,
   "id": "2c1132c4",
   "metadata": {},
   "outputs": [
    {
     "data": {
      "text/plain": [
       "97"
      ]
     },
     "execution_count": 41,
     "metadata": {},
     "output_type": "execute_result"
    }
   ],
   "source": [
    "ord('a')"
   ]
  },
  {
   "cell_type": "code",
   "execution_count": null,
   "id": "ea1391f5",
   "metadata": {},
   "outputs": [],
   "source": [
    "def solution(s, n):\n",
    "    s = list(s)\n",
    "    for i in range(len(s)):\n",
    "        if s[i].isupper():\n",
    "            s[i]=chr((ord(s[i])-ord('A')+ n)%26+ord('A'))\n",
    "        elif s[i].islower():\n",
    "            s[i]=chr((ord(s[i])-ord('a')+ n)%26+ord('a'))\n",
    "\n",
    "    return \"\".join(s)"
   ]
  },
  {
   "cell_type": "code",
   "execution_count": 54,
   "id": "9cf98652",
   "metadata": {},
   "outputs": [
    {
     "name": "stdout",
     "output_type": "stream",
     "text": [
      "a 97 / b 98 / c 99 / d 100 / e 101 / f 102 / g 103 / h 104 / i 105 / j 106 / k 107 / l 108 / m 109 / n 110 / o 111 / p 112 / q 113 / r 114 / s 115 / t 116 / u 117 / v 118 / w 119 / x 120 / y 121 / z 122 / \n",
      "===================================================================================================\n",
      "A 65 / B 66 / C 67 / D 68 / E 69 / F 70 / G 71 / H 72 / I 73 / J 74 / K 75 / L 76 / M 77 / N 78 / O 79 / P 80 / Q 81 / R 82 / S 83 / T 84 / U 85 / V 86 / W 87 / X 88 / Y 89 / Z 90 / "
     ]
    }
   ],
   "source": [
    "alpha = ['a','b','c','d','e','f','g','h','i','j','k','l','m','n','o','p','q','r','s','t',\n",
    "         'u','v','w','x','y','z']\n",
    "for x in alpha:\n",
    "    print(x, ord(x), end = ' / ')\n",
    "print('')\n",
    "print( '='*99)\n",
    "for x in alpha:\n",
    "    print(x.upper(), ord(x.upper()), end = ' / ')"
   ]
  },
  {
   "cell_type": "code",
   "execution_count": 55,
   "id": "ecbd2508",
   "metadata": {},
   "outputs": [
    {
     "name": "stdout",
     "output_type": "stream",
     "text": [
      "A / B / C / D / E / F / G / H / I / J / K / L / M / N / O / P / Q / R / S / T / U / V / W / X / Y / Z / [ / \\ / ] / ^ / _ / ` / a / b / c / d / e / f / g / h / i / j / k / l / m / n / o / p / q / r / s / t / u / v / w / x / y / z / "
     ]
    }
   ],
   "source": [
    "for i in range(65, 123):\n",
    "    print(chr(i), end = ' / ')"
   ]
  },
  {
   "cell_type": "code",
   "execution_count": 57,
   "id": "2dd9e7cf",
   "metadata": {},
   "outputs": [
    {
     "name": "stdout",
     "output_type": "stream",
     "text": [
      "ㄱ 12593 / ㄴ 12596 / ㅏ 12623 / ㅑ 12625 / 가 44032 / 나 45208 / "
     ]
    }
   ],
   "source": [
    "for x in ['ㄱ','ㄴ','ㅏ','ㅑ','가','나']:\n",
    "    print(x, ord(x), end = ' / ')"
   ]
  },
  {
   "cell_type": "code",
   "execution_count": null,
   "id": "e5d7f030",
   "metadata": {},
   "outputs": [],
   "source": []
  }
 ],
 "metadata": {
  "kernelspec": {
   "display_name": "Python 3",
   "language": "python",
   "name": "python3"
  },
  "language_info": {
   "codemirror_mode": {
    "name": "ipython",
    "version": 3
   },
   "file_extension": ".py",
   "mimetype": "text/x-python",
   "name": "python",
   "nbconvert_exporter": "python",
   "pygments_lexer": "ipython3",
   "version": "3.8.11"
  },
  "toc": {
   "base_numbering": 1,
   "nav_menu": {},
   "number_sections": true,
   "sideBar": true,
   "skip_h1_title": false,
   "title_cell": "Table of Contents",
   "title_sidebar": "Contents",
   "toc_cell": false,
   "toc_position": {},
   "toc_section_display": true,
   "toc_window_display": false
  }
 },
 "nbformat": 4,
 "nbformat_minor": 5
}
