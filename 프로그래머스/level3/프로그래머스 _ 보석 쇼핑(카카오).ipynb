{
 "cells": [
  {
   "cell_type": "code",
   "execution_count": 37,
   "id": "f55bf817",
   "metadata": {},
   "outputs": [],
   "source": [
    "gems = [\"DIA\", \"RUBY\", \"RUBY\", \"DIA\", \"DIA\", \"EMERALD\", \"SAPPHIRE\", \"DIA\"]\n",
    "targets = len(set(gems))"
   ]
  },
  {
   "cell_type": "code",
   "execution_count": 23,
   "id": "d702a061",
   "metadata": {},
   "outputs": [
    {
     "data": {
      "text/plain": [
       "4"
      ]
     },
     "execution_count": 23,
     "metadata": {},
     "output_type": "execute_result"
    }
   ],
   "source": [
    "targets"
   ]
  },
  {
   "cell_type": "code",
   "execution_count": 24,
   "id": "81cf1e17",
   "metadata": {},
   "outputs": [],
   "source": [
    "tmp = set()\n",
    "i = 0\n",
    "answer = []\n",
    "for j, x in enumerate(gems):\n",
    "    tmp.add(x)\n",
    "    if len(tmp) == targets:\n",
    "        answer.append([i,i+j])\n",
    "        break\n"
   ]
  },
  {
   "cell_type": "code",
   "execution_count": 25,
   "id": "632fed00",
   "metadata": {},
   "outputs": [
    {
     "data": {
      "text/plain": [
       "[[0, 6]]"
      ]
     },
     "execution_count": 25,
     "metadata": {},
     "output_type": "execute_result"
    }
   ],
   "source": [
    "answer"
   ]
  },
  {
   "cell_type": "code",
   "execution_count": 38,
   "id": "eb4850e4",
   "metadata": {},
   "outputs": [
    {
     "data": {
      "text/plain": [
       "[[2, 6], [1, 6], [0, 6]]"
      ]
     },
     "execution_count": 38,
     "metadata": {},
     "output_type": "execute_result"
    }
   ],
   "source": [
    "i = -1\n",
    "answer = []\n",
    "while len(gems) >= targets:\n",
    "    i +=1\n",
    "    tmp = set()\n",
    "    for j, x in enumerate(gems):\n",
    "        tmp.add(x)\n",
    "        if len(tmp) == targets:\n",
    "            answer.append([i,i+j])\n",
    "            break\n",
    "    gems.pop(0)\n",
    "sorted(answer, key = lambda x: x[1]-x[0])"
   ]
  },
  {
   "cell_type": "code",
   "execution_count": 135,
   "id": "aaa528c4",
   "metadata": {},
   "outputs": [],
   "source": [
    "# 효율성 실패\n",
    "def solution(gems):\n",
    "    i = -1\n",
    "    answer = []\n",
    "    targets = len(set(gems))\n",
    "    while len(gems) >= targets:\n",
    "        i +=1\n",
    "        tmp = set()\n",
    "        cnt = 0\n",
    "        for j, x in enumerate(gems):\n",
    "            if x not in tmp:\n",
    "                tmp.add(x)\n",
    "                cnt +=1\n",
    "            if cnt == targets:\n",
    "                answer.append([i+1,i+j+1])\n",
    "                break\n",
    "        gems.pop(0)\n",
    "    return sorted(answer, key = lambda x: x[1]-x[0])[0]"
   ]
  },
  {
   "cell_type": "code",
   "execution_count": 65,
   "id": "e10a94d0",
   "metadata": {},
   "outputs": [],
   "source": [
    "# 효율성 실패 - 더 비효율적이 되었다^\n",
    "def solution(gems):\n",
    "    i = -1\n",
    "    answer = []\n",
    "    end = len(gems)\n",
    "    targets = set(gems)\n",
    "    j = len(targets) - 1\n",
    "    tmp = set()\n",
    "    while j != end:\n",
    "        j +=1\n",
    "        i = -1\n",
    "        while i != end -j:\n",
    "            i +=1\n",
    "            for k in range(i, i+j):\n",
    "                tmp = set(gems[k:k+j])\n",
    "                if tmp == targets:\n",
    "                    return [k+1,k+j]\n",
    "                elif i == end -j:\n",
    "                    break\n",
    "        \n",
    "    return [1, end]"
   ]
  },
  {
   "cell_type": "code",
   "execution_count": 412,
   "id": "3c77adc2",
   "metadata": {},
   "outputs": [
    {
     "data": {
      "text/plain": [
       "[6, 9]"
      ]
     },
     "execution_count": 412,
     "metadata": {},
     "output_type": "execute_result"
    }
   ],
   "source": [
    "solution([\"RUBY\", \"RUBY\", \"RUBY\", \"DIA\", \"DIA\", \"EMERALD\", \"SAPPHIRE\", \"DIA\", \"RUBY\"])"
   ]
  },
  {
   "cell_type": "code",
   "execution_count": 413,
   "id": "dcb230e5",
   "metadata": {},
   "outputs": [
    {
     "data": {
      "text/plain": [
       "[1, 5]"
      ]
     },
     "execution_count": 413,
     "metadata": {},
     "output_type": "execute_result"
    }
   ],
   "source": [
    "solution([\"ZZZ\", \"YYY\", \"NNNN\", \"YYY\", \"BBB\"])"
   ]
  },
  {
   "cell_type": "code",
   "execution_count": 414,
   "id": "f1e6606b",
   "metadata": {},
   "outputs": [
    {
     "data": {
      "text/plain": [
       "[1, 3]"
      ]
     },
     "execution_count": 414,
     "metadata": {},
     "output_type": "execute_result"
    }
   ],
   "source": [
    "solution([\"AA\", \"AB\", \"AC\", \"AA\", \"AC\"])"
   ]
  },
  {
   "cell_type": "code",
   "execution_count": 415,
   "id": "77c7680e",
   "metadata": {},
   "outputs": [
    {
     "data": {
      "text/plain": [
       "[1, 1]"
      ]
     },
     "execution_count": 415,
     "metadata": {},
     "output_type": "execute_result"
    }
   ],
   "source": [
    "solution([\"XYZ\", \"XYZ\", \"XYZ\"])"
   ]
  },
  {
   "cell_type": "code",
   "execution_count": 128,
   "id": "5d002849",
   "metadata": {},
   "outputs": [],
   "source": [
    "# 효율성 실패\n",
    "def solution(gems):\n",
    "    answer = []\n",
    "    targets = len(set(gems))\n",
    "    length = targets -1\n",
    "    while not answer:\n",
    "        length += 1\n",
    "        i = -1\n",
    "        gems_tmp = gems.copy()\n",
    "        while (len(gems_tmp) >= length):\n",
    "            i +=1\n",
    "            tmp = set()\n",
    "            cnt = 0 \n",
    "            for j, x in enumerate(gems_tmp):\n",
    "                tmp.add(x)\n",
    "                cnt +=1\n",
    "                if len(tmp) == targets:\n",
    "                    answer.append([i+1,i+j+1])\n",
    "                    break\n",
    "                elif cnt == length:\n",
    "                    break\n",
    "            gems_tmp.pop(0)\n",
    "    return answer[0]"
   ]
  },
  {
   "cell_type": "code",
   "execution_count": 115,
   "id": "643ae31d",
   "metadata": {},
   "outputs": [
    {
     "data": {
      "text/plain": [
       "[1, 2, 3]"
      ]
     },
     "execution_count": 115,
     "metadata": {},
     "output_type": "execute_result"
    }
   ],
   "source": [
    "a = [1,2,3]\n",
    "b= a.copy()\n",
    "a.remove(3)\n",
    "b"
   ]
  },
  {
   "cell_type": "code",
   "execution_count": 219,
   "id": "10f08954",
   "metadata": {},
   "outputs": [],
   "source": [
    "# 효율성 실패\n",
    "from collections import Counter\n",
    "def solution(gems):\n",
    "    i = -1\n",
    "    answer = []\n",
    "    end = len(gems)\n",
    "    targets = len(set(gems))\n",
    "    length = targets - 1\n",
    "    while True:\n",
    "        length += 1\n",
    "        for i in range(end -length+1):\n",
    "            if len(Counter(gems[i:i+length])) == targets:\n",
    "                return [i+1,i+length]"
   ]
  },
  {
   "cell_type": "code",
   "execution_count": 217,
   "id": "4c23c79f",
   "metadata": {},
   "outputs": [],
   "source": [
    "# 효율성 실패\n",
    "def solution(gems):\n",
    "    i = -1\n",
    "    answer = []\n",
    "    end = len(gems)\n",
    "    targets = set(gems)\n",
    "    length = len(targets) - 1\n",
    "    while True:\n",
    "        length += 1\n",
    "        for i in range(end -length+1):\n",
    "            if set(gems[i:i+length]) == targets:\n",
    "                return [i+1,i+length]"
   ]
  },
  {
   "cell_type": "code",
   "execution_count": 392,
   "id": "b4c17988",
   "metadata": {},
   "outputs": [],
   "source": [
    "# 효율성 실패, 50% 정답\n",
    "def solution(gems):\n",
    "    left = 0; right = 0\n",
    "    targets = set(gems)\n",
    "    end = len(gems)\n",
    "    answer = [1, end]\n",
    "    length = len(targets)\n",
    "    tmp = []\n",
    "    while True:\n",
    "        if gems[right] not in tmp:\n",
    "            tmp.append(gems[right])\n",
    "        right += 1\n",
    "        if len(tmp) == length:\n",
    "            while gems[left] in gems[left+1:right]:\n",
    "                left += 1\n",
    "            if answer[1] - answer[0] > right - left-1:\n",
    "                answer = [left+1, right]\n",
    "            if right - left +1 == length:\n",
    "                return answer\n",
    "        if (right == end):\n",
    "            return answer\n"
   ]
  },
  {
   "cell_type": "code",
   "execution_count": 381,
   "id": "3b45eb59",
   "metadata": {},
   "outputs": [
    {
     "data": {
      "text/plain": [
       "False"
      ]
     },
     "execution_count": 381,
     "metadata": {},
     "output_type": "execute_result"
    }
   ],
   "source": [
    "a= [1,2,3]\n",
    "a[2:4] in a"
   ]
  },
  {
   "cell_type": "code",
   "execution_count": 411,
   "id": "f0a9d59c",
   "metadata": {},
   "outputs": [],
   "source": [
    "# 통과\n",
    "def solution(gems):\n",
    "    left = 0; right = 0\n",
    "    targets = set(gems)\n",
    "    end = len(gems)\n",
    "    answer = [1, end]\n",
    "    length = len(targets)\n",
    "    contains = {}\n",
    "    while True:\n",
    "        if gems[right] not in contains:\n",
    "            contains[gems[right]] = 1\n",
    "        else:\n",
    "            contains[gems[right]] += 1\n",
    "        right += 1\n",
    "        if len(contains) == length:\n",
    "            while contains[gems[left]] > 1:\n",
    "                contains[gems[left]] -= 1\n",
    "                left += 1\n",
    "            if answer[1] - answer[0] > right - left-1:\n",
    "                answer = [left+1, right]\n",
    "            if right - left +1 == length:\n",
    "                return answer\n",
    "        if (right == end):\n",
    "            return answer\n"
   ]
  },
  {
   "cell_type": "code",
   "execution_count": null,
   "id": "0c1a3120",
   "metadata": {},
   "outputs": [],
   "source": []
  }
 ],
 "metadata": {
  "kernelspec": {
   "display_name": "Python 3",
   "language": "python",
   "name": "python3"
  },
  "language_info": {
   "codemirror_mode": {
    "name": "ipython",
    "version": 3
   },
   "file_extension": ".py",
   "mimetype": "text/x-python",
   "name": "python",
   "nbconvert_exporter": "python",
   "pygments_lexer": "ipython3",
   "version": "3.8.8"
  },
  "toc": {
   "base_numbering": 1,
   "nav_menu": {},
   "number_sections": true,
   "sideBar": true,
   "skip_h1_title": false,
   "title_cell": "Table of Contents",
   "title_sidebar": "Contents",
   "toc_cell": false,
   "toc_position": {},
   "toc_section_display": true,
   "toc_window_display": false
  }
 },
 "nbformat": 4,
 "nbformat_minor": 5
}
