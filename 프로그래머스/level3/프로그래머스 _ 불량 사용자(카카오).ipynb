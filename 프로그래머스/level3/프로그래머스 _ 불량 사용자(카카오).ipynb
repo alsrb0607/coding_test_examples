{
 "cells": [
  {
   "cell_type": "code",
   "execution_count": 138,
   "id": "739d96c3",
   "metadata": {},
   "outputs": [],
   "source": [
    "def solution(user_id, banned_id):\n",
    "    answer = 0\n",
    "    return answer"
   ]
  },
  {
   "cell_type": "code",
   "execution_count": 168,
   "id": "1258ed9a",
   "metadata": {},
   "outputs": [],
   "source": [
    "user_id = [\"frodo\", \"fradi\", \"crodo\", \"abc123\", \"frod2c\"]\n",
    "banned_id = [\"fr*d*\", \"*rodo\", \"******\", \"****2*\"]\n",
    "def check(banned, user):\n",
    "    if len(banned) != len(user):\n",
    "        return False\n",
    "    else:\n",
    "        cnt = 0\n",
    "        for i in range(len(banned)):\n",
    "            if (banned[i] != user[i]) and (banned[i] == \"*\"):\n",
    "                cnt +=1\n",
    "            elif (banned[i] != user[i]) and (banned[i] != \"*\"):\n",
    "                cnt -= 1\n",
    "        if cnt == banned.count(\"*\"):\n",
    "            return True\n",
    "        else:\n",
    "            return False\n",
    "                "
   ]
  },
  {
   "cell_type": "code",
   "execution_count": 190,
   "id": "f6170a23",
   "metadata": {},
   "outputs": [],
   "source": [
    "# 63% 정답\n",
    "from itertools import permutations\n",
    "from collections import Counter\n",
    "from functools import reduce\n",
    "\n",
    "def check(banned, user):\n",
    "    if len(banned) != len(user):\n",
    "        return False\n",
    "    else:\n",
    "        cnt = 0\n",
    "        for i in range(len(banned)):\n",
    "            if (banned[i] != user[i]) and (banned[i] == \"*\"):\n",
    "                cnt +=1\n",
    "            elif (banned[i] != user[i]) and (banned[i] != \"*\"):\n",
    "                cnt -= 1\n",
    "        if cnt == banned.count(\"*\"):\n",
    "            return True if cnt == banned.count(\"*\") else False\n",
    "        \n",
    "def factorial(n):\n",
    "    return 1 if n ==0 else reduce(lambda x, y: x * y, range(1, n+1))\n",
    "\n",
    "def solution(user_id, banned_id):\n",
    "    possible_banned = dict()\n",
    "    for x in banned_id:\n",
    "        for y in user_id:\n",
    "            if check(x,y):\n",
    "                possible_banned[x] = possible_banned.get(x, [])\n",
    "                if y not in possible_banned[x]:\n",
    "                    possible_banned[x] = possible_banned.get(x, []) + [y]\n",
    "    a = list(permutations(range(len(user_id))))\n",
    "    cnt = 0 \n",
    "    for x in a:\n",
    "        tmp = banned_id.copy()\n",
    "        for y in x:\n",
    "            if not check(tmp[-1], user_id[y]):\n",
    "                break\n",
    "            elif check(tmp[-1], user_id[y]):\n",
    "                tmp.pop()\n",
    "            if not tmp:\n",
    "                cnt +=1\n",
    "                break\n",
    "    counts = Counter(banned_id.copy()).values()\n",
    "    divide = reduce(lambda x, y: x * y, map(factorial, counts))\n",
    "    divide2 = factorial(len(user_id) - len(banned_id))\n",
    "    return cnt//(divide*divide2)"
   ]
  },
  {
   "cell_type": "code",
   "execution_count": 217,
   "id": "904cd4f4",
   "metadata": {},
   "outputs": [],
   "source": [
    "# 정답\n",
    "from itertools import permutations\n",
    "from collections import Counter\n",
    "\n",
    "def check(banned, user):\n",
    "    if len(banned) != len(user):\n",
    "        return False\n",
    "    else:\n",
    "        cnt = 0\n",
    "        for i in range(len(banned)):\n",
    "            if (banned[i] != user[i]) and (banned[i] == \"*\"):\n",
    "                cnt +=1\n",
    "            elif (banned[i] != user[i]) and (banned[i] != \"*\"):\n",
    "                cnt -= 1\n",
    "        if cnt == banned.count(\"*\"):\n",
    "            return True if cnt == banned.count(\"*\") else False\n",
    "        \n",
    "def solution(user_id, banned_id):\n",
    "    possible_banned = dict()\n",
    "    for x in banned_id:\n",
    "        for y in user_id:\n",
    "            if check(x,y):\n",
    "                possible_banned[x] = possible_banned.get(x, [])\n",
    "                if y not in possible_banned[x]:\n",
    "                    possible_banned[x] = possible_banned.get(x, []) + [y]\n",
    "    a = list(permutations(range(len(user_id))))\n",
    "    answer = []\n",
    "    for x in a:\n",
    "        tmp = banned_id.copy()\n",
    "        tmp2 = []\n",
    "        for y in x:\n",
    "            if not check(tmp[-1], user_id[y]):\n",
    "                break\n",
    "            elif check(tmp[-1], user_id[y]):\n",
    "                tmp.pop()\n",
    "                tmp2.append(user_id[y])\n",
    "            if not tmp:\n",
    "                answer.append(tmp2)\n",
    "                break\n",
    "    \n",
    "    return len(set(map(tuple, map(sorted, answer))))"
   ]
  },
  {
   "cell_type": "code",
   "execution_count": 220,
   "id": "a5abc4bc",
   "metadata": {},
   "outputs": [
    {
     "data": {
      "text/plain": [
       "[['frodo', 'fradi'],\n",
       " ['frodo', 'crodo'],\n",
       " ['abc123', 'frod2c'],\n",
       " ['abc123', 'frod2c']]"
      ]
     },
     "execution_count": 220,
     "metadata": {},
     "output_type": "execute_result"
    }
   ],
   "source": [
    "solution([\"frodo\", \"fradi\", \"crodo\", \"abc123\", \"frod2c\"], [\"fr*d*\", \"*rodo\", \"******\", \"****2*\"])"
   ]
  },
  {
   "cell_type": "code",
   "execution_count": 219,
   "id": "82544d37",
   "metadata": {},
   "outputs": [],
   "source": [
    "from itertools import product\n",
    "\n",
    "def check(str1, str2):\n",
    "    if len(str1) != len(str2):\n",
    "        return False\n",
    "    for i in range(len(str1)):\n",
    "        if str1[i] == \"*\":\n",
    "            continue\n",
    "        if str1[i] != str2[i]:\n",
    "            return False\n",
    "    return True\n",
    "\n",
    "def solution(user_id, banned_id):\n",
    "    answer = set()\n",
    "    result = [[] for i in range(len(banned_id))]\n",
    "\n",
    "    for i in range(len(banned_id)):\n",
    "        for u in user_id:\n",
    "            if check(banned_id[i], u):\n",
    "                result[i].append(u)\n",
    "\n",
    "    result = list(product(*result))\n",
    "    for r in result:\n",
    "        if len(set(r)) == len(banned_id):\n",
    "            answer.add(\"\".join(sorted(set(r))))\n",
    "\n",
    "    return len(answer)"
   ]
  },
  {
   "cell_type": "code",
   "execution_count": null,
   "id": "54c19631",
   "metadata": {},
   "outputs": [],
   "source": []
  }
 ],
 "metadata": {
  "kernelspec": {
   "display_name": "Python 3",
   "language": "python",
   "name": "python3"
  },
  "language_info": {
   "codemirror_mode": {
    "name": "ipython",
    "version": 3
   },
   "file_extension": ".py",
   "mimetype": "text/x-python",
   "name": "python",
   "nbconvert_exporter": "python",
   "pygments_lexer": "ipython3",
   "version": "3.8.8"
  },
  "toc": {
   "base_numbering": 1,
   "nav_menu": {},
   "number_sections": true,
   "sideBar": true,
   "skip_h1_title": false,
   "title_cell": "Table of Contents",
   "title_sidebar": "Contents",
   "toc_cell": false,
   "toc_position": {},
   "toc_section_display": true,
   "toc_window_display": false
  }
 },
 "nbformat": 4,
 "nbformat_minor": 5
}
