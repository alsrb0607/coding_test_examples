{
 "cells": [
  {
   "cell_type": "code",
   "execution_count": 72,
   "id": "f0b044e2",
   "metadata": {},
   "outputs": [],
   "source": [
    "# 테스트케이스 1,2만 통과, 나머지는 시간초과\n",
    "def solution(n, times):  \n",
    "    answer = 0\n",
    "    while True:\n",
    "        answer +=1\n",
    "        tmp = sum(map(lambda x: answer//x, times))\n",
    "        if tmp == n:\n",
    "            return answer"
   ]
  },
  {
   "cell_type": "code",
   "execution_count": 82,
   "id": "b7b331c5",
   "metadata": {},
   "outputs": [
    {
     "data": {
      "text/plain": [
       "28"
      ]
     },
     "execution_count": 82,
     "metadata": {},
     "output_type": "execute_result"
    }
   ],
   "source": [
    "solution(6, [7, 10])"
   ]
  },
  {
   "cell_type": "code",
   "execution_count": 81,
   "id": "834ccd7c",
   "metadata": {},
   "outputs": [],
   "source": [
    "# 정답\n",
    "def solution(n, times):  \n",
    "    low = 1\n",
    "    high = min(times)*n\n",
    "    while low != high:\n",
    "        mid = (low + high) // 2\n",
    "        tmp = sum(map(lambda x: mid//x, times))\n",
    "        if tmp >= n:\n",
    "            high = mid\n",
    "        elif tmp < n:\n",
    "            low = mid + 1\n",
    "    return low"
   ]
  },
  {
   "cell_type": "code",
   "execution_count": 92,
   "id": "0f7d31ec",
   "metadata": {},
   "outputs": [
    {
     "name": "stdout",
     "output_type": "stream",
     "text": [
      "1637042020.461669\n"
     ]
    }
   ],
   "source": [
    "import time\n",
    "stt = time.time()\n",
    "print(stt)"
   ]
  },
  {
   "cell_type": "code",
   "execution_count": null,
   "id": "f61ca2ab",
   "metadata": {},
   "outputs": [],
   "source": []
  }
 ],
 "metadata": {
  "kernelspec": {
   "display_name": "Python 3",
   "language": "python",
   "name": "python3"
  },
  "language_info": {
   "codemirror_mode": {
    "name": "ipython",
    "version": 3
   },
   "file_extension": ".py",
   "mimetype": "text/x-python",
   "name": "python",
   "nbconvert_exporter": "python",
   "pygments_lexer": "ipython3",
   "version": "3.8.8"
  }
 },
 "nbformat": 4,
 "nbformat_minor": 5
}
