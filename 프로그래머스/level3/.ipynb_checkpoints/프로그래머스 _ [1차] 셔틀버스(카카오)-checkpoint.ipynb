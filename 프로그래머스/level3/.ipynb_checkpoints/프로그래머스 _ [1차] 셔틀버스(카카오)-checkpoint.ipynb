{
 "cells": [
  {
   "cell_type": "code",
   "execution_count": 35,
   "id": "7c314790",
   "metadata": {},
   "outputs": [
    {
     "data": {
      "text/plain": [
       "['09:10', '09:09', '08:00']"
      ]
     },
     "execution_count": 35,
     "metadata": {},
     "output_type": "execute_result"
    }
   ],
   "source": [
    "timetable = [\"09:10\", \"09:09\", \"08:00\"]\n",
    "sorted(timetable, reverse = True)"
   ]
  },
  {
   "cell_type": "code",
   "execution_count": 36,
   "id": "4684fa7a",
   "metadata": {},
   "outputs": [],
   "source": [
    "now = [9,0]\n",
    "n=2; t=10; m=2"
   ]
  },
  {
   "cell_type": "code",
   "execution_count": 37,
   "id": "32eefce7",
   "metadata": {},
   "outputs": [],
   "source": [
    "while n>1:\n",
    "    n -= 1\n",
    "    for _ in range(m):\n",
    "        if (int(timetable[-1][:2]) <= now[0]) and (int(timetable[-1][-2:]) <= now[1]):\n",
    "            timetable.pop() \n",
    "    now[0], now[1] = now[0] + (now[1] + t)//60, (now[1] + t)%60"
   ]
  },
  {
   "cell_type": "code",
   "execution_count": 38,
   "id": "e548b0fd",
   "metadata": {},
   "outputs": [
    {
     "data": {
      "text/plain": [
       "(['09:10', '09:09'], [9, 10])"
      ]
     },
     "execution_count": 38,
     "metadata": {},
     "output_type": "execute_result"
    }
   ],
   "source": [
    "timetable, now"
   ]
  },
  {
   "cell_type": "code",
   "execution_count": 43,
   "id": "5fc09b37",
   "metadata": {},
   "outputs": [],
   "source": [
    "if len(timetable) >= m:\n",
    "    answer = timetable[-m]\n",
    "    if answer[-2:] == \"00\":\n",
    "        answer = str(int(answer.split(\":\")[0]) -1) + \":59\"\n",
    "    elif answer[-2:] == \"10\":\n",
    "        answer = answer.split(\":\")[0] + \":09\"\n",
    "    else:\n",
    "        answer = answer.split(\":\")[0] + \":\" + str(int(answer.split(\":\")[1]) -1)\n",
    "else:\n",
    "    answer = timetable[0]"
   ]
  },
  {
   "cell_type": "code",
   "execution_count": 44,
   "id": "a896f2c1",
   "metadata": {},
   "outputs": [
    {
     "data": {
      "text/plain": [
       "'09:09'"
      ]
     },
     "execution_count": 44,
     "metadata": {},
     "output_type": "execute_result"
    }
   ],
   "source": [
    "answer"
   ]
  },
  {
   "cell_type": "code",
   "execution_count": 67,
   "id": "540b0c24",
   "metadata": {},
   "outputs": [],
   "source": [
    "# 정답\n",
    "def solution(n, t, m, timetable):\n",
    "    now = [9,0]\n",
    "    timetable.sort(reverse = True)\n",
    "    while n>1:\n",
    "        n -= 1\n",
    "        for _ in range(m):\n",
    "            if (int(timetable[-1][:2])*60 +int(timetable[-1][-2:])) <= (now[0]*60 + now[1]):\n",
    "                timetable.pop() \n",
    "        now[0], now[1] = now[0] + (now[1] + t)//60, (now[1] + t)%60\n",
    "    for _ in range(m-1):\n",
    "        if (int(timetable[-1][:2])*60 +int(timetable[-1][-2:])) <= (now[0]*60 + now[1]):\n",
    "            timetable.pop() \n",
    "    if (len(timetable) > 0) and (int(timetable[-1][:2])*60 +int(timetable[-1][-2:])) <= (now[0]*60 + now[1]):\n",
    "        answer = timetable[-1]\n",
    "        if answer[-2:] == \"00\":\n",
    "            answer = str(int(answer.split(\":\")[0]) -1).zfill(2) + \":59\"\n",
    "        else:\n",
    "            answer = answer.split(\":\")[0].zfill(2) + \":\" + str(int(answer.split(\":\")[1]) -1).zfill(2)\n",
    "    else:\n",
    "        answer = str(now[0]).zfill(2) + \":\" + str(now[1]).zfill(2)\n",
    "    return answer"
   ]
  },
  {
   "cell_type": "code",
   "execution_count": 58,
   "id": "e288e97c",
   "metadata": {},
   "outputs": [
    {
     "name": "stdout",
     "output_type": "stream",
     "text": [
      "[9, 0]\n"
     ]
    },
    {
     "data": {
      "text/plain": [
       "'09:00'"
      ]
     },
     "execution_count": 58,
     "metadata": {},
     "output_type": "execute_result"
    }
   ],
   "source": [
    "solution(1, 1, 5, [\"08:00\", \"08:01\", \"08:02\", \"08:03\"])"
   ]
  },
  {
   "cell_type": "code",
   "execution_count": 62,
   "id": "725ba740",
   "metadata": {},
   "outputs": [
    {
     "name": "stdout",
     "output_type": "stream",
     "text": [
      "[10, 10]\n",
      "[11, 20]\n",
      "[12, 30]\n",
      "[13, 40]\n",
      "[14, 50]\n",
      "[16, 0]\n",
      "[17, 10]\n",
      "[18, 20]\n",
      "[19, 30]\n"
     ]
    },
    {
     "data": {
      "text/plain": [
       "'19:30'"
      ]
     },
     "execution_count": 62,
     "metadata": {},
     "output_type": "execute_result"
    }
   ],
   "source": [
    "solution(10, 70, 45, [\"23:59\",\"23:59\", \"23:59\", \"23:59\", \"23:59\", \"23:59\", \"23:59\", \"23:59\", \"23:59\", \"23:59\", \"23:59\", \"23:59\", \"23:59\", \"23:59\", \"23:59\", \"23:59\"])"
   ]
  },
  {
   "cell_type": "code",
   "execution_count": 68,
   "id": "ca091cde",
   "metadata": {},
   "outputs": [
    {
     "name": "stdout",
     "output_type": "stream",
     "text": [
      "['09:05', '09:00']\n"
     ]
    },
    {
     "data": {
      "text/plain": [
       "'08:59'"
      ]
     },
     "execution_count": 68,
     "metadata": {},
     "output_type": "execute_result"
    }
   ],
   "source": [
    "solution(1, 1, 1, [\"09:00\", \"09:05\"])"
   ]
  },
  {
   "cell_type": "code",
   "execution_count": null,
   "id": "886e623e",
   "metadata": {},
   "outputs": [],
   "source": []
  }
 ],
 "metadata": {
  "kernelspec": {
   "display_name": "Python 3",
   "language": "python",
   "name": "python3"
  },
  "language_info": {
   "codemirror_mode": {
    "name": "ipython",
    "version": 3
   },
   "file_extension": ".py",
   "mimetype": "text/x-python",
   "name": "python",
   "nbconvert_exporter": "python",
   "pygments_lexer": "ipython3",
   "version": "3.8.8"
  },
  "toc": {
   "base_numbering": 1,
   "nav_menu": {},
   "number_sections": true,
   "sideBar": true,
   "skip_h1_title": false,
   "title_cell": "Table of Contents",
   "title_sidebar": "Contents",
   "toc_cell": false,
   "toc_position": {},
   "toc_section_display": true,
   "toc_window_display": false
  }
 },
 "nbformat": 4,
 "nbformat_minor": 5
}
