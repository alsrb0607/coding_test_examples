{
 "cells": [
  {
   "cell_type": "code",
   "execution_count": 37,
   "id": "9a5cfdb9",
   "metadata": {},
   "outputs": [],
   "source": [
    "gems = [\"DIA\", \"RUBY\", \"RUBY\", \"DIA\", \"DIA\", \"EMERALD\", \"SAPPHIRE\", \"DIA\"]\n",
    "targets = len(set(gems))"
   ]
  },
  {
   "cell_type": "code",
   "execution_count": 23,
   "id": "34804d6a",
   "metadata": {},
   "outputs": [
    {
     "data": {
      "text/plain": [
       "4"
      ]
     },
     "execution_count": 23,
     "metadata": {},
     "output_type": "execute_result"
    }
   ],
   "source": [
    "targets"
   ]
  },
  {
   "cell_type": "code",
   "execution_count": 24,
   "id": "9d008bf2",
   "metadata": {},
   "outputs": [],
   "source": [
    "tmp = set()\n",
    "i = 0\n",
    "answer = []\n",
    "for j, x in enumerate(gems):\n",
    "    tmp.add(x)\n",
    "    if len(tmp) == targets:\n",
    "        answer.append([i,i+j])\n",
    "        break\n"
   ]
  },
  {
   "cell_type": "code",
   "execution_count": 25,
   "id": "6099a778",
   "metadata": {},
   "outputs": [
    {
     "data": {
      "text/plain": [
       "[[0, 6]]"
      ]
     },
     "execution_count": 25,
     "metadata": {},
     "output_type": "execute_result"
    }
   ],
   "source": [
    "answer"
   ]
  },
  {
   "cell_type": "code",
   "execution_count": 38,
   "id": "54aeeb44",
   "metadata": {},
   "outputs": [
    {
     "data": {
      "text/plain": [
       "[[2, 6], [1, 6], [0, 6]]"
      ]
     },
     "execution_count": 38,
     "metadata": {},
     "output_type": "execute_result"
    }
   ],
   "source": [
    "i = -1\n",
    "answer = []\n",
    "while len(gems) >= targets:\n",
    "    i +=1\n",
    "    tmp = set()\n",
    "    for j, x in enumerate(gems):\n",
    "        tmp.add(x)\n",
    "        if len(tmp) == targets:\n",
    "            answer.append([i,i+j])\n",
    "            break\n",
    "    gems.pop(0)\n",
    "sorted(answer, key = lambda x: x[1]-x[0])"
   ]
  },
  {
   "cell_type": "code",
   "execution_count": 135,
   "id": "bca84587",
   "metadata": {},
   "outputs": [],
   "source": [
    "# 효율성 실패\n",
    "def solution(gems):\n",
    "    i = -1\n",
    "    answer = []\n",
    "    targets = len(set(gems))\n",
    "    while len(gems) >= targets:\n",
    "        i +=1\n",
    "        tmp = set()\n",
    "        cnt = 0\n",
    "        for j, x in enumerate(gems):\n",
    "            if x not in tmp:\n",
    "                tmp.add(x)\n",
    "                cnt +=1\n",
    "            if cnt == targets:\n",
    "                answer.append([i+1,i+j+1])\n",
    "                break\n",
    "        gems.pop(0)\n",
    "    return sorted(answer, key = lambda x: x[1]-x[0])[0]"
   ]
  },
  {
   "cell_type": "code",
   "execution_count": 65,
   "id": "05263099",
   "metadata": {},
   "outputs": [],
   "source": [
    "# 효율성 실패 - 더 비효율적이 되었다^\n",
    "def solution(gems):\n",
    "    i = -1\n",
    "    answer = []\n",
    "    end = len(gems)\n",
    "    targets = set(gems)\n",
    "    j = len(targets) - 1\n",
    "    tmp = set()\n",
    "    while j != end:\n",
    "        j +=1\n",
    "        i = -1\n",
    "        while i != end -j:\n",
    "            i +=1\n",
    "            for k in range(i, i+j):\n",
    "                tmp = set(gems[k:k+j])\n",
    "                if tmp == targets:\n",
    "                    return [k+1,k+j]\n",
    "                elif i == end -j:\n",
    "                    break\n",
    "        \n",
    "    return [1, end]"
   ]
  },
  {
   "cell_type": "code",
   "execution_count": 136,
   "id": "85836ad9",
   "metadata": {},
   "outputs": [
    {
     "data": {
      "text/plain": [
       "[3, 7]"
      ]
     },
     "execution_count": 136,
     "metadata": {},
     "output_type": "execute_result"
    }
   ],
   "source": [
    "solution([\"DIA\", \"RUBY\", \"RUBY\", \"DIA\", \"DIA\", \"EMERALD\", \"SAPPHIRE\", \"DIA\"])"
   ]
  },
  {
   "cell_type": "code",
   "execution_count": 137,
   "id": "17d3629c",
   "metadata": {},
   "outputs": [
    {
     "data": {
      "text/plain": [
       "[1, 5]"
      ]
     },
     "execution_count": 137,
     "metadata": {},
     "output_type": "execute_result"
    }
   ],
   "source": [
    "solution([\"ZZZ\", \"YYY\", \"NNNN\", \"YYY\", \"BBB\"])"
   ]
  },
  {
   "cell_type": "code",
   "execution_count": 138,
   "id": "279e8b03",
   "metadata": {},
   "outputs": [
    {
     "data": {
      "text/plain": [
       "[1, 3]"
      ]
     },
     "execution_count": 138,
     "metadata": {},
     "output_type": "execute_result"
    }
   ],
   "source": [
    "solution([\"AA\", \"AB\", \"AC\", \"AA\", \"AC\"])"
   ]
  },
  {
   "cell_type": "code",
   "execution_count": 139,
   "id": "0f50d087",
   "metadata": {},
   "outputs": [
    {
     "data": {
      "text/plain": [
       "[1, 1]"
      ]
     },
     "execution_count": 139,
     "metadata": {},
     "output_type": "execute_result"
    }
   ],
   "source": [
    "solution([\"XYZ\", \"XYZ\", \"XYZ\"])"
   ]
  },
  {
   "cell_type": "code",
   "execution_count": 128,
   "id": "1561c0f3",
   "metadata": {},
   "outputs": [],
   "source": [
    "# 효율성 실패\n",
    "def solution(gems):\n",
    "    answer = []\n",
    "    targets = len(set(gems))\n",
    "    length = targets -1\n",
    "    while not answer:\n",
    "        length += 1\n",
    "        i = -1\n",
    "        gems_tmp = gems.copy()\n",
    "        while (len(gems_tmp) >= length):\n",
    "            i +=1\n",
    "            tmp = set()\n",
    "            cnt = 0 \n",
    "            for j, x in enumerate(gems_tmp):\n",
    "                tmp.add(x)\n",
    "                cnt +=1\n",
    "                if len(tmp) == targets:\n",
    "                    answer.append([i+1,i+j+1])\n",
    "                    break\n",
    "                elif cnt == length:\n",
    "                    break\n",
    "            gems_tmp.pop(0)\n",
    "    return answer[0]"
   ]
  },
  {
   "cell_type": "code",
   "execution_count": 115,
   "id": "5f52eff0",
   "metadata": {},
   "outputs": [
    {
     "data": {
      "text/plain": [
       "[1, 2, 3]"
      ]
     },
     "execution_count": 115,
     "metadata": {},
     "output_type": "execute_result"
    }
   ],
   "source": [
    "a = [1,2,3]\n",
    "b= a.copy()\n",
    "a.remove(3)\n",
    "b"
   ]
  },
  {
   "cell_type": "code",
   "execution_count": 116,
   "id": "29bb1f5c",
   "metadata": {},
   "outputs": [
    {
     "data": {
      "text/plain": [
       "[1, 2]"
      ]
     },
     "execution_count": 116,
     "metadata": {},
     "output_type": "execute_result"
    }
   ],
   "source": [
    "a"
   ]
  },
  {
   "cell_type": "code",
   "execution_count": null,
   "id": "61a9dce5",
   "metadata": {},
   "outputs": [],
   "source": []
  }
 ],
 "metadata": {
  "kernelspec": {
   "display_name": "Python 3",
   "language": "python",
   "name": "python3"
  },
  "language_info": {
   "codemirror_mode": {
    "name": "ipython",
    "version": 3
   },
   "file_extension": ".py",
   "mimetype": "text/x-python",
   "name": "python",
   "nbconvert_exporter": "python",
   "pygments_lexer": "ipython3",
   "version": "3.8.8"
  },
  "toc": {
   "base_numbering": 1,
   "nav_menu": {},
   "number_sections": true,
   "sideBar": true,
   "skip_h1_title": false,
   "title_cell": "Table of Contents",
   "title_sidebar": "Contents",
   "toc_cell": false,
   "toc_position": {},
   "toc_section_display": true,
   "toc_window_display": false
  }
 },
 "nbformat": 4,
 "nbformat_minor": 5
}
