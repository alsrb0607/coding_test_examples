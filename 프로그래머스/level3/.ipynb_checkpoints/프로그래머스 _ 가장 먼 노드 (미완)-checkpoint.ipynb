{
 "cells": [
  {
   "cell_type": "code",
   "execution_count": 220,
   "id": "613a687a",
   "metadata": {},
   "outputs": [],
   "source": [
    "vertex = [[3, 6], [4, 3], [3, 2], [1, 3], [1, 2], [2, 4], [5, 2]]; n=6"
   ]
  },
  {
   "cell_type": "code",
   "execution_count": 221,
   "id": "81b394fa",
   "metadata": {},
   "outputs": [],
   "source": [
    "vertex = list(map(sorted, vertex))"
   ]
  },
  {
   "cell_type": "code",
   "execution_count": 222,
   "id": "5ac71e7e",
   "metadata": {},
   "outputs": [
    {
     "data": {
      "text/plain": [
       "[[3, 6], [3, 4], [2, 3], [1, 3], [1, 2], [2, 4], [2, 5]]"
      ]
     },
     "execution_count": 222,
     "metadata": {},
     "output_type": "execute_result"
    }
   ],
   "source": [
    "vertex"
   ]
  },
  {
   "cell_type": "code",
   "execution_count": 223,
   "id": "399e8d81",
   "metadata": {},
   "outputs": [],
   "source": [
    "before = [[0,1]]; after = []"
   ]
  },
  {
   "cell_type": "code",
   "execution_count": 224,
   "id": "f4dacc22",
   "metadata": {},
   "outputs": [
    {
     "name": "stdout",
     "output_type": "stream",
     "text": [
      "[] [[0, 3], [0, 2]]\n",
      "[] [[0, 4], [0, 5], [0, 6]]\n"
     ]
    }
   ],
   "source": [
    "for _ in range(n-1):\n",
    "    tmp2 = before.copy()\n",
    "    while before:\n",
    "        tmp = before.pop()\n",
    "        for x in vertex:\n",
    "            if (tmp[1] == x[0]) and ([tmp[0], x[1]]) not in after and ([tmp[0], x[1]]) not in before:\n",
    "                after.append([tmp[0], x[1]])\n",
    "    if (not after) and (not before):\n",
    "        break\n",
    "        \n",
    "    elif after:\n",
    "        print(before, after)\n",
    "        before, after = after, before\n",
    "        "
   ]
  },
  {
   "cell_type": "code",
   "execution_count": 213,
   "id": "0eef4ad3",
   "metadata": {},
   "outputs": [
    {
     "data": {
      "text/plain": [
       "True"
      ]
     },
     "execution_count": 213,
     "metadata": {},
     "output_type": "execute_result"
    }
   ],
   "source": [
    "[0,4] in [[0, 4], [0, 5], [0, 6]]"
   ]
  },
  {
   "cell_type": "code",
   "execution_count": 193,
   "id": "1c03c22d",
   "metadata": {},
   "outputs": [
    {
     "data": {
      "text/plain": [
       "[[0, 4], [0, 5], [0, 6], [0, 4]]"
      ]
     },
     "execution_count": 193,
     "metadata": {},
     "output_type": "execute_result"
    }
   ],
   "source": [
    "tmp2"
   ]
  },
  {
   "cell_type": "code",
   "execution_count": 227,
   "id": "9c98ae97",
   "metadata": {},
   "outputs": [],
   "source": [
    "def solution(n, vertex):\n",
    "    vertex = list(map(sorted, vertex))\n",
    "    before = [[0,1]]; after = []\n",
    "    for _ in range(n-1):\n",
    "        tmp2 = before.copy()\n",
    "        while before:\n",
    "            tmp = before.pop()\n",
    "            for x in vertex:\n",
    "                if (tmp[1] == x[0]) and ([tmp[0], x[1]]) not in after and ([tmp[0], x[1]]) not in before:\n",
    "                    after.append([tmp[0], x[1]])\n",
    "        if (not after) and (not before):\n",
    "            break\n",
    "\n",
    "        elif after:\n",
    "            before, after = after, before\n",
    "\n",
    "    return len(tmp2)"
   ]
  },
  {
   "cell_type": "code",
   "execution_count": 228,
   "id": "49648478",
   "metadata": {},
   "outputs": [
    {
     "data": {
      "text/plain": [
       "3"
      ]
     },
     "execution_count": 228,
     "metadata": {},
     "output_type": "execute_result"
    }
   ],
   "source": [
    "solution(6, [[3, 6], [4, 3], [3, 2], [1, 3], [1, 2], [2, 4], [5, 2]])"
   ]
  },
  {
   "cell_type": "code",
   "execution_count": null,
   "id": "465a316b",
   "metadata": {},
   "outputs": [],
   "source": []
  }
 ],
 "metadata": {
  "kernelspec": {
   "display_name": "Python 3",
   "language": "python",
   "name": "python3"
  },
  "language_info": {
   "codemirror_mode": {
    "name": "ipython",
    "version": 3
   },
   "file_extension": ".py",
   "mimetype": "text/x-python",
   "name": "python",
   "nbconvert_exporter": "python",
   "pygments_lexer": "ipython3",
   "version": "3.8.8"
  }
 },
 "nbformat": 4,
 "nbformat_minor": 5
}
