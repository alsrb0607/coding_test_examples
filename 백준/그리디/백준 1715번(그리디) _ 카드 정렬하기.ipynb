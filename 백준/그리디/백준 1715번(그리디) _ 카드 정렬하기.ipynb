{
 "cells": [
  {
   "cell_type": "code",
   "execution_count": 13,
   "id": "6e19716c",
   "metadata": {},
   "outputs": [
    {
     "name": "stdout",
     "output_type": "stream",
     "text": [
      "1\n",
      "100\n",
      "100\n"
     ]
    }
   ],
   "source": [
    "import heapq as hq\n",
    "n = int(input())\n",
    "m = [int(input()) for _ in range(n)]\n",
    "hq.heapify(m)\n",
    "if n==1:\n",
    "    print(0)\n",
    "else:\n",
    "    answer = 0\n",
    "    while len(m) >1:\n",
    "        a = hq.heappop(m)\n",
    "        b = hq.heappop(m)\n",
    "        hq.heappush(m, a+b)\n",
    "        answer += a+b\n",
    "    print(answer)"
   ]
  },
  {
   "cell_type": "code",
   "execution_count": null,
   "id": "398dcc0a",
   "metadata": {},
   "outputs": [],
   "source": [
    "import heapq as hq\n",
    "import sys\n",
    "n = int(sys.stdin.readline().strip())\n",
    "m = [int(sys.stdin.readline().strip()) for _ in range(n)]\n",
    "hq.heapify(m)\n",
    "if n==1:\n",
    "    print(0)\n",
    "else:\n",
    "    answer = 0\n",
    "    while len(m) >1:\n",
    "        a = hq.heappop(m)\n",
    "        b = hq.heappop(m)\n",
    "        hq.heappush(m, a+b)\n",
    "        answer += a+b\n",
    "    print(answer)"
   ]
  }
 ],
 "metadata": {
  "kernelspec": {
   "display_name": "Python 3",
   "language": "python",
   "name": "python3"
  },
  "language_info": {
   "codemirror_mode": {
    "name": "ipython",
    "version": 3
   },
   "file_extension": ".py",
   "mimetype": "text/x-python",
   "name": "python",
   "nbconvert_exporter": "python",
   "pygments_lexer": "ipython3",
   "version": "3.8.8"
  },
  "toc": {
   "base_numbering": 1,
   "nav_menu": {},
   "number_sections": true,
   "sideBar": true,
   "skip_h1_title": false,
   "title_cell": "Table of Contents",
   "title_sidebar": "Contents",
   "toc_cell": false,
   "toc_position": {},
   "toc_section_display": true,
   "toc_window_display": false
  }
 },
 "nbformat": 4,
 "nbformat_minor": 5
}
