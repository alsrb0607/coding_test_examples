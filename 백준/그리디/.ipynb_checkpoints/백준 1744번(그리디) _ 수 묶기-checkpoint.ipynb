{
 "cells": [
  {
   "cell_type": "code",
   "execution_count": 26,
   "id": "90ef365b",
   "metadata": {},
   "outputs": [
    {
     "name": "stdout",
     "output_type": "stream",
     "text": [
      "3\n",
      "3\n",
      "1\n",
      "1\n",
      "5\n"
     ]
    }
   ],
   "source": [
    "n=int(input())\n",
    "pos=[];neg=[];zero=False\n",
    "a=0;b=0;answer=0\n",
    "for _ in range(n):\n",
    "    if (m:=int(input()))>0:\n",
    "        pos.append(m)\n",
    "        a+=1\n",
    "    elif m==0:\n",
    "        zero=True\n",
    "    else:\n",
    "        neg.append(m)\n",
    "        b+=1\n",
    "pos.sort()\n",
    "neg.sort(reverse=True)\n",
    "while a>1 and 1 not in pos[-2:]:\n",
    "    answer += pos.pop()*pos.pop()\n",
    "    a-=2\n",
    "while b>1:\n",
    "    answer += neg.pop()*neg.pop()\n",
    "    b-=2\n",
    "if pos:\n",
    "    answer+=sum(pos)\n",
    "if neg:\n",
    "    if not zero:\n",
    "        answer += neg[0]\n",
    "print(answer)"
   ]
  },
  {
   "cell_type": "code",
   "execution_count": 27,
   "id": "0e2ed5c6",
   "metadata": {},
   "outputs": [
    {
     "name": "stdout",
     "output_type": "stream",
     "text": [
      "3\n",
      "3\n",
      "1\n",
      "1\n",
      "4\n"
     ]
    }
   ],
   "source": [
    "# 틀림\n",
    "n=int(input())\n",
    "pos=[];neg=[];zero=False\n",
    "a=0;b=0;answer=0\n",
    "for _ in range(n):\n",
    "    if (m:=int(input()))>0:\n",
    "        pos.append(m)\n",
    "        a+=1\n",
    "    elif m==0:\n",
    "        zero=True\n",
    "    else:\n",
    "        neg.append(m)\n",
    "        b+=1\n",
    "pos.sort()\n",
    "neg.sort(reverse=True)\n",
    "while a>1 and pos[-1]!=1:\n",
    "    answer += pos.pop()*pos.pop()\n",
    "    a-=2\n",
    "while b>1:\n",
    "    answer += neg.pop()*neg.pop()\n",
    "    b-=2\n",
    "if pos:\n",
    "    answer+=sum(pos)\n",
    "if neg:\n",
    "    if not zero:\n",
    "        answer += neg[0]\n",
    "print(answer)"
   ]
  },
  {
   "cell_type": "code",
   "execution_count": null,
   "id": "6970b341",
   "metadata": {},
   "outputs": [],
   "source": []
  }
 ],
 "metadata": {
  "kernelspec": {
   "display_name": "Python 3",
   "language": "python",
   "name": "python3"
  },
  "language_info": {
   "codemirror_mode": {
    "name": "ipython",
    "version": 3
   },
   "file_extension": ".py",
   "mimetype": "text/x-python",
   "name": "python",
   "nbconvert_exporter": "python",
   "pygments_lexer": "ipython3",
   "version": "3.8.8"
  },
  "toc": {
   "base_numbering": 1,
   "nav_menu": {},
   "number_sections": true,
   "sideBar": true,
   "skip_h1_title": false,
   "title_cell": "Table of Contents",
   "title_sidebar": "Contents",
   "toc_cell": false,
   "toc_position": {},
   "toc_section_display": true,
   "toc_window_display": false
  }
 },
 "nbformat": 4,
 "nbformat_minor": 5
}
