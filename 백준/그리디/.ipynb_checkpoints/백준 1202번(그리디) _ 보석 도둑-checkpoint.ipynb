{
 "cells": [
  {
   "cell_type": "code",
   "execution_count": null,
   "id": "55c70b67",
   "metadata": {},
   "outputs": [],
   "source": [
    "n,k = map(int,input().split())\n",
    "j = [list(map(int,input().split())) for _ in range(n)]\n",
    "b = [[False,int(input())] for _ in range(k)]\n",
    "j.sort(key=lambda x: x[1], reverse=True)\n",
    "b.sort(key=lambda x: x[1])\n",
    "bb = len(b)\n",
    "answer = 0\n",
    "for m,v in j:\n",
    "    i=0\n",
    "    while i<bb:\n",
    "        if b[i][1]>= m and not b[i][0]:\n",
    "            b[i][0]=True\n",
    "            answer+=v\n",
    "            break\n",
    "        i+=1  \n",
    "print(answer)"
   ]
  },
  {
   "cell_type": "code",
   "execution_count": null,
   "id": "75f59627",
   "metadata": {},
   "outputs": [],
   "source": [
    "# 시간 초과\n",
    "import sys\n",
    "input = sys.stdin.readline\n",
    "n,k = map(int,input().split())\n",
    "j = [list(map(int,input().split())) for _ in range(n)]\n",
    "b = [[False,int(input())] for _ in range(k)]\n",
    "j.sort(key=lambda x: x[1], reverse=True)\n",
    "b.sort(key=lambda x: x[1])\n",
    "bb = len(b)\n",
    "answer = 0\n",
    "for m,v in j:\n",
    "    i=0\n",
    "    while i<bb:\n",
    "        if b[i][1]>= m and not b[i][0]:\n",
    "            b[i][0]=True\n",
    "            answer+=v\n",
    "            break\n",
    "        i+=1  \n",
    "print(answer)"
   ]
  },
  {
   "cell_type": "code",
   "execution_count": null,
   "id": "1dccbc1b",
   "metadata": {},
   "outputs": [],
   "source": [
    "# 시간 초과\n",
    "# import sys\n",
    "# input = sys.stdin.readline\n",
    "n,k = map(int,input().split())\n",
    "j = [list(map(int,input().split())) for _ in range(n)]\n",
    "b = [int(input()) for _ in range(k)]\n",
    "j.sort(key=lambda x: x[1])\n",
    "b.sort()\n",
    "def put(j,b):\n",
    "    bb=len(b)\n",
    "    def find(m,b,bb):\n",
    "        i=0;e=bb-1\n",
    "        if m> b[e]:\n",
    "            return 'No'\n",
    "        while i!=e:\n",
    "            mid = (i+e)//2\n",
    "            if m==b[mid]:\n",
    "                return mid\n",
    "            elif m>b[mid]:\n",
    "                i=mid+1\n",
    "            else:\n",
    "                e=mid\n",
    "        return i\n",
    "    answer = 0\n",
    "    while bb and j:\n",
    "        m,v = j.pop()\n",
    "        k = find(m,b,bb)\n",
    "        if k!='No':\n",
    "            b.pop(k)\n",
    "            answer +=v\n",
    "            bb-=1\n",
    "    return answer            \n",
    "        \n",
    "print(put(j,b))\n"
   ]
  },
  {
   "cell_type": "code",
   "execution_count": null,
   "id": "8da295a9",
   "metadata": {},
   "outputs": [],
   "source": [
    "b"
   ]
  },
  {
   "cell_type": "code",
   "execution_count": null,
   "id": "a06ef547",
   "metadata": {},
   "outputs": [],
   "source": [
    "find(2, [2, 10],2)"
   ]
  },
  {
   "cell_type": "code",
   "execution_count": 3,
   "id": "df3b0454",
   "metadata": {},
   "outputs": [
    {
     "name": "stdout",
     "output_type": "stream",
     "text": [
      "3 2\n",
      "1 65\n",
      "5 23\n",
      "2 99\n",
      "10\n",
      "2\n",
      "164\n"
     ]
    }
   ],
   "source": [
    "import sys\n",
    "input = sys.stdin.readline\n",
    "import heapq\n",
    "n,k = map(int,input().split())\n",
    "j = [list(map(int,input().split())) for _ in range(n)]\n",
    "tmp = []\n",
    "b = [int(input()) for _ in range(k)]\n",
    "j.sort(key=lambda x: x[0])\n",
    "b.sort()\n",
    "answer = 0\n",
    "i = 0\n",
    "for bag in b:\n",
    "    while i < n and bag >= j[i][0]:\n",
    "        heapq.heappush(tmp, -j[i][1])\n",
    "        i += 1\n",
    "    if tmp:\n",
    "        answer += heapq.heappop(tmp)\n",
    "print(-answer)\n"
   ]
  },
  {
   "cell_type": "code",
   "execution_count": null,
   "id": "4f6dd634",
   "metadata": {},
   "outputs": [],
   "source": []
  }
 ],
 "metadata": {
  "kernelspec": {
   "display_name": "Python 3",
   "language": "python",
   "name": "python3"
  },
  "language_info": {
   "codemirror_mode": {
    "name": "ipython",
    "version": 3
   },
   "file_extension": ".py",
   "mimetype": "text/x-python",
   "name": "python",
   "nbconvert_exporter": "python",
   "pygments_lexer": "ipython3",
   "version": "3.8.8"
  },
  "toc": {
   "base_numbering": 1,
   "nav_menu": {},
   "number_sections": true,
   "sideBar": true,
   "skip_h1_title": false,
   "title_cell": "Table of Contents",
   "title_sidebar": "Contents",
   "toc_cell": false,
   "toc_position": {},
   "toc_section_display": true,
   "toc_window_display": false
  }
 },
 "nbformat": 4,
 "nbformat_minor": 5
}
