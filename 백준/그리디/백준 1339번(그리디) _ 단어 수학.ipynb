{
 "cells": [
  {
   "cell_type": "code",
   "execution_count": 151,
   "id": "89b614ca",
   "metadata": {},
   "outputs": [
    {
     "name": "stdout",
     "output_type": "stream",
     "text": [
      "2\n",
      "GCF\n",
      "ACDEB\n",
      "99437\n"
     ]
    }
   ],
   "source": [
    "# 오답\n",
    "n=int(input())\n",
    "tmp = dict(); d=dict(); k=0\n",
    "org = []\n",
    "for _ in range(n):\n",
    "    s=list(input())\n",
    "    l = len(s)\n",
    "    # (길이-1)의 최대 업데이트\n",
    "    k = max(l-1,k)\n",
    "    for i,x in enumerate(s):\n",
    "        if x not in d:\n",
    "            d[x] = -1\n",
    "        org.append((x,l-1-i))\n",
    "        tmp[l-1-i] = tmp.get(l-1-i,set())|{x}\n",
    "\n",
    "def match(d,tmp,k):\n",
    "    n = 9\n",
    "    l = len(d)\n",
    "    while n>=10-l and k>=0:\n",
    "        if len(tmp[k])==1:\n",
    "            d[tmp[k].pop()]=n\n",
    "            n-=1\n",
    "        else:\n",
    "            tmp2 = [[0,x] for x in tmp[k] if d[x]==-1]\n",
    "            c=k\n",
    "            while c>=0:\n",
    "                c = max(0,c-1)\n",
    "                for j,(m,x) in enumerate(tmp2):\n",
    "                    if x in tmp[c]:\n",
    "                        tmp2[j] = [max(m,c),x]\n",
    "                tmp2.sort(reverse = True)\n",
    "                for i ,(_,x) in enumerate(tmp2):\n",
    "                    d[x] = n-i\n",
    "                c-=1\n",
    "            n -= len(tmp2)\n",
    "        k-=1\n",
    "    return d\n",
    "print(sum(map(lambda x: match(d,tmp,k)[x[0]]*10**x[1], org)))                "
   ]
  },
  {
   "cell_type": "code",
   "execution_count": 164,
   "id": "e6a67575",
   "metadata": {},
   "outputs": [
    {
     "name": "stdout",
     "output_type": "stream",
     "text": [
      "2\n",
      "AB\n",
      "BA\n",
      "187\n"
     ]
    }
   ],
   "source": [
    "n=int(input())\n",
    "d=dict(); \n",
    "for _ in range(n):\n",
    "    s=list(input())\n",
    "    l = len(s)\n",
    "    for i,x in enumerate(s):\n",
    "        d[x] = d.get(x,0) + 10**(l-1-i)\n",
    "dd = list(d.items())\n",
    "dd.sort(key = lambda x: x[1], reverse = True)\n",
    "answer = 0\n",
    "for i,(_, x) in enumerate(dd):\n",
    "    answer += x*(9-i)\n",
    "print(answer)"
   ]
  },
  {
   "cell_type": "code",
   "execution_count": 156,
   "id": "e8eee3ae",
   "metadata": {},
   "outputs": [
    {
     "data": {
      "text/plain": [
       "[('G', 2),\n",
       " ('C', 1),\n",
       " ('F', 0),\n",
       " ('A', 4),\n",
       " ('C', 3),\n",
       " ('D', 2),\n",
       " ('E', 1),\n",
       " ('B', 0)]"
      ]
     },
     "execution_count": 156,
     "metadata": {},
     "output_type": "execute_result"
    }
   ],
   "source": [
    "org"
   ]
  },
  {
   "cell_type": "code",
   "execution_count": null,
   "id": "27701aa5",
   "metadata": {},
   "outputs": [],
   "source": []
  }
 ],
 "metadata": {
  "kernelspec": {
   "display_name": "Python 3",
   "language": "python",
   "name": "python3"
  },
  "language_info": {
   "codemirror_mode": {
    "name": "ipython",
    "version": 3
   },
   "file_extension": ".py",
   "mimetype": "text/x-python",
   "name": "python",
   "nbconvert_exporter": "python",
   "pygments_lexer": "ipython3",
   "version": "3.8.8"
  },
  "toc": {
   "base_numbering": 1,
   "nav_menu": {},
   "number_sections": true,
   "sideBar": true,
   "skip_h1_title": false,
   "title_cell": "Table of Contents",
   "title_sidebar": "Contents",
   "toc_cell": false,
   "toc_position": {},
   "toc_section_display": true,
   "toc_window_display": false
  }
 },
 "nbformat": 4,
 "nbformat_minor": 5
}
