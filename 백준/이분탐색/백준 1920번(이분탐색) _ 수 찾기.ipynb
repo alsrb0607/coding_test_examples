{
 "cells": [
  {
   "cell_type": "code",
   "execution_count": 38,
   "id": "9e1b4182",
   "metadata": {},
   "outputs": [
    {
     "name": "stdout",
     "output_type": "stream",
     "text": [
      "5\n",
      "4 1 5 2 3\n",
      "5\n",
      "1 3 7 9 5\n"
     ]
    }
   ],
   "source": [
    "n=int(input())\n",
    "a = sorted(list(map(int,input().split())))\n",
    "m=int(input())\n",
    "b = list(map(int,input().split()))"
   ]
  },
  {
   "cell_type": "code",
   "execution_count": 39,
   "id": "8180e737",
   "metadata": {},
   "outputs": [],
   "source": [
    "def check(a,n,m,x):\n",
    "    lo = 0; hi =n-1\n",
    "    while lo!=hi:\n",
    "        mid = (lo+hi)//2\n",
    "        if a[mid]>=x:\n",
    "            hi = mid\n",
    "        else:\n",
    "            lo = mid+1\n",
    "#         print(hi, lo)\n",
    "    print(1 if a[hi]==x else 0)\n",
    "    return"
   ]
  },
  {
   "cell_type": "code",
   "execution_count": 40,
   "id": "8c3bd56a",
   "metadata": {},
   "outputs": [
    {
     "name": "stdout",
     "output_type": "stream",
     "text": [
      "1\n",
      "1\n",
      "0\n",
      "0\n",
      "1\n"
     ]
    }
   ],
   "source": [
    "for x in b:\n",
    "    check(a,n,m,x)"
   ]
  },
  {
   "cell_type": "code",
   "execution_count": 43,
   "id": "d0054f93",
   "metadata": {},
   "outputs": [
    {
     "name": "stdout",
     "output_type": "stream",
     "text": [
      "5\n",
      "4 1 5 2 3\n",
      "5\n",
      "1 3 7 9 5\n",
      "True\n",
      "True\n",
      "False\n",
      "False\n",
      "True\n"
     ]
    }
   ],
   "source": [
    "n=int(input())\n",
    "a = set(map(int,input().split()))\n",
    "m=int(input())\n",
    "b = map(int,input().split())\n",
    "\n",
    "for x in b:\n",
    "    print(int(x in a))"
   ]
  },
  {
   "cell_type": "code",
   "execution_count": null,
   "id": "a66e0b7a",
   "metadata": {},
   "outputs": [],
   "source": []
  }
 ],
 "metadata": {
  "kernelspec": {
   "display_name": "Python 3",
   "language": "python",
   "name": "python3"
  },
  "language_info": {
   "codemirror_mode": {
    "name": "ipython",
    "version": 3
   },
   "file_extension": ".py",
   "mimetype": "text/x-python",
   "name": "python",
   "nbconvert_exporter": "python",
   "pygments_lexer": "ipython3",
   "version": "3.8.8"
  },
  "toc": {
   "base_numbering": 1,
   "nav_menu": {},
   "number_sections": true,
   "sideBar": true,
   "skip_h1_title": false,
   "title_cell": "Table of Contents",
   "title_sidebar": "Contents",
   "toc_cell": false,
   "toc_position": {},
   "toc_section_display": true,
   "toc_window_display": false
  }
 },
 "nbformat": 4,
 "nbformat_minor": 5
}
