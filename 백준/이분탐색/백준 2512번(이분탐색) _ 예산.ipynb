{
 "cells": [
  {
   "cell_type": "code",
   "execution_count": 17,
   "id": "f79c595b",
   "metadata": {},
   "outputs": [
    {
     "name": "stdout",
     "output_type": "stream",
     "text": [
      "4\n",
      "120 110 140 150\n",
      "485\n"
     ]
    }
   ],
   "source": [
    "n = int(input())\n",
    "b = list(map(int, input().split()))\n",
    "budget = int(input())"
   ]
  },
  {
   "cell_type": "code",
   "execution_count": 18,
   "id": "d30d379e",
   "metadata": {},
   "outputs": [
    {
     "name": "stdout",
     "output_type": "stream",
     "text": [
      "127\n"
     ]
    }
   ],
   "source": [
    "lo = 1; hi = max(b)\n",
    "while lo <= hi:\n",
    "    mid = (lo+hi)//2\n",
    "    tmp = 0\n",
    "    for x in b:\n",
    "        tmp += x if mid>=x else mid\n",
    "    if tmp > budget:\n",
    "        hi = mid -1\n",
    "    else:\n",
    "        lo = mid + 1\n",
    "print(hi)"
   ]
  },
  {
   "cell_type": "code",
   "execution_count": null,
   "id": "70303185",
   "metadata": {},
   "outputs": [],
   "source": []
  }
 ],
 "metadata": {
  "kernelspec": {
   "display_name": "Python 3 (ipykernel)",
   "language": "python",
   "name": "python3"
  },
  "language_info": {
   "codemirror_mode": {
    "name": "ipython",
    "version": 3
   },
   "file_extension": ".py",
   "mimetype": "text/x-python",
   "name": "python",
   "nbconvert_exporter": "python",
   "pygments_lexer": "ipython3",
   "version": "3.8.0"
  },
  "toc": {
   "base_numbering": 1,
   "nav_menu": {},
   "number_sections": true,
   "sideBar": true,
   "skip_h1_title": false,
   "title_cell": "Table of Contents",
   "title_sidebar": "Contents",
   "toc_cell": false,
   "toc_position": {},
   "toc_section_display": true,
   "toc_window_display": false
  }
 },
 "nbformat": 4,
 "nbformat_minor": 5
}
