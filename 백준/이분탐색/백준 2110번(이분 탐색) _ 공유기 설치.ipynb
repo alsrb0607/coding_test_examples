{
 "cells": [
  {
   "cell_type": "code",
   "execution_count": 34,
   "id": "2e2efb81",
   "metadata": {},
   "outputs": [
    {
     "name": "stdout",
     "output_type": "stream",
     "text": [
      "5 3\n",
      "1\n",
      "7\n",
      "8\n",
      "9\n",
      "10\n"
     ]
    }
   ],
   "source": [
    "n,c = map(int, input().split())\n",
    "h = [int(input()) for _ in range(n)]\n",
    "h.sort()\n",
    "lo = 1; hi = h[-1]-h[0]\n",
    "\n",
    "while lo<=hi:\n",
    "    mid = (lo+hi)//2\n",
    "    cnt = 1\n",
    "    for i,x in enumerate(h):\n",
    "        if i ==0:\n",
    "            a = x\n",
    "        elif x-a >= mid:\n",
    "            cnt+=1\n",
    "            a = x\n",
    "    if cnt>=c:\n",
    "        lo = mid + 1\n",
    "    else:\n",
    "        hi = mid - 1\n",
    "print(hi)"
   ]
  },
  {
   "cell_type": "code",
   "execution_count": 9,
   "id": "84ac6afc",
   "metadata": {},
   "outputs": [
    {
     "data": {
      "text/plain": [
       "1"
      ]
     },
     "execution_count": 9,
     "metadata": {},
     "output_type": "execute_result"
    }
   ],
   "source": [
    "hi"
   ]
  },
  {
   "cell_type": "code",
   "execution_count": null,
   "id": "681e2977",
   "metadata": {},
   "outputs": [],
   "source": [
    "x"
   ]
  },
  {
   "cell_type": "code",
   "execution_count": null,
   "id": "a415a455",
   "metadata": {},
   "outputs": [],
   "source": [
    "a"
   ]
  },
  {
   "cell_type": "code",
   "execution_count": null,
   "id": "d6f2de55",
   "metadata": {},
   "outputs": [],
   "source": []
  }
 ],
 "metadata": {
  "kernelspec": {
   "display_name": "Python 3 (ipykernel)",
   "language": "python",
   "name": "python3"
  },
  "language_info": {
   "codemirror_mode": {
    "name": "ipython",
    "version": 3
   },
   "file_extension": ".py",
   "mimetype": "text/x-python",
   "name": "python",
   "nbconvert_exporter": "python",
   "pygments_lexer": "ipython3",
   "version": "3.8.0"
  },
  "toc": {
   "base_numbering": 1,
   "nav_menu": {},
   "number_sections": true,
   "sideBar": true,
   "skip_h1_title": false,
   "title_cell": "Table of Contents",
   "title_sidebar": "Contents",
   "toc_cell": false,
   "toc_position": {},
   "toc_section_display": true,
   "toc_window_display": false
  }
 },
 "nbformat": 4,
 "nbformat_minor": 5
}
