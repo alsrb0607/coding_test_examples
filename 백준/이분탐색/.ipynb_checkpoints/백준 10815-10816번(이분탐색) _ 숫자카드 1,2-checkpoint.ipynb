{
 "cells": [
  {
   "cell_type": "code",
   "execution_count": null,
   "id": "a2649bfa",
   "metadata": {},
   "outputs": [],
   "source": [
    "# 숫자카드 1\n",
    "n=int(input())\n",
    "a=list(map(int, input().split()))\n",
    "m=int(input())\n",
    "b=list(map(int, input().split()))\n",
    "\n",
    "a.sort(); r=[]\n",
    "for x in b:\n",
    "    lo = 0; hi = n-1\n",
    "    while lo<=hi:\n",
    "        mid = (lo+hi)//2\n",
    "        if a[mid]>x:\n",
    "            hi = mid -1\n",
    "        elif a[mid]<=x:\n",
    "            lo = mid + 1\n",
    "    r.append(1 if a[hi]==x else 0)\n",
    "print(*r)"
   ]
  },
  {
   "cell_type": "code",
   "execution_count": 14,
   "id": "e2c8810e",
   "metadata": {},
   "outputs": [
    {
     "name": "stdout",
     "output_type": "stream",
     "text": [
      "10\n",
      "6 3 2 10 10 10 -10 -10 7 3\n",
      "8\n",
      "10 9 -5 2 3 4 5 -10\n",
      "3 0 0 1 2 0 0 2\n"
     ]
    }
   ],
   "source": [
    "# 숫자카드 2\n",
    "n=int(input())\n",
    "a=list(map(int, input().split()))\n",
    "m=int(input())\n",
    "b=list(map(int, input().split()))\n",
    "\n",
    "a.sort(); r=[]\n",
    "for x in b:\n",
    "    lo = 0; hi = n-1\n",
    "    while lo<=hi:\n",
    "        mid = (lo+hi)//2\n",
    "        if a[mid]>x:\n",
    "            hi = mid -1\n",
    "        elif a[mid]<=x:\n",
    "            lo = mid + 1\n",
    "    cnt = 0\n",
    "    while a[hi-cnt]==x:\n",
    "        cnt+=1\n",
    "    r.append(cnt)\n",
    "print(*r)"
   ]
  },
  {
   "cell_type": "code",
   "execution_count": 17,
   "id": "af9caeea",
   "metadata": {},
   "outputs": [
    {
     "name": "stdout",
     "output_type": "stream",
     "text": [
      "10\n",
      "6 3 2 10 10 10 -10 -10 7 3\n",
      "8\n",
      "10 9 -5 2 3 4 5 -10\n",
      "3 0 0 1 2 0 0 2\n"
     ]
    }
   ],
   "source": [
    "# 숫자카드 2\n",
    "n=int(input())\n",
    "a=map(int, input().split())\n",
    "m=int(input())\n",
    "b=list(map(int, input().split()))\n",
    "d = dict()\n",
    "\n",
    "for x in a:\n",
    "    d[x]=d.get(x,0) + 1\n",
    "r=[d[y] if y in d else 0 for y in b]\n",
    "\n",
    "print(*r)"
   ]
  },
  {
   "cell_type": "code",
   "execution_count": null,
   "id": "44bea5cb",
   "metadata": {},
   "outputs": [],
   "source": []
  }
 ],
 "metadata": {
  "kernelspec": {
   "display_name": "Python 3 (ipykernel)",
   "language": "python",
   "name": "python3"
  },
  "language_info": {
   "codemirror_mode": {
    "name": "ipython",
    "version": 3
   },
   "file_extension": ".py",
   "mimetype": "text/x-python",
   "name": "python",
   "nbconvert_exporter": "python",
   "pygments_lexer": "ipython3",
   "version": "3.8.0"
  },
  "toc": {
   "base_numbering": 1,
   "nav_menu": {},
   "number_sections": true,
   "sideBar": true,
   "skip_h1_title": false,
   "title_cell": "Table of Contents",
   "title_sidebar": "Contents",
   "toc_cell": false,
   "toc_position": {},
   "toc_section_display": true,
   "toc_window_display": false
  }
 },
 "nbformat": 4,
 "nbformat_minor": 5
}
