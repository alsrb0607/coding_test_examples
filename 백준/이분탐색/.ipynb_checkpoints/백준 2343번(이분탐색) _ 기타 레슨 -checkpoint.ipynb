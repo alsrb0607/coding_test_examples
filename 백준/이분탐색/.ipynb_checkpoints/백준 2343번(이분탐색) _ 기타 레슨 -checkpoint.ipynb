{
 "cells": [
  {
   "cell_type": "code",
   "execution_count": 18,
   "id": "eed2cb1a",
   "metadata": {},
   "outputs": [
    {
     "name": "stdout",
     "output_type": "stream",
     "text": [
      "7 6\n",
      "100 400 300 100 500 101 400\n",
      "500\n"
     ]
    }
   ],
   "source": [
    "n,m = map(int,input().split())\n",
    "v = list(map(int,input().split()))\n",
    "\n",
    "lo = max(v); hi = sum(v)\n",
    "\n",
    "while lo < hi:\n",
    "    mid = (lo+hi)//2\n",
    "    cnt = 1; tmp = 0\n",
    "    for x in v:\n",
    "        if tmp+x<=mid:\n",
    "            tmp +=x\n",
    "        else:\n",
    "            cnt+=1\n",
    "            tmp = x\n",
    "    if cnt>m:\n",
    "        lo = mid + 1\n",
    "    else:\n",
    "        hi = mid\n",
    "print(hi)"
   ]
  },
  {
   "cell_type": "code",
   "execution_count": 17,
   "id": "ee3bbe85",
   "metadata": {},
   "outputs": [
    {
     "data": {
      "text/plain": [
       "(400, 400, 400)"
      ]
     },
     "execution_count": 17,
     "metadata": {},
     "output_type": "execute_result"
    }
   ],
   "source": [
    "lo,hi,mid"
   ]
  },
  {
   "cell_type": "code",
   "execution_count": null,
   "id": "ad6333ae",
   "metadata": {},
   "outputs": [],
   "source": []
  }
 ],
 "metadata": {
  "kernelspec": {
   "display_name": "Python 3 (ipykernel)",
   "language": "python",
   "name": "python3"
  },
  "language_info": {
   "codemirror_mode": {
    "name": "ipython",
    "version": 3
   },
   "file_extension": ".py",
   "mimetype": "text/x-python",
   "name": "python",
   "nbconvert_exporter": "python",
   "pygments_lexer": "ipython3",
   "version": "3.8.0"
  },
  "toc": {
   "base_numbering": 1,
   "nav_menu": {},
   "number_sections": true,
   "sideBar": true,
   "skip_h1_title": false,
   "title_cell": "Table of Contents",
   "title_sidebar": "Contents",
   "toc_cell": false,
   "toc_position": {},
   "toc_section_display": true,
   "toc_window_display": false
  }
 },
 "nbformat": 4,
 "nbformat_minor": 5
}
