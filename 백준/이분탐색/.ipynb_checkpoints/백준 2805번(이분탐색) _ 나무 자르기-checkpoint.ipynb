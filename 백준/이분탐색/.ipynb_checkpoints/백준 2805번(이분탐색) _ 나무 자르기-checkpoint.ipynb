{
 "cells": [
  {
   "cell_type": "code",
   "execution_count": 109,
   "id": "96fa3968",
   "metadata": {},
   "outputs": [
    {
     "name": "stdout",
     "output_type": "stream",
     "text": [
      "5 20\n",
      "4 42 40 26 46\n"
     ]
    }
   ],
   "source": [
    "n,m=map(int,input().split())\n",
    "tree = list(map(int,input().split()))\n"
   ]
  },
  {
   "cell_type": "code",
   "execution_count": 84,
   "id": "1928587a",
   "metadata": {},
   "outputs": [
    {
     "name": "stdout",
     "output_type": "stream",
     "text": [
      "0\n"
     ]
    }
   ],
   "source": [
    "lo = 0; hi = max(tree)\n",
    "while True:\n",
    "    mid = (lo + hi)//2\n",
    "    s=sum(map(lambda x: max(0,x-mid), tree))\n",
    "    if s>m:\n",
    "        lo = mid +1\n",
    "    elif s<=m:\n",
    "        hi = mid\n",
    "    if s>=m and lo==hi:\n",
    "        break\n",
    "        \n",
    "print(mid)"
   ]
  },
  {
   "cell_type": "code",
   "execution_count": 111,
   "id": "297c462d",
   "metadata": {},
   "outputs": [
    {
     "name": "stdout",
     "output_type": "stream",
     "text": [
      "0 499999999 500000000 0\n",
      "0 249999998 249999999 0\n",
      "0 124999998 124999999 0\n",
      "0 62499998 62499999 0\n",
      "0 31249998 31249999 0\n",
      "0 15624998 15624999 0\n",
      "0 7812498 7812499 0\n",
      "0 3906248 3906249 0\n",
      "0 1953123 1953124 0\n",
      "0 976560 976561 0\n",
      "0 488279 488280 0\n",
      "0 244138 244139 0\n",
      "0 122068 122069 0\n",
      "0 61033 61034 0\n",
      "0 30515 30516 0\n",
      "0 15256 15257 0\n",
      "0 7627 7628 0\n",
      "0 3812 3813 0\n",
      "0 1905 1906 0\n",
      "0 951 952 0\n",
      "0 474 475 0\n",
      "0 236 237 0\n",
      "0 117 118 0\n",
      "0 57 58 0\n",
      "29 57 28 44\n",
      "29 42 43 3\n",
      "36 42 35 23\n",
      "36 38 39 11\n",
      "36 36 37 17\n",
      "37 36 36 20\n",
      "36\n"
     ]
    }
   ],
   "source": [
    "lo = 0; hi = 1000000000\n",
    "while lo<=hi:\n",
    "    mid = (lo + hi)//2\n",
    "    s=sum(x-mid if x>mid else 0 for x in tree)\n",
    "    if s>=m:\n",
    "        lo = mid +1\n",
    "    elif s<m:\n",
    "        hi = mid -1\n",
    "    print(lo,hi,mid,s) \n",
    "print(hi)"
   ]
  },
  {
   "cell_type": "code",
   "execution_count": null,
   "id": "c28dea37",
   "metadata": {},
   "outputs": [],
   "source": []
  }
 ],
 "metadata": {
  "kernelspec": {
   "display_name": "Python 3",
   "language": "python",
   "name": "python3"
  },
  "language_info": {
   "codemirror_mode": {
    "name": "ipython",
    "version": 3
   },
   "file_extension": ".py",
   "mimetype": "text/x-python",
   "name": "python",
   "nbconvert_exporter": "python",
   "pygments_lexer": "ipython3",
   "version": "3.8.8"
  },
  "toc": {
   "base_numbering": 1,
   "nav_menu": {},
   "number_sections": true,
   "sideBar": true,
   "skip_h1_title": false,
   "title_cell": "Table of Contents",
   "title_sidebar": "Contents",
   "toc_cell": false,
   "toc_position": {},
   "toc_section_display": true,
   "toc_window_display": false
  }
 },
 "nbformat": 4,
 "nbformat_minor": 5
}
