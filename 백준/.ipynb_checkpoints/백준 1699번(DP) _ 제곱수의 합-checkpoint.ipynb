{
 "cells": [
  {
   "cell_type": "code",
   "execution_count": 37,
   "id": "e6291315",
   "metadata": {},
   "outputs": [
    {
     "name": "stdout",
     "output_type": "stream",
     "text": [
      "13\n",
      "2\n"
     ]
    }
   ],
   "source": [
    "# 시간초과\n",
    "n = int(input())\n",
    "a = [1,2,3] + [0]*(n-3)\n",
    "if n <=3: print(a[n-1])\n",
    "else:\n",
    "    for i in range(3,n):\n",
    "        if int((i+1)**(0.5)) == (i+1)**(0.5): a[i] =1\n",
    "        else:\n",
    "            a[i] = min([a[j] + a[i-1-j] for j in range(i//2)])\n",
    "    print(a[-1])"
   ]
  },
  {
   "cell_type": "code",
   "execution_count": 11,
   "id": "0e6d5cee",
   "metadata": {},
   "outputs": [
    {
     "data": {
      "text/plain": [
       "[1, 2, 3, 1]"
      ]
     },
     "execution_count": 11,
     "metadata": {},
     "output_type": "execute_result"
    }
   ],
   "source": [
    "a"
   ]
  },
  {
   "cell_type": "code",
   "execution_count": 60,
   "id": "f3f19ab0",
   "metadata": {},
   "outputs": [
    {
     "name": "stdout",
     "output_type": "stream",
     "text": [
      "100000\n",
      "2\n"
     ]
    }
   ],
   "source": [
    "n = int(input())\n",
    "a = [1,2,3] + [0]*(n-3)\n",
    "if n <=3: print(a[n-1])\n",
    "else:\n",
    "    for i in range(3,n):\n",
    "        k = int((i+1)**(0.5))\n",
    "        if k == (i+1)**(0.5): a[i] =1\n",
    "        else:            \n",
    "            for j in range(1, k+1):\n",
    "                tmp = a[j**2-1] + a[i-j**2]\n",
    "                if a[i] ==0:\n",
    "                    a[i] = tmp\n",
    "                elif a[i] > tmp:\n",
    "                    a[i] = tmp\n",
    "    print(a[-1])"
   ]
  },
  {
   "cell_type": "code",
   "execution_count": 58,
   "id": "2706bdfb",
   "metadata": {},
   "outputs": [
    {
     "name": "stdout",
     "output_type": "stream",
     "text": [
      "100000\n",
      "2\n"
     ]
    }
   ],
   "source": [
    "N = int(input())\n",
    "dp = [i for i in range(N + 1)]\n",
    "\n",
    "for i in range(1, N + 1):\n",
    "    j = 1\n",
    "\n",
    "    while j * j <= i:\n",
    "        if dp[i] > dp[i - j * j] + 1:\n",
    "            dp[i] = dp[i - j * j] + 1\n",
    "    \n",
    "        j += 1\n",
    "\n",
    "print(dp[N])"
   ]
  },
  {
   "cell_type": "code",
   "execution_count": null,
   "id": "da616ff7",
   "metadata": {},
   "outputs": [],
   "source": []
  }
 ],
 "metadata": {
  "kernelspec": {
   "display_name": "Python 3",
   "language": "python",
   "name": "python3"
  },
  "language_info": {
   "codemirror_mode": {
    "name": "ipython",
    "version": 3
   },
   "file_extension": ".py",
   "mimetype": "text/x-python",
   "name": "python",
   "nbconvert_exporter": "python",
   "pygments_lexer": "ipython3",
   "version": "3.8.8"
  },
  "toc": {
   "base_numbering": 1,
   "nav_menu": {},
   "number_sections": true,
   "sideBar": true,
   "skip_h1_title": false,
   "title_cell": "Table of Contents",
   "title_sidebar": "Contents",
   "toc_cell": false,
   "toc_position": {},
   "toc_section_display": true,
   "toc_window_display": false
  }
 },
 "nbformat": 4,
 "nbformat_minor": 5
}
