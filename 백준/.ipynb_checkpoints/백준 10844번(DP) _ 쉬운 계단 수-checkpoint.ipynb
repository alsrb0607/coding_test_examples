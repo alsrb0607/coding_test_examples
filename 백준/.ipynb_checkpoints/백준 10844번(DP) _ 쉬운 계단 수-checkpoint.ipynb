{
 "cells": [
  {
   "cell_type": "code",
   "execution_count": 18,
   "id": "39857121",
   "metadata": {},
   "outputs": [
    {
     "name": "stdout",
     "output_type": "stream",
     "text": [
      "3\n",
      "32\n"
     ]
    }
   ],
   "source": [
    "n=int(input())\n",
    "def dic(n):\n",
    "    d = dict()\n",
    "    d[0] = 1\n",
    "    for i in range(1,10):\n",
    "        d[i]=1\n",
    "    for _ in range(n-1):\n",
    "        dd = dict()\n",
    "        for i in range(0,10):\n",
    "            if i ==0:\n",
    "                dd[i] = d[i+1]\n",
    "            elif i ==9:\n",
    "                dd[i] = d[i-1]\n",
    "            else:\n",
    "                dd[i] = d[i+1] + d[i-1]\n",
    "        d = dd\n",
    "    return (sum(d.values()) - d[0])%1000000000\n",
    "print(dic(n))"
   ]
  },
  {
   "cell_type": "code",
   "execution_count": null,
   "id": "49cc92d7",
   "metadata": {},
   "outputs": [],
   "source": []
  }
 ],
 "metadata": {
  "kernelspec": {
   "display_name": "Python 3",
   "language": "python",
   "name": "python3"
  },
  "language_info": {
   "codemirror_mode": {
    "name": "ipython",
    "version": 3
   },
   "file_extension": ".py",
   "mimetype": "text/x-python",
   "name": "python",
   "nbconvert_exporter": "python",
   "pygments_lexer": "ipython3",
   "version": "3.8.8"
  },
  "toc": {
   "base_numbering": 1,
   "nav_menu": {},
   "number_sections": true,
   "sideBar": true,
   "skip_h1_title": false,
   "title_cell": "Table of Contents",
   "title_sidebar": "Contents",
   "toc_cell": false,
   "toc_position": {},
   "toc_section_display": true,
   "toc_window_display": false
  }
 },
 "nbformat": 4,
 "nbformat_minor": 5
}
