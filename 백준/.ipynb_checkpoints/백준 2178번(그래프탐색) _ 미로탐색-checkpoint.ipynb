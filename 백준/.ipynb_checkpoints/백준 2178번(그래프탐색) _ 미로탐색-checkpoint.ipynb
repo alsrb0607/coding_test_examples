{
 "cells": [
  {
   "cell_type": "code",
   "execution_count": 7,
   "id": "39f814c5",
   "metadata": {},
   "outputs": [
    {
     "data": {
      "text/plain": [
       "['1', '2', '3', '4']"
      ]
     },
     "execution_count": 7,
     "metadata": {},
     "output_type": "execute_result"
    }
   ],
   "source": [
    "list(\"1234\")"
   ]
  },
  {
   "cell_type": "code",
   "execution_count": 9,
   "id": "b0d164ed",
   "metadata": {},
   "outputs": [
    {
     "name": "stdout",
     "output_type": "stream",
     "text": [
      "4 6\n",
      "101111\n",
      "101010\n",
      "101011\n",
      "111011\n"
     ]
    }
   ],
   "source": [
    "a, b = map(int, input().split())\n",
    "tmp = []\n",
    "for _ in range(a):\n",
    "    tmp.append(list((map(int, list(input())))))"
   ]
  },
  {
   "cell_type": "code",
   "execution_count": 165,
   "id": "d76c37da",
   "metadata": {},
   "outputs": [],
   "source": [
    "tmp = [[1, 1, 1],\n",
    " [1, 1, 1],\n",
    " [1, 1, 1]]\n",
    "cur = [[0,0]]"
   ]
  },
  {
   "cell_type": "code",
   "execution_count": 166,
   "id": "f8829484",
   "metadata": {},
   "outputs": [],
   "source": [
    "def step(arr, cur):\n",
    "    step = [(0,1), (1,0), (-1,0), (0,-1)]; nxt = []\n",
    "    c = len(arr); d = len(arr[0])\n",
    "    for x in cur:\n",
    "        i,j = x\n",
    "        for p, q in step:\n",
    "            if (0<= i+p < c) and (0<= j+q < d) and (arr[i+p][j+q])==1:\n",
    "                nxt.append([i+p, j+q])\n",
    "                arr[i+p][j+q] = arr[i][j] + 1\n",
    "        if (i,j) == (c-1, d-1):\n",
    "            return arr[i][j], 0\n",
    "        arr[i][j] = 0\n",
    "    return arr, nxt"
   ]
  },
  {
   "cell_type": "code",
   "execution_count": 167,
   "id": "ff47e536",
   "metadata": {},
   "outputs": [
    {
     "name": "stdout",
     "output_type": "stream",
     "text": [
      "[[0, 2, 1], [2, 1, 1], [1, 1, 1]]\n",
      "[[0, 0, 3], [0, 3, 1], [3, 1, 1]]\n",
      "[[0, 0, 0], [0, 0, 4], [0, 4, 1]]\n",
      "[[0, 0, 0], [0, 0, 0], [0, 0, 5]]\n",
      "5\n"
     ]
    }
   ],
   "source": [
    "while cur:\n",
    "    tmp, cur = step(tmp, cur)\n",
    "    print(tmp)"
   ]
  },
  {
   "cell_type": "code",
   "execution_count": 149,
   "id": "867532dd",
   "metadata": {},
   "outputs": [
    {
     "data": {
      "text/plain": [
       "9"
      ]
     },
     "execution_count": 149,
     "metadata": {},
     "output_type": "execute_result"
    }
   ],
   "source": [
    "tmp"
   ]
  },
  {
   "cell_type": "code",
   "execution_count": 122,
   "id": "a2afa366",
   "metadata": {},
   "outputs": [
    {
     "data": {
      "text/plain": [
       "([[0, 0, 0, 0, 0, 0],\n",
       "  [0, 0, 0, 0, 0, 0],\n",
       "  [0, 0, 0, 0, 0, 0],\n",
       "  [0, 0, 0, 0, 0, 15]],\n",
       " [[3, 5], [3, 5]])"
      ]
     },
     "execution_count": 122,
     "metadata": {},
     "output_type": "execute_result"
    }
   ],
   "source": [
    "tmp, cur"
   ]
  },
  {
   "cell_type": "code",
   "execution_count": 171,
   "id": "0f5fc370",
   "metadata": {},
   "outputs": [
    {
     "name": "stdout",
     "output_type": "stream",
     "text": [
      "3 3\n",
      "111\n",
      "111\n",
      "111\n",
      "5\n"
     ]
    }
   ],
   "source": [
    "a, b = map(int, input().split())\n",
    "tmp = [list(map(int, list(input()))) for _ in range(a)]; cur = [[0,0]]\n",
    "def step(arr, cur, a, b):\n",
    "    step = [(0,1), (1,0), (-1,0), (0,-1)]; nxt = []\n",
    "    for x in cur:\n",
    "        i,j = x\n",
    "        for p, q in step:\n",
    "            if (0<= i+p < a) and (0<= j+q < b) and (arr[i+p][j+q])==1:\n",
    "                nxt.append([i+p, j+q])\n",
    "                arr[i+p][j+q] = arr[i][j] + 1\n",
    "        if (i,j) == (a-1, b-1):\n",
    "            return arr[i][j], 0\n",
    "        arr[i][j] = 0\n",
    "    return arr, nxt\n",
    "while cur:\n",
    "    tmp, cur = step(tmp, cur, a, b)\n",
    "print(tmp)"
   ]
  },
  {
   "cell_type": "code",
   "execution_count": 173,
   "id": "c84d1c75",
   "metadata": {},
   "outputs": [],
   "source": [
    "pp, qq = map(int, '3 5'.split())"
   ]
  },
  {
   "cell_type": "code",
   "execution_count": 174,
   "id": "0149b03a",
   "metadata": {},
   "outputs": [
    {
     "data": {
      "text/plain": [
       "(3, 5)"
      ]
     },
     "execution_count": 174,
     "metadata": {},
     "output_type": "execute_result"
    }
   ],
   "source": [
    "pp, qq"
   ]
  },
  {
   "cell_type": "code",
   "execution_count": 183,
   "id": "909bd797",
   "metadata": {},
   "outputs": [
    {
     "ename": "TypeError",
     "evalue": "'map' object is not subscriptable",
     "output_type": "error",
     "traceback": [
      "\u001b[1;31m---------------------------------------------------------------------------\u001b[0m",
      "\u001b[1;31mTypeError\u001b[0m                                 Traceback (most recent call last)",
      "\u001b[1;32m<ipython-input-183-802257bf8afb>\u001b[0m in \u001b[0;36m<module>\u001b[1;34m\u001b[0m\n\u001b[1;32m----> 1\u001b[1;33m \u001b[0mmap\u001b[0m\u001b[1;33m(\u001b[0m\u001b[0mint\u001b[0m \u001b[1;33m,\u001b[0m \u001b[0mlist\u001b[0m\u001b[1;33m(\u001b[0m\u001b[1;34m\"12345\"\u001b[0m\u001b[1;33m)\u001b[0m\u001b[1;33m)\u001b[0m\u001b[1;33m[\u001b[0m\u001b[1;36m0\u001b[0m\u001b[1;33m]\u001b[0m\u001b[1;33m\u001b[0m\u001b[1;33m\u001b[0m\u001b[0m\n\u001b[0m",
      "\u001b[1;31mTypeError\u001b[0m: 'map' object is not subscriptable"
     ]
    }
   ],
   "source": [
    "map(int , list(\"12345\"))[0]"
   ]
  },
  {
   "cell_type": "code",
   "execution_count": 198,
   "id": "d51bc951",
   "metadata": {
    "scrolled": true
   },
   "outputs": [
    {
     "ename": "TypeError",
     "evalue": "'str' object cannot be interpreted as an integer",
     "output_type": "error",
     "traceback": [
      "\u001b[1;31m---------------------------------------------------------------------------\u001b[0m",
      "\u001b[1;31mTypeError\u001b[0m                                 Traceback (most recent call last)",
      "\u001b[1;32m<ipython-input-198-b96a7380ce73>\u001b[0m in \u001b[0;36m<module>\u001b[1;34m\u001b[0m\n\u001b[0;32m      1\u001b[0m \u001b[1;32mimport\u001b[0m \u001b[0msys\u001b[0m\u001b[1;33m\u001b[0m\u001b[1;33m\u001b[0m\u001b[0m\n\u001b[1;32m----> 2\u001b[1;33m \u001b[0ma\u001b[0m\u001b[1;33m,\u001b[0m \u001b[0mb\u001b[0m \u001b[1;33m=\u001b[0m \u001b[0mmap\u001b[0m\u001b[1;33m(\u001b[0m\u001b[0mint\u001b[0m\u001b[1;33m,\u001b[0m \u001b[0msys\u001b[0m\u001b[1;33m.\u001b[0m\u001b[0mstdin\u001b[0m\u001b[1;33m.\u001b[0m\u001b[0mreadline\u001b[0m\u001b[1;33m(\u001b[0m\u001b[1;34m\"4 6\"\u001b[0m\u001b[1;33m)\u001b[0m\u001b[1;33m.\u001b[0m\u001b[0msplit\u001b[0m\u001b[1;33m(\u001b[0m\u001b[1;33m)\u001b[0m\u001b[1;33m)\u001b[0m\u001b[1;33m;\u001b[0m \u001b[0mtmp\u001b[0m \u001b[1;33m=\u001b[0m \u001b[1;33m[\u001b[0m\u001b[1;33m]\u001b[0m\u001b[1;33m;\u001b[0m \u001b[0mcur\u001b[0m \u001b[1;33m=\u001b[0m \u001b[1;33m[\u001b[0m\u001b[1;33m[\u001b[0m\u001b[1;36m0\u001b[0m\u001b[1;33m,\u001b[0m\u001b[1;36m0\u001b[0m\u001b[1;33m]\u001b[0m\u001b[1;33m]\u001b[0m\u001b[1;33m\u001b[0m\u001b[1;33m\u001b[0m\u001b[0m\n\u001b[0m\u001b[0;32m      3\u001b[0m \u001b[1;32mfor\u001b[0m \u001b[0mx\u001b[0m \u001b[1;32min\u001b[0m \u001b[0msys\u001b[0m\u001b[1;33m.\u001b[0m\u001b[0mstdin\u001b[0m\u001b[1;33m.\u001b[0m\u001b[0mreadlines\u001b[0m\u001b[1;33m(\u001b[0m\u001b[1;33m)\u001b[0m\u001b[1;33m:\u001b[0m\u001b[1;33m\u001b[0m\u001b[1;33m\u001b[0m\u001b[0m\n\u001b[0;32m      4\u001b[0m     \u001b[0mtmp\u001b[0m\u001b[1;33m.\u001b[0m\u001b[0mappend\u001b[0m\u001b[1;33m(\u001b[0m\u001b[0mlist\u001b[0m\u001b[1;33m(\u001b[0m\u001b[0mmap\u001b[0m\u001b[1;33m(\u001b[0m\u001b[0mint\u001b[0m\u001b[1;33m,\u001b[0m \u001b[0mlist\u001b[0m\u001b[1;33m(\u001b[0m\u001b[0mx\u001b[0m\u001b[1;33m)\u001b[0m\u001b[1;33m)\u001b[0m\u001b[1;33m)\u001b[0m\u001b[1;33m)\u001b[0m\u001b[1;33m\u001b[0m\u001b[1;33m\u001b[0m\u001b[0m\n\u001b[0;32m      5\u001b[0m \u001b[1;32mdef\u001b[0m \u001b[0mstep\u001b[0m\u001b[1;33m(\u001b[0m\u001b[0marr\u001b[0m\u001b[1;33m,\u001b[0m \u001b[0mcur\u001b[0m\u001b[1;33m,\u001b[0m \u001b[0ma\u001b[0m\u001b[1;33m,\u001b[0m \u001b[0mb\u001b[0m\u001b[1;33m)\u001b[0m\u001b[1;33m:\u001b[0m\u001b[1;33m\u001b[0m\u001b[1;33m\u001b[0m\u001b[0m\n",
      "\u001b[1;31mTypeError\u001b[0m: 'str' object cannot be interpreted as an integer"
     ]
    }
   ],
   "source": [
    "# 두번째 줄을 받아올 때는 split()을 하지 않으므로, 뒤에 있는 \\n을 제거하기 위해 strip()이 필요\n",
    "import sys\n",
    "a, b = list(map(int, sys.stdin.readline().split()))\n",
    "tmp = [list(map(int, list(sys.stdin.readline().strip()))) for _ in range(a)]; cur = [[0,0]]\n",
    "def step(arr, cur, a, b):\n",
    "    step = [(0,1), (1,0), (-1,0), (0,-1)]; nxt = []\n",
    "    for x in cur:\n",
    "        i,j = x\n",
    "        for p, q in step:\n",
    "            if (0<= i+p < a) and (0<= j+q < b) and (arr[i+p][j+q])==1:\n",
    "                nxt.append([i+p, j+q])\n",
    "                arr[i+p][j+q] = arr[i][j] + 1\n",
    "        if (i,j) == (a-1, b-1):\n",
    "            return arr[i][j], 0\n",
    "        arr[i][j] = 0\n",
    "    return arr, nxt\n",
    "while cur:\n",
    "    tmp, cur = step(tmp, cur, a, b)\n",
    "print(tmp)"
   ]
  },
  {
   "cell_type": "code",
   "execution_count": 211,
   "id": "1244bca3",
   "metadata": {},
   "outputs": [
    {
     "name": "stdout",
     "output_type": "stream",
     "text": [
      "123 \n"
     ]
    },
    {
     "ename": "ValueError",
     "evalue": "invalid literal for int() with base 10: ' '",
     "output_type": "error",
     "traceback": [
      "\u001b[1;31m---------------------------------------------------------------------------\u001b[0m",
      "\u001b[1;31mValueError\u001b[0m                                Traceback (most recent call last)",
      "\u001b[1;32m<ipython-input-211-9fff276d3929>\u001b[0m in \u001b[0;36m<module>\u001b[1;34m\u001b[0m\n\u001b[1;32m----> 1\u001b[1;33m \u001b[0mlist\u001b[0m\u001b[1;33m(\u001b[0m\u001b[0mmap\u001b[0m\u001b[1;33m(\u001b[0m\u001b[0mint\u001b[0m\u001b[1;33m,\u001b[0m \u001b[0minput\u001b[0m\u001b[1;33m(\u001b[0m\u001b[1;33m)\u001b[0m\u001b[1;33m)\u001b[0m\u001b[1;33m)\u001b[0m\u001b[1;33m\u001b[0m\u001b[1;33m\u001b[0m\u001b[0m\n\u001b[0m",
      "\u001b[1;31mValueError\u001b[0m: invalid literal for int() with base 10: ' '"
     ]
    }
   ],
   "source": [
    "list(map(int, input()))"
   ]
  },
  {
   "cell_type": "code",
   "execution_count": null,
   "id": "2d0db880",
   "metadata": {},
   "outputs": [],
   "source": []
  }
 ],
 "metadata": {
  "kernelspec": {
   "display_name": "Python 3",
   "language": "python",
   "name": "python3"
  },
  "language_info": {
   "codemirror_mode": {
    "name": "ipython",
    "version": 3
   },
   "file_extension": ".py",
   "mimetype": "text/x-python",
   "name": "python",
   "nbconvert_exporter": "python",
   "pygments_lexer": "ipython3",
   "version": "3.8.8"
  },
  "toc": {
   "base_numbering": 1,
   "nav_menu": {},
   "number_sections": true,
   "sideBar": true,
   "skip_h1_title": false,
   "title_cell": "Table of Contents",
   "title_sidebar": "Contents",
   "toc_cell": false,
   "toc_position": {},
   "toc_section_display": true,
   "toc_window_display": false
  }
 },
 "nbformat": 4,
 "nbformat_minor": 5
}
