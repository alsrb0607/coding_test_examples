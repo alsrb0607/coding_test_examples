{
 "cells": [
  {
   "cell_type": "code",
   "execution_count": 4,
   "id": "d855f38c",
   "metadata": {},
   "outputs": [
    {
     "name": "stdout",
     "output_type": "stream",
     "text": [
      "18\n"
     ]
    }
   ],
   "source": [
    "N = int(input())"
   ]
  },
  {
   "cell_type": "code",
   "execution_count": 10,
   "id": "35339dad",
   "metadata": {},
   "outputs": [],
   "source": [
    "def sugar(N):\n",
    "    if not N%5:\n",
    "        return N//5\n",
    "    a ,b = N//5, N%5\n",
    "    while (b%3) and a:\n",
    "        a -= 1\n",
    "        b+=5\n",
    "    if (not a) and (b%3) :\n",
    "        return -1\n",
    "    else:\n",
    "        return a + b//3"
   ]
  },
  {
   "cell_type": "code",
   "execution_count": 13,
   "id": "55982465",
   "metadata": {},
   "outputs": [
    {
     "data": {
      "text/plain": [
       "3"
      ]
     },
     "execution_count": 13,
     "metadata": {},
     "output_type": "execute_result"
    }
   ],
   "source": [
    "sugar(11)"
   ]
  },
  {
   "cell_type": "code",
   "execution_count": 15,
   "id": "b4416307",
   "metadata": {},
   "outputs": [
    {
     "name": "stdout",
     "output_type": "stream",
     "text": [
      "4\n",
      "-1\n"
     ]
    }
   ],
   "source": [
    "n=int(input())\n",
    "print(-(n in[4,7])or n-2*n//5*2)"
   ]
  },
  {
   "cell_type": "code",
   "execution_count": 24,
   "id": "b801e7d9",
   "metadata": {},
   "outputs": [],
   "source": [
    "n = 28"
   ]
  },
  {
   "cell_type": "code",
   "execution_count": 25,
   "id": "bdef704b",
   "metadata": {},
   "outputs": [
    {
     "data": {
      "text/plain": [
       "22"
      ]
     },
     "execution_count": 25,
     "metadata": {},
     "output_type": "execute_result"
    }
   ],
   "source": [
    "2*n//5*2"
   ]
  },
  {
   "cell_type": "code",
   "execution_count": 20,
   "id": "2237a73f",
   "metadata": {},
   "outputs": [
    {
     "data": {
      "text/plain": [
       "0"
      ]
     },
     "execution_count": 20,
     "metadata": {},
     "output_type": "execute_result"
    }
   ],
   "source": [
    "-(n in[4,7])"
   ]
  },
  {
   "cell_type": "code",
   "execution_count": null,
   "id": "d9aba0b3",
   "metadata": {},
   "outputs": [],
   "source": []
  }
 ],
 "metadata": {
  "kernelspec": {
   "display_name": "Python 3",
   "language": "python",
   "name": "python3"
  },
  "language_info": {
   "codemirror_mode": {
    "name": "ipython",
    "version": 3
   },
   "file_extension": ".py",
   "mimetype": "text/x-python",
   "name": "python",
   "nbconvert_exporter": "python",
   "pygments_lexer": "ipython3",
   "version": "3.8.11"
  },
  "toc": {
   "base_numbering": 1,
   "nav_menu": {},
   "number_sections": true,
   "sideBar": true,
   "skip_h1_title": false,
   "title_cell": "Table of Contents",
   "title_sidebar": "Contents",
   "toc_cell": false,
   "toc_position": {},
   "toc_section_display": true,
   "toc_window_display": false
  }
 },
 "nbformat": 4,
 "nbformat_minor": 5
}
