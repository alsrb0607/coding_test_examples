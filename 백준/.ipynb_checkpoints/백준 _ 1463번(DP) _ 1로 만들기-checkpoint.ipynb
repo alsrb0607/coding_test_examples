{
 "cells": [
  {
   "cell_type": "code",
   "execution_count": 15,
   "id": "02b2e7c8",
   "metadata": {},
   "outputs": [
    {
     "name": "stdout",
     "output_type": "stream",
     "text": [
      "48\n",
      "5\n"
     ]
    }
   ],
   "source": [
    "# 일반화 불가능\n",
    "n = int(input())\n",
    "cnt = 0\n",
    "while n!=1:\n",
    "    if not n%3:\n",
    "        n //= 3\n",
    "        cnt +=1\n",
    "    elif not n%4:\n",
    "        n //= 4\n",
    "        cnt += 2\n",
    "    else:\n",
    "        n -= 1\n",
    "        cnt +=1\n",
    "print(cnt)"
   ]
  },
  {
   "cell_type": "code",
   "execution_count": 31,
   "id": "0d518c84",
   "metadata": {},
   "outputs": [
    {
     "name": "stdout",
     "output_type": "stream",
     "text": [
      "10\n",
      "3\n"
     ]
    }
   ],
   "source": [
    "d = [0] * 10**(6)\n",
    "for i in range(1, 10**(6)):\n",
    "    if not (i+1)%6:\n",
    "        d[i] = min(d[(i//3)]+1, d[(i//2)]+1, d[i-1]+1)\n",
    "    elif not (i+1)%3:\n",
    "        d[i] = min(d[(i//3)]+1, d[i-1]+1)\n",
    "    elif not (i+1)%2:\n",
    "        d[i] = min(d[(i//2)]+1, d[i-1]+1)\n",
    "    else:\n",
    "        d[i] = d[i-1]+1\n",
    "print(d[int(input())-1])"
   ]
  },
  {
   "cell_type": "code",
   "execution_count": 33,
   "id": "f4e8c8f3",
   "metadata": {},
   "outputs": [
    {
     "data": {
      "text/plain": [
       "9"
      ]
     },
     "execution_count": 33,
     "metadata": {},
     "output_type": "execute_result"
    }
   ],
   "source": [
    "d[320]"
   ]
  },
  {
   "cell_type": "code",
   "execution_count": null,
   "id": "7e0b5e2b",
   "metadata": {},
   "outputs": [],
   "source": []
  }
 ],
 "metadata": {
  "kernelspec": {
   "display_name": "Python 3",
   "language": "python",
   "name": "python3"
  },
  "language_info": {
   "codemirror_mode": {
    "name": "ipython",
    "version": 3
   },
   "file_extension": ".py",
   "mimetype": "text/x-python",
   "name": "python",
   "nbconvert_exporter": "python",
   "pygments_lexer": "ipython3",
   "version": "3.8.8"
  },
  "toc": {
   "base_numbering": 1,
   "nav_menu": {},
   "number_sections": true,
   "sideBar": true,
   "skip_h1_title": false,
   "title_cell": "Table of Contents",
   "title_sidebar": "Contents",
   "toc_cell": false,
   "toc_position": {},
   "toc_section_display": true,
   "toc_window_display": false
  }
 },
 "nbformat": 4,
 "nbformat_minor": 5
}
