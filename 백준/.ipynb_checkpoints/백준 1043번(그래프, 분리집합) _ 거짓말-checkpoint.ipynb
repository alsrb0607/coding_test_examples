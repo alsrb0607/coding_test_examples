{
 "cells": [
  {
   "cell_type": "code",
   "execution_count": 31,
   "id": "3411ed1b",
   "metadata": {},
   "outputs": [
    {
     "name": "stdout",
     "output_type": "stream",
     "text": [
      "4 5\n",
      "1 1\n",
      "1 2\n",
      "1 3\n",
      "2 4 2\n",
      "2 4 1\n",
      "1 1\n",
      "1\n"
     ]
    }
   ],
   "source": [
    "n,m = map(int,input().split())\n",
    "t = map(int,input().split())\n",
    "if t ==0:\n",
    "    print(m)\n",
    "else:\n",
    "    truth = set(list(t)[1:])\n",
    "    party = []\n",
    "    for _ in range(m):\n",
    "        tmp,*tmp2 = map(int,input().split())\n",
    "        tmp2 = set(tmp2)\n",
    "        party.append(tmp2)\n",
    "# print(truth)\n",
    "\n",
    "def know(truth,party,n):\n",
    "    for _ in range(n):\n",
    "        for x in party:\n",
    "            if truth.intersection(x):\n",
    "                truth = truth.union(x)\n",
    "    return truth\n",
    "\n",
    "truth = know(truth,party,n)\n",
    "\n",
    "def count(x):\n",
    "    return 0 if truth.intersection(x) else 1\n",
    "print(sum(map(count,party)))"
   ]
  },
  {
   "cell_type": "code",
   "execution_count": 32,
   "id": "bc674db3",
   "metadata": {},
   "outputs": [
    {
     "data": {
      "text/plain": [
       "{1, 2, 4}"
      ]
     },
     "execution_count": 32,
     "metadata": {},
     "output_type": "execute_result"
    }
   ],
   "source": [
    "truth"
   ]
  },
  {
   "cell_type": "code",
   "execution_count": 30,
   "id": "b23e0325",
   "metadata": {},
   "outputs": [
    {
     "data": {
      "text/plain": [
       "[{1}, {2}, {3}, {2, 4}, {1, 4}]"
      ]
     },
     "execution_count": 30,
     "metadata": {},
     "output_type": "execute_result"
    }
   ],
   "source": [
    "party"
   ]
  },
  {
   "cell_type": "code",
   "execution_count": null,
   "id": "0d8561a2",
   "metadata": {},
   "outputs": [],
   "source": []
  }
 ],
 "metadata": {
  "kernelspec": {
   "display_name": "Python 3 (ipykernel)",
   "language": "python",
   "name": "python3"
  },
  "language_info": {
   "codemirror_mode": {
    "name": "ipython",
    "version": 3
   },
   "file_extension": ".py",
   "mimetype": "text/x-python",
   "name": "python",
   "nbconvert_exporter": "python",
   "pygments_lexer": "ipython3",
   "version": "3.8.0"
  },
  "toc": {
   "base_numbering": 1,
   "nav_menu": {},
   "number_sections": true,
   "sideBar": true,
   "skip_h1_title": false,
   "title_cell": "Table of Contents",
   "title_sidebar": "Contents",
   "toc_cell": false,
   "toc_position": {},
   "toc_section_display": true,
   "toc_window_display": false
  }
 },
 "nbformat": 4,
 "nbformat_minor": 5
}
