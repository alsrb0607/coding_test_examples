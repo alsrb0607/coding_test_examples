{
 "cells": [
  {
   "cell_type": "code",
   "execution_count": 6,
   "id": "fbc7e813",
   "metadata": {},
   "outputs": [
    {
     "name": "stdout",
     "output_type": "stream",
     "text": [
      "7 8\n",
      "0 1 3\n",
      "1 1 7\n",
      "NO\n",
      "0 7 6\n",
      "1 7 1\n",
      "NO\n",
      "0 3 7\n",
      "0 4 2\n",
      "0 1 1\n",
      "1 1 1\n",
      "YES\n"
     ]
    }
   ],
   "source": [
    "n,m = map(int,input().split())\n",
    "t=[i for i in range(n+1)]\n",
    "def root(a):\n",
    "    if t[a]==a:\n",
    "        return a\n",
    "    t[a]=root(t[a])\n",
    "    return t[a]\n",
    "def union(a,b):\n",
    "    x=root(a);y=root(b)\n",
    "    if x==y:\n",
    "        return\n",
    "    t[y]=x\n",
    "for _ in range(m):\n",
    "    a,b,c=map(int,input().split())\n",
    "    if a==0:\n",
    "        union(b,c)\n",
    "    elif a==1:\n",
    "        print('YES' if root(b)==root(c) else 'NO')"
   ]
  },
  {
   "cell_type": "code",
   "execution_count": null,
   "id": "a4dce2a9",
   "metadata": {},
   "outputs": [],
   "source": [
    "import sys\n",
    "input=sys.stdin.readline\n",
    "sys.setrecursionlimit(10**6)\n",
    "n,m = map(int,input().split())\n",
    "t=[i for i in range(n+1)]\n",
    "def root(a):\n",
    "    if t[a]==a:\n",
    "        return a\n",
    "    t[a]=root(t[a])\n",
    "    return t[a]\n",
    "def union(a,b):\n",
    "    x=root(a);y=root(b)\n",
    "    if x==y:\n",
    "        return\n",
    "    t[y]=x\n",
    "for _ in range(m):\n",
    "    a,b,c=map(int,input().split())\n",
    "    if a==0:\n",
    "        union(b,c)\n",
    "    elif a==1:\n",
    "        print('YES' if root(b)==root(c) else 'NO')"
   ]
  }
 ],
 "metadata": {
  "kernelspec": {
   "display_name": "Python 3",
   "language": "python",
   "name": "python3"
  },
  "language_info": {
   "codemirror_mode": {
    "name": "ipython",
    "version": 3
   },
   "file_extension": ".py",
   "mimetype": "text/x-python",
   "name": "python",
   "nbconvert_exporter": "python",
   "pygments_lexer": "ipython3",
   "version": "3.8.8"
  },
  "toc": {
   "base_numbering": 1,
   "nav_menu": {},
   "number_sections": true,
   "sideBar": true,
   "skip_h1_title": false,
   "title_cell": "Table of Contents",
   "title_sidebar": "Contents",
   "toc_cell": false,
   "toc_position": {},
   "toc_section_display": true,
   "toc_window_display": false
  }
 },
 "nbformat": 4,
 "nbformat_minor": 5
}
