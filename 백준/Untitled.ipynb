{
 "cells": [
  {
   "cell_type": "code",
   "execution_count": 27,
   "id": "55a85385",
   "metadata": {},
   "outputs": [
    {
     "name": "stdout",
     "output_type": "stream",
     "text": [
      "\"4 \\n 2\"\n"
     ]
    },
    {
     "ename": "TypeError",
     "evalue": "'str' object cannot be interpreted as an integer",
     "output_type": "error",
     "traceback": [
      "\u001b[1;31m---------------------------------------------------------------------------\u001b[0m",
      "\u001b[1;31mTypeError\u001b[0m                                 Traceback (most recent call last)",
      "\u001b[1;32m<ipython-input-27-4e2e8c6fcf0f>\u001b[0m in \u001b[0;36m<module>\u001b[1;34m\u001b[0m\n\u001b[0;32m      1\u001b[0m \u001b[1;32mimport\u001b[0m \u001b[0msys\u001b[0m\u001b[1;33m\u001b[0m\u001b[1;33m\u001b[0m\u001b[0m\n\u001b[0;32m      2\u001b[0m \u001b[0mn\u001b[0m \u001b[1;33m=\u001b[0m \u001b[0minput\u001b[0m\u001b[1;33m(\u001b[0m\u001b[1;33m)\u001b[0m\u001b[1;33m\u001b[0m\u001b[1;33m\u001b[0m\u001b[0m\n\u001b[1;32m----> 3\u001b[1;33m \u001b[0ma\u001b[0m \u001b[1;33m=\u001b[0m \u001b[1;33m[\u001b[0m\u001b[0mint\u001b[0m\u001b[1;33m(\u001b[0m\u001b[0msys\u001b[0m\u001b[1;33m.\u001b[0m\u001b[0mstdin\u001b[0m\u001b[1;33m.\u001b[0m\u001b[0mreadline\u001b[0m\u001b[1;33m(\u001b[0m\u001b[1;33m)\u001b[0m\u001b[1;33m)\u001b[0m \u001b[1;32mfor\u001b[0m \u001b[0mi\u001b[0m \u001b[1;32min\u001b[0m \u001b[0mrange\u001b[0m\u001b[1;33m(\u001b[0m\u001b[0mn\u001b[0m\u001b[1;33m)\u001b[0m\u001b[1;33m]\u001b[0m\u001b[1;33m\u001b[0m\u001b[1;33m\u001b[0m\u001b[0m\n\u001b[0m",
      "\u001b[1;31mTypeError\u001b[0m: 'str' object cannot be interpreted as an integer"
     ]
    }
   ],
   "source": [
    "import sys  \n",
    "n = input()  \n",
    "a = [int(sys.stdin.readline()) for i in range(n)]"
   ]
  },
  {
   "cell_type": "code",
   "execution_count": 23,
   "id": "59a2359b",
   "metadata": {},
   "outputs": [],
   "source": [
    "n, k = 1000, 9"
   ]
  },
  {
   "cell_type": "code",
   "execution_count": 24,
   "id": "a57bcf3a",
   "metadata": {},
   "outputs": [
    {
     "name": "stdout",
     "output_type": "stream",
     "text": [
      "580113733\n"
     ]
    }
   ],
   "source": [
    "def nCk(n, k):\n",
    "    numerator = 1\n",
    "    denominator = 1\n",
    "    k = min(n-k, k) \n",
    "    for i in range(1, k+1):\n",
    "        denominator *= i\n",
    "        numerator *= n+1-i\n",
    "    return int(numerator/denominator)\n",
    "\n",
    "if k > (n+1)//2:\n",
    "    print(0)\n",
    "else:\n",
    "    print((nCk(n-3 - (k-2), k-1) + nCk(n-1 - (k-1), k))% 1000000003)"
   ]
  },
  {
   "cell_type": "code",
   "execution_count": 67,
   "id": "527695a8",
   "metadata": {},
   "outputs": [
    {
     "name": "stdout",
     "output_type": "stream",
     "text": [
      "100\n",
      "2\n",
      "4850\n"
     ]
    }
   ],
   "source": [
    "N = list(input() for _ in range(2))\n",
    "n, k = int(N[0]), int(N[1])\n",
    "\n",
    "def nCk(n, k):\n",
    "    numerator = 1\n",
    "    denominator = 1\n",
    "    k = min(n-k, k) \n",
    "    for i in range(1, k+1):\n",
    "        denominator *= i\n",
    "        numerator *= n+1-i\n",
    "    return int(numerator/denominator)\n",
    "\n",
    "if k > n/2:\n",
    "    print(0)\n",
    "else:\n",
    "    print((nCk(n-3 - (k-2), k-1) + nCk(n-1 - (k-1), k)) % 1000000003)"
   ]
  },
  {
   "cell_type": "code",
   "execution_count": 89,
   "id": "22735a0b",
   "metadata": {},
   "outputs": [
    {
     "name": "stdout",
     "output_type": "stream",
     "text": [
      "100\n",
      "30\n",
      "857553681\n"
     ]
    }
   ],
   "source": [
    "N = list(input() for _ in range(2))\n",
    "n, k = int(N[0]), int(N[1])\n",
    "\n",
    "def nCk(n, k):\n",
    "    numerator = 1\n",
    "    denominator = 1\n",
    "    k = min(n-k, k) \n",
    "    for i in range(1, k+1):\n",
    "        denominator *= i\n",
    "        numerator *= n+1-i\n",
    "    return int(numerator/denominator)\n",
    "\n",
    "if k > n/2:\n",
    "    print(0)\n",
    "else:\n",
    "    print((nCk(n-3 - (k-2), k-1)  + nCk(n-1 - (k-1), k)) % 1000000003)"
   ]
  },
  {
   "cell_type": "code",
   "execution_count": 87,
   "id": "a986abfb",
   "metadata": {},
   "outputs": [
    {
     "data": {
      "text/plain": [
       "315763311"
      ]
     },
     "execution_count": 87,
     "metadata": {},
     "output_type": "execute_result"
    }
   ],
   "source": [
    "(nCk(979,19) + nCk(980,20))% 1000000003"
   ]
  },
  {
   "cell_type": "code",
   "execution_count": 85,
   "id": "99318a07",
   "metadata": {},
   "outputs": [
    {
     "data": {
      "text/plain": [
       "225752650356644046532859320355267494805504"
      ]
     },
     "execution_count": 85,
     "metadata": {},
     "output_type": "execute_result"
    }
   ],
   "source": [
    "nCk(980,20)"
   ]
  },
  {
   "cell_type": "code",
   "execution_count": 90,
   "id": "f3728987",
   "metadata": {},
   "outputs": [
    {
     "name": "stdout",
     "output_type": "stream",
     "text": [
      "100\n",
      "30\n",
      "857553505\n"
     ]
    }
   ],
   "source": [
    "import sys \n",
    "mod = 1000000003 \n",
    "n = int(input()) \n",
    "k = int(input()) \n",
    "dp = [[0] * (k + 1) for _ in range(n + 1)] \n",
    "for i in range(n + 1): \n",
    "    dp[i][0] = 1 \n",
    "    dp[i][1] = i \n",
    "    for i in range(2, n + 1): \n",
    "        for j in range(2, k + 1): \n",
    "            if i == n: \n",
    "                dp[i][j] = dp[i - 3][j - 1] + dp[i - 1][j] \n",
    "            else: \n",
    "                dp[i][j] = dp[i - 1][j] + dp[i - 2][j - 1] \n",
    "            dp[i][j] %= mod \n",
    "print(dp[n][k])"
   ]
  },
  {
   "cell_type": "code",
   "execution_count": 1,
   "id": "45e28264",
   "metadata": {},
   "outputs": [
    {
     "data": {
      "text/plain": [
       "<AxesSubplot:>"
      ]
     },
     "execution_count": 1,
     "metadata": {},
     "output_type": "execute_result"
    },
    {
     "data": {
      "image/png": "[encoded data removed]",
      "text/plain": [
       "<Figure size 432x288 with 1 Axes>"
      ]
     },
     "metadata": {
      "needs_background": "light"
     },
     "output_type": "display_data"
    }
   ],
   "source": [
    "import seaborn as sns\n",
    "sns.violinplot()"
   ]
  },
  {
   "cell_type": "code",
   "execution_count": 2,
   "id": "d6b253a7",
   "metadata": {},
   "outputs": [
    {
     "ename": "SyntaxError",
     "evalue": "unexpected EOF while parsing (Temp/ipykernel_46160/915870937.py, line 4)",
     "output_type": "error",
     "traceback": [
      "\u001b[1;36m  File \u001b[1;32m\"C:\\Users\\jeon6\\AppData\\Local\\Temp/ipykernel_46160/915870937.py\"\u001b[1;36m, line \u001b[1;32m4\u001b[0m\n\u001b[1;33m    #               fill=True\u001b[0m\n\u001b[1;37m                             ^\u001b[0m\n\u001b[1;31mSyntaxError\u001b[0m\u001b[1;31m:\u001b[0m unexpected EOF while parsing\n"
     ]
    }
   ],
   "source": [
    "sns.jointplot(x='math score', y='reading score',data=student,\n",
    "#               hue='gender', \n",
    "              kind='kde', # { “scatter” | “kde” | “hist” | “hex” | “reg” | “resid” }, \n",
    "#               fill=True"
   ]
  },
  {
   "cell_type": "code",
   "execution_count": 5,
   "id": "25f1d66f",
   "metadata": {},
   "outputs": [
    {
     "name": "stderr",
     "output_type": "stream",
     "text": [
      "INFO:__main__:console logging redirected to `tqdm.write()`                                                             \n",
      "100%|█████████████████████████████████████████████████████████████████| 99999999/99999999 [00:36<00:00, 2726125.95it/s]\n"
     ]
    }
   ],
   "source": [
    "import logging\n",
    "from tqdm import trange\n",
    "from tqdm.contrib.logging import logging_redirect_tqdm\n",
    "\n",
    "LOG = logging.getLogger(__name__)\n",
    "\n",
    "if __name__ == '__main__':\n",
    "    logging.basicConfig(level=logging.INFO)\n",
    "    with logging_redirect_tqdm():\n",
    "        for i in trange(99999999):\n",
    "            if i == 4:\n",
    "                LOG.info(\"console logging redirected to `tqdm.write()`\")\n",
    "    # logging restored"
   ]
  },
  {
   "cell_type": "code",
   "execution_count": 12,
   "id": "32fc5be2",
   "metadata": {},
   "outputs": [
    {
     "data": {
      "text/plain": [
       "[11, 2, 13]"
      ]
     },
     "execution_count": 12,
     "metadata": {},
     "output_type": "execute_result"
    }
   ],
   "source": [
    "a = [1,2,3]\n",
    "list(map(lambda x:x+10 if x%2 else x, a))"
   ]
  },
  {
   "cell_type": "code",
   "execution_count": null,
   "id": "4013300b",
   "metadata": {},
   "outputs": [],
   "source": []
  }
 ],
 "metadata": {
  "kernelspec": {
   "display_name": "Python 3 (ipykernel)",
   "language": "python",
   "name": "python3"
  },
  "language_info": {
   "codemirror_mode": {
    "name": "ipython",
    "version": 3
   },
   "file_extension": ".py",
   "mimetype": "text/x-python",
   "name": "python",
   "nbconvert_exporter": "python",
   "pygments_lexer": "ipython3",
   "version": "3.8.0"
  },
  "toc": {
   "base_numbering": 1,
   "nav_menu": {},
   "number_sections": true,
   "sideBar": true,
   "skip_h1_title": false,
   "title_cell": "Table of Contents",
   "title_sidebar": "Contents",
   "toc_cell": false,
   "toc_position": {},
   "toc_section_display": true,
   "toc_window_display": false
  }
 },
 "nbformat": 4,
 "nbformat_minor": 5
}
