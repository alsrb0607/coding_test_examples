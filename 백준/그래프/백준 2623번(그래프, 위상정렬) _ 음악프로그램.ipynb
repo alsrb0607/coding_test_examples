{
 "cells": [
  {
   "cell_type": "code",
   "execution_count": 44,
   "id": "7938058e",
   "metadata": {},
   "outputs": [
    {
     "name": "stdout",
     "output_type": "stream",
     "text": [
      "6 3\n",
      "3 1 4 3\n",
      "4 6 2 5 4\n",
      "2 2 3\n"
     ]
    }
   ],
   "source": [
    "n,m = map(int, input().split())\n",
    "d = [None] + [0]*(n)\n",
    "g = [[] for _ in range(n+1)]\n",
    "for _ in range(m):\n",
    "    tmp = list(map(int,input().split()))\n",
    "    for i,x in enumerate(tmp):\n",
    "        if i!=0 and i!=tmp[0]:\n",
    "            g[x].append(tmp[i+1])\n",
    "            d[tmp[i+1]] += 1"
   ]
  },
  {
   "cell_type": "code",
   "execution_count": 57,
   "id": "1a3fe48f",
   "metadata": {},
   "outputs": [],
   "source": [
    "from collections import deque\n",
    "def find(g,d,n):\n",
    "    q=deque([])\n",
    "    for i,x in enumerate(d):\n",
    "        if x==0:\n",
    "            q.append(i)\n",
    "    order = []\n",
    "    while q:\n",
    "        a = q.popleft()\n",
    "        order.append(a)\n",
    "        for x in g[a]:\n",
    "            d[x] -= 1\n",
    "            if d[x]==0:\n",
    "                q.append(x)\n",
    "    return order if len(order)==n else [0]"
   ]
  },
  {
   "cell_type": "code",
   "execution_count": 59,
   "id": "f1e9e66d",
   "metadata": {},
   "outputs": [
    {
     "name": "stdout",
     "output_type": "stream",
     "text": [
      "1\n",
      "6\n",
      "2\n",
      "5\n",
      "4\n",
      "3\n"
     ]
    }
   ],
   "source": [
    "print(*find(g.copy(),d.copy(),n), sep = '\\n')"
   ]
  },
  {
   "cell_type": "code",
   "execution_count": 61,
   "id": "0ad507c2",
   "metadata": {},
   "outputs": [
    {
     "ename": "TypeError",
     "evalue": "print() argument after * must be an iterable, not int",
     "output_type": "error",
     "traceback": [
      "\u001b[1;31m---------------------------------------------------------------------------\u001b[0m",
      "\u001b[1;31mTypeError\u001b[0m                                 Traceback (most recent call last)",
      "\u001b[1;32m~\\AppData\\Local\\Temp/ipykernel_17512/2078942169.py\u001b[0m in \u001b[0;36m<module>\u001b[1;34m\u001b[0m\n\u001b[1;32m----> 1\u001b[1;33m \u001b[0mprint\u001b[0m\u001b[1;33m(\u001b[0m\u001b[1;33m*\u001b[0m\u001b[1;36m0\u001b[0m\u001b[1;33m,\u001b[0m \u001b[0msep\u001b[0m \u001b[1;33m=\u001b[0m \u001b[1;34m'\\n'\u001b[0m\u001b[1;33m)\u001b[0m\u001b[1;33m\u001b[0m\u001b[1;33m\u001b[0m\u001b[0m\n\u001b[0m",
      "\u001b[1;31mTypeError\u001b[0m: print() argument after * must be an iterable, not int"
     ]
    }
   ],
   "source": [
    "print(*0, sep = '\\n')"
   ]
  },
  {
   "cell_type": "code",
   "execution_count": null,
   "id": "a37eec8e",
   "metadata": {},
   "outputs": [],
   "source": []
  }
 ],
 "metadata": {
  "kernelspec": {
   "display_name": "Python 3 (ipykernel)",
   "language": "python",
   "name": "python3"
  },
  "language_info": {
   "codemirror_mode": {
    "name": "ipython",
    "version": 3
   },
   "file_extension": ".py",
   "mimetype": "text/x-python",
   "name": "python",
   "nbconvert_exporter": "python",
   "pygments_lexer": "ipython3",
   "version": "3.8.0"
  },
  "toc": {
   "base_numbering": 1,
   "nav_menu": {},
   "number_sections": true,
   "sideBar": true,
   "skip_h1_title": false,
   "title_cell": "Table of Contents",
   "title_sidebar": "Contents",
   "toc_cell": false,
   "toc_position": {},
   "toc_section_display": true,
   "toc_window_display": false
  }
 },
 "nbformat": 4,
 "nbformat_minor": 5
}
