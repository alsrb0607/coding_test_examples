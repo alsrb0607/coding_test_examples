{
 "cells": [
  {
   "cell_type": "code",
   "execution_count": 10,
   "id": "e0e641ff",
   "metadata": {},
   "outputs": [
    {
     "name": "stdout",
     "output_type": "stream",
     "text": [
      "1\n",
      "1.0 1.0\n",
      "0\n"
     ]
    }
   ],
   "source": [
    "# 이러한 그리디 방식으로 풀 수 없다.\n",
    "import math\n",
    "from collections import deque\n",
    "n=int(input())\n",
    "d = []\n",
    "\n",
    "def dist(k):\n",
    "    x,y = k\n",
    "    global a,b\n",
    "    return math.sqrt((x-a)**2+(y-b)**2)\n",
    "for _ in range(n):\n",
    "    x,y = map(float,input().split())\n",
    "    d.append((x,y))\n",
    "ans = 0\n",
    "while d:\n",
    "    a,b = d.pop()\n",
    "    d.sort(key = dist,reverse=True)\n",
    "    if d:\n",
    "        ans += dist(d[-1])\n",
    "print(ans)"
   ]
  },
  {
   "cell_type": "code",
   "execution_count": 25,
   "id": "3f2fd4b8",
   "metadata": {},
   "outputs": [
    {
     "name": "stdout",
     "output_type": "stream",
     "text": [
      "3\n",
      "1.0 1.0\n",
      "2.0 2.0\n",
      "2.0 4.0\n"
     ]
    }
   ],
   "source": [
    "import math\n",
    "n=int(input())\n",
    "stars = []\n",
    "d = list(range(n))\n",
    "for _ in range(n):\n",
    "    x,y = map(float,input().split())\n",
    "    stars.append((x,y))\n",
    "dst = []\n",
    "\n",
    "def dist(k,t):\n",
    "    x,y = k\n",
    "    a,b = t\n",
    "    return math.sqrt((x-a)**2+(y-b)**2)    \n",
    "\n",
    "for i in range(n):\n",
    "    for j in range(i+1,n):\n",
    "        dst.append((i,j,dist(stars[i],stars[j])))   \n",
    "\n",
    "def root(x):\n",
    "    if d[x]==x:\n",
    "        return x\n",
    "    d[x] = root(d[x])\n",
    "    return d[x]\n",
    "    \n",
    "def union(x,y):\n",
    "    a = root(x); b = root(y) \n",
    "    if a==b:\n",
    "        return\n",
    "    d[b] = a\n",
    "\n",
    "dst.sort(key = lambda x:x[2], reverse=True)\n",
    "cnt = 0; ans = 0\n",
    "while cnt<n and dst:\n",
    "    i,j,distance = dst.pop()\n",
    "    if root(i)!=root(j):\n",
    "        ans += distance\n",
    "        cnt+=1\n",
    "        union(i,j)\n",
    "\n",
    "print(ans)"
   ]
  },
  {
   "cell_type": "code",
   "execution_count": null,
   "id": "116b3433",
   "metadata": {},
   "outputs": [],
   "source": []
  }
 ],
 "metadata": {
  "kernelspec": {
   "display_name": "Python 3 (ipykernel)",
   "language": "python",
   "name": "python3"
  },
  "language_info": {
   "codemirror_mode": {
    "name": "ipython",
    "version": 3
   },
   "file_extension": ".py",
   "mimetype": "text/x-python",
   "name": "python",
   "nbconvert_exporter": "python",
   "pygments_lexer": "ipython3",
   "version": "3.8.0"
  },
  "toc": {
   "base_numbering": 1,
   "nav_menu": {},
   "number_sections": true,
   "sideBar": true,
   "skip_h1_title": false,
   "title_cell": "Table of Contents",
   "title_sidebar": "Contents",
   "toc_cell": false,
   "toc_position": {},
   "toc_section_display": true,
   "toc_window_display": false
  }
 },
 "nbformat": 4,
 "nbformat_minor": 5
}
