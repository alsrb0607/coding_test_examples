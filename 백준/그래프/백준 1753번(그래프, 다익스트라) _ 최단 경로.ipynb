{
 "cells": [
  {
   "cell_type": "code",
   "execution_count": 6,
   "id": "07be46d2",
   "metadata": {},
   "outputs": [
    {
     "name": "stdout",
     "output_type": "stream",
     "text": [
      "5 6\n",
      "1\n",
      "5 1 1\n",
      "1 2 2\n",
      "1 3 3\n",
      "2 3 4\n",
      "2 4 5\n",
      "3 4 6\n",
      "INF\n",
      "0\n",
      "2\n",
      "3\n",
      "7\n",
      "INF\n"
     ]
    }
   ],
   "source": [
    "import heapq\n",
    "\n",
    "v,e = map(int,input().split())\n",
    "k = int(input())\n",
    "g = [[] for _ in range(v+1)]\n",
    "INF = int(1e9)\n",
    "dist = [INF]*(v+1)\n",
    "for _ in range(e):\n",
    "    a,b,c = map(int,input().split())\n",
    "    g[a].append((b,c))\n",
    "\n",
    "def dijk(start):\n",
    "    INF = int(1e9)\n",
    "    dist = [INF]*(v+1)\n",
    "    dist[start] = 0\n",
    "    q = []\n",
    "    heapq.heappush(q,(0,start))\n",
    "    while q:\n",
    "        d, now = heapq.heappop(q)\n",
    "        if d > dist[now]:\n",
    "            continue\n",
    "        for x, dd in g[now]:\n",
    "            cost = d + dd\n",
    "            if cost < dist[x]:\n",
    "                dist[x] = cost\n",
    "                heapq.heappush(q,(cost,x))\n",
    "    return dist\n",
    "\n",
    "for x in dijk(k)[1:]:\n",
    "    if x == INF:\n",
    "        print('INF')\n",
    "    else:\n",
    "        print(x)"
   ]
  },
  {
   "cell_type": "code",
   "execution_count": null,
   "id": "b4f0e15c",
   "metadata": {},
   "outputs": [],
   "source": []
  }
 ],
 "metadata": {
  "kernelspec": {
   "display_name": "Python 3 (ipykernel)",
   "language": "python",
   "name": "python3"
  },
  "language_info": {
   "codemirror_mode": {
    "name": "ipython",
    "version": 3
   },
   "file_extension": ".py",
   "mimetype": "text/x-python",
   "name": "python",
   "nbconvert_exporter": "python",
   "pygments_lexer": "ipython3",
   "version": "3.8.0"
  },
  "toc": {
   "base_numbering": 1,
   "nav_menu": {},
   "number_sections": true,
   "sideBar": true,
   "skip_h1_title": false,
   "title_cell": "Table of Contents",
   "title_sidebar": "Contents",
   "toc_cell": false,
   "toc_position": {},
   "toc_section_display": true,
   "toc_window_display": false
  }
 },
 "nbformat": 4,
 "nbformat_minor": 5
}
