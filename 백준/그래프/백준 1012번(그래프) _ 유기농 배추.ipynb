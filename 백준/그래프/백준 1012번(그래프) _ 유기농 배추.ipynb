{
 "cells": [
  {
   "cell_type": "code",
   "execution_count": 8,
   "id": "7ec7d22f",
   "metadata": {},
   "outputs": [
    {
     "name": "stdout",
     "output_type": "stream",
     "text": [
      "2\n",
      "10 8 17\n",
      "0 0\n",
      "1 0\n",
      "1 1\n",
      "4 2\n",
      "4 3\n",
      "4 5\n",
      "2 4\n",
      "3 4\n",
      "7 4\n",
      "8 4\n",
      "9 4\n",
      "7 5\n",
      "8 5\n",
      "9 5\n",
      "7 6\n",
      "8 6\n",
      "9 6\n",
      "5\n",
      "10 10 1\n",
      "5 5\n",
      "1\n"
     ]
    }
   ],
   "source": [
    "import sys\n",
    "sys.setrecursionlimit(10**6)\n",
    "n=int(input())\n",
    "def dfs(spot,s):\n",
    "    move= [(1,0),(-1,0),(0,1),(0,-1)]\n",
    "    i,j=spot\n",
    "    if s[i][j]:\n",
    "        s[i][j]=0\n",
    "        answer.append((i,j))\n",
    "        for a,b in move:\n",
    "            if 0<=i+a<=len(s)-1 and 0<=j+b<=len(s[0])-1:\n",
    "                if s[i+a][j+b]:\n",
    "                    dfs((i+a,j+b),s)\n",
    "    return\n",
    "for _ in range(n):\n",
    "    a,b,c = map(int, input().split())\n",
    "    s = [[0]*b for _ in range(a)]\n",
    "    for _ in range(c):\n",
    "        i,j = map(int, input().split())\n",
    "        s[i][j]=1\n",
    "    cnt = 0\n",
    "    for x in range(a):\n",
    "        for y in range(b):\n",
    "            answer = []\n",
    "            dfs((x,y),s)\n",
    "            if answer:\n",
    "                cnt+=1\n",
    "    print(cnt)"
   ]
  },
  {
   "cell_type": "markdown",
   "id": "6b34c9c9",
   "metadata": {},
   "source": [
    "#### "
   ]
  }
 ],
 "metadata": {
  "kernelspec": {
   "display_name": "Python 3",
   "language": "python",
   "name": "python3"
  },
  "language_info": {
   "codemirror_mode": {
    "name": "ipython",
    "version": 3
   },
   "file_extension": ".py",
   "mimetype": "text/x-python",
   "name": "python",
   "nbconvert_exporter": "python",
   "pygments_lexer": "ipython3",
   "version": "3.8.8"
  },
  "toc": {
   "base_numbering": 1,
   "nav_menu": {},
   "number_sections": true,
   "sideBar": true,
   "skip_h1_title": false,
   "title_cell": "Table of Contents",
   "title_sidebar": "Contents",
   "toc_cell": false,
   "toc_position": {},
   "toc_section_display": true,
   "toc_window_display": false
  }
 },
 "nbformat": 4,
 "nbformat_minor": 5
}
