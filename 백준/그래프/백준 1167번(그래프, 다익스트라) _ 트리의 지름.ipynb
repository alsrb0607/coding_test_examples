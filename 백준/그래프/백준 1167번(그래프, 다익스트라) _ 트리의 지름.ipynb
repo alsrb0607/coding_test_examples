{
 "cells": [
  {
   "cell_type": "code",
   "execution_count": 57,
   "id": "5aeae6e8",
   "metadata": {},
   "outputs": [
    {
     "name": "stdout",
     "output_type": "stream",
     "text": [
      "5\n",
      "1 3 2 -1\n",
      "2 4 4 -1\n",
      "3 1 2 4 3 -1\n",
      "4 2 4 3 3 5 6 -1\n",
      "5 4 6 -1\n"
     ]
    }
   ],
   "source": [
    "# 백트래킹을 중단하지 못해 시간초과\n",
    "from collections import deque\n",
    "v = int(input())\n",
    "g = [[] for _ in range(v+1)]\n",
    "for _ in range(v):\n",
    "    tmp = deque(map(int, input().split()))\n",
    "    for i in range(1,len(tmp)-1,2):\n",
    "        g[tmp[0]].append((tmp[i],tmp[i+1]))\n",
    "\n",
    "def dfs(start,visit,g):\n",
    "    global n, cnt\n",
    "    visit = visit.copy()\n",
    "    visit[start] = 1\n",
    "#     print(start,n,visit, ans)\n",
    "    for a,b in g[start]:\n",
    "        if not visit[a]:\n",
    "            visit[a] = 1; n+=b\n",
    "            dfs(a,visit,g)\n",
    "            if n>ans[-1]:\n",
    "                ans.append(n)\n",
    "            visit[a] = 0; n-=b\n",
    "    return\n",
    "\n",
    "visit = [0 for _ in range(v+1)]\n",
    "answer = 0\n",
    "for i in range(1,v+1):\n",
    "    ans = [0]; n = 0; cnt = 0\n",
    "    dfs(i,visit,g)\n",
    "    mm = max(ans)\n",
    "    if answer < mm:\n",
    "        answer = mm\n",
    "print(answer)    "
   ]
  },
  {
   "cell_type": "code",
   "execution_count": null,
   "id": "db2bddb1",
   "metadata": {},
   "outputs": [],
   "source": [
    "from collections import deque\n",
    "import heapq\n",
    "\n",
    "v = int(input())\n",
    "g = [[] for _ in range(v+1)]\n",
    "dist = [0]*(v+1)\n",
    "for _ in range(v):\n",
    "    tmp = deque(map(int, input().split()))\n",
    "    for i in range(1,len(tmp)-1,2):\n",
    "        g[tmp[0]].append((tmp[i],tmp[i+1]))"
   ]
  },
  {
   "cell_type": "code",
   "execution_count": 141,
   "id": "125327f0",
   "metadata": {},
   "outputs": [
    {
     "name": "stdout",
     "output_type": "stream",
     "text": [
      "[0, 0, 9, 2, 5, 11]\n",
      "[0, 11, 10, 9, 6, 0]\n",
      "11\n"
     ]
    }
   ],
   "source": [
    "def dijk(start,dist,g,visit):\n",
    "    dist = dist.copy()\n",
    "    visit = visit.copy()\n",
    "    q = []\n",
    "    heapq.heappush(q,(0,start))\n",
    "    while q:\n",
    "        d,now = heapq.heappop(q)\n",
    "        if now not in visit:\n",
    "            visit.add(now)\n",
    "            for a,b in g[now]:\n",
    "                cost = d+b\n",
    "                if cost > dist[a] and a not in visit:\n",
    "                    dist[a] = cost\n",
    "                    heapq.heappush(q,(cost,a))\n",
    "#     print(dist)\n",
    "    return max(dist), dist.index(max(dist))\n",
    "\n",
    "visit = set()\n",
    "a1,b1 = dijk(1,dist,g,visit)\n",
    "a2, _ = dijk(b1,dist,g,visit)\n",
    "print(a2)"
   ]
  },
  {
   "cell_type": "code",
   "execution_count": null,
   "id": "c806f909",
   "metadata": {},
   "outputs": [],
   "source": []
  }
 ],
 "metadata": {
  "kernelspec": {
   "display_name": "Python 3 (ipykernel)",
   "language": "python",
   "name": "python3"
  },
  "language_info": {
   "codemirror_mode": {
    "name": "ipython",
    "version": 3
   },
   "file_extension": ".py",
   "mimetype": "text/x-python",
   "name": "python",
   "nbconvert_exporter": "python",
   "pygments_lexer": "ipython3",
   "version": "3.8.0"
  },
  "toc": {
   "base_numbering": 1,
   "nav_menu": {},
   "number_sections": true,
   "sideBar": true,
   "skip_h1_title": false,
   "title_cell": "Table of Contents",
   "title_sidebar": "Contents",
   "toc_cell": false,
   "toc_position": {},
   "toc_section_display": true,
   "toc_window_display": false
  }
 },
 "nbformat": 4,
 "nbformat_minor": 5
}
