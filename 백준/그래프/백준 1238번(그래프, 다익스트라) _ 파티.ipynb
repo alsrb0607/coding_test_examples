{
 "cells": [
  {
   "cell_type": "code",
   "execution_count": 3,
   "id": "692954c1",
   "metadata": {},
   "outputs": [],
   "source": [
    "import heapq\n",
    "n,m,x = map(int,input().split())\n",
    "INF = int(1e9)\n",
    "g = [[] for _ in range(n+1)]\n",
    "dist = [INF]*(n+1)\n",
    "for _ in range(m):\n",
    "    a,b,c = map(int,input().split())\n",
    "    g[a].append((b,c))\n",
    "\n",
    "def dijk(start, end=None, go = False):\n",
    "    dist = [INF]*(n+1)\n",
    "    q = []\n",
    "    dist[start] = 0\n",
    "    heapq.heappush(q,(0,start))\n",
    "    while q:\n",
    "        d, now = heapq.heappop(q)\n",
    "        if d > dist[now]:\n",
    "            continue\n",
    "        elif go and now==end:\n",
    "            return dist[end]\n",
    "        for x, dd in g[now]:\n",
    "            cost = d + dd\n",
    "            if cost < dist[x]:\n",
    "                dist[x] = cost\n",
    "                heapq.heappush(q,(cost,x))\n",
    "    return dist\n",
    "\n",
    "back = dijk(x)\n",
    "ans = 0\n",
    "for i in range(1,n+1):\n",
    "    tmp = dijk(i,x,go=True) + back[i]\n",
    "    if ans < tmp:\n",
    "        ans = tmp\n",
    "        \n",
    "print(ans)"
   ]
  },
  {
   "cell_type": "code",
   "execution_count": null,
   "id": "6bb4e85a",
   "metadata": {},
   "outputs": [],
   "source": []
  }
 ],
 "metadata": {
  "kernelspec": {
   "display_name": "Python 3 (ipykernel)",
   "language": "python",
   "name": "python3"
  },
  "language_info": {
   "codemirror_mode": {
    "name": "ipython",
    "version": 3
   },
   "file_extension": ".py",
   "mimetype": "text/x-python",
   "name": "python",
   "nbconvert_exporter": "python",
   "pygments_lexer": "ipython3",
   "version": "3.8.0"
  },
  "toc": {
   "base_numbering": 1,
   "nav_menu": {},
   "number_sections": true,
   "sideBar": true,
   "skip_h1_title": false,
   "title_cell": "Table of Contents",
   "title_sidebar": "Contents",
   "toc_cell": false,
   "toc_position": {},
   "toc_section_display": true,
   "toc_window_display": false
  }
 },
 "nbformat": 4,
 "nbformat_minor": 5
}
