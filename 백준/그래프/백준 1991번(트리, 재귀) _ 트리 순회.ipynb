{
 "cells": [
  {
   "cell_type": "code",
   "execution_count": 54,
   "id": "b4a136d6",
   "metadata": {
    "scrolled": true
   },
   "outputs": [
    {
     "name": "stdout",
     "output_type": "stream",
     "text": [
      "7\n",
      "A B C\n",
      "B D .\n",
      "C E F\n",
      "E . .\n",
      "F . G\n",
      "D . .\n",
      "G . .\n",
      "ABDCEFG\n",
      "BDACEFG\n",
      "BDCEFGA"
     ]
    }
   ],
   "source": [
    "class Node():\n",
    "    def __init__(self, data, left_node, right_node):\n",
    "        self.data = data\n",
    "        self.left_node = left_node\n",
    "        self.right_node = right_node\n",
    "def preorder(node):\n",
    "    print(node.data, end = '')\n",
    "    if node.left_node !='.':\n",
    "        preorder(tree[node.left_node])\n",
    "    if node.right_node !='.':\n",
    "        preorder(tree[node.right_node]) \n",
    "def inorder(node):\n",
    "    if node.left_node !='.':\n",
    "        inorder(tree[node.left_node])\n",
    "    print(node.data, end = '')\n",
    "    if node.right_node !='.':\n",
    "        inorder(tree[node.right_node])\n",
    "def postorder(node):\n",
    "    if node.left_node !='.':\n",
    "        postorder(tree[node.left_node])\n",
    "    if node.right_node !='.':\n",
    "        postorder(tree[node.right_node]) \n",
    "    print(node.data, end = '')\n",
    "  \n",
    "n=int(input())\n",
    "tree = dict()\n",
    "for i in range(n):\n",
    "    a,b,c = input().split()\n",
    "    tree[a] = Node(a,b,c)   \n",
    "    \n",
    "preorder(tree['A'])\n",
    "print()\n",
    "inorder(tree['A'])\n",
    "print()\n",
    "postorder(tree['A'])"
   ]
  },
  {
   "cell_type": "code",
   "execution_count": null,
   "id": "6ed70bb5",
   "metadata": {},
   "outputs": [],
   "source": [
    "n=int(input())\n",
    "tree = dict()\n",
    "ans = ['']*3\n",
    "for i in range(n):\n",
    "    a,b,c = input().split()\n",
    "    tree[a] = [b,c]\n",
    "\n",
    "def traversal(x):\n",
    "    if x!='.':\n",
    "        ans[0] += x\n",
    "        traversal(tree[x][0])\n",
    "        ans[1] += x\n",
    "        traversal(tree[x][1])\n",
    "        ans[2] += x\n",
    "\n",
    "traversal('A')\n",
    "print(*ans, sep='\\n')"
   ]
  },
  {
   "cell_type": "code",
   "execution_count": null,
   "id": "7a47d84f",
   "metadata": {},
   "outputs": [],
   "source": []
  }
 ],
 "metadata": {
  "kernelspec": {
   "display_name": "Python 3 (ipykernel)",
   "language": "python",
   "name": "python3"
  },
  "language_info": {
   "codemirror_mode": {
    "name": "ipython",
    "version": 3
   },
   "file_extension": ".py",
   "mimetype": "text/x-python",
   "name": "python",
   "nbconvert_exporter": "python",
   "pygments_lexer": "ipython3",
   "version": "3.8.0"
  },
  "toc": {
   "base_numbering": 1,
   "nav_menu": {},
   "number_sections": true,
   "sideBar": true,
   "skip_h1_title": false,
   "title_cell": "Table of Contents",
   "title_sidebar": "Contents",
   "toc_cell": false,
   "toc_position": {},
   "toc_section_display": true,
   "toc_window_display": false
  }
 },
 "nbformat": 4,
 "nbformat_minor": 5
}
