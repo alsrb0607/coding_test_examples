{
 "cells": [
  {
   "cell_type": "code",
   "execution_count": null,
   "id": "da8456ba",
   "metadata": {},
   "outputs": [],
   "source": [
    "r,c = map(int,input().split())\n",
    "g = [list(input()) for _ in range(r)]"
   ]
  },
  {
   "cell_type": "code",
   "execution_count": 221,
   "id": "e103ba4c",
   "metadata": {},
   "outputs": [
    {
     "name": "stdout",
     "output_type": "stream",
     "text": [
      "10\n"
     ]
    }
   ],
   "source": [
    "ans = [0]*26\n",
    "t = 1\n",
    "def dfs(x,y,r,c,k):\n",
    "    global t\n",
    "    dx = (0,0,1,-1) ; dy = (1,-1,0,0)\n",
    "    t = max(t,k)\n",
    "    for i in range(4):\n",
    "        nx = x+dx[i]; ny = y+dy[i]\n",
    "        if 0<=nx<r and 0<=ny<c:\n",
    "            ord_ = ord(g[nx][ny])-65\n",
    "            if ans[ord_]==0:\n",
    "                ans[ord_] = 1\n",
    "                dfs(nx,ny,r,c,k+1)\n",
    "                ans[ord_] = 0\n",
    "\n",
    "ans[ord(g[0][0])-65]=1\n",
    "dfs(0,0,r,c,1)\n",
    "print(t)"
   ]
  },
  {
   "cell_type": "code",
   "execution_count": 167,
   "id": "c4a3a7a1",
   "metadata": {},
   "outputs": [
    {
     "name": "stdout",
     "output_type": "stream",
     "text": [
      "5 5\n",
      "IEFCJ\n",
      "FHFKC\n",
      "FFALF\n",
      "HFGCF\n",
      "HMCHH\n"
     ]
    }
   ],
   "source": [
    "from collections import deque\n",
    "\n",
    "r,c = map(int,input().split())\n",
    "g = [list(input()) for _ in range(r)]"
   ]
  },
  {
   "cell_type": "code",
   "execution_count": 179,
   "id": "28c52a9e",
   "metadata": {},
   "outputs": [
    {
     "ename": "KeyboardInterrupt",
     "evalue": "",
     "output_type": "error",
     "traceback": [
      "\u001b[1;31m---------------------------------------------------------------------------\u001b[0m",
      "\u001b[1;31mKeyboardInterrupt\u001b[0m                         Traceback (most recent call last)",
      "\u001b[1;32m~\\AppData\\Local\\Temp/ipykernel_12160/1840846164.py\u001b[0m in \u001b[0;36m<module>\u001b[1;34m\u001b[0m\n\u001b[0;32m     21\u001b[0m     \u001b[1;32mreturn\u001b[0m \u001b[0mk\u001b[0m\u001b[1;33m\u001b[0m\u001b[1;33m\u001b[0m\u001b[0m\n\u001b[0;32m     22\u001b[0m \u001b[0mans\u001b[0m\u001b[1;33m[\u001b[0m\u001b[0mord\u001b[0m\u001b[1;33m(\u001b[0m\u001b[0mg\u001b[0m\u001b[1;33m[\u001b[0m\u001b[1;36m0\u001b[0m\u001b[1;33m]\u001b[0m\u001b[1;33m[\u001b[0m\u001b[1;36m0\u001b[0m\u001b[1;33m]\u001b[0m\u001b[1;33m)\u001b[0m\u001b[1;33m-\u001b[0m\u001b[1;36m65\u001b[0m\u001b[1;33m]\u001b[0m\u001b[1;33m=\u001b[0m\u001b[1;36m1\u001b[0m\u001b[1;33m\u001b[0m\u001b[1;33m\u001b[0m\u001b[0m\n\u001b[1;32m---> 23\u001b[1;33m \u001b[0mprint\u001b[0m\u001b[1;33m(\u001b[0m\u001b[0mbfs\u001b[0m\u001b[1;33m(\u001b[0m\u001b[1;36m0\u001b[0m\u001b[1;33m,\u001b[0m\u001b[1;36m0\u001b[0m\u001b[1;33m,\u001b[0m\u001b[0mr\u001b[0m\u001b[1;33m,\u001b[0m\u001b[0mc\u001b[0m\u001b[1;33m)\u001b[0m\u001b[1;33m)\u001b[0m\u001b[1;33m\u001b[0m\u001b[1;33m\u001b[0m\u001b[0m\n\u001b[0m",
      "\u001b[1;32m~\\AppData\\Local\\Temp/ipykernel_12160/1840846164.py\u001b[0m in \u001b[0;36mbfs\u001b[1;34m(x, y, r, c)\u001b[0m\n\u001b[0;32m     17\u001b[0m                     \u001b[1;32mif\u001b[0m \u001b[0mk\u001b[0m \u001b[1;33m<\u001b[0m \u001b[0msum\u001b[0m\u001b[1;33m(\u001b[0m\u001b[0mans\u001b[0m\u001b[1;33m)\u001b[0m\u001b[1;33m:\u001b[0m\u001b[1;33m\u001b[0m\u001b[1;33m\u001b[0m\u001b[0m\n\u001b[0;32m     18\u001b[0m                         \u001b[0mk\u001b[0m \u001b[1;33m=\u001b[0m \u001b[0msum\u001b[0m\u001b[1;33m(\u001b[0m\u001b[0mans\u001b[0m\u001b[1;33m)\u001b[0m\u001b[1;33m\u001b[0m\u001b[1;33m\u001b[0m\u001b[0m\n\u001b[1;32m---> 19\u001b[1;33m                     \u001b[0mq\u001b[0m\u001b[1;33m.\u001b[0m\u001b[0mappend\u001b[0m\u001b[1;33m(\u001b[0m\u001b[1;33m(\u001b[0m\u001b[0mnx\u001b[0m\u001b[1;33m,\u001b[0m\u001b[0mny\u001b[0m\u001b[1;33m)\u001b[0m\u001b[1;33m)\u001b[0m\u001b[1;33m\u001b[0m\u001b[1;33m\u001b[0m\u001b[0m\n\u001b[0m\u001b[0;32m     20\u001b[0m                     \u001b[0mans\u001b[0m\u001b[1;33m[\u001b[0m\u001b[0mord_\u001b[0m\u001b[1;33m]\u001b[0m \u001b[1;33m=\u001b[0m \u001b[1;36m0\u001b[0m\u001b[1;33m\u001b[0m\u001b[1;33m\u001b[0m\u001b[0m\n\u001b[0;32m     21\u001b[0m     \u001b[1;32mreturn\u001b[0m \u001b[0mk\u001b[0m\u001b[1;33m\u001b[0m\u001b[1;33m\u001b[0m\u001b[0m\n",
      "\u001b[1;31mKeyboardInterrupt\u001b[0m: "
     ]
    }
   ],
   "source": [
    "visit = [[0]*c for _ in range(r)]\n",
    "ans = [0]*26\n",
    "k = 0\n",
    "def bfs(x,y,r,c):\n",
    "    global k\n",
    "    visit[x][y]=1\n",
    "    q = deque([(x,y)])\n",
    "    dx = (0,0,1,-1) ; dy = (1,-1,0,0)\n",
    "    while q:\n",
    "        a,b = q.popleft()\n",
    "        for i in range(4):\n",
    "            nx = a+dx[i]; ny = b+dy[i]\n",
    "            if 0<=nx<r and 0<=ny<c:\n",
    "                ord_ = ord(g[nx][ny])-65\n",
    "                if ans[ord_]==0 and not visit[nx][ny]:\n",
    "                    ans[ord_] = 1\n",
    "                    if k < sum(ans):\n",
    "                        k = sum(ans)\n",
    "                    q.append((nx,ny))\n",
    "                    ans[ord_] = 0\n",
    "    return k\n",
    "ans[ord(g[0][0])-65]=1\n",
    "print(bfs(0,0,r,c))"
   ]
  },
  {
   "cell_type": "code",
   "execution_count": 190,
   "id": "08fd3802",
   "metadata": {},
   "outputs": [
    {
     "name": "stdout",
     "output_type": "stream",
     "text": [
      "5 5\n",
      "IEFCJ\n",
      "FHFKC\n",
      "FFALF\n",
      "HFGCF\n",
      "HMCHH\n",
      "{(0, 0, 'I')}\n",
      "{(1, 0, 'IF'), (0, 1, 'IE')}\n",
      "{(1, 1, 'IFH'), (0, 1, 'IE')}\n",
      "{(1, 1, 'IEH'), (1, 1, 'IFH'), (0, 2, 'IEF')}\n",
      "{(2, 1, 'IEHF'), (1, 2, 'IEHF'), (1, 0, 'IEHF'), (1, 1, 'IFH'), (0, 2, 'IEF')}\n",
      "{(2, 1, 'IEHF'), (0, 1, 'IFHE'), (1, 2, 'IEHF'), (1, 0, 'IEHF'), (0, 2, 'IEF')}\n",
      "{(2, 1, 'IEHF'), (0, 1, 'IFHE'), (1, 2, 'IEHF'), (0, 3, 'IEFC'), (1, 0, 'IEHF')}\n",
      "{(0, 1, 'IFHE'), (1, 2, 'IEHF'), (2, 2, 'IEHFA'), (0, 3, 'IEFC'), (1, 0, 'IEHF')}\n",
      "{(1, 2, 'IEHF'), (2, 2, 'IEHFA'), (0, 3, 'IEFC'), (1, 0, 'IEHF')}\n",
      "{(2, 2, 'IEHFA'), (1, 0, 'IEHF'), (1, 3, 'IEHFK'), (0, 3, 'IEFC')}\n",
      "{(2, 2, 'IEHFA'), (1, 3, 'IEHFK'), (0, 3, 'IEFC')}\n",
      "{(2, 2, 'IEHFA'), (0, 3, 'IEHFKC'), (1, 4, 'IEHFKC'), (0, 3, 'IEFC'), (2, 3, 'IEHFKL')}\n",
      "{(2, 2, 'IEHFA'), (0, 3, 'IEHFKC'), (1, 4, 'IEHFKC'), (0, 4, 'IEFCJ'), (1, 3, 'IEFCK'), (2, 3, 'IEHFKL')}\n",
      "{(2, 2, 'IEHFA'), (0, 3, 'IEHFKC'), (1, 4, 'IEHFKC'), (1, 3, 'IEFCK'), (2, 3, 'IEHFKL')}\n",
      "{(2, 2, 'IEHFA'), (0, 3, 'IEHFKC'), (1, 4, 'IEHFKC'), (2, 3, 'IEFCKL'), (2, 3, 'IEHFKL')}\n",
      "{(3, 3, 'IEHFKLC'), (2, 2, 'IEHFA'), (0, 3, 'IEHFKC'), (1, 4, 'IEHFKC'), (2, 3, 'IEFCKL'), (2, 2, 'IEHFKLA')}\n",
      "{(2, 2, 'IEHFA'), (0, 3, 'IEHFKC'), (1, 4, 'IEHFKC'), (3, 2, 'IEHFKLCG'), (2, 3, 'IEFCKL'), (2, 2, 'IEHFKLA')}\n",
      "{(0, 3, 'IEHFKC'), (1, 4, 'IEHFKC'), (3, 2, 'IEHFKLCG'), (2, 3, 'IEHFAL'), (2, 3, 'IEFCKL'), (3, 2, 'IEHFAG'), (2, 2, 'IEHFKLA')}\n",
      "{(1, 4, 'IEHFKC'), (3, 2, 'IEHFKLCG'), (2, 3, 'IEHFAL'), (2, 3, 'IEFCKL'), (0, 4, 'IEHFKCJ'), (3, 2, 'IEHFAG'), (2, 2, 'IEHFKLA')}\n",
      "{(3, 2, 'IEHFKLCG'), (2, 3, 'IEHFAL'), (2, 3, 'IEFCKL'), (0, 4, 'IEHFKCJ'), (3, 2, 'IEHFAG'), (2, 2, 'IEHFKLA')}\n",
      "{(2, 2, 'IEHFKLCGA'), (2, 3, 'IEHFAL'), (2, 3, 'IEFCKL'), (0, 4, 'IEHFKCJ'), (3, 2, 'IEHFAG'), (2, 2, 'IEHFKLA')}\n",
      "{(3, 3, 'IEHFALC'), (2, 2, 'IEHFKLCGA'), (2, 3, 'IEFCKL'), (1, 3, 'IEHFALK'), (0, 4, 'IEHFKCJ'), (3, 2, 'IEHFAG'), (2, 2, 'IEHFKLA')}\n",
      "{(2, 2, 'IEFCKLA'), (3, 3, 'IEHFALC'), (2, 2, 'IEHFKLCGA'), (1, 3, 'IEHFALK'), (0, 4, 'IEHFKCJ'), (3, 2, 'IEHFAG'), (2, 2, 'IEHFKLA')}\n",
      "{(2, 2, 'IEFCKLA'), (3, 3, 'IEHFALC'), (2, 2, 'IEHFKLCGA'), (1, 4, 'IEHFALKC'), (0, 3, 'IEHFALKC'), (0, 4, 'IEHFKCJ'), (3, 2, 'IEHFAG'), (2, 2, 'IEHFKLA')}\n",
      "{(2, 2, 'IEFCKLA'), (3, 3, 'IEHFALC'), (2, 2, 'IEHFKLCGA'), (1, 4, 'IEHFALKC'), (0, 3, 'IEHFALKC'), (3, 2, 'IEHFAG'), (2, 2, 'IEHFKLA')}\n",
      "{(2, 2, 'IEFCKLA'), (3, 3, 'IEHFAGC'), (3, 3, 'IEHFALC'), (2, 2, 'IEHFKLCGA'), (1, 4, 'IEHFALKC'), (4, 2, 'IEHFAGC'), (0, 3, 'IEHFALKC'), (2, 2, 'IEHFKLA')}\n",
      "{(2, 2, 'IEFCKLA'), (3, 3, 'IEHFAGC'), (3, 3, 'IEHFALC'), (2, 2, 'IEHFKLCGA'), (1, 4, 'IEHFALKC'), (4, 2, 'IEHFAGC'), (0, 3, 'IEHFALKC'), (3, 2, 'IEHFKLAG')}\n",
      "{(3, 2, 'IEFCKLAG'), (2, 2, 'IEHFKLCGA'), (1, 4, 'IEHFALKC'), (3, 3, 'IEHFAGC'), (3, 3, 'IEHFALC'), (4, 2, 'IEHFAGC'), (0, 3, 'IEHFALKC'), (3, 2, 'IEHFKLAG')}\n",
      "{(2, 2, 'IEHFKLCGA'), (1, 4, 'IEHFALKC'), (3, 3, 'IEHFAGC'), (3, 3, 'IEHFALC'), (4, 2, 'IEHFAGC'), (0, 3, 'IEHFALKC'), (3, 2, 'IEHFKLAG')}\n",
      "{(1, 4, 'IEHFALKC'), (3, 3, 'IEHFAGC'), (3, 3, 'IEHFALC'), (4, 2, 'IEHFAGC'), (0, 3, 'IEHFALKC'), (3, 2, 'IEHFKLAG')}\n",
      "{(0, 4, 'IEHFALKCJ'), (3, 3, 'IEHFAGC'), (3, 3, 'IEHFALC'), (4, 2, 'IEHFAGC'), (0, 3, 'IEHFALKC'), (3, 2, 'IEHFKLAG')}\n",
      "{(0, 4, 'IEHFALKCJ'), (2, 3, 'IEHFAGCL'), (3, 3, 'IEHFALC'), (4, 2, 'IEHFAGC'), (0, 3, 'IEHFALKC'), (3, 2, 'IEHFKLAG')}\n",
      "{(0, 4, 'IEHFALKCJ'), (3, 2, 'IEHFALCG'), (2, 3, 'IEHFAGCL'), (4, 2, 'IEHFAGC'), (0, 3, 'IEHFALKC'), (3, 2, 'IEHFKLAG')}\n",
      "{(0, 4, 'IEHFALKCJ'), (3, 2, 'IEHFALCG'), (2, 3, 'IEHFAGCL'), (0, 3, 'IEHFALKC'), (4, 1, 'IEHFAGCM'), (3, 2, 'IEHFKLAG')}\n",
      "{(0, 4, 'IEHFALKCJ'), (3, 2, 'IEHFALCG'), (2, 3, 'IEHFAGCL'), (4, 1, 'IEHFAGCM'), (3, 2, 'IEHFKLAG')}\n",
      "{(0, 4, 'IEHFALKCJ'), (3, 2, 'IEHFALCG'), (2, 3, 'IEHFAGCL'), (3, 2, 'IEHFKLAG')}\n",
      "{(0, 4, 'IEHFALKCJ'), (3, 2, 'IEHFALCG'), (3, 3, 'IEHFKLAGC'), (2, 3, 'IEHFAGCL'), (4, 2, 'IEHFKLAGC')}\n",
      "{(3, 2, 'IEHFALCG'), (3, 3, 'IEHFKLAGC'), (2, 3, 'IEHFAGCL'), (4, 2, 'IEHFKLAGC')}\n",
      "{(3, 3, 'IEHFKLAGC'), (2, 3, 'IEHFAGCL'), (4, 2, 'IEHFKLAGC')}\n",
      "{(2, 3, 'IEHFAGCL'), (4, 2, 'IEHFKLAGC')}\n",
      "{(1, 3, 'IEHFAGCLK'), (4, 2, 'IEHFKLAGC')}\n",
      "{(4, 2, 'IEHFKLAGC')}\n",
      "{(4, 1, 'IEHFKLAGCM')}\n",
      "10\n"
     ]
    }
   ],
   "source": [
    "n, m = map(int, input().split())\n",
    "graph = []\n",
    "for i in range(n):\n",
    "\tgraph.append(list(input()))\n",
    "\n",
    "dx = [-1, 1, 0, 0]\n",
    "dy = [0, 0, -1, 1]\n",
    "\n",
    "def bfs():\n",
    "\tresult = 1\n",
    "\tq = set([(0, 0, graph[0][0])])\n",
    "\twhile q:\n",
    "\t\tprint(q)\n",
    "\t\tx, y, visit = q.pop()\n",
    "\t\tfor i in range(4):\n",
    "\t\t\tnx = x + dx[i]\n",
    "\t\t\tny = y + dy[i]\n",
    "\t\t\tif nx < 0 or ny < 0 or nx >= n or ny >= m:\n",
    "\t\t\t\tcontinue\n",
    "\t\t\tif graph[nx][ny] == graph[x][y]:\n",
    "\t\t\t\tcontinue\n",
    "\t\t\tif graph[nx][ny] not in visit:\n",
    "\t\t\t\tq.add((nx, ny, visit + graph[nx][ny]))\n",
    "\t\t\t\tresult = max(result, len(visit + graph[nx][ny]))\n",
    "\treturn result\n",
    "\n",
    "\n",
    "print(bfs())"
   ]
  },
  {
   "cell_type": "code",
   "execution_count": null,
   "id": "65389632",
   "metadata": {},
   "outputs": [],
   "source": []
  }
 ],
 "metadata": {
  "kernelspec": {
   "display_name": "Python 3 (ipykernel)",
   "language": "python",
   "name": "python3"
  },
  "language_info": {
   "codemirror_mode": {
    "name": "ipython",
    "version": 3
   },
   "file_extension": ".py",
   "mimetype": "text/x-python",
   "name": "python",
   "nbconvert_exporter": "python",
   "pygments_lexer": "ipython3",
   "version": "3.8.0"
  },
  "toc": {
   "base_numbering": 1,
   "nav_menu": {},
   "number_sections": true,
   "sideBar": true,
   "skip_h1_title": false,
   "title_cell": "Table of Contents",
   "title_sidebar": "Contents",
   "toc_cell": false,
   "toc_position": {},
   "toc_section_display": true,
   "toc_window_display": false
  }
 },
 "nbformat": 4,
 "nbformat_minor": 5
}
