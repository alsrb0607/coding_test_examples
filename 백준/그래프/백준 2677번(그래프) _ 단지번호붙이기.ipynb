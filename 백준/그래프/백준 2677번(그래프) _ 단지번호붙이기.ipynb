{
 "cells": [
  {
   "cell_type": "code",
   "execution_count": 22,
   "id": "76a8c5d4",
   "metadata": {},
   "outputs": [
    {
     "name": "stdout",
     "output_type": "stream",
     "text": [
      "7\n",
      "0110100\n",
      "0110101\n",
      "1110101\n",
      "0000111\n",
      "0100000\n",
      "0111110\n",
      "0111000\n",
      "3\n",
      "7\n",
      "8\n",
      "9\n"
     ]
    }
   ],
   "source": [
    "n=int(input())\n",
    "s=[list(map(int,list(input()))) for _ in range(n)]\n",
    "results= []\n",
    "def dfs(spot,s):\n",
    "    move= [(1,0),(-1,0),(0,1),(0,-1)]\n",
    "    i,j=spot\n",
    "    if s[i][j]:\n",
    "        s[i][j]=0\n",
    "        answer.append((i,j))\n",
    "        for a,b in move:\n",
    "            if 0<=i+a<=n-1 and 0<=j+b<=n-1:\n",
    "                if s[i+a][j+b]:\n",
    "                    dfs((i+a,j+b),s)\n",
    "    return\n",
    "for i in range(n):\n",
    "    for j in range(n):\n",
    "        answer = []\n",
    "        dfs((i,j),s)\n",
    "        if answer:\n",
    "            results.append(len(answer))\n",
    "print(len(results))\n",
    "for x in sorted(results):\n",
    "    print(x)"
   ]
  },
  {
   "cell_type": "code",
   "execution_count": null,
   "id": "11aeac58",
   "metadata": {},
   "outputs": [],
   "source": []
  }
 ],
 "metadata": {
  "kernelspec": {
   "display_name": "Python 3",
   "language": "python",
   "name": "python3"
  },
  "language_info": {
   "codemirror_mode": {
    "name": "ipython",
    "version": 3
   },
   "file_extension": ".py",
   "mimetype": "text/x-python",
   "name": "python",
   "nbconvert_exporter": "python",
   "pygments_lexer": "ipython3",
   "version": "3.8.8"
  },
  "toc": {
   "base_numbering": 1,
   "nav_menu": {},
   "number_sections": true,
   "sideBar": true,
   "skip_h1_title": false,
   "title_cell": "Table of Contents",
   "title_sidebar": "Contents",
   "toc_cell": false,
   "toc_position": {},
   "toc_section_display": true,
   "toc_window_display": false
  }
 },
 "nbformat": 4,
 "nbformat_minor": 5
}
