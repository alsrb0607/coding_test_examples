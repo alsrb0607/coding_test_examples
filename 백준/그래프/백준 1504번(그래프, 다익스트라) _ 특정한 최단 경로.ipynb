{
 "cells": [
  {
   "cell_type": "code",
   "execution_count": 7,
   "id": "237d58d3",
   "metadata": {},
   "outputs": [
    {
     "name": "stdout",
     "output_type": "stream",
     "text": [
      "4 6\n",
      "1 2 3\n",
      "2 3 3\n",
      "3 4 1\n",
      "1 3 5\n",
      "2 4 5\n",
      "1 4 4\n",
      "2 3\n"
     ]
    }
   ],
   "source": [
    "import heapq\n",
    "\n",
    "n,e = map(int,input().split())\n",
    "g = [[] for _ in range(n+1)]\n",
    "for _ in range(e):\n",
    "    a,b,c = map(int,input().split())\n",
    "    g[a].append((b,c))\n",
    "    g[b].append((a,c))\n",
    "a,b = map(int,input().split())"
   ]
  },
  {
   "cell_type": "code",
   "execution_count": 14,
   "id": "2ad9e217",
   "metadata": {},
   "outputs": [
    {
     "name": "stdout",
     "output_type": "stream",
     "text": [
      "7\n"
     ]
    }
   ],
   "source": [
    "def dijk(s):\n",
    "    INF = int(1e9)\n",
    "    dist = [INF]*(n+1)\n",
    "    q = []\n",
    "    # 시작 노드 queue에 삽입\n",
    "    heapq.heappush(q,(0,s))\n",
    "    dist[s] = 0\n",
    "    while q:\n",
    "        # 현 위치에서 가장 가까운 노드 선택\n",
    "        d, now = heapq.heappop(q)\n",
    "        # 갱신이 필요 없는 경우\n",
    "        if dist[now] < d:\n",
    "            continue\n",
    "        # 갱신이 필요한 경우, now와 인접한 모든 노드 탐색\n",
    "        for x in g[now]:\n",
    "            cost = d + x[1]\n",
    "            # g[now]가 가진 간선을 활용해 최단 거리를 갱신\n",
    "            if cost < dist[x[0]]:\n",
    "                dist[x[0]] = cost\n",
    "                # 시작 위치와의 거리 정보를 다시 queue에 삽입\n",
    "                heapq.heappush(q,(cost,x[0]))\n",
    "    return dist\n",
    "t1,t2,t3 = dijk(1), dijk(a), dijk(b)\n",
    "dd = min(t1[a]+t2[b]+t3[n],t1[b]+t3[a]+t2[n])\n",
    "print(dd if dd<INF else -1)"
   ]
  },
  {
   "cell_type": "code",
   "execution_count": 15,
   "id": "f4dd41af",
   "metadata": {},
   "outputs": [
    {
     "data": {
      "text/plain": [
       "[1000000000, 0, 3, 5, 4]"
      ]
     },
     "execution_count": 15,
     "metadata": {},
     "output_type": "execute_result"
    }
   ],
   "source": [
    "t1"
   ]
  },
  {
   "cell_type": "code",
   "execution_count": 16,
   "id": "3b813200",
   "metadata": {},
   "outputs": [
    {
     "data": {
      "text/plain": [
       "[1000000000, 3, 0, 3, 4]"
      ]
     },
     "execution_count": 16,
     "metadata": {},
     "output_type": "execute_result"
    }
   ],
   "source": [
    "t2"
   ]
  },
  {
   "cell_type": "code",
   "execution_count": 17,
   "id": "80c96dc2",
   "metadata": {},
   "outputs": [
    {
     "data": {
      "text/plain": [
       "[1000000000, 5, 3, 0, 1]"
      ]
     },
     "execution_count": 17,
     "metadata": {},
     "output_type": "execute_result"
    }
   ],
   "source": [
    "t3"
   ]
  },
  {
   "cell_type": "code",
   "execution_count": 5,
   "id": "ee01eedf",
   "metadata": {},
   "outputs": [
    {
     "data": {
      "text/plain": [
       "[1000000000, 3, 0, 3, 4]"
      ]
     },
     "execution_count": 5,
     "metadata": {},
     "output_type": "execute_result"
    }
   ],
   "source": [
    "dist"
   ]
  },
  {
   "cell_type": "code",
   "execution_count": null,
   "id": "2c6ee6a1",
   "metadata": {},
   "outputs": [],
   "source": []
  }
 ],
 "metadata": {
  "kernelspec": {
   "display_name": "Python 3 (ipykernel)",
   "language": "python",
   "name": "python3"
  },
  "language_info": {
   "codemirror_mode": {
    "name": "ipython",
    "version": 3
   },
   "file_extension": ".py",
   "mimetype": "text/x-python",
   "name": "python",
   "nbconvert_exporter": "python",
   "pygments_lexer": "ipython3",
   "version": "3.8.0"
  },
  "toc": {
   "base_numbering": 1,
   "nav_menu": {},
   "number_sections": true,
   "sideBar": true,
   "skip_h1_title": false,
   "title_cell": "Table of Contents",
   "title_sidebar": "Contents",
   "toc_cell": false,
   "toc_position": {},
   "toc_section_display": true,
   "toc_window_display": false
  }
 },
 "nbformat": 4,
 "nbformat_minor": 5
}
