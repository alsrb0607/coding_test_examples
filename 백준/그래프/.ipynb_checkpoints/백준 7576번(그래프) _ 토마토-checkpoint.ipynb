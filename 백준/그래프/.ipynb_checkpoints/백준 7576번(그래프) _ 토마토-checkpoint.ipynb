{
 "cells": [
  {
   "cell_type": "code",
   "execution_count": 100,
   "id": "6996d308",
   "metadata": {},
   "outputs": [
    {
     "name": "stdout",
     "output_type": "stream",
     "text": [
      "2 2\n",
      "1 -1\n",
      "-1 1\n",
      "0\n"
     ]
    }
   ],
   "source": [
    "# 시간초과\n",
    "a,b = map(int,input().split())\n",
    "g=[list(map(int,input().split())) for _ in range(b)]\n",
    "\n",
    "def dfs(g,a,b):\n",
    "    move = [(-1,0),(1,0),(0,-1),(0,1)]\n",
    "    tmp = [(i,j) for i in range(b) for j in range(a) if g[i][j]==1]\n",
    "    cnt = 0\n",
    "    for i,j in tmp:\n",
    "        for p,q in move:\n",
    "            if 0<=i+q<b and 0<=j+p<a:\n",
    "                if g[i+q][j+p]==0:\n",
    "                    g[i+q][j+p]=1\n",
    "                    cnt+=1\n",
    "    return cnt\n",
    "answer = 0\n",
    "while True:\n",
    "    cnt = dfs(g,a,b)\n",
    "    if not cnt:\n",
    "        break\n",
    "    answer +=1\n",
    "for x in g:\n",
    "    if 0 in x:\n",
    "        answer = -1\n",
    "        break\n",
    "print(answer)"
   ]
  },
  {
   "cell_type": "code",
   "execution_count": 117,
   "id": "a0bac6b6",
   "metadata": {},
   "outputs": [
    {
     "name": "stdout",
     "output_type": "stream",
     "text": [
      "2 2\n",
      "1 -1\n",
      "-1 1\n",
      "0\n"
     ]
    }
   ],
   "source": [
    "# 통과\n",
    "a,b = map(int,input().split())\n",
    "g=[list(map(int,input().split())) for _ in range(b)]\n",
    "\n",
    "def bfs(g,a,b,target):\n",
    "    move = [(-1,0),(1,0),(0,-1),(0,1)]\n",
    "    targets = target\n",
    "    nexts = []\n",
    "    n = len(targets)\n",
    "    for _ in range(n):\n",
    "        i,j = targets.pop()\n",
    "        for p,q in move:\n",
    "            if 0<=i+q<b and 0<=j+p<a:\n",
    "                if g[i+q][j+p]==0:\n",
    "                    g[i+q][j+p]=1\n",
    "                    nexts.append((i+q,j+p))\n",
    "    return nexts\n",
    "answer = 0\n",
    "tmp = [(i,j) for i in range(b) for j in range(a) if g[i][j]==1]\n",
    "while True:\n",
    "    tmp = bfs(g,a,b,tmp)\n",
    "    if not tmp:\n",
    "        break\n",
    "    answer +=1\n",
    "for x in g:\n",
    "    if 0 in x:\n",
    "        answer = -1\n",
    "        break\n",
    "print(answer)"
   ]
  },
  {
   "cell_type": "code",
   "execution_count": null,
   "id": "c4d948da",
   "metadata": {},
   "outputs": [],
   "source": []
  }
 ],
 "metadata": {
  "kernelspec": {
   "display_name": "Python 3",
   "language": "python",
   "name": "python3"
  },
  "language_info": {
   "codemirror_mode": {
    "name": "ipython",
    "version": 3
   },
   "file_extension": ".py",
   "mimetype": "text/x-python",
   "name": "python",
   "nbconvert_exporter": "python",
   "pygments_lexer": "ipython3",
   "version": "3.8.8"
  },
  "toc": {
   "base_numbering": 1,
   "nav_menu": {},
   "number_sections": true,
   "sideBar": true,
   "skip_h1_title": false,
   "title_cell": "Table of Contents",
   "title_sidebar": "Contents",
   "toc_cell": false,
   "toc_position": {},
   "toc_section_display": true,
   "toc_window_display": false
  }
 },
 "nbformat": 4,
 "nbformat_minor": 5
}
