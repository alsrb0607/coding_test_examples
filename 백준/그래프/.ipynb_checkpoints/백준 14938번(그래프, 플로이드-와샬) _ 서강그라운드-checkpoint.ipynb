{
 "cells": [
  {
   "cell_type": "code",
   "execution_count": 76,
   "id": "ed2ffb32",
   "metadata": {},
   "outputs": [
    {
     "name": "stdout",
     "output_type": "stream",
     "text": [
      "5 5 4\n",
      "5 7 8 2 3\n",
      "1 4 5\n",
      "5 2 4\n",
      "3 2 3\n",
      "1 2 3\n",
      "23\n"
     ]
    }
   ],
   "source": [
    "n,m,r = map(int, input().split())\n",
    "items = [0] + list(map(int, input().split()))\n",
    "g = [[16 for _ in range(n+1)] for _ in range(n+1)]\n",
    "for _ in range(r):\n",
    "    a,b,l = map(int, input().split())\n",
    "    g[a][b] = g[b][a] = l\n",
    "\n",
    "for t in range(1,n+1):\n",
    "    for i in range(1,n+1):\n",
    "        for j in range(1,n+1):\n",
    "            if i==j:\n",
    "                pass\n",
    "            elif g[i][j] > g[i][t] + g[t][j]:\n",
    "                g[i][j] = g[i][t] + g[t][j]\n",
    "\n",
    "ans = []\n",
    "for i in range(1,n+1):\n",
    "    cnt = items[i]\n",
    "    for j in range(1,n+1):\n",
    "        if g[i][j] <=m:\n",
    "            cnt += items[j]\n",
    "    ans.append(cnt)\n",
    "print(max(ans))"
   ]
  },
  {
   "cell_type": "code",
   "execution_count": 77,
   "id": "ec33794a",
   "metadata": {},
   "outputs": [
    {
     "data": {
      "text/plain": [
       "[12, 23, 15, 2, 10]"
      ]
     },
     "execution_count": 77,
     "metadata": {},
     "output_type": "execute_result"
    }
   ],
   "source": [
    "ans"
   ]
  },
  {
   "cell_type": "code",
   "execution_count": 55,
   "id": "bd7fd8fb",
   "metadata": {},
   "outputs": [
    {
     "name": "stdout",
     "output_type": "stream",
     "text": [
      "23\n"
     ]
    }
   ],
   "source": [
    "from collections import deque\n",
    "def dfs(start,visit,max_,g,m,items):\n",
    "    item = items[start]\n",
    "    for x,l in g[start]:\n",
    "        if max_ + l <= r:\n",
    "            if not visit[x]:\n",
    "                visit[x] = 1\n",
    "                item += dfs(x,visit,max_+l,g,m,items)\n",
    "            else:\n",
    "                item += dfs(x,visit,max_+l,g,m,items) - items[x]\n",
    "    return item\n",
    "\n",
    "tmp = []\n",
    "for start in range(1,n+1):\n",
    "    visit = [0 for _ in range(n+1)]\n",
    "    visit[start] = 1\n",
    "    tmp.append(dfs(start,visit,0,g,m,items))\n",
    "\n",
    "print(max(tmp))"
   ]
  },
  {
   "cell_type": "code",
   "execution_count": null,
   "id": "641452b4",
   "metadata": {},
   "outputs": [],
   "source": []
  }
 ],
 "metadata": {
  "kernelspec": {
   "display_name": "Python 3 (ipykernel)",
   "language": "python",
   "name": "python3"
  },
  "language_info": {
   "codemirror_mode": {
    "name": "ipython",
    "version": 3
   },
   "file_extension": ".py",
   "mimetype": "text/x-python",
   "name": "python",
   "nbconvert_exporter": "python",
   "pygments_lexer": "ipython3",
   "version": "3.8.0"
  },
  "toc": {
   "base_numbering": 1,
   "nav_menu": {},
   "number_sections": true,
   "sideBar": true,
   "skip_h1_title": false,
   "title_cell": "Table of Contents",
   "title_sidebar": "Contents",
   "toc_cell": false,
   "toc_position": {},
   "toc_section_display": true,
   "toc_window_display": false
  }
 },
 "nbformat": 4,
 "nbformat_minor": 5
}
