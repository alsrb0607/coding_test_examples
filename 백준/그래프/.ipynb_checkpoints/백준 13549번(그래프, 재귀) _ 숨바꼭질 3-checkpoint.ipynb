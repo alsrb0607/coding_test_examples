{
 "cells": [
  {
   "cell_type": "code",
   "execution_count": 21,
   "id": "b609898e",
   "metadata": {},
   "outputs": [
    {
     "name": "stdout",
     "output_type": "stream",
     "text": [
      "5 17\n",
      "deque([10, 4, 6])\n",
      "deque([4, 6, 20, 9, 11])\n",
      "deque([6, 20, 9, 11, 8, 3])\n",
      "deque([20, 9, 11, 8, 3, 12, 7])\n",
      "deque([9, 11, 8, 3, 12, 7, 40, 19, 21])\n",
      "deque([11, 8, 3, 12, 7, 40, 19, 21, 18])\n",
      "deque([8, 3, 12, 7, 40, 19, 21, 18, 22])\n",
      "deque([3, 12, 7, 40, 19, 21, 18, 22, 16])\n",
      "deque([12, 7, 40, 19, 21, 18, 22, 16, 2])\n",
      "deque([7, 40, 19, 21, 18, 22, 16, 2, 24, 13])\n",
      "deque([40, 19, 21, 18, 22, 16, 2, 24, 13, 14])\n",
      "deque([19, 21, 18, 22, 16, 2, 24, 13, 14, 80, 39, 41])\n",
      "deque([21, 18, 22, 16, 2, 24, 13, 14, 80, 39, 41, 38])\n",
      "deque([18, 22, 16, 2, 24, 13, 14, 80, 39, 41, 38, 42])\n",
      "deque([22, 16, 2, 24, 13, 14, 80, 39, 41, 38, 42, 36, 17])\n",
      "deque([16, 2, 24, 13, 14, 80, 39, 41, 38, 42, 36, 17, 44, 23])\n",
      "deque([2, 24, 13, 14, 80, 39, 41, 38, 42, 36, 17, 44, 23, 32, 15])\n",
      "deque([24, 13, 14, 80, 39, 41, 38, 42, 36, 17, 44, 23, 32, 15, 1])\n",
      "deque([13, 14, 80, 39, 41, 38, 42, 36, 17, 44, 23, 32, 15, 1, 48, 25])\n",
      "deque([14, 80, 39, 41, 38, 42, 36, 17, 44, 23, 32, 15, 1, 48, 25, 26])\n",
      "deque([80, 39, 41, 38, 42, 36, 17, 44, 23, 32, 15, 1, 48, 25, 26, 28])\n",
      "deque([39, 41, 38, 42, 36, 17, 44, 23, 32, 15, 1, 48, 25, 26, 28, 160, 79, 81])\n",
      "deque([41, 38, 42, 36, 17, 44, 23, 32, 15, 1, 48, 25, 26, 28, 160, 79, 81, 78])\n",
      "deque([38, 42, 36, 17, 44, 23, 32, 15, 1, 48, 25, 26, 28, 160, 79, 81, 78, 82])\n",
      "deque([42, 36, 17, 44, 23, 32, 15, 1, 48, 25, 26, 28, 160, 79, 81, 78, 82, 76, 37])\n",
      "deque([36, 17, 44, 23, 32, 15, 1, 48, 25, 26, 28, 160, 79, 81, 78, 82, 76, 37, 84, 43])\n",
      "deque([17, 44, 23, 32, 15, 1, 48, 25, 26, 28, 160, 79, 81, 78, 82, 76, 37, 84, 43, 72, 35])\n"
     ]
    }
   ],
   "source": [
    "from collections import deque\n",
    "n,k = map(int,input().split())\n",
    "cnt = {n:0}\n",
    "q = deque([n])\n",
    "while q:\n",
    "    now = q.popleft()\n",
    "    if now==k:\n",
    "        break\n",
    "    if (t:=2*now)<=100000:\n",
    "        if t in cnt:\n",
    "            if cnt[t] > cnt[now]:\n",
    "                cnt[t] = cnt[now]\n",
    "                q.append(t)\n",
    "        else:\n",
    "            cnt[t] = cnt[now]\n",
    "            q.append(t)\n",
    "    for t in [now-1, now+1]:\n",
    "        if 0<=t<=100000:\n",
    "            if t in cnt:\n",
    "                if cnt[t] > cnt[now]+1:\n",
    "                    cnt[t] = cnt[now]+1\n",
    "                    q.append(t)\n",
    "            else:\n",
    "                cnt[t] = cnt[now]+1\n",
    "                q.append(t)\n",
    "print(cnt[k])"
   ]
  },
  {
   "cell_type": "code",
   "execution_count": 28,
   "id": "7236cae3",
   "metadata": {},
   "outputs": [
    {
     "name": "stdout",
     "output_type": "stream",
     "text": [
      "5 5\n",
      "0\n"
     ]
    }
   ],
   "source": [
    "n,k = map(int,input().split())\n",
    "\n",
    "def f(n,k):\n",
    "    if n>=k:\n",
    "        return n-k\n",
    "    elif n==0:\n",
    "        return f(1,k) + 1\n",
    "    elif k%2==0:\n",
    "        return min(f(n,k//2),k-n)\n",
    "    else:\n",
    "        return min(f(n,(k+1)),f(n,(k-1)))+1\n",
    "print(f(n,k))"
   ]
  },
  {
   "cell_type": "code",
   "execution_count": null,
   "id": "ae1948d2",
   "metadata": {},
   "outputs": [],
   "source": []
  }
 ],
 "metadata": {
  "kernelspec": {
   "display_name": "Python 3 (ipykernel)",
   "language": "python",
   "name": "python3"
  },
  "language_info": {
   "codemirror_mode": {
    "name": "ipython",
    "version": 3
   },
   "file_extension": ".py",
   "mimetype": "text/x-python",
   "name": "python",
   "nbconvert_exporter": "python",
   "pygments_lexer": "ipython3",
   "version": "3.8.0"
  },
  "toc": {
   "base_numbering": 1,
   "nav_menu": {},
   "number_sections": true,
   "sideBar": true,
   "skip_h1_title": false,
   "title_cell": "Table of Contents",
   "title_sidebar": "Contents",
   "toc_cell": false,
   "toc_position": {},
   "toc_section_display": true,
   "toc_window_display": false
  }
 },
 "nbformat": 4,
 "nbformat_minor": 5
}
