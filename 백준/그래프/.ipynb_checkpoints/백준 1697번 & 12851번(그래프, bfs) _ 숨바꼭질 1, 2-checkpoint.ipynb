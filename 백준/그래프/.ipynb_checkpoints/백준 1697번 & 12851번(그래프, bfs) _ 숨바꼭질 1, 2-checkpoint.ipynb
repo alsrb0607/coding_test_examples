{
 "cells": [
  {
   "cell_type": "code",
   "execution_count": 1,
   "id": "e17025c2",
   "metadata": {},
   "outputs": [
    {
     "name": "stdout",
     "output_type": "stream",
     "text": [
      "5 17\n"
     ]
    },
    {
     "data": {
      "text/plain": [
       "('0b10001', '0b101')"
      ]
     },
     "execution_count": 1,
     "metadata": {},
     "output_type": "execute_result"
    }
   ],
   "source": [
    "n,k = map(int, input().split())"
   ]
  },
  {
   "cell_type": "code",
   "execution_count": 30,
   "id": "3ec439e8",
   "metadata": {},
   "outputs": [
    {
     "name": "stdout",
     "output_type": "stream",
     "text": [
      "4\n"
     ]
    }
   ],
   "source": [
    "# 숨바꼭질 1\n",
    "from collections import deque\n",
    "cnt = [0 for _ in range(100001)]\n",
    "q = deque([n])\n",
    "while q:\n",
    "    tmp = q.popleft()\n",
    "    if tmp == k:\n",
    "        break\n",
    "    for x in [tmp-1,tmp+1,tmp*2]:\n",
    "        if 0<=x<=100000 and cnt[x]==0:\n",
    "            cnt[x] = cnt[tmp] + 1\n",
    "            q.append(x) \n",
    "print(cnt[k])"
   ]
  },
  {
   "cell_type": "code",
   "execution_count": 42,
   "id": "5092c576",
   "metadata": {},
   "outputs": [
    {
     "name": "stdout",
     "output_type": "stream",
     "text": [
      "4\n",
      "2\n"
     ]
    }
   ],
   "source": [
    "# 숨바꼭질 2\n",
    "from collections import deque\n",
    "cnt = [[0,0] for _ in range(100001)]\n",
    "q = deque([n])\n",
    "while q:\n",
    "    tmp = q.popleft()\n",
    "    if tmp == k:\n",
    "        cnt[k][1] = 1 + q.count(k)\n",
    "        break\n",
    "    for x in [tmp-1,tmp+1,tmp*2]:\n",
    "        if 0<=x<=100000 and cnt[x][0]==0:\n",
    "            cnt[x][0] = cnt[tmp][0] + 1\n",
    "            cnt[x][1] += 1\n",
    "            q.append(x) \n",
    "        elif 0<=x<=100000 and cnt[tmp][0] +1 == cnt[x][0]:\n",
    "            cnt[x][1]+=1\n",
    "            q.append(x)       \n",
    "print(*cnt[k],sep = '\\n')"
   ]
  },
  {
   "cell_type": "code",
   "execution_count": null,
   "id": "c6dbccc6",
   "metadata": {},
   "outputs": [],
   "source": []
  }
 ],
 "metadata": {
  "kernelspec": {
   "display_name": "Python 3 (ipykernel)",
   "language": "python",
   "name": "python3"
  },
  "language_info": {
   "codemirror_mode": {
    "name": "ipython",
    "version": 3
   },
   "file_extension": ".py",
   "mimetype": "text/x-python",
   "name": "python",
   "nbconvert_exporter": "python",
   "pygments_lexer": "ipython3",
   "version": "3.8.0"
  },
  "toc": {
   "base_numbering": 1,
   "nav_menu": {},
   "number_sections": true,
   "sideBar": true,
   "skip_h1_title": false,
   "title_cell": "Table of Contents",
   "title_sidebar": "Contents",
   "toc_cell": false,
   "toc_position": {},
   "toc_section_display": true,
   "toc_window_display": false
  }
 },
 "nbformat": 4,
 "nbformat_minor": 5
}
