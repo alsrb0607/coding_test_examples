{
 "cells": [
  {
   "cell_type": "code",
   "execution_count": null,
   "id": "7cff480b",
   "metadata": {},
   "outputs": [],
   "source": [
    "import heapq\n",
    "\n",
    "n=int(input())\n",
    "m=int(input())\n",
    "bus = [[] for _ in range(n+1)]\n",
    "for _ in range(m):\n",
    "    a,b,c = map(int,input().split())\n",
    "    bus[a].append((b,c))\n",
    "s,e = map(int,input().split())\n",
    "\n",
    "def dijk(start,n,bus):\n",
    "    INF = int(1e9)\n",
    "    dist = [INF]*(n+1)\n",
    "    q = []\n",
    "    heapq.heappush(q,(0,start))\n",
    "    while q:\n",
    "        d, now = heapq.heappop(q)\n",
    "        if d> dist[now]:\n",
    "            continue\n",
    "        for x,dd in bus[now]:\n",
    "            cost = d + dd\n",
    "            if cost< dist[x]:\n",
    "                dist[x] = cost\n",
    "                heapq.heappush(q,(cost,x))\n",
    "    return dist\n",
    "\n",
    "print(dijk(s,n,bus)[e])"
   ]
  },
  {
   "cell_type": "code",
   "execution_count": null,
   "id": "55934c37",
   "metadata": {},
   "outputs": [],
   "source": []
  }
 ],
 "metadata": {
  "kernelspec": {
   "display_name": "Python 3 (ipykernel)",
   "language": "python",
   "name": "python3"
  },
  "language_info": {
   "codemirror_mode": {
    "name": "ipython",
    "version": 3
   },
   "file_extension": ".py",
   "mimetype": "text/x-python",
   "name": "python",
   "nbconvert_exporter": "python",
   "pygments_lexer": "ipython3",
   "version": "3.8.0"
  },
  "toc": {
   "base_numbering": 1,
   "nav_menu": {},
   "number_sections": true,
   "sideBar": true,
   "skip_h1_title": false,
   "title_cell": "Table of Contents",
   "title_sidebar": "Contents",
   "toc_cell": false,
   "toc_position": {},
   "toc_section_display": true,
   "toc_window_display": false
  }
 },
 "nbformat": 4,
 "nbformat_minor": 5
}
