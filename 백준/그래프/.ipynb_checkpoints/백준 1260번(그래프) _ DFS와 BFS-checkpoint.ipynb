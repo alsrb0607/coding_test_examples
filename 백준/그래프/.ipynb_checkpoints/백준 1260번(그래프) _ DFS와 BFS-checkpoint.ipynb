{
 "cells": [
  {
   "cell_type": "code",
   "execution_count": 36,
   "id": "9968e420",
   "metadata": {},
   "outputs": [
    {
     "name": "stdout",
     "output_type": "stream",
     "text": [
      "4 5 1\n",
      "1 2\n",
      "1 3\n",
      "1 4\n",
      "2 4\n",
      "3 4\n",
      "1 2 4 3 \n",
      "1 2 3 4\n"
     ]
    }
   ],
   "source": [
    "from collections import deque\n",
    "n,m,v = map(int, input().split())\n",
    "g=dict()\n",
    "for _ in range(m):\n",
    "    a,b=map(int, input().split())\n",
    "    g[a], g[b]=g.get(a,[]) + [b], g.get(b,[]) + [a]\n",
    "for x in g:\n",
    "    g[x] = sorted(g[x])\n",
    "\n",
    "visit = [False]*(n+1)\n",
    "def dfs(graph,v,visit):\n",
    "    visit[v] = True\n",
    "    print(v, end = ' ')\n",
    "    if v not in graph:\n",
    "        return\n",
    "    for i in graph[v]:\n",
    "        if not visit[i]:\n",
    "            dfs(graph, i, visit)\n",
    "dfs(g,v,visit)\n",
    "print()\n",
    "\n",
    "def bfs(graph,v,visit):\n",
    "    q=deque([v])\n",
    "    visit[v] = True\n",
    "    results = []\n",
    "    while q:\n",
    "        now = q.popleft()\n",
    "        results.append(now)\n",
    "        if now not in graph:\n",
    "            return results\n",
    "        else:\n",
    "            for j in graph[now]:\n",
    "                if not visit[j]:\n",
    "                    q.append(j)\n",
    "                    visit[j]=True\n",
    "    return results\n",
    "visit = [False]*(n+1)\n",
    "print(*bfs(g,v,visit))"
   ]
  },
  {
   "cell_type": "code",
   "execution_count": null,
   "id": "b438fdc1",
   "metadata": {},
   "outputs": [],
   "source": []
  }
 ],
 "metadata": {
  "kernelspec": {
   "display_name": "Python 3",
   "language": "python",
   "name": "python3"
  },
  "language_info": {
   "codemirror_mode": {
    "name": "ipython",
    "version": 3
   },
   "file_extension": ".py",
   "mimetype": "text/x-python",
   "name": "python",
   "nbconvert_exporter": "python",
   "pygments_lexer": "ipython3",
   "version": "3.8.8"
  },
  "toc": {
   "base_numbering": 1,
   "nav_menu": {},
   "number_sections": true,
   "sideBar": true,
   "skip_h1_title": false,
   "title_cell": "Table of Contents",
   "title_sidebar": "Contents",
   "toc_cell": false,
   "toc_position": {},
   "toc_section_display": true,
   "toc_window_display": false
  }
 },
 "nbformat": 4,
 "nbformat_minor": 5
}
