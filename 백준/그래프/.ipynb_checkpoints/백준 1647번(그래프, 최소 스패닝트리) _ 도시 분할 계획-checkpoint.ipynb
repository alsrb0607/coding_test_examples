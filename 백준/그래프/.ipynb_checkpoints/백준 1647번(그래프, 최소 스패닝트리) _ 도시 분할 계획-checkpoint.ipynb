{
 "cells": [
  {
   "cell_type": "code",
   "execution_count": 1,
   "id": "0f491299",
   "metadata": {},
   "outputs": [
    {
     "name": "stdout",
     "output_type": "stream",
     "text": [
      "7 12\n",
      "1 2 3\n",
      "1 3 2\n",
      "3 2 1\n",
      "2 5 2\n",
      "3 4 4\n",
      "7 3 6\n",
      "5 1 5\n",
      "1 6 2\n",
      "6 4 1\n",
      "6 5 3\n",
      "4 5 3\n",
      "6 7 4\n"
     ]
    },
    {
     "ename": "NameError",
     "evalue": "name 'cnt' is not defined",
     "output_type": "error",
     "traceback": [
      "\u001b[1;31m---------------------------------------------------------------------------\u001b[0m",
      "\u001b[1;31mNameError\u001b[0m                                 Traceback (most recent call last)",
      "\u001b[1;32m~\\AppData\\Local\\Temp/ipykernel_9604/2017415938.py\u001b[0m in \u001b[0;36m<module>\u001b[1;34m\u001b[0m\n\u001b[0;32m     23\u001b[0m \u001b[0mdst\u001b[0m\u001b[1;33m.\u001b[0m\u001b[0msort\u001b[0m\u001b[1;33m(\u001b[0m\u001b[0mkey\u001b[0m \u001b[1;33m=\u001b[0m \u001b[1;32mlambda\u001b[0m \u001b[0mx\u001b[0m\u001b[1;33m:\u001b[0m\u001b[0mx\u001b[0m\u001b[1;33m[\u001b[0m\u001b[1;36m2\u001b[0m\u001b[1;33m]\u001b[0m\u001b[1;33m,\u001b[0m \u001b[0mreverse\u001b[0m\u001b[1;33m=\u001b[0m\u001b[1;32mTrue\u001b[0m\u001b[1;33m)\u001b[0m\u001b[1;33m\u001b[0m\u001b[1;33m\u001b[0m\u001b[0m\n\u001b[0;32m     24\u001b[0m \u001b[0mmax_\u001b[0m \u001b[1;33m=\u001b[0m \u001b[1;36m0\u001b[0m\u001b[1;33m;\u001b[0m \u001b[0mans\u001b[0m \u001b[1;33m=\u001b[0m \u001b[1;36m0\u001b[0m\u001b[1;33m\u001b[0m\u001b[1;33m\u001b[0m\u001b[0m\n\u001b[1;32m---> 25\u001b[1;33m \u001b[1;32mwhile\u001b[0m \u001b[0mcnt\u001b[0m\u001b[1;33m<\u001b[0m\u001b[0mn\u001b[0m \u001b[1;32mand\u001b[0m \u001b[0mdst\u001b[0m\u001b[1;33m:\u001b[0m\u001b[1;33m\u001b[0m\u001b[1;33m\u001b[0m\u001b[0m\n\u001b[0m\u001b[0;32m     26\u001b[0m     \u001b[0mi\u001b[0m\u001b[1;33m,\u001b[0m\u001b[0mj\u001b[0m\u001b[1;33m,\u001b[0m\u001b[0mcost\u001b[0m \u001b[1;33m=\u001b[0m \u001b[0mdst\u001b[0m\u001b[1;33m.\u001b[0m\u001b[0mpop\u001b[0m\u001b[1;33m(\u001b[0m\u001b[1;33m)\u001b[0m\u001b[1;33m\u001b[0m\u001b[1;33m\u001b[0m\u001b[0m\n\u001b[0;32m     27\u001b[0m     \u001b[1;32mif\u001b[0m \u001b[0mroot\u001b[0m\u001b[1;33m(\u001b[0m\u001b[0mi\u001b[0m\u001b[1;33m)\u001b[0m\u001b[1;33m!=\u001b[0m\u001b[0mroot\u001b[0m\u001b[1;33m(\u001b[0m\u001b[0mj\u001b[0m\u001b[1;33m)\u001b[0m\u001b[1;33m:\u001b[0m\u001b[1;33m\u001b[0m\u001b[1;33m\u001b[0m\u001b[0m\n",
      "\u001b[1;31mNameError\u001b[0m: name 'cnt' is not defined"
     ]
    }
   ],
   "source": [
    "# import sys\n",
    "# input = sys.stdin.readline\n",
    "\n",
    "n,m = map(int,input().split())\n",
    "d = list(range(n+1))\n",
    "dst = []\n",
    "for _ in range(m):\n",
    "    a,b,c = map(int,input().split())\n",
    "    dst.append((a,b,c))   \n",
    "\n",
    "def root(x):\n",
    "    if d[x]==x:\n",
    "        return x\n",
    "    d[x] = root(d[x])\n",
    "    return d[x]\n",
    "    \n",
    "def union(x,y):\n",
    "    a = root(x); b = root(y) \n",
    "    if a==b:\n",
    "        return\n",
    "    d[b] = a\n",
    "\n",
    "dst.sort(key = lambda x:x[2], reverse=True)\n",
    "max_ = 0; ans = 0; cnt = 0\n",
    "while cnt<n and dst:\n",
    "    i,j,cost = dst.pop()\n",
    "    if root(i)!=root(j):\n",
    "        ans += cost\n",
    "        cnt +=1\n",
    "        max_=max(max_, cost)\n",
    "        union(i,j)\n",
    "\n",
    "print(ans - max_)"
   ]
  },
  {
   "cell_type": "code",
   "execution_count": null,
   "id": "5caf3238",
   "metadata": {},
   "outputs": [],
   "source": [
    "7 12\n",
    "1 2 3\n",
    "1 3 2\n",
    "3 2 1\n",
    "2 5 2\n",
    "3 4 4\n",
    "7 3 6\n",
    "5 1 5\n",
    "1 6 2\n",
    "6 4 1\n",
    "6 5 3\n",
    "4 5 3\n",
    "6 7 4\n",
    "12"
   ]
  }
 ],
 "metadata": {
  "kernelspec": {
   "display_name": "Python 3 (ipykernel)",
   "language": "python",
   "name": "python3"
  },
  "language_info": {
   "codemirror_mode": {
    "name": "ipython",
    "version": 3
   },
   "file_extension": ".py",
   "mimetype": "text/x-python",
   "name": "python",
   "nbconvert_exporter": "python",
   "pygments_lexer": "ipython3",
   "version": "3.8.0"
  },
  "toc": {
   "base_numbering": 1,
   "nav_menu": {},
   "number_sections": true,
   "sideBar": true,
   "skip_h1_title": false,
   "title_cell": "Table of Contents",
   "title_sidebar": "Contents",
   "toc_cell": false,
   "toc_position": {},
   "toc_section_display": true,
   "toc_window_display": false
  }
 },
 "nbformat": 4,
 "nbformat_minor": 5
}
