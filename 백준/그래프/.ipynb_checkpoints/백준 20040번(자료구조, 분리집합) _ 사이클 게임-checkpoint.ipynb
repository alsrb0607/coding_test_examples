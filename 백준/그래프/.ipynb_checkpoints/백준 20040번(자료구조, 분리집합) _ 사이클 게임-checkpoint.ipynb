{
 "cells": [
  {
   "cell_type": "code",
   "execution_count": 6,
   "id": "672578e7",
   "metadata": {},
   "outputs": [
    {
     "name": "stdout",
     "output_type": "stream",
     "text": [
      "6 5\n",
      "0 1\n",
      "1 2\n",
      "1 3\n",
      "0 3\n",
      "4\n"
     ]
    }
   ],
   "source": [
    "n,m = map(int, input().split())\n",
    "t=[i for i in range(n+1)]\n",
    "def root(a):\n",
    "    if t[a]==a:\n",
    "        return a\n",
    "    t[a]=root(t[a])\n",
    "    return t[a]\n",
    "def union(a,b):\n",
    "    x=root(a);y=root(b)\n",
    "    if x==y:\n",
    "        return\n",
    "    t[y]=x\n",
    "cnt = 0\n",
    "for i in range(m):\n",
    "    a,b=map(int,input().split())\n",
    "    if root(a)==root(b):\n",
    "        cnt=i+1\n",
    "        break\n",
    "    union(a,b)\n",
    "print(cnt)\n",
    "    "
   ]
  },
  {
   "cell_type": "code",
   "execution_count": null,
   "id": "b44eff00",
   "metadata": {},
   "outputs": [],
   "source": []
  }
 ],
 "metadata": {
  "kernelspec": {
   "display_name": "Python 3 (ipykernel)",
   "language": "python",
   "name": "python3"
  },
  "language_info": {
   "codemirror_mode": {
    "name": "ipython",
    "version": 3
   },
   "file_extension": ".py",
   "mimetype": "text/x-python",
   "name": "python",
   "nbconvert_exporter": "python",
   "pygments_lexer": "ipython3",
   "version": "3.8.0"
  },
  "toc": {
   "base_numbering": 1,
   "nav_menu": {},
   "number_sections": true,
   "sideBar": true,
   "skip_h1_title": false,
   "title_cell": "Table of Contents",
   "title_sidebar": "Contents",
   "toc_cell": false,
   "toc_position": {},
   "toc_section_display": true,
   "toc_window_display": false
  }
 },
 "nbformat": 4,
 "nbformat_minor": 5
}
