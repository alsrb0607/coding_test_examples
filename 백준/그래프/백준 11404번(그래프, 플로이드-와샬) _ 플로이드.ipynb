{
 "cells": [
  {
   "cell_type": "code",
   "execution_count": null,
   "id": "7a64fcfa",
   "metadata": {},
   "outputs": [],
   "source": [
    "n = int(input())\n",
    "m = int(input())\n",
    "bus = [[999999999999 for _ in range(n)] for _ in range(n)]\n",
    "for _ in range(m):\n",
    "    a,b,c = map(int,input().split())\n",
    "    bus[a-1][b-1] = min(c, bus[a-1][b-1])\n",
    "\n",
    "for k in range(n):\n",
    "    for i in range(n):\n",
    "        for j in range(n):\n",
    "            if i==j:\n",
    "                bus[i][j] = 0\n",
    "            elif bus[i][j] > bus[i][k] + bus[k][j]:\n",
    "                bus[i][j] = bus[i][k] + bus[k][j]\n",
    "\n",
    "for i in range(n):\n",
    "    for j in range(n):\n",
    "        print(bus[i][j] if bus[i][j]!= 999999999999 else 0, end = ' ')\n",
    "    print()"
   ]
  },
  {
   "cell_type": "code",
   "execution_count": null,
   "id": "c3af2d70",
   "metadata": {},
   "outputs": [],
   "source": []
  }
 ],
 "metadata": {
  "kernelspec": {
   "display_name": "Python 3 (ipykernel)",
   "language": "python",
   "name": "python3"
  },
  "language_info": {
   "codemirror_mode": {
    "name": "ipython",
    "version": 3
   },
   "file_extension": ".py",
   "mimetype": "text/x-python",
   "name": "python",
   "nbconvert_exporter": "python",
   "pygments_lexer": "ipython3",
   "version": "3.8.0"
  },
  "toc": {
   "base_numbering": 1,
   "nav_menu": {},
   "number_sections": true,
   "sideBar": true,
   "skip_h1_title": false,
   "title_cell": "Table of Contents",
   "title_sidebar": "Contents",
   "toc_cell": false,
   "toc_position": {},
   "toc_section_display": true,
   "toc_window_display": false
  }
 },
 "nbformat": 4,
 "nbformat_minor": 5
}
