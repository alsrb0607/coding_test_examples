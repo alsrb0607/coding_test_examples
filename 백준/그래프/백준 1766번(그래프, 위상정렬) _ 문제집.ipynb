{
 "cells": [
  {
   "cell_type": "code",
   "execution_count": 31,
   "id": "87266196",
   "metadata": {},
   "outputs": [
    {
     "name": "stdout",
     "output_type": "stream",
     "text": [
      "4 2\n",
      "4 2\n",
      "3 1\n"
     ]
    }
   ],
   "source": [
    "import heapq\n",
    "\n",
    "n,m = map(int,input().split())\n",
    "d = [[0,i] for i in range(1,n+1)]\n",
    "g = [[] for _ in range(n+1)]\n",
    "for _ in range(m):\n",
    "    a,b = map(int,input().split())\n",
    "    g[a].append(b)\n",
    "    d[b-1][0] += 1\n",
    "\n",
    "def ts(d,g):\n",
    "    order = []\n",
    "    dd = d.copy()\n",
    "    q = []\n",
    "    for x,y in d:\n",
    "        if x==0:\n",
    "            heapq.heappush(q,[x,y])\n",
    "    while q:\n",
    "        now, num = heapq.heappop(q)\n",
    "        order.append(num)\n",
    "        for x in g[num]:\n",
    "            d[x-1][0] -= 1\n",
    "            if d[x-1][0] == 0 :\n",
    "                heapq.heappush(q,d[x-1])\n",
    "    return order"
   ]
  },
  {
   "cell_type": "code",
   "execution_count": 32,
   "id": "a4f6d589",
   "metadata": {},
   "outputs": [
    {
     "name": "stdout",
     "output_type": "stream",
     "text": [
      "3 1 4 2\n"
     ]
    }
   ],
   "source": [
    "print(*ts(d.copy(),g.copy()))"
   ]
  },
  {
   "cell_type": "code",
   "execution_count": null,
   "id": "10dd80d3",
   "metadata": {},
   "outputs": [],
   "source": [
    "a = [[1,2],[3,4],[-100,50],[-100,1]]\n",
    "heapq.heapify(a)"
   ]
  },
  {
   "cell_type": "code",
   "execution_count": 15,
   "id": "4b8413c7",
   "metadata": {},
   "outputs": [
    {
     "data": {
      "text/plain": [
       "[-100, 1]"
      ]
     },
     "execution_count": 15,
     "metadata": {},
     "output_type": "execute_result"
    }
   ],
   "source": [
    "a[0]"
   ]
  },
  {
   "cell_type": "code",
   "execution_count": 17,
   "id": "b0696555",
   "metadata": {},
   "outputs": [
    {
     "data": {
      "text/plain": [
       "[-100, 1]"
      ]
     },
     "execution_count": 17,
     "metadata": {},
     "output_type": "execute_result"
    }
   ],
   "source": [
    "heapq.heappop(a)"
   ]
  },
  {
   "cell_type": "code",
   "execution_count": null,
   "id": "c7d2cc35",
   "metadata": {},
   "outputs": [],
   "source": [
    "heapq.heappush()"
   ]
  }
 ],
 "metadata": {
  "kernelspec": {
   "display_name": "Python 3 (ipykernel)",
   "language": "python",
   "name": "python3"
  },
  "language_info": {
   "codemirror_mode": {
    "name": "ipython",
    "version": 3
   },
   "file_extension": ".py",
   "mimetype": "text/x-python",
   "name": "python",
   "nbconvert_exporter": "python",
   "pygments_lexer": "ipython3",
   "version": "3.8.0"
  },
  "toc": {
   "base_numbering": 1,
   "nav_menu": {},
   "number_sections": true,
   "sideBar": true,
   "skip_h1_title": false,
   "title_cell": "Table of Contents",
   "title_sidebar": "Contents",
   "toc_cell": false,
   "toc_position": {},
   "toc_section_display": true,
   "toc_window_display": false
  }
 },
 "nbformat": 4,
 "nbformat_minor": 5
}
