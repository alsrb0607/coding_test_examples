{
 "cells": [
  {
   "cell_type": "code",
   "execution_count": 47,
   "id": "ba2410e6",
   "metadata": {},
   "outputs": [
    {
     "name": "stdout",
     "output_type": "stream",
     "text": [
      "5 17\n",
      "4\n",
      "5 4 8 16 17\n"
     ]
    }
   ],
   "source": [
    "from collections import deque, defaultdict\n",
    "n,k = map(int,input().split())\n",
    "cnt = {n:0}\n",
    "q = deque([(n,str(n))])\n",
    "\n",
    "while q:\n",
    "    now, track = q.popleft()\n",
    "    if now==k:\n",
    "        break\n",
    "    for t in [now-1, now+1, now*2]:\n",
    "        if 0<=t<=100000:\n",
    "            if t in cnt:\n",
    "                if cnt[t] > cnt[now]+1:\n",
    "                    cnt[t] = cnt[now]+1\n",
    "                    q.append((t,track + ' '+str(t)))\n",
    "            else:\n",
    "                cnt[t] = cnt[now]+1          \n",
    "                q.append((t,track + ' '+str(t)))\n",
    "                \n",
    "print(cnt[k])\n",
    "print(track)"
   ]
  },
  {
   "cell_type": "code",
   "execution_count": 49,
   "id": "351f7c35",
   "metadata": {},
   "outputs": [
    {
     "name": "stdout",
     "output_type": "stream",
     "text": [
      "5 17\n",
      "4\n",
      "[17, 16, 8, 4]\n",
      "5 4 8 16 17\n"
     ]
    }
   ],
   "source": [
    "from collections import deque\n",
    "n,k=map(int,input().split())\n",
    "D=[[-1,-1] for _ in range(10**5+1)]\n",
    "D[n][0]=0;q=deque([n])\n",
    "while q:\n",
    "    x=q.popleft()\n",
    "    for nx in [x+1,x-1,2*x]:\n",
    "        if 0<=nx<=10**5 and D[nx][0]==-1:\n",
    "            D[nx][0]=D[x][0]+1\n",
    "            D[nx][1]=x\n",
    "            q.append(nx)\n",
    "print(D[k][0])\n",
    "K=[]\n",
    "while k!=n:\n",
    "    K.append(k)\n",
    "    k=D[k][1]\n",
    "# print(K)\n",
    "print(' '.join(map(str,[n]+K[::-1])))"
   ]
  },
  {
   "cell_type": "code",
   "execution_count": null,
   "id": "cac4db8a",
   "metadata": {},
   "outputs": [],
   "source": []
  }
 ],
 "metadata": {
  "kernelspec": {
   "display_name": "Python 3 (ipykernel)",
   "language": "python",
   "name": "python3"
  },
  "language_info": {
   "codemirror_mode": {
    "name": "ipython",
    "version": 3
   },
   "file_extension": ".py",
   "mimetype": "text/x-python",
   "name": "python",
   "nbconvert_exporter": "python",
   "pygments_lexer": "ipython3",
   "version": "3.8.0"
  },
  "toc": {
   "base_numbering": 1,
   "nav_menu": {},
   "number_sections": true,
   "sideBar": true,
   "skip_h1_title": false,
   "title_cell": "Table of Contents",
   "title_sidebar": "Contents",
   "toc_cell": false,
   "toc_position": {},
   "toc_section_display": true,
   "toc_window_display": false
  }
 },
 "nbformat": 4,
 "nbformat_minor": 5
}
