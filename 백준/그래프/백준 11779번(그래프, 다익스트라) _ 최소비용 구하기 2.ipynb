{
 "cells": [
  {
   "cell_type": "code",
   "execution_count": 3,
   "id": "4423104c",
   "metadata": {},
   "outputs": [
    {
     "name": "stdout",
     "output_type": "stream",
     "text": [
      "5\n",
      "8\n",
      "1 2 2\n",
      "1 3 3\n",
      "1 4 1\n",
      "1 5 10\n",
      "2 4 2\n",
      "3 4 1\n",
      "3 5 1\n",
      "4 5 3\n",
      "1 5\n"
     ]
    }
   ],
   "source": [
    "import heapq\n",
    "n = int(input())\n",
    "m = int(input())\n",
    "bus = [[] for _ in range(n+1)]\n",
    "for _ in range(m):\n",
    "    a,b,c = map(int,input().split())\n",
    "    bus[a].append((b,c))\n",
    "s,e = map(int,input().split())"
   ]
  },
  {
   "cell_type": "code",
   "execution_count": 58,
   "id": "01d6cf62",
   "metadata": {},
   "outputs": [
    {
     "name": "stdout",
     "output_type": "stream",
     "text": [
      "4\n",
      "3\n",
      "1 4 5\n"
     ]
    }
   ],
   "source": [
    "def dijk(s,e):\n",
    "    INF = int(1e9)\n",
    "    dist = [INF]*(n+1)\n",
    "    q = []; tmp=[]\n",
    "    heapq.heappush(q,[0,s,[s]])\n",
    "    while q:\n",
    "        d, now, path = heapq.heappop(q)\n",
    "        if now == e:\n",
    "            break\n",
    "        elif d>dist[now]:\n",
    "            continue\n",
    "        for x in bus[now]:\n",
    "            p = path.copy()\n",
    "            cost = d + x[1]\n",
    "            if cost < dist[x[0]]:\n",
    "                dist[x[0]] = cost\n",
    "                p.append(x[0])\n",
    "                heapq.heappush(q,(cost,x[0],p))\n",
    "    return dist, path\n",
    "\n",
    "dist, path = dijk(s,e)\n",
    "print(dist[e])\n",
    "print(len(path))\n",
    "print(*path)"
   ]
  },
  {
   "cell_type": "code",
   "execution_count": 52,
   "id": "d3ff1e09",
   "metadata": {},
   "outputs": [
    {
     "data": {
      "text/plain": [
       "[1000000000, 1000000000, 2, 3, 1, 4]"
      ]
     },
     "execution_count": 52,
     "metadata": {},
     "output_type": "execute_result"
    }
   ],
   "source": [
    "dist"
   ]
  },
  {
   "cell_type": "code",
   "execution_count": null,
   "id": "ad9caa73",
   "metadata": {},
   "outputs": [],
   "source": []
  }
 ],
 "metadata": {
  "kernelspec": {
   "display_name": "Python 3 (ipykernel)",
   "language": "python",
   "name": "python3"
  },
  "language_info": {
   "codemirror_mode": {
    "name": "ipython",
    "version": 3
   },
   "file_extension": ".py",
   "mimetype": "text/x-python",
   "name": "python",
   "nbconvert_exporter": "python",
   "pygments_lexer": "ipython3",
   "version": "3.8.0"
  },
  "toc": {
   "base_numbering": 1,
   "nav_menu": {},
   "number_sections": true,
   "sideBar": true,
   "skip_h1_title": false,
   "title_cell": "Table of Contents",
   "title_sidebar": "Contents",
   "toc_cell": false,
   "toc_position": {},
   "toc_section_display": true,
   "toc_window_display": false
  }
 },
 "nbformat": 4,
 "nbformat_minor": 5
}
