{
 "cells": [
  {
   "cell_type": "code",
   "execution_count": 49,
   "id": "7ab6ccad",
   "metadata": {},
   "outputs": [
    {
     "name": "stdout",
     "output_type": "stream",
     "text": [
      "2\n",
      "3 3 1\n",
      "1 2 2\n",
      "1 3 4\n",
      "2 3 1\n",
      "3 1 3\n",
      "NO\n",
      "3 2 1\n",
      "1 2 3\n",
      "2 3 4\n",
      "3 1 8\n",
      "NO\n"
     ]
    }
   ],
   "source": [
    "# 불가능\n",
    "tc=int(input())\n",
    "import heapq\n",
    "\n",
    "def dijk(start,n):\n",
    "    INF = int(1e9)\n",
    "    dist = [INF]*(n+1)\n",
    "    dist[start] = 0\n",
    "    visit = [0]*(n+1)\n",
    "    q = []\n",
    "    heapq.heappush(q,(0,start))\n",
    "    while q:\n",
    "        d, now = heapq.heappop(q)\n",
    "        if d > dist[now]:\n",
    "            continue\n",
    "        if start == now and d<0:\n",
    "            return True\n",
    "        for x, dd in ww[now]:\n",
    "            cost = d - dd\n",
    "            if cost < dist[x]:\n",
    "                dist[x] = cost\n",
    "                heapq.heappush(q,(cost,x))\n",
    "        for x, dd in rr[now]:\n",
    "            cost = d + dd\n",
    "            if cost < dist[x]:\n",
    "                dist[x] = cost\n",
    "                heapq.heappush(q,(cost,x))\n",
    "    return dist\n",
    "\n",
    "for _ in range(tc):\n",
    "    n,m,w = map(int,input().split())\n",
    "    rr = [[] for _ in range(n+1)]\n",
    "    ww = [[] for _ in range(n+1)]\n",
    "    cnt = 1\n",
    "    for _ in range(m):\n",
    "        a,b,c = map(int,input().split())\n",
    "        rr[a].append((b,c))\n",
    "        rr[b].append((a,c))\n",
    "    for _ in range(w):\n",
    "        a,b,c = map(int,input().split())\n",
    "        ww[a].append((b,c))\n",
    "    for i in range(1,n+1):\n",
    "        if dijk(i,n)==True:\n",
    "            print('YES')\n",
    "            cnt = 0\n",
    "            break\n",
    "    if cnt:\n",
    "        print('NO')"
   ]
  },
  {
   "cell_type": "code",
   "execution_count": 52,
   "id": "812cf425",
   "metadata": {},
   "outputs": [
    {
     "name": "stdout",
     "output_type": "stream",
     "text": [
      "2\n",
      "3 3 1\n",
      "1 2 2\n",
      "1 3 4\n",
      "2 3 1\n",
      "3 1 3\n",
      "NO\n",
      "3 2 1\n",
      "1 2 3\n",
      "2 3 4\n",
      "3 1 8\n",
      "YES\n"
     ]
    }
   ],
   "source": [
    "# Pypy3로 제출시 통과\n",
    "tc=int(input())\n",
    "INF = int(1e9)\n",
    "\n",
    "def floyd(n):\n",
    "    for t in range(1,n+1):\n",
    "        for i in range(1,n+1):\n",
    "            for j in range(1,n+1):\n",
    "                if g[i][j] > g[i][t] + g[t][j]:\n",
    "                    g[i][j] = g[i][t] + g[t][j]\n",
    "                    if i==j and g[i][j] < 0:\n",
    "                        return True\n",
    "    return False\n",
    "for _ in range(tc):\n",
    "    n,m,w = map(int,input().split())\n",
    "    g = [[INF]*(n+1) for _ in range(n+1)]\n",
    "    for i in range(1,n+1):\n",
    "        g[i][i] = 0\n",
    "    for _ in range(m):\n",
    "        a,b,c = map(int,input().split())\n",
    "        g[a][b] = min(g[a][b],c)\n",
    "        g[b][a] = min(g[b][a],c)\n",
    "    for _ in range(w):\n",
    "        a,b,c = map(int,input().split())\n",
    "        g[a][b] = min(g[a][b],-c)\n",
    "    print('YES' if floyd(n) else 'NO')"
   ]
  },
  {
   "cell_type": "code",
   "execution_count": 55,
   "id": "d5b8dcd7",
   "metadata": {},
   "outputs": [
    {
     "name": "stdout",
     "output_type": "stream",
     "text": [
      "2\n",
      "3 3 1\n",
      "1 2 2\n",
      "1 3 4\n",
      "2 3 1\n",
      "3 1 3\n",
      "NO\n",
      "3 2 1\n",
      "1 2 3\n",
      "2 3 4\n",
      "3 1 8\n",
      "YES\n"
     ]
    }
   ],
   "source": [
    "# 모든 간선을 0으로 초기화, 모든 노드에서 동시에 업데이트 시작\n",
    "# import sys\n",
    "# input=sys.stdin.readline\n",
    "\n",
    "tc=int(input())\n",
    "\n",
    "def bf(n,m,e):\n",
    "    INF = int(1e9)\n",
    "    # dist = [INF]*(n+1)\n",
    "    # dist[start] = 0\n",
    "    dist = [0]*(n+1)\n",
    "    for i in range(n):\n",
    "        for now,next_,cost in e:\n",
    "            if dist[now] !=INF and dist[next_] > dist[now] + cost:\n",
    "                dist[next_] = dist[now] + cost\n",
    "                if i == n-1:\n",
    "                    return True\n",
    "    return False\n",
    "\n",
    "for _ in range(tc):\n",
    "    n,m,w = map(int,input().split())\n",
    "    e = []\n",
    "    for _ in range(m):\n",
    "        a,b,c = map(int,input().split())\n",
    "        e.append((a,b,c))\n",
    "        e.append((b,a,c))\n",
    "    for _ in range(w):\n",
    "        a,b,c = map(int,input().split())\n",
    "        e.append((a,b,-c))\n",
    "    print('YES' if bf(n,m,e) else 'NO')"
   ]
  },
  {
   "cell_type": "code",
   "execution_count": null,
   "id": "dfa0890e",
   "metadata": {},
   "outputs": [],
   "source": []
  }
 ],
 "metadata": {
  "kernelspec": {
   "display_name": "Python 3 (ipykernel)",
   "language": "python",
   "name": "python3"
  },
  "language_info": {
   "codemirror_mode": {
    "name": "ipython",
    "version": 3
   },
   "file_extension": ".py",
   "mimetype": "text/x-python",
   "name": "python",
   "nbconvert_exporter": "python",
   "pygments_lexer": "ipython3",
   "version": "3.8.0"
  },
  "toc": {
   "base_numbering": 1,
   "nav_menu": {},
   "number_sections": true,
   "sideBar": true,
   "skip_h1_title": false,
   "title_cell": "Table of Contents",
   "title_sidebar": "Contents",
   "toc_cell": false,
   "toc_position": {},
   "toc_section_display": true,
   "toc_window_display": false
  }
 },
 "nbformat": 4,
 "nbformat_minor": 5
}
