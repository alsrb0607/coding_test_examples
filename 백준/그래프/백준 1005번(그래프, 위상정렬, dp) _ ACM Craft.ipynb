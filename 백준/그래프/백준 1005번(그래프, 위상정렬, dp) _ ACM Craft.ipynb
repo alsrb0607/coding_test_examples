{
 "cells": [
  {
   "cell_type": "code",
   "execution_count": 27,
   "id": "60de28d2",
   "metadata": {},
   "outputs": [
    {
     "name": "stdout",
     "output_type": "stream",
     "text": [
      "1\n",
      "7 8\n",
      "0 0 0 0 0 0 0\n",
      "1 2\n",
      "1 3\n",
      "2 4\n",
      "3 4\n",
      "4 5\n",
      "4 6\n",
      "5 7\n",
      "6 7\n",
      "7\n"
     ]
    }
   ],
   "source": [
    "from collections import deque\n",
    "\n",
    "def const(n,k,g,d,w,ans,pre):\n",
    "    q = deque([])\n",
    "    for i,x in enumerate(pre):\n",
    "        if x==0:\n",
    "            q.append(i)\n",
    "            ans[i] = d[i]\n",
    "    while q:\n",
    "        now = q.popleft()\n",
    "        if now ==w:\n",
    "            return ans[w]\n",
    "        for x in g[now]:\n",
    "            pre[x] -= 1\n",
    "            if pre[x]==0:\n",
    "                q.append(x)\n",
    "            ans[x] = max(ans[x],ans[now]+d[x])\n",
    "    return ans\n",
    "\n",
    "t = int(input())\n",
    "for _ in range(t):\n",
    "    n,k = map(int, input().split())\n",
    "    g = [[] for _ in range(n+1)]\n",
    "    d = [0] + list(map(int, input().split()))\n",
    "    pre = [None] + [0]*n\n",
    "    ans = [0]*(n+1)\n",
    "    for _ in range(k):\n",
    "        a,b = map(int, input().split())\n",
    "        g[a].append(b)\n",
    "        pre[b] += 1\n",
    "    w = int(input())\n",
    "    print(const(n,k,g,d,w,ans,pre))"
   ]
  },
  {
   "cell_type": "code",
   "execution_count": 28,
   "id": "e7fa48d2",
   "metadata": {},
   "outputs": [
    {
     "data": {
      "text/plain": [
       "0"
      ]
     },
     "execution_count": 28,
     "metadata": {},
     "output_type": "execute_result"
    }
   ],
   "source": [
    "const(n,k,g.copy(),d.copy(),w,ans.copy(),pre.copy())"
   ]
  },
  {
   "cell_type": "code",
   "execution_count": null,
   "id": "24e1f219",
   "metadata": {},
   "outputs": [],
   "source": []
  }
 ],
 "metadata": {
  "kernelspec": {
   "display_name": "Python 3 (ipykernel)",
   "language": "python",
   "name": "python3"
  },
  "language_info": {
   "codemirror_mode": {
    "name": "ipython",
    "version": 3
   },
   "file_extension": ".py",
   "mimetype": "text/x-python",
   "name": "python",
   "nbconvert_exporter": "python",
   "pygments_lexer": "ipython3",
   "version": "3.8.0"
  },
  "toc": {
   "base_numbering": 1,
   "nav_menu": {},
   "number_sections": true,
   "sideBar": true,
   "skip_h1_title": false,
   "title_cell": "Table of Contents",
   "title_sidebar": "Contents",
   "toc_cell": false,
   "toc_position": {},
   "toc_section_display": true,
   "toc_window_display": false
  }
 },
 "nbformat": 4,
 "nbformat_minor": 5
}
