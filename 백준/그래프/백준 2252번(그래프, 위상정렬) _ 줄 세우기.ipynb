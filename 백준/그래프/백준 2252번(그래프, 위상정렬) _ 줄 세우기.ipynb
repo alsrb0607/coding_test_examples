{
 "cells": [
  {
   "cell_type": "code",
   "execution_count": 3,
   "id": "d895715e",
   "metadata": {},
   "outputs": [
    {
     "name": "stdout",
     "output_type": "stream",
     "text": [
      "5 2\n",
      "4 2\n",
      "3 1\n",
      "[3]\n",
      "[3, 4]\n",
      "[3, 4, 5]\n",
      "[3, 4, 5, 1]\n",
      "[3, 4, 5, 1, 2]\n",
      "3 4 5 1 2\n"
     ]
    }
   ],
   "source": [
    "from collections import deque\n",
    "\n",
    "def const(g,ans,pre,visit):\n",
    "    q = deque([])\n",
    "    for i,x in enumerate(pre):\n",
    "        if x==0:\n",
    "            q.append(i)\n",
    "    while q:\n",
    "        now = q.popleft()\n",
    "        ans.append(now)\n",
    "        visit[now] = 1\n",
    "        for x in g[now]:\n",
    "            pre[x] -= 1\n",
    "            if pre[x]==0:\n",
    "                q.append(x)\n",
    "    return ans\n",
    "\n",
    "n,m = map(int,input().split())\n",
    "g = [[] for _ in range(n+1)]\n",
    "pre = [None] + [0]*n\n",
    "ans = []\n",
    "visit = [0]*(n+1)\n",
    "for _ in range(m):\n",
    "    a,b = map(int, input().split())\n",
    "    g[a].append(b)\n",
    "    pre[b] += 1\n",
    "\n",
    "const(g,ans,pre,visit)\n",
    "for i,x in enumerate(visit[1:]):\n",
    "    if x==0:\n",
    "        ans.append(i+1)\n",
    "print(*ans)"
   ]
  },
  {
   "cell_type": "code",
   "execution_count": null,
   "id": "4516b91c",
   "metadata": {},
   "outputs": [],
   "source": []
  }
 ],
 "metadata": {
  "kernelspec": {
   "display_name": "Python 3 (ipykernel)",
   "language": "python",
   "name": "python3"
  },
  "language_info": {
   "codemirror_mode": {
    "name": "ipython",
    "version": 3
   },
   "file_extension": ".py",
   "mimetype": "text/x-python",
   "name": "python",
   "nbconvert_exporter": "python",
   "pygments_lexer": "ipython3",
   "version": "3.8.0"
  },
  "toc": {
   "base_numbering": 1,
   "nav_menu": {},
   "number_sections": true,
   "sideBar": true,
   "skip_h1_title": false,
   "title_cell": "Table of Contents",
   "title_sidebar": "Contents",
   "toc_cell": false,
   "toc_position": {},
   "toc_section_display": true,
   "toc_window_display": false
  }
 },
 "nbformat": 4,
 "nbformat_minor": 5
}
