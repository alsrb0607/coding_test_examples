{
 "cells": [
  {
   "cell_type": "code",
   "execution_count": 106,
   "id": "bec02647",
   "metadata": {},
   "outputs": [
    {
     "name": "stdout",
     "output_type": "stream",
     "text": [
      "6 4\n",
      "0100\n",
      "1110\n",
      "1000\n",
      "0000\n",
      "0111\n",
      "0000\n"
     ]
    }
   ],
   "source": [
    "n,m = map(int, input().split())\n",
    "maps = [list(map(int, list(input()))) for _ in range(n)]\n",
    "\n",
    "from collections import deque\n",
    "def bfs(n,m,maps):\n",
    "    cnt = 1\n",
    "    dx = (1,-1,0,0)\n",
    "    dy = (0,0,1,-1)\n",
    "    q = deque([(0,0,False)])\n",
    "    visit = [[[0]*m for _ in range(n)] for _ in range(2)]\n",
    "    visit[0][0][0] = visit[1][0][0] =1\n",
    "    while q:\n",
    "        tmp = deque([]); cnt+=1\n",
    "        for x,y,breaks in q:\n",
    "            if x==n-1 and y==m-1:\n",
    "                return cnt-1\n",
    "            for i in range(4):\n",
    "                k = int(breaks)\n",
    "                if 0<= x + dx[i] < n and 0 <= y + dy[i] < m:\n",
    "                    if maps[x + dx[i]][y + dy[i]]==0 and not visit[k][x + dx[i]][y + dy[i]]:\n",
    "                        visit[k][x + dx[i]][y + dy[i]] = cnt\n",
    "                        tmp.append((x + dx[i], y + dy[i],breaks))\n",
    "                    elif maps[x + dx[i]][y + dy[i]]==1 and not visit[k][x + dx[i]][y + dy[i]] and breaks == False:\n",
    "                        k = 1\n",
    "                        visit[k][x + dx[i]][y + dy[i]] = cnt\n",
    "                        tmp.append((x + dx[i], y + dy[i],True))\n",
    "        q = tmp\n",
    "    return -1\n",
    "\n",
    "print(bfs(n,m,maps))"
   ]
  },
  {
   "cell_type": "code",
   "execution_count": null,
   "id": "ee9bae69",
   "metadata": {},
   "outputs": [],
   "source": []
  }
 ],
 "metadata": {
  "kernelspec": {
   "display_name": "Python 3 (ipykernel)",
   "language": "python",
   "name": "python3"
  },
  "language_info": {
   "codemirror_mode": {
    "name": "ipython",
    "version": 3
   },
   "file_extension": ".py",
   "mimetype": "text/x-python",
   "name": "python",
   "nbconvert_exporter": "python",
   "pygments_lexer": "ipython3",
   "version": "3.8.0"
  },
  "toc": {
   "base_numbering": 1,
   "nav_menu": {},
   "number_sections": true,
   "sideBar": true,
   "skip_h1_title": false,
   "title_cell": "Table of Contents",
   "title_sidebar": "Contents",
   "toc_cell": false,
   "toc_position": {},
   "toc_section_display": true,
   "toc_window_display": false
  }
 },
 "nbformat": 4,
 "nbformat_minor": 5
}
