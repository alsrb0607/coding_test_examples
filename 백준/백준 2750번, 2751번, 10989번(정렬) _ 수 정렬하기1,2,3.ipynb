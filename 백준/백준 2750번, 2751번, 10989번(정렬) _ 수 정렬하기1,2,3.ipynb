{
 "cells": [
  {
   "cell_type": "code",
   "execution_count": null,
   "id": "ee13b4d1",
   "metadata": {},
   "outputs": [],
   "source": [
    "# 1, 2만 통과 가능\n",
    "import sys\n",
    "s = list(map(int, sys.stdin.readlines()[1:]))\n",
    "s.sort()\n",
    "for n in s:\n",
    "    print(n)"
   ]
  },
  {
   "cell_type": "code",
   "execution_count": 7,
   "id": "a35e3e4a",
   "metadata": {},
   "outputs": [
    {
     "name": "stdout",
     "output_type": "stream",
     "text": [
      "4\n",
      "1\n",
      "2\n",
      "2\n",
      "3\n",
      "1\n",
      "2\n",
      "2\n",
      "3\n"
     ]
    }
   ],
   "source": [
    "# 시간초과\n",
    "n = int(input())\n",
    "d = dict()\n",
    "for _ in range(n):\n",
    "    a = int(input())\n",
    "    d[a] = d.get(a, 0) + 1\n",
    "for x in sorted(d):\n",
    "    for _ in range(d[x]):\n",
    "        print(x)"
   ]
  },
  {
   "cell_type": "code",
   "execution_count": 6,
   "id": "ca876bfc",
   "metadata": {},
   "outputs": [
    {
     "data": {
      "text/plain": [
       "[1, 2, 3]"
      ]
     },
     "execution_count": 6,
     "metadata": {},
     "output_type": "execute_result"
    }
   ],
   "source": [
    "import sys\n",
    "n = int(input())\n",
    "d = dict()\n",
    "for _ in range(n):\n",
    "    a = int(sys.stdin.readline())\n",
    "    d[a] = d.get(a, 0) + 1\n",
    "for x in sorted(d):\n",
    "    for _ in range(d[x]):\n",
    "        print(x)"
   ]
  },
  {
   "cell_type": "code",
   "execution_count": null,
   "id": "04d50d93",
   "metadata": {},
   "outputs": [],
   "source": []
  }
 ],
 "metadata": {
  "kernelspec": {
   "display_name": "Python 3",
   "language": "python",
   "name": "python3"
  },
  "language_info": {
   "codemirror_mode": {
    "name": "ipython",
    "version": 3
   },
   "file_extension": ".py",
   "mimetype": "text/x-python",
   "name": "python",
   "nbconvert_exporter": "python",
   "pygments_lexer": "ipython3",
   "version": "3.8.8"
  },
  "toc": {
   "base_numbering": 1,
   "nav_menu": {},
   "number_sections": true,
   "sideBar": true,
   "skip_h1_title": false,
   "title_cell": "Table of Contents",
   "title_sidebar": "Contents",
   "toc_cell": false,
   "toc_position": {},
   "toc_section_display": true,
   "toc_window_display": false
  }
 },
 "nbformat": 4,
 "nbformat_minor": 5
}
