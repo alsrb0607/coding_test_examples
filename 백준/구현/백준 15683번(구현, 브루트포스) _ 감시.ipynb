{
 "cells": [
  {
   "cell_type": "code",
   "execution_count": 218,
   "id": "d903be18",
   "metadata": {},
   "outputs": [
    {
     "name": "stdout",
     "output_type": "stream",
     "text": [
      "3 7\n",
      "4 0 0 0 0 0 0\n",
      "0 0 0 2 0 0 0\n",
      "0 0 0 0 0 0 4\n"
     ]
    }
   ],
   "source": [
    "from itertools import product as p\n",
    "n,m= map(int,input().split())\n",
    "g = [list(map(int,input().split())) for _ in range(n)]\n",
    "\n",
    "def cctv(cctvs,n,m,directions,g):\n",
    "    dx = (-1,0,1,0); dy= (0,1,0,-1)\n",
    "    d = {1:[[0],[1],[2],[3]],2:[[1,3],[0,2]],3:[[0,1],[1,2],[2,3],[3,0]],4:[[0,1,3],[0,1,2],[1,2,3],[0,2,3]],\n",
    "        5:[[0,1,2,3]]}\n",
    "    cnt= set()\n",
    "    tmp = []\n",
    "    for (i,j,num), direcs in zip(cctvs,directions):\n",
    "        x,y = i,j\n",
    "        if 1<=num<=5:\n",
    "            direc = d[num][direcs]\n",
    "            for k in direc:\n",
    "                i,j = x,y\n",
    "                while True:\n",
    "                    if not (0<=i+dx[k]<n and 0<=j+dy[k]<m): break\n",
    "                    else:\n",
    "                        i += dx[k]; j += dy[k]\n",
    "                        if g[i][j]==6: break\n",
    "                        elif g[i][j]==0:\n",
    "                            cnt.add((i,j))\n",
    "    return len(cnt)  \n",
    "                \n",
    "cctvs = []\n",
    "cnt2 = 0\n",
    "directions = []\n",
    "for i in range(n):\n",
    "    for j in range(m):\n",
    "        if 1<=(t:=g[i][j])<=5:\n",
    "            cnt2+=1\n",
    "            cctvs.append((i,j,t))\n",
    "            if t == 2:\n",
    "                directions.append([0,1])\n",
    "            elif t==5:\n",
    "                directions.append([0])\n",
    "            else:\n",
    "                directions.append([0,1,2,3])\n",
    "        elif t ==6:\n",
    "            cnt2+=1\n",
    "directions = list(p(*directions))           "
   ]
  },
  {
   "cell_type": "code",
   "execution_count": 219,
   "id": "245ea57c",
   "metadata": {},
   "outputs": [
    {
     "name": "stdout",
     "output_type": "stream",
     "text": [
      "0\n"
     ]
    }
   ],
   "source": [
    "print(n*m - max([cctv(cctvs,n,m,direction,g) for direction in directions]) - cnt2)"
   ]
  },
  {
   "cell_type": "code",
   "execution_count": null,
   "id": "a3466dd0",
   "metadata": {},
   "outputs": [],
   "source": []
  }
 ],
 "metadata": {
  "kernelspec": {
   "display_name": "Python 3",
   "language": "python",
   "name": "python3"
  },
  "language_info": {
   "codemirror_mode": {
    "name": "ipython",
    "version": 3
   },
   "file_extension": ".py",
   "mimetype": "text/x-python",
   "name": "python",
   "nbconvert_exporter": "python",
   "pygments_lexer": "ipython3",
   "version": "3.8.8"
  },
  "toc": {
   "base_numbering": 1,
   "nav_menu": {},
   "number_sections": true,
   "sideBar": true,
   "skip_h1_title": false,
   "title_cell": "Table of Contents",
   "title_sidebar": "Contents",
   "toc_cell": false,
   "toc_position": {},
   "toc_section_display": true,
   "toc_window_display": false
  }
 },
 "nbformat": 4,
 "nbformat_minor": 5
}
