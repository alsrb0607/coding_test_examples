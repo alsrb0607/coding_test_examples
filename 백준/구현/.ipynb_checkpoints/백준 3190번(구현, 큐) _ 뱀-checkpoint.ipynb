{
 "cells": [
  {
   "cell_type": "code",
   "execution_count": 47,
   "id": "702e09f0",
   "metadata": {},
   "outputs": [
    {
     "name": "stdout",
     "output_type": "stream",
     "text": [
      "10\n",
      "4\n",
      "1 2\n",
      "1 3\n",
      "1 4\n",
      "1 5\n",
      "4\n",
      "8 D\n",
      "10 D\n",
      "11 D\n",
      "13 L\n",
      "21\n"
     ]
    }
   ],
   "source": [
    "n=int(input())\n",
    "k=int(input())\n",
    "apple = [];turn=[];snake=[(0,0)]\n",
    "direction = 0\n",
    "for _ in range(k):\n",
    "    i,j = map(int,input().split())\n",
    "    apple.append((i-1,j-1))\n",
    "l=int(input())\n",
    "for _ in range(l):\n",
    "    x,d = input().split()\n",
    "    turn.append((int(x),d))\n",
    "def move(snake,apple,turn,n,direction):\n",
    "    head = [(0,1),(1,0),(0,-1),(-1,0)]; now = 0\n",
    "    while True:\n",
    "        i,j = head[direction]\n",
    "        x,y = snake[-1]\n",
    "        now +=1\n",
    "        if (x+i)<0 or (x+i)>=n: return now\n",
    "        elif (y+j)<0 or (y+j)>=n: return now\n",
    "        elif (t:=(x+i,y+j)) in snake: return now\n",
    "        else:\n",
    "            snake.append(t)\n",
    "            if t not in apple:\n",
    "                snake.pop(0)\n",
    "            elif t in apple:\n",
    "                apple.remove(t)\n",
    "        if turn:\n",
    "            if turn[0][0]==now:\n",
    "                direction+= 1 if turn[0][1]=='D' else -1\n",
    "                direction%=4\n",
    "                turn.pop(0)\n",
    "print(move(snake,apple,turn,n,direction))"
   ]
  },
  {
   "cell_type": "code",
   "execution_count": null,
   "id": "af70db18",
   "metadata": {},
   "outputs": [],
   "source": []
  }
 ],
 "metadata": {
  "kernelspec": {
   "display_name": "Python 3",
   "language": "python",
   "name": "python3"
  },
  "language_info": {
   "codemirror_mode": {
    "name": "ipython",
    "version": 3
   },
   "file_extension": ".py",
   "mimetype": "text/x-python",
   "name": "python",
   "nbconvert_exporter": "python",
   "pygments_lexer": "ipython3",
   "version": "3.8.8"
  },
  "toc": {
   "base_numbering": 1,
   "nav_menu": {},
   "number_sections": true,
   "sideBar": true,
   "skip_h1_title": false,
   "title_cell": "Table of Contents",
   "title_sidebar": "Contents",
   "toc_cell": false,
   "toc_position": {},
   "toc_section_display": true,
   "toc_window_display": false
  }
 },
 "nbformat": 4,
 "nbformat_minor": 5
}
