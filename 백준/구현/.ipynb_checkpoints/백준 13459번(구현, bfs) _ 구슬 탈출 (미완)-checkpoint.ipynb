{
 "cells": [
  {
   "cell_type": "code",
   "execution_count": 341,
   "id": "90fe09f8",
   "metadata": {},
   "outputs": [
    {
     "name": "stdout",
     "output_type": "stream",
     "text": [
      "3 7\n",
      "#######\n",
      "#R.O.B#\n",
      "#######\n"
     ]
    }
   ],
   "source": [
    "n,m=map(int,input().split())\n",
    "maps = [list(input()) for _ in range(n)]\n",
    "for i in range(n):\n",
    "    for j in range(m):\n",
    "        if maps[i][j]=='R':\n",
    "            red = (i,j)\n",
    "        elif maps[i][j]=='B':\n",
    "            blue = (i,j)"
   ]
  },
  {
   "cell_type": "code",
   "execution_count": 342,
   "id": "9f5e6e5a",
   "metadata": {},
   "outputs": [
    {
     "name": "stdout",
     "output_type": "stream",
     "text": [
      "1\n"
     ]
    }
   ],
   "source": [
    "visit = [[[[0]*m for _ in range(n)] for _ in range(m)] for _ in range(n)]; result=[0,0]\n",
    "def move(_x, _y, _dx, _dy, _c):\n",
    "    while maps[_x+_dx][_y+_dy] != '#' and maps[_x][_y] != 'O':\n",
    "        _x += _dx\n",
    "        _y += _dy\n",
    "        _c += 1\n",
    "    return _x, _y, _c\n",
    "def bfs(red,blue,n,m,g,turn):\n",
    "    moves = [(-1,0),(1,0),(0,-1),(0,1)];\n",
    "    a,b=red; c,d=blue\n",
    "    visit[a][b][c][d]=1\n",
    "    q=[(a,b,c,d,turn)]\n",
    "    while q:\n",
    "        if turn ==10: break\n",
    "#         print(q)\n",
    "        rx,ry,bx,by,turn = q.pop(0)\n",
    "        for i,j in moves:\n",
    "            nrx, nry, rc = move(rx, ry, i,j, 0)\n",
    "            nbx, nby, bc = move(bx, by, i,j, 0)\n",
    "            if g[nbx][nby] == 'O':\n",
    "                continue\n",
    "            if g[nrx][nry] == 'O':\n",
    "                print(1)\n",
    "                return\n",
    "                if nrx == nbx and nry == nby:\n",
    "                    if rc > bc:\n",
    "                        nrx, nry = nrx-i, nry-j\n",
    "                    else:\n",
    "                        nbx, nby = nbx-i, nby-j\n",
    "            if not visit[nrx][nry][nbx][nby]:\n",
    "                visit[nrx][nry][nbx][nby] = True\n",
    "                q.append((nrx, nry, nbx, nby, turn+1))\n",
    "    print(0)\n",
    "bfs(red,blue,n,m,maps,0)"
   ]
  },
  {
   "cell_type": "code",
   "execution_count": 319,
   "id": "306a48f4",
   "metadata": {},
   "outputs": [
    {
     "data": {
      "text/plain": [
       "[1, 1]"
      ]
     },
     "execution_count": 319,
     "metadata": {},
     "output_type": "execute_result"
    }
   ],
   "source": [
    "result"
   ]
  },
  {
   "cell_type": "code",
   "execution_count": 305,
   "id": "e3d83a8b",
   "metadata": {},
   "outputs": [
    {
     "data": {
      "text/plain": [
       "True"
      ]
     },
     "execution_count": 305,
     "metadata": {},
     "output_type": "execute_result"
    }
   ],
   "source": [
    "a = [1, 2, 1, 2]\n",
    "a[:2]==a[2:4]"
   ]
  },
  {
   "cell_type": "code",
   "execution_count": 333,
   "id": "2e5e83ef",
   "metadata": {},
   "outputs": [
    {
     "name": "stdout",
     "output_type": "stream",
     "text": [
      "3 10\n",
      "##########\n",
      "#.O....RB#\n",
      "##########\n",
      "0\n"
     ]
    }
   ],
   "source": [
    "n, m = map(int, input().split())\n",
    "a = [list(input().strip()) for _ in range(n)]\n",
    "visit = [[[[False]*m for _ in range(n)] for _ in range(m)] for _ in range(n)]\n",
    "dx, dy = (-1, 0, 1, 0), (0, 1, 0, -1)\n",
    "q = []\n",
    "_rx, _ry, _bx, _by = [0]*4\n",
    "for i in range(n):\n",
    "    for j in range(m):\n",
    "        if a[i][j] == 'R':\n",
    "            _rx, _ry = i, j\n",
    "        elif a[i][j] == 'B':\n",
    "            _bx, _by = i, j\n",
    "q.append((_rx, _ry, _bx, _by, 0))\n",
    "visit[_rx][_ry][_bx][_by] = True\n",
    "\n",
    "def move(_x, _y, _dx, _dy, _c):\n",
    "    while a[_x+_dx][_y+_dy] != '#' and a[_x][_y] != 'O':\n",
    "        _x += _dx\n",
    "        _y += _dy\n",
    "        _c += 1\n",
    "    return _x, _y, _c\n",
    "\n",
    "def bfs():\n",
    "    while q:\n",
    "        rx, ry, bx, by, d = q.pop(0)\n",
    "        if d >= 10:\n",
    "            break\n",
    "        for i in range(4):\n",
    "            nrx, nry, rc = move(rx, ry, dx[i], dy[i], 0)\n",
    "            nbx, nby, bc = move(bx, by, dx[i], dy[i], 0)\n",
    "            if a[nbx][nby] == 'O':\n",
    "                continue\n",
    "            if a[nrx][nry] == 'O':\n",
    "                print(1)\n",
    "                return\n",
    "            if nrx == nbx and nry == nby:\n",
    "                if rc > bc:\n",
    "                    nrx, nry = nrx-dx[i], nry-dy[i]\n",
    "                else:\n",
    "                    nbx, nby = nbx-dx[i], nby-dy[i]\n",
    "            if not visit[nrx][nry][nbx][nby]:\n",
    "                visit[nrx][nry][nbx][nby] = True\n",
    "                q.append((nrx, nry, nbx, nby, d+1))\n",
    "    print(0)\n",
    "\n",
    "bfs()\n"
   ]
  },
  {
   "cell_type": "code",
   "execution_count": null,
   "id": "17bc27fe",
   "metadata": {},
   "outputs": [],
   "source": []
  }
 ],
 "metadata": {
  "kernelspec": {
   "display_name": "Python 3",
   "language": "python",
   "name": "python3"
  },
  "language_info": {
   "codemirror_mode": {
    "name": "ipython",
    "version": 3
   },
   "file_extension": ".py",
   "mimetype": "text/x-python",
   "name": "python",
   "nbconvert_exporter": "python",
   "pygments_lexer": "ipython3",
   "version": "3.8.8"
  },
  "toc": {
   "base_numbering": 1,
   "nav_menu": {},
   "number_sections": true,
   "sideBar": true,
   "skip_h1_title": false,
   "title_cell": "Table of Contents",
   "title_sidebar": "Contents",
   "toc_cell": false,
   "toc_position": {},
   "toc_section_display": true,
   "toc_window_display": false
  }
 },
 "nbformat": 4,
 "nbformat_minor": 5
}
