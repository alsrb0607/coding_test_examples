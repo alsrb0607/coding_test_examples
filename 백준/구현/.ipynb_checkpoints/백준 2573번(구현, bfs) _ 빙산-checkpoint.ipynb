{
 "cells": [
  {
   "cell_type": "code",
   "execution_count": 112,
   "id": "cd27a81b",
   "metadata": {},
   "outputs": [
    {
     "name": "stdout",
     "output_type": "stream",
     "text": [
      "5 7\n",
      "0 0 0 0 0 0 0\n",
      "0 2 4 5 3 0 0\n",
      "0 3 0 2 5 2 0\n",
      "0 7 6 2 4 0 0\n",
      "0 0 0 0 0 0 0\n"
     ]
    }
   ],
   "source": [
    "import copy\n",
    "\n",
    "n,m = map(int, input().split())\n",
    "g = [list(map(int, input().split())) for _ in range(n)]"
   ]
  },
  {
   "cell_type": "code",
   "execution_count": 113,
   "id": "2a1313d3",
   "metadata": {},
   "outputs": [
    {
     "name": "stdout",
     "output_type": "stream",
     "text": [
      "2\n"
     ]
    }
   ],
   "source": [
    "dx = (0,0,1,-1); dy = (-1,1,0,0)\n",
    "def melt(g,i,j,n,m):\n",
    "    cnt = 0\n",
    "    if not g[i][j]: return 0\n",
    "    for t in range(4):\n",
    "        if 0<=i+dx[t]<n and 0<=j+dy[t]<m:\n",
    "            if g[i+dx[t]][j+dy[t]]==0:\n",
    "                cnt+=1\n",
    "    return max(g[i][j]-cnt,0)\n",
    "\n",
    "def bfs(g,i,j,visit,n,m):\n",
    "    if not visit[i][j]:\n",
    "        q = [(i,j)]\n",
    "        visit[i][j]=1\n",
    "    else: return -1\n",
    "    while q:\n",
    "        i,j = q.pop(0)\n",
    "        for t in range(4):\n",
    "            if 0<=i+dx[t]<n and 0<=j+dy[t]<m:\n",
    "                if not visit[i+dx[t]][j+dy[t]] and g[i+dx[t]][j+dy[t]]:\n",
    "                    visit[i+dx[t]][j+dy[t]]=1\n",
    "                    q.append((i+dx[t],j+dy[t]))\n",
    "\n",
    "y = 0\n",
    "\n",
    "while True:\n",
    "    y +=1; visit=[[0]*m for _ in range(n)]; tmp = [];\n",
    "    gg = copy.deepcopy(g)\n",
    "    bing = []\n",
    "    for i in range(n):\n",
    "        for j in range(m):\n",
    "            gg[i][j]= melt(g,i,j,n,m)\n",
    "            if gg[i][j]:\n",
    "                bing.append((i,j))\n",
    "    g = gg\n",
    "    cnt = 0\n",
    "    for i,j in bing:    \n",
    "        if bfs(g,i,j,visit,n,m)!= -1:\n",
    "            cnt +=1\n",
    "    if cnt==0: \n",
    "        y= 0; break\n",
    "    if cnt>1: break\n",
    "print(y)"
   ]
  },
  {
   "cell_type": "code",
   "execution_count": null,
   "id": "59fec54d",
   "metadata": {},
   "outputs": [],
   "source": []
  }
 ],
 "metadata": {
  "kernelspec": {
   "display_name": "Python 3",
   "language": "python",
   "name": "python3"
  },
  "language_info": {
   "codemirror_mode": {
    "name": "ipython",
    "version": 3
   },
   "file_extension": ".py",
   "mimetype": "text/x-python",
   "name": "python",
   "nbconvert_exporter": "python",
   "pygments_lexer": "ipython3",
   "version": "3.8.8"
  },
  "toc": {
   "base_numbering": 1,
   "nav_menu": {},
   "number_sections": true,
   "sideBar": true,
   "skip_h1_title": false,
   "title_cell": "Table of Contents",
   "title_sidebar": "Contents",
   "toc_cell": false,
   "toc_position": {},
   "toc_section_display": true,
   "toc_window_display": false
  }
 },
 "nbformat": 4,
 "nbformat_minor": 5
}
