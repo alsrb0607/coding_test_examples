{
 "cells": [
  {
   "cell_type": "code",
   "execution_count": 59,
   "id": "4d709931",
   "metadata": {},
   "outputs": [
    {
     "name": "stdout",
     "output_type": "stream",
     "text": [
      "4 10 50\n",
      "10 100 20 90\n",
      "80 100 60 70\n",
      "70 20 30 40\n",
      "50 20 100 10\n"
     ]
    }
   ],
   "source": [
    "n,l,r = map(int,input().split())\n",
    "g=[list(map(int,input().split())) for _ in range(n)]"
   ]
  },
  {
   "cell_type": "code",
   "execution_count": 60,
   "id": "8b67570a",
   "metadata": {},
   "outputs": [
    {
     "data": {
      "text/plain": [
       "([[48, 48, 54, 54], [54, 54, 54, 50], [54, 54, 54, 54], [54, 54, 62, 54]], 3)"
      ]
     },
     "execution_count": 60,
     "metadata": {},
     "output_type": "execute_result"
    }
   ],
   "source": [
    "def bfs(g,n,l,r,start):\n",
    "    a,b= start\n",
    "    if visit[a][b]: return False\n",
    "    else: visit[a][b]=1\n",
    "    near = [start]\n",
    "    dx = (1,-1,0,0); dy = (0,0,1,-1)\n",
    "    tmp = [start]; p = g[a][b]\n",
    "    while near:\n",
    "        a,b = near.pop(0)\n",
    "        for i in range(4):\n",
    "            if 0<=(nx:=a+dx[i])<n and 0<=(ny:=b+dy[i])<n:\n",
    "                if l<=abs(g[a][b]-g[nx][ny])<=r and not visit[nx][ny]:\n",
    "                    visit[nx][ny]=1; near.append((nx,ny));tmp.append((nx,ny))\n",
    "                    p+=g[nx][ny]\n",
    "    if len(tmp)<=1: return False\n",
    "    else:\n",
    "        return tmp, p//len(tmp)\n",
    "    \n",
    "check=[0,0]\n",
    "while True:\n",
    "    visit = [[0]*n for _ in range(n)]\n",
    "    for i in range(n):\n",
    "        for j in range(n):\n",
    "            if (t:=bfs(g,n,l,r,(i,j))):\n",
    "                tmp,p = t\n",
    "                for a,b in tmp:\n",
    "                    g[a][b]=p\n",
    "                check[1]+=1\n",
    "    if not check[1]: break\n",
    "    else:\n",
    "        check[0]+=1;check[1]=0\n",
    "print(check[0])"
   ]
  },
  {
   "cell_type": "code",
   "execution_count": null,
   "id": "e795ff9d",
   "metadata": {},
   "outputs": [],
   "source": []
  }
 ],
 "metadata": {
  "kernelspec": {
   "display_name": "Python 3",
   "language": "python",
   "name": "python3"
  },
  "language_info": {
   "codemirror_mode": {
    "name": "ipython",
    "version": 3
   },
   "file_extension": ".py",
   "mimetype": "text/x-python",
   "name": "python",
   "nbconvert_exporter": "python",
   "pygments_lexer": "ipython3",
   "version": "3.8.8"
  },
  "toc": {
   "base_numbering": 1,
   "nav_menu": {},
   "number_sections": true,
   "sideBar": true,
   "skip_h1_title": false,
   "title_cell": "Table of Contents",
   "title_sidebar": "Contents",
   "toc_cell": false,
   "toc_position": {},
   "toc_section_display": true,
   "toc_window_display": false
  }
 },
 "nbformat": 4,
 "nbformat_minor": 5
}
