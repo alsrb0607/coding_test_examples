{
 "cells": [
  {
   "cell_type": "code",
   "execution_count": null,
   "id": "e72c0beb",
   "metadata": {},
   "outputs": [],
   "source": [
    "n,m=map(int,input().split())\n",
    "g = [list(map(int,input().split())) for _ in range(n)]\n",
    "\n",
    "def f(x,g):\n",
    "    i,j = x\n",
    "    move = {'r':(0,1),'l':(0,-1),'u':(-1,0),'d':(1,0),'rr':(0,2),'rrr':(0,3),'dd':(2,0),'ddd':(3,0),\n",
    "           'rd':(1,1),'rdd':(2,1),'ld':(1,-1),'lld':(1,-2),'ru':(-1,1),'ruu':(-2,1),'lu':(-1,-1),'luu':(-2,-1),\n",
    "           'rru':(-1,2),'rrd':(1,2),'ldd':(2,-1)}\n",
    "    tmp = [['r','rr','rrr'],['d','dd','ddd'],['r','d','rd'],['d','r','rr'],['r','rd','rdd'],['d','dd','rdd'],['d','ld','lld'],\n",
    "          ['d','rd','rrd'],['r','ru','ruu'],['r','rr','rrd'],['r','d','dd'],['d','rd','rdd'],['r','ru','rru'],['d','ld','ldd'],\n",
    "          ['r','rd','rrd'],['r','rr','rd'],['u','r','d'],['d','ld','rd'],['r','ru','rd']]\n",
    "    cc = []\n",
    "    for lst in tmp:\n",
    "        c = []\n",
    "        for x in lst:\n",
    "            a,b = move[x]\n",
    "            try:\n",
    "                c.append(g[i+a][j+b])\n",
    "            except:\n",
    "                c.append(0)\n",
    "        cc.append(sum(c))\n",
    "    return max(cc)+g[i][j]\n",
    "print(max([f((i,j),g) for i in range(n) for j in range(m)]))    "
   ]
  },
  {
   "cell_type": "code",
   "execution_count": null,
   "id": "94904ec9",
   "metadata": {},
   "outputs": [],
   "source": []
  }
 ],
 "metadata": {
  "kernelspec": {
   "display_name": "Python 3",
   "language": "python",
   "name": "python3"
  },
  "language_info": {
   "codemirror_mode": {
    "name": "ipython",
    "version": 3
   },
   "file_extension": ".py",
   "mimetype": "text/x-python",
   "name": "python",
   "nbconvert_exporter": "python",
   "pygments_lexer": "ipython3",
   "version": "3.8.8"
  },
  "toc": {
   "base_numbering": 1,
   "nav_menu": {},
   "number_sections": true,
   "sideBar": true,
   "skip_h1_title": false,
   "title_cell": "Table of Contents",
   "title_sidebar": "Contents",
   "toc_cell": false,
   "toc_position": {},
   "toc_section_display": true,
   "toc_window_display": false
  }
 },
 "nbformat": 4,
 "nbformat_minor": 5
}
