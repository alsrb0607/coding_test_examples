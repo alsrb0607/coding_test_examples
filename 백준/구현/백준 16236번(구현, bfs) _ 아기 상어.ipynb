{
 "cells": [
  {
   "cell_type": "code",
   "execution_count": 74,
   "id": "e9416d4a",
   "metadata": {},
   "outputs": [
    {
     "name": "stdout",
     "output_type": "stream",
     "text": [
      "4\n",
      "4 3 2 1\n",
      "0 0 0 0\n",
      "0 0 9 0\n",
      "1 2 3 4\n",
      "14\n"
     ]
    }
   ],
   "source": [
    "n=int(input())\n",
    "g=[list(map(int,input().split())) for i in range(n)]\n",
    "size = 2; t = 0\n",
    "\n",
    "def bfs(g,start,n,eat):\n",
    "    global size, t\n",
    "    visit=[0]*(n**2)\n",
    "    q=[[start]];\n",
    "    x,y=start; move = [(-1,0),(0,-1),(0,1),(1,0)]\n",
    "    visit[n*x+y]=1\n",
    "    d= 0\n",
    "    while q:\n",
    "        nexts = q.pop(0)\n",
    "#         print(nexts)\n",
    "        d+=1; tmp=[];eats=[]\n",
    "        while nexts:\n",
    "#             print(nexts)\n",
    "            a,b = nexts.pop(0)\n",
    "            for i,j in move:\n",
    "                if 0<=a+i<n and 0<=b+j<n:\n",
    "                    if 0<g[a+i][b+j]<size and not visit[(a+i)*n+b+j]:\n",
    "                        eats.append((a+i,b+j))\n",
    "                    elif (g[a+i][b+j]==0 or g[a+i][b+j]==size) and not visit[(a+i)*n+b+j]:\n",
    "                        tmp.append((a+i,b+j))\n",
    "                        visit[(a+i)*n+b+j]=1\n",
    "        if eats:\n",
    "            eats.sort()\n",
    "            p,q = eats[0]\n",
    "            eat+=1; t+=d; g[p][q]=0; g[x][y]=0\n",
    "            if eat==size: \n",
    "                size+=1;eat=0;\n",
    "#             print(eat, eats[0],size,t)\n",
    "            return bfs(g,eats[0],n,eat)\n",
    "        elif tmp:\n",
    "            q.append(tmp)\n",
    "        else: return\n",
    "for i in range(n):\n",
    "    for j in range(n):\n",
    "        if g[i][j]==9:\n",
    "            bfs(g,(i,j),n,0)\n",
    "            break\n",
    "print(t)"
   ]
  },
  {
   "cell_type": "code",
   "execution_count": 73,
   "id": "8dce98dd",
   "metadata": {},
   "outputs": [
    {
     "data": {
      "text/plain": [
       "39"
      ]
     },
     "execution_count": 73,
     "metadata": {},
     "output_type": "execute_result"
    }
   ],
   "source": [
    "t"
   ]
  },
  {
   "cell_type": "code",
   "execution_count": 77,
   "id": "79b65e28",
   "metadata": {},
   "outputs": [
    {
     "name": "stdout",
     "output_type": "stream",
     "text": [
      "4\n",
      "4 3 2 1\n",
      "0 0 0 0\n",
      "0 0 9 0\n",
      "1 2 3 4\n",
      "14\n"
     ]
    }
   ],
   "source": [
    "n=int(input())\n",
    "g=[list(map(int,input().split())) for i in range(n)]\n",
    "size = 2; t = 0\n",
    "\n",
    "def bfs(g,start,n,eat):\n",
    "    global size, t\n",
    "    visit=[0]*(n**2)\n",
    "    q=[start];\n",
    "    x,y=start; move = [(-1,0),(0,-1),(0,1),(1,0)]\n",
    "    visit[n*x+y]=1\n",
    "    d= 0\n",
    "    while q:\n",
    "        d+=1; tmp=[];eats=[]\n",
    "        for a,b in q:\n",
    "            for i,j in move:\n",
    "                if 0<=a+i<n and 0<=b+j<n:\n",
    "                    if 0<g[a+i][b+j]<size and not visit[(a+i)*n+b+j]:\n",
    "                        eats.append((a+i,b+j))\n",
    "                    elif (g[a+i][b+j]==0 or g[a+i][b+j]==size) and not visit[(a+i)*n+b+j]:\n",
    "                        tmp.append((a+i,b+j))\n",
    "                        visit[(a+i)*n+b+j]=1\n",
    "        if eats:\n",
    "            eats.sort()\n",
    "            p,q = eats[0]\n",
    "            eat+=1; t+=d; g[p][q]=0; g[x][y]=0\n",
    "            if eat==size: \n",
    "                size+=1;eat=0;\n",
    "            return bfs(g,eats[0],n,eat)\n",
    "        q = tmp\n",
    "    return\n",
    "for i in range(n):\n",
    "    for j in range(n):\n",
    "        if g[i][j]==9:\n",
    "            bfs(g,(i,j),n,0)\n",
    "            break\n",
    "print(t)"
   ]
  },
  {
   "cell_type": "code",
   "execution_count": null,
   "id": "fc3e5197",
   "metadata": {},
   "outputs": [],
   "source": []
  }
 ],
 "metadata": {
  "kernelspec": {
   "display_name": "Python 3",
   "language": "python",
   "name": "python3"
  },
  "language_info": {
   "codemirror_mode": {
    "name": "ipython",
    "version": 3
   },
   "file_extension": ".py",
   "mimetype": "text/x-python",
   "name": "python",
   "nbconvert_exporter": "python",
   "pygments_lexer": "ipython3",
   "version": "3.8.8"
  },
  "toc": {
   "base_numbering": 1,
   "nav_menu": {},
   "number_sections": true,
   "sideBar": true,
   "skip_h1_title": false,
   "title_cell": "Table of Contents",
   "title_sidebar": "Contents",
   "toc_cell": false,
   "toc_position": {},
   "toc_section_display": true,
   "toc_window_display": false
  }
 },
 "nbformat": 4,
 "nbformat_minor": 5
}
