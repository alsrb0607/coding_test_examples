{
 "cells": [
  {
   "cell_type": "code",
   "execution_count": 4,
   "id": "7cfed7f7",
   "metadata": {},
   "outputs": [
    {
     "data": {
      "text/plain": [
       "3"
      ]
     },
     "execution_count": 4,
     "metadata": {},
     "output_type": "execute_result"
    }
   ],
   "source": [
    "import sys\n",
    "n = int(input())\n",
    "a = sorted(list(map(int, sys.stdin.readlines())))\n"
   ]
  },
  {
   "cell_type": "code",
   "execution_count": 23,
   "id": "942832d2",
   "metadata": {},
   "outputs": [
    {
     "name": "stdout",
     "output_type": "stream",
     "text": [
      "5\n",
      "1\n",
      "3\n",
      "8\n",
      "-2\n",
      "2\n",
      "2\n",
      "2\n",
      "1\n",
      "10\n"
     ]
    }
   ],
   "source": [
    "from collections import Counter\n",
    "n = int(input())\n",
    "a = sorted([int(input()) for _ in range(n)])\n",
    "print(round(sum(a)/(l:=len(a))))\n",
    "print(a[l//2])\n",
    "s = sorted((Counter(a).items()), key = lambda x: (-x[1], x[0]))\n",
    "if (len(s) == 1):\n",
    "    print(s[0][0])\n",
    "elif s[0][1] != s[1][1]:\n",
    "    print(s[0][0])\n",
    "else: print(s[1][0])\n",
    "print(a[-1] - a[0])"
   ]
  },
  {
   "cell_type": "code",
   "execution_count": null,
   "id": "9b910d82",
   "metadata": {},
   "outputs": [],
   "source": [
    "import sys\n",
    "from collections import Counter\n",
    "n = int(input())\n",
    "a = sorted([int(sys.stdin.readline().strip()) for _ in range(n)])\n",
    "print(round(sum(a)/(l:=len(a))))\n",
    "print(a[l//2])\n",
    "s = sorted((Counter(a).items()), key = lambda x: (-x[1], x[0]))\n",
    "if (len(s) == 1):\n",
    "    print(s[0][0])\n",
    "elif s[0][1] != s[1][1]:\n",
    "    print(s[0][0])\n",
    "else: print(s[1][0])\n",
    "print(a[-1] - a[0])"
   ]
  }
 ],
 "metadata": {
  "kernelspec": {
   "display_name": "Python 3",
   "language": "python",
   "name": "python3"
  },
  "language_info": {
   "codemirror_mode": {
    "name": "ipython",
    "version": 3
   },
   "file_extension": ".py",
   "mimetype": "text/x-python",
   "name": "python",
   "nbconvert_exporter": "python",
   "pygments_lexer": "ipython3",
   "version": "3.8.8"
  },
  "toc": {
   "base_numbering": 1,
   "nav_menu": {},
   "number_sections": true,
   "sideBar": true,
   "skip_h1_title": false,
   "title_cell": "Table of Contents",
   "title_sidebar": "Contents",
   "toc_cell": false,
   "toc_position": {},
   "toc_section_display": true,
   "toc_window_display": false
  }
 },
 "nbformat": 4,
 "nbformat_minor": 5
}
