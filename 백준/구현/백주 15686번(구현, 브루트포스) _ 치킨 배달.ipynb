{
 "cells": [
  {
   "cell_type": "code",
   "execution_count": 34,
   "id": "13d872cd",
   "metadata": {},
   "outputs": [
    {
     "name": "stdout",
     "output_type": "stream",
     "text": [
      "5 3\n",
      "0 0 1 0 0 \n",
      "0 0 2 0 1\n",
      "0 1 2 0 0 \n",
      "0 0 1 0 0 \n",
      "0 0 0 0 2\n",
      "5\n"
     ]
    }
   ],
   "source": [
    "from itertools import combinations\n",
    "n,m = map(int,input().split())\n",
    "g = [list(map(int,input().split())) for _ in range(n)]\n",
    "h=[]; c=[]\n",
    "\n",
    "def length(x,y):\n",
    "    a,b = x\n",
    "    i,j = y\n",
    "    return abs(a-i)+abs(b-j)\n",
    "def choose(h,c):\n",
    "    tmp = []\n",
    "    for home in h:\n",
    "        tmp.append(min([length(home,chicken) for chicken in c]))\n",
    "    return sum(tmp)        \n",
    "\n",
    "for i in range(n):\n",
    "    for j in range(n):\n",
    "        if g[i][j]==1:\n",
    "            h.append((i,j))\n",
    "        elif g[i][j]==2:\n",
    "            c.append((i,j))\n",
    "\n",
    "answer = [choose(h,x) for x in combinations(c,m)]\n",
    "print(min(answer))"
   ]
  },
  {
   "cell_type": "code",
   "execution_count": 35,
   "id": "53d2b988",
   "metadata": {},
   "outputs": [
    {
     "data": {
      "text/plain": [
       "[5]"
      ]
     },
     "execution_count": 35,
     "metadata": {},
     "output_type": "execute_result"
    }
   ],
   "source": [
    "answer"
   ]
  },
  {
   "cell_type": "code",
   "execution_count": null,
   "id": "c7a4fd75",
   "metadata": {},
   "outputs": [],
   "source": []
  }
 ],
 "metadata": {
  "kernelspec": {
   "display_name": "Python 3",
   "language": "python",
   "name": "python3"
  },
  "language_info": {
   "codemirror_mode": {
    "name": "ipython",
    "version": 3
   },
   "file_extension": ".py",
   "mimetype": "text/x-python",
   "name": "python",
   "nbconvert_exporter": "python",
   "pygments_lexer": "ipython3",
   "version": "3.8.8"
  },
  "toc": {
   "base_numbering": 1,
   "nav_menu": {},
   "number_sections": true,
   "sideBar": true,
   "skip_h1_title": false,
   "title_cell": "Table of Contents",
   "title_sidebar": "Contents",
   "toc_cell": false,
   "toc_position": {},
   "toc_section_display": true,
   "toc_window_display": false
  }
 },
 "nbformat": 4,
 "nbformat_minor": 5
}
