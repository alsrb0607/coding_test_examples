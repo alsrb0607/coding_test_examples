{
 "cells": [
  {
   "cell_type": "code",
   "execution_count": 106,
   "id": "b31d6465",
   "metadata": {},
   "outputs": [
    {
     "name": "stdout",
     "output_type": "stream",
     "text": [
      "4 4\n",
      "1 1 0\n",
      "1 1 1 1\n",
      "1 0 0 1\n",
      "1 0 0 1\n",
      "1 1 1 1\n"
     ]
    }
   ],
   "source": [
    "n,m = map(int,input().split())\n",
    "r,c,d = map(int,input().split())\n",
    "g= [list(map(int,input().split())) for _ in range(n)]"
   ]
  },
  {
   "cell_type": "code",
   "execution_count": 107,
   "id": "f8029419",
   "metadata": {},
   "outputs": [],
   "source": [
    "cnt=[]\n",
    "def clean(n,m,r,c,d,g):\n",
    "    if g[r][c]==0:\n",
    "        g[r][c] = -1\n",
    "        cnt.append((r,c))\n",
    "    print((r,c),g,d)\n",
    "    # 탐색 방향 지정\n",
    "    direction = [[(0,-1),(1,0),(0,1),(-1,0)],[(-1,0),(0,-1),(1,0),(0,1)],\n",
    "                [(0,1),(-1,0),(0,-1),(1,0)],[(1,0),(0,1),(-1,0),(0,-1)]]\n",
    "    for i,(a,b) in enumerate(direction[d]):\n",
    "        if g[r+a][c+b]==0:\n",
    "            r +=a;c+=b\n",
    "            d= (d+3-i)%4\n",
    "            clean(n,m,r,c,d,g)\n",
    "    x,y = direction[d][1]\n",
    "    if g[r+x][c+y]==1:\n",
    "        print(x,y, '끝')\n",
    "        return\n",
    "    elif g[r+x][c+y]==-1:\n",
    "        print(x,y)\n",
    "        clean(n,m,r+x,c+y,d,g) \n",
    "    \n",
    "        \n",
    "        \n",
    "    \n",
    "    \n"
   ]
  },
  {
   "cell_type": "code",
   "execution_count": 108,
   "id": "176e98e4",
   "metadata": {},
   "outputs": [
    {
     "name": "stdout",
     "output_type": "stream",
     "text": [
      "(1, 1) [[1, 1, 1, 1], [1, -1, 0, 1], [1, 0, 0, 1], [1, 1, 1, 1]] 0\n",
      "(2, 1) [[1, 1, 1, 1], [1, -1, 0, 1], [1, -1, 0, 1], [1, 1, 1, 1]] 2\n",
      "(2, 2) [[1, 1, 1, 1], [1, -1, 0, 1], [1, -1, -1, 1], [1, 1, 1, 1]] 1\n",
      "(1, 2) [[1, 1, 1, 1], [1, -1, -1, 1], [1, -1, -1, 1], [1, 1, 1, 1]] 0\n",
      "1 0\n",
      "(2, 2) [[1, 1, 1, 1], [1, -1, -1, 1], [1, -1, -1, 1], [1, 1, 1, 1]] 0\n",
      "1 0 끝\n",
      "1 0\n",
      "(2, 2) [[1, 1, 1, 1], [1, -1, -1, 1], [1, -1, -1, 1], [1, 1, 1, 1]] 0\n",
      "1 0 끝\n",
      "0 -1\n",
      "(2, 1) [[1, 1, 1, 1], [1, -1, -1, 1], [1, -1, -1, 1], [1, 1, 1, 1]] 1\n",
      "0 -1 끝\n",
      "-1 0\n",
      "(1, 1) [[1, 1, 1, 1], [1, -1, -1, 1], [1, -1, -1, 1], [1, 1, 1, 1]] 2\n",
      "-1 0 끝\n"
     ]
    }
   ],
   "source": [
    "clean(n,m,r,c,d,g)"
   ]
  },
  {
   "cell_type": "code",
   "execution_count": 94,
   "id": "cc8f3ebd",
   "metadata": {},
   "outputs": [
    {
     "data": {
      "text/plain": [
       "[(1, 1), (2, 1), (2, 2), (1, 2)]"
      ]
     },
     "execution_count": 94,
     "metadata": {},
     "output_type": "execute_result"
    }
   ],
   "source": [
    "cnt"
   ]
  },
  {
   "cell_type": "code",
   "execution_count": null,
   "id": "9040794f",
   "metadata": {},
   "outputs": [],
   "source": []
  }
 ],
 "metadata": {
  "kernelspec": {
   "display_name": "Python 3",
   "language": "python",
   "name": "python3"
  },
  "language_info": {
   "codemirror_mode": {
    "name": "ipython",
    "version": 3
   },
   "file_extension": ".py",
   "mimetype": "text/x-python",
   "name": "python",
   "nbconvert_exporter": "python",
   "pygments_lexer": "ipython3",
   "version": "3.8.8"
  },
  "toc": {
   "base_numbering": 1,
   "nav_menu": {},
   "number_sections": true,
   "sideBar": true,
   "skip_h1_title": false,
   "title_cell": "Table of Contents",
   "title_sidebar": "Contents",
   "toc_cell": false,
   "toc_position": {},
   "toc_section_display": true,
   "toc_window_display": false
  }
 },
 "nbformat": 4,
 "nbformat_minor": 5
}
