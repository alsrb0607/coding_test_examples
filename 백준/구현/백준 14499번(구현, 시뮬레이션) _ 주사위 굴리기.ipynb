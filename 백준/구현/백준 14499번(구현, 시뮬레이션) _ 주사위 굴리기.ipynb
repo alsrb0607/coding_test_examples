{
 "cells": [
  {
   "cell_type": "code",
   "execution_count": 20,
   "id": "c0c50af4",
   "metadata": {},
   "outputs": [
    {
     "name": "stdout",
     "output_type": "stream",
     "text": [
      "3 3 0 0 16\n",
      "0 1 2\n",
      "3 4 5\n",
      "6 7 8\n",
      "4 4 1 1 3 3 2 2 4 4 1 1 3 3 2 2\n"
     ]
    }
   ],
   "source": [
    "n,m,x,y,k = map(int,input().split())\n",
    "maps=[list(map(int,input().split())) for _ in range(n)]\n",
    "move = list(map(int,input().split()))\n",
    "    \n",
    "def change(mo,dices):\n",
    "    if mo==1:\n",
    "        dices[0],dices[2],dices[3],dices[5] = dices[2],dices[5],dices[0],dices[3]\n",
    "    elif mo==2:\n",
    "        dices[2],dices[5],dices[0],dices[3] = dices[0],dices[2],dices[3],dices[5]\n",
    "    elif mo==3:\n",
    "        dices[0],dices[1],dices[4],dices[5] = dices[1],dices[5],dices[0],dices[4]\n",
    "    elif mo==4:\n",
    "        dices[1],dices[5],dices[0],dices[4] = dices[0],dices[1],dices[4],dices[5]\n",
    "    return dices\n",
    "\n",
    "def dice(n,m,x,y,maps,move):\n",
    "    dices = [0]*6; loc = [0,(0,1),(0,-1),(-1,0),(1,0)]\n",
    "    for mo in move:\n",
    "        i,j = loc[mo]\n",
    "        if 0<=x+i<n and 0<=y+j<m:\n",
    "            dices = change(mo,dices)\n",
    "            x += i; y +=j\n",
    "            if maps[x][y]==0:\n",
    "                maps[x][y]=dices[-1]\n",
    "            else:\n",
    "                dices[-1] = maps[x][y]\n",
    "                maps[x][y] = 0\n",
    "            print(dices[0])\n",
    "\n",
    "dice(n,m,x,y,maps,move)"
   ]
  },
  {
   "cell_type": "code",
   "execution_count": 78,
   "id": "2cc06436",
   "metadata": {},
   "outputs": [],
   "source": [
    "d=[0,1,2,3,4,5]"
   ]
  },
  {
   "cell_type": "code",
   "execution_count": 84,
   "id": "0952b744",
   "metadata": {},
   "outputs": [
    {
     "data": {
      "text/plain": [
       "[2, 1, 5, 0, 4, 3]"
      ]
     },
     "execution_count": 84,
     "metadata": {},
     "output_type": "execute_result"
    }
   ],
   "source": [
    "eval(f'[{\"d[%s],\"*6}]'%tuple('215043'))"
   ]
  },
  {
   "cell_type": "code",
   "execution_count": 51,
   "id": "29ea0d64",
   "metadata": {},
   "outputs": [
    {
     "data": {
      "text/plain": [
       "('2', '1', '5', '0', '4', '3')"
      ]
     },
     "execution_count": 51,
     "metadata": {},
     "output_type": "execute_result"
    }
   ],
   "source": [
    "tuple('215043')"
   ]
  },
  {
   "cell_type": "code",
   "execution_count": 54,
   "id": "9306d6c8",
   "metadata": {},
   "outputs": [
    {
     "data": {
      "text/plain": [
       "[{\"d[('2', '1', '5', '0', '4', '3')],d[('2', '1', '5', '0', '4', '3')],d[('2', '1', '5', '0', '4', '3')],d[('2', '1', '5', '0', '4', '3')],d[('2', '1', '5', '0', '4', '3')],d[('2', '1', '5', '0', '4', '3')],\"}]"
      ]
     },
     "execution_count": 54,
     "metadata": {},
     "output_type": "execute_result"
    }
   ],
   "source": [
    "eval('''[{\"d[('2', '1', '5', '0', '4', '3')],\"*6}]''')"
   ]
  },
  {
   "cell_type": "code",
   "execution_count": 64,
   "id": "18422659",
   "metadata": {},
   "outputs": [
    {
     "data": {
      "text/plain": [
       "'안녕 2안녕 1안녕 5안녕 0안녕 4안녕 3'"
      ]
     },
     "execution_count": 64,
     "metadata": {},
     "output_type": "execute_result"
    }
   ],
   "source": [
    "f'안녕 %s'*6 %tuple('215043')"
   ]
  },
  {
   "cell_type": "code",
   "execution_count": 77,
   "id": "263a4dda",
   "metadata": {},
   "outputs": [
    {
     "data": {
      "text/plain": [
       "['2', '1', '5', '0', '4', '3']"
      ]
     },
     "execution_count": 77,
     "metadata": {},
     "output_type": "execute_result"
    }
   ],
   "source": [
    "list('215043')"
   ]
  },
  {
   "cell_type": "code",
   "execution_count": null,
   "id": "e665f7c4",
   "metadata": {},
   "outputs": [],
   "source": []
  }
 ],
 "metadata": {
  "kernelspec": {
   "display_name": "Python 3",
   "language": "python",
   "name": "python3"
  },
  "language_info": {
   "codemirror_mode": {
    "name": "ipython",
    "version": 3
   },
   "file_extension": ".py",
   "mimetype": "text/x-python",
   "name": "python",
   "nbconvert_exporter": "python",
   "pygments_lexer": "ipython3",
   "version": "3.8.8"
  },
  "toc": {
   "base_numbering": 1,
   "nav_menu": {},
   "number_sections": true,
   "sideBar": true,
   "skip_h1_title": false,
   "title_cell": "Table of Contents",
   "title_sidebar": "Contents",
   "toc_cell": false,
   "toc_position": {},
   "toc_section_display": true,
   "toc_window_display": false
  }
 },
 "nbformat": 4,
 "nbformat_minor": 5
}
