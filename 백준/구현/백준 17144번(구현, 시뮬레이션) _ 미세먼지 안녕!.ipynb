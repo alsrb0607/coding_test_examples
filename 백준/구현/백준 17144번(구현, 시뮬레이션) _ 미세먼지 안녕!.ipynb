{
 "cells": [
  {
   "cell_type": "code",
   "execution_count": 58,
   "id": "dac59061",
   "metadata": {},
   "outputs": [
    {
     "name": "stdout",
     "output_type": "stream",
     "text": [
      "7 8 3\n",
      "0 0 0 0 0 0 0 9\n",
      "0 0 0 0 3 0 0 8\n",
      "-1 0 5 0 0 0 22 0\n",
      "-1 8 0 0 0 0 0 0\n",
      "0 0 0 0 0 10 43 0\n",
      "0 0 5 0 15 0 0 0\n",
      "0 0 40 0 0 0 20 0\n"
     ]
    }
   ],
   "source": [
    "import copy\n",
    "r,c,t = map(int,input().split())\n",
    "g = []\n",
    "for num in range(r):\n",
    "    tmp = list(map(int,input().split()))\n",
    "    g.append(tmp)\n",
    "    if tmp[0]==-1:\n",
    "        cc=num"
   ]
  },
  {
   "cell_type": "code",
   "execution_count": 60,
   "id": "4f52ae88",
   "metadata": {},
   "outputs": [
    {
     "name": "stdout",
     "output_type": "stream",
     "text": [
      "71\n"
     ]
    }
   ],
   "source": [
    "def dust(r,c):\n",
    "    dx=(-1,1,0,0);dy=(0,0,-1,1)\n",
    "    gg=copy.deepcopy(g)\n",
    "    for i in range(r):\n",
    "        for j in range(c):\n",
    "            for k in range(4):\n",
    "                if (0<=i+dx[k]<r and 0<=j+dy[k]<c) and (t:=g[i][j])!=-1:\n",
    "                    if g[i+dx[k]][j+dy[k]]!=-1:\n",
    "                        gg[i+dx[k]][j+dy[k]] += (t//5)\n",
    "                        gg[i][j]-=(t//5)\n",
    "    return gg\n",
    "\n",
    "def push(r,c,g,cc):\n",
    "    gg=copy.deepcopy(g)\n",
    "    for i in range(r):\n",
    "        if i ==0:\n",
    "            gg[i][0:c-1] = g[i][1:]\n",
    "            gg[i][-1] = g[i+1][-1]\n",
    "        elif 0<i<cc-1:\n",
    "            gg[i][0] = g[i-1][0]\n",
    "            gg[i][-1] = g[i+1][-1]\n",
    "        elif (i == cc-1) or (i==cc):\n",
    "            gg[i][1:] = [0]+g[i][1:-1]\n",
    "        elif cc<i<r-1:\n",
    "            gg[i][0] = g[i+1][0]\n",
    "            gg[i][-1] = g[i-1][-1]\n",
    "        elif i ==r-1:\n",
    "            gg[i][0:c-1] = g[i][1:]\n",
    "            gg[i][-1] = g[i-1][-1]\n",
    "    return gg\n",
    "            \n",
    "\n",
    "for _ in range(t):\n",
    "    g = push(r,c,dust(r,c),cc)\n",
    "\n",
    "print(sum(map(sum,g))+2)"
   ]
  },
  {
   "cell_type": "code",
   "execution_count": null,
   "id": "784218e6",
   "metadata": {},
   "outputs": [],
   "source": []
  }
 ],
 "metadata": {
  "kernelspec": {
   "display_name": "Python 3",
   "language": "python",
   "name": "python3"
  },
  "language_info": {
   "codemirror_mode": {
    "name": "ipython",
    "version": 3
   },
   "file_extension": ".py",
   "mimetype": "text/x-python",
   "name": "python",
   "nbconvert_exporter": "python",
   "pygments_lexer": "ipython3",
   "version": "3.8.8"
  },
  "toc": {
   "base_numbering": 1,
   "nav_menu": {},
   "number_sections": true,
   "sideBar": true,
   "skip_h1_title": false,
   "title_cell": "Table of Contents",
   "title_sidebar": "Contents",
   "toc_cell": false,
   "toc_position": {},
   "toc_section_display": true,
   "toc_window_display": false
  }
 },
 "nbformat": 4,
 "nbformat_minor": 5
}
