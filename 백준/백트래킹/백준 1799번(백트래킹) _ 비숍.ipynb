{
 "cells": [
  {
   "cell_type": "code",
   "execution_count": 31,
   "id": "fe98a3c3",
   "metadata": {},
   "outputs": [
    {
     "name": "stdout",
     "output_type": "stream",
     "text": [
      "5\n",
      "1 1 0 1 1\n",
      "0 1 0 0 1\n",
      "1 0 1 0 1\n",
      "1 0 0 0 0\n",
      "1 0 1 1 1\n"
     ]
    }
   ],
   "source": [
    "# Pypy3 통과\n",
    "n=int(input())\n",
    "g = [list(map(int, input().split())) for _ in range(n)]\n",
    "\n",
    "visit1 = [0]*(2*n-1)\n",
    "visit2 = [0]*(2*n-1)\n",
    "queens = [];cnt=0; max_ = 0\n",
    "def bishop(k):\n",
    "    global cnt, max_\n",
    "    check = 0\n",
    "    max_ = max(max_,cnt)\n",
    "    if k==2*n-1:\n",
    "        return\n",
    "    for j in range(k+1):\n",
    "        if 0<= k-j <n and 0<= j < n:\n",
    "            if g[k-j][j]==1:\n",
    "                a = k-2*j+n-1; b = k\n",
    "                if not visit1[a] and not visit2[b]:\n",
    "                    check += 1\n",
    "                    visit1[a] = 1; visit2[b] = 1\n",
    "                    cnt += 1\n",
    "                    bishop(k+1)\n",
    "                    cnt -= 1\n",
    "                    visit1[a] = 0; visit2[b] = 0\n",
    "    if not check:\n",
    "        bishop(k+1)\n",
    "bishop(0)\n",
    "print(max_)"
   ]
  },
  {
   "cell_type": "code",
   "execution_count": null,
   "id": "284c40a6",
   "metadata": {},
   "outputs": [],
   "source": []
  }
 ],
 "metadata": {
  "kernelspec": {
   "display_name": "Python 3 (ipykernel)",
   "language": "python",
   "name": "python3"
  },
  "language_info": {
   "codemirror_mode": {
    "name": "ipython",
    "version": 3
   },
   "file_extension": ".py",
   "mimetype": "text/x-python",
   "name": "python",
   "nbconvert_exporter": "python",
   "pygments_lexer": "ipython3",
   "version": "3.8.0"
  },
  "toc": {
   "base_numbering": 1,
   "nav_menu": {},
   "number_sections": true,
   "sideBar": true,
   "skip_h1_title": false,
   "title_cell": "Table of Contents",
   "title_sidebar": "Contents",
   "toc_cell": false,
   "toc_position": {},
   "toc_section_display": true,
   "toc_window_display": false
  }
 },
 "nbformat": 4,
 "nbformat_minor": 5
}
