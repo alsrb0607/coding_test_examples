{
 "cells": [
  {
   "cell_type": "code",
   "execution_count": 3,
   "id": "a7b9c108",
   "metadata": {},
   "outputs": [
    {
     "name": "stdout",
     "output_type": "stream",
     "text": [
      "4 4\n",
      "1231 1232 1233 1234\n",
      "1231 1232 1233 1234\n",
      "1231 1232 1234 1233\n",
      "1231 1233 1232 1234\n",
      "1231 1233 1234 1232\n",
      "1231 1234 1232 1233\n",
      "1231 1234 1233 1232\n",
      "1232 1231 1233 1234\n",
      "1232 1231 1234 1233\n",
      "1232 1233 1231 1234\n",
      "1232 1233 1234 1231\n",
      "1232 1234 1231 1233\n",
      "1232 1234 1233 1231\n",
      "1233 1231 1232 1234\n",
      "1233 1231 1234 1232\n",
      "1233 1232 1231 1234\n",
      "1233 1232 1234 1231\n",
      "1233 1234 1231 1232\n",
      "1233 1234 1232 1231\n",
      "1234 1231 1232 1233\n",
      "1234 1231 1233 1232\n",
      "1234 1232 1231 1233\n",
      "1234 1232 1233 1231\n",
      "1234 1233 1231 1232\n",
      "1234 1233 1232 1231\n"
     ]
    }
   ],
   "source": [
    "#(5)\n",
    "n,m = map(int,input().split())\n",
    "ints = list(map(int,input().split()))\n",
    "s= []\n",
    "ints.sort()\n",
    "def c():\n",
    "    if len(s)==m:\n",
    "        print(*s)\n",
    "        return\n",
    "    for i in ints:\n",
    "        if i not in s:\n",
    "            s.append(i)\n",
    "            c()\n",
    "            s.pop()\n",
    "c()"
   ]
  },
  {
   "cell_type": "code",
   "execution_count": 5,
   "id": "8b044ef5",
   "metadata": {},
   "outputs": [
    {
     "name": "stdout",
     "output_type": "stream",
     "text": [
      "4 4 \n",
      "1231 1232 1233 1234\n",
      "1231 1232 1233 1234\n"
     ]
    }
   ],
   "source": [
    "#(6)\n",
    "n,m = map(int,input().split())\n",
    "ints = list(map(int,input().split()))\n",
    "s= []\n",
    "ints.sort()\n",
    "def c():\n",
    "    if len(s)==m:\n",
    "        print(*s)\n",
    "        return\n",
    "    for i in ints:\n",
    "        if not s:\n",
    "            s.append(i)\n",
    "            c()\n",
    "            s.pop()\n",
    "        else:\n",
    "            if i>s[-1]:\n",
    "                s.append(i)\n",
    "                c()\n",
    "                s.pop()\n",
    "c()"
   ]
  },
  {
   "cell_type": "code",
   "execution_count": 6,
   "id": "7f127cdc",
   "metadata": {},
   "outputs": [
    {
     "name": "stdout",
     "output_type": "stream",
     "text": [
      "4 2\n",
      "9 8 7 1\n",
      "1 1\n",
      "1 7\n",
      "1 8\n",
      "1 9\n",
      "7 1\n",
      "7 7\n",
      "7 8\n",
      "7 9\n",
      "8 1\n",
      "8 7\n",
      "8 8\n",
      "8 9\n",
      "9 1\n",
      "9 7\n",
      "9 8\n",
      "9 9\n"
     ]
    }
   ],
   "source": [
    "#(7)\n",
    "n,m = map(int,input().split())\n",
    "ints = list(map(int,input().split()))\n",
    "s= []\n",
    "ints.sort()\n",
    "def c():\n",
    "    if len(s)==m:\n",
    "        print(*s)\n",
    "        return\n",
    "    for i in ints:\n",
    "        s.append(i)\n",
    "        c()\n",
    "        s.pop()\n",
    "c()"
   ]
  },
  {
   "cell_type": "code",
   "execution_count": 49,
   "id": "cbe8ec86",
   "metadata": {},
   "outputs": [
    {
     "name": "stdout",
     "output_type": "stream",
     "text": [
      "4 4\n",
      "1 1 2 2\n",
      "1 1 1 1\n",
      "1 1 1 1\n",
      "1 1 1 2\n",
      "1 1 1 2\n",
      "1 1 1 1\n",
      "1 1 1 1\n",
      "1 1 1 2\n",
      "1 1 1 2\n",
      "1 1 2 2\n",
      "1 1 2 2\n",
      "1 1 2 2\n",
      "1 1 2 2\n",
      "1 1 1 1\n",
      "1 1 1 1\n",
      "1 1 1 2\n",
      "1 1 1 2\n",
      "1 1 1 1\n",
      "1 1 1 1\n",
      "1 1 1 2\n",
      "1 1 1 2\n",
      "1 1 2 2\n",
      "1 1 2 2\n",
      "1 1 2 2\n",
      "1 1 2 2\n",
      "1 2 2 2\n",
      "1 2 2 2\n",
      "1 2 2 2\n",
      "1 2 2 2\n",
      "1 2 2 2\n",
      "1 2 2 2\n",
      "1 2 2 2\n",
      "1 2 2 2\n",
      "1 1 1 1\n",
      "1 1 1 1\n",
      "1 1 1 2\n",
      "1 1 1 2\n",
      "1 1 1 1\n",
      "1 1 1 1\n",
      "1 1 1 2\n",
      "1 1 1 2\n",
      "1 1 2 2\n",
      "1 1 2 2\n",
      "1 1 2 2\n",
      "1 1 2 2\n",
      "1 1 1 1\n",
      "1 1 1 1\n",
      "1 1 1 2\n",
      "1 1 1 2\n",
      "1 1 1 1\n",
      "1 1 1 1\n",
      "1 1 1 2\n",
      "1 1 1 2\n",
      "1 1 2 2\n",
      "1 1 2 2\n",
      "1 1 2 2\n",
      "1 1 2 2\n",
      "1 2 2 2\n",
      "1 2 2 2\n",
      "1 2 2 2\n",
      "1 2 2 2\n",
      "1 2 2 2\n",
      "1 2 2 2\n",
      "1 2 2 2\n",
      "1 2 2 2\n",
      "2 2 2 2\n",
      "2 2 2 2\n",
      "2 2 2 2\n",
      "2 2 2 2\n",
      "2 2 2 2\n",
      "2 2 2 2\n",
      "2 2 2 2\n",
      "2 2 2 2\n",
      "2 2 2 2\n",
      "2 2 2 2\n",
      "2 2 2 2\n",
      "2 2 2 2\n",
      "2 2 2 2\n",
      "2 2 2 2\n",
      "2 2 2 2\n",
      "2 2 2 2\n"
     ]
    }
   ],
   "source": [
    "#(8)\n",
    "n,m = map(int,input().split())\n",
    "ints = list(map(int,input().split()))\n",
    "s= []\n",
    "ints.sort()\n",
    "def c():\n",
    "    if len(s)==m:\n",
    "        print(*s)\n",
    "        return\n",
    "    for i in ints:\n",
    "        if not s:\n",
    "            s.append(i)\n",
    "            c()\n",
    "            s.pop()\n",
    "        else:\n",
    "            if i>=s[-1]:\n",
    "                s.append(i)\n",
    "                c()\n",
    "                s.pop()\n",
    "c()"
   ]
  },
  {
   "cell_type": "code",
   "execution_count": 47,
   "id": "75d07015",
   "metadata": {
    "scrolled": true
   },
   "outputs": [
    {
     "name": "stdout",
     "output_type": "stream",
     "text": [
      "4 2\n",
      "9 7 9 1\n",
      "1 7\n",
      "1 9\n",
      "7 1\n",
      "7 9\n",
      "9 1\n",
      "9 7\n",
      "9 9\n"
     ]
    }
   ],
   "source": []
  },
  {
   "cell_type": "code",
   "execution_count": null,
   "id": "2bc60b4a",
   "metadata": {},
   "outputs": [],
   "source": []
  }
 ],
 "metadata": {
  "kernelspec": {
   "display_name": "Python 3",
   "language": "python",
   "name": "python3"
  },
  "language_info": {
   "codemirror_mode": {
    "name": "ipython",
    "version": 3
   },
   "file_extension": ".py",
   "mimetype": "text/x-python",
   "name": "python",
   "nbconvert_exporter": "python",
   "pygments_lexer": "ipython3",
   "version": "3.8.8"
  },
  "toc": {
   "base_numbering": 1,
   "nav_menu": {},
   "number_sections": true,
   "sideBar": true,
   "skip_h1_title": false,
   "title_cell": "Table of Contents",
   "title_sidebar": "Contents",
   "toc_cell": false,
   "toc_position": {},
   "toc_section_display": true,
   "toc_window_display": false
  }
 },
 "nbformat": 4,
 "nbformat_minor": 5
}
