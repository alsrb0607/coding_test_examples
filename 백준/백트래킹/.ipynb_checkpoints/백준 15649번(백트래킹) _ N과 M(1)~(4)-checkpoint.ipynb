{
 "cells": [
  {
   "cell_type": "code",
   "execution_count": 35,
   "id": "93d5c877",
   "metadata": {
    "scrolled": true
   },
   "outputs": [
    {
     "name": "stdout",
     "output_type": "stream",
     "text": [
      "4 2\n",
      "1 2\n",
      "1 3\n",
      "1 4\n",
      "2 1\n",
      "2 3\n",
      "2 4\n",
      "3 1\n",
      "3 2\n",
      "3 4\n",
      "4 1\n",
      "4 2\n",
      "4 3\n"
     ]
    }
   ],
   "source": [
    "# (1)\n",
    "from itertools import permutations as p\n",
    "n,m=map(int,input().split())\n",
    "for x in p(range(1,n+1),m):\n",
    "    print(*x)"
   ]
  },
  {
   "cell_type": "code",
   "execution_count": 47,
   "id": "5ae17db2",
   "metadata": {},
   "outputs": [
    {
     "name": "stdout",
     "output_type": "stream",
     "text": [
      "4 2\n",
      "1 2\n",
      "1 3\n",
      "1 4\n",
      "2 1\n",
      "2 3\n",
      "2 4\n",
      "3 1\n",
      "3 2\n",
      "3 4\n",
      "4 1\n",
      "4 2\n",
      "4 3\n"
     ]
    }
   ],
   "source": [
    "n,m = list(map(int,input().split()))\n",
    " \n",
    "s = []\n",
    " \n",
    "def p():\n",
    "    if len(s)==m:\n",
    "        print(*s)\n",
    "        return\n",
    "    \n",
    "    for i in range(1,n+1):\n",
    "        if i not in s:\n",
    "            s.append(i)\n",
    "            p()\n",
    "            s.pop()\n",
    "p()"
   ]
  },
  {
   "cell_type": "code",
   "execution_count": 34,
   "id": "7543ebc1",
   "metadata": {},
   "outputs": [
    {
     "name": "stdout",
     "output_type": "stream",
     "text": [
      "4 2\n",
      "1 2\n",
      "1 3\n",
      "1 4\n",
      "2 3\n",
      "2 4\n",
      "3 4\n"
     ]
    }
   ],
   "source": [
    "# (2)\n",
    "from itertools import combinations as c\n",
    "n,m=map(int,input().split())\n",
    "for x in c(range(1,n+1),m):\n",
    "    print(*x)"
   ]
  },
  {
   "cell_type": "code",
   "execution_count": 50,
   "id": "c9c0a94b",
   "metadata": {},
   "outputs": [
    {
     "name": "stdout",
     "output_type": "stream",
     "text": [
      "4 2\n",
      "1 2\n",
      "1 3\n",
      "1 4\n",
      "2 3\n",
      "2 4\n",
      "3 4\n"
     ]
    }
   ],
   "source": [
    "n,m = list(map(int,input().split()))\n",
    "s = []\n",
    "def c():\n",
    "    if len(s)==m:\n",
    "        print(*s)\n",
    "        return    \n",
    "    for i in range(1,n+1):\n",
    "        if not s:\n",
    "            s.append(i)\n",
    "            c()\n",
    "            s.pop()\n",
    "        else:\n",
    "            if i>s[-1]:\n",
    "                s.append(i)\n",
    "                c()\n",
    "                s.pop()\n",
    "            \n",
    "c()"
   ]
  },
  {
   "cell_type": "code",
   "execution_count": 39,
   "id": "ae66e12d",
   "metadata": {},
   "outputs": [
    {
     "name": "stdout",
     "output_type": "stream",
     "text": [
      "4 2\n",
      "1 1\n",
      "1 2\n",
      "1 3\n",
      "1 4\n",
      "2 1\n",
      "2 2\n",
      "2 3\n",
      "2 4\n",
      "3 1\n",
      "3 2\n",
      "3 3\n",
      "3 4\n",
      "4 1\n",
      "4 2\n",
      "4 3\n",
      "4 4\n"
     ]
    }
   ],
   "source": [
    "# (3)\n",
    "from itertools import product as p\n",
    "n,m=map(int,input().split())\n",
    "for x in p(range(1,n+1),repeat=m):\n",
    "    print(*x)"
   ]
  },
  {
   "cell_type": "code",
   "execution_count": 51,
   "id": "784162d9",
   "metadata": {},
   "outputs": [
    {
     "name": "stdout",
     "output_type": "stream",
     "text": [
      "4 2\n",
      "1 1\n",
      "1 2\n",
      "1 3\n",
      "1 4\n",
      "2 1\n",
      "2 2\n",
      "2 3\n",
      "2 4\n",
      "3 1\n",
      "3 2\n",
      "3 3\n",
      "3 4\n",
      "4 1\n",
      "4 2\n",
      "4 3\n",
      "4 4\n"
     ]
    }
   ],
   "source": [
    "n,m = list(map(int,input().split()))\n",
    "s = []\n",
    "def pie():\n",
    "    if len(s)==m:\n",
    "        print(*s)\n",
    "        return    \n",
    "    for i in range(1,n+1):\n",
    "            s.append(i)\n",
    "            pie()\n",
    "            s.pop()     \n",
    "pie()"
   ]
  },
  {
   "cell_type": "code",
   "execution_count": 42,
   "id": "ad720337",
   "metadata": {},
   "outputs": [
    {
     "name": "stdout",
     "output_type": "stream",
     "text": [
      "3 3\n",
      "1 1 1\n",
      "1 1 2\n",
      "1 1 3\n",
      "1 2 2\n",
      "1 2 3\n",
      "1 3 3\n",
      "2 2 2\n",
      "2 2 3\n",
      "2 3 3\n",
      "3 3 3\n"
     ]
    }
   ],
   "source": [
    "# (4)\n",
    "from itertools import combinations_with_replacement as c\n",
    "n,m=map(int,input().split())\n",
    "for x in c(range(1,n+1),m):\n",
    "    print(*x)"
   ]
  },
  {
   "cell_type": "code",
   "execution_count": 52,
   "id": "6a9b22f1",
   "metadata": {},
   "outputs": [
    {
     "name": "stdout",
     "output_type": "stream",
     "text": [
      "3 3\n",
      "1 1 1\n",
      "1 1 2\n",
      "1 1 3\n",
      "1 2 2\n",
      "1 2 3\n",
      "1 3 3\n",
      "2 2 2\n",
      "2 2 3\n",
      "2 3 3\n",
      "3 3 3\n"
     ]
    }
   ],
   "source": [
    "n,m = list(map(int,input().split()))\n",
    "s = []\n",
    "def h():\n",
    "    if len(s)==m:\n",
    "        print(*s)\n",
    "        return    \n",
    "    for i in range(1,n+1):\n",
    "        if not s:\n",
    "            s.append(i)\n",
    "            h()\n",
    "            s.pop()\n",
    "        else:\n",
    "            if i>=s[-1]:\n",
    "                s.append(i)\n",
    "                h()\n",
    "                s.pop()           \n",
    "h()"
   ]
  },
  {
   "cell_type": "code",
   "execution_count": null,
   "id": "bb7a3629",
   "metadata": {},
   "outputs": [],
   "source": []
  }
 ],
 "metadata": {
  "kernelspec": {
   "display_name": "Python 3",
   "language": "python",
   "name": "python3"
  },
  "language_info": {
   "codemirror_mode": {
    "name": "ipython",
    "version": 3
   },
   "file_extension": ".py",
   "mimetype": "text/x-python",
   "name": "python",
   "nbconvert_exporter": "python",
   "pygments_lexer": "ipython3",
   "version": "3.8.8"
  },
  "toc": {
   "base_numbering": 1,
   "nav_menu": {},
   "number_sections": true,
   "sideBar": true,
   "skip_h1_title": false,
   "title_cell": "Table of Contents",
   "title_sidebar": "Contents",
   "toc_cell": false,
   "toc_position": {},
   "toc_section_display": true,
   "toc_window_display": false
  }
 },
 "nbformat": 4,
 "nbformat_minor": 5
}
