{
 "cells": [
  {
   "cell_type": "code",
   "execution_count": 126,
   "id": "7c9ed31a",
   "metadata": {},
   "outputs": [
    {
     "name": "stdout",
     "output_type": "stream",
     "text": [
      "000000000\n",
      "000000000\n",
      "000000000\n",
      "000000000\n",
      "000000000\n",
      "000000000\n",
      "000000000\n",
      "000000000\n",
      "000000000\n"
     ]
    }
   ],
   "source": [
    "g = [list(map(int,list(input()))) for _ in range(9)]\n",
    "visit = [[[0]*9 for _ in range(9)] for _ in range(3)]\n",
    "\n",
    "for i in range(9):\n",
    "    for j in range(9):\n",
    "        if g[i][j]!=0:\n",
    "            x = g[i][j] - 1\n",
    "            visit[0][i][x] = visit[1][j][x] = visit[2][(i//3)*3+j//3][x] = 1"
   ]
  },
  {
   "cell_type": "code",
   "execution_count": 127,
   "id": "ac0949cb",
   "metadata": {},
   "outputs": [
    {
     "name": "stdout",
     "output_type": "stream",
     "text": [
      "123456789\n",
      "456789123\n",
      "789123456\n",
      "214365897\n",
      "365897214\n",
      "897214365\n",
      "531642978\n",
      "642978531\n",
      "978531642\n"
     ]
    }
   ],
   "source": [
    "import sys\n",
    "sys.setrecursionlimit(10**6)\n",
    "cnt = 0\n",
    "def sudoku(i,j):\n",
    "    global cnt\n",
    "    if i == 9:\n",
    "        cnt +=1\n",
    "        for i in range(9):\n",
    "            print(''.join(map(str,g[i])))\n",
    "        return\n",
    "    if cnt ==1:\n",
    "        return\n",
    "    if g[i][j] > 0:\n",
    "        if j==8:\n",
    "            sudoku(i+1,0)\n",
    "        else:\n",
    "            sudoku(i,j+1)\n",
    "    else:\n",
    "        for k in range(9):\n",
    "            if visit[0][i][k] == visit[1][j][k] == visit[2][(i//3)*3+j//3][k] == 0:\n",
    "                g[i][j] = k+1\n",
    "                visit[0][i][k] = visit[1][j][k] = visit[2][(i//3)*3+j//3][k] = 1\n",
    "                if j==8:\n",
    "                    sudoku(i+1,0)\n",
    "                else:\n",
    "                    sudoku(i,j+1)\n",
    "                visit[0][i][k] = visit[1][j][k] = visit[2][(i//3)*3+j//3][k] = 0\n",
    "                g[i][j] = 0\n",
    "sudoku(0,0)    "
   ]
  },
  {
   "cell_type": "code",
   "execution_count": 111,
   "id": "728c0bf3",
   "metadata": {},
   "outputs": [
    {
     "name": "stdout",
     "output_type": "stream",
     "text": [
      "143628579\n",
      "572139468\n",
      "986754231\n",
      "391542786\n",
      "468917352\n",
      "725863914\n",
      "237481695\n",
      "619275843\n",
      "854396127\n"
     ]
    }
   ],
   "source": [
    "sudoku(0,0)"
   ]
  },
  {
   "cell_type": "code",
   "execution_count": null,
   "id": "08e6c403",
   "metadata": {},
   "outputs": [],
   "source": [
    "import sys\n",
    "sys.setrecursionlimit(10**6)\n",
    "def sudoku(i,j):\n",
    "    if i == 9:\n",
    "        print('끝')\n",
    "        return\n",
    "    cnt = 0\n",
    "    for k in range(9):\n",
    "        if visit[0][i][k] == visit[1][j][k] == visit[2][(i//3)*3+j//3][k] == 0 and g[i][j]==0:\n",
    "            g[i][j] = k+1\n",
    "            visit[0][i][k] = visit[1][j][k] = visit[2][(i//3)*3+j//3][k] = 1\n",
    "    if g[i][j]!=0:\n",
    "        if j==8:\n",
    "            sudoku(i+1,0)\n",
    "        else:\n",
    "            sudoku(i,j+1)\n",
    "    visit[0][i][k] = visit[1][j][k] = visit[2][(i//3)*3+j//3][k] = 0\n",
    "    \n",
    "\n"
   ]
  }
 ],
 "metadata": {
  "kernelspec": {
   "display_name": "Python 3 (ipykernel)",
   "language": "python",
   "name": "python3"
  },
  "language_info": {
   "codemirror_mode": {
    "name": "ipython",
    "version": 3
   },
   "file_extension": ".py",
   "mimetype": "text/x-python",
   "name": "python",
   "nbconvert_exporter": "python",
   "pygments_lexer": "ipython3",
   "version": "3.8.0"
  },
  "toc": {
   "base_numbering": 1,
   "nav_menu": {},
   "number_sections": true,
   "sideBar": true,
   "skip_h1_title": false,
   "title_cell": "Table of Contents",
   "title_sidebar": "Contents",
   "toc_cell": false,
   "toc_position": {},
   "toc_section_display": true,
   "toc_window_display": false
  }
 },
 "nbformat": 4,
 "nbformat_minor": 5
}
