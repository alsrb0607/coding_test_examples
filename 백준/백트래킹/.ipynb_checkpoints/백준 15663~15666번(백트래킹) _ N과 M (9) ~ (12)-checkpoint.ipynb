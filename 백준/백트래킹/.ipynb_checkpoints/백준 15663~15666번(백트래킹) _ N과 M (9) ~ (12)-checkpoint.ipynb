{
 "cells": [
  {
   "cell_type": "code",
   "execution_count": null,
   "id": "600a7cd8",
   "metadata": {},
   "outputs": [],
   "source": [
    "#(9)\n",
    "n,m = map(int,input().split())\n",
    "ints = list(map(int,input().split()))\n",
    "s= []; answer = set()\n",
    "ints.sort()\n",
    "used = [False]*n\n",
    "def c():\n",
    "    if len(s)==m:\n",
    "        ss = ' '.join(s)\n",
    "        if ss not in answer:\n",
    "            print(ss)\n",
    "            answer.add(ss)\n",
    "        return\n",
    "    for j,x in enumerate(ints):\n",
    "        if not used[j]:\n",
    "            used[j] = True\n",
    "            s.append(str(x))\n",
    "            c()\n",
    "            s.pop()\n",
    "            used[j] = False\n",
    "c()\n"
   ]
  },
  {
   "cell_type": "code",
   "execution_count": 7,
   "id": "fc5086a9",
   "metadata": {},
   "outputs": [
    {
     "name": "stdout",
     "output_type": "stream",
     "text": [
      "3 1\n",
      "4 4 2\n",
      "2\n",
      "4\n"
     ]
    }
   ],
   "source": [
    "#(10)\n",
    "n,m = map(int,input().split())\n",
    "ints = list(map(int,input().split()))\n",
    "s= []; answer = set()\n",
    "ints.sort()\n",
    "used = [False]*n\n",
    "def c():\n",
    "    if len(s)==m:\n",
    "        ss = ' '.join(s)\n",
    "        if ss not in answer:\n",
    "            print(ss)\n",
    "            answer.add(ss)\n",
    "        return\n",
    "    for j,x in enumerate(ints):\n",
    "        if not s:\n",
    "            used[j] = True\n",
    "            s.append(str(x))\n",
    "            c()\n",
    "            s.pop()\n",
    "            used[j] = False\n",
    "        \n",
    "        elif not used[j] and x>=int(s[-1]):\n",
    "            used[j] = True\n",
    "            s.append(str(x))\n",
    "            c()\n",
    "            s.pop()\n",
    "            used[j] = False\n",
    "c()\n"
   ]
  },
  {
   "cell_type": "code",
   "execution_count": 8,
   "id": "2b941f41",
   "metadata": {},
   "outputs": [
    {
     "name": "stdout",
     "output_type": "stream",
     "text": [
      "4 2\n",
      "9 7 9 1\n",
      "1 1\n",
      "1 7\n",
      "1 9\n",
      "7 1\n",
      "7 7\n",
      "7 9\n",
      "9 1\n",
      "9 7\n",
      "9 9\n"
     ]
    }
   ],
   "source": [
    "#(11)\n",
    "n,m = map(int,input().split())\n",
    "ints = list(map(int,input().split()))\n",
    "s= []; answer = set()\n",
    "ints.sort()\n",
    "def c():\n",
    "    if len(s)==m:\n",
    "        ss = ' '.join(s)\n",
    "        if ss not in answer:\n",
    "            print(ss)\n",
    "            answer.add(ss)\n",
    "        return\n",
    "    for j,x in enumerate(ints):\n",
    "        s.append(str(x))\n",
    "        c()\n",
    "        s.pop()\n",
    "        \n",
    "c()\n"
   ]
  },
  {
   "cell_type": "code",
   "execution_count": 11,
   "id": "92c81382",
   "metadata": {},
   "outputs": [
    {
     "name": "stdout",
     "output_type": "stream",
     "text": [
      "4 4\n",
      "1 1 2 2\n",
      "1 1 1 1\n",
      "1 1 1 2\n",
      "1 1 2 2\n",
      "1 2 2 2\n",
      "2 2 2 2\n"
     ]
    }
   ],
   "source": [
    "#(12)\n",
    "n,m = map(int,input().split())\n",
    "ints = list(map(int,input().split()))\n",
    "s= []; answer = set()\n",
    "ints.sort()\n",
    "def c():\n",
    "    if len(s)==m:\n",
    "        ss = ' '.join(s)\n",
    "        if ss not in answer:\n",
    "            print(ss)\n",
    "            answer.add(ss)\n",
    "        return\n",
    "    for j,x in enumerate(ints):\n",
    "        if not s:\n",
    "            s.append(str(x))\n",
    "            c()\n",
    "            s.pop()\n",
    "        \n",
    "        elif x>=int(s[-1]):\n",
    "            s.append(str(x))\n",
    "            c()\n",
    "            s.pop()\n",
    "c()\n"
   ]
  },
  {
   "cell_type": "code",
   "execution_count": null,
   "id": "1b9f339e",
   "metadata": {},
   "outputs": [],
   "source": []
  }
 ],
 "metadata": {
  "kernelspec": {
   "display_name": "Python 3",
   "language": "python",
   "name": "python3"
  },
  "language_info": {
   "codemirror_mode": {
    "name": "ipython",
    "version": 3
   },
   "file_extension": ".py",
   "mimetype": "text/x-python",
   "name": "python",
   "nbconvert_exporter": "python",
   "pygments_lexer": "ipython3",
   "version": "3.8.8"
  },
  "toc": {
   "base_numbering": 1,
   "nav_menu": {},
   "number_sections": true,
   "sideBar": true,
   "skip_h1_title": false,
   "title_cell": "Table of Contents",
   "title_sidebar": "Contents",
   "toc_cell": false,
   "toc_position": {},
   "toc_section_display": true,
   "toc_window_display": false
  }
 },
 "nbformat": 4,
 "nbformat_minor": 5
}
