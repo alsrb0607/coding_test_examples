{
 "cells": [
  {
   "cell_type": "code",
   "execution_count": null,
   "id": "2f4aa66b",
   "metadata": {},
   "outputs": [],
   "source": [
    "# 시간 초과\n",
    "a,b = map(int, input().split())\n",
    "n = int(b**(0.5))\n",
    "t = set(range(2, n+1))\n",
    "for i in range(2, n+1):\n",
    "    if i in t:\n",
    "        t -= set(range(i*2, n+1, i))\n",
    "cnt = b - a + 1\n",
    "for m in range(a, b+1):\n",
    "    for x in t:\n",
    "        if not m%(x**2):\n",
    "            cnt -= 1\n",
    "            break\n",
    "print(cnt)"
   ]
  },
  {
   "cell_type": "code",
   "execution_count": 41,
   "id": "9d8d63c1",
   "metadata": {
    "scrolled": true
   },
   "outputs": [
    {
     "name": "stdout",
     "output_type": "stream",
     "text": [
      "1000000000000 1000000000001\n",
      "78498\n"
     ]
    }
   ],
   "source": [
    "# 시간 초과\n",
    "a,b = map(int, input().split())\n",
    "def factorization(x): \n",
    "    d = 2 \n",
    "    tmp = dict()\n",
    "    while d <= x: \n",
    "        if (x % d == 0) and (d not in tmp): \n",
    "            tmp[d] = True \n",
    "            x = x / d \n",
    "        elif (x % d == 0) and (d in tmp):\n",
    "            return False\n",
    "        else: d = d + 1\n",
    "    return True\n",
    "cnt = 0\n",
    "for m in range(a, b+1):\n",
    "    cnt += factorization(m)\n",
    "print(cnt)"
   ]
  },
  {
   "cell_type": "code",
   "execution_count": 38,
   "id": "f8b747fb",
   "metadata": {},
   "outputs": [
    {
     "data": {
      "text/plain": [
       "1000"
      ]
     },
     "execution_count": 38,
     "metadata": {},
     "output_type": "execute_result"
    }
   ],
   "source": [
    "int(1000000000000**(1/4))"
   ]
  },
  {
   "cell_type": "code",
   "execution_count": 132,
   "id": "1267281a",
   "metadata": {},
   "outputs": [
    {
     "name": "stdout",
     "output_type": "stream",
     "text": [
      "1 1000\n",
      "608\n"
     ]
    }
   ],
   "source": [
    "# 시간초과 2\n",
    "a,b = map(int, input().split())\n",
    "n = int(b**(0.5))\n",
    "t = set(range(2, n+1))\n",
    "for i in range(2, n+1):\n",
    "    if i in t:\n",
    "        t -= set(range(i*2, n+1, i))\n",
    "t = list(t)\n",
    "def factorization(x,d): \n",
    "    i = 0 \n",
    "    tmp = dict()\n",
    "    while (d[i] <= x): \n",
    "        if (x % d[i] == 0) and (d[i] not in tmp): \n",
    "            tmp[d[i]] = True \n",
    "            x = x // d[i] \n",
    "        elif (x % d[i] == 0) and (d[i] in tmp):\n",
    "            return False\n",
    "        else: \n",
    "            i += 1\n",
    "            if i == len(d): break\n",
    "    return True\n",
    "cnt = 0\n",
    "for m in range(a, b+1):\n",
    "    cnt += factorization(m, t)\n",
    "print(cnt)"
   ]
  },
  {
   "cell_type": "code",
   "execution_count": 152,
   "id": "db8b834a",
   "metadata": {},
   "outputs": [
    {
     "name": "stdout",
     "output_type": "stream",
     "text": [
      "1 1000\n",
      "608\n"
     ]
    }
   ],
   "source": [
    "a,b = map(int, input().split())\n",
    "tmp = [1]*(b-a+1); i = 2\n",
    "while i**(2) <= b:\n",
    "    t = i**(2)\n",
    "    p, d = a//t, -a%t\n",
    "    while 0 <= d <= b-a: \n",
    "        tmp[d] = 0\n",
    "        d += t\n",
    "    i += 1\n",
    "print(sum(tmp))"
   ]
  },
  {
   "cell_type": "code",
   "execution_count": 115,
   "id": "904ac5b8",
   "metadata": {},
   "outputs": [
    {
     "data": {
      "text/plain": [
       "[1, 1, 1, 0, 1, 1, 1, 0, 0, 1]"
      ]
     },
     "execution_count": 115,
     "metadata": {},
     "output_type": "execute_result"
    }
   ],
   "source": [
    "tmp"
   ]
  },
  {
   "cell_type": "code",
   "execution_count": 124,
   "id": "fa8e885d",
   "metadata": {},
   "outputs": [
    {
     "name": "stdout",
     "output_type": "stream",
     "text": [
      "1000000000000 1000001000000\n",
      "607940\n"
     ]
    }
   ],
   "source": [
    "import math\n",
    "min, max = map(int, input().split())\n",
    "validate = [1 for i in range(max-min+1)]\n",
    "cnt=0\n",
    "i=2\n",
    "while i**2 <= max:\n",
    "    mul = min // i**2\n",
    "    while mul * (i**2) <= max:\n",
    "        if mul * (i**2) - min >= 0 and mul * (i**2) - min <= max-min:\n",
    "            validate[mul * (i**2) - min] = 0\n",
    "        mul +=1\n",
    "    i +=1\n",
    "\n",
    "print(sum(validate))"
   ]
  },
  {
   "cell_type": "code",
   "execution_count": 145,
   "id": "d4c2c4ac",
   "metadata": {},
   "outputs": [
    {
     "name": "stdout",
     "output_type": "stream",
     "text": [
      "1 1000\n",
      "3 [1, 1, 1, 1, 1, 1, 1, 1, 1, 1, 1, 1, 1, 1, 1, 1, 1, 1, 1, 1, 1, 1, 1, 1, 1, 1, 1, 1, 1, 1, 1, 1, 1, 1, 1, 1, 1, 1, 1, 1, 1, 1, 1, 1, 1, 1, 1, 1, 1, 1, 1, 1, 1, 1, 1, 1, 1, 1, 1, 1, 1, 1, 1, 1, 1, 1, 1, 1, 1, 1, 1, 1, 1, 1, 1, 1, 1, 1, 1, 1, 1, 1, 1, 1, 1, 1, 1, 1, 1, 1, 1, 1, 1, 1, 1, 1, 1, 1, 1, 1, 1, 1, 1, 1, 1, 1, 1, 1, 1, 1, 1, 1, 1, 1, 1, 1, 1, 1, 1, 1, 1, 1, 1, 1, 1, 1, 1, 1, 1, 1, 1, 1, 1, 1, 1, 1, 1, 1, 1, 1, 1, 1, 1, 1, 1, 1, 1, 1, 1, 1, 1, 1, 1, 1, 1, 1, 1, 1, 1, 1, 1, 1, 1, 1, 1, 1, 1, 1, 1, 1, 1, 1, 1, 1, 1, 1, 1, 1, 1, 1, 1, 1, 1, 1, 1, 1, 1, 1, 1, 1, 1, 1, 1, 1, 1, 1, 1, 1, 1, 1, 1, 1, 1, 1, 1, 1, 1, 1, 1, 1, 1, 1, 1, 1, 1, 1, 1, 1, 1, 1, 1, 1, 1, 1, 1, 1, 1, 1, 1, 1, 1, 1, 1, 1, 1, 1, 1, 1, 1, 1, 1, 1, 1, 1, 1, 1, 1, 1, 1, 1]\n",
      "8 [1, 1, 1, 0, 1, 1, 1, 0, 1, 1, 1, 0, 1, 1, 1, 0, 1, 1, 1, 0, 1, 1, 1, 0, 1, 1, 1, 0, 1, 1, 1, 0, 1, 1, 1, 0, 1, 1, 1, 0, 1, 1, 1, 0, 1, 1, 1, 0, 1, 1, 1, 0, 1, 1, 1, 0, 1, 1, 1, 0, 1, 1, 1, 0, 1, 1, 1, 0, 1, 1, 1, 0, 1, 1, 1, 0, 1, 1, 1, 0, 1, 1, 1, 0, 1, 1, 1, 0, 1, 1, 1, 0, 1, 1, 1, 0, 1, 1, 1, 0, 1, 1, 1, 0, 1, 1, 1, 0, 1, 1, 1]\n",
      "15 [0, 0, 0, 0, 0, 0, 0, 0, 0, 0, 0, 0, 0, 0, 0, 0, 0, 0, 0, 0, 0, 0, 0, 0, 0, 0, 0, 0, 0, 0, 0, 0, 0, 0, 0, 0, 0, 0, 0, 0, 0, 0, 0, 0, 0, 0, 0, 0, 0, 0, 0, 0, 0, 0, 0, 0, 0, 0, 0, 0, 0, 0]\n",
      "24 [1, 1, 1, 0, 1, 1, 1, 0, 0, 1, 1, 0, 1, 1, 1, 0, 1, 0, 1, 0, 1, 1, 1, 0, 1, 1, 0, 0, 1, 1, 1, 0, 1, 1, 1, 0, 1, 1, 1, 0]\n",
      "35 [0, 0, 0, 0, 0, 0, 0, 0, 0, 0, 0, 0, 0, 0, 0, 0, 0, 0, 0, 0, 0, 0, 0, 0, 0, 0, 0]\n",
      "48 [1, 1, 1, 0, 1, 1, 1, 0, 0, 1, 1, 0, 1, 1, 1, 0, 1, 0, 1, 0]\n",
      "63 [0, 0, 0, 0, 0, 0, 0, 0, 0, 0, 0, 0, 0, 0, 0]\n",
      "80 [0, 0, 0, 0, 0, 0, 0, 0, 0, 0, 0, 0]\n",
      "99 [0, 0, 0, 0, 0, 0, 0, 0, 0, 0]\n",
      "120 [1, 1, 1, 0, 1, 1, 1, 0]\n",
      "143 [0, 0, 0, 0, 0, 0]\n",
      "168 [1, 1, 1, 0, 1]\n",
      "195 [0, 0, 0, 0, 0]\n",
      "224 [0, 0, 0, 0]\n",
      "255 [0, 0, 0]\n",
      "288 [1, 1, 1]\n",
      "323 [0, 0, 0]\n",
      "360 [1, 1]\n",
      "399 [0, 0]\n",
      "440 [0, 0]\n",
      "483 [0, 0]\n",
      "528 [1]\n",
      "575 [0]\n",
      "624 [0]\n",
      "675 [0]\n",
      "728 [0]\n",
      "783 [0]\n",
      "840 [1]\n",
      "899 [0]\n",
      "960 [1]\n",
      "608\n"
     ]
    }
   ],
   "source": [
    "# ?????\n",
    "a,b=map(int,input().split())\n",
    "n=[1]*(b-a+1)\n",
    "for c in range(2,8**7):\n",
    "    k=c*c\n",
    "    n[-a%k::k]=[0]*(b//k-~-a//k)\n",
    "print(sum(n))"
   ]
  },
  {
   "cell_type": "code",
   "execution_count": 147,
   "id": "b8991eae",
   "metadata": {},
   "outputs": [
    {
     "data": {
      "text/plain": [
       "False"
      ]
     },
     "execution_count": 147,
     "metadata": {},
     "output_type": "execute_result"
    }
   ],
   "source": [
    "7-~-4 == 7-4"
   ]
  },
  {
   "cell_type": "code",
   "execution_count": 148,
   "id": "f028da95",
   "metadata": {},
   "outputs": [
    {
     "data": {
      "text/plain": [
       "4"
      ]
     },
     "execution_count": 148,
     "metadata": {},
     "output_type": "execute_result"
    }
   ],
   "source": [
    "7-~-4"
   ]
  },
  {
   "cell_type": "code",
   "execution_count": 149,
   "id": "8db7e73e",
   "metadata": {},
   "outputs": [
    {
     "data": {
      "text/plain": [
       "3"
      ]
     },
     "execution_count": 149,
     "metadata": {},
     "output_type": "execute_result"
    }
   ],
   "source": [
    "7-4"
   ]
  },
  {
   "cell_type": "code",
   "execution_count": 155,
   "id": "ecca168f",
   "metadata": {},
   "outputs": [
    {
     "name": "stdout",
     "output_type": "stream",
     "text": [
      "17\n",
      "0\n",
      "14\n"
     ]
    }
   ],
   "source": [
    "# %는 mod 연산이다.\n",
    "print(-3%20); print(-5%5); print(-37%17)"
   ]
  },
  {
   "cell_type": "code",
   "execution_count": 160,
   "id": "7ed011c7",
   "metadata": {},
   "outputs": [],
   "source": [
    "# 리스트 slicing에 할당하기 - 건너 뛰며 할당도 가능\n",
    "a = [1]*10\n",
    "a[1:-3:3] = [0]*2"
   ]
  },
  {
   "cell_type": "code",
   "execution_count": 161,
   "id": "338aa3a3",
   "metadata": {},
   "outputs": [
    {
     "data": {
      "text/plain": [
       "[1, 0, 1, 1, 0, 1, 1, 1, 1, 1]"
      ]
     },
     "execution_count": 161,
     "metadata": {},
     "output_type": "execute_result"
    }
   ],
   "source": [
    "a"
   ]
  },
  {
   "cell_type": "code",
   "execution_count": 167,
   "id": "b7a46bf7",
   "metadata": {},
   "outputs": [],
   "source": [
    "a = [1]*10\n",
    "a[1:-3:3] = {0,2}"
   ]
  },
  {
   "cell_type": "code",
   "execution_count": 168,
   "id": "d6d23d31",
   "metadata": {},
   "outputs": [
    {
     "data": {
      "text/plain": [
       "[1, 0, 1, 1, 2, 1, 1, 1, 1, 1]"
      ]
     },
     "execution_count": 168,
     "metadata": {},
     "output_type": "execute_result"
    }
   ],
   "source": [
    "a"
   ]
  },
  {
   "cell_type": "code",
   "execution_count": 207,
   "id": "089bb7d1",
   "metadata": {},
   "outputs": [
    {
     "data": {
      "text/plain": [
       "51"
      ]
     },
     "execution_count": 207,
     "metadata": {},
     "output_type": "execute_result"
    }
   ],
   "source": [
    "# 두 수 사이에 포함된 정수의 갯수 a-~-b (a>b)\n",
    "150 -~- 100"
   ]
  },
  {
   "cell_type": "code",
   "execution_count": 204,
   "id": "6b5db75c",
   "metadata": {},
   "outputs": [
    {
     "data": {
      "text/plain": [
       "101"
      ]
     },
     "execution_count": 204,
     "metadata": {},
     "output_type": "execute_result"
    }
   ],
   "source": [
    "-~ 100"
   ]
  },
  {
   "cell_type": "code",
   "execution_count": 229,
   "id": "edaea627",
   "metadata": {},
   "outputs": [
    {
     "data": {
      "text/plain": [
       "97"
      ]
     },
     "execution_count": 229,
     "metadata": {},
     "output_type": "execute_result"
    }
   ],
   "source": [
    "~ (-98)"
   ]
  },
  {
   "cell_type": "code",
   "execution_count": 230,
   "id": "060ca181",
   "metadata": {},
   "outputs": [
    {
     "data": {
      "text/plain": [
       "-99"
      ]
     },
     "execution_count": 230,
     "metadata": {},
     "output_type": "execute_result"
    }
   ],
   "source": [
    "~ (98)"
   ]
  },
  {
   "cell_type": "code",
   "execution_count": 231,
   "id": "b0c634c1",
   "metadata": {},
   "outputs": [
    {
     "data": {
      "text/plain": [
       "98"
      ]
     },
     "execution_count": 231,
     "metadata": {},
     "output_type": "execute_result"
    }
   ],
   "source": [
    "~~98"
   ]
  },
  {
   "cell_type": "code",
   "execution_count": null,
   "id": "d0de3df6",
   "metadata": {},
   "outputs": [],
   "source": []
  }
 ],
 "metadata": {
  "kernelspec": {
   "display_name": "Python 3",
   "language": "python",
   "name": "python3"
  },
  "language_info": {
   "codemirror_mode": {
    "name": "ipython",
    "version": 3
   },
   "file_extension": ".py",
   "mimetype": "text/x-python",
   "name": "python",
   "nbconvert_exporter": "python",
   "pygments_lexer": "ipython3",
   "version": "3.8.8"
  },
  "toc": {
   "base_numbering": 1,
   "nav_menu": {},
   "number_sections": true,
   "sideBar": true,
   "skip_h1_title": false,
   "title_cell": "Table of Contents",
   "title_sidebar": "Contents",
   "toc_cell": false,
   "toc_position": {},
   "toc_section_display": true,
   "toc_window_display": false
  }
 },
 "nbformat": 4,
 "nbformat_minor": 5
}
