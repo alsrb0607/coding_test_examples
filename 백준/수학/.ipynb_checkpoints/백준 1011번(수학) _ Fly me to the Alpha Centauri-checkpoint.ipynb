{
 "cells": [
  {
   "cell_type": "code",
   "execution_count": 4,
   "id": "e9d37968",
   "metadata": {},
   "outputs": [
    {
     "name": "stdout",
     "output_type": "stream",
     "text": [
      "1\n",
      "0 9999999999999\n",
      "6324555\n"
     ]
    }
   ],
   "source": [
    "n=int(input())\n",
    "def f(m):\n",
    "    k=int(m**(0.5))\n",
    "    kk= k**2\n",
    "    if m==kk:\n",
    "        return 2*k-1\n",
    "    elif m>kk+k:\n",
    "        return 2*k+1\n",
    "    else:\n",
    "        return 2*k\n",
    "    \n",
    "for _ in range(n):\n",
    "    a,b = map(int, input().split())\n",
    "    print(f(b-a))"
   ]
  },
  {
   "cell_type": "code",
   "execution_count": null,
   "id": "66dad0f9",
   "metadata": {},
   "outputs": [],
   "source": []
  }
 ],
 "metadata": {
  "kernelspec": {
   "display_name": "Python 3",
   "language": "python",
   "name": "python3"
  },
  "language_info": {
   "codemirror_mode": {
    "name": "ipython",
    "version": 3
   },
   "file_extension": ".py",
   "mimetype": "text/x-python",
   "name": "python",
   "nbconvert_exporter": "python",
   "pygments_lexer": "ipython3",
   "version": "3.8.8"
  },
  "toc": {
   "base_numbering": 1,
   "nav_menu": {},
   "number_sections": true,
   "sideBar": true,
   "skip_h1_title": false,
   "title_cell": "Table of Contents",
   "title_sidebar": "Contents",
   "toc_cell": false,
   "toc_position": {},
   "toc_section_display": true,
   "toc_window_display": false
  }
 },
 "nbformat": 4,
 "nbformat_minor": 5
}
