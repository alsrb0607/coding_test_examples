{
 "cells": [
  {
   "cell_type": "code",
   "execution_count": 33,
   "id": "974e5e7e",
   "metadata": {},
   "outputs": [
    {
     "name": "stdout",
     "output_type": "stream",
     "text": [
      "1000\n",
      "228875\n"
     ]
    }
   ],
   "source": [
    "# 피보나치 수 3\n",
    "import sys  \n",
    "sys.setrecursionlimit(10**6)\n",
    "d={0:0,1:1,2:1}\n",
    "def f(n):\n",
    "    if n in d:\n",
    "        return d[n]\n",
    "    else:\n",
    "        if n%2==0:\n",
    "            k = n//2\n",
    "            d[n] = (f(k)*(2*f(k-1)+f(k))) % 1000000\n",
    "            return d[n]\n",
    "        else:\n",
    "            k = (n+1)//2\n",
    "            d[n] = (f(k)**2 + f(k-1)**2) % 1000000\n",
    "            return d[n]\n",
    "print(f(int(input())))"
   ]
  },
  {
   "cell_type": "code",
   "execution_count": 32,
   "id": "2d6c32ea",
   "metadata": {},
   "outputs": [
    {
     "name": "stdout",
     "output_type": "stream",
     "text": [
      "1000\n",
      "517691607\n"
     ]
    }
   ],
   "source": [
    "# 피보나치 수 6\n",
    "import sys  \n",
    "sys.setrecursionlimit(10**6)\n",
    "d={0:0,1:1,2:1}\n",
    "def f(n):\n",
    "    if n in d:\n",
    "        return d[n]\n",
    "    else:\n",
    "        if n%2==0:\n",
    "            k = n//2\n",
    "            d[n] = (f(k)*(2*f(k-1)+f(k))) % 1000000007\n",
    "            return d[n]\n",
    "        else:\n",
    "            k = (n+1)//2\n",
    "            d[n] = (f(k)**2 + f(k-1)**2) % 1000000007\n",
    "            return d[n]\n",
    "print(f(int(input())))"
   ]
  },
  {
   "cell_type": "code",
   "execution_count": 31,
   "id": "3b7f3995",
   "metadata": {},
   "outputs": [
    {
     "data": {
      "text/plain": [
       "{0: 0,\n",
       " 1: 1,\n",
       " 2: 1,\n",
       " 4: 3,\n",
       " 3: 2,\n",
       " 8: 5,\n",
       " 7: 13,\n",
       " 16: 33,\n",
       " 15: 194,\n",
       " 32: 215,\n",
       " 31: 38725,\n",
       " 63: 2178,\n",
       " 6: 8,\n",
       " 14: 221,\n",
       " 30: 42680,\n",
       " 62: 514650918,\n",
       " 125: 499671843,\n",
       " 61: 321208004,\n",
       " 124: 257503849,\n",
       " 250: 104649552,\n",
       " 249: 724970190,\n",
       " 500: 29557310,\n",
       " 499: 366703697,\n",
       " 1000: 542453016}"
      ]
     },
     "execution_count": 31,
     "metadata": {},
     "output_type": "execute_result"
    }
   ],
   "source": [
    "d"
   ]
  },
  {
   "cell_type": "code",
   "execution_count": 22,
   "id": "bea4f9df",
   "metadata": {},
   "outputs": [
    {
     "data": {
      "text/plain": [
       "48214575"
      ]
     },
     "execution_count": 22,
     "metadata": {},
     "output_type": "execute_result"
    }
   ],
   "source": [
    "f(100000000000)"
   ]
  },
  {
   "cell_type": "code",
   "execution_count": 18,
   "id": "6c0b8b0b",
   "metadata": {},
   "outputs": [
    {
     "name": "stdout",
     "output_type": "stream",
     "text": [
      "100000000000000\n",
      "264301918\n"
     ]
    }
   ],
   "source": [
    "def f_pow(n):\n",
    "    if n == 1:\n",
    "        return [[1,1],[1,0]]\n",
    "    else:\n",
    "        t = f_pow(int(n//2))\n",
    "        t2 = [[0,0],[0,0]]\n",
    "        t2[0][0] = (t[0][0] * t[0][0] + t[0][1] * t[1][0]) % 1000000007\n",
    "        t2[0][1] = (t[0][0] * t[0][1] + t[0][1] * t[1][1]) % 1000000007\n",
    "        t2[1][0] = (t[1][0] * t[0][0] + t[1][1] * t[1][0]) % 1000000007\n",
    "        t2[1][1] = (t[1][0] * t[0][1] + t[1][1] * t[1][1]) % 1000000007\n",
    "        if n&1:\n",
    "            t[0][0] = (t2[0][0] + t2[1][0]) % 1000000007\n",
    "            t[0][1] = (t2[0][1] + t2[1][1]) % 1000000007\n",
    "            t[1][0] = t2[0][0]\n",
    "            t[1][1] = t2[0][1]\n",
    "            return t\n",
    "        return t2\n",
    "\n",
    "n = int(input())\n",
    "\n",
    "t = f_pow(n)\n",
    "print(t[0][1])"
   ]
  },
  {
   "cell_type": "code",
   "execution_count": 40,
   "id": "8f91f676",
   "metadata": {},
   "outputs": [
    {
     "name": "stdout",
     "output_type": "stream",
     "text": [
      "1\n",
      "0\n",
      "1\n",
      "0\n",
      "1\n",
      "0\n",
      "1\n",
      "0\n",
      "1\n",
      "0\n",
      "1\n",
      "0\n",
      "1\n",
      "0\n",
      "1\n",
      "0\n",
      "1\n",
      "0\n",
      "1\n",
      "0\n"
     ]
    }
   ],
   "source": [
    "for k in range(1,21):\n",
    "    print(k&1)"
   ]
  },
  {
   "cell_type": "code",
   "execution_count": 44,
   "id": "23d0e09f",
   "metadata": {},
   "outputs": [
    {
     "data": {
      "text/plain": [
       "40"
      ]
     },
     "execution_count": 44,
     "metadata": {},
     "output_type": "execute_result"
    }
   ],
   "source": [
    "8|40"
   ]
  },
  {
   "cell_type": "code",
   "execution_count": null,
   "id": "b83ff7a4",
   "metadata": {},
   "outputs": [],
   "source": []
  }
 ],
 "metadata": {
  "kernelspec": {
   "display_name": "Python 3 (ipykernel)",
   "language": "python",
   "name": "python3"
  },
  "language_info": {
   "codemirror_mode": {
    "name": "ipython",
    "version": 3
   },
   "file_extension": ".py",
   "mimetype": "text/x-python",
   "name": "python",
   "nbconvert_exporter": "python",
   "pygments_lexer": "ipython3",
   "version": "3.8.0"
  },
  "toc": {
   "base_numbering": 1,
   "nav_menu": {},
   "number_sections": true,
   "sideBar": true,
   "skip_h1_title": false,
   "title_cell": "Table of Contents",
   "title_sidebar": "Contents",
   "toc_cell": false,
   "toc_position": {},
   "toc_section_display": true,
   "toc_window_display": false
  }
 },
 "nbformat": 4,
 "nbformat_minor": 5
}
