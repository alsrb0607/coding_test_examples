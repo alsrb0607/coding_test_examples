{
 "cells": [
  {
   "cell_type": "code",
   "execution_count": 23,
   "id": "de0a1d99",
   "metadata": {},
   "outputs": [
    {
     "name": "stdout",
     "output_type": "stream",
     "text": [
      "1 1 \n",
      "5 5\n",
      "7 3\n",
      "-1\n"
     ]
    }
   ],
   "source": [
    "a,b=map(int,input().split())\n",
    "c,d=map(int,input().split())\n",
    "e,f=map(int,input().split())\n",
    "if c-a==0:\n",
    "    if e-c==0:\n",
    "        print(0)\n",
    "    else:\n",
    "        print(1 if (e-c)*(d-b)<0 else -1)\n",
    "else:\n",
    "    if e-c==0:\n",
    "        print(1 if (c-a)*(f-d)>0 else -1)\n",
    "    else:\n",
    "        p=(d-b)/(c-a)\n",
    "        k = f-p*(e-a)-b\n",
    "        if p==(f-d)/(e-c):\n",
    "            print(0)\n",
    "        elif c-a>0:\n",
    "            print(1 if k>0 else -1)\n",
    "        else:\n",
    "            print(-1 if k>0 else 1)"
   ]
  },
  {
   "cell_type": "code",
   "execution_count": null,
   "id": "8d136ab7",
   "metadata": {},
   "outputs": [],
   "source": []
  }
 ],
 "metadata": {
  "kernelspec": {
   "display_name": "Python 3",
   "language": "python",
   "name": "python3"
  },
  "language_info": {
   "codemirror_mode": {
    "name": "ipython",
    "version": 3
   },
   "file_extension": ".py",
   "mimetype": "text/x-python",
   "name": "python",
   "nbconvert_exporter": "python",
   "pygments_lexer": "ipython3",
   "version": "3.8.8"
  },
  "toc": {
   "base_numbering": 1,
   "nav_menu": {},
   "number_sections": true,
   "sideBar": true,
   "skip_h1_title": false,
   "title_cell": "Table of Contents",
   "title_sidebar": "Contents",
   "toc_cell": false,
   "toc_position": {},
   "toc_section_display": true,
   "toc_window_display": false
  }
 },
 "nbformat": 4,
 "nbformat_minor": 5
}
