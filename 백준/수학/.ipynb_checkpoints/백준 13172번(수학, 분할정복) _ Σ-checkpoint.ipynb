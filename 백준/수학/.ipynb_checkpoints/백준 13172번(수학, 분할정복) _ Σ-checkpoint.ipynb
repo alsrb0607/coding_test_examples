{
 "cells": [
  {
   "cell_type": "code",
   "execution_count": 13,
   "id": "bc158c0b",
   "metadata": {},
   "outputs": [
    {
     "data": {
      "text/plain": [
       "1"
      ]
     },
     "execution_count": 13,
     "metadata": {},
     "output_type": "execute_result"
    }
   ],
   "source": [
    "-1000000007%3"
   ]
  },
  {
   "cell_type": "code",
   "execution_count": 45,
   "id": "c84787f1",
   "metadata": {},
   "outputs": [
    {
     "name": "stdout",
     "output_type": "stream",
     "text": [
      "1\n",
      "3 7\n",
      "333333338\n"
     ]
    }
   ],
   "source": [
    "n=int(input())\n",
    "answer = 0\n",
    "\n",
    "def mod(a,b):\n",
    "    import math\n",
    "    d = math.gcd(a,b)\n",
    "    a //= d; b //= d\n",
    "    def pow_(x,n):\n",
    "        if n==1:\n",
    "            return x\n",
    "        elif n%2==0:\n",
    "            return pow_(x,n//2)**2%1000000007\n",
    "        else:\n",
    "            return (pow_(x,n//2)**2*x)%1000000007\n",
    "    return (b * pow_(a,1000000005))%1000000007\n",
    "for _ in range(n):\n",
    "    a,b = map(int,input().split())\n",
    "    answer += mod(a,b)\n",
    "    answer %= 1000000007\n",
    "print(answer)"
   ]
  },
  {
   "cell_type": "code",
   "execution_count": null,
   "id": "9aa296e9",
   "metadata": {},
   "outputs": [],
   "source": []
  }
 ],
 "metadata": {
  "kernelspec": {
   "display_name": "Python 3 (ipykernel)",
   "language": "python",
   "name": "python3"
  },
  "language_info": {
   "codemirror_mode": {
    "name": "ipython",
    "version": 3
   },
   "file_extension": ".py",
   "mimetype": "text/x-python",
   "name": "python",
   "nbconvert_exporter": "python",
   "pygments_lexer": "ipython3",
   "version": "3.8.0"
  },
  "toc": {
   "base_numbering": 1,
   "nav_menu": {},
   "number_sections": true,
   "sideBar": true,
   "skip_h1_title": false,
   "title_cell": "Table of Contents",
   "title_sidebar": "Contents",
   "toc_cell": false,
   "toc_position": {},
   "toc_section_display": true,
   "toc_window_display": false
  }
 },
 "nbformat": 4,
 "nbformat_minor": 5
}
