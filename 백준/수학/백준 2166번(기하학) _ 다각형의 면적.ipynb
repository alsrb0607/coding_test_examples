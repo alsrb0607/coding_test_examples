{
 "cells": [
  {
   "cell_type": "code",
   "execution_count": null,
   "id": "2406dd9f",
   "metadata": {},
   "outputs": [],
   "source": [
    "n = int(input())\n",
    "a,b = map(int, input().split())\n",
    "g = []\n",
    "for _ in range(n-1):\n",
    "    x,y = map(int, input().split())\n",
    "    g.append((x-a,y-b))\n",
    "ans = 0\n",
    "for i in range(n-2):\n",
    "    ans += (g[i][0]*g[i+1][1] - g[i][1]*g[i+1][0])\n",
    "print(abs(ans)/2)"
   ]
  },
  {
   "cell_type": "code",
   "execution_count": 58,
   "id": "c69b0eea",
   "metadata": {},
   "outputs": [
    {
     "name": "stdout",
     "output_type": "stream",
     "text": [
      "4\n",
      "0 0\n",
      "10 0\n",
      "10 10\n",
      "0 10\n",
      "100.0\n"
     ]
    }
   ],
   "source": [
    "n = int(input())\n",
    "g = []\n",
    "for _ in range(n):\n",
    "    x,y = map(int, input().split())\n",
    "    g.append((x,y))\n",
    "g.append(g[0])\n",
    "ans = 0\n",
    "for i in range(n):\n",
    "    ans += (g[i][0]*g[i+1][1] - g[i][1]*g[i+1][0])\n",
    "print(abs(ans)/2)"
   ]
  },
  {
   "cell_type": "code",
   "execution_count": null,
   "id": "4dc01b65",
   "metadata": {},
   "outputs": [],
   "source": [
    "### 4922.5*2"
   ]
  },
  {
   "cell_type": "code",
   "execution_count": 30,
   "id": "2199381c",
   "metadata": {},
   "outputs": [
    {
     "data": {
      "text/plain": [
       "4922.5"
      ]
     },
     "execution_count": 30,
     "metadata": {},
     "output_type": "execute_result"
    }
   ],
   "source": [
    "(50*198-55)/2"
   ]
  },
  {
   "cell_type": "code",
   "execution_count": 54,
   "id": "5932f5f4",
   "metadata": {},
   "outputs": [
    {
     "data": {
      "text/plain": [
       "[(-1, -2), (1, -1)]"
      ]
     },
     "execution_count": 54,
     "metadata": {},
     "output_type": "execute_result"
    }
   ],
   "source": [
    "g"
   ]
  },
  {
   "cell_type": "code",
   "execution_count": 50,
   "id": "b51b2310",
   "metadata": {},
   "outputs": [
    {
     "data": {
      "text/plain": [
       "4.5"
      ]
     },
     "execution_count": 50,
     "metadata": {},
     "output_type": "execute_result"
    }
   ],
   "source": [
    "round(4.45,1)"
   ]
  },
  {
   "cell_type": "code",
   "execution_count": 53,
   "id": "e1a1e409",
   "metadata": {},
   "outputs": [
    {
     "data": {
      "text/plain": [
       "1"
      ]
     },
     "execution_count": 53,
     "metadata": {},
     "output_type": "execute_result"
    }
   ],
   "source": [
    "(1,2)[0]"
   ]
  },
  {
   "cell_type": "code",
   "execution_count": null,
   "id": "ca80ad21",
   "metadata": {},
   "outputs": [],
   "source": []
  }
 ],
 "metadata": {
  "kernelspec": {
   "display_name": "Python 3 (ipykernel)",
   "language": "python",
   "name": "python3"
  },
  "language_info": {
   "codemirror_mode": {
    "name": "ipython",
    "version": 3
   },
   "file_extension": ".py",
   "mimetype": "text/x-python",
   "name": "python",
   "nbconvert_exporter": "python",
   "pygments_lexer": "ipython3",
   "version": "3.8.0"
  },
  "toc": {
   "base_numbering": 1,
   "nav_menu": {},
   "number_sections": true,
   "sideBar": true,
   "skip_h1_title": false,
   "title_cell": "Table of Contents",
   "title_sidebar": "Contents",
   "toc_cell": false,
   "toc_position": {},
   "toc_section_display": true,
   "toc_window_display": false
  }
 },
 "nbformat": 4,
 "nbformat_minor": 5
}
