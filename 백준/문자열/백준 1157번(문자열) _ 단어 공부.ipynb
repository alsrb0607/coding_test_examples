{
 "cells": [
  {
   "cell_type": "code",
   "execution_count": 1,
   "id": "dd27e610",
   "metadata": {},
   "outputs": [
    {
     "name": "stdout",
     "output_type": "stream",
     "text": [
      "2\n",
      "3 ABC\n",
      "AAABBBCCC\n",
      "5 /HTP\n",
      "/////HHHHHTTTTTPPPPP\n"
     ]
    }
   ],
   "source": [
    "n = int(input())\n",
    "for _ in range(n):\n",
    "    a = ''\n",
    "    m,s = input().split()\n",
    "    for x in s:\n",
    "        a += x*int(m)\n",
    "    print(a)"
   ]
  },
  {
   "cell_type": "code",
   "execution_count": 18,
   "id": "9b84a6f2",
   "metadata": {},
   "outputs": [
    {
     "name": "stdout",
     "output_type": "stream",
     "text": [
      "Misisis\n",
      "?\n"
     ]
    }
   ],
   "source": [
    "from collections import Counter\n",
    "s = input().upper()\n",
    "c = Counter(s).most_common()\n",
    "if len(c)==1: print(c[0][0])\n",
    "elif c[0][1]==c[1][1]: print('?')\n",
    "else: print(c[0][0])"
   ]
  },
  {
   "cell_type": "code",
   "execution_count": 26,
   "id": "ead10beb",
   "metadata": {},
   "outputs": [
    {
     "name": "stdout",
     "output_type": "stream",
     "text": [
      "[1,2,1,2]\n",
      ",\n"
     ]
    }
   ],
   "source": [
    "from statistics import*\n",
    "try:t=mode(input().upper())\n",
    "except:t='?'\n",
    "print(t)"
   ]
  },
  {
   "cell_type": "code",
   "execution_count": 27,
   "id": "25b299a7",
   "metadata": {},
   "outputs": [
    {
     "data": {
      "text/plain": [
       "1"
      ]
     },
     "execution_count": 27,
     "metadata": {},
     "output_type": "execute_result"
    }
   ],
   "source": [
    "mode([1,2,1,2])"
   ]
  },
  {
   "cell_type": "code",
   "execution_count": 28,
   "id": "c80c25e9",
   "metadata": {},
   "outputs": [
    {
     "data": {
      "text/plain": [
       "2"
      ]
     },
     "execution_count": 28,
     "metadata": {},
     "output_type": "execute_result"
    }
   ],
   "source": [
    "mode([2,1,2,1])"
   ]
  },
  {
   "cell_type": "code",
   "execution_count": null,
   "id": "ad4beb5e",
   "metadata": {},
   "outputs": [],
   "source": []
  }
 ],
 "metadata": {
  "kernelspec": {
   "display_name": "Python 3",
   "language": "python",
   "name": "python3"
  },
  "language_info": {
   "codemirror_mode": {
    "name": "ipython",
    "version": 3
   },
   "file_extension": ".py",
   "mimetype": "text/x-python",
   "name": "python",
   "nbconvert_exporter": "python",
   "pygments_lexer": "ipython3",
   "version": "3.8.8"
  },
  "toc": {
   "base_numbering": 1,
   "nav_menu": {},
   "number_sections": true,
   "sideBar": true,
   "skip_h1_title": false,
   "title_cell": "Table of Contents",
   "title_sidebar": "Contents",
   "toc_cell": false,
   "toc_position": {},
   "toc_section_display": true,
   "toc_window_display": false
  }
 },
 "nbformat": 4,
 "nbformat_minor": 5
}
