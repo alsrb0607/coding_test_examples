{
 "cells": [
  {
   "cell_type": "code",
   "execution_count": 8,
   "id": "86453142",
   "metadata": {},
   "outputs": [
    {
     "name": "stdout",
     "output_type": "stream",
     "text": [
      "4\n",
      "a\n",
      "aba\n",
      "abab\n",
      "abcabc\n",
      "1\n"
     ]
    }
   ],
   "source": [
    "n = int(input())\n",
    "def g(s):\n",
    "    d=dict()\n",
    "    for i, x in enumerate((s:=' ' + s)):\n",
    "        if x not in d:\n",
    "            d[x] = 1\n",
    "        elif (x in d) and s[i-1]==x: pass\n",
    "        else: return 0\n",
    "    return 1\n",
    "answer = 0\n",
    "for _ in range(n):\n",
    "    answer += g(input())\n",
    "print(answer)"
   ]
  },
  {
   "cell_type": "code",
   "execution_count": 13,
   "id": "edac57f9",
   "metadata": {},
   "outputs": [
    {
     "name": "stdout",
     "output_type": "stream",
     "text": [
      "1\n",
      "happy\n",
      "1\n"
     ]
    }
   ],
   "source": [
    "n = int(input())\n",
    "answer = 0\n",
    "def g(s):\n",
    "    return list(s)==sorted(s,key=s.find)\n",
    "for _ in range(n):\n",
    "    answer += g(input())\n",
    "print(answer)"
   ]
  },
  {
   "cell_type": "code",
   "execution_count": 14,
   "id": "708e324f",
   "metadata": {},
   "outputs": [
    {
     "data": {
      "text/plain": [
       "['h', 'a', 'p', 'p', 'y', 'd', 'o', 'g', 'a']"
      ]
     },
     "execution_count": 14,
     "metadata": {},
     "output_type": "execute_result"
    }
   ],
   "source": [
    "list('happydoga')"
   ]
  },
  {
   "cell_type": "code",
   "execution_count": 16,
   "id": "472f3732",
   "metadata": {},
   "outputs": [
    {
     "data": {
      "text/plain": [
       "['h', 'a', 'a', 'p', 'p', 'y', 'd', 'o', 'g']"
      ]
     },
     "execution_count": 16,
     "metadata": {},
     "output_type": "execute_result"
    }
   ],
   "source": [
    "sorted((s:=\"happydoga\"),key=s.find)"
   ]
  },
  {
   "cell_type": "code",
   "execution_count": null,
   "id": "5c85b464",
   "metadata": {},
   "outputs": [],
   "source": []
  }
 ],
 "metadata": {
  "kernelspec": {
   "display_name": "Python 3",
   "language": "python",
   "name": "python3"
  },
  "language_info": {
   "codemirror_mode": {
    "name": "ipython",
    "version": 3
   },
   "file_extension": ".py",
   "mimetype": "text/x-python",
   "name": "python",
   "nbconvert_exporter": "python",
   "pygments_lexer": "ipython3",
   "version": "3.8.8"
  },
  "toc": {
   "base_numbering": 1,
   "nav_menu": {},
   "number_sections": true,
   "sideBar": true,
   "skip_h1_title": false,
   "title_cell": "Table of Contents",
   "title_sidebar": "Contents",
   "toc_cell": false,
   "toc_position": {},
   "toc_section_display": true,
   "toc_window_display": false
  }
 },
 "nbformat": 4,
 "nbformat_minor": 5
}
