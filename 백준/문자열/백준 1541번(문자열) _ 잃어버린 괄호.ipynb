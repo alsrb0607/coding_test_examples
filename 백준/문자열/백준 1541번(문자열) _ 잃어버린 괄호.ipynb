{
 "cells": [
  {
   "cell_type": "code",
   "execution_count": 20,
   "id": "52de611d",
   "metadata": {},
   "outputs": [
    {
     "name": "stdout",
     "output_type": "stream",
     "text": [
      "00909-09090\n",
      "909-9090\n",
      "-8181\n"
     ]
    }
   ],
   "source": [
    "import re\n",
    "a = input()\n",
    "x = re.compile('[0-9]+')\n",
    "tmp = re.findall(x,a)\n",
    "for s in tmp:\n",
    "    a = re.sub(s,s.lstrip('0'),a)\n",
    "for i in range(len(a)):\n",
    "    if a[i]== '-':\n",
    "        a = a[:i]+a[i:].replace('+','-')\n",
    "print(eval(a))"
   ]
  },
  {
   "cell_type": "code",
   "execution_count": 21,
   "id": "2ab970bb",
   "metadata": {},
   "outputs": [
    {
     "data": {
      "text/plain": [
       "['00909', '09090']"
      ]
     },
     "execution_count": 21,
     "metadata": {},
     "output_type": "execute_result"
    }
   ],
   "source": [
    "tmp"
   ]
  },
  {
   "cell_type": "code",
   "execution_count": 20,
   "id": "97e7e053",
   "metadata": {},
   "outputs": [],
   "source": [
    "x = re.compile('0+[1-9]+')"
   ]
  },
  {
   "cell_type": "code",
   "execution_count": 21,
   "id": "3b9e2110",
   "metadata": {},
   "outputs": [
    {
     "data": {
      "text/plain": [
       "['099', '00009']"
      ]
     },
     "execution_count": 21,
     "metadata": {},
     "output_type": "execute_result"
    }
   ],
   "source": [
    "re.findall(x,'099-00009')"
   ]
  },
  {
   "cell_type": "code",
   "execution_count": 22,
   "id": "226ac889",
   "metadata": {},
   "outputs": [
    {
     "data": {
      "text/plain": [
       "'9'"
      ]
     },
     "execution_count": 22,
     "metadata": {},
     "output_type": "execute_result"
    }
   ],
   "source": [
    "'009'.strip('0')"
   ]
  },
  {
   "cell_type": "code",
   "execution_count": 24,
   "id": "023cadb7",
   "metadata": {},
   "outputs": [
    {
     "data": {
      "text/plain": [
       "'9'"
      ]
     },
     "execution_count": 24,
     "metadata": {},
     "output_type": "execute_result"
    }
   ],
   "source": [
    "re.sub('099','9','099')"
   ]
  },
  {
   "cell_type": "code",
   "execution_count": 1,
   "id": "fdd85bc8",
   "metadata": {},
   "outputs": [
    {
     "ename": "AttributeError",
     "evalue": "module 're' has no attribute 'lstrip'",
     "output_type": "error",
     "traceback": [
      "\u001b[1;31m---------------------------------------------------------------------------\u001b[0m",
      "\u001b[1;31mAttributeError\u001b[0m                            Traceback (most recent call last)",
      "\u001b[1;32m<ipython-input-1-62e425698337>\u001b[0m in \u001b[0;36m<module>\u001b[1;34m\u001b[0m\n\u001b[0;32m      1\u001b[0m \u001b[1;32mimport\u001b[0m \u001b[0mre\u001b[0m\u001b[1;33m\u001b[0m\u001b[1;33m\u001b[0m\u001b[0m\n\u001b[1;32m----> 2\u001b[1;33m \u001b[0mre\u001b[0m\u001b[1;33m.\u001b[0m\u001b[0mlstrip\u001b[0m\u001b[1;33m\u001b[0m\u001b[1;33m\u001b[0m\u001b[0m\n\u001b[0m",
      "\u001b[1;31mAttributeError\u001b[0m: module 're' has no attribute 'lstrip'"
     ]
    }
   ],
   "source": [
    "import re\n",
    "re.lstrip"
   ]
  },
  {
   "cell_type": "code",
   "execution_count": null,
   "id": "b382b7af",
   "metadata": {},
   "outputs": [],
   "source": []
  }
 ],
 "metadata": {
  "kernelspec": {
   "display_name": "Python 3",
   "language": "python",
   "name": "python3"
  },
  "language_info": {
   "codemirror_mode": {
    "name": "ipython",
    "version": 3
   },
   "file_extension": ".py",
   "mimetype": "text/x-python",
   "name": "python",
   "nbconvert_exporter": "python",
   "pygments_lexer": "ipython3",
   "version": "3.8.8"
  },
  "toc": {
   "base_numbering": 1,
   "nav_menu": {},
   "number_sections": true,
   "sideBar": true,
   "skip_h1_title": false,
   "title_cell": "Table of Contents",
   "title_sidebar": "Contents",
   "toc_cell": false,
   "toc_position": {},
   "toc_section_display": true,
   "toc_window_display": false
  }
 },
 "nbformat": 4,
 "nbformat_minor": 5
}
