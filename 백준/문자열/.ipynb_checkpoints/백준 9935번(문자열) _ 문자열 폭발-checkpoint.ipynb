{
 "cells": [
  {
   "cell_type": "code",
   "execution_count": 1,
   "id": "ac067da7",
   "metadata": {},
   "outputs": [
    {
     "data": {
      "text/plain": [
       "'mirkovnizC4'"
      ]
     },
     "execution_count": 1,
     "metadata": {},
     "output_type": "execute_result"
    }
   ],
   "source": [
    "'mirkovC4nizCC44'.replace('C4','')"
   ]
  },
  {
   "cell_type": "code",
   "execution_count": 7,
   "id": "36cc559d",
   "metadata": {},
   "outputs": [
    {
     "name": "stdout",
     "output_type": "stream",
     "text": [
      "12ab112ab2ab\n",
      "12ab\n",
      "FRULA\n"
     ]
    }
   ],
   "source": [
    "# 시간초과 (1)\n",
    "import re\n",
    "s=input()\n",
    "k=input()\n",
    "kk = re.compile(k)\n",
    "while k in s:\n",
    "    s=re.sub(kk,'',s)\n",
    "print(s) if s else print('FRULA')"
   ]
  },
  {
   "cell_type": "code",
   "execution_count": null,
   "id": "425ef2b4",
   "metadata": {},
   "outputs": [],
   "source": [
    "# 시간초과 (2)\n",
    "s=input()\n",
    "k=input()\n",
    "n=len(k); stack=[]; kk=list(k)\n",
    "for x in s:\n",
    "    stack.append(x)\n",
    "    if stack[-n:]==kk:\n",
    "        stack = stack[:-n]\n",
    "print(''.join(stack)) if stack else print('FRULA')"
   ]
  },
  {
   "cell_type": "code",
   "execution_count": 20,
   "id": "1b5897bf",
   "metadata": {},
   "outputs": [
    {
     "name": "stdout",
     "output_type": "stream",
     "text": [
      "mirkovC4nizCC44\n",
      "C4\n",
      "mirkovniz\n"
     ]
    }
   ],
   "source": [
    "# 통과\n",
    "s=input()\n",
    "k=input()\n",
    "n=len(k); stack=[]; kk=list(k)\n",
    "for x in s:\n",
    "    stack.append(x)\n",
    "    if stack[-n:]==kk:\n",
    "        del stack[-n:]\n",
    "print(''.join(stack)) if stack else print('FRULA')"
   ]
  },
  {
   "cell_type": "code",
   "execution_count": null,
   "id": "56055322",
   "metadata": {},
   "outputs": [],
   "source": []
  }
 ],
 "metadata": {
  "kernelspec": {
   "display_name": "Python 3",
   "language": "python",
   "name": "python3"
  },
  "language_info": {
   "codemirror_mode": {
    "name": "ipython",
    "version": 3
   },
   "file_extension": ".py",
   "mimetype": "text/x-python",
   "name": "python",
   "nbconvert_exporter": "python",
   "pygments_lexer": "ipython3",
   "version": "3.8.8"
  },
  "toc": {
   "base_numbering": 1,
   "nav_menu": {},
   "number_sections": true,
   "sideBar": true,
   "skip_h1_title": false,
   "title_cell": "Table of Contents",
   "title_sidebar": "Contents",
   "toc_cell": false,
   "toc_position": {},
   "toc_section_display": true,
   "toc_window_display": false
  }
 },
 "nbformat": 4,
 "nbformat_minor": 5
}
