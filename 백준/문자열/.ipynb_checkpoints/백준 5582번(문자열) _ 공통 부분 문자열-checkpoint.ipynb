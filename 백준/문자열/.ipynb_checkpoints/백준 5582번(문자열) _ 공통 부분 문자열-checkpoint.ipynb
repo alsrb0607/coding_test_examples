{
 "cells": [
  {
   "cell_type": "code",
   "execution_count": 24,
   "id": "05b1b3e8",
   "metadata": {},
   "outputs": [
    {
     "name": "stdout",
     "output_type": "stream",
     "text": [
      "ECADADABRBCRDARA\n",
      "ABRACADABRA\n",
      "ABRA\n",
      "CADAB\n",
      "ADABRA\n",
      "6\n"
     ]
    }
   ],
   "source": [
    "s = [input(),input()]\n",
    "s.sort(key=len)\n",
    "x = s[0]; y=s[1]\n",
    "num = 0; k=len(x)\n",
    "for i in range(k):\n",
    "    n = 0; tmp=''\n",
    "    while i+n<k:\n",
    "        tmp += x[i]\n",
    "        if tmp in y:\n",
    "            i+=1\n",
    "        else: break\n",
    "        n+=1\n",
    "    if n>num:\n",
    "        num = n\n",
    "print(num)"
   ]
  },
  {
   "cell_type": "code",
   "execution_count": 19,
   "id": "fb545465",
   "metadata": {},
   "outputs": [
    {
     "data": {
      "text/plain": [
       "[1, 1, 1, 1, 1, 1, 1, 1, 1, 1, 1, 1, 1, 1]"
      ]
     },
     "execution_count": 19,
     "metadata": {},
     "output_type": "execute_result"
    }
   ],
   "source": [
    "import sys\n",
    "input = sys.stdin.readline\n",
    " \n",
    "A = input().rstrip()\n",
    "B = input().rstrip()\n",
    " \n",
    "result = 0\n",
    "arr = [[0]*(len(B)+1) for _ in range(len(A)+1)]\n",
    "for i in range(1, len(A)+1):\n",
    "    for j in range(1, len(B)+1):\n",
    "        if A[i-1] == B[j-1]:\n",
    "            arr[i][j] = arr[i-1][j-1] + 1\n",
    "            result = max(arr[i][j], result)\n",
    "print(result)"
   ]
  },
  {
   "cell_type": "code",
   "execution_count": null,
   "id": "c1341ee9",
   "metadata": {},
   "outputs": [],
   "source": []
  }
 ],
 "metadata": {
  "kernelspec": {
   "display_name": "Python 3",
   "language": "python",
   "name": "python3"
  },
  "language_info": {
   "codemirror_mode": {
    "name": "ipython",
    "version": 3
   },
   "file_extension": ".py",
   "mimetype": "text/x-python",
   "name": "python",
   "nbconvert_exporter": "python",
   "pygments_lexer": "ipython3",
   "version": "3.8.8"
  },
  "toc": {
   "base_numbering": 1,
   "nav_menu": {},
   "number_sections": true,
   "sideBar": true,
   "skip_h1_title": false,
   "title_cell": "Table of Contents",
   "title_sidebar": "Contents",
   "toc_cell": false,
   "toc_position": {},
   "toc_section_display": true,
   "toc_window_display": false
  }
 },
 "nbformat": 4,
 "nbformat_minor": 5
}
