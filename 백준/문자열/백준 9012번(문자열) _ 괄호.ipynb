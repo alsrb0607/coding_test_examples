{
 "cells": [
  {
   "cell_type": "code",
   "execution_count": 3,
   "id": "4ac4c5a1",
   "metadata": {},
   "outputs": [
    {
     "name": "stdout",
     "output_type": "stream",
     "text": [
      "3\n",
      "((\n",
      "NO\n",
      "))\n",
      "NO\n",
      "())(()\n",
      "NO\n"
     ]
    }
   ],
   "source": [
    "n=int(input())\n",
    "for _ in range(n):\n",
    "    s=input(); tmp = []\n",
    "    for x in s:\n",
    "        if not tmp:tmp.append(x)\n",
    "        elif (tmp[-1]==\"(\") and x == ')': tmp.pop()\n",
    "        else: tmp.append(x)\n",
    "    if tmp: print(\"NO\")\n",
    "    else: print(\"YES\")"
   ]
  },
  {
   "cell_type": "code",
   "execution_count": null,
   "id": "6a6f2892",
   "metadata": {},
   "outputs": [],
   "source": []
  }
 ],
 "metadata": {
  "kernelspec": {
   "display_name": "Python 3",
   "language": "python",
   "name": "python3"
  },
  "language_info": {
   "codemirror_mode": {
    "name": "ipython",
    "version": 3
   },
   "file_extension": ".py",
   "mimetype": "text/x-python",
   "name": "python",
   "nbconvert_exporter": "python",
   "pygments_lexer": "ipython3",
   "version": "3.8.8"
  },
  "toc": {
   "base_numbering": 1,
   "nav_menu": {},
   "number_sections": true,
   "sideBar": true,
   "skip_h1_title": false,
   "title_cell": "Table of Contents",
   "title_sidebar": "Contents",
   "toc_cell": false,
   "toc_position": {},
   "toc_section_display": true,
   "toc_window_display": false
  }
 },
 "nbformat": 4,
 "nbformat_minor": 5
}
