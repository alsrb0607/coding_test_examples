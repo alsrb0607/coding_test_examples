{
 "cells": [
  {
   "cell_type": "code",
   "execution_count": 8,
   "id": "c9471a15",
   "metadata": {},
   "outputs": [
    {
     "name": "stdout",
     "output_type": "stream",
     "text": [
      "24\n",
      "                       *                       \n",
      "                      * *                      \n",
      "                     *****                     \n",
      "                    *     *                    \n",
      "                   * *   * *                   \n",
      "                  ***** *****                  \n",
      "                 *           *                 \n",
      "                * *         * *                \n",
      "               *****       *****               \n",
      "              *     *     *     *              \n",
      "             * *   * *   * *   * *             \n",
      "            ***** ***** ***** *****            \n",
      "           *                       *           \n",
      "          * *                     * *          \n",
      "         *****                   *****         \n",
      "        *     *                 *     *        \n",
      "       * *   * *               * *   * *       \n",
      "      ***** *****             ***** *****      \n",
      "     *           *           *           *     \n",
      "    * *         * *         * *         * *    \n",
      "   *****       *****       *****       *****   \n",
      "  *     *     *     *     *     *     *     *  \n",
      " * *   * *   * *   * *   * *   * *   * *   * * \n",
      "***** ***** ***** ***** ***** ***** ***** *****\n"
     ]
    }
   ],
   "source": [
    "# 별찍기 11\n",
    "n = int(input())\n",
    "d= {3:['  *  ',' * * ','*****']}\n",
    "def answer(n):\n",
    "    if n ==3:\n",
    "        return d[3]\n",
    "    else:\n",
    "        if n not in d:\n",
    "            a = answer(n//2)\n",
    "            d[n] = [' '*(n//2)+x+' '*(n//2) for x in a] + [x+' '+x for x in a]\n",
    "        return d[n]\n",
    "\n",
    "print(*answer(n), sep = '\\n')"
   ]
  },
  {
   "cell_type": "code",
   "execution_count": 12,
   "id": "7332e8e7",
   "metadata": {},
   "outputs": [
    {
     "name": "stdout",
     "output_type": "stream",
     "text": [
      "12\n",
      "           *            \n",
      "          * *           \n",
      "         *****          \n",
      "        *     *         \n",
      "       * *   * *        \n",
      "      ***** *****       \n",
      "     *           *      \n",
      "    * *         * *     \n",
      "   *****       *****    \n",
      "  *     *     *     *   \n",
      " * *   * *   * *   * *  \n",
      "***** ***** ***** ***** \n"
     ]
    }
   ],
   "source": [
    "N=int(input())\n",
    "r=['*','* *','*'*5]\n",
    "i=6\n",
    "while i<=N:\n",
    "    r+=[s + s.rjust(i) for s in r]\n",
    "    i*=2\n",
    "for s in r:\n",
    "    print(s.center(i))"
   ]
  },
  {
   "cell_type": "code",
   "execution_count": null,
   "id": "f71a60e4",
   "metadata": {},
   "outputs": [],
   "source": []
  }
 ],
 "metadata": {
  "kernelspec": {
   "display_name": "Python 3 (ipykernel)",
   "language": "python",
   "name": "python3"
  },
  "language_info": {
   "codemirror_mode": {
    "name": "ipython",
    "version": 3
   },
   "file_extension": ".py",
   "mimetype": "text/x-python",
   "name": "python",
   "nbconvert_exporter": "python",
   "pygments_lexer": "ipython3",
   "version": "3.8.0"
  },
  "toc": {
   "base_numbering": 1,
   "nav_menu": {},
   "number_sections": true,
   "sideBar": true,
   "skip_h1_title": false,
   "title_cell": "Table of Contents",
   "title_sidebar": "Contents",
   "toc_cell": false,
   "toc_position": {},
   "toc_section_display": true,
   "toc_window_display": false
  }
 },
 "nbformat": 4,
 "nbformat_minor": 5
}
