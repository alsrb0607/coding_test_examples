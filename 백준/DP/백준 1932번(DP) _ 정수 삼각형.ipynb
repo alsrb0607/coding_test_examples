{
 "cells": [
  {
   "cell_type": "code",
   "execution_count": 6,
   "id": "a3cf4dc3",
   "metadata": {},
   "outputs": [
    {
     "name": "stdout",
     "output_type": "stream",
     "text": [
      "5\n",
      "7\n",
      "3 8\n",
      "[7]\n",
      "[7]\n",
      "8 1 0\n",
      "[10, 15]\n",
      "[10, 15]\n",
      "[10, 15]\n",
      "2 7 4 4\n",
      "[18, 16, 15]\n",
      "[18, 16, 15]\n",
      "[18, 16, 15]\n",
      "[18, 16, 15]\n",
      "4 5 2 6 5\n",
      "[20, 25, 20, 19]\n",
      "[20, 25, 20, 19]\n",
      "[20, 25, 20, 19]\n",
      "[20, 25, 20, 19]\n",
      "[20, 25, 20, 19]\n"
     ]
    },
    {
     "data": {
      "text/plain": [
       "[24, 30, 27, 26, 24]"
      ]
     },
     "execution_count": 6,
     "metadata": {},
     "output_type": "execute_result"
    }
   ],
   "source": [
    "n=int(input())\n",
    "dp=[]\n",
    "for i in range(n):\n",
    "    t = list(map(int, input().split()))\n",
    "    if i ==0:\n",
    "        dp= t\n",
    "    else:\n",
    "        for j,m in enumerate(t):\n",
    "            if j==0: t[j]+=dp[j]\n",
    "            elif j==i: t[j]+=dp[-1]\n",
    "            else: t[j] += max(dp[j-1], dp[j])\n",
    "        dp = t\n",
    "print(max(dp))"
   ]
  },
  {
   "cell_type": "code",
   "execution_count": null,
   "id": "84e0e95e",
   "metadata": {},
   "outputs": [],
   "source": []
  }
 ],
 "metadata": {
  "kernelspec": {
   "display_name": "Python 3",
   "language": "python",
   "name": "python3"
  },
  "language_info": {
   "codemirror_mode": {
    "name": "ipython",
    "version": 3
   },
   "file_extension": ".py",
   "mimetype": "text/x-python",
   "name": "python",
   "nbconvert_exporter": "python",
   "pygments_lexer": "ipython3",
   "version": "3.8.8"
  },
  "toc": {
   "base_numbering": 1,
   "nav_menu": {},
   "number_sections": true,
   "sideBar": true,
   "skip_h1_title": false,
   "title_cell": "Table of Contents",
   "title_sidebar": "Contents",
   "toc_cell": false,
   "toc_position": {},
   "toc_section_display": true,
   "toc_window_display": false
  }
 },
 "nbformat": 4,
 "nbformat_minor": 5
}
