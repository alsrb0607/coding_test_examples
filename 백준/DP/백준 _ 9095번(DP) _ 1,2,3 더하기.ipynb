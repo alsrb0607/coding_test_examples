{
 "cells": [
  {
   "cell_type": "code",
   "execution_count": 19,
   "id": "739af5cd",
   "metadata": {},
   "outputs": [],
   "source": [
    "T = 4\n",
    "n = [4, 7, 10, 11]"
   ]
  },
  {
   "cell_type": "code",
   "execution_count": 20,
   "id": "c82dbbb9",
   "metadata": {},
   "outputs": [
    {
     "name": "stdout",
     "output_type": "stream",
     "text": [
      "7\n",
      "44\n",
      "274\n",
      "504\n"
     ]
    }
   ],
   "source": [
    "for i in range(T):\n",
    "    tmp = [1,1,2,4] + ((n[i] -3) * [0])\n",
    "    for j in range(4, n[i]+1):\n",
    "        tmp[j] += sum(tmp[j-3:j])\n",
    "    print(tmp[-1])"
   ]
  },
  {
   "cell_type": "code",
   "execution_count": null,
   "id": "e2133bcd",
   "metadata": {},
   "outputs": [],
   "source": [
    "import sys  \n",
    "T = input()  \n",
    "n = [int(sys.stdin.readline()) for i in range(n)]\n",
    "for i in range(T):\n",
    "    tmp = [1,1,2,4] + ((n[i] -3) * [0])\n",
    "    for j in range(4, n[i]+1):\n",
    "        tmp[j] += sum(tmp[j-3:j])\n",
    "    print(tmp[-1])"
   ]
  },
  {
   "cell_type": "code",
   "execution_count": 16,
   "id": "52548bbe",
   "metadata": {},
   "outputs": [],
   "source": [
    "import sys  \n",
    "T = list(map(int, sys.stdin.readlines()))    \n",
    "for n in T[1:]:\n",
    "    tmp = [1,1,2,4] + ((n -3) * [0])\n",
    "    for j in range(4, n+1):\n",
    "        tmp[j] += sum(tmp[j-3:j])\n",
    "    print(tmp[-1])"
   ]
  },
  {
   "cell_type": "code",
   "execution_count": 26,
   "id": "2bc1e86c",
   "metadata": {},
   "outputs": [
    {
     "data": {
      "text/plain": [
       "[]"
      ]
     },
     "execution_count": 26,
     "metadata": {},
     "output_type": "execute_result"
    }
   ],
   "source": [
    "list(map(int, sys.stdin.readlines()))"
   ]
  },
  {
   "cell_type": "code",
   "execution_count": 29,
   "id": "127a480f",
   "metadata": {},
   "outputs": [
    {
     "name": "stdout",
     "output_type": "stream",
     "text": [
      "3\n",
      "1\n",
      "1\n",
      "2\n",
      "2\n",
      "3\n",
      "4\n"
     ]
    }
   ],
   "source": [
    "# 정답\n",
    "T = int(input())\n",
    "for _ in range(T):\n",
    "    tmp = [1,1,2,4]\n",
    "    n = int(input())\n",
    "    if n <= 3:\n",
    "        print(tmp[n])\n",
    "    else:\n",
    "        tmp += ((n -3) * [0])\n",
    "        for j in range(4, n+1):\n",
    "            tmp[j] += sum(tmp[j-3:j])\n",
    "        print(tmp[-1])"
   ]
  },
  {
   "cell_type": "code",
   "execution_count": null,
   "id": "ed703e35",
   "metadata": {},
   "outputs": [],
   "source": []
  }
 ],
 "metadata": {
  "kernelspec": {
   "display_name": "Python 3",
   "language": "python",
   "name": "python3"
  },
  "language_info": {
   "codemirror_mode": {
    "name": "ipython",
    "version": 3
   },
   "file_extension": ".py",
   "mimetype": "text/x-python",
   "name": "python",
   "nbconvert_exporter": "python",
   "pygments_lexer": "ipython3",
   "version": "3.8.8"
  },
  "toc": {
   "base_numbering": 1,
   "nav_menu": {},
   "number_sections": true,
   "sideBar": true,
   "skip_h1_title": false,
   "title_cell": "Table of Contents",
   "title_sidebar": "Contents",
   "toc_cell": false,
   "toc_position": {},
   "toc_section_display": true,
   "toc_window_display": false
  }
 },
 "nbformat": 4,
 "nbformat_minor": 5
}
