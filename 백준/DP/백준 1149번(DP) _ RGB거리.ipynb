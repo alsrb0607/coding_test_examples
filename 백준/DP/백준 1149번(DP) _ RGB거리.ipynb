{
 "cells": [
  {
   "cell_type": "code",
   "execution_count": 14,
   "id": "d1bfee1c",
   "metadata": {},
   "outputs": [
    {
     "name": "stdout",
     "output_type": "stream",
     "text": [
      "10\n",
      "711 572 325 \n",
      "209 187 673 \n",
      "512 930 898 \n",
      "759 85 260 \n",
      "136 226 532 \n",
      "201 3 959 \n",
      "132 607 359 \n",
      "601 775 848 \n",
      "462 776 920 \n",
      "74 807 671 \n"
     ]
    },
    {
     "data": {
      "text/plain": [
       "3058"
      ]
     },
     "execution_count": 14,
     "metadata": {},
     "output_type": "execute_result"
    }
   ],
   "source": [
    "n=int(input())\n",
    "dp=[[0,0,0] for _ in range(n+1)]\n",
    "for k in range(1,n+1):\n",
    "    tmp= list(map(int, input().split()))\n",
    "    for i in range(3):\n",
    "        tmp[i] += min(dp[k-1][i-1], dp[k-1][i-2])\n",
    "    dp[k] = tmp\n",
    "print(min(dp[-1]))"
   ]
  },
  {
   "cell_type": "code",
   "execution_count": 15,
   "id": "015bc1a3",
   "metadata": {},
   "outputs": [
    {
     "data": {
      "text/plain": [
       "[[0, 0, 0],\n",
       " [711, 572, 325],\n",
       " [534, 512, 1245],\n",
       " [1024, 1464, 1410],\n",
       " [2169, 1109, 1284],\n",
       " [1245, 1510, 1641],\n",
       " [1711, 1248, 2204],\n",
       " [1380, 2318, 1607],\n",
       " [2208, 2155, 2228],\n",
       " [2617, 2984, 3075],\n",
       " [3058, 3424, 3288]]"
      ]
     },
     "execution_count": 15,
     "metadata": {},
     "output_type": "execute_result"
    }
   ],
   "source": [
    "dp"
   ]
  },
  {
   "cell_type": "code",
   "execution_count": null,
   "id": "bbe7a158",
   "metadata": {},
   "outputs": [],
   "source": []
  }
 ],
 "metadata": {
  "kernelspec": {
   "display_name": "Python 3",
   "language": "python",
   "name": "python3"
  },
  "language_info": {
   "codemirror_mode": {
    "name": "ipython",
    "version": 3
   },
   "file_extension": ".py",
   "mimetype": "text/x-python",
   "name": "python",
   "nbconvert_exporter": "python",
   "pygments_lexer": "ipython3",
   "version": "3.8.8"
  },
  "toc": {
   "base_numbering": 1,
   "nav_menu": {},
   "number_sections": true,
   "sideBar": true,
   "skip_h1_title": false,
   "title_cell": "Table of Contents",
   "title_sidebar": "Contents",
   "toc_cell": false,
   "toc_position": {},
   "toc_section_display": true,
   "toc_window_display": false
  }
 },
 "nbformat": 4,
 "nbformat_minor": 5
}
