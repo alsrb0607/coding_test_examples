{
 "cells": [
  {
   "cell_type": "code",
   "execution_count": 75,
   "id": "41411df4",
   "metadata": {},
   "outputs": [
    {
     "name": "stdout",
     "output_type": "stream",
     "text": [
      "10\n",
      "2 1 -4 3 4 -4 6 5 -5 1\n",
      "[2, 3, 0, 0, 0, 0, 0, 0, 0, 0]\n",
      "[2, 3, -1, 0, 0, 0, 0, 0, 0, 0]\n",
      "[2, 3, -1, 3, 0, 0, 0, 0, 0, 0]\n",
      "[2, 3, -1, 3, 7, 0, 0, 0, 0, 0]\n",
      "[2, 3, -1, 3, 7, 3, 0, 0, 0, 0]\n",
      "[2, 3, -1, 3, 7, 3, 9, 0, 0, 0]\n",
      "[2, 3, -1, 3, 7, 3, 9, 14, 0, 0]\n",
      "[2, 3, -1, 3, 7, 3, 9, 14, 9, 0]\n",
      "[2, 3, -1, 3, 7, 3, 9, 14, 9, 10]\n",
      "14\n"
     ]
    }
   ],
   "source": [
    "n = int(input())\n",
    "arr = list(map(int, input().split()))\n",
    "\n",
    "dp = [0] * len(arr)\n",
    "dp[0] = arr[0]\n",
    "\n",
    "for i in range(1, len(arr)):\n",
    "    dp[i] = max(arr[i], dp[i-1] + arr[i])\n",
    "#     print(dp)\n",
    "print(max(dp))"
   ]
  },
  {
   "cell_type": "code",
   "execution_count": null,
   "id": "0ac9732b",
   "metadata": {},
   "outputs": [],
   "source": [
    "# 시간 초과\n",
    "n = int(input())\n",
    "m = list(map(int, input().split()))\n",
    "answer = 0; s = []\n",
    "for j, x in enumerate(m):\n",
    "    tmp , i = 0, j\n",
    "    while i< n:\n",
    "        tmp += m[i]\n",
    "        i +=1\n",
    "        if not s:\n",
    "            s.append(tmp)\n",
    "        elif tmp >= s[0]:\n",
    "            s[0] = tmp\n",
    "print(s[0])"
   ]
  },
  {
   "cell_type": "code",
   "execution_count": null,
   "id": "00875467",
   "metadata": {},
   "outputs": [],
   "source": [
    "import sys\n",
    "n = int(sys.stdin.readline())\n",
    "m = list(map(int, sys.stdin.readline().split()))\n",
    "answer = 0; s = []\n",
    "for j, x in enumerate(m):\n",
    "    tmp , i = 0, j\n",
    "    while i< n:\n",
    "        tmp += m[i]\n",
    "        i +=1\n",
    "        if not s:\n",
    "            s.append(tmp)\n",
    "        elif tmp >= s[0]:\n",
    "            s[0] = tmp\n",
    "print(s[0])"
   ]
  }
 ],
 "metadata": {
  "kernelspec": {
   "display_name": "Python 3",
   "language": "python",
   "name": "python3"
  },
  "language_info": {
   "codemirror_mode": {
    "name": "ipython",
    "version": 3
   },
   "file_extension": ".py",
   "mimetype": "text/x-python",
   "name": "python",
   "nbconvert_exporter": "python",
   "pygments_lexer": "ipython3",
   "version": "3.8.8"
  },
  "toc": {
   "base_numbering": 1,
   "nav_menu": {},
   "number_sections": true,
   "sideBar": true,
   "skip_h1_title": false,
   "title_cell": "Table of Contents",
   "title_sidebar": "Contents",
   "toc_cell": false,
   "toc_position": {},
   "toc_section_display": true,
   "toc_window_display": false
  }
 },
 "nbformat": 4,
 "nbformat_minor": 5
}
