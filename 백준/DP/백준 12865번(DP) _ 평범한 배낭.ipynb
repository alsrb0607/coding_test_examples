{
 "cells": [
  {
   "cell_type": "code",
   "execution_count": 40,
   "id": "8655d8ae",
   "metadata": {},
   "outputs": [
    {
     "name": "stdout",
     "output_type": "stream",
     "text": [
      "3 5\n",
      "1 2\n",
      "6 100\n",
      "2 3\n",
      "5\n"
     ]
    }
   ],
   "source": [
    "a,b = map(int, input().split())\n",
    "dp = [[0 for _ in range(b+1)] for _ in range(a+1)]\n",
    "for i in range(1,a+1):\n",
    "    c,d = map(int, input().split())\n",
    "    for j in range(1,b+1):\n",
    "        if j-c>=0:\n",
    "            dp[i][j] = max(dp[i-1][j],dp[i-1][j-c]+d)\n",
    "        else:\n",
    "            dp[i][j] = dp[i-1][j]\n",
    "print(dp[a][b])"
   ]
  },
  {
   "cell_type": "code",
   "execution_count": 41,
   "id": "f7257a19",
   "metadata": {},
   "outputs": [
    {
     "data": {
      "text/plain": [
       "[[0, 0, 0, 0, 0, 0],\n",
       " [0, 2, 2, 2, 2, 2],\n",
       " [0, 2, 2, 2, 2, 2],\n",
       " [0, 2, 3, 5, 5, 5]]"
      ]
     },
     "execution_count": 41,
     "metadata": {},
     "output_type": "execute_result"
    }
   ],
   "source": [
    "dp"
   ]
  },
  {
   "cell_type": "code",
   "execution_count": null,
   "id": "3d8488eb",
   "metadata": {},
   "outputs": [],
   "source": [
    "a,b = map(int, input().split())\n",
    "# dp 생성, dp[i][j]는 j의 무게 제한에서 i개의 물건을 포함하는 경우 가치의 최댓값을 의미\n",
    "dp = [[0 for _ in range(b+1)] for _ in range(a+1)]\n",
    "# 0개의 물건을 가지는 경우 모두 0이므로 1부터\n",
    "for i in range(1,a+1):\n",
    "    c,d = map(int, input().split())\n",
    "    # 0의 무게 제한을 가지는 경우 모두 0이므로 1부터\n",
    "    for j in range(1,b+1):\n",
    "        # j-c<0인 경우는 존재하지 않으므로 제외\n",
    "        if j-c>=0:\n",
    "            # (i-1)개의 물건을 가졌다가 'c' 무게의 물건을 추가하지 않거나 추가하는 둘 중 하나다.\n",
    "            # 후자의 경우 이전 row에서 (j-c)의 무게를 가졌어야 한다. 즉, (j-c)는 음수이면 안된다.\n",
    "            dp[i][j] = max(dp[i-1][j],dp[i-1][j-c]+d)\n",
    "        else:\n",
    "            dp[i][j] = dp[i-1][j]\n",
    "print(dp[a][b])"
   ]
  }
 ],
 "metadata": {
  "kernelspec": {
   "display_name": "Python 3 (ipykernel)",
   "language": "python",
   "name": "python3"
  },
  "language_info": {
   "codemirror_mode": {
    "name": "ipython",
    "version": 3
   },
   "file_extension": ".py",
   "mimetype": "text/x-python",
   "name": "python",
   "nbconvert_exporter": "python",
   "pygments_lexer": "ipython3",
   "version": "3.8.0"
  },
  "toc": {
   "base_numbering": 1,
   "nav_menu": {},
   "number_sections": true,
   "sideBar": true,
   "skip_h1_title": false,
   "title_cell": "Table of Contents",
   "title_sidebar": "Contents",
   "toc_cell": false,
   "toc_position": {},
   "toc_section_display": true,
   "toc_window_display": false
  }
 },
 "nbformat": 4,
 "nbformat_minor": 5
}
