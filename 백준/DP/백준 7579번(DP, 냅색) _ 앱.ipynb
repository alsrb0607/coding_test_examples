{
 "cells": [
  {
   "cell_type": "code",
   "execution_count": 90,
   "id": "92b8fa7c",
   "metadata": {},
   "outputs": [
    {
     "name": "stdout",
     "output_type": "stream",
     "text": [
      "1 10\n",
      "10\n",
      "1\n"
     ]
    }
   ],
   "source": [
    "n,m = map(int,input().split())\n",
    "memory = list(map(int,input().split()))\n",
    "cost = list(map(int,input().split()))"
   ]
  },
  {
   "cell_type": "code",
   "execution_count": 74,
   "id": "335aad79",
   "metadata": {},
   "outputs": [],
   "source": [
    "def app(n,m,memory,cost):\n",
    "    mc = [(x,y) for x,y in zip(cost,memory)]\n",
    "    mc.sort()\n",
    "\n",
    "    ans = int(1e9)\n",
    "    d = dict({0:0})\n",
    "    for a,b in mc:\n",
    "        dd = d.copy()\n",
    "        for x in dd:\n",
    "            if x+b in d:\n",
    "                d[x+b] = min(d[x+b], d[x]+a)\n",
    "            else:\n",
    "                d[x+b] = d[x]+a\n",
    "            if x+b >= m:\n",
    "                ans = min(ans,d[x+b])\n",
    "    return ans\n",
    "\n",
    "print(app(n,m,memory.copy(),cost.copy()))"
   ]
  },
  {
   "cell_type": "code",
   "execution_count": 92,
   "id": "ad470ffc",
   "metadata": {},
   "outputs": [],
   "source": [
    "k = sum(cost)+1\n",
    "dp = [[0]*k for _ in range(n+1)]\n",
    "def app(n,m,k,memory,cost):\n",
    "    ans = k-1\n",
    "    for i in range(1,n+1):\n",
    "        x,y = memory[i-1], cost[i-1]\n",
    "        for j in range(1,k):\n",
    "            if y <= j:\n",
    "                dp[i][j] = max(dp[i-1][j],dp[i-1][j-y]+x)\n",
    "            else:\n",
    "                dp[i][j] = dp[i-1][j]\n",
    "            if dp[i][j] >= m:\n",
    "                ans = min(ans,j)\n",
    "    return ans"
   ]
  },
  {
   "cell_type": "code",
   "execution_count": 93,
   "id": "1d6badc6",
   "metadata": {},
   "outputs": [
    {
     "data": {
      "text/plain": [
       "1"
      ]
     },
     "execution_count": 93,
     "metadata": {},
     "output_type": "execute_result"
    }
   ],
   "source": [
    "app(n,m,k,memory.copy(),cost.copy())"
   ]
  },
  {
   "cell_type": "code",
   "execution_count": 89,
   "id": "c802aeae",
   "metadata": {},
   "outputs": [
    {
     "data": {
      "text/plain": [
       "[[0], [0]]"
      ]
     },
     "execution_count": 89,
     "metadata": {},
     "output_type": "execute_result"
    }
   ],
   "source": [
    "dp"
   ]
  },
  {
   "cell_type": "code",
   "execution_count": null,
   "id": "70601b9b",
   "metadata": {},
   "outputs": [],
   "source": []
  },
  {
   "cell_type": "code",
   "execution_count": null,
   "id": "6789722f",
   "metadata": {},
   "outputs": [],
   "source": []
  }
 ],
 "metadata": {
  "kernelspec": {
   "display_name": "Python 3 (ipykernel)",
   "language": "python",
   "name": "python3"
  },
  "language_info": {
   "codemirror_mode": {
    "name": "ipython",
    "version": 3
   },
   "file_extension": ".py",
   "mimetype": "text/x-python",
   "name": "python",
   "nbconvert_exporter": "python",
   "pygments_lexer": "ipython3",
   "version": "3.8.0"
  },
  "toc": {
   "base_numbering": 1,
   "nav_menu": {},
   "number_sections": true,
   "sideBar": true,
   "skip_h1_title": false,
   "title_cell": "Table of Contents",
   "title_sidebar": "Contents",
   "toc_cell": false,
   "toc_position": {},
   "toc_section_display": true,
   "toc_window_display": false
  }
 },
 "nbformat": 4,
 "nbformat_minor": 5
}
