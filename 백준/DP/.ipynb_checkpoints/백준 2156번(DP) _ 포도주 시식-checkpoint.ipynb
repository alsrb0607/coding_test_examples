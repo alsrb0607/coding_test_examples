{
 "cells": [
  {
   "cell_type": "code",
   "execution_count": 13,
   "id": "a67107cf",
   "metadata": {},
   "outputs": [
    {
     "name": "stdout",
     "output_type": "stream",
     "text": [
      "6\n",
      "6\n",
      "10\n",
      "13\n",
      "9\n",
      "8\n",
      "1\n",
      "33\n"
     ]
    }
   ],
   "source": [
    "n=int(input())\n",
    "dp=[[0,0,0]]\n",
    "for i in range(1,n+1):\n",
    "    m=int(input())\n",
    "    if i ==1:\n",
    "        dp.append([0,m,0])\n",
    "    else:\n",
    "        dp.append([max(dp[i-1]),max(dp[i-2])+m, dp[i-1][1]+m])\n",
    "print(max(dp[-1]))"
   ]
  },
  {
   "cell_type": "code",
   "execution_count": 14,
   "id": "9286a0da",
   "metadata": {},
   "outputs": [
    {
     "data": {
      "text/plain": [
       "[[0, 0, 0],\n",
       " [0, 6, 0],\n",
       " [6, 10, 16],\n",
       " [16, 19, 23],\n",
       " [23, 25, 28],\n",
       " [28, 31, 33],\n",
       " [33, 29, 32]]"
      ]
     },
     "execution_count": 14,
     "metadata": {},
     "output_type": "execute_result"
    }
   ],
   "source": [
    "dp"
   ]
  },
  {
   "cell_type": "code",
   "execution_count": 15,
   "id": "c116cc00",
   "metadata": {},
   "outputs": [
    {
     "name": "stdout",
     "output_type": "stream",
     "text": [
      "6\n",
      "6\n",
      "10\n",
      "13\n",
      "9\n",
      "8\n",
      "1\n",
      "33\n"
     ]
    }
   ],
   "source": [
    "w=[0]*3;exec('d=int(input());w=w[1]+d,w[2]+d,max(w);'*int(input()));print(max(w))"
   ]
  },
  {
   "cell_type": "code",
   "execution_count": null,
   "id": "96e54d55",
   "metadata": {},
   "outputs": [],
   "source": []
  }
 ],
 "metadata": {
  "kernelspec": {
   "display_name": "Python 3",
   "language": "python",
   "name": "python3"
  },
  "language_info": {
   "codemirror_mode": {
    "name": "ipython",
    "version": 3
   },
   "file_extension": ".py",
   "mimetype": "text/x-python",
   "name": "python",
   "nbconvert_exporter": "python",
   "pygments_lexer": "ipython3",
   "version": "3.8.8"
  },
  "toc": {
   "base_numbering": 1,
   "nav_menu": {},
   "number_sections": true,
   "sideBar": true,
   "skip_h1_title": false,
   "title_cell": "Table of Contents",
   "title_sidebar": "Contents",
   "toc_cell": false,
   "toc_position": {},
   "toc_section_display": true,
   "toc_window_display": false
  }
 },
 "nbformat": 4,
 "nbformat_minor": 5
}
