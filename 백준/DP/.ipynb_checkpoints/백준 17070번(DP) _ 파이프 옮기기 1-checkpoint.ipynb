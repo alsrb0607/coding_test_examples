{
 "cells": [
  {
   "cell_type": "code",
   "execution_count": 27,
   "id": "18eea694",
   "metadata": {},
   "outputs": [
    {
     "name": "stdout",
     "output_type": "stream",
     "text": [
      "6\n",
      "0 0 0 0 0 0\n",
      "0 1 0 0 0 0\n",
      "0 0 0 0 0 0\n",
      "0 0 0 0 0 0\n",
      "0 0 0 0 0 0\n",
      "0 0 0 0 0 0\n"
     ]
    }
   ],
   "source": [
    "n = int(input())\n",
    "g = [list(map(int, input().split())) for _ in range(n)]\n",
    "# 각 셀은 [가로, 세로, 대각]을 의미\n",
    "dp = [[[0]*3 for _ in range(n)] for _ in range(n)]\n",
    "dp[0][1][0] = 1\n",
    "for i in range(n):\n",
    "    for j in range(n):\n",
    "        t1,t2,t3 = 0,0,0\n",
    "        if g[i][j]==0 and (i,j)!=(0,1):\n",
    "            # 가로인 상태로 넘어오는 경우(노란색)\n",
    "            if j>=1:\n",
    "                t1 += (dp[i][j-1][0] + dp[i][j-1][2])\n",
    "            # 세로인 상태로 넘어오는 경우(초록색)\n",
    "            if i>=1:\n",
    "                t2 += (dp[i-1][j][1] + dp[i-1][j][2])\n",
    "            # 대각선인 상태로 넘어오는 경우(파란색)\n",
    "            if i>=1 and j>=1:\n",
    "                if g[i-1][j]!=1 and g[i][j-1]!=1:\n",
    "                    t3 += sum(dp[i-1][j-1])\n",
    "            dp[i][j]=[t1,t2,t3]\n",
    "#         print(dp)\n",
    "print(sum(dp[-1][-1]))"
   ]
  },
  {
   "cell_type": "code",
   "execution_count": null,
   "id": "ae9aaaaf",
   "metadata": {},
   "outputs": [],
   "source": []
  }
 ],
 "metadata": {
  "kernelspec": {
   "display_name": "Python 3 (ipykernel)",
   "language": "python",
   "name": "python3"
  },
  "language_info": {
   "codemirror_mode": {
    "name": "ipython",
    "version": 3
   },
   "file_extension": ".py",
   "mimetype": "text/x-python",
   "name": "python",
   "nbconvert_exporter": "python",
   "pygments_lexer": "ipython3",
   "version": "3.8.0"
  },
  "toc": {
   "base_numbering": 1,
   "nav_menu": {},
   "number_sections": true,
   "sideBar": true,
   "skip_h1_title": false,
   "title_cell": "Table of Contents",
   "title_sidebar": "Contents",
   "toc_cell": false,
   "toc_position": {},
   "toc_section_display": true,
   "toc_window_display": false
  }
 },
 "nbformat": 4,
 "nbformat_minor": 5
}
