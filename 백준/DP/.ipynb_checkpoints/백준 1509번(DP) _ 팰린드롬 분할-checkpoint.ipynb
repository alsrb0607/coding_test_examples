{
 "cells": [
  {
   "cell_type": "code",
   "execution_count": 28,
   "id": "2f592bf9",
   "metadata": {},
   "outputs": [
    {
     "name": "stdout",
     "output_type": "stream",
     "text": [
      "BBCDDECAECBDABADDCEBACCCBDCAABDBADD\n"
     ]
    }
   ],
   "source": [
    "s = ' ' + input()\n",
    "n = len(s) -1\n",
    "\n",
    "dp = [[0]*(n+1) for _ in range(n+1)]\n",
    "ans = list(range(n+1))\n",
    "\n",
    "for i in range(n):\n",
    "    for k in range(1,n+1-i):\n",
    "        if i ==0:\n",
    "            dp[k][k] = 1\n",
    "        elif i==1 and s[k]==s[k+1]:\n",
    "            dp[k][k+1] = 1\n",
    "        else:\n",
    "            if s[k]==s[k+i] and dp[k+1][k+i-1]==1:\n",
    "                dp[k][k+i]=1\n",
    "                \n",
    "for i in range(1, n+1):\n",
    "    ans[i] = min(ans[i], ans[i-1] + 1)\n",
    "    for j in range(i+1, n+1):\n",
    "        if dp[i][j]:\n",
    "            ans[j] = min(ans[j], ans[i-1] + 1)"
   ]
  },
  {
   "cell_type": "code",
   "execution_count": 29,
   "id": "011d21c0",
   "metadata": {},
   "outputs": [
    {
     "data": {
      "text/plain": [
       "[0,\n",
       " 1,\n",
       " 1,\n",
       " 2,\n",
       " 3,\n",
       " 3,\n",
       " 4,\n",
       " 5,\n",
       " 6,\n",
       " 7,\n",
       " 8,\n",
       " 9,\n",
       " 10,\n",
       " 11,\n",
       " 12,\n",
       " 11,\n",
       " 10,\n",
       " 11,\n",
       " 12,\n",
       " 13,\n",
       " 14,\n",
       " 15,\n",
       " 16,\n",
       " 16,\n",
       " 16,\n",
       " 17,\n",
       " 18,\n",
       " 19,\n",
       " 20,\n",
       " 20,\n",
       " 21,\n",
       " 22,\n",
       " 21,\n",
       " 21,\n",
       " 22,\n",
       " 22]"
      ]
     },
     "execution_count": 29,
     "metadata": {},
     "output_type": "execute_result"
    }
   ],
   "source": [
    "ans"
   ]
  },
  {
   "cell_type": "code",
   "execution_count": 23,
   "id": "094a65a0",
   "metadata": {},
   "outputs": [
    {
     "name": "stdout",
     "output_type": "stream",
     "text": [
      "BB\n",
      "CDD\n",
      "E\n",
      "C\n",
      "A\n",
      "E\n",
      "C\n",
      "B\n",
      "DABAD\n",
      "D\n",
      "C\n",
      "E\n",
      "BACC\n",
      "C\n",
      "B\n",
      "D\n",
      "CAA\n",
      "BDB\n",
      "A\n",
      "DD\n"
     ]
    }
   ],
   "source": [
    "i = 1\n",
    "ans = 0\n",
    "while i<n:\n",
    "    print(s[i:i+dp[i]])\n",
    "    i+=dp[i]\n",
    "    ans+=1"
   ]
  },
  {
   "cell_type": "code",
   "execution_count": 11,
   "id": "f53f8864",
   "metadata": {},
   "outputs": [
    {
     "data": {
      "text/plain": [
       "24"
      ]
     },
     "execution_count": 11,
     "metadata": {},
     "output_type": "execute_result"
    }
   ],
   "source": [
    "ans"
   ]
  },
  {
   "cell_type": "code",
   "execution_count": null,
   "id": "22dd7a8e",
   "metadata": {},
   "outputs": [],
   "source": []
  }
 ],
 "metadata": {
  "kernelspec": {
   "display_name": "Python 3 (ipykernel)",
   "language": "python",
   "name": "python3"
  },
  "language_info": {
   "codemirror_mode": {
    "name": "ipython",
    "version": 3
   },
   "file_extension": ".py",
   "mimetype": "text/x-python",
   "name": "python",
   "nbconvert_exporter": "python",
   "pygments_lexer": "ipython3",
   "version": "3.8.0"
  },
  "toc": {
   "base_numbering": 1,
   "nav_menu": {},
   "number_sections": true,
   "sideBar": true,
   "skip_h1_title": false,
   "title_cell": "Table of Contents",
   "title_sidebar": "Contents",
   "toc_cell": false,
   "toc_position": {},
   "toc_section_display": true,
   "toc_window_display": false
  }
 },
 "nbformat": 4,
 "nbformat_minor": 5
}
