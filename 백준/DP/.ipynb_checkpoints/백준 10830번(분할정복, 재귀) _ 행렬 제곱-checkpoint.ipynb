{
 "cells": [
  {
   "cell_type": "code",
   "execution_count": 75,
   "id": "a708ee88",
   "metadata": {},
   "outputs": [
    {
     "name": "stdout",
     "output_type": "stream",
     "text": [
      "2 5\n",
      "1 2\n",
      "3 4\n",
      "69 558\n",
      "337 406\n"
     ]
    }
   ],
   "source": [
    "N,B = map(int,input().split())\n",
    "A = [list(map(int,input().split())) for _ in range(N)]\n",
    "\n",
    "d = dict()\n",
    "def pow_(A,B):\n",
    "    def mul(A,B):\n",
    "        trans_A = [x for x in zip(*B)]\n",
    "        result = []\n",
    "        for x in A:\n",
    "            tmp = []\n",
    "            for y in trans_A:\n",
    "                tmp.append(sum([a*b for a,b in zip(x,y)])%1000)\n",
    "            result.append(tmp)\n",
    "        return result\n",
    "    if B==1:\n",
    "        return A\n",
    "    elif B==2:\n",
    "        return mul(A,A)\n",
    "    elif B%2==0:\n",
    "        if B not in d:\n",
    "            d[B] = mul(pow_(A,B//2),pow_(A,B//2))\n",
    "        return d[B]\n",
    "    elif B%2:\n",
    "        if B not in d:\n",
    "            d[B] = mul(mul(pow_(A,B//2),pow_(A,B//2)), A)\n",
    "        return d[B]\n",
    "\n",
    "for p in pow_(A,B):\n",
    "    print(*map(lambda x: x%1000, p))"
   ]
  },
  {
   "cell_type": "code",
   "execution_count": null,
   "id": "14373547",
   "metadata": {},
   "outputs": [],
   "source": []
  }
 ],
 "metadata": {
  "kernelspec": {
   "display_name": "Python 3 (ipykernel)",
   "language": "python",
   "name": "python3"
  },
  "language_info": {
   "codemirror_mode": {
    "name": "ipython",
    "version": 3
   },
   "file_extension": ".py",
   "mimetype": "text/x-python",
   "name": "python",
   "nbconvert_exporter": "python",
   "pygments_lexer": "ipython3",
   "version": "3.8.0"
  },
  "toc": {
   "base_numbering": 1,
   "nav_menu": {},
   "number_sections": true,
   "sideBar": true,
   "skip_h1_title": false,
   "title_cell": "Table of Contents",
   "title_sidebar": "Contents",
   "toc_cell": false,
   "toc_position": {},
   "toc_section_display": true,
   "toc_window_display": false
  }
 },
 "nbformat": 4,
 "nbformat_minor": 5
}
