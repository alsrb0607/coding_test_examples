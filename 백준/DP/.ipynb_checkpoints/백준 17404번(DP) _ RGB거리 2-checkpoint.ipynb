{
 "cells": [
  {
   "cell_type": "code",
   "execution_count": 68,
   "id": "d914bebd",
   "metadata": {},
   "outputs": [
    {
     "name": "stdout",
     "output_type": "stream",
     "text": [
      "2\n",
      "1 10 1\n",
      "10 1 1\n",
      "2\n"
     ]
    }
   ],
   "source": [
    "n=int(input())\n",
    "t = 10000001\n",
    "dp=[[[0,0,0],[0,0,0],[0,0,0]] for _ in range(n)]\n",
    "a,b,c = map(int, input().split())\n",
    "dp[0][0] = [a]*3 ; dp[0][1] = [b]*3; dp[0][2] = [c]*3\n",
    "a,b,c = map(int, input().split())\n",
    "dp[1][0] = [t,dp[0][1][0]+a,dp[0][2][0]+a]\n",
    "dp[1][1] = [dp[0][0][0]+b,t,dp[0][2][0]+b]\n",
    "dp[1][2] = [dp[0][0][0]+c,dp[0][1][0]+c,t]\n",
    "for k in range(2,n-1):\n",
    "    a,b,c = map(int, input().split())\n",
    "    dp[k][0] = [min(dp[k-1][1][i],dp[k-1][2][i])+a for i in range(3)]\n",
    "    dp[k][1] = [min(dp[k-1][0][i],dp[k-1][2][i])+b for i in range(3)]\n",
    "    dp[k][2] = [min(dp[k-1][1][i],dp[k-1][2][i])+c for i in range(3)]\n",
    "if n>=3:\n",
    "    a,b,c = map(int, input().split())\n",
    "    dp[-1][0] = [min(dp[-2][1][i],dp[-2][2][i])+a for i in range(3) if i!=0]\n",
    "    dp[-1][1] = [min(dp[-2][0][i],dp[-2][2][i])+b for i in range(3) if i!=1]\n",
    "    dp[-1][2] = [min(dp[-2][1][i],dp[-2][2][i])+c for i in range(3) if i!=2]\n",
    "print(min(map(min,dp[-1])))"
   ]
  },
  {
   "cell_type": "code",
   "execution_count": 81,
   "id": "b7953016",
   "metadata": {},
   "outputs": [
    {
     "name": "stdout",
     "output_type": "stream",
     "text": [
      "3\n",
      "26 40 83\n",
      "49 60 57\n",
      "13 89 99\n"
     ]
    },
    {
     "data": {
      "text/plain": [
       "[172, 185, 110, 188, 156, 221]"
      ]
     },
     "execution_count": 81,
     "metadata": {},
     "output_type": "execute_result"
    }
   ],
   "source": [
    "n=int(input())\n",
    "rgb = [list(map(int,input().split())) for _ in range(n)]\n",
    "ans = []\n",
    "for i in range(3):\n",
    "    dp=[[0,0,0] for _ in range(n+1)]\n",
    "    dp[1] = [10000001]*3\n",
    "    dp[1][i] = rgb[0][i]\n",
    "    for k in range(2,n+1):\n",
    "        dp[k] = [min(dp[k-1][1],dp[k-1][2])+rgb[k-1][0],min(dp[k-1][0],dp[k-1][2])+rgb[k-1][1],min(dp[k-1][0],dp[k-1][1])+rgb[k-1][2]]\n",
    "    for k in range(3):\n",
    "        if i!=k:\n",
    "            ans.append(dp[-1][k])\n",
    "print(min(ans))"
   ]
  },
  {
   "cell_type": "code",
   "execution_count": 74,
   "id": "6029cd21",
   "metadata": {},
   "outputs": [
    {
     "data": {
      "text/plain": [
       "[[10, 20, 30],\n",
       " [70, 50, 60],\n",
       " [130, 160, 150],\n",
       " [310, 270, 280],\n",
       " [480, 510, 500],\n",
       " [820, 780, 790]]"
      ]
     },
     "execution_count": 74,
     "metadata": {},
     "output_type": "execute_result"
    }
   ],
   "source": [
    "rgb"
   ]
  },
  {
   "cell_type": "code",
   "execution_count": null,
   "id": "4de8a728",
   "metadata": {},
   "outputs": [],
   "source": []
  }
 ],
 "metadata": {
  "kernelspec": {
   "display_name": "Python 3 (ipykernel)",
   "language": "python",
   "name": "python3"
  },
  "language_info": {
   "codemirror_mode": {
    "name": "ipython",
    "version": 3
   },
   "file_extension": ".py",
   "mimetype": "text/x-python",
   "name": "python",
   "nbconvert_exporter": "python",
   "pygments_lexer": "ipython3",
   "version": "3.8.0"
  },
  "toc": {
   "base_numbering": 1,
   "nav_menu": {},
   "number_sections": true,
   "sideBar": true,
   "skip_h1_title": false,
   "title_cell": "Table of Contents",
   "title_sidebar": "Contents",
   "toc_cell": false,
   "toc_position": {},
   "toc_section_display": true,
   "toc_window_display": false
  }
 },
 "nbformat": 4,
 "nbformat_minor": 5
}
