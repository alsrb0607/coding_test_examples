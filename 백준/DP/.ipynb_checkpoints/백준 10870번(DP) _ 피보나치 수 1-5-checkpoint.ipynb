{
 "cells": [
  {
   "cell_type": "code",
   "execution_count": 3,
   "id": "5b163347",
   "metadata": {},
   "outputs": [
    {
     "name": "stdout",
     "output_type": "stream",
     "text": [
      "10\n",
      "55\n"
     ]
    }
   ],
   "source": [
    "# 재귀로\n",
    "n=int(input())\n",
    "def f(n):\n",
    "    if n==0: return 0\n",
    "    elif n==1: return 1\n",
    "    else: return f(n-1)+f(n-2)\n",
    "print(f(n))"
   ]
  },
  {
   "cell_type": "code",
   "execution_count": 8,
   "id": "49b2f528",
   "metadata": {},
   "outputs": [
    {
     "name": "stdout",
     "output_type": "stream",
     "text": [
      "0\n",
      "0\n"
     ]
    }
   ],
   "source": [
    "# dp로\n",
    "n=int(input())\n",
    "dp = [0,1]\n",
    "for _ in range(n-1):\n",
    "    dp = [dp[1],dp[0]+dp[1]]\n",
    "print(dp[0] if n==0 else dp[1])"
   ]
  },
  {
   "cell_type": "code",
   "execution_count": null,
   "id": "ce0573b3",
   "metadata": {},
   "outputs": [],
   "source": []
  }
 ],
 "metadata": {
  "kernelspec": {
   "display_name": "Python 3",
   "language": "python",
   "name": "python3"
  },
  "language_info": {
   "codemirror_mode": {
    "name": "ipython",
    "version": 3
   },
   "file_extension": ".py",
   "mimetype": "text/x-python",
   "name": "python",
   "nbconvert_exporter": "python",
   "pygments_lexer": "ipython3",
   "version": "3.8.8"
  },
  "toc": {
   "base_numbering": 1,
   "nav_menu": {},
   "number_sections": true,
   "sideBar": true,
   "skip_h1_title": false,
   "title_cell": "Table of Contents",
   "title_sidebar": "Contents",
   "toc_cell": false,
   "toc_position": {},
   "toc_section_display": true,
   "toc_window_display": false
  }
 },
 "nbformat": 4,
 "nbformat_minor": 5
}
