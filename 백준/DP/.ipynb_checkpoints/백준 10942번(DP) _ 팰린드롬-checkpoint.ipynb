{
 "cells": [
  {
   "cell_type": "code",
   "execution_count": 17,
   "id": "5740e4f9",
   "metadata": {},
   "outputs": [
    {
     "name": "stdout",
     "output_type": "stream",
     "text": [
      "7\n",
      "1 2 1 3 1 2 1\n"
     ]
    }
   ],
   "source": [
    "n = int(input())\n",
    "num = [None] + list(map(int,input().split()))\n",
    "\n",
    "dp = [[0]*(n+1) for _ in range(n+1)]\n",
    "\n",
    "for i in range(n):\n",
    "    for k in range(1,n+1-i):\n",
    "        if i ==0:\n",
    "            dp[k][k] = 1\n",
    "        elif i==1 and num[k]==num[k+1]:\n",
    "            dp[k][k+1] = 1\n",
    "        else:\n",
    "            if num[k]==num[k+i] and dp[k+1][k+i-1]==1:\n",
    "                dp[k][k+i]=1\n",
    "            \n",
    "m = int(input())\n",
    "for _ in range(m):\n",
    "    i,j = map(int,input().split())\n",
    "    print(dp[i][j])"
   ]
  },
  {
   "cell_type": "code",
   "execution_count": null,
   "id": "d74882f9",
   "metadata": {},
   "outputs": [],
   "source": []
  }
 ],
 "metadata": {
  "kernelspec": {
   "display_name": "Python 3 (ipykernel)",
   "language": "python",
   "name": "python3"
  },
  "language_info": {
   "codemirror_mode": {
    "name": "ipython",
    "version": 3
   },
   "file_extension": ".py",
   "mimetype": "text/x-python",
   "name": "python",
   "nbconvert_exporter": "python",
   "pygments_lexer": "ipython3",
   "version": "3.8.0"
  },
  "toc": {
   "base_numbering": 1,
   "nav_menu": {},
   "number_sections": true,
   "sideBar": true,
   "skip_h1_title": false,
   "title_cell": "Table of Contents",
   "title_sidebar": "Contents",
   "toc_cell": false,
   "toc_position": {},
   "toc_section_display": true,
   "toc_window_display": false
  }
 },
 "nbformat": 4,
 "nbformat_minor": 5
}
