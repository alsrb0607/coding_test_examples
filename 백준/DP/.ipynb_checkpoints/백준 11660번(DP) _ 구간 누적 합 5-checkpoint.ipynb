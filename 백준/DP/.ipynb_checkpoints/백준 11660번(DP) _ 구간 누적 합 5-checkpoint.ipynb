{
 "cells": [
  {
   "cell_type": "code",
   "execution_count": 19,
   "id": "998f5b7e",
   "metadata": {},
   "outputs": [
    {
     "name": "stdout",
     "output_type": "stream",
     "text": [
      "4 3\n",
      "1 2 3 4\n",
      "2 3 4 5\n",
      "3 4 5 6\n",
      "4 5 6 7\n",
      "2 2 3 4\n",
      "27\n",
      "3 4 3 4\n",
      "6\n",
      "1 1 4 4\n",
      "64\n"
     ]
    }
   ],
   "source": [
    "n,m = map(int,input().split())\n",
    "t = [list(map(int,input().split())) for _ in range(n)]\n",
    "dp = [[0]*n for _ in range(n+1)]\n",
    "tmp = 0\n",
    "for i in range(1,n+1):\n",
    "    for j in range(n):\n",
    "        tmp += t[i-1][j]\n",
    "        dp[i][j] = tmp\n",
    "for _ in range(m):\n",
    "    a,b,c,d = map(int,input().split())\n",
    "    tmp = [dp[k][d-1]-dp[k][b-2] if b>=2 else dp[k][d-1]-dp[k-1][-1] for k in range(a,c+1)]\n",
    "    print(sum(tmp))"
   ]
  },
  {
   "cell_type": "code",
   "execution_count": 17,
   "id": "0a62a23d",
   "metadata": {},
   "outputs": [
    {
     "data": {
      "text/plain": [
       "[0, 14, 18, 22]"
      ]
     },
     "execution_count": 17,
     "metadata": {},
     "output_type": "execute_result"
    }
   ],
   "source": [
    "tmp"
   ]
  },
  {
   "cell_type": "code",
   "execution_count": 20,
   "id": "ed0057c2",
   "metadata": {},
   "outputs": [],
   "source": [
    "from itertools import accumulate"
   ]
  },
  {
   "cell_type": "code",
   "execution_count": 31,
   "id": "14887c57",
   "metadata": {},
   "outputs": [
    {
     "data": {
      "text/plain": [
       "[1, 3, 6, 10, 15]"
      ]
     },
     "execution_count": 31,
     "metadata": {},
     "output_type": "execute_result"
    }
   ],
   "source": [
    "list(accumulate([1,2,3,4,5]))"
   ]
  },
  {
   "cell_type": "code",
   "execution_count": 36,
   "id": "ae40ef63",
   "metadata": {},
   "outputs": [
    {
     "data": {
      "text/plain": [
       "[10, 11, 13, 16, 20, 25]"
      ]
     },
     "execution_count": 36,
     "metadata": {},
     "output_type": "execute_result"
    }
   ],
   "source": [
    "list(accumulate([1,2,3,4,5],initial = 10))"
   ]
  },
  {
   "cell_type": "code",
   "execution_count": 32,
   "id": "442b2b39",
   "metadata": {},
   "outputs": [
    {
     "data": {
      "text/plain": [
       "[1, 2, 6, 24, 120]"
      ]
     },
     "execution_count": 32,
     "metadata": {},
     "output_type": "execute_result"
    }
   ],
   "source": [
    "list(accumulate([1,2,3,4,5], func = lambda x,y: x*y))"
   ]
  },
  {
   "cell_type": "code",
   "execution_count": 28,
   "id": "f0afb27f",
   "metadata": {},
   "outputs": [
    {
     "name": "stdout",
     "output_type": "stream",
     "text": [
      "4 3\n",
      "1 2 3 4\n",
      "2 3 4 5\n",
      "3 4 5 6\n",
      "4 5 6 7\n"
     ]
    }
   ],
   "source": [
    "P=lambda:map(int,input().split())\n",
    "A=lambda x:[*accumulate(x)]\n",
    "n,m=P()\n",
    "a=[[0]*(n+1)]+[*zip(*map(A,zip(*map(A,[[0,*P()]for _ in\" \"*n]))))]"
   ]
  },
  {
   "cell_type": "code",
   "execution_count": 29,
   "id": "131571b6",
   "metadata": {},
   "outputs": [
    {
     "data": {
      "text/plain": [
       "[[0, 0, 0, 0, 0],\n",
       " (0, 1, 3, 6, 10),\n",
       " (0, 3, 8, 15, 24),\n",
       " (0, 6, 15, 27, 42),\n",
       " (0, 10, 24, 42, 64)]"
      ]
     },
     "execution_count": 29,
     "metadata": {},
     "output_type": "execute_result"
    }
   ],
   "source": [
    "a"
   ]
  },
  {
   "cell_type": "code",
   "execution_count": null,
   "id": "18812b2e",
   "metadata": {},
   "outputs": [],
   "source": []
  }
 ],
 "metadata": {
  "kernelspec": {
   "display_name": "Python 3 (ipykernel)",
   "language": "python",
   "name": "python3"
  },
  "language_info": {
   "codemirror_mode": {
    "name": "ipython",
    "version": 3
   },
   "file_extension": ".py",
   "mimetype": "text/x-python",
   "name": "python",
   "nbconvert_exporter": "python",
   "pygments_lexer": "ipython3",
   "version": "3.8.0"
  },
  "toc": {
   "base_numbering": 1,
   "nav_menu": {},
   "number_sections": true,
   "sideBar": true,
   "skip_h1_title": false,
   "title_cell": "Table of Contents",
   "title_sidebar": "Contents",
   "toc_cell": false,
   "toc_position": {},
   "toc_section_display": true,
   "toc_window_display": false
  }
 },
 "nbformat": 4,
 "nbformat_minor": 5
}
