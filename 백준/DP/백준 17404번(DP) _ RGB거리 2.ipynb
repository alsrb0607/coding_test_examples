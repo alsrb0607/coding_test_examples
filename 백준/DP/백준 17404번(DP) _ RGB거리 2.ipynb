{
 "cells": [
  {
   "cell_type": "code",
   "execution_count": 93,
   "id": "d914bebd",
   "metadata": {},
   "outputs": [
    {
     "name": "stdout",
     "output_type": "stream",
     "text": [
      "6\n",
      "10 20 30\n",
      "10 20 30\n",
      "10 20 30\n",
      "10 20 30\n",
      "10 20 30\n",
      "10 20 30\n",
      "90\n"
     ]
    }
   ],
   "source": [
    "n=int(input())\n",
    "t = 100000001\n",
    "dp=[[[0,0,0],[0,0,0],[0,0,0]] for _ in range(n)]\n",
    "r,g,b = map(int, input().split())\n",
    "x,y,z = map(int, input().split())\n",
    "dp[1][0] = [t,g+x,b+x]\n",
    "dp[1][1] = [r+y,t,b+y]\n",
    "dp[1][2] = [r+z,g+z,t]\n",
    "for k in range(2,n):\n",
    "    a,b,c = map(int, input().split())\n",
    "    dp[k][0] = [min(dp[k-1][1][i],dp[k-1][2][i])+a for i in range(3)]\n",
    "    dp[k][1] = [min(dp[k-1][0][i],dp[k-1][2][i])+b for i in range(3)]\n",
    "    dp[k][2] = [min(dp[k-1][0][i],dp[k-1][1][i])+c for i in range(3)]\n",
    "for i in range(3):\n",
    "    dp[-1][i][i] = t\n",
    "print(min(map(min,dp[-1])))"
   ]
  },
  {
   "cell_type": "code",
   "execution_count": 94,
   "id": "5e651384",
   "metadata": {},
   "outputs": [
    {
     "data": {
      "text/plain": [
       "[[[0, 0, 0], [0, 0, 0], [0, 0, 0]],\n",
       " [[100000001, 30, 40], [30, 100000001, 50], [40, 50, 100000001]],\n",
       " [[40, 60, 60], [60, 50, 60], [60, 60, 70]],\n",
       " [[70, 60, 70], [60, 80, 80], [70, 80, 90]],\n",
       " [[70, 90, 90], [90, 80, 90], [90, 90, 100]],\n",
       " [[100000001, 90, 100], [90, 100000001, 110], [100, 110, 100000001]]]"
      ]
     },
     "execution_count": 94,
     "metadata": {},
     "output_type": "execute_result"
    }
   ],
   "source": [
    "dp"
   ]
  },
  {
   "cell_type": "code",
   "execution_count": 87,
   "id": "b7953016",
   "metadata": {},
   "outputs": [
    {
     "name": "stdout",
     "output_type": "stream",
     "text": [
      "3\n",
      "26 40 83\n",
      "49 60 57\n",
      "13 89 99\n",
      "96\n"
     ]
    }
   ],
   "source": [
    "n=int(input())\n",
    "rgb = [list(map(int,input().split())) for _ in range(n)]\n",
    "ans = []\n",
    "for i in range(3):\n",
    "    dp=[[0,0,0] for _ in range(n+1)]\n",
    "    dp[1] = [10000001]*3\n",
    "    dp[1][i] = rgb[0][i]\n",
    "    for k in range(2,n+1):\n",
    "        dp[k] = [min(dp[k-1][1],dp[k-1][2])+rgb[k-1][0],min(dp[k-1][0],dp[k-1][2])+rgb[k-1][1],min(dp[k-1][0],dp[k-1][1])+rgb[k-1][2]]\n",
    "    for k in range(3):\n",
    "        if i!=k:\n",
    "        ans.append(dp[-1][k])\n",
    "print(min(ans))"
   ]
  },
  {
   "cell_type": "code",
   "execution_count": 88,
   "id": "6029cd21",
   "metadata": {},
   "outputs": [
    {
     "data": {
      "text/plain": [
       "[96, 172, 185, 110, 178, 188, 156, 221, 231]"
      ]
     },
     "execution_count": 88,
     "metadata": {},
     "output_type": "execute_result"
    }
   ],
   "source": [
    "ans"
   ]
  },
  {
   "cell_type": "code",
   "execution_count": null,
   "id": "4de8a728",
   "metadata": {},
   "outputs": [],
   "source": []
  }
 ],
 "metadata": {
  "kernelspec": {
   "display_name": "Python 3 (ipykernel)",
   "language": "python",
   "name": "python3"
  },
  "language_info": {
   "codemirror_mode": {
    "name": "ipython",
    "version": 3
   },
   "file_extension": ".py",
   "mimetype": "text/x-python",
   "name": "python",
   "nbconvert_exporter": "python",
   "pygments_lexer": "ipython3",
   "version": "3.8.0"
  },
  "toc": {
   "base_numbering": 1,
   "nav_menu": {},
   "number_sections": true,
   "sideBar": true,
   "skip_h1_title": false,
   "title_cell": "Table of Contents",
   "title_sidebar": "Contents",
   "toc_cell": false,
   "toc_position": {},
   "toc_section_display": true,
   "toc_window_display": false
  }
 },
 "nbformat": 4,
 "nbformat_minor": 5
}
