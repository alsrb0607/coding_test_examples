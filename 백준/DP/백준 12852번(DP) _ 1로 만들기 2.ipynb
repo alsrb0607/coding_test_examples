{
 "cells": [
  {
   "cell_type": "code",
   "execution_count": 14,
   "id": "1b774d80",
   "metadata": {},
   "outputs": [
    {
     "name": "stdout",
     "output_type": "stream",
     "text": [
      "10\n",
      "3\n",
      "10 9 3 1\n"
     ]
    }
   ],
   "source": [
    "n=int(input())\n",
    "dp = [[0,0] for _ in range(n+1)]\n",
    "for i in range(2,n+1):\n",
    "    if i%6==0:\n",
    "        tmp = min(dp[i//3][0], dp[i//2][0], dp[i-1][0])\n",
    "        for x in [i//3,i//2,i-1]:\n",
    "            if dp[x][0]==tmp:\n",
    "                dp[i][1]=x\n",
    "                break\n",
    "        dp[i][0] = tmp +1\n",
    "    elif i%3==0:\n",
    "        dp[i][0] = min(dp[i//3][0], dp[i-1][0]) +1\n",
    "        dp[i][1] = [i//3,i-1][dp[i//3][0]>dp[i-1][0]]\n",
    "    elif i%2==0:\n",
    "        dp[i][0] = min(dp[i//2][0], dp[i-1][0]) +1\n",
    "        dp[i][1] = [i//2,i-1][dp[i//2][0]>dp[i-1][0]]\n",
    "    else:\n",
    "        dp[i][0] = dp[i-1][0]+1\n",
    "        dp[i][1] = i-1\n",
    "print(dp[n][0])\n",
    "tmp = [n]\n",
    "while n!=1:\n",
    "    tmp.append(dp[n][1])\n",
    "    n = dp[n][1]\n",
    "print(*tmp)"
   ]
  },
  {
   "cell_type": "code",
   "execution_count": null,
   "id": "edc0530e",
   "metadata": {},
   "outputs": [],
   "source": []
  }
 ],
 "metadata": {
  "kernelspec": {
   "display_name": "Python 3 (ipykernel)",
   "language": "python",
   "name": "python3"
  },
  "language_info": {
   "codemirror_mode": {
    "name": "ipython",
    "version": 3
   },
   "file_extension": ".py",
   "mimetype": "text/x-python",
   "name": "python",
   "nbconvert_exporter": "python",
   "pygments_lexer": "ipython3",
   "version": "3.8.0"
  },
  "toc": {
   "base_numbering": 1,
   "nav_menu": {},
   "number_sections": true,
   "sideBar": true,
   "skip_h1_title": false,
   "title_cell": "Table of Contents",
   "title_sidebar": "Contents",
   "toc_cell": false,
   "toc_position": {},
   "toc_section_display": true,
   "toc_window_display": false
  }
 },
 "nbformat": 4,
 "nbformat_minor": 5
}
