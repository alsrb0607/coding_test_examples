{
 "cells": [
  {
   "cell_type": "code",
   "execution_count": 80,
   "id": "1bbace98",
   "metadata": {},
   "outputs": [
    {
     "name": "stdout",
     "output_type": "stream",
     "text": [
      "6\n",
      "1 5 6 2 3 4\n"
     ]
    },
    {
     "data": {
      "text/plain": [
       "3"
      ]
     },
     "execution_count": 80,
     "metadata": {},
     "output_type": "execute_result"
    }
   ],
   "source": [
    "# 틀림. 반례: 1 5 6 2 3 4\n",
    "n = int(input())\n",
    "s = list(map(int, input().split()))\n",
    "dp = [1]*n\n",
    "for i in range(n):\n",
    "    cnt = 1\n",
    "    tmp = s[i]\n",
    "    for j in range(i,n):\n",
    "        if tmp <s[j]:\n",
    "            cnt +=1\n",
    "            tmp = s[j]\n",
    "    dp[i] = cnt\n",
    "print(max(dp))\n",
    "    "
   ]
  },
  {
   "cell_type": "code",
   "execution_count": 86,
   "id": "c8fd6c35",
   "metadata": {},
   "outputs": [
    {
     "name": "stdout",
     "output_type": "stream",
     "text": [
      "6\n",
      "1 5 6 2 3 4\n",
      "[1, 1, 1, 1, 1, 1]\n",
      "[1, 2, 1, 1, 1, 1]\n",
      "[1, 2, 3, 1, 1, 1]\n",
      "[1, 2, 3, 2, 1, 1]\n",
      "[1, 2, 3, 2, 3, 1]\n",
      "[1, 2, 3, 2, 3, 4]\n"
     ]
    }
   ],
   "source": [
    "n = int(input())\n",
    "s = list(map(int, input().split()))\n",
    "dp = [1]*n\n",
    "for i in range(n):\n",
    "    for j in range(i):\n",
    "        if s[j] <s[i]:\n",
    "            dp[i] = max(dp[j]+1, dp[i])\n",
    "    print(dp)"
   ]
  },
  {
   "cell_type": "code",
   "execution_count": null,
   "id": "dbf4066a",
   "metadata": {},
   "outputs": [],
   "source": []
  }
 ],
 "metadata": {
  "kernelspec": {
   "display_name": "Python 3 (ipykernel)",
   "language": "python",
   "name": "python3"
  },
  "language_info": {
   "codemirror_mode": {
    "name": "ipython",
    "version": 3
   },
   "file_extension": ".py",
   "mimetype": "text/x-python",
   "name": "python",
   "nbconvert_exporter": "python",
   "pygments_lexer": "ipython3",
   "version": "3.8.0"
  },
  "toc": {
   "base_numbering": 1,
   "nav_menu": {},
   "number_sections": true,
   "sideBar": true,
   "skip_h1_title": false,
   "title_cell": "Table of Contents",
   "title_sidebar": "Contents",
   "toc_cell": false,
   "toc_position": {},
   "toc_section_display": true,
   "toc_window_display": false
  }
 },
 "nbformat": 4,
 "nbformat_minor": 5
}
