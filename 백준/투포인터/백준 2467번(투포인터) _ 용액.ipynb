{
 "cells": [
  {
   "cell_type": "code",
   "execution_count": 32,
   "id": "33371370",
   "metadata": {},
   "outputs": [
    {
     "name": "stdout",
     "output_type": "stream",
     "text": [
      "4\n",
      "-1000 -2 -1 103\n",
      "-2 -1\n"
     ]
    }
   ],
   "source": [
    "n=int(input())\n",
    "s=list(map(int,input().split()))\n",
    "m = 10000000000\n",
    "ans = [0,0]\n",
    "for i in range(n-1):\n",
    "    for j in range(i+1,n):\n",
    "        if (k:=abs(s[i]+s[j]))<m:\n",
    "            m = k\n",
    "            ans[0] = s[i]; ans[1] = s[j]\n",
    "print(*ans)"
   ]
  },
  {
   "cell_type": "code",
   "execution_count": 72,
   "id": "929adfcf",
   "metadata": {},
   "outputs": [
    {
     "name": "stdout",
     "output_type": "stream",
     "text": [
      "7\n",
      "-99 -2 -1 1 98 100 101\n",
      "-1 1\n"
     ]
    }
   ],
   "source": [
    "n=int(input())\n",
    "s=list(map(int,input().split()))\n",
    "i=0;j=n-1\n",
    "ans = [s[i],s[j]]\n",
    "m = abs(sum(ans))\n",
    "while i+1<j:\n",
    "    if abs(s[i+1]+s[j]) <= abs(s[i]+s[j-1]):\n",
    "        i+=1\n",
    "    else:\n",
    "        j-=1\n",
    "    if abs(s[i]+s[j])<m:\n",
    "        ans[0],ans[1] = s[i],s[j]\n",
    "        m = abs(s[i]+s[j])\n",
    "\n",
    "print(*ans)            \n"
   ]
  },
  {
   "cell_type": "code",
   "execution_count": 48,
   "id": "4ed217c7",
   "metadata": {},
   "outputs": [
    {
     "data": {
      "text/plain": [
       "[-1, 103]"
      ]
     },
     "execution_count": 48,
     "metadata": {},
     "output_type": "execute_result"
    }
   ],
   "source": [
    "ans"
   ]
  },
  {
   "cell_type": "code",
   "execution_count": 52,
   "id": "70564621",
   "metadata": {},
   "outputs": [
    {
     "data": {
      "text/plain": [
       "2"
      ]
     },
     "execution_count": 52,
     "metadata": {},
     "output_type": "execute_result"
    }
   ],
   "source": [
    "m"
   ]
  },
  {
   "cell_type": "code",
   "execution_count": 69,
   "id": "0c62d980",
   "metadata": {},
   "outputs": [
    {
     "data": {
      "text/plain": [
       "(2, 3)"
      ]
     },
     "execution_count": 69,
     "metadata": {},
     "output_type": "execute_result"
    }
   ],
   "source": [
    "i,j"
   ]
  },
  {
   "cell_type": "code",
   "execution_count": null,
   "id": "48a802ac",
   "metadata": {},
   "outputs": [],
   "source": []
  }
 ],
 "metadata": {
  "kernelspec": {
   "display_name": "Python 3 (ipykernel)",
   "language": "python",
   "name": "python3"
  },
  "language_info": {
   "codemirror_mode": {
    "name": "ipython",
    "version": 3
   },
   "file_extension": ".py",
   "mimetype": "text/x-python",
   "name": "python",
   "nbconvert_exporter": "python",
   "pygments_lexer": "ipython3",
   "version": "3.8.0"
  },
  "toc": {
   "base_numbering": 1,
   "nav_menu": {},
   "number_sections": true,
   "sideBar": true,
   "skip_h1_title": false,
   "title_cell": "Table of Contents",
   "title_sidebar": "Contents",
   "toc_cell": false,
   "toc_position": {},
   "toc_section_display": true,
   "toc_window_display": false
  }
 },
 "nbformat": 4,
 "nbformat_minor": 5
}
