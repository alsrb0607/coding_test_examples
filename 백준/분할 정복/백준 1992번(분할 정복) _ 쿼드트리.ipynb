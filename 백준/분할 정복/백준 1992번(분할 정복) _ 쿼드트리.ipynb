{
 "cells": [
  {
   "cell_type": "code",
   "execution_count": 56,
   "id": "d2db34f0",
   "metadata": {},
   "outputs": [
    {
     "name": "stdout",
     "output_type": "stream",
     "text": [
      "2\n",
      "10\n",
      "10\n",
      "(1010)\n"
     ]
    }
   ],
   "source": [
    "n=int(input())\n",
    "g=[list(map(int,list(input()))) for _ in range(n)]\n",
    "result=[]\n",
    "def quad(x,y,n,g):\n",
    "    tmp= set()\n",
    "    for i in range(x,x+n):\n",
    "        for j in range(y,y+n):\n",
    "            tmp.add(g[i][j])\n",
    "        if len(tmp)>1: \n",
    "            result.append('(')\n",
    "            quad(x,y,n//2,g);quad(x,y+n//2,n//2,g);quad(x+n//2,y,n//2,g);quad(x+n//2,y+n//2,n//2,g)\n",
    "            result.append(')')\n",
    "            break\n",
    "    if tmp =={0}:\n",
    "        result.append('0')\n",
    "    elif tmp=={1}:\n",
    "        result.append('1')\n",
    "quad(0,0,n,g)\n",
    "print(''.join(result))"
   ]
  },
  {
   "cell_type": "code",
   "execution_count": 53,
   "id": "faf656c0",
   "metadata": {},
   "outputs": [],
   "source": [
    "quad(0,0,n,g)"
   ]
  },
  {
   "cell_type": "code",
   "execution_count": 54,
   "id": "23c9f767",
   "metadata": {},
   "outputs": [
    {
     "data": {
      "text/plain": [
       "'((110(0101))(0010)1(0001))'"
      ]
     },
     "execution_count": 54,
     "metadata": {},
     "output_type": "execute_result"
    }
   ],
   "source": [
    "''.join(result)"
   ]
  },
  {
   "cell_type": "code",
   "execution_count": 10,
   "id": "18911631",
   "metadata": {},
   "outputs": [
    {
     "data": {
      "text/plain": [
       "[[1, 1, 1, 1, 0, 0, 0, 0],\n",
       " [1, 1, 1, 1, 0, 0, 0, 0],\n",
       " [0, 0, 0, 1, 1, 1, 0, 0],\n",
       " [0, 0, 0, 1, 1, 1, 0, 0],\n",
       " [1, 1, 1, 1, 0, 0, 0, 0],\n",
       " [1, 1, 1, 1, 0, 0, 0, 0],\n",
       " [1, 1, 1, 1, 0, 0, 1, 1],\n",
       " [1, 1, 1, 1, 0, 0, 1, 1]]"
      ]
     },
     "execution_count": 10,
     "metadata": {},
     "output_type": "execute_result"
    }
   ],
   "source": [
    "g"
   ]
  },
  {
   "cell_type": "code",
   "execution_count": null,
   "id": "80a6edf3",
   "metadata": {},
   "outputs": [],
   "source": []
  }
 ],
 "metadata": {
  "kernelspec": {
   "display_name": "Python 3",
   "language": "python",
   "name": "python3"
  },
  "language_info": {
   "codemirror_mode": {
    "name": "ipython",
    "version": 3
   },
   "file_extension": ".py",
   "mimetype": "text/x-python",
   "name": "python",
   "nbconvert_exporter": "python",
   "pygments_lexer": "ipython3",
   "version": "3.8.8"
  },
  "toc": {
   "base_numbering": 1,
   "nav_menu": {},
   "number_sections": true,
   "sideBar": true,
   "skip_h1_title": false,
   "title_cell": "Table of Contents",
   "title_sidebar": "Contents",
   "toc_cell": false,
   "toc_position": {},
   "toc_section_display": true,
   "toc_window_display": false
  }
 },
 "nbformat": 4,
 "nbformat_minor": 5
}
