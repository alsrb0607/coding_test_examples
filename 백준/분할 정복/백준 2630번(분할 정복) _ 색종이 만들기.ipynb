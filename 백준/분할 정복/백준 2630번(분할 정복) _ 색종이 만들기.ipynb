{
 "cells": [
  {
   "cell_type": "code",
   "execution_count": 33,
   "id": "81653bdd",
   "metadata": {},
   "outputs": [
    {
     "name": "stdout",
     "output_type": "stream",
     "text": [
      "4\n",
      "1 1 0 0 \n",
      "0 0 1 1\n",
      "0 0 1 1\n",
      "1 1 0 0\n",
      "8\n",
      "8\n"
     ]
    }
   ],
   "source": [
    "n=int(input())\n",
    "g=[]; p=[[0]]; a=[0,0]\n",
    "for _ in range(n): \n",
    "    g+=list(map(int, input().split()))\n",
    "def check(g,start,length,n):\n",
    "    cnt = 0\n",
    "    s = start\n",
    "    for _ in range(length):\n",
    "        cnt += sum(g[s:s+length])\n",
    "        s +=n\n",
    "    if not cnt:\n",
    "        return False\n",
    "    elif cnt==(length**2):\n",
    "        return True\n",
    "    else:\n",
    "        return [start, start+length//2, start+(length//2)*n, start+(length//2)*(n+1)]\n",
    "length = n\n",
    "while True:\n",
    "    start = p.pop(0)\n",
    "    tmp = []\n",
    "    while start:\n",
    "        starts = start.pop(0)\n",
    "        if (r:=check(g,starts,length,n))==True:\n",
    "            a[1] +=1\n",
    "        elif r==False:\n",
    "            a[0] +=1\n",
    "        else:\n",
    "            tmp += r\n",
    "    if tmp:\n",
    "        p.append(tmp)\n",
    "        length//=2\n",
    "    else:\n",
    "        break\n",
    "for x in a:\n",
    "    print(x)"
   ]
  },
  {
   "cell_type": "code",
   "execution_count": 44,
   "id": "2df0d927",
   "metadata": {},
   "outputs": [
    {
     "name": "stdout",
     "output_type": "stream",
     "text": [
      "2 \n",
      "1 0\n",
      "0 1\n",
      "2\n",
      "2\n"
     ]
    }
   ],
   "source": [
    "# 간략화\n",
    "n=int(input())\n",
    "g=[]; p=[0]; a=[0,0]\n",
    "for _ in range(n): \n",
    "    g+=list(map(int, input().split()))\n",
    "def check(g,start,length,n):\n",
    "    cnt = 0\n",
    "    s = start\n",
    "    for _ in range(length):\n",
    "        cnt += sum(g[s:s+length])\n",
    "        s +=n\n",
    "    if not cnt:\n",
    "        return False\n",
    "    elif cnt==(length**2):\n",
    "        return True\n",
    "    else:\n",
    "        return [start, start+length//2, start+(length//2)*n, start+(length//2)*(n+1)]\n",
    "length = n\n",
    "while p:\n",
    "    tmp=[]\n",
    "    for starts in p:\n",
    "        if (r:=check(g,starts,length,n))==True:\n",
    "            a[1] +=1\n",
    "        elif r==False:\n",
    "            a[0] +=1\n",
    "        else:\n",
    "            tmp += r\n",
    "    p = tmp\n",
    "    length//=2\n",
    "print(*a, sep='\\n')"
   ]
  },
  {
   "cell_type": "code",
   "execution_count": null,
   "id": "0bfb91b0",
   "metadata": {},
   "outputs": [],
   "source": []
  }
 ],
 "metadata": {
  "kernelspec": {
   "display_name": "Python 3",
   "language": "python",
   "name": "python3"
  },
  "language_info": {
   "codemirror_mode": {
    "name": "ipython",
    "version": 3
   },
   "file_extension": ".py",
   "mimetype": "text/x-python",
   "name": "python",
   "nbconvert_exporter": "python",
   "pygments_lexer": "ipython3",
   "version": "3.8.8"
  },
  "toc": {
   "base_numbering": 1,
   "nav_menu": {},
   "number_sections": true,
   "sideBar": true,
   "skip_h1_title": false,
   "title_cell": "Table of Contents",
   "title_sidebar": "Contents",
   "toc_cell": false,
   "toc_position": {},
   "toc_section_display": true,
   "toc_window_display": false
  }
 },
 "nbformat": 4,
 "nbformat_minor": 5
}
